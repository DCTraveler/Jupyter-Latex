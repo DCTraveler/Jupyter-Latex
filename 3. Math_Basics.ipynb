{
 "cells": [
  {
   "cell_type": "markdown",
   "metadata": {},
   "source": [
    "[Home](https://www.latex-project.org/)\n",
    "[About](https://www.latex-project.org/about/)\n",
    "[Get](https://www.latex-project.org/get/)\n",
    "[LaTeX3](https://www.latex-project.org/latex3/)\n",
    "[Publications](https://www.latex-project.org/publications/)\n",
    "[Help](https://www.latex-project.org/help/)\n",
    "[News](https://www.latex-project.org/news/)\n",
    "***\n",
    "\n",
    "![Latex Logo](https://www.latex-project.org/img/latex-project-logo.svg)"
   ]
  },
  {
   "cell_type": "markdown",
   "metadata": {},
   "source": [
    "[Jupyter Math Reference](https://jupyter-notebook.readthedocs.io/en/stable/examples/Notebook/Typesetting%20Equations.html)\n",
    "\n",
    "Note: Some equations may not render correctly when viewing with Github's nbviewer. These equations are best when viewed directly served up by a Jupyter Notebook server."
   ]
  },
  {
   "cell_type": "markdown",
   "metadata": {},
   "source": [
    "### Latex Math Equations in a Jupyter Notebook\n",
    "\\begin{align}\n",
    "f(x) = x^2\n",
    "\\end{align}"
   ]
  },
  {
   "cell_type": "markdown",
   "metadata": {},
   "source": [
    "### The Lorenz Equations\n",
    "\\begin{align}\n",
    "\\dot{x} & = \\sigma(y-x) \\\\\n",
    "\\dot{y} & = \\rho x - y - xz \\\\\n",
    "\\dot{z} & = -\\beta z + xy\n",
    "\\end{align}"
   ]
  },
  {
   "cell_type": "markdown",
   "metadata": {},
   "source": [
    "### The Cauchy-Schwarz Inequality\n",
    "\\begin{equation*}\n",
    "\\left( \\sum_{k=1}^n a_k b_k \\right)^2 \\leq \\left( \\sum_{k=1}^n a_k^2 \\right) \\left( \\sum_{k=1}^n b_k^2 \\right)\n",
    "\\end{equation*}"
   ]
  },
  {
   "cell_type": "markdown",
   "metadata": {},
   "source": [
    "### A Cross Product Formula\n",
    "\\begin{equation*}\n",
    "\\mathbf{V}_1 \\times \\mathbf{V}_2 =  \\begin{vmatrix}\n",
    "\\mathbf{i} & \\mathbf{j} & \\mathbf{k} \\\\\n",
    "\\frac{\\partial X}{\\partial u} &  \\frac{\\partial Y}{\\partial u} & 0 \\\\\n",
    "\\frac{\\partial X}{\\partial v} &  \\frac{\\partial Y}{\\partial v} & 0\n",
    "\\end{vmatrix}\n",
    "\\end{equation*}"
   ]
  },
  {
   "cell_type": "markdown",
   "metadata": {},
   "source": [
    "### The probability of getting (k) heads when flipping (n) coins is\n",
    "\\begin{equation*}\n",
    "P(E)   = {n \\choose k} p^k (1-p)^{ n-k}\n",
    "\\end{equation*}"
   ]
  },
  {
   "cell_type": "markdown",
   "metadata": {},
   "source": [
    "### An Identity of Ramanujan\n",
    "\\begin{equation*}\n",
    "\\frac{1}{\\Bigl(\\sqrt{\\phi \\sqrt{5}}-\\phi\\Bigr) e^{\\frac25 \\pi}} =\n",
    "1+\\frac{e^{-2\\pi}} {1+\\frac{e^{-4\\pi}} {1+\\frac{e^{-6\\pi}}\n",
    "{1+\\frac{e^{-8\\pi}} {1+\\ldots} } } }\n",
    "\\end{equation*}"
   ]
  },
  {
   "cell_type": "markdown",
   "metadata": {},
   "source": [
    "### A Rogers-Ramanujan Identity\n",
    "\\begin{equation*}\n",
    "1 +  \\frac{q^2}{(1-q)}+\\frac{q^6}{(1-q)(1-q^2)}+\\cdots =\n",
    "\\prod_{j=0}^{\\infty}\\frac{1}{(1-q^{5j+2})(1-q^{5j+3})},\n",
    "\\quad\\quad \\text{for $|q|<1$}.\n",
    "\\end{equation*}"
   ]
  },
  {
   "cell_type": "markdown",
   "metadata": {},
   "source": [
    "### Maxwell’s Equations\n",
    "\\begin{align}\n",
    "\\nabla \\times \\vec{\\mathbf{B}} -\\, \\frac1c\\, \\frac{\\partial\\vec{\\mathbf{E}}}{\\partial t} & = \\frac{4\\pi}{c}\\vec{\\mathbf{j}} \\\\   \\nabla \\cdot \\vec{\\mathbf{E}} & = 4 \\pi \\rho \\\\\n",
    "\\nabla \\times \\vec{\\mathbf{E}}\\, +\\, \\frac1c\\, \\frac{\\partial\\vec{\\mathbf{B}}}{\\partial t} & = \\vec{\\mathbf{0}} \\\\\n",
    "\\nabla \\cdot \\vec{\\mathbf{B}} & = 0\n",
    "\\end{align}"
   ]
  },
  {
   "cell_type": "markdown",
   "metadata": {},
   "source": [
    "### Sourcing\n",
    "This expression $\\sqrt{3x-1}+(1+x)^2$ is an example of a TeX inline equation in a [Markdown-formatted](https://daringfireball.net/projects/markdown/) sentence."
   ]
  },
  {
   "cell_type": "markdown",
   "metadata": {},
   "source": [
    "### Simple Greek Letter Equation\n",
    "\\begin{equation*}\n",
    "\\forall x \\in X, \\quad \\exists y \\leq \\epsilon\n",
    "\\end{equation*}"
   ]
  },
  {
   "cell_type": "markdown",
   "metadata": {},
   "source": [
    "### Greek Letters\n",
    "\\begin{equation*}\n",
    "\\alpha, A, \\beta, B, \\gamma, \\Gamma, \\pi, \\Pi, \\phi, \\varphi, \\mu, \\Phi\n",
    "\\end{equation*}"
   ]
  },
  {
   "cell_type": "markdown",
   "metadata": {},
   "source": [
    "### Limits\n",
    "\\begin{equation*}\n",
    "\\lim\\limits_{x \\to \\infty} \\exp(-x) = 0\n",
    "\\end{equation*}"
   ]
  },
  {
   "cell_type": "markdown",
   "metadata": {},
   "source": [
    "### Modular arithmetic\n",
    "\\begin{equation*}\n",
    "a \\bmod b \\\\\n",
    "a \\pmod b\n",
    "\\end{equation*}"
   ]
  },
  {
   "cell_type": "markdown",
   "metadata": {},
   "source": [
    "### Powers and indices\n",
    "\\begin{equation*}\n",
    "k_{n+1} = n^2 + k_n^2 - k_{n-1} \\\\\n",
    "\\end{equation*}\n",
    "\n",
    "For powers with more than one digit, surround the power with { }\n",
    "\n",
    "\\begin{equation*}\n",
    "n^{22}\\\\\n",
    "\\end{equation*}\n",
    "\n",
    "An underscore ( _ ) can be used with a vertical bar ( | ) to denote evaluation using subscript notation in mathematics\n",
    "\n",
    "\\begin{equation*}\n",
    "f(n) = n^5 + 4n^2 + 2 |_{n=17}\n",
    "\\end{equation*}\n"
   ]
  },
  {
   "cell_type": "markdown",
   "metadata": {},
   "source": [
    "### Aligning your equations\n",
    "\\begin{equation}\n",
    "\\begin{aligned}\n",
    "F ={} & \\{F_{x} \\in  F_{c} : (|S| > |C|) \\\\\n",
    "      & \\cap (\\mathrm{minPixels}  < |S| < \\mathrm{maxPixels}) \\\\\n",
    "      & \\cap (|S_{\\mathrm{conected}}| > |S| - \\epsilon)\\}\n",
    "\\end{aligned}\n",
    "\\end{equation}"
   ]
  },
  {
   "cell_type": "markdown",
   "metadata": {},
   "source": [
    "### Fractions and Binomials\n",
    "A fraction is created using the \\frac{numerator}{denominator} command. Likewise, the binomial coefficient (aka the Choose function) may be written using the \\binom command:\n",
    "\n",
    "\\begin{equation*}\n",
    "\\frac{n!}{k!(n-k)!} = \\binom{n}{k}\n",
    "\\end{equation*}\n",
    "\n",
    "\n",
    "You can embed fractions within fractions:\n",
    "\n",
    "\\begin{equation*}\n",
    "\\frac{\\frac{1}{x}+\\frac{1}{y}}{y-z}\n",
    "\\end{equation*}"
   ]
  },
  {
   "cell_type": "markdown",
   "metadata": {},
   "source": [
    "### Modular arithmetic\n",
    "\\begin{equation*}\n",
    "x^\\frac{1}{2}\n",
    "\\end{equation*}\n",
    "\n",
    "### Continued Fractions\n",
    "\\begin{equation}\n",
    "  x = a_0 + \\cfrac{1}{a_1 \n",
    "          + \\cfrac{1}{a_2 \n",
    "          + \\cfrac{1}{a_3 + \\cfrac{1}{a_4} } } }\n",
    "\\end{equation}"
   ]
  },
  {
   "cell_type": "markdown",
   "metadata": {},
   "source": [
    "### Multiplication of two numbers\n",
    "To make multiplication visually similar to a fraction, a nested array can be used, for example multiplication of numbers written one below the other.\n",
    "\n",
    "\\begin{equation}\n",
    "\\frac{\n",
    "    \\begin{array}[b]{r}\n",
    "      \\left( x_1 x_2 \\right)\\\\\n",
    "      \\times \\left( x'_1 x'_2 \\right)\n",
    "    \\end{array}\n",
    "  }{\n",
    "    \\left( y_1y_2y_3y_4 \\right)\n",
    "  }\n",
    "\\end{equation}"
   ]
  },
  {
   "cell_type": "markdown",
   "metadata": {},
   "source": [
    "### Roots\n",
    "The \\sqrt command creates a square root surrounding an expression.\n",
    "\n",
    "\\begin{equation}\n",
    "\\sqrt{\\frac{a}{b}}\n",
    "\\end{equation}\n",
    "\n",
    "It accepts an optional argument specified in square brackets ([ and ]) to change magnitude.\n",
    "\n",
    "\\begin{equation}\n",
    "\\sqrt[n]{1+x+x^2+x^3+\\dots+x^n}\n",
    "\\end{equation}\n"
   ]
  },
  {
   "cell_type": "markdown",
   "metadata": {},
   "source": [
    "### Sums and integrals\n",
    "\n",
    "The \\sum and \\int commands insert the sum and integral symbols respectively, with limits specified using the caret (^) and underscore (_). The typical notation for sums is:\n",
    "\n",
    "\\begin{equation}\n",
    "\\sum_{i=1}^{10} t_i\n",
    "\\end{equation}\n",
    "\n",
    "or\n",
    "\n",
    "\\begin{equation}\n",
    "\\displaystyle\\sum_{i=1}^{10} t_i\n",
    "\\end{equation}\n",
    "\n",
    "The limits for the integrals follow the same notation. It's also important to represent the integration variables with an upright d, which in math mode is obtained through the \\mathrm{} command, and with a small space separating it from the integrand, which is attained with the \\, command.\n",
    "\n",
    "\\begin{equation}\n",
    "\\int_0^\\infty \\mathrm{e}^{-x}\\,\\mathrm{d}x\n",
    "\\end{equation}"
   ]
  },
  {
   "cell_type": "markdown",
   "metadata": {},
   "source": [
    "### Summation and Product\n",
    "\n",
    "[Summation](https://en.wikipedia.org/wiki/Summation) is one of the most useful and commonly used symbols in iterative mathematics and data science. Despite it looking seemingly complex, it's quite simple and very useful.\n",
    "\n",
    "Take for instance:\n",
    "\n",
    "\\begin{equation}\n",
    "\\sum_{i}^{n} t_i\n",
    "\\end{equation}\n",
    "\n",
    "Where n is your limit or stopping number and i is your indexing start number (if i=1, you start at 1), you increment the value t until you reach n.\n",
    "\n",
    "\\begin{equation}\n",
    "\\sum_{i=1}^{5} t_i\n",
    "\\end{equation}\n",
    "\n",
    "This equation simply states that we're going to sum the values from 1 to 5. \n",
    "\n",
    "All that this symbol represents is a for loop in the range of the number on top, starting from the number on the bottom. The variable set on the bottom becomes the index variable and any result per loop is added to an overall value. \n",
    "\n",
    "Here is the simple code for it below:"
   ]
  },
  {
   "cell_type": "code",
   "execution_count": 22,
   "metadata": {},
   "outputs": [
    {
     "name": "stdout",
     "output_type": "stream",
     "text": [
      "15\n"
     ]
    }
   ],
   "source": [
    "x = [1, 2, 3, 4, 5]\n",
    "result = 0\n",
    "for i in range(5):\n",
    "    result += x[i]\n",
    "print(result)"
   ]
  },
  {
   "cell_type": "markdown",
   "metadata": {},
   "source": [
    "The Product Operator functions in the same manner, but instead of adding each result they will be multiplied.\n",
    "\n",
    "\\begin{equation}\n",
    "\\prod_{i}^{n} t_i\n",
    "\\end{equation}\n",
    "\n",
    "\\begin{equation}\n",
    "\\prod_{i=1}^{5} t_i\n",
    "\\end{equation}"
   ]
  },
  {
   "cell_type": "code",
   "execution_count": 23,
   "metadata": {},
   "outputs": [
    {
     "name": "stdout",
     "output_type": "stream",
     "text": [
      "120\n"
     ]
    }
   ],
   "source": [
    "x = [1, 2, 3, 4, 5]\n",
    "result = 1\n",
    "for i in range(5):\n",
    "    result *= x[i]\n",
    "print(result)"
   ]
  },
  {
   "cell_type": "markdown",
   "metadata": {},
   "source": [
    "### Factorial\n",
    "\n",
    "In mathematics, the [factorial](https://en.wikipedia.org/wiki/Factorial) of a positive integer n, denoted by n!, is the product of all positive integers less than or equal to n:\n",
    "\n",
    "n! is the product of the natural numbers from 1 to n\n",
    "\n",
    "- $n! = 1 x 2 x 3 x \\dots xn $\n",
    "\n",
    "for instance\n",
    "\n",
    "- $5! = 1x2x3x4x5 = 120$\n",
    "\n",
    "Negative numbers don't have a factorial and 0! = 1\n",
    "\n",
    "- $n! = (n-1)!xn$\n",
    "- $(n+1)! = n!$\n",
    "- $(n+k)!$\n",
    "- $(n-k)!$\n",
    "- $(n+k)! = n!x(n+1)x(n+1)x\\dots x(n+k)$\n",
    "\n",
    "- $(n-k)! = \\frac{n!}{(n-k+1)x(n-k+2)x\\dots x(n-k+k)}$\n",
    "- $(n-k)! = \\frac{n!}{(n-k+1)x(n-k+2)x\\dots xn}$\n",
    "\n",
    "if n > k, then\n",
    "\n",
    "- $ \\frac{n!}{k!} = (k=1) x (k=2) x \\dots xn$\n",
    "\n",
    "so if $n = 7$ and $k = 4$, then\n",
    "\n",
    "- $ \\frac{7!}{4!} = 5 x 6 x 7 $\n",
    "\n",
    "5! coded would look like:"
   ]
  },
  {
   "cell_type": "code",
   "execution_count": 24,
   "metadata": {},
   "outputs": [
    {
     "name": "stdout",
     "output_type": "stream",
     "text": [
      "120\n"
     ]
    }
   ],
   "source": [
    "result = 1\n",
    "for i in range(1,6):\n",
    "    result *= i\n",
    "print(result)"
   ]
  },
  {
   "cell_type": "markdown",
   "metadata": {},
   "source": [
    "### Brackets, braces and delimiters\n",
    "The use of delimiters such as brackets soon becomes important when dealing with anything but the most trivial equations. Without them, formulas can become ambiguous. Also, special types of mathematical structures, such as matrices, typically rely on delimiters to enclose them.\n",
    "\n",
    "There are a variety of delimiters available for use in LaTeX:\n",
    "\\begin{equation}\n",
    "( a ), [ b ], \\{ c \\}, | d |, \\| e \\|,\n",
    "\\langle f \\rangle, \\lfloor g \\rfloor,\n",
    "\\lceil h \\rceil, \\ulcorner i \\urcorner\n",
    "\\end{equation}\n",
    "\n",
    "where \\lbrack and \\rbrack may be used in place of [ and ]."
   ]
  },
  {
   "cell_type": "markdown",
   "metadata": {},
   "source": [
    "### Automatic sizing\n",
    "Very often mathematical features will differ in size, in which case the delimiters surrounding the expression should vary accordingly. This can be done automatically using the \\left, \\right, and \\middle commands. Any of the previous delimiters may be used in combination with these:\n",
    "\n",
    "\\begin{equation}\n",
    "\\left(\\frac{x^2}{y^3}\\right)\n",
    "\\end{equation}\n",
    "\n",
    "\\begin{equation}\n",
    "P\\left(A=2\\middle|\\frac{A^2}{B}>4\\right)\n",
    "\\end{equation}\n",
    "\n",
    "Curly braces are defined differently by using \\left\\{ and \\right\\},\n",
    "\n",
    "\\begin{equation}\n",
    "\\left\\{\\frac{x^2}{y^3}\\right\\}\n",
    "\\end{equation}\n",
    "\n",
    "If a delimiter on only one side of an expression is required, then an invisible delimiter on the other side may be denoted using a period (.).\n",
    "\n",
    "\\begin{equation}\n",
    "\\left.\\frac{x^3}{3}\\right|_0^1\n",
    "\\end{equation}"
   ]
  },
  {
   "cell_type": "markdown",
   "metadata": {},
   "source": [
    "### Manual sizing\n",
    "In certain cases, the sizing produced by the \\left and \\right commands may not be desirable, or you may simply want finer control over the delimiter sizes. In this case, the \\big, \\Big, \\bigg and \\Bigg modifier commands may be used:\n",
    "\n",
    "\\begin{equation}\n",
    "( \\big( \\Big( \\bigg( \\Bigg(\n",
    "\\end{equation}\n",
    "\n",
    "These commands are primarily useful when dealing with nested delimiters. For example, when typesetting\n",
    "\n",
    "\\begin{equation}\n",
    "\\frac{\\mathrm d}{\\mathrm d x} \\left( k g(x) \\right)\n",
    "\\end{equation}\n",
    "\n",
    "we notice that the \\left and \\right commands produce the same size delimiters as those nested within it. This can be difficult to read. To fix this, we write\n",
    "\n",
    "\\begin{equation}\n",
    "\\frac{\\mathrm d}{\\mathrm d x} \\big( k g(x) \\big)\n",
    "\\end{equation}\n",
    "\n",
    "Manual sizing can also be useful when an equation is too large, trails off the end of the page, and must be separated into two lines using an align command. Although the commands \\left. and \\right. can be used to balance the delimiters on each line, this may lead to wrong delimiter sizes. Furthermore, manual sizing can be used to avoid overly large delimiters if an \\underbrace or a similar command appears between the delimiters."
   ]
  },
  {
   "cell_type": "markdown",
   "metadata": {},
   "source": [
    "### Matrices and arrays\n",
    "A basic matrix may be created using the matrix environment: in common with other table-like structures, entries are specified by row, with columns separated using an ampersand (&) and a new rows separated with a double backslash (\\\\)\n",
    "\n",
    "\\begin{equation}\n",
    " \\begin{matrix}\n",
    "  a & b & c \\\\\n",
    "  d & e & f \\\\\n",
    "  g & h & i\n",
    " \\end{matrix}\n",
    "\\end{equation}\n",
    "\n",
    "When writing down arbitrary sized matrices, it is common to use horizontal, vertical and diagonal triplets of dots (known as ellipses) to fill in certain columns and rows. These can be specified using the \\cdots, \\vdots and \\ddots respectively:\n",
    "\n",
    "\\begin{equation}\n",
    "A_{m,n} = \n",
    " \\begin{pmatrix}\n",
    "  a_{1,1} & a_{1,2} & \\cdots & a_{1,n} \\\\\n",
    "  a_{2,1} & a_{2,2} & \\cdots & a_{2,n} \\\\\n",
    "  \\vdots  & \\vdots  & \\ddots & \\vdots  \\\\\n",
    "  a_{m,1} & a_{m,2} & \\cdots & a_{m,n} \n",
    " \\end{pmatrix}\n",
    "\\end{equation}\n",
    "\n",
    "In some cases you may want to have finer control of the alignment within each column, or want to insert lines between columns or rows. This can be achieved using the array environment, which is essentially a math-mode version of the tabular environment, which requires that the columns be pre-specified:\n",
    "\n",
    "\\begin{equation}\n",
    " \\begin{array}{c|c}\n",
    "  1 & 2 \\\\ \n",
    "  \\hline\n",
    "  3 & 4\n",
    " \\end{array}\n",
    "\\end{equation}\n",
    "\n",
    "You may see that the AMS matrix class of environments doesn't leave enough space when used together with fractions resulting in output similar to this:\n",
    "\n",
    "\\begin{equation}\n",
    " M = \\begin{bmatrix}\n",
    "       \\frac{5}{6} & \\frac{1}{6} & 0           \\\\[0.3em]\n",
    "       \\frac{5}{6} & 0           & \\frac{1}{6} \\\\[0.3em]\n",
    "       0           & \\frac{5}{6} & \\frac{1}{6}\n",
    "     \\end{bmatrix}\n",
    "\\end{equation}"
   ]
  },
  {
   "cell_type": "markdown",
   "metadata": {},
   "source": [
    "### Matrices in running text\n",
    "To insert a small matrix, and not increase leading in the line containing it, use smallmatrix environment:\n",
    "\n",
    "A matrix in text must be set smaller:\n",
    "$\\bigl(\\begin{smallmatrix}\n",
    "a&b \\\\ c&d\n",
    "\\end{smallmatrix} \\bigr)$\n",
    "to not increase leading in a portion of text."
   ]
  },
  {
   "cell_type": "markdown",
   "metadata": {},
   "source": [
    "### Adding text to equations\n",
    "The math environment differs from the text environment in the representation of text. Here is an example of trying to represent text within the math environment:\n",
    "\\begin{equation}\n",
    "50 apples \\times 100 apples = lots of apples^2\n",
    "\\end{equation}\n",
    "\n",
    "There are two noticeable problems: there are no spaces between words or numbers, and the letters are italicized and more spaced out than normal. Both issues are simply artifacts of the maths mode, in that it treats it as a mathematical expression: spaces are ignored (LaTeX spaces mathematics according to its own rules), and each character is a separate element (so are not positioned as closely as normal text).\n",
    "\n",
    "There are a number of ways that text can be added properly. The typical way is to wrap the text with the \\text{...} command (a similar command is \\mbox{...}, though this causes problems with subscripts, and has a less descriptive name). Let's see what happens when the above equation code is adapted:\n",
    "\n",
    "\\begin{equation}\n",
    "50 \\text{apples} \\times 100 \\text{apples} = \\text{lots of apples}^2\n",
    "\\end{equation}\n",
    "\n",
    "The text looks better. However, there are no gaps between the numbers and the words. Unfortunately, you are required to explicitly add these. There are many ways to add spaces between maths elements, but for the sake of simplicity we may simply insert space characters into the \\text commands.\n",
    " \n",
    "\\begin{equation}\n",
    "50 \\text{ apples} \\times 100 \\text{ apples} = \\text{lots of apples}^2\n",
    "\\end{equation}"
   ]
  },
  {
   "cell_type": "markdown",
   "metadata": {},
   "source": [
    "### Formatted text\n",
    "Using the \\text is fine and gets the basic result. Yet, there is an alternative that offers a little more flexibility. You may recall the introduction of font formatting commands, such as \\textrm, \\textit, \\textbf, etc. These commands format the argument accordingly, e.g., \\textbf{bold text} gives bold text. These commands are equally valid within a maths environment to include text. The added benefit here is that you can have better control over the font formatting, rather than the standard text achieved with \\text.\n",
    "\\begin{equation}\n",
    "50 \\textrm{ apples} \\times 100\n",
    " \\textbf{ apples} = \\textit{lots of apples}^2\n",
    "\\end{equation}"
   ]
  },
  {
   "cell_type": "markdown",
   "metadata": {},
   "source": [
    "### Formatting mathematics symbols\n",
    "\n",
    "These formatting commands can be wrapped around the entire equation, and not just on the textual elements: they only format letters, numbers, and uppercase Greek, and other math commands are unaffected.\n",
    "\n",
    "To bold lowercase Greek or other symbols use the \\boldsymbol command; this will only work if there exists a bold version of the symbol in the current font. As a last resort there is the \\pmb command (poor man's bold): this prints multiple versions of the character slightly offset against each other.\n",
    "\n",
    "\\begin{equation}\n",
    "\\boldsymbol{\\beta} = (\\beta_1,\\beta_2,\\dotsc,\\beta_n)\n",
    "\\end{equation}\n",
    "\n",
    "To change the size of the fonts in math mode, see Changing font size."
   ]
  },
  {
   "cell_type": "markdown",
   "metadata": {},
   "source": [
    "### Accents\n",
    "So what to do when you run out of symbols and fonts? Well, the next step is to use accents:\n",
    "\n",
    "\\begin{equation}\n",
    "a'  a'' \\hat{a} \\bar{a} \\grave{a} \\acute{a} \\dot{a}\t\\ddot{a} \\not{a} \\mathring{a}\t\n",
    "\\overrightarrow{AB}\t \\overleftarrow{AB}\ta''' a''''\t\\overline{aaa}\t\\check{a} \\breve{a}\t\\vec{a}\t\\dddot{a}\t\t\\ddddot{a}\t\\widehat{AAA} \\widetilde{AAA} \\stackrel\\frown{AAA}\t\\tilde{a}\t\\underline{a} \n",
    "\\end{equation}"
   ]
  },
  {
   "cell_type": "markdown",
   "metadata": {},
   "source": [
    "### Color\n",
    "The package xcolor, described in Colors, allows us to add color to our equations. \n",
    "\n",
    "\\begin{equation}\n",
    "k = {\\color{red}x} \\mathbin{\\color{blue}-} 2\n",
    "\\end{equation}"
   ]
  },
  {
   "cell_type": "markdown",
   "metadata": {},
   "source": [
    "### Plus and minus signs\n",
    "\n",
    "LaTeX deals with the + and − signs in two possible ways. The most common is as a binary operator. When two maths elements appear on either side of the sign, it is assumed to be a binary operator, and as such, allocates some space to either side of the sign. The alternative way is a sign designation. This is when you state whether a mathematical quantity is either positive or negative. This is common for the latter, as in math, such elements are assumed to be positive unless a − is prefixed to it. In this instance, you want the sign to appear close to the appropriate element to show their association. If you put a + or a − with nothing before it but you want it to be handled like a binary operator you can add an invisible character before the operator using {}. This can be useful if you are writing multiple-line formulas, and a new line could start with a − or +, for example, then you can fix some strange alignments adding the invisible character where necessary.\n",
    "\n",
    "A plus-minus sign is written as:\n",
    "\\begin{equation}\n",
    "\\pm\n",
    "\\end{equation}\n",
    "\n",
    "\n",
    "Similarly, there exists also a minus-plus sign:\n",
    "\n",
    "\\begin{equation}\n",
    "\\mp\n",
    "\\end{equation}"
   ]
  },
  {
   "cell_type": "markdown",
   "metadata": {},
   "source": [
    "### Controlling horizontal spacing\n",
    "LaTeX is obviously pretty good at typesetting maths—it was one of the chief aims of the core TeX system that LaTeX extends. However, it can't always be relied upon to accurately interpret formulas in the way you did. It has to make certain assumptions when there are ambiguous expressions. The result tends to be slightly incorrect horizontal spacing. In these events, the output is still satisfactory, yet any perfectionists will no doubt wish to fine-tune their formulas to ensure spacing is correct. These are generally very subtle adjustments.\n",
    "\n",
    "There are other occasions where LaTeX has done its job correctly, but you just want to add some space, maybe to add a comment of some kind. For example, in the following equation, it is preferable to ensure there is a decent amount of space between the maths and the text.\n",
    "\n",
    "\\begin{equation}\n",
    " f(n) =\n",
    "  \\begin{cases}\n",
    "    n/2       & \\quad \\text{if } n \\text{ is even}\\\\\n",
    "    -(n+1)/2  & \\quad \\text{if } n \\text{ is odd}\n",
    "  \\end{cases}\n",
    "\\end{equation}\n",
    "\n",
    "\n",
    "OK, so back to the fine tuning as mentioned at the beginning of the document. A good example would be displaying the simple equation for the indefinite integral of y with respect to x:\n",
    "if you were to try this, you may write:\n",
    "\n",
    "\\begin{equation}\n",
    "\\int y \\mathrm{d}x\n",
    "\\end{equation}\n",
    "\n",
    "However, this doesn't give the correct result. LaTeX doesn't respect the white-space left in the code to signify that the y and the dx are independent entities. Instead, it lumps them altogether. A \\quad would clearly be overkill in this situation—what is needed are some small spaces to be utilized in this type of instance, and that's what LaTeX provides:\n",
    "\n",
    "\\begin{equation}\n",
    "\\int y\\, \\mathrm{d}x\n",
    "\\end{equation}\n",
    "\n",
    "\\begin{equation}\n",
    "\\int y\\: \\mathrm{d}x\n",
    "\\end{equation}\n",
    "\n",
    "\\begin{equation}\n",
    "\\int y\\; \\mathrm{d}x\n",
    "\\end{equation}\n",
    "\n",
    "The negative space may seem like an odd thing to use, however, it wouldn't be there if it didn't have some use! Take the following example:\n",
    "\n",
    "\\begin{equation}\n",
    "\\left(\n",
    "    \\begin{array}{c}\n",
    "      n \\\\\n",
    "      r\n",
    "    \\end{array}\n",
    "  \\right) = \\frac{n!}{r!(n-r)!}\n",
    "\\end{equation}\n",
    "\n",
    "The matrix-like expression for representing binomial coefficients is too padded. There is too much space between the brackets and the actual contents within. This can easily be corrected by adding a few negative spaces after the left bracket and before the right bracket.\n",
    "\n",
    "\\begin{equation}\n",
    "\\left(\\!\n",
    "    \\begin{array}{c}\n",
    "      n \\\\\n",
    "      r\n",
    "    \\end{array}\n",
    "  \\!\\right) = \\frac{n!}{r!(n-r)!}\n",
    "\\end{equation}\n",
    "\n",
    "n any case, adding some spaces manually should be avoided whenever possible: it makes the source code more complex and it's against the basic principles of a What You See is What You Mean approach. The best thing to do is to define some commands using all the spaces you want and then, when you use your command, you don't have to add any other space. Later, if you change your mind about the length of the horizontal space, you can easily change it modifying only the command you defined before. Let us use an example: you want the d of a dx in an integral to be in roman font and a small space away from the rest. If you want to type an integral like \\int x \\, \\mathrm{d} x, you can define a command like this:\n",
    "\n",
    "\n",
    "\\newcommand{\\dd}{\\mathop{}\\,\\mathrm{d}}\n",
    "\n",
    "\n",
    "in the preamble of your document. We have chosen \\dd just because it reminds the \"d\" it replaces and it is fast to type. Doing so, the code for your integral becomes \\int x \\dd x. Now, whenever you write an integral, you just have to use the \\dd instead of the \"d\", and all your integrals will have the same style. If you change your mind, you just have to change the definition in the preamble, and all your integrals will be changed accordingly.\n",
    "\n",
    "[Source](https://en.wikibooks.org/wiki/LaTeX/Mathematics)"
   ]
  },
  {
   "cell_type": "markdown",
   "metadata": {},
   "source": [
    "## Mean, Median, Mode\n",
    "\n",
    "Mean, median, and mode are different measures of center in a numerical data set. They each try to summarize a dataset with a single number to represent a \"typical\" data point from the dataset.\n",
    "\n",
    "__Mean__ The \"average\" number found by adding all data points and dividing by the number of data points.\n",
    "\n",
    "To get the mean\n",
    "\n",
    "\\begin{equation}\n",
    "\\bar{y} = \\frac{\\sum\\nolimits y}{N}\n",
    "\\end{equation}\n",
    "\n",
    "- $\\sum\\nolimits y$ Take all the values and add them up\n",
    "- divide by the total number of observations you have\n",
    "\n",
    "\n",
    "__Median__ The middle number found by ordering all data points and picking out the one in the middle (or if there are two middle numbers, taking the mean of those two numbers).\n",
    "\n",
    "\n",
    "To get the median\n",
    "\n",
    "\\begin{equation}\n",
    "y = \\tilde{x}\n",
    "\\end{equation}\n",
    "\n",
    "$ y = [1,2,3,4,4,3,2,1] $\n",
    "\n",
    "$ y = 4 $\n",
    "\n",
    "\n",
    "The __mode__ is the most commonly occurring data point in a dataset. The mode is useful when there are a lot of repeated values in a dataset. There can be no mode, one mode, or multiple modes in a dataset."
   ]
  },
  {
   "cell_type": "markdown",
   "metadata": {},
   "source": [
    "## Standard Deviation\n",
    "\n",
    "__Standard deviation__ is a number used to tell how measurements for a group are spread out from the average (mean), or expected value. A low standard deviation means that most of the numbers are close to the average. A high standard deviation means that the numbers are more spread out.\n",
    "\n",
    "$s = \\sqrt{\\frac{1}{N-1} \\sum_{i=1}^N (x_i - \\overline{x})^2}$\n"
   ]
  },
  {
   "cell_type": "markdown",
   "metadata": {},
   "source": [
    "## Variance\n",
    "\n",
    "The __Variance__ is defined as: The average of the squared differences from the Mean. To calculate the variance follow these steps: Find the __Mean__, Then for each number: subtract the __Mean__ and square the result (the squared difference).\n",
    "\n",
    "$\\sigma^2 = \\frac{\\displaystyle\\sum_{i=1}^{n}(x_i - \\mu)^2} {n}$"
   ]
  },
  {
   "cell_type": "markdown",
   "metadata": {},
   "source": [
    "## What is RMSE\n",
    "\n",
    " $RMSE = \\sqrt{\\frac{1}{n}\\Sigma_{i=1}^{n}{\\Big(\\frac{d_i -f_i}{\\sigma_i}\\Big)^2}}$\n",
    " \n",
    " \n",
    " ## Root mean squared error (RMSE)\n",
    "RMSE is a quadratic scoring rule that also measures the average magnitude of the error. It’s the square root of the average squared differences between prediction and actual observation. \n",
    "\n",
    " $RMSE = \\sqrt{\\frac{1}{n}\\Sigma_{i=1}^{n}{\\Big(\\frac{d_i -f_i}{\\sigma_i}\\Big)^2}}$\n",
    " \n",
    " we get this easy from sklearn:\n",
    "\n",
    "```python\n",
    "from sklearn.metrics import mean_squared_error\n",
    "from math import sqrt\n",
    "rmse = sqrt(mean_squared_error(y_actual, y_predicted))\n",
    "print(rmse)\n",
    "\n",
    "# another way\n",
    "n = len(predictions)\n",
    "rmse = np.linalg.norm(predictions - targets) / np.sqrt(n)\n",
    "\n",
    "# and another way\n",
    "from sklearn.metrics import mean_squared_error\n",
    "from math import sqrt\n",
    "expected = [0.0, 0.5, 0.0, 0.5, 0.0]\n",
    "predictions = [0.2, 0.4, 0.1, 0.6, 0.2]\n",
    "mse = mean_squared_error(expected, predictions)\n",
    "rmse = sqrt(mse)\n",
    "print('RMSE: %f' % rmse)\n",
    "\n",
    "```\n",
    "The mean square root and square root of it will be useful.\n"
   ]
  },
  {
   "cell_type": "code",
   "execution_count": 25,
   "metadata": {},
   "outputs": [
    {
     "name": "stdout",
     "output_type": "stream",
     "text": [
      "RMSE: 0.148324\n"
     ]
    }
   ],
   "source": [
    "from sklearn.metrics import mean_squared_error\n",
    "from math import sqrt\n",
    "expected = [0.0, 0.5, 0.0, 0.5, 0.0]\n",
    "predictions = [0.2, 0.4, 0.1, 0.6, 0.2]\n",
    "mse = mean_squared_error(expected, predictions)\n",
    "rmse = sqrt(mse)\n",
    "print('RMSE: %f' % rmse)"
   ]
  },
  {
   "cell_type": "code",
   "execution_count": null,
   "metadata": {},
   "outputs": [],
   "source": []
  }
 ],
 "metadata": {
  "kernelspec": {
   "display_name": "Python 3",
   "language": "python",
   "name": "python3"
  },
  "language_info": {
   "codemirror_mode": {
    "name": "ipython",
    "version": 3
   },
   "file_extension": ".py",
   "mimetype": "text/x-python",
   "name": "python",
   "nbconvert_exporter": "python",
   "pygments_lexer": "ipython3",
   "version": "3.7.4"
  }
 },
 "nbformat": 4,
 "nbformat_minor": 2
}
