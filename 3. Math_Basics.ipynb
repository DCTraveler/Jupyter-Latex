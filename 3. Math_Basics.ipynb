{
 "cells": [
  {
   "cell_type": "markdown",
   "metadata": {},
   "source": [
    "[Home](https://www.latex-project.org/)\n",
    "[About](https://www.latex-project.org/about/)\n",
    "[Get](https://www.latex-project.org/get/)\n",
    "[LaTeX3](https://www.latex-project.org/latex3/)\n",
    "[Publications](https://www.latex-project.org/publications/)\n",
    "[Help](https://www.latex-project.org/help/)\n",
    "[News](https://www.latex-project.org/news/)\n",
    "***\n",
    "\n",
    "![Latex Logo](https://www.latex-project.org/img/latex-project-logo.svg)"
   ]
  },
  {
   "cell_type": "markdown",
   "metadata": {},
   "source": [
    "[Jupyter Math Reference](https://jupyter-notebook.readthedocs.io/en/stable/examples/Notebook/Typesetting%20Equations.html)"
   ]
  },
  {
   "cell_type": "markdown",
   "metadata": {},
   "source": [
    "### Latex Math Equations in a Jupyter Notebook\n",
    "\\begin{align}\n",
    "f(x) = x^2\n",
    "\\end{align}"
   ]
  },
  {
   "cell_type": "markdown",
   "metadata": {},
   "source": [
    "### The Lorenz Equations\n",
    "\\begin{align}\n",
    "\\dot{x} & = \\sigma(y-x) \\\\\n",
    "\\dot{y} & = \\rho x - y - xz \\\\\n",
    "\\dot{z} & = -\\beta z + xy\n",
    "\\end{align}"
   ]
  },
  {
   "cell_type": "markdown",
   "metadata": {},
   "source": [
    "### The Cauchy-Schwarz Inequality\n",
    "\\begin{equation*}\n",
    "\\left( \\sum_{k=1}^n a_k b_k \\right)^2 \\leq \\left( \\sum_{k=1}^n a_k^2 \\right) \\left( \\sum_{k=1}^n b_k^2 \\right)\n",
    "\\end{equation*}"
   ]
  },
  {
   "cell_type": "markdown",
   "metadata": {},
   "source": [
    "### A Cross Product Formula\n",
    "\\begin{equation*}\n",
    "\\mathbf{V}_1 \\times \\mathbf{V}_2 =  \\begin{vmatrix}\n",
    "\\mathbf{i} & \\mathbf{j} & \\mathbf{k} \\\\\n",
    "\\frac{\\partial X}{\\partial u} &  \\frac{\\partial Y}{\\partial u} & 0 \\\\\n",
    "\\frac{\\partial X}{\\partial v} &  \\frac{\\partial Y}{\\partial v} & 0\n",
    "\\end{vmatrix}\n",
    "\\end{equation*}"
   ]
  },
  {
   "cell_type": "markdown",
   "metadata": {},
   "source": [
    "### The probability of getting (k) heads when flipping (n) coins is\n",
    "\\begin{equation*}\n",
    "P(E)   = {n \\choose k} p^k (1-p)^{ n-k}\n",
    "\\end{equation*}"
   ]
  },
  {
   "cell_type": "markdown",
   "metadata": {},
   "source": [
    "### An Identity of Ramanujan\n",
    "\\begin{equation*}\n",
    "\\frac{1}{\\Bigl(\\sqrt{\\phi \\sqrt{5}}-\\phi\\Bigr) e^{\\frac25 \\pi}} =\n",
    "1+\\frac{e^{-2\\pi}} {1+\\frac{e^{-4\\pi}} {1+\\frac{e^{-6\\pi}}\n",
    "{1+\\frac{e^{-8\\pi}} {1+\\ldots} } } }\n",
    "\\end{equation*}"
   ]
  },
  {
   "cell_type": "markdown",
   "metadata": {},
   "source": [
    "### A Rogers-Ramanujan Identity\n",
    "\\begin{equation*}\n",
    "1 +  \\frac{q^2}{(1-q)}+\\frac{q^6}{(1-q)(1-q^2)}+\\cdots =\n",
    "\\prod_{j=0}^{\\infty}\\frac{1}{(1-q^{5j+2})(1-q^{5j+3})},\n",
    "\\quad\\quad \\text{for $|q|<1$}.\n",
    "\\end{equation*}"
   ]
  },
  {
   "cell_type": "markdown",
   "metadata": {},
   "source": [
    "### Maxwell’s Equations\n",
    "\\begin{align}\n",
    "\\nabla \\times \\vec{\\mathbf{B}} -\\, \\frac1c\\, \\frac{\\partial\\vec{\\mathbf{E}}}{\\partial t} & = \\frac{4\\pi}{c}\\vec{\\mathbf{j}} \\\\   \\nabla \\cdot \\vec{\\mathbf{E}} & = 4 \\pi \\rho \\\\\n",
    "\\nabla \\times \\vec{\\mathbf{E}}\\, +\\, \\frac1c\\, \\frac{\\partial\\vec{\\mathbf{B}}}{\\partial t} & = \\vec{\\mathbf{0}} \\\\\n",
    "\\nabla \\cdot \\vec{\\mathbf{B}} & = 0\n",
    "\\end{align}"
   ]
  },
  {
   "cell_type": "markdown",
   "metadata": {},
   "source": [
    "### Sourcing\n",
    "This expression $\\sqrt{3x-1}+(1+x)^2$ is an example of a TeX inline equation in a [Markdown-formatted](https://daringfireball.net/projects/markdown/) sentence."
   ]
  },
  {
   "cell_type": "markdown",
   "metadata": {},
   "source": [
    "### Simple Greek Letter Equation\n",
    "\\begin{equation*}\n",
    "\\forall x \\in X, \\quad \\exists y \\leq \\epsilon\n",
    "\\end{equation*}"
   ]
  },
  {
   "cell_type": "markdown",
   "metadata": {},
   "source": [
    "### Greek Letters\n",
    "\\begin{equation*}\n",
    "\\alpha, A, \\beta, B, \\gamma, \\Gamma, \\pi, \\Pi, \\phi, \\varphi, \\mu, \\Phi\n",
    "\\end{equation*}"
   ]
  },
  {
   "cell_type": "markdown",
   "metadata": {},
   "source": [
    "### Limits\n",
    "\\begin{equation*}\n",
    "\\lim\\limits_{x \\to \\infty} \\exp(-x) = 0\n",
    "\\end{equation*}"
   ]
  },
  {
   "cell_type": "markdown",
   "metadata": {},
   "source": [
    "### Modular arithmetic\n",
    "\\begin{equation*}\n",
    "a \\bmod b \\\\\n",
    "a \\pmod b\n",
    "\\end{equation*}"
   ]
  },
  {
   "cell_type": "markdown",
   "metadata": {},
   "source": [
    "### Powers and indices\n",
    "\\begin{equation*}\n",
    "k_{n+1} = n^2 + k_n^2 - k_{n-1} \\\\\n",
    "\\end{equation*}\n",
    "For powers with more than one digit, surround the power with { }. \n",
    "\\begin{equation*}\n",
    "n^{22}\\\\\n",
    "\\end{equation*}\n",
    "An underscore ( _ ) can be used with a vertical bar ( | ) to denote evaluation using subscript notation in mathematics\n",
    "\\begin{equation*}\n",
    "f(n) = n^5 + 4n^2 + 2 |_{n=17}\n",
    "\\end{equation*}"
   ]
  },
  {
   "cell_type": "markdown",
   "metadata": {},
   "source": [
    "### Aligning your equations\n",
    "\\begin{equation}\n",
    "\\begin{aligned}\n",
    "F ={} & \\{F_{x} \\in  F_{c} : (|S| > |C|) \\\\\n",
    "      & \\cap (\\mathrm{minPixels}  < |S| < \\mathrm{maxPixels}) \\\\\n",
    "      & \\cap (|S_{\\mathrm{conected}}| > |S| - \\epsilon)\\}\n",
    "\\end{aligned}\n",
    "\\end{equation}"
   ]
  },
  {
   "cell_type": "markdown",
   "metadata": {},
   "source": [
    "### Fractions and Binomials\n",
    "A fraction is created using the \\frac{numerator}{denominator} command. Likewise, the binomial coefficient (aka the Choose function) may be written using the \\binom command\n",
    "\\begin{equation*}\n",
    "\\frac{n!}{k!(n-k)!} = \\binom{n}{k}\n",
    "\\end{equation*}\n",
    "You can embed fractions within fractions:\n",
    "\\begin{equation*}\n",
    "\\frac{\\frac{1}{x}+\\frac{1}{y}}{y-z}\n",
    "\\end{equation*}"
   ]
  },
  {
   "cell_type": "markdown",
   "metadata": {},
   "source": [
    "### Modular arithmetic\n",
    "\\begin{equation*}\n",
    "x^\\frac{1}{2}\n",
    "\\end{equation*}\n",
    "\n",
    "### Continued Fractions\n",
    "\\begin{equation}\n",
    "  x = a_0 + \\cfrac{1}{a_1 \n",
    "          + \\cfrac{1}{a_2 \n",
    "          + \\cfrac{1}{a_3 + \\cfrac{1}{a_4} } } }\n",
    "\\end{equation}"
   ]
  },
  {
   "cell_type": "markdown",
   "metadata": {},
   "source": [
    "### Multiplication of two numbers\n",
    "To make multiplication visually similar to a fraction, a nested array can be used, for example multiplication of numbers written one below the other.\n",
    "\n",
    "\\begin{equation}\n",
    "\\frac{\n",
    "    \\begin{array}[b]{r}\n",
    "      \\left( x_1 x_2 \\right)\\\\\n",
    "      \\times \\left( x'_1 x'_2 \\right)\n",
    "    \\end{array}\n",
    "  }{\n",
    "    \\left( y_1y_2y_3y_4 \\right)\n",
    "  }\n",
    "\\end{equation}"
   ]
  },
  {
   "cell_type": "markdown",
   "metadata": {},
   "source": [
    "### Roots\n",
    "The \\sqrt command creates a square root surrounding an expression.\n",
    "\n",
    "\\begin{equation}\n",
    "\\sqrt{\\frac{a}{b}}\n",
    "\\end{equation}\n",
    "\n",
    "It accepts an optional argument specified in square brackets ([ and ]) to change magnitude.\n",
    "\n",
    "\\begin{equation}\n",
    "\\sqrt[n]{1+x+x^2+x^3+\\dots+x^n}\n",
    "\\end{equation}\n"
   ]
  },
  {
   "cell_type": "markdown",
   "metadata": {},
   "source": [
    "### Sums and integrals\n",
    "\n",
    "The \\sum and \\int commands insert the sum and integral symbols respectively, with limits specified using the caret (^) and underscore (_). The typical notation for sums is:\n",
    "\n",
    "\\begin{equation}\n",
    "\\sum_{i=1}^{10} t_i\n",
    "\\end{equation}\n",
    "\n",
    "or\n",
    "\n",
    "\\begin{equation}\n",
    "\\displaystyle\\sum_{i=1}^{10} t_i\n",
    "\\end{equation}\n",
    "\n",
    "The limits for the integrals follow the same notation. It's also important to represent the integration variables with an upright d, which in math mode is obtained through the \\mathrm{} command, and with a small space separating it from the integrand, which is attained with the \\, command.\n",
    "\n",
    "\\begin{equation}\n",
    "\\int_0^\\infty \\mathrm{e}^{-x}\\,\\mathrm{d}x\n",
    "\\end{equation}"
   ]
  },
  {
   "cell_type": "markdown",
   "metadata": {},
   "source": [
    "### Summation and Product\n",
    "\n",
    "[Summation](https://en.wikipedia.org/wiki/Summation) is one of the most useful and commonly used symbols in iterative mathematics and data science. Despite it looking seemingly complex, it's quite simple and very useful.\n",
    "\n",
    "Take for instance:\n",
    "\n",
    "\\begin{equation}\n",
    "\\sum_{i}^{n} t_i\n",
    "\\end{equation}\n",
    "\n",
    "Where n is your limit or stopping number and i is your indexing start number (if i=1, you start at 1), you increment the value t until you reach n.\n",
    "\n",
    "\\begin{equation}\n",
    "\\sum_{i=1}^{5} t_i\n",
    "\\end{equation}\n",
    "\n",
    "This equation simply states that we're going to sum the values from 1 to 5. \n",
    "\n",
    "All that this symbol represents is a for loop in the range of the number on top, starting from the number on the bottom. The variable set on the bottom becomes the index variable and any result per loop is added to an overall value. \n",
    "\n",
    "Here is the simple code for it below:"
   ]
  },
  {
   "cell_type": "code",
   "execution_count": 9,
   "metadata": {},
   "outputs": [
    {
     "name": "stdout",
     "output_type": "stream",
     "text": [
      "15\n"
     ]
    }
   ],
   "source": [
    "x = [1, 2, 3, 4, 5]\n",
    "result = 0\n",
    "for i in range(5):\n",
    "    result += x[i]\n",
    "print(result)"
   ]
  },
  {
   "cell_type": "markdown",
   "metadata": {},
   "source": [
    "The Product Operator functions in the same manner, but instead of adding each result they will be multiplied.\n",
    "\n",
    "\\begin{equation}\n",
    "\\prod_{i}^{n} t_i\n",
    "\\end{equation}\n",
    "\n",
    "\\begin{equation}\n",
    "\\prod_{i=1}^{5} t_i\n",
    "\\end{equation}"
   ]
  },
  {
   "cell_type": "code",
   "execution_count": 10,
   "metadata": {},
   "outputs": [
    {
     "name": "stdout",
     "output_type": "stream",
     "text": [
      "120\n"
     ]
    }
   ],
   "source": [
    "x = [1, 2, 3, 4, 5]\n",
    "result = 1\n",
    "for i in range(5):\n",
    "    result *= x[i]\n",
    "print(result)"
   ]
  },
  {
   "cell_type": "code",
   "execution_count": null,
   "metadata": {},
   "outputs": [],
   "source": []
  }
 ],
 "metadata": {
  "kernelspec": {
   "display_name": "Python 3",
   "language": "python",
   "name": "python3"
  },
  "language_info": {
   "codemirror_mode": {
    "name": "ipython",
    "version": 3
   },
   "file_extension": ".py",
   "mimetype": "text/x-python",
   "name": "python",
   "nbconvert_exporter": "python",
   "pygments_lexer": "ipython3",
   "version": "3.7.4"
  }
 },
 "nbformat": 4,
 "nbformat_minor": 2
}
