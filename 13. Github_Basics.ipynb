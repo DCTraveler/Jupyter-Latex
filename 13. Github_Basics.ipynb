{
 "cells": [
  {
   "cell_type": "markdown",
   "metadata": {},
   "source": [
    "## Learning Github Basics\n",
    "\n",
    "- References:\n",
    "    - https://guides.github.com/\n",
    "    - https://guides.github.com/introduction/flow/\n",
    "    - https://guides.github.com/activities/hello-world/\n",
    "    - https://guides.github.com/features/pages/\n",
    "    - https://guides.github.com/introduction/git-handbook/\n",
    "    - https://guides.github.com/activities/forking/\n",
    "    - https://guides.github.com/activities/socialize/\n",
    "    - https://guides.github.com/activities/citable-code/\n",
    "    - https://guides.github.com/features/issues/\n",
    "    - https://guides.github.com/features/mastering-markdown/\n",
    "    - https://guides.github.com/features/wikis/\n",
    "    - https://www.youtube.com/githubguides\n",
    "    - https://docs.github.com/en\n",
    "    - https://lab.github.com/"
   ]
  },
  {
   "cell_type": "code",
   "execution_count": null,
   "metadata": {},
   "outputs": [],
   "source": []
  }
 ],
 "metadata": {
  "kernelspec": {
   "display_name": "Python 3",
   "language": "python",
   "name": "python3"
  },
  "language_info": {
   "codemirror_mode": {
    "name": "ipython",
    "version": 3
   },
   "file_extension": ".py",
   "mimetype": "text/x-python",
   "name": "python",
   "nbconvert_exporter": "python",
   "pygments_lexer": "ipython3",
   "version": "3.8.8"
  }
 },
 "nbformat": 4,
 "nbformat_minor": 4
}
