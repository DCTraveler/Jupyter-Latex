{
 "cells": [
  {
   "cell_type": "markdown",
   "id": "c2dfbd77-91d1-4c6f-bf52-9520d3c207e1",
   "metadata": {},
   "source": [
    "## Mac Path"
   ]
  },
  {
   "cell_type": "code",
   "execution_count": null,
   "id": "080999fe-f7ed-46cb-8826-f74bbecda643",
   "metadata": {},
   "outputs": [],
   "source": []
  }
 ],
 "metadata": {
  "kernelspec": {
   "display_name": "Python 3",
   "language": "python",
   "name": "python3"
  },
  "language_info": {
   "codemirror_mode": {
    "name": "ipython",
    "version": 3
   },
   "file_extension": ".py",
   "mimetype": "text/x-python",
   "name": "python",
   "nbconvert_exporter": "python",
   "pygments_lexer": "ipython3",
   "version": "3.9.5"
  }
 },
 "nbformat": 4,
 "nbformat_minor": 5
}
