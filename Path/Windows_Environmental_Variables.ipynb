{
 "cells": [
  {
   "cell_type": "markdown",
   "id": "b0037908-80e9-4e1b-8b32-f88c2a272f3d",
   "metadata": {},
   "source": [
    "# Windows Environmental Variables"
   ]
  },
  {
   "cell_type": "code",
   "execution_count": null,
   "id": "dfc34eef-d42b-4778-9a3f-190af74c96fe",
   "metadata": {},
   "outputs": [],
   "source": []
  }
 ],
 "metadata": {
  "kernelspec": {
   "display_name": "Python 3",
   "language": "python",
   "name": "python3"
  },
  "language_info": {
   "codemirror_mode": {
    "name": "ipython",
    "version": 3
   },
   "file_extension": ".py",
   "mimetype": "text/x-python",
   "name": "python",
   "nbconvert_exporter": "python",
   "pygments_lexer": "ipython3",
   "version": "3.9.5"
  }
 },
 "nbformat": 4,
 "nbformat_minor": 5
}
