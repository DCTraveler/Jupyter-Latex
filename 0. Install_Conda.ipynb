{
 "cells": [
  {
   "cell_type": "markdown",
   "metadata": {},
   "source": [
    "[Install Anaconda](https://www.anaconda.com/distribution/)\n"
   ]
  },
  {
   "cell_type": "code",
   "execution_count": 1,
   "metadata": {},
   "outputs": [
    {
     "name": "stdout",
     "output_type": "stream",
     "text": [
      "==============\n",
      "conda_build: 3.18.9\n",
      "python: 3.7.4\n",
      "scipy: 1.4.1\n",
      "numpy: 1.17.2\n",
      "matplotlib: 3.1.1\n",
      "pandas: 0.25.1\n",
      "sklearn: 0.21.3\n",
      "pywavelets: 1.0.3\n",
      "openpyxl: 3.0.0\n",
      "pylint: 2.4.2\n",
      "==============\n"
     ]
    }
   ],
   "source": [
    "#Test Anaconda install\n",
    "\n",
    "print(\"==============\")\n",
    "# conda_build\n",
    "import conda_build\n",
    "print('conda_build: %s' % conda_build.__version__)\n",
    "# python\n",
    "import platform\n",
    "print('python: %s' % platform.python_version()) \n",
    "# scipy\t\t\t\t\t\n",
    "import scipy\n",
    "print('scipy: %s' % scipy.__version__)\n",
    "# numpy\n",
    "import numpy\n",
    "print('numpy: %s' % numpy.__version__)\n",
    "# matplotlib\t\t\t\t\t\n",
    "import matplotlib\n",
    "print('matplotlib: %s' % matplotlib.__version__) \n",
    "# pandas\n",
    "import pandas\n",
    "print('pandas: %s' % pandas.__version__)\n",
    "# scikit-learn\n",
    "import sklearn\n",
    "print('sklearn: %s' % sklearn.__version__)\n",
    "# PyWavelets is open source wavelet transform software\n",
    "import pywt\n",
    "print('pywavelets: %s' % pywt.__version__)\n",
    "# openpyxl module to import/read/write excel files\n",
    "import openpyxl\n",
    "print('openpyxl: %s' % openpyxl.__version__)\n",
    "# Pylint is a tool that checks for errors in Python code\n",
    "import pylint\n",
    "print('pylint: %s' % pylint.__version__)\n",
    "print(\"==============\")"
   ]
  },
  {
   "cell_type": "code",
   "execution_count": 2,
   "metadata": {},
   "outputs": [
    {
     "name": "stdout",
     "output_type": "stream",
     "text": [
      "Collecting package metadata (current_repodata.json): done\n",
      "Solving environment: done\n",
      "\n",
      "# All requested packages already installed.\n",
      "\n"
     ]
    }
   ],
   "source": [
    "#maintaining conda\n",
    "!conda update conda"
   ]
  },
  {
   "cell_type": "code",
   "execution_count": null,
   "metadata": {},
   "outputs": [],
   "source": []
  }
 ],
 "metadata": {
  "kernelspec": {
   "display_name": "Python 3",
   "language": "python",
   "name": "python3"
  },
  "language_info": {
   "codemirror_mode": {
    "name": "ipython",
    "version": 3
   },
   "file_extension": ".py",
   "mimetype": "text/x-python",
   "name": "python",
   "nbconvert_exporter": "python",
   "pygments_lexer": "ipython3",
   "version": "3.7.4"
  }
 },
 "nbformat": 4,
 "nbformat_minor": 4
}
