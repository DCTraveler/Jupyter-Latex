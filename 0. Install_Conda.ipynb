{
 "cells": [
  {
   "cell_type": "markdown",
   "metadata": {},
   "source": [
    "[Install Anaconda](https://www.anaconda.com/distribution/)\n",
    "https://www.anaconda.com/distribution/\n"
   ]
  },
  {
   "cell_type": "code",
   "execution_count": 4,
   "metadata": {},
   "outputs": [
    {
     "name": "stdout",
     "output_type": "stream",
     "text": [
      "==============\n",
      "conda_build: 3.18.9\n",
      "python: 3.7.4\n",
      "scipy: 1.4.1\n",
      "numpy: 1.17.2\n",
      "matplotlib: 3.1.1\n",
      "pandas: 0.25.1\n",
      "sklearn: 0.21.3\n",
      "pywavelets: 1.0.3\n",
      "openpyxl: 3.0.0\n",
      "pylint: 2.4.2\n",
      "==============\n"
     ]
    }
   ],
   "source": [
    "#Test Anaconda install\n",
    "\n",
    "print(\"==============\")\n",
    "# conda_build\n",
    "import conda_build\n",
    "print('conda_build: %s' % conda_build.__version__)\n",
    "# python\n",
    "import platform\n",
    "print('python: %s' % platform.python_version()) \n",
    "# scipy\t\t\t\t\t\n",
    "import scipy\n",
    "print('scipy: %s' % scipy.__version__)\n",
    "# numpy\n",
    "import numpy\n",
    "print('numpy: %s' % numpy.__version__)\n",
    "# matplotlib\t\t\t\t\t\n",
    "import matplotlib\n",
    "print('matplotlib: %s' % matplotlib.__version__) \n",
    "# pandas\n",
    "import pandas\n",
    "print('pandas: %s' % pandas.__version__)\n",
    "# scikit-learn\n",
    "import sklearn\n",
    "print('sklearn: %s' % sklearn.__version__)\n",
    "# PyWavelets is open source wavelet transform software\n",
    "import pywt\n",
    "print('pywavelets: %s' % pywt.__version__)\n",
    "# openpyxl module to import/read/write excel files\n",
    "import openpyxl\n",
    "print('openpyxl: %s' % openpyxl.__version__)\n",
    "# Pylint is a tool that checks for errors in Python code\n",
    "import pylint\n",
    "print('pylint: %s' % pylint.__version__)\n",
    "print(\"==============\")"
   ]
  },
  {
   "cell_type": "code",
   "execution_count": 5,
   "metadata": {},
   "outputs": [
    {
     "name": "stdout",
     "output_type": "stream",
     "text": [
      "Collecting package metadata (current_repodata.json): done\n",
      "Solving environment: done\n",
      "\n",
      "# All requested packages already installed.\n",
      "\n"
     ]
    }
   ],
   "source": [
    "#maintaining conda\n",
    "!conda update conda"
   ]
  },
  {
   "cell_type": "code",
   "execution_count": 16,
   "metadata": {},
   "outputs": [
    {
     "name": "stdout",
     "output_type": "stream",
     "text": [
      "Requirement already satisfied: requests in /Applications/anaconda3/lib/python3.7/site-packages (2.22.0)\n",
      "Requirement already satisfied: idna<2.9,>=2.5 in /Applications/anaconda3/lib/python3.7/site-packages (from requests) (2.8)\n",
      "Requirement already satisfied: urllib3!=1.25.0,!=1.25.1,<1.26,>=1.21.1 in /Applications/anaconda3/lib/python3.7/site-packages (from requests) (1.24.2)\n",
      "Requirement already satisfied: chardet<3.1.0,>=3.0.2 in /Applications/anaconda3/lib/python3.7/site-packages (from requests) (3.0.4)\n",
      "Requirement already satisfied: certifi>=2017.4.17 in /Applications/anaconda3/lib/python3.7/site-packages (from requests) (2019.9.11)\n"
     ]
    }
   ],
   "source": [
    "#check pip install requests\n",
    "!pip install requests"
   ]
  },
  {
   "cell_type": "code",
   "execution_count": 17,
   "metadata": {},
   "outputs": [
    {
     "name": "stdout",
     "output_type": "stream",
     "text": [
      "gettext\t\ticu4c\t\tmasscan\t\topenssl@1.1\twget\n",
      "git\t\tlibidn2\t\tnode\t\tpcre2\n",
      "git-lfs\t\tlibunistring\topenssl\t\ttree\n"
     ]
    }
   ],
   "source": [
    "#check brew list\n",
    "!brew list"
   ]
  },
  {
   "cell_type": "code",
   "execution_count": 13,
   "metadata": {},
   "outputs": [
    {
     "name": "stdout",
     "output_type": "stream",
     "text": [
      "# packages in environment at /Applications/anaconda3:\n",
      "#\n",
      "# Name                    Version                   Build  Channel\n",
      "_ipyw_jlab_nb_ext_conf    0.1.0                    py37_0  \n",
      "_r-mutex                  1.0.0               anacondar_1  \n",
      "absl-py                   0.9.0                    pypi_0    pypi\n",
      "alabaster                 0.7.12                   py37_0  \n",
      "anaconda                  2019.10                  py37_0  \n",
      "anaconda-client           1.7.2                    py37_0  \n",
      "anaconda-navigator        1.9.7                    py37_0  \n",
      "anaconda-project          0.8.3                      py_0  \n",
      "appnope                   0.1.0                    py37_0  \n",
      "appscript                 1.1.0            py37h1de35cc_0  \n",
      "asn1crypto                1.0.1                    py37_0  \n",
      "astor                     0.8.1                    pypi_0    pypi\n",
      "astroid                   2.3.1                    py37_0  \n",
      "astropy                   3.2.2            py37h1de35cc_0  \n",
      "async_generator           1.10             py37h28b3542_0  \n",
      "atomicwrites              1.3.0                    py37_1  \n",
      "attrs                     19.2.0                     py_0  \n",
      "babel                     2.7.0                      py_0  \n",
      "backcall                  0.1.0                    py37_0  \n",
      "backports                 1.0                        py_2  \n",
      "\u001b[Kbackports.functools_lru_cache 1.6.1                      py_0  \n",
      ":\u001b[K"
     ]
    }
   ],
   "source": [
    "#check conda list\n",
    "!conda list | less"
   ]
  },
  {
   "cell_type": "code",
   "execution_count": 15,
   "metadata": {},
   "outputs": [
    {
     "name": "stdout",
     "output_type": "stream",
     "text": [
      "Package                            Version  \n",
      "---------------------------------- ---------\n",
      "absl-py                            0.9.0    \n",
      "alabaster                          0.7.12   \n",
      "anaconda-client                    1.7.2    \n",
      "anaconda-navigator                 1.9.7    \n",
      "anaconda-project                   0.8.3    \n",
      "appnope                            0.1.0    \n",
      "appscript                          1.0.1    \n",
      "asn1crypto                         1.0.1    \n",
      "astor                              0.8.1    \n",
      "astroid                            2.3.1    \n",
      "astropy                            3.2.2    \n",
      "async-generator                    1.10     \n",
      "atomicwrites                       1.3.0    \n",
      "attrs                              19.2.0   \n",
      "Babel                              2.7.0    \n",
      "backcall                           0.1.0    \n",
      "backports.functools-lru-cache      1.6.1    \n",
      "backports.os                       0.1.1    \n",
      "backports.shutil-get-terminal-size 1.0.0    \n",
      "backports.tempfile                 1.0      \n",
      "backports.weakref                  1.0.post1\n",
      "\u001b[Kbeautifulsoup4                     4.8.0    \n",
      ":\u001b[K"
     ]
    }
   ],
   "source": [
    "#check pip list\n",
    "!pip list | less"
   ]
  },
  {
   "cell_type": "code",
   "execution_count": null,
   "metadata": {},
   "outputs": [],
   "source": []
  }
 ],
 "metadata": {
  "kernelspec": {
   "display_name": "Python 3",
   "language": "python",
   "name": "python3"
  },
  "language_info": {
   "codemirror_mode": {
    "name": "ipython",
    "version": 3
   },
   "file_extension": ".py",
   "mimetype": "text/x-python",
   "name": "python",
   "nbconvert_exporter": "python",
   "pygments_lexer": "ipython3",
   "version": "3.7.4"
  }
 },
 "nbformat": 4,
 "nbformat_minor": 4
}
