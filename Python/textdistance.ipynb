{
 "cells": [
  {
   "cell_type": "markdown",
   "id": "bc13d167-e8be-42c3-9e6d-ae8a7de9eadd",
   "metadata": {},
   "source": [
    "# Introduction\n",
    "What is the best string similarity algorithm? Well, it’s quite hard to answer this question, at least without knowing anything else, like what you require it for. And even after having a basic idea, it’s quite hard to pinpoint to a good algorithm without first trying them out on different datasets. It’s a trial and error process.\n",
    "\n",
    "# Types of algorithms\n",
    "\n",
    "Based on the properties of operations, string similarity algorithms can be classified into a couple of domains. \n",
    "\n",
    "- ***Edit distance based:*** Algorithms falling under this category try to compute the number of operations needed to transforms one string to another. More the number of operations, less is the similarity between the two strings. One point to note, in this case, every index character of the string is given equal importance.\n",
    "\n",
    "- ***Token-based:*** In this category, the expected input is a set of tokens, rather than complete strings. The idea is to find the similar tokens in both sets. More the number of common tokens, more is the similarity between the sets. A string can be transformed into sets by splitting using a delimiter. This way, we can transform a sentence into tokens of words or n-grams characters. Note, here tokens of different length have equal importance.\n",
    "\n",
    "- ***Sequence-based:*** Here, the similarity is a factor of common sub-strings between the two strings. The algorithms, try to find the longest sequence which is present in both strings, the more of these sequences found, higher is the similarity score. Note, here combination of characters of same length have equal importance."
   ]
  },
  {
   "cell_type": "code",
   "execution_count": 1,
   "id": "45a176fd-4bb1-44d7-bfbe-178a9d563836",
   "metadata": {},
   "outputs": [],
   "source": [
    "import textdistance"
   ]
  },
  {
   "cell_type": "code",
   "execution_count": 2,
   "id": "da23be7e-a231-46e4-a53e-87e9fcb08f58",
   "metadata": {},
   "outputs": [
    {
     "data": {
      "text/plain": [
       "1"
      ]
     },
     "execution_count": 2,
     "metadata": {},
     "output_type": "execute_result"
    }
   ],
   "source": [
    "textdistance.hamming('test', 'text')\n",
    "# 1"
   ]
  },
  {
   "cell_type": "code",
   "execution_count": 3,
   "id": "76d34464-abf2-4a23-84f0-67b623ab5a1f",
   "metadata": {},
   "outputs": [
    {
     "data": {
      "text/plain": [
       "1"
      ]
     },
     "execution_count": 3,
     "metadata": {},
     "output_type": "execute_result"
    }
   ],
   "source": [
    "textdistance.hamming.distance('test', 'text')\n",
    "# 1"
   ]
  },
  {
   "cell_type": "code",
   "execution_count": 4,
   "id": "0cb5c6e1-5a6f-41a9-a8a5-1b9b8c8dc507",
   "metadata": {},
   "outputs": [
    {
     "data": {
      "text/plain": [
       "3"
      ]
     },
     "execution_count": 4,
     "metadata": {},
     "output_type": "execute_result"
    }
   ],
   "source": [
    "textdistance.hamming.similarity('test', 'text')\n",
    "# 3"
   ]
  },
  {
   "cell_type": "code",
   "execution_count": 5,
   "id": "b27f33f0-f575-4540-87b7-dc87b412dd29",
   "metadata": {},
   "outputs": [
    {
     "data": {
      "text/plain": [
       "0.25"
      ]
     },
     "execution_count": 5,
     "metadata": {},
     "output_type": "execute_result"
    }
   ],
   "source": [
    "textdistance.hamming.normalized_distance('test', 'text')\n",
    "# 0.25"
   ]
  },
  {
   "cell_type": "code",
   "execution_count": 6,
   "id": "1dacdb64-d309-4ed6-b10a-a51515f2339c",
   "metadata": {},
   "outputs": [
    {
     "data": {
      "text/plain": [
       "0.75"
      ]
     },
     "execution_count": 6,
     "metadata": {},
     "output_type": "execute_result"
    }
   ],
   "source": [
    "textdistance.hamming.normalized_similarity('test', 'text')\n",
    "# 0.75"
   ]
  },
  {
   "cell_type": "code",
   "execution_count": 7,
   "id": "ee8b26b2-e53a-4b95-b984-510ae1508575",
   "metadata": {},
   "outputs": [
    {
     "data": {
      "text/plain": [
       "2"
      ]
     },
     "execution_count": 7,
     "metadata": {},
     "output_type": "execute_result"
    }
   ],
   "source": [
    "textdistance.Hamming(qval=2).distance('test', 'text')\n",
    "# 2"
   ]
  },
  {
   "cell_type": "code",
   "execution_count": 8,
   "id": "f470a5ab-443e-445d-9bbf-e0fedfa49cf9",
   "metadata": {},
   "outputs": [
    {
     "data": {
      "text/plain": [
       "2"
      ]
     },
     "execution_count": 8,
     "metadata": {},
     "output_type": "execute_result"
    }
   ],
   "source": [
    "textdistance.levenshtein(\"this test\", \"that test\") # 2"
   ]
  },
  {
   "cell_type": "code",
   "execution_count": 9,
   "id": "7fd22688-ed39-4e02-92eb-627f2529a520",
   "metadata": {},
   "outputs": [
    {
     "data": {
      "text/plain": [
       "6"
      ]
     },
     "execution_count": 9,
     "metadata": {},
     "output_type": "execute_result"
    }
   ],
   "source": [
    "textdistance.levenshtein(\"test this\", \"this test\") # 6"
   ]
  },
  {
   "cell_type": "code",
   "execution_count": 10,
   "id": "4f866708-449f-44d2-9a46-a7265669a04e",
   "metadata": {},
   "outputs": [
    {
     "data": {
      "text/plain": [
       "0.6666666666666666"
      ]
     },
     "execution_count": 10,
     "metadata": {},
     "output_type": "execute_result"
    }
   ],
   "source": [
    "textdistance.jaro_winkler(\"this test\", \"test this\") # .666666666..."
   ]
  },
  {
   "cell_type": "code",
   "execution_count": 11,
   "id": "1220eae7-6937-440d-8332-d5bccbad69b8",
   "metadata": {},
   "outputs": [
    {
     "data": {
      "text/plain": [
       "0.6363636363636364"
      ]
     },
     "execution_count": 11,
     "metadata": {},
     "output_type": "execute_result"
    }
   ],
   "source": [
    "textdistance.jaccard(\"this test\", \"that test\")"
   ]
  },
  {
   "cell_type": "code",
   "execution_count": 12,
   "id": "e152887e-a43d-43ec-ac87-64057aad1e68",
   "metadata": {},
   "outputs": [
    {
     "data": {
      "text/plain": [
       "1.0"
      ]
     },
     "execution_count": 12,
     "metadata": {},
     "output_type": "execute_result"
    }
   ],
   "source": [
    "textdistance.jaccard(\"this test\", \"test this\")"
   ]
  },
  {
   "cell_type": "code",
   "execution_count": 13,
   "id": "2d56b574-ca6e-4735-a254-ab3f621d3380",
   "metadata": {},
   "outputs": [
    {
     "data": {
      "text/plain": [
       "1.0"
      ]
     },
     "execution_count": 13,
     "metadata": {},
     "output_type": "execute_result"
    }
   ],
   "source": [
    "textdistance.cosine(\"apple\", \"ppale\") # 1.0"
   ]
  },
  {
   "cell_type": "code",
   "execution_count": 14,
   "id": "520b1e1e-7077-456a-bf72-ce5892872926",
   "metadata": {},
   "outputs": [
    {
     "data": {
      "text/plain": [
       "0.7777777777777778"
      ]
     },
     "execution_count": 14,
     "metadata": {},
     "output_type": "execute_result"
    }
   ],
   "source": [
    "textdistance.cosine(\"this test\", \"that test\")"
   ]
  },
  {
   "cell_type": "code",
   "execution_count": 15,
   "id": "45d55ca9-732f-43f2-a18c-d49265f3c3a6",
   "metadata": {},
   "outputs": [
    {
     "data": {
      "text/plain": [
       "3.0"
      ]
     },
     "execution_count": 15,
     "metadata": {},
     "output_type": "execute_result"
    }
   ],
   "source": [
    "textdistance.needleman_wunsch(\"AAAGGT\", \"ATACGGA\")"
   ]
  },
  {
   "cell_type": "code",
   "execution_count": 16,
   "id": "1f5b85a0-3c31-4645-9a81-9d3e106b7164",
   "metadata": {},
   "outputs": [],
   "source": [
    "# adjust the gap cost\n",
    "textdistance.needleman_wunsch.gap_cost = 3"
   ]
  },
  {
   "cell_type": "code",
   "execution_count": 17,
   "id": "47920a44-5ac4-4b51-af06-954b543579ac",
   "metadata": {},
   "outputs": [
    {
     "data": {
      "text/plain": [
       "1.0"
      ]
     },
     "execution_count": 17,
     "metadata": {},
     "output_type": "execute_result"
    }
   ],
   "source": [
    "textdistance.needleman_wunsch(\"AAAGGT\", \"ATACGGA\")"
   ]
  },
  {
   "cell_type": "code",
   "execution_count": 18,
   "id": "8d89ebe1-14f8-462a-a475-4828b3f5044c",
   "metadata": {},
   "outputs": [
    {
     "data": {
      "text/plain": [
       "1"
      ]
     },
     "execution_count": 18,
     "metadata": {},
     "output_type": "execute_result"
    }
   ],
   "source": [
    "textdistance.mra(\"tie\", \"tye\") # 1"
   ]
  },
  {
   "cell_type": "code",
   "execution_count": 19,
   "id": "60e1d819-618f-46a2-861d-d21c12ded687",
   "metadata": {},
   "outputs": [],
   "source": [
    "textdistance.jaro_winkler.external = False"
   ]
  },
  {
   "cell_type": "code",
   "execution_count": 20,
   "id": "5be4c829-0339-48f0-88c6-78f2e86a2617",
   "metadata": {},
   "outputs": [
    {
     "data": {
      "text/plain": [
       "0.7418831168831169"
      ]
     },
     "execution_count": 20,
     "metadata": {},
     "output_type": "execute_result"
    }
   ],
   "source": [
    "textdistance.jaro_winkler(\"second test\", \"2nd test\")"
   ]
  },
  {
   "cell_type": "code",
   "execution_count": null,
   "id": "5371c629-dc8d-4d63-acd1-6d1be4f71ef5",
   "metadata": {},
   "outputs": [],
   "source": []
  }
 ],
 "metadata": {
  "kernelspec": {
   "display_name": "Python 3",
   "language": "python",
   "name": "python3"
  },
  "language_info": {
   "codemirror_mode": {
    "name": "ipython",
    "version": 3
   },
   "file_extension": ".py",
   "mimetype": "text/x-python",
   "name": "python",
   "nbconvert_exporter": "python",
   "pygments_lexer": "ipython3",
   "version": "3.9.5"
  }
 },
 "nbformat": 4,
 "nbformat_minor": 5
}
