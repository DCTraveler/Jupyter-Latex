{
 "cells": [
  {
   "cell_type": "markdown",
   "metadata": {},
   "source": [
    "# Lesson 4 Python"
   ]
  },
  {
   "cell_type": "code",
   "execution_count": 1,
   "metadata": {},
   "outputs": [],
   "source": [
    "import pandas as pd\n",
    "import numpy as np\n",
    "import seaborn as sns\n",
    "import scipy\n",
    "from scipy import stats\n",
    "from statsmodels.stats.multicomp import pairwise_tukeyhsd\n",
    "from statsmodels.stats.multicomp import MultiComparison"
   ]
  },
  {
   "cell_type": "code",
   "execution_count": 15,
   "metadata": {},
   "outputs": [],
   "source": [
    "df = pd.read_csv('../data/avocados.csv')"
   ]
  },
  {
   "cell_type": "code",
   "execution_count": 16,
   "metadata": {},
   "outputs": [],
   "source": [
    "df = df.loc[df['region'].isin(['Indianapolis', 'Orlando', 'PhoenixTucson'])]"
   ]
  },
  {
   "cell_type": "code",
   "execution_count": 17,
   "metadata": {},
   "outputs": [
    {
     "data": {
      "text/html": [
       "<div>\n",
       "<style scoped>\n",
       "    .dataframe tbody tr th:only-of-type {\n",
       "        vertical-align: middle;\n",
       "    }\n",
       "\n",
       "    .dataframe tbody tr th {\n",
       "        vertical-align: top;\n",
       "    }\n",
       "\n",
       "    .dataframe thead th {\n",
       "        text-align: right;\n",
       "    }\n",
       "</style>\n",
       "<table border=\"1\" class=\"dataframe\">\n",
       "  <thead>\n",
       "    <tr style=\"text-align: right;\">\n",
       "      <th></th>\n",
       "      <th>Unnamed: 0</th>\n",
       "      <th>Date</th>\n",
       "      <th>AveragePrice</th>\n",
       "      <th>Total Volume</th>\n",
       "      <th>4046</th>\n",
       "      <th>4225</th>\n",
       "      <th>4770</th>\n",
       "      <th>Total Bags</th>\n",
       "      <th>Small Bags</th>\n",
       "      <th>Large Bags</th>\n",
       "      <th>XLarge Bags</th>\n",
       "      <th>type</th>\n",
       "      <th>year</th>\n",
       "      <th>region</th>\n",
       "    </tr>\n",
       "  </thead>\n",
       "  <tbody>\n",
       "    <tr>\n",
       "      <th>988</th>\n",
       "      <td>0</td>\n",
       "      <td>12/27/2015</td>\n",
       "      <td>1.04</td>\n",
       "      <td>123096.09</td>\n",
       "      <td>4647.28</td>\n",
       "      <td>69384.73</td>\n",
       "      <td>11206.40</td>\n",
       "      <td>37857.68</td>\n",
       "      <td>20644.64</td>\n",
       "      <td>11524.06</td>\n",
       "      <td>5688.98</td>\n",
       "      <td>conventional</td>\n",
       "      <td>2015</td>\n",
       "      <td>Indianapolis</td>\n",
       "    </tr>\n",
       "    <tr>\n",
       "      <th>989</th>\n",
       "      <td>1</td>\n",
       "      <td>12/20/2015</td>\n",
       "      <td>1.10</td>\n",
       "      <td>116353.68</td>\n",
       "      <td>3702.20</td>\n",
       "      <td>67983.94</td>\n",
       "      <td>9327.71</td>\n",
       "      <td>35339.83</td>\n",
       "      <td>18144.63</td>\n",
       "      <td>12133.67</td>\n",
       "      <td>5061.53</td>\n",
       "      <td>conventional</td>\n",
       "      <td>2015</td>\n",
       "      <td>Indianapolis</td>\n",
       "    </tr>\n",
       "    <tr>\n",
       "      <th>990</th>\n",
       "      <td>2</td>\n",
       "      <td>12/13/2015</td>\n",
       "      <td>1.03</td>\n",
       "      <td>125342.89</td>\n",
       "      <td>4904.51</td>\n",
       "      <td>69984.32</td>\n",
       "      <td>11398.44</td>\n",
       "      <td>39055.62</td>\n",
       "      <td>21259.82</td>\n",
       "      <td>15580.08</td>\n",
       "      <td>2215.72</td>\n",
       "      <td>conventional</td>\n",
       "      <td>2015</td>\n",
       "      <td>Indianapolis</td>\n",
       "    </tr>\n",
       "    <tr>\n",
       "      <th>991</th>\n",
       "      <td>3</td>\n",
       "      <td>12/6/2015</td>\n",
       "      <td>0.92</td>\n",
       "      <td>145740.44</td>\n",
       "      <td>4067.00</td>\n",
       "      <td>89452.99</td>\n",
       "      <td>13570.12</td>\n",
       "      <td>38650.33</td>\n",
       "      <td>19365.92</td>\n",
       "      <td>17733.68</td>\n",
       "      <td>1550.73</td>\n",
       "      <td>conventional</td>\n",
       "      <td>2015</td>\n",
       "      <td>Indianapolis</td>\n",
       "    </tr>\n",
       "    <tr>\n",
       "      <th>992</th>\n",
       "      <td>4</td>\n",
       "      <td>11/29/2015</td>\n",
       "      <td>1.08</td>\n",
       "      <td>108444.41</td>\n",
       "      <td>3079.44</td>\n",
       "      <td>65254.08</td>\n",
       "      <td>10854.59</td>\n",
       "      <td>29256.30</td>\n",
       "      <td>17455.74</td>\n",
       "      <td>9975.21</td>\n",
       "      <td>1825.35</td>\n",
       "      <td>conventional</td>\n",
       "      <td>2015</td>\n",
       "      <td>Indianapolis</td>\n",
       "    </tr>\n",
       "    <tr>\n",
       "      <th>...</th>\n",
       "      <td>...</td>\n",
       "      <td>...</td>\n",
       "      <td>...</td>\n",
       "      <td>...</td>\n",
       "      <td>...</td>\n",
       "      <td>...</td>\n",
       "      <td>...</td>\n",
       "      <td>...</td>\n",
       "      <td>...</td>\n",
       "      <td>...</td>\n",
       "      <td>...</td>\n",
       "      <td>...</td>\n",
       "      <td>...</td>\n",
       "      <td>...</td>\n",
       "    </tr>\n",
       "    <tr>\n",
       "      <th>18004</th>\n",
       "      <td>7</td>\n",
       "      <td>2/4/2018</td>\n",
       "      <td>1.62</td>\n",
       "      <td>14456.10</td>\n",
       "      <td>2260.81</td>\n",
       "      <td>2011.22</td>\n",
       "      <td>0.00</td>\n",
       "      <td>10184.07</td>\n",
       "      <td>10169.69</td>\n",
       "      <td>14.38</td>\n",
       "      <td>0.00</td>\n",
       "      <td>organic</td>\n",
       "      <td>2018</td>\n",
       "      <td>PhoenixTucson</td>\n",
       "    </tr>\n",
       "    <tr>\n",
       "      <th>18005</th>\n",
       "      <td>8</td>\n",
       "      <td>1/28/2018</td>\n",
       "      <td>1.69</td>\n",
       "      <td>13125.79</td>\n",
       "      <td>1802.37</td>\n",
       "      <td>2243.06</td>\n",
       "      <td>0.00</td>\n",
       "      <td>9080.36</td>\n",
       "      <td>9073.81</td>\n",
       "      <td>6.55</td>\n",
       "      <td>0.00</td>\n",
       "      <td>organic</td>\n",
       "      <td>2018</td>\n",
       "      <td>PhoenixTucson</td>\n",
       "    </tr>\n",
       "    <tr>\n",
       "      <th>18006</th>\n",
       "      <td>9</td>\n",
       "      <td>1/21/2018</td>\n",
       "      <td>1.78</td>\n",
       "      <td>12112.82</td>\n",
       "      <td>2178.78</td>\n",
       "      <td>1901.41</td>\n",
       "      <td>0.00</td>\n",
       "      <td>8032.63</td>\n",
       "      <td>8031.33</td>\n",
       "      <td>1.30</td>\n",
       "      <td>0.00</td>\n",
       "      <td>organic</td>\n",
       "      <td>2018</td>\n",
       "      <td>PhoenixTucson</td>\n",
       "    </tr>\n",
       "    <tr>\n",
       "      <th>18007</th>\n",
       "      <td>10</td>\n",
       "      <td>1/14/2018</td>\n",
       "      <td>1.77</td>\n",
       "      <td>13514.36</td>\n",
       "      <td>3618.90</td>\n",
       "      <td>2795.53</td>\n",
       "      <td>0.00</td>\n",
       "      <td>7099.93</td>\n",
       "      <td>7086.72</td>\n",
       "      <td>13.21</td>\n",
       "      <td>0.00</td>\n",
       "      <td>organic</td>\n",
       "      <td>2018</td>\n",
       "      <td>PhoenixTucson</td>\n",
       "    </tr>\n",
       "    <tr>\n",
       "      <th>18008</th>\n",
       "      <td>11</td>\n",
       "      <td>1/7/2018</td>\n",
       "      <td>1.76</td>\n",
       "      <td>16925.62</td>\n",
       "      <td>3822.41</td>\n",
       "      <td>2695.10</td>\n",
       "      <td>0.00</td>\n",
       "      <td>10408.11</td>\n",
       "      <td>10364.12</td>\n",
       "      <td>43.99</td>\n",
       "      <td>0.00</td>\n",
       "      <td>organic</td>\n",
       "      <td>2018</td>\n",
       "      <td>PhoenixTucson</td>\n",
       "    </tr>\n",
       "  </tbody>\n",
       "</table>\n",
       "<p>1014 rows × 14 columns</p>\n",
       "</div>"
      ],
      "text/plain": [
       "       Unnamed: 0        Date  AveragePrice  Total Volume     4046      4225  \\\n",
       "988             0  12/27/2015          1.04     123096.09  4647.28  69384.73   \n",
       "989             1  12/20/2015          1.10     116353.68  3702.20  67983.94   \n",
       "990             2  12/13/2015          1.03     125342.89  4904.51  69984.32   \n",
       "991             3   12/6/2015          0.92     145740.44  4067.00  89452.99   \n",
       "992             4  11/29/2015          1.08     108444.41  3079.44  65254.08   \n",
       "...           ...         ...           ...           ...      ...       ...   \n",
       "18004           7    2/4/2018          1.62      14456.10  2260.81   2011.22   \n",
       "18005           8   1/28/2018          1.69      13125.79  1802.37   2243.06   \n",
       "18006           9   1/21/2018          1.78      12112.82  2178.78   1901.41   \n",
       "18007          10   1/14/2018          1.77      13514.36  3618.90   2795.53   \n",
       "18008          11    1/7/2018          1.76      16925.62  3822.41   2695.10   \n",
       "\n",
       "           4770  Total Bags  Small Bags  Large Bags  XLarge Bags  \\\n",
       "988    11206.40    37857.68    20644.64    11524.06      5688.98   \n",
       "989     9327.71    35339.83    18144.63    12133.67      5061.53   \n",
       "990    11398.44    39055.62    21259.82    15580.08      2215.72   \n",
       "991    13570.12    38650.33    19365.92    17733.68      1550.73   \n",
       "992    10854.59    29256.30    17455.74     9975.21      1825.35   \n",
       "...         ...         ...         ...         ...          ...   \n",
       "18004      0.00    10184.07    10169.69       14.38         0.00   \n",
       "18005      0.00     9080.36     9073.81        6.55         0.00   \n",
       "18006      0.00     8032.63     8031.33        1.30         0.00   \n",
       "18007      0.00     7099.93     7086.72       13.21         0.00   \n",
       "18008      0.00    10408.11    10364.12       43.99         0.00   \n",
       "\n",
       "               type  year         region  \n",
       "988    conventional  2015   Indianapolis  \n",
       "989    conventional  2015   Indianapolis  \n",
       "990    conventional  2015   Indianapolis  \n",
       "991    conventional  2015   Indianapolis  \n",
       "992    conventional  2015   Indianapolis  \n",
       "...             ...   ...            ...  \n",
       "18004       organic  2018  PhoenixTucson  \n",
       "18005       organic  2018  PhoenixTucson  \n",
       "18006       organic  2018  PhoenixTucson  \n",
       "18007       organic  2018  PhoenixTucson  \n",
       "18008       organic  2018  PhoenixTucson  \n",
       "\n",
       "[1014 rows x 14 columns]"
      ]
     },
     "execution_count": 17,
     "metadata": {},
     "output_type": "execute_result"
    }
   ],
   "source": [
    "df"
   ]
  },
  {
   "cell_type": "code",
   "execution_count": 18,
   "metadata": {},
   "outputs": [
    {
     "data": {
      "text/plain": [
       "region\n",
       "Indianapolis      89536.661036\n",
       "Orlando          173552.378373\n",
       "PhoenixTucson    578826.368343\n",
       "Name: Total Volume, dtype: float64"
      ]
     },
     "execution_count": 18,
     "metadata": {},
     "output_type": "execute_result"
    }
   ],
   "source": [
    "df.groupby('region').mean()['Total Volume']"
   ]
  },
  {
   "cell_type": "code",
   "execution_count": 19,
   "metadata": {},
   "outputs": [],
   "source": [
    "df['RegionsNum'] = df['region'].replace(['Indianapolis', 'Orlando', 'PhoenixTucson'],[0,1,2])\n",
    "df = df[['Total Volume', 'RegionsNum']]"
   ]
  },
  {
   "cell_type": "code",
   "execution_count": 20,
   "metadata": {},
   "outputs": [
    {
     "name": "stderr",
     "output_type": "stream",
     "text": [
      "/Library/Frameworks/Python.framework/Versions/3.9/lib/python3.9/site-packages/seaborn/distributions.py:2619: FutureWarning: `distplot` is a deprecated function and will be removed in a future version. Please adapt your code to use either `displot` (a figure-level function with similar flexibility) or `histplot` (an axes-level function for histograms).\n",
      "  warnings.warn(msg, FutureWarning)\n"
     ]
    },
    {
     "data": {
      "text/plain": [
       "<AxesSubplot:xlabel='Total Volume', ylabel='Density'>"
      ]
     },
     "execution_count": 20,
     "metadata": {},
     "output_type": "execute_result"
    },
    {
     "data": {
      "image/png": "[encoded data removed]",
      "text/plain": [
       "<Figure size 432x288 with 1 Axes>"
      ]
     },
     "metadata": {
      "needs_background": "light"
     },
     "output_type": "display_data"
    }
   ],
   "source": [
    "sns.distplot(df['Total Volume'])"
   ]
  },
  {
   "cell_type": "code",
   "execution_count": 21,
   "metadata": {},
   "outputs": [
    {
     "data": {
      "text/plain": [
       "BartlettResult(statistic=25236.742336926767, pvalue=0.0)"
      ]
     },
     "execution_count": 21,
     "metadata": {},
     "output_type": "execute_result"
    }
   ],
   "source": [
    "scipy.stats.bartlett(df['Total Volume'], df['RegionsNum'])"
   ]
  },
  {
   "cell_type": "code",
   "execution_count": 22,
   "metadata": {},
   "outputs": [
    {
     "data": {
      "text/plain": [
       "FlignerResult(statistic=1280.3498904524556, pvalue=2.1061583618009585e-280)"
      ]
     },
     "execution_count": 22,
     "metadata": {},
     "output_type": "execute_result"
    }
   ],
   "source": [
    "scipy.stats.fligner(df['Total Volume'], df['RegionsNum'])"
   ]
  },
  {
   "cell_type": "code",
   "execution_count": 23,
   "metadata": {},
   "outputs": [
    {
     "name": "stdout",
     "output_type": "stream",
     "text": [
      "      Multiple Comparison of Means - Tukey HSD, FWER=0.05      \n",
      "===============================================================\n",
      "group1 group2   meandiff  p-adj     lower       upper    reject\n",
      "---------------------------------------------------------------\n",
      "     0      1  84015.7173 0.0079  18186.7386 149844.6961   True\n",
      "     0      2 489289.7073  0.001 423460.7286 555118.6861   True\n",
      "     1      2   405273.99  0.001 339445.0112 471102.9687   True\n",
      "---------------------------------------------------------------\n"
     ]
    }
   ],
   "source": [
    "postHoc = MultiComparison(df['Total Volume'], df['RegionsNum'])\n",
    "postHocResults = postHoc.tukeyhsd()\n",
    "print(postHocResults)"
   ]
  },
  {
   "cell_type": "markdown",
   "metadata": {},
   "source": [
    "# stats_model - heteroscedasticity corrected coefficient covariance matrix in the .anova_lm() "
   ]
  },
  {
   "cell_type": "markdown",
   "metadata": {},
   "source": [
    "# F-Oneway"
   ]
  },
  {
   "cell_type": "code",
   "execution_count": 24,
   "metadata": {},
   "outputs": [
    {
     "data": {
      "text/plain": [
       "F_onewayResult(statistic=174.05378837225294, pvalue=1.101276256457687e-65)"
      ]
     },
     "execution_count": 24,
     "metadata": {},
     "output_type": "execute_result"
    }
   ],
   "source": [
    "stats.f_oneway(df.loc[df['RegionsNum']==0][\"Total Volume\"],\n",
    "                   df.loc[df['RegionsNum']==1][\"Total Volume\"],\n",
    "                    df.loc[df['RegionsNum']==2][\"Total Volume\"])"
   ]
  },
  {
   "cell_type": "code",
   "execution_count": null,
   "metadata": {},
   "outputs": [],
   "source": []
  },
  {
   "cell_type": "code",
   "execution_count": null,
   "metadata": {},
   "outputs": [],
   "source": []
  }
 ],
 "metadata": {
  "kernelspec": {
   "display_name": "Python 3",
   "language": "python",
   "name": "python3"
  },
  "language_info": {
   "codemirror_mode": {
    "name": "ipython",
    "version": 3
   },
   "file_extension": ".py",
   "mimetype": "text/x-python",
   "name": "python",
   "nbconvert_exporter": "python",
   "pygments_lexer": "ipython3",
   "version": "3.9.5"
  }
 },
 "nbformat": 4,
 "nbformat_minor": 4
}
