{
 "cells": [
  {
   "cell_type": "code",
   "execution_count": 1,
   "id": "ed15e0d8-af17-4e2f-b884-2f83aaa17adb",
   "metadata": {},
   "outputs": [],
   "source": [
    "import numpy as np"
   ]
  },
  {
   "cell_type": "code",
   "execution_count": 2,
   "id": "1694b536-8d29-4ad2-8969-06335fcb2fea",
   "metadata": {},
   "outputs": [],
   "source": [
    "my_first_matrix = np.array([[2,5,9], [3,7,4], [6,8,1]])"
   ]
  },
  {
   "cell_type": "code",
   "execution_count": 3,
   "id": "a1c8a589-0b78-47de-85eb-bfd7a49be4d1",
   "metadata": {},
   "outputs": [
    {
     "data": {
      "text/plain": [
       "array([[2, 5, 9],\n",
       "       [3, 7, 4],\n",
       "       [6, 8, 1]])"
      ]
     },
     "execution_count": 3,
     "metadata": {},
     "output_type": "execute_result"
    }
   ],
   "source": [
    "my_first_matrix"
   ]
  },
  {
   "cell_type": "code",
   "execution_count": 4,
   "id": "11111fe9-f6f9-43cd-8c58-81a39f6c4152",
   "metadata": {},
   "outputs": [
    {
     "name": "stdout",
     "output_type": "stream",
     "text": [
      "1\n",
      "9\n",
      "45\n",
      "5.0\n",
      "2.581988897471611\n"
     ]
    }
   ],
   "source": [
    "print(my_first_matrix.min())\n",
    "print(my_first_matrix.max())\n",
    "print(my_first_matrix.sum())\n",
    "print(my_first_matrix.mean())\n",
    "print(my_first_matrix.std())"
   ]
  },
  {
   "cell_type": "code",
   "execution_count": 5,
   "id": "8837fbb2-b84e-4986-b985-3688f2e59519",
   "metadata": {},
   "outputs": [
    {
     "name": "stdout",
     "output_type": "stream",
     "text": [
      "(3, 3)\n",
      "2\n",
      "5\n",
      "9\n",
      "3\n",
      "7\n",
      "4\n",
      "6\n",
      "8\n",
      "1\n"
     ]
    }
   ],
   "source": [
    "print(my_first_matrix.shape)\n",
    "print(my_first_matrix[0,0])\n",
    "print(my_first_matrix[0,1])\n",
    "print(my_first_matrix[0,2])\n",
    "print(my_first_matrix[1,0])\n",
    "print(my_first_matrix[1,1])\n",
    "print(my_first_matrix[1,2])\n",
    "print(my_first_matrix[2,0])\n",
    "print(my_first_matrix[2,1])\n",
    "print(my_first_matrix[2,2])"
   ]
  },
  {
   "cell_type": "code",
   "execution_count": null,
   "id": "e7c20fe5-f4b9-4c7a-ba4e-fb38235d70bd",
   "metadata": {},
   "outputs": [],
   "source": []
  }
 ],
 "metadata": {
  "kernelspec": {
   "display_name": "Python 3",
   "language": "python",
   "name": "python3"
  },
  "language_info": {
   "codemirror_mode": {
    "name": "ipython",
    "version": 3
   },
   "file_extension": ".py",
   "mimetype": "text/x-python",
   "name": "python",
   "nbconvert_exporter": "python",
   "pygments_lexer": "ipython3",
   "version": "3.9.5"
  }
 },
 "nbformat": 4,
 "nbformat_minor": 5
}
