{
 "cells": [
  {
   "cell_type": "markdown",
   "id": "6da462be",
   "metadata": {},
   "source": [
    "## ML Math\n",
    "- [reference](https://media-exp1.licdn.com/dms/document/C4E1FAQGUcUM_e9Fc7g/feedshare-document-pdf-analyzed/0/1618035618384?e=1618146000&v=beta&t=R4_DqCD7wt0o0HjZqS3_OQCEk01o4X15fy7DyioMtuk)\n",
    "- [Shervine Amidi](https://stanford.edu/~shervine/)"
   ]
  },
  {
   "cell_type": "markdown",
   "id": "4a8c0f98",
   "metadata": {},
   "source": [
    "### Linear Algebra and Calculus"
   ]
  },
  {
   "cell_type": "markdown",
   "id": "681d80b8",
   "metadata": {},
   "source": [
    "- Vector – We note $ x \\in \\Re{^n} $ a vector with $ n $ entries, where $ x_i \\in \\Re $ is the ith entry:\n",
    "\n",
    "\n",
    "\n"
   ]
  },
  {
   "cell_type": "code",
   "execution_count": null,
   "id": "650fbec0",
   "metadata": {},
   "outputs": [],
   "source": []
  }
 ],
 "metadata": {
  "kernelspec": {
   "display_name": "Python 3",
   "language": "python",
   "name": "python3"
  },
  "language_info": {
   "codemirror_mode": {
    "name": "ipython",
    "version": 3
   },
   "file_extension": ".py",
   "mimetype": "text/x-python",
   "name": "python",
   "nbconvert_exporter": "python",
   "pygments_lexer": "ipython3",
   "version": "3.8.2"
  }
 },
 "nbformat": 4,
 "nbformat_minor": 5
}
