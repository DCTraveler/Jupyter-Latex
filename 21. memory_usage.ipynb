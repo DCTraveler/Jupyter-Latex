{
 "cells": [
  {
   "cell_type": "code",
   "execution_count": null,
   "id": "5b05a025",
   "metadata": {},
   "outputs": [],
   "source": [
    "#get memory usage\n",
    "MDG1_memory = MDG1.memory_usage().sum()/1024**2\n",
    "MDG2_memory = MDG2.memory_usage().sum()/1024**2\n",
    "MDG3_memory = MDG3.memory_usage().sum()/1024**2\n",
    "MDG4_memory = MDG4.memory_usage().sum()/1024**2\n",
    "\n",
    "notebook_initial_mem = (MDG1_memory + MDG2_memory + MDG3_memory + MDG4_memory)\n",
    "\n",
    "print(\"MDG1 has allocated %.2f MBs\" %(MDG1_memory))\n",
    "print(\"MDG2 has allocated %.2f MBs\" %(MDG2_memory))\n",
    "print(\"MDG3 has allocated %.2f MBs\" %(MDG3_memory))\n",
    "print(\"MDG4 has allocated %.2f MBs\" %(MDG4_memory))\n",
    "print(\"Current Notebook Total Memory Used: %.2f MBs\" %(notebook_initial_mem))"
   ]
  }
 ],
 "metadata": {
  "kernelspec": {
   "display_name": "Python 3 (ipykernel)",
   "language": "python",
   "name": "python3"
  },
  "language_info": {
   "codemirror_mode": {
    "name": "ipython",
    "version": 3
   },
   "file_extension": ".py",
   "mimetype": "text/x-python",
   "name": "python",
   "nbconvert_exporter": "python",
   "pygments_lexer": "ipython3",
   "version": "3.9.15"
  }
 },
 "nbformat": 4,
 "nbformat_minor": 5
}
