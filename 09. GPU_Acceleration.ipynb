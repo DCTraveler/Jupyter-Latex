{
 "cells": [
  {
   "cell_type": "markdown",
   "metadata": {},
   "source": [
    "<img src=\"https://coe.gsa.gov/images/coe-logo.svg\" align=\"left\" alt=\"COE image\" width = \"600\">"
   ]
  },
  {
   "cell_type": "markdown",
   "metadata": {},
   "source": [
    "## Centers of Excellence\n",
    " \n",
    "\n",
    "## The Mission\n",
    "The [mission of the Centers of Excellence](https://coe.gsa.gov/about/mission-values.html) is to accelerate IT modernization at federal agencies by leveraging private sector innovation and government services while centralizing best practices and expertise for holistic transformation. The CoE leverages commercially available solutions and expertise from industry to deliver enterprise transformation initiatives in partnership with agencies.\n",
    "\n",
    "## AI Center of Excellence\n",
    "Here at the [AI Centers of Excellence](https://coe.gsa.gov/coe/artificial-intelligence.html) engage various government organizations that want to buy and/or build AI/ML capabilities integrating them into their respective functional areas.\n",
    "\n",
    "## EO 13859\n",
    "The [Executive Order (EO) 13859](https://www.whitehouse.gov/ai/executive-order-ai/) directs the Federal government to pursue five pillars for advancing AI: \n",
    "\n",
    "1. invest in AI research and development (R&D), \n",
    "2. unleash AI resources, \n",
    "3. remove barriers to AI innovation, \n",
    "4. train an AI-ready workforce, and \n",
    "5. promote an international environment that is supportive of American AI innovation and its responsible use. \n",
    "\n",
    "The U.S. is also actively leveraging AI to help the Federal government work smarter in its own services and missions in trustworthy ways.\n",
    "\n",
    "\n",
    "Our team has come up with an initial way to baseline the organization and help with charting a course for the organization. We baseline each organization in terms of Operational and Organizational Maturity. We have introduced our AI Capability Maturity Model to a couple of engagements and are testing out how well they are assisting the engagement. We use this as a tool and foundation on which to move to the next steps."
   ]
  },
  {
   "cell_type": "markdown",
   "metadata": {},
   "source": [
    "<img src=\"images/20200804_AI_CMM.png\" align=\"left\" alt=\"AI_CMM\" width = \"1000\">"
   ]
  },
  {
   "cell_type": "markdown",
   "metadata": {},
   "source": [
    "Once we have baselined the organization and charted a Data, ML and AI course we start mapping the various layers to a respective vendor. As an example and since we have an Amazon AWS innovation lab we'll showacase as a mapped example. We show the top three operational layers of our AI CMM in the AWS form"
   ]
  },
  {
   "cell_type": "markdown",
   "metadata": {},
   "source": [
    "<img src=\"images/AI-ML-DataOps4.png\" align=\"left\" alt=\"AI-ML-DataOps\" width = \"1000\">"
   ]
  },
  {
   "cell_type": "markdown",
   "metadata": {},
   "source": [
    "Once we've identified use-cases we then start our AI Sustainment Cycle\n"
   ]
  },
  {
   "cell_type": "markdown",
   "metadata": {},
   "source": [
    "<img src=\"images/AI_Sustainment_Cycle.png\" align=\"left\" alt=\"AI sustainment cycle\" width = \"600\">"
   ]
  },
  {
   "cell_type": "markdown",
   "metadata": {},
   "source": [
    "So as organizations start brainstorming, it's always good to go to Gartner and see where the hype cycles and information are at with respect to AI. Let's take a look at Gartners Hype Cycle and Priority Matrix for AI 2020"
   ]
  },
  {
   "cell_type": "markdown",
   "metadata": {},
   "source": [
    "<img src=\"images/AI_Hype_Cycle.png\" align=\"left\" alt=\"COE image\" width = \"1000\">"
   ]
  },
  {
   "cell_type": "markdown",
   "metadata": {},
   "source": [
    "## Gartner\n",
    "Gartner is the world's leading research and advisory company. \n",
    "\n",
    "## Definition\n",
    "GPU-accelerated computing is the use of a graphics processing unit (GPU) to accelerate highly parallel compute-intensive portions of the workloads in conjunction with a CPU.\n",
    "\n",
    "## Justification\n",
    "GPUs are highly parallel floating-point processors designed for graphics and visualization workloads. Over the last decade, NVIDIA and others have added programmable capability to GPUs, enabling software applications to access deep, fast-floating-point resources. A number of GPU designs also host very high-bandwidth memory subsystems. For many highly parallel, repetitive, compute-intensive applications, GPUs deliver dramatic performance improvements over traditional CPUs. GPU subsystems are actively deployed in two key markets: high-performance computing (HPC) and AI.\n",
    "\n",
    "In HPC, compute-intensive applications including molecular dynamics, computational fluid dynamics, financial modeling and geospatial applications can, in many cases, can be dramatically accelerated using GPUs. Programming GPUs can be challenging because execution order and code optimization are critical. However, toolkits like NVIDIA's CUDA can dramatically lower the programming challenges.\n",
    "\n",
    "In AI, DNN technologies are maturing quickly, supported by open-source software frameworks from the large cloud providers. Today most of the DNN frameworks, including TensorFlow, Torch, Caffe, Apache MXNet and Microsoft Cognitive Toolkit, support GPU acceleration. Although many ASICs are emerging, few offer broad ecosystem support. Ease of programming GPUs, using tools such as CuDNN, and broad ecosystem support continue to be distinct differentiators and advantages.\n",
    "\n",
    "GPU computing has moved forward on the Slope of Enlightenment primarily due to maturity of system stacks resulting in easier adoption.\n",
    "\n",
    "## User Advice\n",
    "GPU-accelerated computing can deliver extreme performance for highly parallel compute-intensive workloads in HPC, DNN training and inferencing. GPU computing is also available as a cloud service and may be economical for applications where utilization is low but urgency of completion is high.\n",
    "\n",
    "Leverage GPU-based solutions to accelerate compatible applications by:\n",
    "\n",
    "Selecting GPU compute platforms that offer the most mature software stack.\n",
    "Optimizing infrastructure costs by evaluating cloud-hosted GPU environments for proof of concept (POC) and prototype phases.\n",
    "Use GPU accelerators when applications require extreme performance and have high degrees of compute parallelism (example: many high-performance computing and deep learning applications).\n",
    "\n",
    "Business Impact Areas\n",
    "HPC and deep learning are essential to many digital business strategies. For this fast-growing workload, traditional enterprise ecosystems based on CPU-only approaches will not suffice. Leverage mature GPU technologies for select HPC applications and deep learning infrastructures. Programmability challenges have been largely solved in GPU-accelerated computing by toolsets such as CUDA. I&O leaders can minimize risk by using cloud-hosted GPU environments for testing and evaluation.\n",
    "\n",
    "## Sample Vendors\n",
    "AMD;Intel;NVIDIA\n",
    "\n",
    "Benefit Rating\n",
    "High\n",
    "\n",
    "Market Penetration\n",
    "20% to 50% of target audience\n",
    "\n",
    "Maturity\n",
    "Mature Mainstream\n",
    "\n",
    "Gartner Analysts\n",
    "Alan Priestley, Martin Reynolds, Chirag Dekate"
   ]
  },
  {
   "cell_type": "markdown",
   "metadata": {},
   "source": [
    "<img src=\"images/Gartner_priority_matrix.png\" align=\"left\" alt=\"priority matrix\" width = \"800\">"
   ]
  },
  {
   "cell_type": "code",
   "execution_count": 4,
   "metadata": {},
   "outputs": [
    {
     "data": {
      "image/jpeg": "[encoded data removed]",
      "text/html": [
       "\n",
       "        <iframe\n",
       "            width=\"720\"\n",
       "            height=\"480\"\n",
       "            src=\"https://www.youtube.com/embed/40jgEtwkbp0\"\n",
       "            frameborder=\"0\"\n",
       "            allowfullscreen\n",
       "        ></iframe>\n",
       "        "
      ],
      "text/plain": [
       "<IPython.lib.display.YouTubeVideo at 0x112415a90>"
      ]
     },
     "execution_count": 4,
     "metadata": {},
     "output_type": "execute_result"
    }
   ],
   "source": [
    "from IPython.display import YouTubeVideo\n",
    "YouTubeVideo('40jgEtwkbp0', width=720, height=480)"
   ]
  },
  {
   "cell_type": "markdown",
   "metadata": {},
   "source": [
    "## Nvidia Jetson TX2\n",
    "<img src=\"images/jetsontx2.png\" align=\"left\" alt=\"Jetson Tx2\" width = \"400\">"
   ]
  },
  {
   "cell_type": "markdown",
   "metadata": {},
   "source": [
    "<img src=\"https://www.ornl.gov/themes/custom/ornl/logo.svg\" align=\"left\" alt=\"ORNL Logo\" width = \"400\">\n"
   ]
  },
  {
   "cell_type": "markdown",
   "metadata": {},
   "source": [
    "\n",
    "## Oak Ridge National laboratory\n",
    "\n",
    "[ORNL](https://www.ornl.gov/) is home to Summit\n",
    "\n",
    "<img src=\"https://www.ornl.gov/sites/default/files/styles/main_image_style/public/2008-P01679.jpg?itok=yZIq9m9u\" align=\"left\" alt=\"ORNL Summit\" width = \"600\">\n",
    "\n",
    "\n",
    "\n"
   ]
  },
  {
   "cell_type": "markdown",
   "metadata": {},
   "source": [
    "So, we've covered edge and HPC, what else can we see in our crystal ball?\n",
    "\n",
    "There is this intersection coming with low power chips like ARM that is provided in the Jetson and your Apple IPhones. At the mobile edge there is a little something called 5G being deployed right now. \n",
    "\n",
    "What do you think is going to happen when low power ARM chips are well integrated with the Nivida ecosystem along with cuda and tensor cores? Edge AI is happening!"
   ]
  },
  {
   "cell_type": "markdown",
   "metadata": {},
   "source": [
    "Next-generation 5G networks will have high-performance embedded computers with parallel accelerators at the very edge of the network. \n",
    "\n",
    "These \"endpoints\", includes autonomous vehicles, industrial robots, 3D or holographic communications, smart sensors, drones, satelites, deep space networks, etc. requires much tighter integration with new protocols and software architectures. \n",
    "\n",
    "This tighter integration achieves faster, and extremely low latency communications through this distributed computing architecture model. \n",
    "\n",
    "The amounts of data produced today and over next decade and the needed processing will increase by orders of magnitude, this drives the demand for parallel accelerated computing even further.\n",
    "\n",
    "As your organization matures in the field of AI and learning about the underlying frameworks that harness GPUs you can then decide what's best for your organization utilizing a hybrid infrastructure and cloud based approach.\n",
    "\n",
    "I hope you share in my enthusiam for having the Nvidia team provide their latest updates in the field of AI/ML/DL.\n",
    "\n",
    "Welcome to the Nvidia Team! Thanks again for those of you that have joined us today.\n",
    "\n"
   ]
  },
  {
   "cell_type": "code",
   "execution_count": null,
   "metadata": {},
   "outputs": [],
   "source": []
  },
  {
   "cell_type": "code",
   "execution_count": null,
   "metadata": {},
   "outputs": [],
   "source": []
  }
 ],
 "metadata": {
  "kernelspec": {
   "display_name": "Python 3",
   "language": "python",
   "name": "python3"
  },
  "language_info": {
   "codemirror_mode": {
    "name": "ipython",
    "version": 3
   },
   "file_extension": ".py",
   "mimetype": "text/x-python",
   "name": "python",
   "nbconvert_exporter": "python",
   "pygments_lexer": "ipython3",
   "version": "3.7.4"
  }
 },
 "nbformat": 4,
 "nbformat_minor": 2
}
