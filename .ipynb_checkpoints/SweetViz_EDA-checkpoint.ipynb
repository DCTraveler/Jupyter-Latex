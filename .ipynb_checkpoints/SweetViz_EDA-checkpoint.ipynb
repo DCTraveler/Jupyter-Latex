{
 "cells": [
  {
   "cell_type": "markdown",
   "id": "beautiful-conflict",
   "metadata": {},
   "source": [
    "One of the latest exploratory data analysis libraries is a new open-source Python library called Sweetviz, for just the purposes of finding out data types, missing information, distribution of values, correlations, etc. Find out more about the library and how to use it here.\n",
    "\n",
    "Exploratory data analysis (EDA) is an essential early step in most data science projects and it often consists of taking the same steps to characterize a dataset (e.g. find out data types, missing information, distribution of values, correlations, etc.). Given the repetitiveness and similarity of such tasks, there are a few libraries that automate and help kickstart the process.\n",
    "\n",
    "One of the latest is a new open-source Python library called Sweetviz (GitHub), created by a few contributors and myself for just that purpose. It takes pandas dataframes and creates a self-contained HTML report that can be viewed by itself in a browser or integrated into notebooks.\n",
    "\n",
    "It packs a powerful punch; in addition to creating insightful and beautiful visualizations with just two lines of code, it provides analysis that would take a lot more time to generate manually, including some that no other library provides so quickly such as:\n",
    "\n",
    "Target analysis: shows how a target value (e.g. \"Survived\" in the Titanic dataset) relates to other features\n",
    "Dataset comparisons: between datasets (e.g. \"Train vs Test\") and intra-set (e.g. \"Male vs Female\")\n",
    "Correlation/associations: full integration of numerical and categorical data correlations and associations, all in one graph and table\n",
    "Other references/examples:\n",
    "\n",
    "- [Google Colab notebook with documentation & examples of integration](https://colab.research.google.com/drive/1-md6YEwcVGWVnQWTBirQSYQYgdNoeSWg?usp%3Dsharing&sa=D&ust=1611941330247000&usg=AOvVaw1dyrc3C9Dzi-M7IGPhnULe)\n",
    "- [Sample report for the well-known sample Titanic Survivor dataset](http://cooltiming.com/SWEETVIZ_REPORT.html)\n",
    "- [GitHub page (full docs & usage)](https://github.com/fbdesignpro/sweetviz) \n",
    " \n",
    "\n",
    "### EDA made… fun?!\n",
    " \n",
    "Being able to get so much information so quickly about the target value and compare different areas of the dataset transforms this initial step from being tedious to being faster, interesting and even to some degree… fun! (to this data geek, at least!) Of course EDA is a much longer process but at least that first step is a lot smoother. Let’s see how it works out with an actual dataset.\n",
    "\n",
    " \n",
    "\n",
    "### Creating a report\n",
    " \n",
    "Once your data is loaded, creating a report is a quick 2-line process.\n",
    "\n",
    "For this article, we will be using a cleaned-up version of the Credit Card Customers dataset described here. You can download the cleaned-up dataset here. The cleanup simply consisted of removing the last 2 columns as mentioned in the description, and the \"Attrition_Flag\" variable was turned into a boolean, as intended.\n",
    "\n",
    "After installation of Sweetviz (using pip install sweetviz), load the pandas dataframe(s) as you normally would:"
   ]
  },
  {
   "cell_type": "code",
   "execution_count": 1,
   "id": "adaptive-breach",
   "metadata": {},
   "outputs": [],
   "source": [
    "import sweetviz\n",
    "import pandas as pd\n",
    "df = pd.read_csv(\"data/BankChurners_clean.csv\")"
   ]
  },
  {
   "cell_type": "markdown",
   "id": "descending-lobby",
   "metadata": {},
   "source": [
    "### Step 1: create the report\n",
    " \n",
    "To create a report, you can call either:\n",
    "\n",
    "- analyze() for a single dataset\n",
    "- compare() to compare 2 datasets (e.g. Test versus Train)\n",
    "- compare_intra() to compare 2 sub-populations within a same dataset\n",
    "\n",
    "In our case, we have a single dataset, so let's analyze() it. Importantly, we would like to get information on our target variable \"Attrition_Flag\", so let's specify it:"
   ]
  },
  {
   "cell_type": "code",
   "execution_count": 2,
   "id": "upset-weapon",
   "metadata": {},
   "outputs": [
    {
     "data": {
      "application/vnd.jupyter.widget-view+json": {
       "model_id": "9eb90cf954e1446e813b13f39338fa8f",
       "version_major": 2,
       "version_minor": 0
      },
      "text/plain": [
       "                                             |          | [  0%]   00:00 -> (? left)"
      ]
     },
     "metadata": {},
     "output_type": "display_data"
    }
   ],
   "source": [
    "report = sweetviz.analyze(df, \"Attrition_Flag\")"
   ]
  },
  {
   "cell_type": "markdown",
   "id": "neural-arrival",
   "metadata": {},
   "source": [
    "### Step 2: generate output\n",
    " \n",
    "Once we have our report object, it can generate a standalone HTML application (HTML page) or embed the report inside a Notebook. You can refer to the usage examples/documentation (here & here) for more details. Now, let's generate a standalone HTML application:\n",
    "\n"
   ]
  },
  {
   "cell_type": "code",
   "execution_count": 3,
   "id": "controversial-donna",
   "metadata": {},
   "outputs": [
    {
     "name": "stdout",
     "output_type": "stream",
     "text": [
      "Report SWEETVIZ_REPORT.html was generated! NOTEBOOK/COLAB USERS: the web browser MAY not pop up, regardless, the report IS saved in your notebook/colab files.\n"
     ]
    }
   ],
   "source": [
    "report.show_html()"
   ]
  },
  {
   "cell_type": "markdown",
   "id": "adverse-burke",
   "metadata": {},
   "source": [
    "With the default options, this will create a file \"SWEETVIZ_REPORT.html\" and pop open a browser. You can consult the full report generated here. If you are operating inside a notebook, that file will be generated but the browser may not pop up (using show_notebook() is recommended for notebooks, see documentation).\n",
    "\n",
    "Output options include:\n",
    "\n",
    "- Layout (widescreen or vertical)\n",
    "- Scaling\n",
    "- Window size (for notebooks)\n",
    " \n",
    "\n",
    "### The Sweetviz report\n",
    "\n",
    "On top of the report, a simple overview of the dataset (along with comparison if comparing). For each feature, Sweetviz will do a best guess at determining the data type of each column, between:\n",
    "\n",
    "-numerical\n",
    "-categorical/boolean\n",
    "-text (default/fallback)\n",
    "\n",
    "Note that these can be overridden using \"FeatureConfig\" (see documentation).\n",
    "\n",
    " \n",
    "\n",
    "### Associations/correlations\n",
    " \n",
    "The \"Associations\" button unlocks a very powerful analysis of associations and correlations. This graph is a composite of the visuals from [Drazen Zaric: Better Heatmaps and Correlation Matrix Plots in Python](https://towardsdatascience.com/better-heatmaps-and-correlation-matrix-plots-in-python-41445d0f2bec) and concepts from [Shaked Zychlinski: The Search for Categorical Correlation](https://towardsdatascience.com/the-search-for-categorical-correlation-a1cf7f1888c9).\n",
    "\n",
    "Basically, in addition to showing the traditional numerical correlations, it unifies in a single graph both numerical correlation, the uncertainty coefficient (for categorical-categorical) and correlation ratio (for categorical-numerical). Note that the trivial diagonal is left empty, for clarity."
   ]
  },
  {
   "cell_type": "code",
   "execution_count": 5,
   "id": "assisted-petersburg",
   "metadata": {},
   "outputs": [
    {
     "data": {
      "application/vnd.jupyter.widget-view+json": {
       "model_id": "9f5b1117ec174d2b8d84127209009e78",
       "version_major": 2,
       "version_minor": 0
      },
      "text/plain": [
       "                                             |          | [  0%]   00:00 -> (? left)"
      ]
     },
     "metadata": {},
     "output_type": "display_data"
    }
   ],
   "source": [
    "report2 = sweetviz.compare_intra(df, df[\"Total_Ct_Chng_Q4_Q1\"] < 0.6, [\"Low_Ct_Chng_Q1Q4\", \"High_Ct_Chng_Q1Q4\"], \"Attrition_Flag\")"
   ]
  },
  {
   "cell_type": "code",
   "execution_count": 6,
   "id": "literary-upgrade",
   "metadata": {},
   "outputs": [
    {
     "name": "stdout",
     "output_type": "stream",
     "text": [
      "Report SWEETVIZ_REPORT.html was generated! NOTEBOOK/COLAB USERS: the web browser MAY not pop up, regardless, the report IS saved in your notebook/colab files.\n"
     ]
    }
   ],
   "source": [
    "report2.show_html()"
   ]
  },
  {
   "cell_type": "code",
   "execution_count": null,
   "id": "stable-diabetes",
   "metadata": {},
   "outputs": [],
   "source": []
  }
 ],
 "metadata": {
  "kernelspec": {
   "display_name": "Python 3",
   "language": "python",
   "name": "python3"
  },
  "language_info": {
   "codemirror_mode": {
    "name": "ipython",
    "version": 3
   },
   "file_extension": ".py",
   "mimetype": "text/x-python",
   "name": "python",
   "nbconvert_exporter": "python",
   "pygments_lexer": "ipython3",
   "version": "3.7.4"
  }
 },
 "nbformat": 4,
 "nbformat_minor": 5
}
