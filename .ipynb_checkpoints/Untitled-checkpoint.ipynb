{
 "cells": [
  {
   "cell_type": "markdown",
   "id": "39833de2-3dd8-464b-ab9a-cd27ef7f8f49",
   "metadata": {},
   "source": [
    "## Setup\n",
    "\n",
    "1. First, open up your command prompt (Windows) or your terminal (Mac/Linux)\n",
    "    - For Windows, navigate to your search bar in the bottom left hand corner. Type in `Command Prompt` and it should pop up. Click on `Command Prompt` and a separate window should appear on your screen.\n",
    "    - For Mac, press `command` and the space bar at the same time. Type in `terminal` and press `enter`. A separate Terminal window will pop up.\n",
    "2. Now that you are in your Command Prompt/Terminal, run the following command:\n",
    "    ```text\n",
    "    cd desktop\n",
    "    ```\n",
    "3. Next, move your command prompt/terminal's location to the new `python_course` you just created by running the following:\n",
    "    ```text\n",
    "    cd python_course\n",
    "    ```\n",
    "4. Create a _new_ directory within the `python_course` directory. This new folder is the project you will be working in for this lesson. Run the following:\n",
    "    ```text\n",
    "    mkdir lesson_five\n",
    "    ```\n",
    "5. Open up a new window in VSCode.\n",
    "6. The first thing you should see a Welcome page. You can close this window.\n",
    "7. Now, its time to open the `lesson_five` directory. Click on the \"Explorer\" button on the left-hand side of the VSCode window.\n",
    "8. You will now see a button that says `Open Folder`, as shown below. Click this button.\n",
    "9. A new window will open that will allow you to search for files and folders. Locate the `python_course` folder you just created on your Desktop. Click on that folder and then locate the `lesson_five` folder. Select the `lesson_five` directory and click the `Open` button.\n",
    "10. Create a new file named `main.py` by one of the following three ways:\n",
    "    - To the right of __LESSON_FIVE__ in the EXPLORER is a button that looks like a piece of paper with a plus symbol in its top-left corner. If you hover your mouse over this button for a moment, a popup will appear indicating that this button will create a new file.\n",
    "    - Choose `File > New File` from the app's menu.\n",
    "    - Press `Control + N` in Windows or `Command + N` on a Mac (the plus means \"and at the same time\").\n"
   ]
  },
  {
   "cell_type": "code",
   "execution_count": null,
   "id": "6680b434-29a8-480c-b1c7-e39a109a8a61",
   "metadata": {},
   "outputs": [],
   "source": []
  }
 ],
 "metadata": {
  "kernelspec": {
   "display_name": "Python 3",
   "language": "python",
   "name": "python3"
  },
  "language_info": {
   "codemirror_mode": {
    "name": "ipython",
    "version": 3
   },
   "file_extension": ".py",
   "mimetype": "text/x-python",
   "name": "python",
   "nbconvert_exporter": "python",
   "pygments_lexer": "ipython3",
   "version": "3.8.11"
  }
 },
 "nbformat": 4,
 "nbformat_minor": 5
}
