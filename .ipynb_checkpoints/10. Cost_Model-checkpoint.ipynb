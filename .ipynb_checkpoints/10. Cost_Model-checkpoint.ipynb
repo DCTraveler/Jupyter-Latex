{
 "cells": [
  {
   "cell_type": "markdown",
   "metadata": {},
   "source": [
    "### Storage Cost Model\n",
    "\n",
    "\\begin{align}\n",
    "C_{Tn}=[M+y=1nGy]xCxC_{CY}+U_n*C_I\n",
    "\\end{align}"
   ]
  },
  {
   "cell_type": "markdown",
   "metadata": {},
   "source": [
    "The difference between purchasing on-premises storage and consuming public cloud storage comes down to the difference between capex and opex models. \n",
    "\n",
    "__Capex, or capital expenditures__, are incurred when a company or government organization spends money to invest in new equipment. \n",
    "\n",
    "__Opex, or operating expenses__, take place on a regular basis and represent a part of the day-to-day operation of the company or government organization. \n",
    "\n",
    "Investing in new equipment is called capex, while consuming storage in the cloud is mostly opex, since bills are paid monthly and based on usage (a cost for operating the cloud, rather than the physical hardware)."
   ]
  },
  {
   "cell_type": "markdown",
   "metadata": {},
   "source": [
    "- $C_T$ is the storage cost of a given year, $n$\n",
    "- $M$ is the initial volume of data migrated from storage\n",
    "- $G$ is the volume of growth based on past experience and future estimates for years 1-3, 4-6 and 7-9\n",
    "- $C$ is the current storage costs per \\\\$/TB/year, i.e. \\\\$12/TB/year = \\\\$12000/PB/year\n",
    "- $C_C$ is the change in cost represented as a decrease of 25\\% over today's cost every 3 years e.g. $C_C$ in years 1-3 is 1, representing \\\\$12/TB/yr, $C_C$ in years 4-6 is .75, representing \\\\$9/12/TB/yr, $C_C$ in years 7-9 is .5, representing \\\\$6/12/TB/yr\n",
    "- $Y$ is the year, one of 1-3, 4-6, 7-9\n",
    "- $U$ is the amount of data uploaded each year\n",
    "- $C_I$ is the ingest cost of 6% of one year's storage cost for the volume in that year\n",
    "- $C_E$ is the egress cost per year based on the estimate 2\\% of the data being recalled (not included in the above equation)"
   ]
  },
  {
   "cell_type": "markdown",
   "metadata": {},
   "source": [
    "### Compute Cost Model\n",
    "\n",
    "TODO: design"
   ]
  },
  {
   "cell_type": "code",
   "execution_count": null,
   "metadata": {},
   "outputs": [],
   "source": []
  }
 ],
 "metadata": {
  "kernelspec": {
   "display_name": "Python 3",
   "language": "python",
   "name": "python3"
  },
  "language_info": {
   "codemirror_mode": {
    "name": "ipython",
    "version": 3
   },
   "file_extension": ".py",
   "mimetype": "text/x-python",
   "name": "python",
   "nbconvert_exporter": "python",
   "pygments_lexer": "ipython3",
   "version": "3.7.4"
  }
 },
 "nbformat": 4,
 "nbformat_minor": 4
}
