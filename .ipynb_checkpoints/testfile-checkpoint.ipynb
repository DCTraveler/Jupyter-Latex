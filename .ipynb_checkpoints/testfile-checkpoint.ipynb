{
 "cells": [
  {
   "cell_type": "code",
   "execution_count": 1,
   "id": "403aa065-a1f3-49ae-98c5-c36f7a17a23d",
   "metadata": {},
   "outputs": [
    {
     "name": "stdout",
     "output_type": "stream",
     "text": [
      "\u001b[34m==>\u001b[0m \u001b[1mFormulae\u001b[0m\n",
      "ansible\t\t\t\tlibssh2\n",
      "aom\t\t\t\tlibtasn1\n",
      "azure-cli\t\t\tlibtiff\n",
      "bdw-gc\t\t\t\tlibtool\n",
      "brotli\t\t\t\tlibunistring\n",
      "c-ares\t\t\t\tlibuv\n",
      "cairo\t\t\t\tlibvidstab\n",
      "cask\t\t\t\tlibvorbis\n",
      "coreutils\t\t\tlibvpx\n",
      "csvkit\t\t\t\tlibx11\n",
      "dav1d\t\t\t\tlibxau\n",
      "docker-machine\t\t\tlibxcb\n",
      "docker-machine-driver-xhyve\tlibxdmcp\n",
      "emacs\t\t\t\tlibxext\n",
      "ffmpeg\t\t\t\tlibxrender\n",
      "findutils\t\t\tlibyaml\n",
      "flac\t\t\t\tlittle-cms2\n",
      "fontconfig\t\t\tlzo\n",
      "freetype\t\t\tm4\n",
      "frei0r\t\t\t\tmasscan\n",
      "fribidi\t\t\t\tmongodb-community-shell\n",
      "fzf\t\t\t\tmpdecimal\n",
      "gcc\t\t\t\tmpfr\n",
      "gdbm\t\t\t\tnettle\n",
      "gettext\t\t\t\tnghttp2\n",
      "gh\t\t\t\tnode\n",
      "ghostscript\t\t\toniguruma\n",
      "giflib\t\t\t\topencore-amr\n",
      "git\t\t\t\topenjpeg\n",
      "git-lfs\t\t\t\topenshift-cli\n",
      "glib\t\t\t\topenssl@1.1\n",
      "gmp\t\t\t\toperator-sdk\n",
      "gnu-sed\t\t\t\topus\n",
      "gnutls\t\t\t\tp11-kit\n",
      "go\t\t\t\tpcre\n",
      "gobject-introspection\t\tpcre2\n",
      "graphite2\t\t\tpixman\n",
      "guile\t\t\t\tpkg-config\n",
      "harfbuzz\t\t\tpodman\n",
      "helm\t\t\t\tpython@3.8\n",
      "icu4c\t\t\t\tpython@3.9\n",
      "isl\t\t\t\trav1e\n",
      "jansson\t\t\t\treadline\n",
      "jbig2dec\t\t\trubberband\n",
      "jemalloc\t\t\truby\n",
      "jpeg\t\t\t\tsdl2\n",
      "jq\t\t\t\tsnappy\n",
      "k9s\t\t\t\tsocat\n",
      "kube-ps1\t\t\tspeedtest-cli\n",
      "kubectx\t\t\t\tspeex\n",
      "kubernetes-cli\t\t\tsqlite\n",
      "lame\t\t\t\tsrt\n",
      "lazygit\t\t\t\ttcl-tk\n",
      "leptonica\t\t\ttektoncd-cli\n",
      "libass\t\t\t\ttesseract\n",
      "libbluray\t\t\ttheora\n",
      "libev\t\t\t\ttree\n",
      "libevent\t\t\tunbound\n",
      "libffi\t\t\t\twebp\n",
      "libgit2\t\t\t\twget\n",
      "libidn\t\t\t\tx264\n",
      "libidn2\t\t\t\tx265\n",
      "libmpc\t\t\t\txorgproto\n",
      "libogg\t\t\t\txsv\n",
      "libpng\t\t\t\txvid\n",
      "libpthread-stubs\t\txz\n",
      "libsamplerate\t\t\tyoutube-dl\n",
      "libsndfile\t\t\tzeromq\n",
      "libsodium\t\t\tzimg\n",
      "libsoxr\t\t\t\tzstd\n",
      "\n",
      "\u001b[34m==>\u001b[0m \u001b[1mCasks\u001b[0m\n",
      "copyq\t\t\tgoogle-cloud-sdk\tminishift\n",
      "gimp\t\t\tmactex\n"
     ]
    }
   ],
   "source": [
    "!brew list"
   ]
  },
  {
   "cell_type": "code",
   "execution_count": null,
   "id": "f392f1b3-9c76-426f-bad8-9bb86b4c0b6d",
   "metadata": {},
   "outputs": [],
   "source": []
  }
 ],
 "metadata": {
  "kernelspec": {
   "display_name": "Python 3",
   "language": "python",
   "name": "python3"
  },
  "language_info": {
   "codemirror_mode": {
    "name": "ipython",
    "version": 3
   },
   "file_extension": ".py",
   "mimetype": "text/x-python",
   "name": "python",
   "nbconvert_exporter": "python",
   "pygments_lexer": "ipython3",
   "version": "3.8.8"
  }
 },
 "nbformat": 4,
 "nbformat_minor": 5
}
