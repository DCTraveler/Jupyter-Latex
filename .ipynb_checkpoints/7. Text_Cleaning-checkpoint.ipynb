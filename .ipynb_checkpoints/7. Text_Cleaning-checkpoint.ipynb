{
 "cells": [
  {
   "cell_type": "markdown",
   "metadata": {},
   "source": [
    "Simple pipeline for text cleaning using Text Hero.\n",
    "Texthero is composed of four modules: [preprocessing.py](https://github.com/jbesomi/texthero/blob/master/texthero/preprocessing.py), [nlp.py](https://github.com/jbesomi/texthero/blob/master/texthero/nlp.py), [representation.py](https://github.com/jbesomi/texthero/blob/master/texthero/representation.py) and [visualization.py](https://github.com/jbesomi/texthero/blob/master/texthero/visualization.py)."
   ]
  },
  {
   "cell_type": "code",
   "execution_count": 16,
   "metadata": {},
   "outputs": [],
   "source": [
    "import texthero as hero\n",
    "import pandas as pd"
   ]
  },
  {
   "cell_type": "code",
   "execution_count": 5,
   "metadata": {},
   "outputs": [],
   "source": [
    "#hold the text to be cleaned in a variable\n",
    "text = \"This sèntencé    (123 /) needs to [OK!] be cleaned!   \""
   ]
  },
  {
   "cell_type": "code",
   "execution_count": 6,
   "metadata": {},
   "outputs": [
    {
     "data": {
      "text/plain": [
       "0    This sèntencé    (123 /) needs to [OK!] be cle...\n",
       "dtype: object"
      ]
     },
     "execution_count": 6,
     "metadata": {},
     "output_type": "execute_result"
    }
   ],
   "source": [
    "# next place that text into a series\n",
    "s = pd.Series(text)\n",
    "s"
   ]
  },
  {
   "cell_type": "code",
   "execution_count": 7,
   "metadata": {},
   "outputs": [
    {
     "data": {
      "text/plain": [
       "0    This sèntencé    (  /) needs to [OK!] be clean...\n",
       "dtype: object"
      ]
     },
     "execution_count": 7,
     "metadata": {},
     "output_type": "execute_result"
    }
   ],
   "source": [
    "# lets remove digits\n",
    "# note: Remove digits replace only blocks of digits. The digits in the string \"hello123\" will not be removed. \n",
    "# If we want to remove all digits, you need to set only_blocks to false.\n",
    "s = hero.remove_digits(s)\n",
    "s"
   ]
  },
  {
   "cell_type": "code",
   "execution_count": 8,
   "metadata": {},
   "outputs": [
    {
     "data": {
      "text/plain": [
       "0    This sèntencé     needs to  be cleaned!   \n",
       "dtype: object"
      ]
     },
     "execution_count": 8,
     "metadata": {},
     "output_type": "execute_result"
    }
   ],
   "source": [
    "# next remove all type of brackets and their content.\n",
    "s = hero.remove_brackets(s)\n",
    "s"
   ]
  },
  {
   "cell_type": "code",
   "execution_count": 9,
   "metadata": {},
   "outputs": [
    {
     "data": {
      "text/plain": [
       "0    This sentence     needs to  be cleaned!   \n",
       "dtype: object"
      ]
     },
     "execution_count": 9,
     "metadata": {},
     "output_type": "execute_result"
    }
   ],
   "source": [
    "# Remove diacritics, which are a sign, such as an accent or cedilla, which when written above or below a letter indicates a \n",
    "# difference in pronunciation from the same letter when unmarked or differently marked.\n",
    "s = hero.remove_diacritics(s)\n",
    "s"
   ]
  },
  {
   "cell_type": "code",
   "execution_count": 10,
   "metadata": {},
   "outputs": [
    {
     "data": {
      "text/plain": [
       "0    This sentence     needs to  be cleaned    \n",
       "dtype: object"
      ]
     },
     "execution_count": 10,
     "metadata": {},
     "output_type": "execute_result"
    }
   ],
   "source": [
    "# next remove punctuation\n",
    "s = hero.remove_punctuation(s)\n",
    "s"
   ]
  },
  {
   "cell_type": "code",
   "execution_count": 11,
   "metadata": {},
   "outputs": [
    {
     "data": {
      "text/plain": [
       "0    This sentence needs to be cleaned\n",
       "dtype: object"
      ]
     },
     "execution_count": 11,
     "metadata": {},
     "output_type": "execute_result"
    }
   ],
   "source": [
    "# next remove whitespaces\n",
    "s = hero.remove_whitespace(s)\n",
    "s"
   ]
  },
  {
   "cell_type": "code",
   "execution_count": 12,
   "metadata": {},
   "outputs": [
    {
     "data": {
      "text/plain": [
       "0    This sentence needs   cleaned\n",
       "dtype: object"
      ]
     },
     "execution_count": 12,
     "metadata": {},
     "output_type": "execute_result"
    }
   ],
   "source": [
    "# Sometimes we also wants to get rid of stop-words.\n",
    "s = hero.remove_stopwords(s)\n",
    "s"
   ]
  },
  {
   "cell_type": "code",
   "execution_count": 21,
   "metadata": {},
   "outputs": [],
   "source": [
    "#https://praw.readthedocs.io/en/latest/\n",
    "#import praw\n",
    "\n",
    "#PRAW credentials\n",
    "#from config import cid, csec, ua "
   ]
  },
  {
   "cell_type": "code",
   "execution_count": 22,
   "metadata": {},
   "outputs": [],
   "source": [
    "\n",
    "#create a reddit connection\n",
    "#reddit = praw.Reddit(client_id= cid,\n",
    "#                     client_secret= csec,\n",
    "#                     user_agent= ua)\n",
    "#list for df conversion\n",
    "#posts = []\n",
    "#return 1000 new posts from teaching\n",
    "#new = reddit.subreddit('teaching').new(limit=1000)\n",
    "#return the important attributes\n",
    "#for post in new:\n",
    "#    posts.append([post.title, post.score, post.num_comments, post.selftext, post.created, post.pinned, post.total_awards_received])\n",
    "#create a dataframe\n",
    "#df = pd.DataFrame(posts,columns=['title', 'score', 'comments', 'post', 'created', 'pinned', 'total awards'])\n",
    "#return top 3 df rows\n",
    "#df.head(3)"
   ]
  },
  {
   "cell_type": "code",
   "execution_count": null,
   "metadata": {},
   "outputs": [],
   "source": []
  }
 ],
 "metadata": {
  "kernelspec": {
   "display_name": "Python 3",
   "language": "python",
   "name": "python3"
  },
  "language_info": {
   "codemirror_mode": {
    "name": "ipython",
    "version": 3
   },
   "file_extension": ".py",
   "mimetype": "text/x-python",
   "name": "python",
   "nbconvert_exporter": "python",
   "pygments_lexer": "ipython3",
   "version": "3.7.4"
  }
 },
 "nbformat": 4,
 "nbformat_minor": 4
}
