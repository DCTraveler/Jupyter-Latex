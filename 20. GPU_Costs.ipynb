{
 "cells": [
  {
   "cell_type": "markdown",
   "id": "7ae72c60",
   "metadata": {},
   "source": [
    "## comparing costs\n",
    "\n",
    "One of the most frustrating things to even begin to try and understand are the cloud costs especially when trying to add GPUs to your infrastructure. Each cloud provider calls each product differently.\n",
    "\n",
    "Since we're focusing on GPUs, let's start with what Nvidia calls their lines of GPUs"
   ]
  },
  {
   "cell_type": "markdown",
   "id": "37fe0536",
   "metadata": {},
   "source": [
    "## Nvidia\n",
    "\n"
   ]
  },
  {
   "cell_type": "markdown",
   "id": "d87c2600",
   "metadata": {},
   "source": [
    "## AWS\n",
    "\n",
    "AWS GPUs https://docs.google.com/spreadsheets/d/1eF_QjSqJV6PQHjk9d9hkDzsBiLSZSrSGIvAXzYGEHUo/edit?usp=sharing\n",
    "\n"
   ]
  },
  {
   "cell_type": "markdown",
   "id": "ee9b0cf9",
   "metadata": {},
   "source": [
    "## Azure\n",
    "\n",
    "Azure GPUs https://docs.microsoft.com/en-us/azure/virtual-machines/sizes-gpu\n",
    "Azure Compute Units (ACUs) https://docs.microsoft.com/en-us/azure/virtual-machines/acu\n",
    "\n",
    "Nvidia/Azure https://docs.nvidia.com/ngc/ngc-azure-setup-guide/index.html"
   ]
  },
  {
   "cell_type": "markdown",
   "id": "852d025c",
   "metadata": {},
   "source": [
    "## GCP\n",
    "\n",
    "GCP GPUs https://cloud.google.com/compute/docs/gpus/gpu-regions-zones"
   ]
  },
  {
   "cell_type": "code",
   "execution_count": 1,
   "id": "558f48ef",
   "metadata": {},
   "outputs": [
    {
     "name": "stdout",
     "output_type": "stream",
     "text": [
      "/Users/jsr/Documents/GitHub/Jupyter-Latex\n"
     ]
    }
   ],
   "source": [
    "!pwd\n"
   ]
  },
  {
   "cell_type": "code",
   "execution_count": 2,
   "id": "6a118060",
   "metadata": {},
   "outputs": [
    {
     "name": "stdout",
     "output_type": "stream",
     "text": [
      "0. Install_Conda.ipynb        Azure_Costs.ipynb\n",
      "01_Train_Tokenizers.ipynb     GPU_Costs.ipynb\n",
      "02_Tokenizers.ipynb           \u001b[34mKernel_Tests\u001b[m\u001b[m\n",
      "1. Jupyter_Basics.ipynb       ML_Math.ipynb\n",
      "10. Cost_Model.ipynb          OCP_Commands.ipynb\n",
      "11. Markdown_Cheatsheet.ipynb README.md\n",
      "12. In_statu_nascendi.ipynb   SWEETVIZ_REPORT.html\n",
      "13. Github_Basics.ipynb       SweetViz_EDA.ipynb\n",
      "14. EDA.ipynb                 beginner_tensorflow.ipynb\n",
      "2. Jupyter_Rich_Display.ipynb big.txt\n",
      "3. Math_Basics.ipynb          categorical.pkl\n",
      "4. Wrangling_Data.ipynb       \u001b[34mcode\u001b[m\u001b[m\n",
      "5. Plotting_Basics.ipynb      \u001b[34mdata\u001b[m\u001b[m\n",
      "6. ML_Model_Analysis.ipynb    \u001b[34mexamples\u001b[m\u001b[m\n",
      "7. Text_Cleaning.ipynb        \u001b[34mimages\u001b[m\u001b[m\n",
      "8. OCR.ipynb                  merges.txt\n",
      "9. GPU_Acceleration.ipynb     tf2_image_retraining.ipynb\n",
      "AutoNLP.ipynb                 vocab.json\n"
     ]
    }
   ],
   "source": [
    "!ls"
   ]
  },
  {
   "cell_type": "code",
   "execution_count": null,
   "id": "4208ab48",
   "metadata": {},
   "outputs": [],
   "source": []
  }
 ],
 "metadata": {
  "kernelspec": {
   "display_name": "Python 3 (ipykernel)",
   "language": "python",
   "name": "python3"
  },
  "language_info": {
   "codemirror_mode": {
    "name": "ipython",
    "version": 3
   },
   "file_extension": ".py",
   "mimetype": "text/x-python",
   "name": "python",
   "nbconvert_exporter": "python",
   "pygments_lexer": "ipython3",
   "version": "3.9.15"
  }
 },
 "nbformat": 4,
 "nbformat_minor": 5
}
