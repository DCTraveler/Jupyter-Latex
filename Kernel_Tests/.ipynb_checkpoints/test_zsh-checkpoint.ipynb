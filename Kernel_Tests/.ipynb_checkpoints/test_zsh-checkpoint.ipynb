{
 "cells": [
  {
   "cell_type": "code",
   "execution_count": 2,
   "metadata": {},
   "outputs": [
    {
     "name": "stdout",
     "output_type": "stream",
     "text": [
      "man\n"
     ]
    }
   ],
   "source": [
    "echo man"
   ]
  },
  {
   "cell_type": "code",
   "execution_count": 3,
   "metadata": {},
   "outputs": [
    {
     "name": "stdout",
     "output_type": "stream",
     "text": [
      "test_Julia.ipynb\ttest_node.ipynb\n",
      "test_R.ipynb\t\tzsh.ipynb\n"
     ]
    }
   ],
   "source": [
    "ls"
   ]
  },
  {
   "cell_type": "code",
   "execution_count": 4,
   "metadata": {},
   "outputs": [],
   "source": [
    "cd .."
   ]
  },
  {
   "cell_type": "code",
   "execution_count": 5,
   "metadata": {},
   "outputs": [
    {
     "name": "stdout",
     "output_type": "stream",
     "text": [
      "0. Install_Conda.ipynb\t\t6. ML_Model_Analysis.ipynb\n",
      "1. Jupyter_Basics.ipynb\t\t7. Text_Cleaning.ipynb\n",
      "10. Cost_Model.ipynb\t\t8. OCR.ipynb\n",
      "11. Markdown_Cheatsheet.ipynb\t9. GPU_Acceleration.ipynb\n",
      "12. In_statu_nascendi.ipynb\tKernel_Tests\n",
      "13. Github_Basics.ipynb\t\tREADME.md\n",
      "2. Jupyter_Rich_Display.ipynb\tcategorical.pkl\n",
      "3. Math_Basics.ipynb\t\tdata\n",
      "4. Wrangling_Data.ipynb\t\texamples\n",
      "5. Plotting_Basics.ipynb\timages\n"
     ]
    }
   ],
   "source": [
    "ls"
   ]
  },
  {
   "cell_type": "code",
   "execution_count": 6,
   "metadata": {},
   "outputs": [],
   "source": [
    "cd .."
   ]
  },
  {
   "cell_type": "code",
   "execution_count": 7,
   "metadata": {},
   "outputs": [
    {
     "name": "stdout",
     "output_type": "stream",
     "text": [
      "02_Update_IAM_Roles_And_Policies.ipynb\tRecommenders\n",
      "AI-100-Design-Implement-Azure-AISol\tSageMaker\n",
      "AI-References\t\t\t\tSentimentAnalysis\n",
      "AICMM_book\t\t\t\tSoftware-Engineering\n",
      "AI_CMM\t\t\t\t\tTeam\n",
      "AWS\t\t\t\t\tamazon-sagemaker-examples\n",
      "COVID-19\t\t\t\tcolored_number_line.ipynb\n",
      "EasyOCR\t\t\t\t\tgraph-book\n",
      "Essential-Math\t\t\t\tgraphbrain\n",
      "Jupyter-Latex\t\t\t\tpydocket\n",
      "Jupyter-NetX\t\t\t\tpython-data-workshop\n",
      "Jupyter-Scrape\t\t\t\tred-hat-icons\n",
      "Predict-Coronavirus-COVID-19-trend\trh-iconfont\n",
      "Python_Basics\t\t\t\tworkshop\n"
     ]
    }
   ],
   "source": [
    "ls"
   ]
  },
  {
   "cell_type": "code",
   "execution_count": 8,
   "metadata": {},
   "outputs": [],
   "source": [
    "cd Jupyter-Latex/"
   ]
  },
  {
   "cell_type": "code",
   "execution_count": 9,
   "metadata": {},
   "outputs": [
    {
     "name": "stdout",
     "output_type": "stream",
     "text": [
      "0. Install_Conda.ipynb\t\t6. ML_Model_Analysis.ipynb\n",
      "1. Jupyter_Basics.ipynb\t\t7. Text_Cleaning.ipynb\n",
      "10. Cost_Model.ipynb\t\t8. OCR.ipynb\n",
      "11. Markdown_Cheatsheet.ipynb\t9. GPU_Acceleration.ipynb\n",
      "12. In_statu_nascendi.ipynb\tKernel_Tests\n",
      "13. Github_Basics.ipynb\t\tREADME.md\n",
      "2. Jupyter_Rich_Display.ipynb\tcategorical.pkl\n",
      "3. Math_Basics.ipynb\t\tdata\n",
      "4. Wrangling_Data.ipynb\t\texamples\n",
      "5. Plotting_Basics.ipynb\timages\n"
     ]
    }
   ],
   "source": [
    "ls"
   ]
  },
  {
   "cell_type": "code",
   "execution_count": 3,
   "metadata": {},
   "outputs": [
    {
     "name": "stdout",
     "output_type": "stream",
     "text": [
      "On branch master\n",
      "Your branch is up to date with 'origin/master'.\n",
      "\n",
      "Changes not staged for commit:\n",
      "  (use \"git add <file>...\" to update what will be committed)\n",
      "  (use \"git restore <file>...\" to discard changes in working directory)\n",
      "\t\u001b[31mmodified:   ../10. Cost_Model.ipynb\u001b[m\n",
      "\n",
      "Untracked files:\n",
      "  (use \"git add <file>...\" to include in what will be committed)\n",
      "\t\u001b[31m../13. Github_Basics.ipynb\u001b[m\n",
      "\t\u001b[31mzsh.ipynb\u001b[m\n",
      "\n",
      "no changes added to commit (use \"git add\" and/or \"git commit -a\")\n"
     ]
    }
   ],
   "source": [
    "git status"
   ]
  },
  {
   "cell_type": "code",
   "execution_count": null,
   "metadata": {},
   "outputs": [],
   "source": []
  }
 ],
 "metadata": {
  "kernelspec": {
   "display_name": "Z shell",
   "language": "zsh",
   "name": "zsh"
  },
  "language_info": {
   "codemirror_mode": "shell",
   "file_extension": ".zsh",
   "mimetype": "text/x-zsh",
   "name": "zsh",
   "pygments_lexer": "shell",
   "version": "5.7.1"
  }
 },
 "nbformat": 4,
 "nbformat_minor": 4
}
