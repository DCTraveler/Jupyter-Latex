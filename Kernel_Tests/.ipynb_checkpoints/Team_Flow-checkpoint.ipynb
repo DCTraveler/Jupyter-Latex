{
 "cells": [
  {
   "cell_type": "markdown",
   "metadata": {},
   "source": [
    "### We want to automatically build slide information from our Smarsheet JAIC Phase II project plan."
   ]
  },
  {
   "cell_type": "code",
   "execution_count": 1,
   "metadata": {},
   "outputs": [
    {
     "name": "stdout",
     "output_type": "stream",
     "text": [
      "/Users/jsr/Documents/GitHub/Team\n"
     ]
    }
   ],
   "source": [
    "!pwd"
   ]
  },
  {
   "cell_type": "markdown",
   "metadata": {},
   "source": [
    "Lets take a look at Google Slides, the target for our data extraction from Smartsheets sources. Here we can use Google Apps Scripts to create a menu to further run javascript functions.\n",
    "\n",
    "<!--![dataframe](images/dataframe.png) -->\n",
    "<img src=\"images/Goolge_Slides_Testing.png\" align=\"left\" alt=\"dataframe image\" width = \"800\">"
   ]
  },
  {
   "cell_type": "markdown",
   "metadata": {},
   "source": [
    "First lets take a look at Google Slides, the target for our data extraction from Smartsheets comments section and integrate into each of the 5 cells below.\n",
    "\n",
    "<!--![dataframe](images/dataframe.png) -->\n",
    "<img src=\"images/JAICSlide1.png\" align=\"left\" alt=\"dataframe image\" width = \"800\">"
   ]
  },
  {
   "cell_type": "markdown",
   "metadata": {},
   "source": [
    "Next lets take a look at the JAIC Slide 2 Google Slides the target for our data extraction from smartsheets to monitor iteration tracker and overall project snapshot automatically.\n",
    "\n",
    "<!--![dataframe](images/dataframe.png) -->\n",
    "<img src=\"images/JAICSlide2.png\" align=\"left\" alt=\"dataframe image\" width = \"800\">"
   ]
  },
  {
   "cell_type": "markdown",
   "metadata": {},
   "source": [
    "First lets take a look at the COE-JAIC third Google Slide the target for our data extraction from accounting and pull burn rates.\n",
    "\n",
    "<!--![dataframe](images/dataframe.png) -->\n",
    "<img src=\"images/JAICSlide3.png\" align=\"left\" alt=\"dataframe image\" width = \"800\">"
   ]
  },
  {
   "cell_type": "markdown",
   "metadata": {},
   "source": [
    "Next take a look at Smartsheets project plan as the source for our data extraction from Smartsheets.\n",
    "\n",
    "<!--![dataframe](images/dataframe.png) -->\n",
    "<img src=\"images/Project_Tracker.png\" align=\"left\" alt=\"dataframe image\" width = \"800\">"
   ]
  },
  {
   "cell_type": "markdown",
   "metadata": {},
   "source": [
    "Lets next take a look at Advanced Team Flow using Smartsheets\n",
    "https://www.smartsheet.com/platform/capabilities\n"
   ]
  },
  {
   "cell_type": "markdown",
   "metadata": {},
   "source": [
    "you can embedd HTML IFRAMES if only Google Docs/Slides would enable it. I'm working to see if I can embed this Iframe using Google Apps Scripts.\n"
   ]
  },
  {
   "cell_type": "code",
   "execution_count": 2,
   "metadata": {},
   "outputs": [
    {
     "data": {
      "text/html": [
       "<IFRAME WIDTH=1000 HEIGHT=700 FRAMEBORDER=0 SRC=\"https://app.smartsheet.com/b/publish?EQBCT=11cdf5af1b54434bb6e741bf37f1fcce\"></IFRAME>\n"
      ],
      "text/plain": [
       "<IPython.core.display.HTML object>"
      ]
     },
     "metadata": {},
     "output_type": "display_data"
    }
   ],
   "source": [
    "%%html\n",
    "<IFRAME WIDTH=1000 HEIGHT=700 FRAMEBORDER=0 SRC=\"https://app.smartsheet.com/b/publish?EQBCT=11cdf5af1b54434bb6e741bf37f1fcce\"></IFRAME>"
   ]
  },
  {
   "cell_type": "markdown",
   "metadata": {},
   "source": [
    "Google and Smartsheets aren't as integrated as one would have hoped. There doesn't seem to be an easy button at first glance\n",
    "So let's look at the Google Apps Scripts and lets see what we can do with that.\n",
    "\n",
    "Google Apps Scripts runs on Google's V8 engine: https://v8.dev/ So that means we just used JavaScript for our dev.\n",
    "\n",
    "Now let's take a look at Smartsheets API and Dev environment: https://smartsheet-platform.github.io/api-docs/index.html#overview"
   ]
  },
  {
   "cell_type": "markdown",
   "metadata": {},
   "source": [
    "```javascript\n",
    "// Initialize the client\n",
    "var client = require('smartsheet');\n",
    "var smartsheet = client.createClient({\n",
    "  accessToken: '2ykjhv9ioqjdrqkjh0lsii8bp7',\n",
    "  logLevel: 'info'\n",
    "});\n",
    "\n",
    "// The `smartsheet` variable now contains access to all of the APIs\n",
    "\n",
    "// Set queryParameters for `include` and pagination\n",
    "var options = {\n",
    "  queryParameters: {\n",
    "    include: \"attachments\",\n",
    "    includeAll: true\n",
    "  }\n",
    "};\n",
    "\n",
    "// List all sheets\n",
    "smartsheet.sheets.listSheets(options)\n",
    "  .then(function (result) {\n",
    "    var sheetId = result.data[0].id;                // Choose the first sheet\n",
    "\n",
    "    // Load one sheet\n",
    "    smartsheet.sheets.getSheet({id: sheetId})\n",
    "      .then(function(sheetInfo) {\n",
    "        console.log(sheetInfo);\n",
    "      })\n",
    "      .catch(function(error) {\n",
    "        console.log(error);\n",
    "      });\n",
    "  })\n",
    "  .catch(function(error) {\n",
    "    console.log(error);\n",
    "  });\n",
    "```"
   ]
  },
  {
   "cell_type": "markdown",
   "metadata": {},
   "source": [
    "```terminal\n",
    "(base) jsr@x86_64-apple-darwin13 scripts % vi smartsheet.js\n",
    "(base) jsr@x86_64-apple-darwin13 scripts % node smartsheet.js \n",
    "[Smartsheet] 2020-04-21T21:19:40.046Z[   INFO] GET https://api.smartsheet.com/2.0/sheets/?include=attachments&includeAll=true\n",
    "[Smartsheet] 2020-04-21T21:19:40.166Z[   INFO] Response: Success (HTTP 200)\n",
    "[Smartsheet] 2020-04-21T21:19:40.166Z[   INFO] GET https://api.smartsheet.com/2.0/sheets/6740590579738500\n",
    "[Smartsheet] 2020-04-21T21:19:40.326Z[   INFO] Response: Success (HTTP 200)\n",
    "```"
   ]
  },
  {
   "cell_type": "markdown",
   "metadata": {},
   "source": [
    "```javascript\n",
    "{\n",
    "  id: 6740590579738500,\n",
    "  name: 'Event Launch & Budget with Gantt Timeline',\n",
    "  version: 0,\n",
    "  totalRowCount: 42,\n",
    "  accessLevel: 'OWNER',\n",
    "  effectiveAttachmentOptions: [ 'GOOGLE_DRIVE', 'LINK' ],\n",
    "  ganttEnabled: true,\n",
    "  dependenciesEnabled: true,\n",
    "  resourceManagementEnabled: false,\n",
    "  cellImageUploadEnabled: true,\n",
    "  userSettings: { criticalPathEnabled: false, displaySummaryTasks: true },\n",
    "  userPermissions: { summaryPermissions: 'ADMIN' },\n",
    "  projectSettings: {\n",
    "    workingDays: [ 'MONDAY', 'TUESDAY', 'WEDNESDAY', 'THURSDAY', 'FRIDAY' ],\n",
    "    nonWorkingDays: [ '2013-12-24', '2013-12-25' ],\n",
    "    lengthOfDay: 8\n",
    "  },\n",
    "  hasSummaryFields: true,\n",
    "  permalink: 'https://app.smartsheet.com/sheets/4WX373cGCw9WVh6jvjfx36hWFjrqXQmVvPXchMF1',\n",
    "  createdAt: '2020-04-20T18:54:17Z',\n",
    "  modifiedAt: '2020-04-20T18:54:17Z',\n",
    "  isMultiPicklistEnabled: true,\n",
    "  columns: [\n",
    "    {\n",
    "      id: 2285348706379652,\n",
    "      version: 0,\n",
    "      index: 0,\n",
    "      title: 'At Risk',\n",
    "      description: 'A Symbols column will display a visual image. Use this Symbols column to flag a row. This sheet contains conditional formatting based on this column. Easily create or delete rules by clicking on the Conditional Formatting icon.',\n",
    "      type: 'CHECKBOX',\n",
    "      symbol: 'FLAG',\n",
    "      validation: false,\n",
    "      width: 58\n",
    "    },\n",
    "    {\n",
    "      id: 6788948333750148,\n",
    "      version: 0,\n",
    "      index: 1,\n",
    "      title: 'Progress',\n",
    "      description: 'A Symbols column will display a visual image. Use this Symbols column to describe the progress of a row. This sheet contains conditional formatting based on this column. Easily create or delete rules by clicking on the Conditional Formatting icon.',\n",
    "      type: 'PICKLIST',\n",
    "      symbol: 'PROGRESS',\n",
    "      options: [Array],\n",
    "      validation: false,\n",
    "      width: 73\n",
    "    },\n",
    "    {\n",
    "      id: 1159448799537028,\n",
    "      version: 0,\n",
    "      index: 2,\n",
    "      title: 'Task Name',\n",
    "      type: 'TEXT_NUMBER',\n",
    "      primary: true,\n",
    "      tags: [Array],\n",
    "      validation: false,\n",
    "      width: 286\n",
    "    },\n",
    "    {\n",
    "      id: 5663048426907524,\n",
    "      version: 0,\n",
    "      index: 3,\n",
    "      title: 'Assigned To',\n",
    "      description: 'Use a Contact List column when assigning tasks. A contact includes both name and email - which drives automated actions, alerts, reports and more. Start by typing in an existing contact from your Contact List, or individually create a new contact.',\n",
    "      type: 'CONTACT_LIST',\n",
    "      validation: false,\n",
    "      width: 159\n",
    "    },\n",
    "    {\n",
    "      id: 3411248613222276,\n",
    "      version: 0,\n",
    "      index: 4,\n",
    "      title: 'Start Date',\n",
    "      type: 'ABSTRACT_DATETIME',\n",
    "      tags: [Array],\n",
    "      validation: false,\n",
    "      width: 76\n",
    "    },\n",
    "    {\n",
    "      id: 7914848240592772,\n",
    "      version: 0,\n",
    "      index: 5,\n",
    "      title: 'Due Date',\n",
    "      description: 'This sheet contains conditional formatting based on this column. Easily create or delete rules by clicking on the Conditional Formatting icon.',\n",
    "      type: 'ABSTRACT_DATETIME',\n",
    "      tags: [Array],\n",
    "      validation: false,\n",
    "      width: 76\n",
    "    },\n",
    "    {\n",
    "      id: 596498846115716,\n",
    "      version: 0,\n",
    "      index: 6,\n",
    "      title: 'Duration',\n",
    "      description: 'Duration represents the amount of time a task is expected to take. Visit https://smrt.fyi/Help-Duration to learn more.',\n",
    "      type: 'DURATION',\n",
    "      tags: [Array],\n",
    "      validation: false,\n",
    "      width: 66\n",
    "    },\n",
    "    {\n",
    "      id: 5100098473486212,\n",
    "      version: 0,\n",
    "      index: 7,\n",
    "      title: 'Predecessors',\n",
    "      description: 'Predecessors are used to create dependencies between items. When you enter a Predecessor value in a row, the Start and End Dates will populate automatically based on the Working Days established in the Project Settings. Learn more help.smartsheet.com',\n",
    "      type: 'PREDECESSOR',\n",
    "      tags: [Array],\n",
    "      validation: false,\n",
    "      width: 97\n",
    "    },\n",
    "    {\n",
    "      id: 2848298659800964,\n",
    "      version: 0,\n",
    "      index: 8,\n",
    "      title: 'Budget',\n",
    "      description: 'This column includes formula(s) at the parent hierarchy level that use SUM and CHILDREN functions to add all sub-rows in a given category. It also includes a formula to calculate the budgeted amount per item.',\n",
    "      type: 'TEXT_NUMBER',\n",
    "      validation: false,\n",
    "      width: 74\n",
    "    },\n",
    "```"
   ]
  },
  {
   "cell_type": "code",
   "execution_count": null,
   "metadata": {},
   "outputs": [],
   "source": []
  }
 ],
 "metadata": {
  "kernelspec": {
   "display_name": "Python 3",
   "language": "python",
   "name": "python3"
  },
  "language_info": {
   "codemirror_mode": {
    "name": "ipython",
    "version": 3
   },
   "file_extension": ".py",
   "mimetype": "text/x-python",
   "name": "python",
   "nbconvert_exporter": "python",
   "pygments_lexer": "ipython3",
   "version": "3.7.4"
  }
 },
 "nbformat": 4,
 "nbformat_minor": 4
}
