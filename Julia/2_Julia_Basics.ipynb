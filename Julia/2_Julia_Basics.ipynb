{
 "cells": [
  {
   "cell_type": "markdown",
   "id": "2ffda905-9203-4f3b-a95c-c9c4e4c96167",
   "metadata": {},
   "source": [
    "The Julia REPL (Read–Eval–Print Loop) is a program that reads and executes Julia code. You can start the REPL by opening a terminal on JuliaBox and typing **julia** on the command line. When it starts, you should see output like this:"
   ]
  },
  {
   "cell_type": "markdown",
   "id": "58309117-166d-4f71-bf7f-26f75ce4e88f",
   "metadata": {},
   "source": [
    "<img src=\"images/julia.png\" align=\"left\" alt=\"COE image\" width = \"600\">"
   ]
  },
  {
   "cell_type": "code",
   "execution_count": 3,
   "id": "c0100fe6-d2ac-434e-85bc-bf2cc8a5b3db",
   "metadata": {},
   "outputs": [
    {
     "data": {
      "text/plain": [
       "2"
      ]
     },
     "execution_count": 3,
     "metadata": {},
     "output_type": "execute_result"
    }
   ],
   "source": [
    "1 + 1"
   ]
  },
  {
   "cell_type": "code",
   "execution_count": 4,
   "id": "d8367a02-72cc-4c38-a55f-177720338fba",
   "metadata": {},
   "outputs": [
    {
     "name": "stdout",
     "output_type": "stream",
     "text": [
      "Hello, World!\n"
     ]
    }
   ],
   "source": [
    "println(\"Hello, World!\")"
   ]
  },
  {
   "cell_type": "code",
   "execution_count": 5,
   "id": "5a31683a-4289-4856-8290-e399ea50031a",
   "metadata": {},
   "outputs": [
    {
     "data": {
      "text/plain": [
       "Int64"
      ]
     },
     "execution_count": 5,
     "metadata": {},
     "output_type": "execute_result"
    }
   ],
   "source": [
    "typeof(2)"
   ]
  },
  {
   "cell_type": "code",
   "execution_count": 6,
   "id": "88932612-b594-4f00-88d5-16d2280109be",
   "metadata": {},
   "outputs": [
    {
     "data": {
      "text/plain": [
       "Float64"
      ]
     },
     "execution_count": 6,
     "metadata": {},
     "output_type": "execute_result"
    }
   ],
   "source": [
    "typeof(42.0)"
   ]
  },
  {
   "cell_type": "code",
   "execution_count": 7,
   "id": "486291b3-f36e-4fb8-8125-5634ab85a782",
   "metadata": {},
   "outputs": [
    {
     "data": {
      "text/plain": [
       "String"
      ]
     },
     "execution_count": 7,
     "metadata": {},
     "output_type": "execute_result"
    }
   ],
   "source": [
    "typeof(\"Hello, World!\")"
   ]
  },
  {
   "cell_type": "code",
   "execution_count": 8,
   "id": "71b20a19-be31-498b-b432-c7237319104d",
   "metadata": {},
   "outputs": [
    {
     "data": {
      "text/plain": [
       "32"
      ]
     },
     "execution_count": 8,
     "metadata": {},
     "output_type": "execute_result"
    }
   ],
   "source": [
    "parse(Int64, \"32\")"
   ]
  },
  {
   "cell_type": "code",
   "execution_count": 9,
   "id": "d8e5bd92-b9ea-4dcd-9a90-44f85f3b8a31",
   "metadata": {},
   "outputs": [
    {
     "data": {
      "text/plain": [
       "3.14159"
      ]
     },
     "execution_count": 9,
     "metadata": {},
     "output_type": "execute_result"
    }
   ],
   "source": [
    "parse(Float64, \"3.14159\")"
   ]
  },
  {
   "cell_type": "code",
   "execution_count": 10,
   "id": "96433962-6d03-459f-acb9-ea420429235a",
   "metadata": {},
   "outputs": [
    {
     "data": {
      "text/plain": [
       "3"
      ]
     },
     "execution_count": 10,
     "metadata": {},
     "output_type": "execute_result"
    }
   ],
   "source": [
    "trunc(Int64, 3.99999)"
   ]
  },
  {
   "cell_type": "code",
   "execution_count": 11,
   "id": "50c216a8-15aa-4e76-8983-26f376eb5711",
   "metadata": {},
   "outputs": [
    {
     "data": {
      "text/plain": [
       "-2"
      ]
     },
     "execution_count": 11,
     "metadata": {},
     "output_type": "execute_result"
    }
   ],
   "source": [
    "trunc(Int64, -2.3)"
   ]
  },
  {
   "cell_type": "code",
   "execution_count": 12,
   "id": "14073499-5b31-46db-a6c5-3787205ee561",
   "metadata": {},
   "outputs": [
    {
     "data": {
      "text/plain": [
       "32.0"
      ]
     },
     "execution_count": 12,
     "metadata": {},
     "output_type": "execute_result"
    }
   ],
   "source": [
    "float(32)"
   ]
  },
  {
   "cell_type": "code",
   "execution_count": null,
   "id": "d58da760-d227-47dc-923c-7f31e85cf3cc",
   "metadata": {},
   "outputs": [],
   "source": []
  }
 ],
 "metadata": {
  "kernelspec": {
   "display_name": "Julia 1.6.1",
   "language": "julia",
   "name": "julia-1.6"
  },
  "language_info": {
   "file_extension": ".jl",
   "mimetype": "application/julia",
   "name": "julia",
   "version": "1.6.1"
  }
 },
 "nbformat": 4,
 "nbformat_minor": 5
}
