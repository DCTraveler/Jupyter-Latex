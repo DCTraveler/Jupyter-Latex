{
 "cells": [
  {
   "cell_type": "markdown",
   "id": "08e56b47-4bc3-4d27-81be-27440a3b7430",
   "metadata": {},
   "source": [
    "![Julia Logo](https://julialang.org/assets/infra/logo.svg)\n",
    "***\n",
    "[Home](https://julialang.org/) |\n",
    "[Downloads](https://julialang.org/downloads/) |\n",
    "[Docs](https://docs.julialang.org/en/v1/) |\n",
    "[Blog](https://julialang.org/blog/) |\n",
    "[Community](https://julialang.org/community/) |\n",
    "[Learning](https://julialang.org/learning/) |\n",
    "[Research](https://julialang.org/research/) |\n",
    "[JSoC](https://julialang.org/jsoc/)\n",
    "***\n",
    "\n"
   ]
  },
  {
   "cell_type": "markdown",
   "id": "41747317-a1f0-4251-ba80-c34b311aea7b",
   "metadata": {},
   "source": [
    "1. First you'll want to [download the latest Julia version](https://julialang.org/downloads/)\n",
    "2. Next to use in Jupyter Lab, run these commands in the Julia terminal\n",
    "\n",
    "```Julia\n",
    "using Pkg\n",
    "Pkg.add(\"IJulia\")\n",
    "```\n",
    "\n",
    "<img src=\"../images/julia.png\" align=\"left\" alt=\"Julia Terminal image\" width = \"600\">"
   ]
  },
  {
   "cell_type": "markdown",
   "id": "084c9286-3d6d-469c-a7eb-6939fb5809d0",
   "metadata": {},
   "source": [
    "Next you can run Jupyter lab a few ways, I aways run my from the terminal\n",
    "\n",
    "```Bash\n",
    "jupyter lab\n",
    "```\n",
    "<img src=\"../images/Jupyter_terminal.png\" align=\"left\" alt=\"Jupyter Terminal image\" width = \"600\">"
   ]
  },
  {
   "cell_type": "code",
   "execution_count": 1,
   "id": "52b096c6-622c-407a-9e27-8c2cc6e80c46",
   "metadata": {},
   "outputs": [
    {
     "name": "stdout",
     "output_type": "stream",
     "text": [
      "Hello Julia on Jupyter!!!\n"
     ]
    }
   ],
   "source": [
    "println(\"Hello Julia on Jupyter!!!\")"
   ]
  },
  {
   "cell_type": "code",
   "execution_count": null,
   "id": "fe752e06-2f90-454a-b265-666409427dd3",
   "metadata": {},
   "outputs": [],
   "source": []
  }
 ],
 "metadata": {
  "kernelspec": {
   "display_name": "Julia 1.6.1",
   "language": "julia",
   "name": "julia-1.6"
  },
  "language_info": {
   "file_extension": ".jl",
   "mimetype": "application/julia",
   "name": "julia",
   "version": "1.6.1"
  }
 },
 "nbformat": 4,
 "nbformat_minor": 5
}
