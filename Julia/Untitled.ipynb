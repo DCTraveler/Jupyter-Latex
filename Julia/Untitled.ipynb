{
 "cells": [
  {
   "cell_type": "markdown",
   "id": "07b640d4-1800-43b8-a01b-5103cdcbc9cd",
   "metadata": {},
   "source": [
    "# Lesson One\n",
    "\n",
    "we're going to talk\n"
   ]
  },
  {
   "cell_type": "markdown",
   "id": "51fc77f3-bf0b-4d82-a370-eee4fe74a084",
   "metadata": {},
   "source": [
    "### Running the Independent Chi-Square\n",
    "\n",
    "Once you have the contingency table, then you can run the function ```stats.chi2_contingency``` on the contingency table you have created: \n",
    "\n",
    "```python\n",
    "stats.chi2_contingency(lipstick_crosstab)\n",
    "```\n",
    "\n",
    "And here is the output you'll receive: \n",
    "\n",
    "```text\n",
    "(0.2969891724608704,\n",
    " 0.8620046738525345,\n",
    " 2,\n",
    " array([[17.58744395, 44.79820628, 11.61434978],\n",
    "        [35.41255605, 90.20179372, 23.38565022]]))\n",
    "```\n",
    "\n",
    "At first, it looks like a jumble of things.  But the first value is your Chi-Square statistic.  The second value is your *p* value associated with that Chi-Square statistic.  Looking at this, it looks like there is not a significant relationship between product type and product price. Neither lipstick nor lip gloss is pricier or cheaper than the other.\n",
    "\n",
    "---\n",
    "\n",
    "### Test the Assumption of 5 Cases per Expected Cell\n",
    "\n",
    "The last piece of the output, labeled ```array```, is your expected count contingency table, albeit not a very pretty one! The expected count is what you would expect to happen if there was no relationship between the two variables.  Since all of these values are over 5, this means that the assumption has been met, and you are free to present and discuss these results without any limitations!"
   ]
  },
  {
   "cell_type": "code",
   "execution_count": null,
   "id": "6c5d2821-1029-43ae-b591-1fb7451bdf32",
   "metadata": {},
   "outputs": [],
   "source": []
  }
 ],
 "metadata": {
  "kernelspec": {
   "display_name": "Python 3",
   "language": "python",
   "name": "python3"
  },
  "language_info": {
   "codemirror_mode": {
    "name": "ipython",
    "version": 3
   },
   "file_extension": ".py",
   "mimetype": "text/x-python",
   "name": "python",
   "nbconvert_exporter": "python",
   "pygments_lexer": "ipython3",
   "version": "3.8.8"
  }
 },
 "nbformat": 4,
 "nbformat_minor": 5
}
