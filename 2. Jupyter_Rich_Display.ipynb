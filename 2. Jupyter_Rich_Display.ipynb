{
 "cells": [
  {
   "cell_type": "code",
   "execution_count": 28,
   "metadata": {},
   "outputs": [],
   "source": [
    "from IPython.display import Image"
   ]
  },
  {
   "cell_type": "code",
   "execution_count": 29,
   "metadata": {},
   "outputs": [
    {
     "data": {
      "text/html": [
       "<img src=\"https://coe.gsa.gov/images/coe-logo.svg\"/>"
      ],
      "text/plain": [
       "<IPython.core.display.Image object>"
      ]
     },
     "execution_count": 29,
     "metadata": {},
     "output_type": "execute_result"
    }
   ],
   "source": [
    "#I use the Image keyword here so github nbviewer will render on github\n",
    "Image(url='https://coe.gsa.gov/images/coe-logo.svg')"
   ]
  },
  {
   "cell_type": "markdown",
   "metadata": {},
   "source": [
    "or we can use HTML tags to size and align and various other capabilities just using HTML. see https://www.w3schools.com/tags/tag_img.asp"
   ]
  },
  {
   "cell_type": "markdown",
   "metadata": {},
   "source": [
    "Perhaps we want to take this large image and want to reduce the size and relocate it.\n",
    "<img src=\"https://coe.gsa.gov/images/coe-logo.svg\" align=\"left\" alt=\"COE image\" width = \"800\">"
   ]
  },
  {
   "cell_type": "code",
   "execution_count": 3,
   "metadata": {},
   "outputs": [],
   "source": [
    "# IPython (now Jupyter) "
   ]
  },
  {
   "cell_type": "code",
   "execution_count": 4,
   "metadata": {},
   "outputs": [],
   "source": [
    "import pandas as pd"
   ]
  },
  {
   "cell_type": "markdown",
   "metadata": {},
   "source": [
    "In Python, objects can declare their textual representation using the `__repr__` method.  IPython expands on this idea and allows objects to declare other, richer representations including:\n",
    "\n",
    "* HTML\n",
    "* JSON\n",
    "* PNG\n",
    "* JPEG\n",
    "* SVG\n",
    "* LaTeX\n",
    "\n",
    "A single object can declare some or all of these representations; all are handled by IPython's *display system*. This Notebook shows how you can use this display system to incorporate a broad range of content into your Notebooks."
   ]
  },
  {
   "cell_type": "markdown",
   "metadata": {},
   "source": [
    "## Basic display imports\n",
    "\n",
    "The `display` function is a general purpose tool for displaying different representations of objects. Think of it as `print` for these rich representations."
   ]
  },
  {
   "cell_type": "code",
   "execution_count": 5,
   "metadata": {},
   "outputs": [],
   "source": [
    "from IPython.display import display"
   ]
  },
  {
   "cell_type": "markdown",
   "metadata": {},
   "source": [
    "A few points:\n",
    "\n",
    "* Calling `display` on an object will send **all** possible representations to the Notebook.\n",
    "* These representations are stored in the Notebook document.\n",
    "* In general the Notebook will use the richest available representation.\n",
    "\n",
    "If you want to display a particular representation, there are specific functions for that:"
   ]
  },
  {
   "cell_type": "code",
   "execution_count": 6,
   "metadata": {},
   "outputs": [],
   "source": [
    "from IPython.display import display_pretty, display_html, display_jpeg, display_png, display_json, display_latex, display_svg"
   ]
  },
  {
   "cell_type": "markdown",
   "metadata": {},
   "source": [
    "## Images\n",
    "\n",
    "To work with images (JPEG, PNG) use the `Image` class."
   ]
  },
  {
   "cell_type": "markdown",
   "metadata": {},
   "source": [
    "Returning an `Image` object from an expression will automatically display it:"
   ]
  },
  {
   "cell_type": "code",
   "execution_count": 7,
   "metadata": {},
   "outputs": [],
   "source": [
    "i = Image(filename='images/logo.png')"
   ]
  },
  {
   "cell_type": "code",
   "execution_count": 8,
   "metadata": {},
   "outputs": [
    {
     "data": {
      "image/png": "[encoded data removed]",
      "text/plain": [
       "<IPython.core.display.Image object>"
      ]
     },
     "execution_count": 8,
     "metadata": {},
     "output_type": "execute_result"
    }
   ],
   "source": [
    "i"
   ]
  },
  {
   "cell_type": "markdown",
   "metadata": {},
   "source": [
    "Or you can pass it to `display`:"
   ]
  },
  {
   "cell_type": "code",
   "execution_count": 9,
   "metadata": {
    "scrolled": true
   },
   "outputs": [
    {
     "data": {
      "image/png": "[encoded data removed]"
     },
     "metadata": {},
     "output_type": "display_data"
    }
   ],
   "source": [
    "display_png(i)"
   ]
  },
  {
   "cell_type": "markdown",
   "metadata": {},
   "source": [
    "An image can also be displayed from raw data or a url"
   ]
  },
  {
   "cell_type": "code",
   "execution_count": 10,
   "metadata": {},
   "outputs": [
    {
     "data": {
      "text/html": [
       "<img src=\"http://python.org/images/python-logo.gif\"/>"
      ],
      "text/plain": [
       "<IPython.core.display.Image object>"
      ]
     },
     "execution_count": 10,
     "metadata": {},
     "output_type": "execute_result"
    }
   ],
   "source": [
    "Image(url='http://python.org/images/python-logo.gif')"
   ]
  },
  {
   "cell_type": "markdown",
   "metadata": {},
   "source": [
    "SVG images are also supported out of the box (since modern browsers do a good job of rendering them) see above for Centers of Excellence logo which is a SVG.\n",
    "\n",
    "You can also embed html with iframe"
   ]
  },
  {
   "cell_type": "code",
   "execution_count": 11,
   "metadata": {},
   "outputs": [
    {
     "data": {
      "text/html": [
       "<iframe src=\"https://playground.tensorflow.org\" width=\"1000\" height=\"800\"></iframe>\n"
      ],
      "text/plain": [
       "<IPython.core.display.HTML object>"
      ]
     },
     "metadata": {},
     "output_type": "display_data"
    }
   ],
   "source": [
    "%%html\n",
    "<iframe src=\"https://playground.tensorflow.org\" width=\"1000\" height=\"800\"></iframe>"
   ]
  },
  {
   "cell_type": "markdown",
   "metadata": {},
   "source": [
    "## Links to local files\n",
    "\n",
    "If we want to create a link to one of them, we can call use the `FileLink` object."
   ]
  },
  {
   "cell_type": "code",
   "execution_count": 12,
   "metadata": {},
   "outputs": [],
   "source": [
    "from IPython.display import FileLink, FileLinks"
   ]
  },
  {
   "cell_type": "markdown",
   "metadata": {},
   "source": [
    "Alternatively, if we want to link to all of the files in a directory, we can use the `FileLinks` object, passing `'.'` to indicate that we want links generated for the current working directory. Note that if there were other directories under the current directory, `FileLinks` would work in a recursive manner creating links to files in all sub-directories as well."
   ]
  },
  {
   "cell_type": "code",
   "execution_count": 13,
   "metadata": {},
   "outputs": [
    {
     "name": "stdout",
     "output_type": "stream",
     "text": [
      "0. Install_Conda.ipynb        4. Wrangling_Data.ipynb\n",
      "1. Jupyter_Basics.ipynb       README.md\n",
      "2. Jupyter_Rich_Display.ipynb \u001b[34mdata\u001b[m\u001b[m\n",
      "3. Math_Basics.ipynb          \u001b[34mimages\u001b[m\u001b[m\n"
     ]
    }
   ],
   "source": [
    "!ls"
   ]
  },
  {
   "cell_type": "code",
   "execution_count": 14,
   "metadata": {},
   "outputs": [
    {
     "data": {
      "text/html": [
       "./images/<br>\n",
       "&nbsp;&nbsp;<a href='./images/Azure_Jupyter.png' target='_blank'>Azure_Jupyter.png</a><br>\n",
       "&nbsp;&nbsp;<a href='./images/Sigmoidal_Activation.png' target='_blank'>Sigmoidal_Activation.png</a><br>\n",
       "&nbsp;&nbsp;<a href='./images/.DS_Store' target='_blank'>.DS_Store</a><br>\n",
       "&nbsp;&nbsp;<a href='./images/Neuron_Sigmoidal.png' target='_blank'>Neuron_Sigmoidal.png</a><br>\n",
       "&nbsp;&nbsp;<a href='./images/Jupyter_Project.png' target='_blank'>Jupyter_Project.png</a><br>\n",
       "&nbsp;&nbsp;<a href='./images/colab.png' target='_blank'>colab.png</a><br>\n",
       "&nbsp;&nbsp;<a href='./images/SageMaker_Studio.png' target='_blank'>SageMaker_Studio.png</a><br>\n",
       "&nbsp;&nbsp;<a href='./images/ANN.png' target='_blank'>ANN.png</a><br>\n",
       "&nbsp;&nbsp;<a href='./images/logo.png' target='_blank'>logo.png</a><br>\n",
       "&nbsp;&nbsp;<a href='./images/dataframe.png' target='_blank'>dataframe.png</a><br>\n",
       "&nbsp;&nbsp;<a href='./images/Neuron_RELU.png' target='_blank'>Neuron_RELU.png</a><br>\n",
       "&nbsp;&nbsp;<a href='./images/RELU_Activation.png' target='_blank'>RELU_Activation.png</a><br>\n",
       "&nbsp;&nbsp;<a href='./images/DNN.png' target='_blank'>DNN.png</a><br>\n",
       "./images/.ipynb_checkpoints/<br>\n",
       "&nbsp;&nbsp;<a href='./images/.ipynb_checkpoints/Jupyter_Project-checkpoint.png' target='_blank'>Jupyter_Project-checkpoint.png</a><br>\n",
       "&nbsp;&nbsp;<a href='./images/.ipynb_checkpoints/logo-checkpoint.png' target='_blank'>logo-checkpoint.png</a><br>\n",
       "&nbsp;&nbsp;<a href='./images/.ipynb_checkpoints/colab-checkpoint.png' target='_blank'>colab-checkpoint.png</a><br>"
      ],
      "text/plain": [
       "./images/\n",
       "  Azure_Jupyter.png\n",
       "  Sigmoidal_Activation.png\n",
       "  .DS_Store\n",
       "  Neuron_Sigmoidal.png\n",
       "  Jupyter_Project.png\n",
       "  colab.png\n",
       "  SageMaker_Studio.png\n",
       "  ANN.png\n",
       "  logo.png\n",
       "  dataframe.png\n",
       "  Neuron_RELU.png\n",
       "  RELU_Activation.png\n",
       "  DNN.png\n",
       "./images/.ipynb_checkpoints/\n",
       "  Jupyter_Project-checkpoint.png\n",
       "  logo-checkpoint.png\n",
       "  colab-checkpoint.png"
      ]
     },
     "execution_count": 14,
     "metadata": {},
     "output_type": "execute_result"
    }
   ],
   "source": [
    "FileLinks('./images')"
   ]
  },
  {
   "cell_type": "markdown",
   "metadata": {},
   "source": [
    "### Embedded vs Non-embedded Images\n",
    "\n",
    "By default, image data is embedded in the Notebook document so that the images can be viewed offline. However it is also possible to tell the `Image` class to only store a *link* to the image. Let's see how this works using a webcam at Berkeley."
   ]
  },
  {
   "cell_type": "code",
   "execution_count": 15,
   "metadata": {},
   "outputs": [],
   "source": [
    "from IPython.display import Image\n",
    "\n",
    "# by default Image data are embedded\n",
    "Embed      = Image('https://images.skyvdn.com/thumbs/FairfaxVideo0720.flv.png')\n",
    "\n",
    "# if kwarg `url` is given, the embedding is assumed to be false\n",
    "SoftLinked = Image(url='https://images.skyvdn.com/thumbs/FairfaxVideo0720.flv.png')\n",
    "\n",
    "# In each case, embed can be specified explicitly with the `embed` kwarg\n",
    "ForceEmbed = Image(url='https://images.skyvdn.com/thumbs/FairfaxVideo0720.flv.png', embed=True)"
   ]
  },
  {
   "cell_type": "markdown",
   "metadata": {},
   "source": [
    "Here is the embedded version. Note that this image was pulled from the webcam when this code cell was originally run and stored in the Notebook."
   ]
  },
  {
   "cell_type": "code",
   "execution_count": 16,
   "metadata": {},
   "outputs": [
    {
     "data": {
      "image/png": "[encoded data removed]",
      "text/plain": [
       "<IPython.core.display.Image object>"
      ]
     },
     "execution_count": 16,
     "metadata": {},
     "output_type": "execute_result"
    }
   ],
   "source": [
    "Embed"
   ]
  },
  {
   "cell_type": "markdown",
   "metadata": {},
   "source": [
    "Here is today's image from the webcam at I-395 / MM 10 / NB / Exit 10, 14th Street Bridge, Refreshed if you reload the notebook), visible only with an active internet connection, that should be different from the previous one. Notebooks saved with this kind of image will be lighter and always reflect the current version of the source, but the image won't display offline."
   ]
  },
  {
   "cell_type": "markdown",
   "metadata": {},
   "source": [
    "## Video\n",
    "\n",
    "More exotic objects can also be displayed, as long as their representation supports the IPython display protocol.  For example, videos hosted externally on YouTube are easy to load (and writing a similar wrapper for other hosted content is trivial):"
   ]
  },
  {
   "cell_type": "code",
   "execution_count": 17,
   "metadata": {},
   "outputs": [
    {
     "data": {
      "image/jpeg": "[encoded data removed]",
      "text/html": [
       "\n",
       "        <iframe\n",
       "            width=\"400\"\n",
       "            height=\"300\"\n",
       "            src=\"https://www.youtube.com/embed/HW29067qVWk\"\n",
       "            frameborder=\"0\"\n",
       "            allowfullscreen\n",
       "        ></iframe>\n",
       "        "
      ],
      "text/plain": [
       "<IPython.lib.display.YouTubeVideo at 0x7fc7a8048f50>"
      ]
     },
     "execution_count": 17,
     "metadata": {},
     "output_type": "execute_result"
    }
   ],
   "source": [
    "from IPython.display import YouTubeVideo\n",
    "# Jupyter Notebook Tutorial: Introduction, Setup, and Walkthrough.\n",
    "# Video credit: Corey Schafer.\n",
    "YouTubeVideo('HW29067qVWk')"
   ]
  },
  {
   "cell_type": "markdown",
   "metadata": {},
   "source": [
    "## HTML\n",
    "\n",
    "Python objects can declare HTML representations that will be displayed in the Notebook. If you have some HTML you want to display, simply use the `HTML` class."
   ]
  },
  {
   "cell_type": "code",
   "execution_count": 18,
   "metadata": {},
   "outputs": [],
   "source": [
    "from IPython.display import HTML"
   ]
  },
  {
   "cell_type": "code",
   "execution_count": 19,
   "metadata": {},
   "outputs": [],
   "source": [
    "s = \"\"\"<table>\n",
    "<tr>\n",
    "<th>Header 1</th>\n",
    "<th>Header 2</th>\n",
    "</tr>\n",
    "<tr>\n",
    "<td>row 1, cell 1</td>\n",
    "<td>row 1, cell 2</td>\n",
    "</tr>\n",
    "<tr>\n",
    "<td>row 2, cell 1</td>\n",
    "<td>row 2, cell 2</td>\n",
    "</tr>\n",
    "</table>\"\"\""
   ]
  },
  {
   "cell_type": "code",
   "execution_count": 20,
   "metadata": {},
   "outputs": [
    {
     "data": {
      "text/html": [
       "<table>\n",
       "<tr>\n",
       "<th>Header 1</th>\n",
       "<th>Header 2</th>\n",
       "</tr>\n",
       "<tr>\n",
       "<td>row 1, cell 1</td>\n",
       "<td>row 1, cell 2</td>\n",
       "</tr>\n",
       "<tr>\n",
       "<td>row 2, cell 1</td>\n",
       "<td>row 2, cell 2</td>\n",
       "</tr>\n",
       "</table>"
      ],
      "text/plain": [
       "<IPython.core.display.HTML object>"
      ]
     },
     "execution_count": 20,
     "metadata": {},
     "output_type": "execute_result"
    }
   ],
   "source": [
    "h = HTML(s); h"
   ]
  },
  {
   "cell_type": "markdown",
   "metadata": {},
   "source": [
    "By default, DataFrames will be represented as text, below is a small amount of dated stock data for APPL:"
   ]
  },
  {
   "cell_type": "code",
   "execution_count": 21,
   "metadata": {},
   "outputs": [
    {
     "name": "stdout",
     "output_type": "stream",
     "text": [
      "Overwriting data/data.csv\n"
     ]
    }
   ],
   "source": [
    "%%file data/data.csv\n",
    "Date,Open,High,Low,Close,Volume,Adj Close\n",
    "2012-06-01,569.16,590.00,548.50,584.00,14077000,581.50\n",
    "2012-05-01,584.90,596.76,522.18,577.73,18827900,575.26\n",
    "2012-04-02,601.83,644.00,555.00,583.98,28759100,581.48\n",
    "2012-03-01,548.17,621.45,516.22,599.55,26486000,596.99\n",
    "2012-02-01,458.41,547.61,453.98,542.44,22001000,540.12\n",
    "2012-01-03,409.40,458.24,409.00,456.48,12949100,454.53"
   ]
  },
  {
   "cell_type": "markdown",
   "metadata": {},
   "source": [
    "Read this as into a DataFrame:"
   ]
  },
  {
   "cell_type": "code",
   "execution_count": 22,
   "metadata": {},
   "outputs": [],
   "source": [
    "df = pd.read_csv('data/data.csv')"
   ]
  },
  {
   "cell_type": "code",
   "execution_count": 23,
   "metadata": {},
   "outputs": [
    {
     "data": {
      "text/html": [
       "<div>\n",
       "<style scoped>\n",
       "    .dataframe tbody tr th:only-of-type {\n",
       "        vertical-align: middle;\n",
       "    }\n",
       "\n",
       "    .dataframe tbody tr th {\n",
       "        vertical-align: top;\n",
       "    }\n",
       "\n",
       "    .dataframe thead th {\n",
       "        text-align: right;\n",
       "    }\n",
       "</style>\n",
       "<table border=\"1\" class=\"dataframe\">\n",
       "  <thead>\n",
       "    <tr style=\"text-align: right;\">\n",
       "      <th></th>\n",
       "      <th>Date</th>\n",
       "      <th>Open</th>\n",
       "      <th>High</th>\n",
       "      <th>Low</th>\n",
       "      <th>Close</th>\n",
       "      <th>Volume</th>\n",
       "      <th>Adj Close</th>\n",
       "    </tr>\n",
       "  </thead>\n",
       "  <tbody>\n",
       "    <tr>\n",
       "      <th>0</th>\n",
       "      <td>2012-06-01</td>\n",
       "      <td>569.16</td>\n",
       "      <td>590.00</td>\n",
       "      <td>548.50</td>\n",
       "      <td>584.00</td>\n",
       "      <td>14077000</td>\n",
       "      <td>581.50</td>\n",
       "    </tr>\n",
       "    <tr>\n",
       "      <th>1</th>\n",
       "      <td>2012-05-01</td>\n",
       "      <td>584.90</td>\n",
       "      <td>596.76</td>\n",
       "      <td>522.18</td>\n",
       "      <td>577.73</td>\n",
       "      <td>18827900</td>\n",
       "      <td>575.26</td>\n",
       "    </tr>\n",
       "    <tr>\n",
       "      <th>2</th>\n",
       "      <td>2012-04-02</td>\n",
       "      <td>601.83</td>\n",
       "      <td>644.00</td>\n",
       "      <td>555.00</td>\n",
       "      <td>583.98</td>\n",
       "      <td>28759100</td>\n",
       "      <td>581.48</td>\n",
       "    </tr>\n",
       "    <tr>\n",
       "      <th>3</th>\n",
       "      <td>2012-03-01</td>\n",
       "      <td>548.17</td>\n",
       "      <td>621.45</td>\n",
       "      <td>516.22</td>\n",
       "      <td>599.55</td>\n",
       "      <td>26486000</td>\n",
       "      <td>596.99</td>\n",
       "    </tr>\n",
       "    <tr>\n",
       "      <th>4</th>\n",
       "      <td>2012-02-01</td>\n",
       "      <td>458.41</td>\n",
       "      <td>547.61</td>\n",
       "      <td>453.98</td>\n",
       "      <td>542.44</td>\n",
       "      <td>22001000</td>\n",
       "      <td>540.12</td>\n",
       "    </tr>\n",
       "    <tr>\n",
       "      <th>5</th>\n",
       "      <td>2012-01-03</td>\n",
       "      <td>409.40</td>\n",
       "      <td>458.24</td>\n",
       "      <td>409.00</td>\n",
       "      <td>456.48</td>\n",
       "      <td>12949100</td>\n",
       "      <td>454.53</td>\n",
       "    </tr>\n",
       "  </tbody>\n",
       "</table>\n",
       "</div>"
      ],
      "text/plain": [
       "         Date    Open    High     Low   Close    Volume  Adj Close\n",
       "0  2012-06-01  569.16  590.00  548.50  584.00  14077000     581.50\n",
       "1  2012-05-01  584.90  596.76  522.18  577.73  18827900     575.26\n",
       "2  2012-04-02  601.83  644.00  555.00  583.98  28759100     581.48\n",
       "3  2012-03-01  548.17  621.45  516.22  599.55  26486000     596.99\n",
       "4  2012-02-01  458.41  547.61  453.98  542.44  22001000     540.12\n",
       "5  2012-01-03  409.40  458.24  409.00  456.48  12949100     454.53"
      ]
     },
     "execution_count": 23,
     "metadata": {},
     "output_type": "execute_result"
    }
   ],
   "source": [
    "df"
   ]
  },
  {
   "cell_type": "markdown",
   "metadata": {},
   "source": [
    "You can import data from a website and Pandas makes use of this capability to allow `DataFrames` to be represented as tables."
   ]
  },
  {
   "cell_type": "markdown",
   "metadata": {},
   "source": [
    "## External sites\n",
    "\n",
    "you can link to various types of sites such as when you need to reference Wikipedia also.\n"
   ]
  },
  {
   "cell_type": "code",
   "execution_count": 25,
   "metadata": {},
   "outputs": [
    {
     "data": {
      "text/html": [
       "<Iframe src=https://en.wikipedia.org/wiki/Main_Page/?useformat=mobile width=700 height=350</iframe>\n"
      ],
      "text/plain": [
       "<IPython.core.display.HTML object>"
      ]
     },
     "metadata": {},
     "output_type": "display_data"
    }
   ],
   "source": [
    "%%html\n",
    "<Iframe src=https://en.wikipedia.org/wiki/Main_Page/?useformat=mobile width=700 height=350</iframe>"
   ]
  },
  {
   "cell_type": "markdown",
   "metadata": {},
   "source": [
    "## Mapping"
   ]
  },
  {
   "cell_type": "code",
   "execution_count": 1,
   "metadata": {},
   "outputs": [
    {
     "data": {
      "application/vnd.jupyter.widget-view+json": {
       "model_id": "db448431b2a5493cac4ba1653ba3b421",
       "version_major": 2,
       "version_minor": 0
      },
      "text/plain": [
       "Map(center=[36.776301, -76.028291], controls=(ZoomControl(options=['position', 'zoom_in_text', 'zoom_in_title'…"
      ]
     },
     "metadata": {},
     "output_type": "display_data"
    }
   ],
   "source": [
    "from ipyleaflet import Map\n",
    "Map(center=[36.776301, -76.028291], zoom=10)"
   ]
  },
  {
   "cell_type": "code",
   "execution_count": null,
   "metadata": {},
   "outputs": [],
   "source": []
  }
 ],
 "metadata": {
  "kernelspec": {
   "display_name": "Python 3",
   "language": "python",
   "name": "python3"
  },
  "language_info": {
   "codemirror_mode": {
    "name": "ipython",
    "version": 3
   },
   "file_extension": ".py",
   "mimetype": "text/x-python",
   "name": "python",
   "nbconvert_exporter": "python",
   "pygments_lexer": "ipython3",
   "version": "3.7.4"
  }
 },
 "nbformat": 4,
 "nbformat_minor": 4
}
