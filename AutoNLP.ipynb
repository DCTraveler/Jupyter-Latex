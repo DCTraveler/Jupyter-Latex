{
 "cells": [
  {
   "cell_type": "markdown",
   "id": "progressive-patrol",
   "metadata": {},
   "source": [
    "## AutoNLP\n",
    "\n",
    "https://github.com/huggingface/autonlp"
   ]
  },
  {
   "cell_type": "code",
   "execution_count": 3,
   "id": "private-happiness",
   "metadata": {},
   "outputs": [],
   "source": [
    "import autonlp"
   ]
  },
  {
   "cell_type": "code",
   "execution_count": 6,
   "id": "racial-wisdom",
   "metadata": {},
   "outputs": [
    {
     "name": "stdout",
     "output_type": "stream",
     "text": [
      "\u001b[32m2021-03-10 12:01:05.283\u001b[0m | \u001b[1mINFO    \u001b[0m | \u001b[36mautonlp.autonlp\u001b[0m:\u001b[36mlogin\u001b[0m:\u001b[36m51\u001b[0m - \u001b[1m🗝 Successfully logged in as Wildertrek\u001b[0m\n",
      "\u001b[32m2021-03-10 12:01:05.283\u001b[0m | \u001b[1mINFO    \u001b[0m | \u001b[36mautonlp.autonlp\u001b[0m:\u001b[36mlogin\u001b[0m:\u001b[36m58\u001b[0m - \u001b[1m🗝 Storing credentials in:  /Users/jsr/.autonlp\u001b[0m\n",
      "Welcome to 🤗 AutoNLP! Start by creating a project: \u001b[91mautonlp create_project\u001b[0m\n"
     ]
    }
   ],
   "source": [
    "!autonlp login --api-key api_IXXTVaEcsdaMmxxQeffuENWbmnQmrWNyFv"
   ]
  },
  {
   "cell_type": "code",
   "execution_count": null,
   "id": "unknown-jackson",
   "metadata": {},
   "outputs": [],
   "source": []
  }
 ],
 "metadata": {
  "kernelspec": {
   "display_name": "Python 3",
   "language": "python",
   "name": "python3"
  },
  "language_info": {
   "codemirror_mode": {
    "name": "ipython",
    "version": 3
   },
   "file_extension": ".py",
   "mimetype": "text/x-python",
   "name": "python",
   "nbconvert_exporter": "python",
   "pygments_lexer": "ipython3",
   "version": "3.7.4"
  }
 },
 "nbformat": 4,
 "nbformat_minor": 5
}
