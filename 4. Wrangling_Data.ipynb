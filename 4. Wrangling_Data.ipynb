{
 "cells": [
  {
   "cell_type": "markdown",
   "metadata": {},
   "source": [
    "[Home](https://pandas.pydata.org/pandas-docs/stable/index.html)\n",
    "[What's New](https://pandas.pydata.org/pandas-docs/stable/whatsnew/v1.0.1.html)\n",
    "[Getting Started](https://pandas.pydata.org/pandas-docs/stable/getting_started/index.html)\n",
    "[User Guide](https://pandas.pydata.org/pandas-docs/stable/user_guide/index.html)\n",
    "[API Reference](https://pandas.pydata.org/pandas-docs/stable/reference/index.html)\n",
    "[Development](https://pandas.pydata.org/pandas-docs/stable/development/index.html)\n",
    "[Release Notes](https://pandas.pydata.org/pandas-docs/stable/whatsnew/index.html)\n",
    "***\n",
    "<img src=\"https://pandas.pydata.org/pandas-docs/stable/_static/pandas.svg\" align=\"left\" alt=\"dataframe image\" width = \"400\">\n",
    "***"
   ]
  },
  {
   "cell_type": "code",
   "execution_count": 7,
   "metadata": {},
   "outputs": [],
   "source": [
    "#standard import The community agreed alias for pandas is pd, so loading pandas as pd is assumed standard practice for all of the pandas documentation.\n",
    "\n",
    "import pandas as pd"
   ]
  },
  {
   "cell_type": "markdown",
   "metadata": {},
   "source": [
    "If you have downloaded a conda distribution then you can ensure you have pandas and update it appropriately (conda install/update pandas) and or utilize (pip install pandas)"
   ]
  },
  {
   "cell_type": "markdown",
   "metadata": {},
   "source": [
    "When working with tabular data, such as data stored in spreadsheets or databases, Pandas is the right tool for you when working in Jupyter Notebook or Lab. Pandas helps you to explore, clean, visualize, analyze and process your data. In Pandas, a data table is called a [DataFrame](https://pandas.pydata.org/pandas-docs/stable/reference/api/pandas.DataFrame.html#pandas.DataFrame).\n",
    "\n",
    "<!--![dataframe](images/dataframe.png) -->\n",
    "<img src=\"https://pandas.pydata.org/pandas-docs/stable/_images/01_table_dataframe.svg\" align=\"left\" alt=\"dataframe image\" width = \"400\">"
   ]
  },
  {
   "cell_type": "code",
   "execution_count": 9,
   "metadata": {},
   "outputs": [
    {
     "name": "stdout",
     "output_type": "stream",
     "text": [
      "data.csv\n"
     ]
    }
   ],
   "source": [
    "!ls data"
   ]
  },
  {
   "cell_type": "code",
   "execution_count": 16,
   "metadata": {},
   "outputs": [],
   "source": [
    "df = pd.read_csv('data/data.csv')"
   ]
  },
  {
   "cell_type": "code",
   "execution_count": 17,
   "metadata": {},
   "outputs": [
    {
     "data": {
      "text/html": [
       "<div>\n",
       "<style scoped>\n",
       "    .dataframe tbody tr th:only-of-type {\n",
       "        vertical-align: middle;\n",
       "    }\n",
       "\n",
       "    .dataframe tbody tr th {\n",
       "        vertical-align: top;\n",
       "    }\n",
       "\n",
       "    .dataframe thead th {\n",
       "        text-align: right;\n",
       "    }\n",
       "</style>\n",
       "<table border=\"1\" class=\"dataframe\">\n",
       "  <thead>\n",
       "    <tr style=\"text-align: right;\">\n",
       "      <th></th>\n",
       "      <th>Date</th>\n",
       "      <th>Open</th>\n",
       "      <th>High</th>\n",
       "      <th>Low</th>\n",
       "      <th>Close</th>\n",
       "      <th>Volume</th>\n",
       "      <th>Adj Close</th>\n",
       "    </tr>\n",
       "  </thead>\n",
       "  <tbody>\n",
       "    <tr>\n",
       "      <td>0</td>\n",
       "      <td>2012-06-01</td>\n",
       "      <td>569.16</td>\n",
       "      <td>590.00</td>\n",
       "      <td>548.50</td>\n",
       "      <td>584.00</td>\n",
       "      <td>14077000</td>\n",
       "      <td>581.50</td>\n",
       "    </tr>\n",
       "    <tr>\n",
       "      <td>1</td>\n",
       "      <td>2012-05-01</td>\n",
       "      <td>584.90</td>\n",
       "      <td>596.76</td>\n",
       "      <td>522.18</td>\n",
       "      <td>577.73</td>\n",
       "      <td>18827900</td>\n",
       "      <td>575.26</td>\n",
       "    </tr>\n",
       "    <tr>\n",
       "      <td>2</td>\n",
       "      <td>2012-04-02</td>\n",
       "      <td>601.83</td>\n",
       "      <td>644.00</td>\n",
       "      <td>555.00</td>\n",
       "      <td>583.98</td>\n",
       "      <td>28759100</td>\n",
       "      <td>581.48</td>\n",
       "    </tr>\n",
       "    <tr>\n",
       "      <td>3</td>\n",
       "      <td>2012-03-01</td>\n",
       "      <td>548.17</td>\n",
       "      <td>621.45</td>\n",
       "      <td>516.22</td>\n",
       "      <td>599.55</td>\n",
       "      <td>26486000</td>\n",
       "      <td>596.99</td>\n",
       "    </tr>\n",
       "    <tr>\n",
       "      <td>4</td>\n",
       "      <td>2012-02-01</td>\n",
       "      <td>458.41</td>\n",
       "      <td>547.61</td>\n",
       "      <td>453.98</td>\n",
       "      <td>542.44</td>\n",
       "      <td>22001000</td>\n",
       "      <td>540.12</td>\n",
       "    </tr>\n",
       "    <tr>\n",
       "      <td>5</td>\n",
       "      <td>2012-01-03</td>\n",
       "      <td>409.40</td>\n",
       "      <td>458.24</td>\n",
       "      <td>409.00</td>\n",
       "      <td>456.48</td>\n",
       "      <td>12949100</td>\n",
       "      <td>454.53</td>\n",
       "    </tr>\n",
       "  </tbody>\n",
       "</table>\n",
       "</div>"
      ],
      "text/plain": [
       "         Date    Open    High     Low   Close    Volume  Adj Close\n",
       "0  2012-06-01  569.16  590.00  548.50  584.00  14077000     581.50\n",
       "1  2012-05-01  584.90  596.76  522.18  577.73  18827900     575.26\n",
       "2  2012-04-02  601.83  644.00  555.00  583.98  28759100     581.48\n",
       "3  2012-03-01  548.17  621.45  516.22  599.55  26486000     596.99\n",
       "4  2012-02-01  458.41  547.61  453.98  542.44  22001000     540.12\n",
       "5  2012-01-03  409.40  458.24  409.00  456.48  12949100     454.53"
      ]
     },
     "execution_count": 17,
     "metadata": {},
     "output_type": "execute_result"
    }
   ],
   "source": [
    "df"
   ]
  },
  {
   "cell_type": "markdown",
   "metadata": {},
   "source": [
    "Each column in a DataFrame is a Series!"
   ]
  },
  {
   "cell_type": "code",
   "execution_count": 19,
   "metadata": {},
   "outputs": [
    {
     "data": {
      "text/plain": [
       "0    14077000\n",
       "1    18827900\n",
       "2    28759100\n",
       "3    26486000\n",
       "4    22001000\n",
       "5    12949100\n",
       "Name: Volume, dtype: int64"
      ]
     },
     "execution_count": 19,
     "metadata": {},
     "output_type": "execute_result"
    }
   ],
   "source": [
    "#to call just one column and put it into a series\n",
    "df['Volume']"
   ]
  },
  {
   "cell_type": "code",
   "execution_count": 20,
   "metadata": {},
   "outputs": [
    {
     "data": {
      "text/plain": [
       "Date         2012-03-01\n",
       "Open             548.17\n",
       "High             621.45\n",
       "Low              516.22\n",
       "Close            599.55\n",
       "Volume         26486000\n",
       "Adj Close        596.99\n",
       "Name: 3, dtype: object"
      ]
     },
     "execution_count": 20,
     "metadata": {},
     "output_type": "execute_result"
    }
   ],
   "source": [
    "#to call a row of data use .loc[index]\n",
    "df.loc[3]"
   ]
  },
  {
   "cell_type": "code",
   "execution_count": null,
   "metadata": {},
   "outputs": [],
   "source": []
  },
  {
   "cell_type": "code",
   "execution_count": 22,
   "metadata": {},
   "outputs": [
    {
     "data": {
      "text/plain": [
       "count    6.000000e+00\n",
       "mean     2.051668e+07\n",
       "std      6.439925e+06\n",
       "min      1.294910e+07\n",
       "25%      1.526472e+07\n",
       "50%      2.041445e+07\n",
       "75%      2.536475e+07\n",
       "max      2.875910e+07\n",
       "Name: Volume, dtype: float64"
      ]
     },
     "execution_count": 22,
     "metadata": {},
     "output_type": "execute_result"
    }
   ],
   "source": [
    "#to call just one column and statistically describe\n",
    "df['Volume'].describe()"
   ]
  },
  {
   "cell_type": "markdown",
   "metadata": {},
   "source": [
    "Pandas supports the integration with many file formats or data sources out of the box (csv, excel, sql, json, parquet,html, hdf5). Importing data from each of these data sources is provided by function with the prefix read_*. Similarly, the to_* methods are used to store data.\n",
    "\n",
    "<img src=\"https://pandas.pydata.org/pandas-docs/stable/_images/02_io_readwrite.svg\" alt=\"dataframe image\" width = \"800\">\n"
   ]
  },
  {
   "cell_type": "code",
   "execution_count": 23,
   "metadata": {},
   "outputs": [],
   "source": [
    "df2 = pd.read_csv('data/AI_Tools.csv')"
   ]
  },
  {
   "cell_type": "code",
   "execution_count": 27,
   "metadata": {},
   "outputs": [
    {
     "data": {
      "text/html": [
       "<div>\n",
       "<style scoped>\n",
       "    .dataframe tbody tr th:only-of-type {\n",
       "        vertical-align: middle;\n",
       "    }\n",
       "\n",
       "    .dataframe tbody tr th {\n",
       "        vertical-align: top;\n",
       "    }\n",
       "\n",
       "    .dataframe thead th {\n",
       "        text-align: right;\n",
       "    }\n",
       "</style>\n",
       "<table border=\"1\" class=\"dataframe\">\n",
       "  <thead>\n",
       "    <tr style=\"text-align: right;\">\n",
       "      <th></th>\n",
       "      <th>Tool/Capability</th>\n",
       "      <th>Description</th>\n",
       "      <th>Capability Type</th>\n",
       "    </tr>\n",
       "  </thead>\n",
       "  <tbody>\n",
       "    <tr>\n",
       "      <td>0</td>\n",
       "      <td>Adobe Photoshop</td>\n",
       "      <td>Adobe Photoshop is a raster graphics editor.</td>\n",
       "      <td>Graphic editing</td>\n",
       "    </tr>\n",
       "    <tr>\n",
       "      <td>1</td>\n",
       "      <td>Amazon Backup</td>\n",
       "      <td>Fully managed backup service that makes it eas...</td>\n",
       "      <td>AWS Tools</td>\n",
       "    </tr>\n",
       "    <tr>\n",
       "      <td>2</td>\n",
       "      <td>Amazon Comprehend</td>\n",
       "      <td>Amazon Comprehend is a natural language proces...</td>\n",
       "      <td>AWS Tools</td>\n",
       "    </tr>\n",
       "    <tr>\n",
       "      <td>3</td>\n",
       "      <td>Amazon DynamoDB</td>\n",
       "      <td>Amazon DynamoDB is a fully managed proprietary...</td>\n",
       "      <td>AWS Tools</td>\n",
       "    </tr>\n",
       "    <tr>\n",
       "      <td>4</td>\n",
       "      <td>Amazon Elastic Block Storage</td>\n",
       "      <td>Persistent, durable, low-latency block-level s...</td>\n",
       "      <td>AWS Tools</td>\n",
       "    </tr>\n",
       "  </tbody>\n",
       "</table>\n",
       "</div>"
      ],
      "text/plain": [
       "                Tool/Capability  \\\n",
       "0               Adobe Photoshop   \n",
       "1                 Amazon Backup   \n",
       "2             Amazon Comprehend   \n",
       "3               Amazon DynamoDB   \n",
       "4  Amazon Elastic Block Storage   \n",
       "\n",
       "                                         Description  Capability Type  \n",
       "0       Adobe Photoshop is a raster graphics editor.  Graphic editing  \n",
       "1  Fully managed backup service that makes it eas...        AWS Tools  \n",
       "2  Amazon Comprehend is a natural language proces...        AWS Tools  \n",
       "3  Amazon DynamoDB is a fully managed proprietary...        AWS Tools  \n",
       "4  Persistent, durable, low-latency block-level s...        AWS Tools  "
      ]
     },
     "execution_count": 27,
     "metadata": {},
     "output_type": "execute_result"
    }
   ],
   "source": [
    "df2.head()"
   ]
  },
  {
   "cell_type": "code",
   "execution_count": 25,
   "metadata": {},
   "outputs": [],
   "source": [
    "df3 = pd.read_excel('data/AI_Tools.xlsx')"
   ]
  },
  {
   "cell_type": "code",
   "execution_count": 29,
   "metadata": {},
   "outputs": [
    {
     "data": {
      "text/html": [
       "<div>\n",
       "<style scoped>\n",
       "    .dataframe tbody tr th:only-of-type {\n",
       "        vertical-align: middle;\n",
       "    }\n",
       "\n",
       "    .dataframe tbody tr th {\n",
       "        vertical-align: top;\n",
       "    }\n",
       "\n",
       "    .dataframe thead th {\n",
       "        text-align: right;\n",
       "    }\n",
       "</style>\n",
       "<table border=\"1\" class=\"dataframe\">\n",
       "  <thead>\n",
       "    <tr style=\"text-align: right;\">\n",
       "      <th></th>\n",
       "      <th>Tool/Capability</th>\n",
       "      <th>Description</th>\n",
       "      <th>Capability Type</th>\n",
       "    </tr>\n",
       "  </thead>\n",
       "  <tbody>\n",
       "    <tr>\n",
       "      <td>262</td>\n",
       "      <td>Watchfloor (SOC)</td>\n",
       "      <td>Security Suite Tools - Security Operation Cent...</td>\n",
       "      <td>Automation/Infrastructure Tools</td>\n",
       "    </tr>\n",
       "    <tr>\n",
       "      <td>263</td>\n",
       "      <td>Windows Server</td>\n",
       "      <td>Windows Server 2012 or 2016</td>\n",
       "      <td>OS</td>\n",
       "    </tr>\n",
       "    <tr>\n",
       "      <td>264</td>\n",
       "      <td>XGBoost</td>\n",
       "      <td>XGBoost is an optimized distributed gradient b...</td>\n",
       "      <td>AI/ML Tools</td>\n",
       "    </tr>\n",
       "    <tr>\n",
       "      <td>265</td>\n",
       "      <td>Yarn</td>\n",
       "      <td>IDE - Apache Hadoop Yarn (Yet Another Resource...</td>\n",
       "      <td>OS</td>\n",
       "    </tr>\n",
       "    <tr>\n",
       "      <td>266</td>\n",
       "      <td>Zapier</td>\n",
       "      <td>Integrate web applications and automate workflows</td>\n",
       "      <td>Automation/Infrastructure Tools</td>\n",
       "    </tr>\n",
       "  </tbody>\n",
       "</table>\n",
       "</div>"
      ],
      "text/plain": [
       "      Tool/Capability                                        Description  \\\n",
       "262  Watchfloor (SOC)  Security Suite Tools - Security Operation Cent...   \n",
       "263    Windows Server                        Windows Server 2012 or 2016   \n",
       "264           XGBoost  XGBoost is an optimized distributed gradient b...   \n",
       "265              Yarn  IDE - Apache Hadoop Yarn (Yet Another Resource...   \n",
       "266            Zapier  Integrate web applications and automate workflows   \n",
       "\n",
       "                     Capability Type  \n",
       "262  Automation/Infrastructure Tools  \n",
       "263                               OS  \n",
       "264                      AI/ML Tools  \n",
       "265                               OS  \n",
       "266  Automation/Infrastructure Tools  "
      ]
     },
     "execution_count": 29,
     "metadata": {},
     "output_type": "execute_result"
    }
   ],
   "source": [
    "df3.tail()"
   ]
  },
  {
   "cell_type": "code",
   "execution_count": null,
   "metadata": {},
   "outputs": [],
   "source": []
  }
 ],
 "metadata": {
  "kernelspec": {
   "display_name": "Python 3",
   "language": "python",
   "name": "python3"
  },
  "language_info": {
   "codemirror_mode": {
    "name": "ipython",
    "version": 3
   },
   "file_extension": ".py",
   "mimetype": "text/x-python",
   "name": "python",
   "nbconvert_exporter": "python",
   "pygments_lexer": "ipython3",
   "version": "3.7.4"
  }
 },
 "nbformat": 4,
 "nbformat_minor": 4
}
