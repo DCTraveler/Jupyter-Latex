{
 "cells": [
  {
   "cell_type": "markdown",
   "metadata": {},
   "source": [
    "*In this lesson, you will transforing data from the PGA data set you have seen in previous videos.*"
   ]
  },
  {
   "cell_type": "markdown",
   "metadata": {},
   "source": [
    "## Import Libraries"
   ]
  },
  {
   "cell_type": "markdown",
   "metadata": {},
   "source": [
    "*Of course, the first thing you will need to do is import any libraries you'll be using. The library \"rcompanion\" is really awesome for doing data processing, including transformations, and has a nice function, plot normal histogram, for plotting data easily without all the ggplot work, and with a best fit curve so you can assess normality at a glance. Go ahead and load that package, and if you haven't installed it before, you'll need to do that too.*"
   ]
  },
  {
   "cell_type": "code",
   "execution_count": 38,
   "metadata": {},
   "outputs": [
    {
     "name": "stderr",
     "output_type": "stream",
     "text": [
      "Warning message:\n",
      "\"package 'IDPmisc' was built under R version 3.5.3\""
     ]
    }
   ],
   "source": [
    "library(\"rcompanion\")\n",
    "library(\"IDPmisc\")"
   ]
  },
  {
   "cell_type": "markdown",
   "metadata": {},
   "source": [
    "## Import Data"
   ]
  },
  {
   "cell_type": "code",
   "execution_count": 5,
   "metadata": {},
   "outputs": [],
   "source": [
    "golf <- read.csv(\"C://Users/meredith.dodd/Documents/Data Science/105 Intermediate Statistics/Lesson 1/pgaTourData.csv\")"
   ]
  },
  {
   "cell_type": "code",
   "execution_count": 6,
   "metadata": {},
   "outputs": [
    {
     "data": {
      "text/html": [
       "<table>\n",
       "<thead><tr><th scope=col>Player.Name</th><th scope=col>Rounds</th><th scope=col>Fairway.Percentage</th><th scope=col>Year</th><th scope=col>Avg.Distance</th><th scope=col>gir</th><th scope=col>Average.Putts</th><th scope=col>Average.Scrambling</th><th scope=col>Average.Score</th><th scope=col>Points</th><th scope=col>Wins</th><th scope=col>Top.10</th><th scope=col>Average.SG.Putts</th><th scope=col>Average.SG.Total</th><th scope=col>SG.OTT</th><th scope=col>SG.APR</th><th scope=col>SG.ARG</th><th scope=col>Money</th></tr></thead>\n",
       "<tbody>\n",
       "\t<tr><td>Henrik Stenson</td><td> 60           </td><td>75.19         </td><td>2018          </td><td>291.5         </td><td>73.51         </td><td>29.93         </td><td>60.67         </td><td>69.617        </td><td>868           </td><td>NA            </td><td>5             </td><td>-0.207        </td><td>1.153         </td><td> 0.427        </td><td>0.960         </td><td>-0.027        </td><td>$2,680,487    </td></tr>\n",
       "\t<tr><td>Ryan Armour   </td><td>109           </td><td>73.58         </td><td>2018          </td><td>283.5         </td><td>68.22         </td><td>29.31         </td><td>60.13         </td><td>70.758        </td><td>1,006         </td><td> 1            </td><td>3             </td><td>-0.058        </td><td>0.337         </td><td>-0.012        </td><td>0.213         </td><td> 0.194        </td><td>$2,485,203    </td></tr>\n",
       "\t<tr><td>Chez Reavie   </td><td> 93           </td><td>72.24         </td><td>2018          </td><td>286.5         </td><td>68.67         </td><td>29.12         </td><td>62.27         </td><td>70.432        </td><td>1,020         </td><td>NA            </td><td>3             </td><td> 0.192        </td><td>0.674         </td><td> 0.183        </td><td>0.437         </td><td>-0.137        </td><td>$2,700,018    </td></tr>\n",
       "\t<tr><td>Ryan Moore    </td><td> 78           </td><td>71.94         </td><td>2018          </td><td>289.2         </td><td>68.80         </td><td>29.17         </td><td>64.16         </td><td>70.015        </td><td>795           </td><td>NA            </td><td>5             </td><td>-0.271        </td><td>0.941         </td><td> 0.406        </td><td>0.532         </td><td> 0.273        </td><td>$1,986,608    </td></tr>\n",
       "\t<tr><td>Brian Stuard  </td><td>103           </td><td>71.44         </td><td>2018          </td><td>278.9         </td><td>67.12         </td><td>29.11         </td><td>59.23         </td><td>71.038        </td><td>421           </td><td>NA            </td><td>3             </td><td> 0.164        </td><td>0.062         </td><td>-0.227        </td><td>0.099         </td><td> 0.026        </td><td>$1,089,763    </td></tr>\n",
       "\t<tr><td>Brian Gay     </td><td>103           </td><td>71.37         </td><td>2018          </td><td>282.9         </td><td>64.52         </td><td>28.25         </td><td>63.26         </td><td>70.280        </td><td>880           </td><td>NA            </td><td>6             </td><td> 0.442        </td><td>0.565         </td><td>-0.166        </td><td>0.036         </td><td> 0.253        </td><td>$2,152,501    </td></tr>\n",
       "</tbody>\n",
       "</table>\n"
      ],
      "text/latex": [
       "\\begin{tabular}{r|llllllllllllllllll}\n",
       " Player.Name & Rounds & Fairway.Percentage & Year & Avg.Distance & gir & Average.Putts & Average.Scrambling & Average.Score & Points & Wins & Top.10 & Average.SG.Putts & Average.SG.Total & SG.OTT & SG.APR & SG.ARG & Money\\\\\n",
       "\\hline\n",
       "\t Henrik Stenson &  60            & 75.19          & 2018           & 291.5          & 73.51          & 29.93          & 60.67          & 69.617         & 868            & NA             & 5              & -0.207         & 1.153          &  0.427         & 0.960          & -0.027         & \\$2,680,487  \\\\\n",
       "\t Ryan Armour    & 109            & 73.58          & 2018           & 283.5          & 68.22          & 29.31          & 60.13          & 70.758         & 1,006          &  1             & 3              & -0.058         & 0.337          & -0.012         & 0.213          &  0.194         & \\$2,485,203  \\\\\n",
       "\t Chez Reavie    &  93            & 72.24          & 2018           & 286.5          & 68.67          & 29.12          & 62.27          & 70.432         & 1,020          & NA             & 3              &  0.192         & 0.674          &  0.183         & 0.437          & -0.137         & \\$2,700,018  \\\\\n",
       "\t Ryan Moore     &  78            & 71.94          & 2018           & 289.2          & 68.80          & 29.17          & 64.16          & 70.015         & 795            & NA             & 5              & -0.271         & 0.941          &  0.406         & 0.532          &  0.273         & \\$1,986,608  \\\\\n",
       "\t Brian Stuard   & 103            & 71.44          & 2018           & 278.9          & 67.12          & 29.11          & 59.23          & 71.038         & 421            & NA             & 3              &  0.164         & 0.062          & -0.227         & 0.099          &  0.026         & \\$1,089,763  \\\\\n",
       "\t Brian Gay      & 103            & 71.37          & 2018           & 282.9          & 64.52          & 28.25          & 63.26          & 70.280         & 880            & NA             & 6              &  0.442         & 0.565          & -0.166         & 0.036          &  0.253         & \\$2,152,501  \\\\\n",
       "\\end{tabular}\n"
      ],
      "text/markdown": [
       "\n",
       "Player.Name | Rounds | Fairway.Percentage | Year | Avg.Distance | gir | Average.Putts | Average.Scrambling | Average.Score | Points | Wins | Top.10 | Average.SG.Putts | Average.SG.Total | SG.OTT | SG.APR | SG.ARG | Money | \n",
       "|---|---|---|---|---|---|\n",
       "| Henrik Stenson |  60            | 75.19          | 2018           | 291.5          | 73.51          | 29.93          | 60.67          | 69.617         | 868            | NA             | 5              | -0.207         | 1.153          |  0.427         | 0.960          | -0.027         | $2,680,487     | \n",
       "| Ryan Armour    | 109            | 73.58          | 2018           | 283.5          | 68.22          | 29.31          | 60.13          | 70.758         | 1,006          |  1             | 3              | -0.058         | 0.337          | -0.012         | 0.213          |  0.194         | $2,485,203     | \n",
       "| Chez Reavie    |  93            | 72.24          | 2018           | 286.5          | 68.67          | 29.12          | 62.27          | 70.432         | 1,020          | NA             | 3              |  0.192         | 0.674          |  0.183         | 0.437          | -0.137         | $2,700,018     | \n",
       "| Ryan Moore     |  78            | 71.94          | 2018           | 289.2          | 68.80          | 29.17          | 64.16          | 70.015         | 795            | NA             | 5              | -0.271         | 0.941          |  0.406         | 0.532          |  0.273         | $1,986,608     | \n",
       "| Brian Stuard   | 103            | 71.44          | 2018           | 278.9          | 67.12          | 29.11          | 59.23          | 71.038         | 421            | NA             | 3              |  0.164         | 0.062          | -0.227         | 0.099          |  0.026         | $1,089,763     | \n",
       "| Brian Gay      | 103            | 71.37          | 2018           | 282.9          | 64.52          | 28.25          | 63.26          | 70.280         | 880            | NA             | 6              |  0.442         | 0.565          | -0.166         | 0.036          |  0.253         | $2,152,501     | \n",
       "\n",
       "\n"
      ],
      "text/plain": [
       "  Player.Name    Rounds Fairway.Percentage Year Avg.Distance gir  \n",
       "1 Henrik Stenson  60    75.19              2018 291.5        73.51\n",
       "2 Ryan Armour    109    73.58              2018 283.5        68.22\n",
       "3 Chez Reavie     93    72.24              2018 286.5        68.67\n",
       "4 Ryan Moore      78    71.94              2018 289.2        68.80\n",
       "5 Brian Stuard   103    71.44              2018 278.9        67.12\n",
       "6 Brian Gay      103    71.37              2018 282.9        64.52\n",
       "  Average.Putts Average.Scrambling Average.Score Points Wins Top.10\n",
       "1 29.93         60.67              69.617        868    NA   5     \n",
       "2 29.31         60.13              70.758        1,006   1   3     \n",
       "3 29.12         62.27              70.432        1,020  NA   3     \n",
       "4 29.17         64.16              70.015        795    NA   5     \n",
       "5 29.11         59.23              71.038        421    NA   3     \n",
       "6 28.25         63.26              70.280        880    NA   6     \n",
       "  Average.SG.Putts Average.SG.Total SG.OTT SG.APR SG.ARG Money      \n",
       "1 -0.207           1.153             0.427 0.960  -0.027 $2,680,487 \n",
       "2 -0.058           0.337            -0.012 0.213   0.194 $2,485,203 \n",
       "3  0.192           0.674             0.183 0.437  -0.137 $2,700,018 \n",
       "4 -0.271           0.941             0.406 0.532   0.273 $1,986,608 \n",
       "5  0.164           0.062            -0.227 0.099   0.026 $1,089,763 \n",
       "6  0.442           0.565            -0.166 0.036   0.253 $2,152,501 "
      ]
     },
     "metadata": {},
     "output_type": "display_data"
    }
   ],
   "source": [
    "head(golf)"
   ]
  },
  {
   "cell_type": "markdown",
   "metadata": {},
   "source": [
    "*Let's take a look at the Wins column, using the function plotNormalHistogram.*"
   ]
  },
  {
   "cell_type": "code",
   "execution_count": 24,
   "metadata": {},
   "outputs": [
    {
     "data": {
      "image/png": "[encoded data removed]",
      "text/plain": [
       "Plot with title \"\""
      ]
     },
     "metadata": {},
     "output_type": "display_data"
    }
   ],
   "source": [
    "plotNormalHistogram(golf$Wins)"
   ]
  },
  {
   "cell_type": "markdown",
   "metadata": {},
   "source": [
    "*Wow, that is really positively skewed! To transform it, according to our chart, you will need to use either a square root transformaiton or a log transformation. Start with square root, since that is a little milder. Remember that the square root function is just sqrt(). You'll want to do this into a new variable, since you'll need to refer back to the original or raw data later. Find a naming convention that works for you - in this case you'll use SQRT at the end of the original variable name to denote the variable that was square rooted*"
   ]
  },
  {
   "cell_type": "code",
   "execution_count": 25,
   "metadata": {},
   "outputs": [],
   "source": [
    "golf$WinsSQRT <- sqrt(golf$Wins)"
   ]
  },
  {
   "cell_type": "markdown",
   "metadata": {},
   "source": [
    "*Take a look at the data to ensure that things went well for you.*"
   ]
  },
  {
   "cell_type": "code",
   "execution_count": 26,
   "metadata": {},
   "outputs": [
    {
     "data": {
      "text/html": [
       "<table>\n",
       "<thead><tr><th scope=col>Player.Name</th><th scope=col>Rounds</th><th scope=col>Fairway.Percentage</th><th scope=col>Year</th><th scope=col>Avg.Distance</th><th scope=col>gir</th><th scope=col>Average.Putts</th><th scope=col>Average.Scrambling</th><th scope=col>Average.Score</th><th scope=col>Points</th><th scope=col>Wins</th><th scope=col>Top.10</th><th scope=col>Average.SG.Putts</th><th scope=col>Average.SG.Total</th><th scope=col>SG.OTT</th><th scope=col>SG.APR</th><th scope=col>SG.ARG</th><th scope=col>Money</th><th scope=col>WinsSQRT</th></tr></thead>\n",
       "<tbody>\n",
       "\t<tr><td>Henrik Stenson</td><td> 60           </td><td>75.19         </td><td>2018          </td><td>291.5         </td><td>73.51         </td><td>29.93         </td><td>60.67         </td><td>69.617        </td><td>868           </td><td>NA            </td><td>5             </td><td>-0.207        </td><td>1.153         </td><td> 0.427        </td><td>0.960         </td><td>-0.027        </td><td>$2,680,487    </td><td>NA            </td></tr>\n",
       "\t<tr><td>Ryan Armour   </td><td>109           </td><td>73.58         </td><td>2018          </td><td>283.5         </td><td>68.22         </td><td>29.31         </td><td>60.13         </td><td>70.758        </td><td>1,006         </td><td> 1            </td><td>3             </td><td>-0.058        </td><td>0.337         </td><td>-0.012        </td><td>0.213         </td><td> 0.194        </td><td>$2,485,203    </td><td> 1            </td></tr>\n",
       "\t<tr><td>Chez Reavie   </td><td> 93           </td><td>72.24         </td><td>2018          </td><td>286.5         </td><td>68.67         </td><td>29.12         </td><td>62.27         </td><td>70.432        </td><td>1,020         </td><td>NA            </td><td>3             </td><td> 0.192        </td><td>0.674         </td><td> 0.183        </td><td>0.437         </td><td>-0.137        </td><td>$2,700,018    </td><td>NA            </td></tr>\n",
       "\t<tr><td>Ryan Moore    </td><td> 78           </td><td>71.94         </td><td>2018          </td><td>289.2         </td><td>68.80         </td><td>29.17         </td><td>64.16         </td><td>70.015        </td><td>795           </td><td>NA            </td><td>5             </td><td>-0.271        </td><td>0.941         </td><td> 0.406        </td><td>0.532         </td><td> 0.273        </td><td>$1,986,608    </td><td>NA            </td></tr>\n",
       "\t<tr><td>Brian Stuard  </td><td>103           </td><td>71.44         </td><td>2018          </td><td>278.9         </td><td>67.12         </td><td>29.11         </td><td>59.23         </td><td>71.038        </td><td>421           </td><td>NA            </td><td>3             </td><td> 0.164        </td><td>0.062         </td><td>-0.227        </td><td>0.099         </td><td> 0.026        </td><td>$1,089,763    </td><td>NA            </td></tr>\n",
       "\t<tr><td>Brian Gay     </td><td>103           </td><td>71.37         </td><td>2018          </td><td>282.9         </td><td>64.52         </td><td>28.25         </td><td>63.26         </td><td>70.280        </td><td>880           </td><td>NA            </td><td>6             </td><td> 0.442        </td><td>0.565         </td><td>-0.166        </td><td>0.036         </td><td> 0.253        </td><td>$2,152,501    </td><td>NA            </td></tr>\n",
       "</tbody>\n",
       "</table>\n"
      ],
      "text/latex": [
       "\\begin{tabular}{r|lllllllllllllllllll}\n",
       " Player.Name & Rounds & Fairway.Percentage & Year & Avg.Distance & gir & Average.Putts & Average.Scrambling & Average.Score & Points & Wins & Top.10 & Average.SG.Putts & Average.SG.Total & SG.OTT & SG.APR & SG.ARG & Money & WinsSQRT\\\\\n",
       "\\hline\n",
       "\t Henrik Stenson &  60            & 75.19          & 2018           & 291.5          & 73.51          & 29.93          & 60.67          & 69.617         & 868            & NA             & 5              & -0.207         & 1.153          &  0.427         & 0.960          & -0.027         & \\$2,680,487   & NA            \\\\\n",
       "\t Ryan Armour    & 109            & 73.58          & 2018           & 283.5          & 68.22          & 29.31          & 60.13          & 70.758         & 1,006          &  1             & 3              & -0.058         & 0.337          & -0.012         & 0.213          &  0.194         & \\$2,485,203   &  1            \\\\\n",
       "\t Chez Reavie    &  93            & 72.24          & 2018           & 286.5          & 68.67          & 29.12          & 62.27          & 70.432         & 1,020          & NA             & 3              &  0.192         & 0.674          &  0.183         & 0.437          & -0.137         & \\$2,700,018   & NA            \\\\\n",
       "\t Ryan Moore     &  78            & 71.94          & 2018           & 289.2          & 68.80          & 29.17          & 64.16          & 70.015         & 795            & NA             & 5              & -0.271         & 0.941          &  0.406         & 0.532          &  0.273         & \\$1,986,608   & NA            \\\\\n",
       "\t Brian Stuard   & 103            & 71.44          & 2018           & 278.9          & 67.12          & 29.11          & 59.23          & 71.038         & 421            & NA             & 3              &  0.164         & 0.062          & -0.227         & 0.099          &  0.026         & \\$1,089,763   & NA            \\\\\n",
       "\t Brian Gay      & 103            & 71.37          & 2018           & 282.9          & 64.52          & 28.25          & 63.26          & 70.280         & 880            & NA             & 6              &  0.442         & 0.565          & -0.166         & 0.036          &  0.253         & \\$2,152,501   & NA            \\\\\n",
       "\\end{tabular}\n"
      ],
      "text/markdown": [
       "\n",
       "Player.Name | Rounds | Fairway.Percentage | Year | Avg.Distance | gir | Average.Putts | Average.Scrambling | Average.Score | Points | Wins | Top.10 | Average.SG.Putts | Average.SG.Total | SG.OTT | SG.APR | SG.ARG | Money | WinsSQRT | \n",
       "|---|---|---|---|---|---|\n",
       "| Henrik Stenson |  60            | 75.19          | 2018           | 291.5          | 73.51          | 29.93          | 60.67          | 69.617         | 868            | NA             | 5              | -0.207         | 1.153          |  0.427         | 0.960          | -0.027         | $2,680,487     | NA             | \n",
       "| Ryan Armour    | 109            | 73.58          | 2018           | 283.5          | 68.22          | 29.31          | 60.13          | 70.758         | 1,006          |  1             | 3              | -0.058         | 0.337          | -0.012         | 0.213          |  0.194         | $2,485,203     |  1             | \n",
       "| Chez Reavie    |  93            | 72.24          | 2018           | 286.5          | 68.67          | 29.12          | 62.27          | 70.432         | 1,020          | NA             | 3              |  0.192         | 0.674          |  0.183         | 0.437          | -0.137         | $2,700,018     | NA             | \n",
       "| Ryan Moore     |  78            | 71.94          | 2018           | 289.2          | 68.80          | 29.17          | 64.16          | 70.015         | 795            | NA             | 5              | -0.271         | 0.941          |  0.406         | 0.532          |  0.273         | $1,986,608     | NA             | \n",
       "| Brian Stuard   | 103            | 71.44          | 2018           | 278.9          | 67.12          | 29.11          | 59.23          | 71.038         | 421            | NA             | 3              |  0.164         | 0.062          | -0.227         | 0.099          |  0.026         | $1,089,763     | NA             | \n",
       "| Brian Gay      | 103            | 71.37          | 2018           | 282.9          | 64.52          | 28.25          | 63.26          | 70.280         | 880            | NA             | 6              |  0.442         | 0.565          | -0.166         | 0.036          |  0.253         | $2,152,501     | NA             | \n",
       "\n",
       "\n"
      ],
      "text/plain": [
       "  Player.Name    Rounds Fairway.Percentage Year Avg.Distance gir  \n",
       "1 Henrik Stenson  60    75.19              2018 291.5        73.51\n",
       "2 Ryan Armour    109    73.58              2018 283.5        68.22\n",
       "3 Chez Reavie     93    72.24              2018 286.5        68.67\n",
       "4 Ryan Moore      78    71.94              2018 289.2        68.80\n",
       "5 Brian Stuard   103    71.44              2018 278.9        67.12\n",
       "6 Brian Gay      103    71.37              2018 282.9        64.52\n",
       "  Average.Putts Average.Scrambling Average.Score Points Wins Top.10\n",
       "1 29.93         60.67              69.617        868    NA   5     \n",
       "2 29.31         60.13              70.758        1,006   1   3     \n",
       "3 29.12         62.27              70.432        1,020  NA   3     \n",
       "4 29.17         64.16              70.015        795    NA   5     \n",
       "5 29.11         59.23              71.038        421    NA   3     \n",
       "6 28.25         63.26              70.280        880    NA   6     \n",
       "  Average.SG.Putts Average.SG.Total SG.OTT SG.APR SG.ARG Money       WinsSQRT\n",
       "1 -0.207           1.153             0.427 0.960  -0.027 $2,680,487  NA      \n",
       "2 -0.058           0.337            -0.012 0.213   0.194 $2,485,203   1      \n",
       "3  0.192           0.674             0.183 0.437  -0.137 $2,700,018  NA      \n",
       "4 -0.271           0.941             0.406 0.532   0.273 $1,986,608  NA      \n",
       "5  0.164           0.062            -0.227 0.099   0.026 $1,089,763  NA      \n",
       "6  0.442           0.565            -0.166 0.036   0.253 $2,152,501  NA      "
      ]
     },
     "metadata": {},
     "output_type": "display_data"
    }
   ],
   "source": [
    "head(golf)"
   ]
  },
  {
   "cell_type": "markdown",
   "metadata": {},
   "source": [
    "*You can confirm that a new variable with SQRT in it was created. Now it's time to replot, with your variable that was just square rooted*"
   ]
  },
  {
   "cell_type": "code",
   "execution_count": 27,
   "metadata": {},
   "outputs": [
    {
     "data": {
      "image/png": "[encoded data removed]",
      "text/plain": [
       "Plot with title \"\""
      ]
     },
     "metadata": {},
     "output_type": "display_data"
    }
   ],
   "source": [
    "plotNormalHistogram(golf$WinsSQRT)"
   ]
  },
  {
   "cell_type": "markdown",
   "metadata": {},
   "source": [
    "*That does really look any better, does it? You may want to try taking the log, then. Luckily, that is pretty easy - there is a function in R called log()*"
   ]
  },
  {
   "cell_type": "code",
   "execution_count": 28,
   "metadata": {},
   "outputs": [],
   "source": [
    "golf$WinsLOG <- log(golf$Wins)"
   ]
  },
  {
   "cell_type": "markdown",
   "metadata": {},
   "source": [
    "*And again, you need to confirm that things have worked as planned by examining your data*"
   ]
  },
  {
   "cell_type": "code",
   "execution_count": 29,
   "metadata": {},
   "outputs": [
    {
     "data": {
      "text/html": [
       "<table>\n",
       "<thead><tr><th scope=col>Player.Name</th><th scope=col>Rounds</th><th scope=col>Fairway.Percentage</th><th scope=col>Year</th><th scope=col>Avg.Distance</th><th scope=col>gir</th><th scope=col>Average.Putts</th><th scope=col>Average.Scrambling</th><th scope=col>Average.Score</th><th scope=col>Points</th><th scope=col>Wins</th><th scope=col>Top.10</th><th scope=col>Average.SG.Putts</th><th scope=col>Average.SG.Total</th><th scope=col>SG.OTT</th><th scope=col>SG.APR</th><th scope=col>SG.ARG</th><th scope=col>Money</th><th scope=col>WinsSQRT</th><th scope=col>WinsLOG</th></tr></thead>\n",
       "<tbody>\n",
       "\t<tr><td>Henrik Stenson</td><td> 60           </td><td>75.19         </td><td>2018          </td><td>291.5         </td><td>73.51         </td><td>29.93         </td><td>60.67         </td><td>69.617        </td><td>868           </td><td>NA            </td><td>5             </td><td>-0.207        </td><td>1.153         </td><td> 0.427        </td><td>0.960         </td><td>-0.027        </td><td>$2,680,487    </td><td>NA            </td><td>NA            </td></tr>\n",
       "\t<tr><td>Ryan Armour   </td><td>109           </td><td>73.58         </td><td>2018          </td><td>283.5         </td><td>68.22         </td><td>29.31         </td><td>60.13         </td><td>70.758        </td><td>1,006         </td><td> 1            </td><td>3             </td><td>-0.058        </td><td>0.337         </td><td>-0.012        </td><td>0.213         </td><td> 0.194        </td><td>$2,485,203    </td><td> 1            </td><td> 0            </td></tr>\n",
       "\t<tr><td>Chez Reavie   </td><td> 93           </td><td>72.24         </td><td>2018          </td><td>286.5         </td><td>68.67         </td><td>29.12         </td><td>62.27         </td><td>70.432        </td><td>1,020         </td><td>NA            </td><td>3             </td><td> 0.192        </td><td>0.674         </td><td> 0.183        </td><td>0.437         </td><td>-0.137        </td><td>$2,700,018    </td><td>NA            </td><td>NA            </td></tr>\n",
       "\t<tr><td>Ryan Moore    </td><td> 78           </td><td>71.94         </td><td>2018          </td><td>289.2         </td><td>68.80         </td><td>29.17         </td><td>64.16         </td><td>70.015        </td><td>795           </td><td>NA            </td><td>5             </td><td>-0.271        </td><td>0.941         </td><td> 0.406        </td><td>0.532         </td><td> 0.273        </td><td>$1,986,608    </td><td>NA            </td><td>NA            </td></tr>\n",
       "\t<tr><td>Brian Stuard  </td><td>103           </td><td>71.44         </td><td>2018          </td><td>278.9         </td><td>67.12         </td><td>29.11         </td><td>59.23         </td><td>71.038        </td><td>421           </td><td>NA            </td><td>3             </td><td> 0.164        </td><td>0.062         </td><td>-0.227        </td><td>0.099         </td><td> 0.026        </td><td>$1,089,763    </td><td>NA            </td><td>NA            </td></tr>\n",
       "\t<tr><td>Brian Gay     </td><td>103           </td><td>71.37         </td><td>2018          </td><td>282.9         </td><td>64.52         </td><td>28.25         </td><td>63.26         </td><td>70.280        </td><td>880           </td><td>NA            </td><td>6             </td><td> 0.442        </td><td>0.565         </td><td>-0.166        </td><td>0.036         </td><td> 0.253        </td><td>$2,152,501    </td><td>NA            </td><td>NA            </td></tr>\n",
       "</tbody>\n",
       "</table>\n"
      ],
      "text/latex": [
       "\\begin{tabular}{r|llllllllllllllllllll}\n",
       " Player.Name & Rounds & Fairway.Percentage & Year & Avg.Distance & gir & Average.Putts & Average.Scrambling & Average.Score & Points & Wins & Top.10 & Average.SG.Putts & Average.SG.Total & SG.OTT & SG.APR & SG.ARG & Money & WinsSQRT & WinsLOG\\\\\n",
       "\\hline\n",
       "\t Henrik Stenson &  60            & 75.19          & 2018           & 291.5          & 73.51          & 29.93          & 60.67          & 69.617         & 868            & NA             & 5              & -0.207         & 1.153          &  0.427         & 0.960          & -0.027         & \\$2,680,487   & NA             & NA            \\\\\n",
       "\t Ryan Armour    & 109            & 73.58          & 2018           & 283.5          & 68.22          & 29.31          & 60.13          & 70.758         & 1,006          &  1             & 3              & -0.058         & 0.337          & -0.012         & 0.213          &  0.194         & \\$2,485,203   &  1             &  0            \\\\\n",
       "\t Chez Reavie    &  93            & 72.24          & 2018           & 286.5          & 68.67          & 29.12          & 62.27          & 70.432         & 1,020          & NA             & 3              &  0.192         & 0.674          &  0.183         & 0.437          & -0.137         & \\$2,700,018   & NA             & NA            \\\\\n",
       "\t Ryan Moore     &  78            & 71.94          & 2018           & 289.2          & 68.80          & 29.17          & 64.16          & 70.015         & 795            & NA             & 5              & -0.271         & 0.941          &  0.406         & 0.532          &  0.273         & \\$1,986,608   & NA             & NA            \\\\\n",
       "\t Brian Stuard   & 103            & 71.44          & 2018           & 278.9          & 67.12          & 29.11          & 59.23          & 71.038         & 421            & NA             & 3              &  0.164         & 0.062          & -0.227         & 0.099          &  0.026         & \\$1,089,763   & NA             & NA            \\\\\n",
       "\t Brian Gay      & 103            & 71.37          & 2018           & 282.9          & 64.52          & 28.25          & 63.26          & 70.280         & 880            & NA             & 6              &  0.442         & 0.565          & -0.166         & 0.036          &  0.253         & \\$2,152,501   & NA             & NA            \\\\\n",
       "\\end{tabular}\n"
      ],
      "text/markdown": [
       "\n",
       "Player.Name | Rounds | Fairway.Percentage | Year | Avg.Distance | gir | Average.Putts | Average.Scrambling | Average.Score | Points | Wins | Top.10 | Average.SG.Putts | Average.SG.Total | SG.OTT | SG.APR | SG.ARG | Money | WinsSQRT | WinsLOG | \n",
       "|---|---|---|---|---|---|\n",
       "| Henrik Stenson |  60            | 75.19          | 2018           | 291.5          | 73.51          | 29.93          | 60.67          | 69.617         | 868            | NA             | 5              | -0.207         | 1.153          |  0.427         | 0.960          | -0.027         | $2,680,487     | NA             | NA             | \n",
       "| Ryan Armour    | 109            | 73.58          | 2018           | 283.5          | 68.22          | 29.31          | 60.13          | 70.758         | 1,006          |  1             | 3              | -0.058         | 0.337          | -0.012         | 0.213          |  0.194         | $2,485,203     |  1             |  0             | \n",
       "| Chez Reavie    |  93            | 72.24          | 2018           | 286.5          | 68.67          | 29.12          | 62.27          | 70.432         | 1,020          | NA             | 3              |  0.192         | 0.674          |  0.183         | 0.437          | -0.137         | $2,700,018     | NA             | NA             | \n",
       "| Ryan Moore     |  78            | 71.94          | 2018           | 289.2          | 68.80          | 29.17          | 64.16          | 70.015         | 795            | NA             | 5              | -0.271         | 0.941          |  0.406         | 0.532          |  0.273         | $1,986,608     | NA             | NA             | \n",
       "| Brian Stuard   | 103            | 71.44          | 2018           | 278.9          | 67.12          | 29.11          | 59.23          | 71.038         | 421            | NA             | 3              |  0.164         | 0.062          | -0.227         | 0.099          |  0.026         | $1,089,763     | NA             | NA             | \n",
       "| Brian Gay      | 103            | 71.37          | 2018           | 282.9          | 64.52          | 28.25          | 63.26          | 70.280         | 880            | NA             | 6              |  0.442         | 0.565          | -0.166         | 0.036          |  0.253         | $2,152,501     | NA             | NA             | \n",
       "\n",
       "\n"
      ],
      "text/plain": [
       "  Player.Name    Rounds Fairway.Percentage Year Avg.Distance gir  \n",
       "1 Henrik Stenson  60    75.19              2018 291.5        73.51\n",
       "2 Ryan Armour    109    73.58              2018 283.5        68.22\n",
       "3 Chez Reavie     93    72.24              2018 286.5        68.67\n",
       "4 Ryan Moore      78    71.94              2018 289.2        68.80\n",
       "5 Brian Stuard   103    71.44              2018 278.9        67.12\n",
       "6 Brian Gay      103    71.37              2018 282.9        64.52\n",
       "  Average.Putts Average.Scrambling Average.Score Points Wins Top.10\n",
       "1 29.93         60.67              69.617        868    NA   5     \n",
       "2 29.31         60.13              70.758        1,006   1   3     \n",
       "3 29.12         62.27              70.432        1,020  NA   3     \n",
       "4 29.17         64.16              70.015        795    NA   5     \n",
       "5 29.11         59.23              71.038        421    NA   3     \n",
       "6 28.25         63.26              70.280        880    NA   6     \n",
       "  Average.SG.Putts Average.SG.Total SG.OTT SG.APR SG.ARG Money       WinsSQRT\n",
       "1 -0.207           1.153             0.427 0.960  -0.027 $2,680,487  NA      \n",
       "2 -0.058           0.337            -0.012 0.213   0.194 $2,485,203   1      \n",
       "3  0.192           0.674             0.183 0.437  -0.137 $2,700,018  NA      \n",
       "4 -0.271           0.941             0.406 0.532   0.273 $1,986,608  NA      \n",
       "5  0.164           0.062            -0.227 0.099   0.026 $1,089,763  NA      \n",
       "6  0.442           0.565            -0.166 0.036   0.253 $2,152,501  NA      \n",
       "  WinsLOG\n",
       "1 NA     \n",
       "2  0     \n",
       "3 NA     \n",
       "4 NA     \n",
       "5 NA     \n",
       "6 NA     "
      ]
     },
     "metadata": {},
     "output_type": "display_data"
    }
   ],
   "source": [
    "head(golf)"
   ]
  },
  {
   "cell_type": "markdown",
   "metadata": {},
   "source": [
    "*Cool beans, it's there. Now check to see if the graph looks any better.*"
   ]
  },
  {
   "cell_type": "code",
   "execution_count": 30,
   "metadata": {},
   "outputs": [
    {
     "data": {
      "image/png": "[encoded data removed]",
      "text/plain": [
       "Plot with title \"\""
      ]
     },
     "metadata": {},
     "output_type": "display_data"
    }
   ],
   "source": [
    "plotNormalHistogram(golf$WinsLOG)"
   ]
  },
  {
   "cell_type": "markdown",
   "metadata": {},
   "source": [
    "*And it really doesn't.  So in this case, if there haven't been improvements, you might as well stick with the original.*"
   ]
  },
  {
   "cell_type": "markdown",
   "metadata": {},
   "source": [
    "*Let's try another one! Take a peek at Top.10*"
   ]
  },
  {
   "cell_type": "code",
   "execution_count": 31,
   "metadata": {},
   "outputs": [
    {
     "data": {
      "image/png": "[encoded data removed]",
      "text/plain": [
       "Plot with title \"\""
      ]
     },
     "metadata": {},
     "output_type": "display_data"
    }
   ],
   "source": [
    "plotNormalHistogram(golf$Top.10)"
   ]
  },
  {
   "cell_type": "markdown",
   "metadata": {},
   "source": [
    "*That looks positively skewed as well. Let's go through the process of taking the square root and then the log.* "
   ]
  },
  {
   "cell_type": "code",
   "execution_count": 32,
   "metadata": {},
   "outputs": [],
   "source": [
    "golf$Top.10SQRT <- sqrt(golf$Top.10)"
   ]
  },
  {
   "cell_type": "code",
   "execution_count": 33,
   "metadata": {},
   "outputs": [
    {
     "data": {
      "text/html": [
       "<table>\n",
       "<thead><tr><th scope=col>Player.Name</th><th scope=col>Rounds</th><th scope=col>Fairway.Percentage</th><th scope=col>Year</th><th scope=col>Avg.Distance</th><th scope=col>gir</th><th scope=col>Average.Putts</th><th scope=col>Average.Scrambling</th><th scope=col>Average.Score</th><th scope=col>Points</th><th scope=col>...</th><th scope=col>Top.10</th><th scope=col>Average.SG.Putts</th><th scope=col>Average.SG.Total</th><th scope=col>SG.OTT</th><th scope=col>SG.APR</th><th scope=col>SG.ARG</th><th scope=col>Money</th><th scope=col>WinsSQRT</th><th scope=col>WinsLOG</th><th scope=col>Top.10SQRT</th></tr></thead>\n",
       "<tbody>\n",
       "\t<tr><td>Henrik Stenson</td><td> 60           </td><td>75.19         </td><td>2018          </td><td>291.5         </td><td>73.51         </td><td>29.93         </td><td>60.67         </td><td>69.617        </td><td>868           </td><td>...           </td><td>5             </td><td>-0.207        </td><td>1.153         </td><td> 0.427        </td><td>0.960         </td><td>-0.027        </td><td>$2,680,487    </td><td>NA            </td><td>NA            </td><td>2.236068      </td></tr>\n",
       "\t<tr><td>Ryan Armour   </td><td>109           </td><td>73.58         </td><td>2018          </td><td>283.5         </td><td>68.22         </td><td>29.31         </td><td>60.13         </td><td>70.758        </td><td>1,006         </td><td>...           </td><td>3             </td><td>-0.058        </td><td>0.337         </td><td>-0.012        </td><td>0.213         </td><td> 0.194        </td><td>$2,485,203    </td><td> 1            </td><td> 0            </td><td>1.732051      </td></tr>\n",
       "\t<tr><td>Chez Reavie   </td><td> 93           </td><td>72.24         </td><td>2018          </td><td>286.5         </td><td>68.67         </td><td>29.12         </td><td>62.27         </td><td>70.432        </td><td>1,020         </td><td>...           </td><td>3             </td><td> 0.192        </td><td>0.674         </td><td> 0.183        </td><td>0.437         </td><td>-0.137        </td><td>$2,700,018    </td><td>NA            </td><td>NA            </td><td>1.732051      </td></tr>\n",
       "\t<tr><td>Ryan Moore    </td><td> 78           </td><td>71.94         </td><td>2018          </td><td>289.2         </td><td>68.80         </td><td>29.17         </td><td>64.16         </td><td>70.015        </td><td>795           </td><td>...           </td><td>5             </td><td>-0.271        </td><td>0.941         </td><td> 0.406        </td><td>0.532         </td><td> 0.273        </td><td>$1,986,608    </td><td>NA            </td><td>NA            </td><td>2.236068      </td></tr>\n",
       "\t<tr><td>Brian Stuard  </td><td>103           </td><td>71.44         </td><td>2018          </td><td>278.9         </td><td>67.12         </td><td>29.11         </td><td>59.23         </td><td>71.038        </td><td>421           </td><td>...           </td><td>3             </td><td> 0.164        </td><td>0.062         </td><td>-0.227        </td><td>0.099         </td><td> 0.026        </td><td>$1,089,763    </td><td>NA            </td><td>NA            </td><td>1.732051      </td></tr>\n",
       "\t<tr><td>Brian Gay     </td><td>103           </td><td>71.37         </td><td>2018          </td><td>282.9         </td><td>64.52         </td><td>28.25         </td><td>63.26         </td><td>70.280        </td><td>880           </td><td>...           </td><td>6             </td><td> 0.442        </td><td>0.565         </td><td>-0.166        </td><td>0.036         </td><td> 0.253        </td><td>$2,152,501    </td><td>NA            </td><td>NA            </td><td>2.449490      </td></tr>\n",
       "</tbody>\n",
       "</table>\n"
      ],
      "text/latex": [
       "\\begin{tabular}{r|lllllllllllllllllllll}\n",
       " Player.Name & Rounds & Fairway.Percentage & Year & Avg.Distance & gir & Average.Putts & Average.Scrambling & Average.Score & Points & ... & Top.10 & Average.SG.Putts & Average.SG.Total & SG.OTT & SG.APR & SG.ARG & Money & WinsSQRT & WinsLOG & Top.10SQRT\\\\\n",
       "\\hline\n",
       "\t Henrik Stenson &  60            & 75.19          & 2018           & 291.5          & 73.51          & 29.93          & 60.67          & 69.617         & 868            & ...            & 5              & -0.207         & 1.153          &  0.427         & 0.960          & -0.027         & \\$2,680,487   & NA             & NA             & 2.236068      \\\\\n",
       "\t Ryan Armour    & 109            & 73.58          & 2018           & 283.5          & 68.22          & 29.31          & 60.13          & 70.758         & 1,006          & ...            & 3              & -0.058         & 0.337          & -0.012         & 0.213          &  0.194         & \\$2,485,203   &  1             &  0             & 1.732051      \\\\\n",
       "\t Chez Reavie    &  93            & 72.24          & 2018           & 286.5          & 68.67          & 29.12          & 62.27          & 70.432         & 1,020          & ...            & 3              &  0.192         & 0.674          &  0.183         & 0.437          & -0.137         & \\$2,700,018   & NA             & NA             & 1.732051      \\\\\n",
       "\t Ryan Moore     &  78            & 71.94          & 2018           & 289.2          & 68.80          & 29.17          & 64.16          & 70.015         & 795            & ...            & 5              & -0.271         & 0.941          &  0.406         & 0.532          &  0.273         & \\$1,986,608   & NA             & NA             & 2.236068      \\\\\n",
       "\t Brian Stuard   & 103            & 71.44          & 2018           & 278.9          & 67.12          & 29.11          & 59.23          & 71.038         & 421            & ...            & 3              &  0.164         & 0.062          & -0.227         & 0.099          &  0.026         & \\$1,089,763   & NA             & NA             & 1.732051      \\\\\n",
       "\t Brian Gay      & 103            & 71.37          & 2018           & 282.9          & 64.52          & 28.25          & 63.26          & 70.280         & 880            & ...            & 6              &  0.442         & 0.565          & -0.166         & 0.036          &  0.253         & \\$2,152,501   & NA             & NA             & 2.449490      \\\\\n",
       "\\end{tabular}\n"
      ],
      "text/markdown": [
       "\n",
       "Player.Name | Rounds | Fairway.Percentage | Year | Avg.Distance | gir | Average.Putts | Average.Scrambling | Average.Score | Points | ... | Top.10 | Average.SG.Putts | Average.SG.Total | SG.OTT | SG.APR | SG.ARG | Money | WinsSQRT | WinsLOG | Top.10SQRT | \n",
       "|---|---|---|---|---|---|\n",
       "| Henrik Stenson |  60            | 75.19          | 2018           | 291.5          | 73.51          | 29.93          | 60.67          | 69.617         | 868            | ...            | 5              | -0.207         | 1.153          |  0.427         | 0.960          | -0.027         | $2,680,487     | NA             | NA             | 2.236068       | \n",
       "| Ryan Armour    | 109            | 73.58          | 2018           | 283.5          | 68.22          | 29.31          | 60.13          | 70.758         | 1,006          | ...            | 3              | -0.058         | 0.337          | -0.012         | 0.213          |  0.194         | $2,485,203     |  1             |  0             | 1.732051       | \n",
       "| Chez Reavie    |  93            | 72.24          | 2018           | 286.5          | 68.67          | 29.12          | 62.27          | 70.432         | 1,020          | ...            | 3              |  0.192         | 0.674          |  0.183         | 0.437          | -0.137         | $2,700,018     | NA             | NA             | 1.732051       | \n",
       "| Ryan Moore     |  78            | 71.94          | 2018           | 289.2          | 68.80          | 29.17          | 64.16          | 70.015         | 795            | ...            | 5              | -0.271         | 0.941          |  0.406         | 0.532          |  0.273         | $1,986,608     | NA             | NA             | 2.236068       | \n",
       "| Brian Stuard   | 103            | 71.44          | 2018           | 278.9          | 67.12          | 29.11          | 59.23          | 71.038         | 421            | ...            | 3              |  0.164         | 0.062          | -0.227         | 0.099          |  0.026         | $1,089,763     | NA             | NA             | 1.732051       | \n",
       "| Brian Gay      | 103            | 71.37          | 2018           | 282.9          | 64.52          | 28.25          | 63.26          | 70.280         | 880            | ...            | 6              |  0.442         | 0.565          | -0.166         | 0.036          |  0.253         | $2,152,501     | NA             | NA             | 2.449490       | \n",
       "\n",
       "\n"
      ],
      "text/plain": [
       "  Player.Name    Rounds Fairway.Percentage Year Avg.Distance gir  \n",
       "1 Henrik Stenson  60    75.19              2018 291.5        73.51\n",
       "2 Ryan Armour    109    73.58              2018 283.5        68.22\n",
       "3 Chez Reavie     93    72.24              2018 286.5        68.67\n",
       "4 Ryan Moore      78    71.94              2018 289.2        68.80\n",
       "5 Brian Stuard   103    71.44              2018 278.9        67.12\n",
       "6 Brian Gay      103    71.37              2018 282.9        64.52\n",
       "  Average.Putts Average.Scrambling Average.Score Points ... Top.10\n",
       "1 29.93         60.67              69.617        868    ... 5     \n",
       "2 29.31         60.13              70.758        1,006  ... 3     \n",
       "3 29.12         62.27              70.432        1,020  ... 3     \n",
       "4 29.17         64.16              70.015        795    ... 5     \n",
       "5 29.11         59.23              71.038        421    ... 3     \n",
       "6 28.25         63.26              70.280        880    ... 6     \n",
       "  Average.SG.Putts Average.SG.Total SG.OTT SG.APR SG.ARG Money       WinsSQRT\n",
       "1 -0.207           1.153             0.427 0.960  -0.027 $2,680,487  NA      \n",
       "2 -0.058           0.337            -0.012 0.213   0.194 $2,485,203   1      \n",
       "3  0.192           0.674             0.183 0.437  -0.137 $2,700,018  NA      \n",
       "4 -0.271           0.941             0.406 0.532   0.273 $1,986,608  NA      \n",
       "5  0.164           0.062            -0.227 0.099   0.026 $1,089,763  NA      \n",
       "6  0.442           0.565            -0.166 0.036   0.253 $2,152,501  NA      \n",
       "  WinsLOG Top.10SQRT\n",
       "1 NA      2.236068  \n",
       "2  0      1.732051  \n",
       "3 NA      1.732051  \n",
       "4 NA      2.236068  \n",
       "5 NA      1.732051  \n",
       "6 NA      2.449490  "
      ]
     },
     "metadata": {},
     "output_type": "display_data"
    }
   ],
   "source": [
    "head(golf)"
   ]
  },
  {
   "cell_type": "code",
   "execution_count": 34,
   "metadata": {},
   "outputs": [
    {
     "data": {
      "image/png": "[encoded data removed]",
      "text/plain": [
       "Plot with title \"\""
      ]
     },
     "metadata": {},
     "output_type": "display_data"
    }
   ],
   "source": [
    "plotNormalHistogram(golf$Top.10SQRT)"
   ]
  },
  {
   "cell_type": "markdown",
   "metadata": {},
   "source": [
    "*Alright! That is definitely looking much better. How about trying the log to see if it improves even more?*"
   ]
  },
  {
   "cell_type": "code",
   "execution_count": 36,
   "metadata": {},
   "outputs": [],
   "source": [
    "golf$Top.10LOG <- log(golf$Top.10)"
   ]
  },
  {
   "cell_type": "code",
   "execution_count": 42,
   "metadata": {},
   "outputs": [
    {
     "data": {
      "image/png": "[encoded data removed]",
      "text/plain": [
       "Plot with title \"\""
      ]
     },
     "metadata": {},
     "output_type": "display_data"
    }
   ],
   "source": [
    "plotNormalHistogram(golf$Top.10LOG)"
   ]
  },
  {
   "cell_type": "markdown",
   "metadata": {},
   "source": [
    "*Uh oh, you get an error that your data must be a finite number, and that some are returning negative infinity! That can happen sometimes when you take log - some numbers may get so small that R just gives up. The solution to this is to remove missing values with the function NaRV.omit() from the IDPmisc package. Infinity and negative infinity values get removed as well with this slick operation.*"
   ]
  },
  {
   "cell_type": "code",
   "execution_count": 39,
   "metadata": {},
   "outputs": [],
   "source": [
    "golf2 <- NaRV.omit(golf)"
   ]
  },
  {
   "cell_type": "markdown",
   "metadata": {},
   "source": [
    "*Now try to plot again, but using golf2 this time.*"
   ]
  },
  {
   "cell_type": "code",
   "execution_count": 41,
   "metadata": {},
   "outputs": [
    {
     "data": {
      "image/png": "[encoded data removed]",
      "text/plain": [
       "Plot with title \"\""
      ]
     },
     "metadata": {},
     "output_type": "display_data"
    }
   ],
   "source": [
    "plotNormalHistogram(golf2$Top.10LOG)"
   ]
  },
  {
   "cell_type": "markdown",
   "metadata": {},
   "source": [
    "*And now that looks approximately normal! Way to go!*"
   ]
  },
  {
   "cell_type": "markdown",
   "metadata": {},
   "source": [
    "*How about another one? Try Average.SG.Total*"
   ]
  },
  {
   "cell_type": "code",
   "execution_count": 43,
   "metadata": {},
   "outputs": [
    {
     "data": {
      "image/png": "[encoded data removed]",
      "text/plain": [
       "Plot with title \"\""
      ]
     },
     "metadata": {},
     "output_type": "display_data"
    }
   ],
   "source": [
    "plotNormalHistogram(golf2$Average.SG.Total)"
   ]
  },
  {
   "cell_type": "markdown",
   "metadata": {},
   "source": [
    "*Ok, it's a little negatively skewed, but not too bad.  Let's try transforming by squaring it, since it is negatively skewed.*"
   ]
  },
  {
   "cell_type": "code",
   "execution_count": 45,
   "metadata": {},
   "outputs": [],
   "source": [
    "golf2$Average.SG.TotalSQ <- golf2$Average.SG.Total * golf2$Average.SG.Total"
   ]
  },
  {
   "cell_type": "code",
   "execution_count": 46,
   "metadata": {},
   "outputs": [
    {
     "data": {
      "text/html": [
       "<table>\n",
       "<thead><tr><th></th><th scope=col>Player.Name</th><th scope=col>Rounds</th><th scope=col>Fairway.Percentage</th><th scope=col>Year</th><th scope=col>Avg.Distance</th><th scope=col>gir</th><th scope=col>Average.Putts</th><th scope=col>Average.Scrambling</th><th scope=col>Average.Score</th><th scope=col>Points</th><th scope=col>...</th><th scope=col>Average.SG.Total</th><th scope=col>SG.OTT</th><th scope=col>SG.APR</th><th scope=col>SG.ARG</th><th scope=col>Money</th><th scope=col>WinsSQRT</th><th scope=col>WinsLOG</th><th scope=col>Top.10SQRT</th><th scope=col>Top.10LOG</th><th scope=col>Average.SG.TotalSQ</th></tr></thead>\n",
       "<tbody>\n",
       "\t<tr><th scope=row>2</th><td>Ryan Armour    </td><td>109            </td><td>73.58          </td><td>2018           </td><td>283.5          </td><td>68.22          </td><td>29.31          </td><td>60.13          </td><td>70.758         </td><td>1,006          </td><td>...            </td><td> 0.337         </td><td>-0.012         </td><td> 0.213         </td><td> 0.194         </td><td>$2,485,203     </td><td>1.000000       </td><td>0.0000000      </td><td>1.732051       </td><td>1.098612       </td><td>0.113569       </td></tr>\n",
       "\t<tr><th scope=row>17</th><td>Billy Horschel </td><td> 86            </td><td>67.80          </td><td>2018           </td><td>295.4          </td><td>71.75          </td><td>29.46          </td><td>58.03          </td><td>70.154         </td><td>960            </td><td>...            </td><td> 1.112         </td><td> 0.538         </td><td> 0.352         </td><td>-0.169         </td><td>$4,315,200     </td><td>1.000000       </td><td>0.0000000      </td><td>1.732051       </td><td>1.098612       </td><td>1.236544       </td></tr>\n",
       "\t<tr><th scope=row>23</th><td>Ted Potter, Jr.</td><td> 87            </td><td>66.83          </td><td>2018           </td><td>286.0          </td><td>63.03          </td><td>28.45          </td><td>57.51          </td><td>71.024         </td><td>744            </td><td>...            </td><td>-0.094         </td><td>-0.074         </td><td>-0.200         </td><td> 0.105         </td><td>$1,976,198     </td><td>1.000000       </td><td>0.0000000      </td><td>1.000000       </td><td>0.000000       </td><td>0.008836       </td></tr>\n",
       "\t<tr><th scope=row>24</th><td>Austin Cook    </td><td>107            </td><td>66.76          </td><td>2018           </td><td>292.3          </td><td>66.51          </td><td>28.72          </td><td>62.02          </td><td>70.469         </td><td>1,060          </td><td>...            </td><td> 0.569         </td><td> 0.120         </td><td>-0.045         </td><td> 0.179         </td><td>$2,448,920     </td><td>1.000000       </td><td>0.0000000      </td><td>1.732051       </td><td>1.098612       </td><td>0.323761       </td></tr>\n",
       "\t<tr><th scope=row>28</th><td>Ian Poulter    </td><td> 73            </td><td>66.41          </td><td>2018           </td><td>293.6          </td><td>67.01          </td><td>28.97          </td><td>57.11          </td><td>70.593         </td><td>1,030          </td><td>...            </td><td> 0.850         </td><td> 0.141         </td><td> 0.435         </td><td> 0.051         </td><td>$2,714,450     </td><td>1.000000       </td><td>0.0000000      </td><td>2.000000       </td><td>1.386294       </td><td>0.722500       </td></tr>\n",
       "\t<tr><th scope=row>33</th><td>Justin Rose    </td><td> 70            </td><td>66.02          </td><td>2018           </td><td>303.5          </td><td>69.95          </td><td>28.67          </td><td>63.03          </td><td>68.993         </td><td>1,991          </td><td>...            </td><td> 1.952         </td><td> 0.551         </td><td> 0.526         </td><td> 0.450         </td><td>$8,130,678     </td><td>1.414214       </td><td>0.6931472      </td><td>2.828427       </td><td>2.079442       </td><td>3.810304       </td></tr>\n",
       "</tbody>\n",
       "</table>\n"
      ],
      "text/latex": [
       "\\begin{tabular}{r|lllllllllllllllllllllll}\n",
       "  & Player.Name & Rounds & Fairway.Percentage & Year & Avg.Distance & gir & Average.Putts & Average.Scrambling & Average.Score & Points & ... & Average.SG.Total & SG.OTT & SG.APR & SG.ARG & Money & WinsSQRT & WinsLOG & Top.10SQRT & Top.10LOG & Average.SG.TotalSQ\\\\\n",
       "\\hline\n",
       "\t2 & Ryan Armour     & 109             & 73.58           & 2018            & 283.5           & 68.22           & 29.31           & 60.13           & 70.758          & 1,006           & ...             &  0.337          & -0.012          &  0.213          &  0.194          & \\$2,485,203    & 1.000000        & 0.0000000       & 1.732051        & 1.098612        & 0.113569       \\\\\n",
       "\t17 & Billy Horschel  &  86             & 67.80           & 2018            & 295.4           & 71.75           & 29.46           & 58.03           & 70.154          & 960             & ...             &  1.112          &  0.538          &  0.352          & -0.169          & \\$4,315,200    & 1.000000        & 0.0000000       & 1.732051        & 1.098612        & 1.236544       \\\\\n",
       "\t23 & Ted Potter, Jr. &  87             & 66.83           & 2018            & 286.0           & 63.03           & 28.45           & 57.51           & 71.024          & 744             & ...             & -0.094          & -0.074          & -0.200          &  0.105          & \\$1,976,198    & 1.000000        & 0.0000000       & 1.000000        & 0.000000        & 0.008836       \\\\\n",
       "\t24 & Austin Cook     & 107             & 66.76           & 2018            & 292.3           & 66.51           & 28.72           & 62.02           & 70.469          & 1,060           & ...             &  0.569          &  0.120          & -0.045          &  0.179          & \\$2,448,920    & 1.000000        & 0.0000000       & 1.732051        & 1.098612        & 0.323761       \\\\\n",
       "\t28 & Ian Poulter     &  73             & 66.41           & 2018            & 293.6           & 67.01           & 28.97           & 57.11           & 70.593          & 1,030           & ...             &  0.850          &  0.141          &  0.435          &  0.051          & \\$2,714,450    & 1.000000        & 0.0000000       & 2.000000        & 1.386294        & 0.722500       \\\\\n",
       "\t33 & Justin Rose     &  70             & 66.02           & 2018            & 303.5           & 69.95           & 28.67           & 63.03           & 68.993          & 1,991           & ...             &  1.952          &  0.551          &  0.526          &  0.450          & \\$8,130,678    & 1.414214        & 0.6931472       & 2.828427        & 2.079442        & 3.810304       \\\\\n",
       "\\end{tabular}\n"
      ],
      "text/markdown": [
       "\n",
       "| <!--/--> | Player.Name | Rounds | Fairway.Percentage | Year | Avg.Distance | gir | Average.Putts | Average.Scrambling | Average.Score | Points | ... | Average.SG.Total | SG.OTT | SG.APR | SG.ARG | Money | WinsSQRT | WinsLOG | Top.10SQRT | Top.10LOG | Average.SG.TotalSQ | \n",
       "|---|---|---|---|---|---|\n",
       "| 2 | Ryan Armour     | 109             | 73.58           | 2018            | 283.5           | 68.22           | 29.31           | 60.13           | 70.758          | 1,006           | ...             |  0.337          | -0.012          |  0.213          |  0.194          | $2,485,203      | 1.000000        | 0.0000000       | 1.732051        | 1.098612        | 0.113569        | \n",
       "| 17 | Billy Horschel  |  86             | 67.80           | 2018            | 295.4           | 71.75           | 29.46           | 58.03           | 70.154          | 960             | ...             |  1.112          |  0.538          |  0.352          | -0.169          | $4,315,200      | 1.000000        | 0.0000000       | 1.732051        | 1.098612        | 1.236544        | \n",
       "| 23 | Ted Potter, Jr. |  87             | 66.83           | 2018            | 286.0           | 63.03           | 28.45           | 57.51           | 71.024          | 744             | ...             | -0.094          | -0.074          | -0.200          |  0.105          | $1,976,198      | 1.000000        | 0.0000000       | 1.000000        | 0.000000        | 0.008836        | \n",
       "| 24 | Austin Cook     | 107             | 66.76           | 2018            | 292.3           | 66.51           | 28.72           | 62.02           | 70.469          | 1,060           | ...             |  0.569          |  0.120          | -0.045          |  0.179          | $2,448,920      | 1.000000        | 0.0000000       | 1.732051        | 1.098612        | 0.323761        | \n",
       "| 28 | Ian Poulter     |  73             | 66.41           | 2018            | 293.6           | 67.01           | 28.97           | 57.11           | 70.593          | 1,030           | ...             |  0.850          |  0.141          |  0.435          |  0.051          | $2,714,450      | 1.000000        | 0.0000000       | 2.000000        | 1.386294        | 0.722500        | \n",
       "| 33 | Justin Rose     |  70             | 66.02           | 2018            | 303.5           | 69.95           | 28.67           | 63.03           | 68.993          | 1,991           | ...             |  1.952          |  0.551          |  0.526          |  0.450          | $8,130,678      | 1.414214        | 0.6931472       | 2.828427        | 2.079442        | 3.810304        | \n",
       "\n",
       "\n"
      ],
      "text/plain": [
       "   Player.Name     Rounds Fairway.Percentage Year Avg.Distance gir  \n",
       "2  Ryan Armour     109    73.58              2018 283.5        68.22\n",
       "17 Billy Horschel   86    67.80              2018 295.4        71.75\n",
       "23 Ted Potter, Jr.  87    66.83              2018 286.0        63.03\n",
       "24 Austin Cook     107    66.76              2018 292.3        66.51\n",
       "28 Ian Poulter      73    66.41              2018 293.6        67.01\n",
       "33 Justin Rose      70    66.02              2018 303.5        69.95\n",
       "   Average.Putts Average.Scrambling Average.Score Points ... Average.SG.Total\n",
       "2  29.31         60.13              70.758        1,006  ...  0.337          \n",
       "17 29.46         58.03              70.154        960    ...  1.112          \n",
       "23 28.45         57.51              71.024        744    ... -0.094          \n",
       "24 28.72         62.02              70.469        1,060  ...  0.569          \n",
       "28 28.97         57.11              70.593        1,030  ...  0.850          \n",
       "33 28.67         63.03              68.993        1,991  ...  1.952          \n",
       "   SG.OTT SG.APR SG.ARG Money       WinsSQRT WinsLOG   Top.10SQRT Top.10LOG\n",
       "2  -0.012  0.213  0.194 $2,485,203  1.000000 0.0000000 1.732051   1.098612 \n",
       "17  0.538  0.352 -0.169 $4,315,200  1.000000 0.0000000 1.732051   1.098612 \n",
       "23 -0.074 -0.200  0.105 $1,976,198  1.000000 0.0000000 1.000000   0.000000 \n",
       "24  0.120 -0.045  0.179 $2,448,920  1.000000 0.0000000 1.732051   1.098612 \n",
       "28  0.141  0.435  0.051 $2,714,450  1.000000 0.0000000 2.000000   1.386294 \n",
       "33  0.551  0.526  0.450 $8,130,678  1.414214 0.6931472 2.828427   2.079442 \n",
       "   Average.SG.TotalSQ\n",
       "2  0.113569          \n",
       "17 1.236544          \n",
       "23 0.008836          \n",
       "24 0.323761          \n",
       "28 0.722500          \n",
       "33 3.810304          "
      ]
     },
     "metadata": {},
     "output_type": "display_data"
    }
   ],
   "source": [
    "head(golf2)"
   ]
  },
  {
   "cell_type": "code",
   "execution_count": 47,
   "metadata": {},
   "outputs": [
    {
     "data": {
      "image/png": "[encoded data removed]",
      "text/plain": [
       "Plot with title \"\""
      ]
     },
     "metadata": {},
     "output_type": "display_data"
    }
   ],
   "source": [
    "plotNormalHistogram(golf2$Average.SG.TotalSQ)"
   ]
  },
  {
   "cell_type": "markdown",
   "metadata": {},
   "source": [
    "*Okay, that went WAAAY too far over. Go ahead and stick with the original. How about checking out SG.ARG?*"
   ]
  },
  {
   "cell_type": "code",
   "execution_count": 48,
   "metadata": {},
   "outputs": [
    {
     "data": {
      "image/png": "[encoded data removed]",
      "text/plain": [
       "Plot with title \"\""
      ]
     },
     "metadata": {},
     "output_type": "display_data"
    }
   ],
   "source": [
    "plotNormalHistogram(golf2$SG.ARG)"
   ]
  },
  {
   "cell_type": "code",
   "execution_count": 50,
   "metadata": {},
   "outputs": [],
   "source": [
    "golf2$SG.ARGsq <- golf2$SG.ARG * golf2$SG.ARG"
   ]
  },
  {
   "cell_type": "code",
   "execution_count": 51,
   "metadata": {},
   "outputs": [
    {
     "data": {
      "text/html": [
       "<table>\n",
       "<thead><tr><th></th><th scope=col>Player.Name</th><th scope=col>Rounds</th><th scope=col>Fairway.Percentage</th><th scope=col>Year</th><th scope=col>Avg.Distance</th><th scope=col>gir</th><th scope=col>Average.Putts</th><th scope=col>Average.Scrambling</th><th scope=col>Average.Score</th><th scope=col>Points</th><th scope=col>...</th><th scope=col>SG.OTT</th><th scope=col>SG.APR</th><th scope=col>SG.ARG</th><th scope=col>Money</th><th scope=col>WinsSQRT</th><th scope=col>WinsLOG</th><th scope=col>Top.10SQRT</th><th scope=col>Top.10LOG</th><th scope=col>Average.SG.TotalSQ</th><th scope=col>SG.ARGsq</th></tr></thead>\n",
       "<tbody>\n",
       "\t<tr><th scope=row>2</th><td>Ryan Armour    </td><td>109            </td><td>73.58          </td><td>2018           </td><td>283.5          </td><td>68.22          </td><td>29.31          </td><td>60.13          </td><td>70.758         </td><td>1,006          </td><td>...            </td><td>-0.012         </td><td> 0.213         </td><td> 0.194         </td><td>$2,485,203     </td><td>1.000000       </td><td>0.0000000      </td><td>1.732051       </td><td>1.098612       </td><td>0.113569       </td><td>0.037636       </td></tr>\n",
       "\t<tr><th scope=row>17</th><td>Billy Horschel </td><td> 86            </td><td>67.80          </td><td>2018           </td><td>295.4          </td><td>71.75          </td><td>29.46          </td><td>58.03          </td><td>70.154         </td><td>960            </td><td>...            </td><td> 0.538         </td><td> 0.352         </td><td>-0.169         </td><td>$4,315,200     </td><td>1.000000       </td><td>0.0000000      </td><td>1.732051       </td><td>1.098612       </td><td>1.236544       </td><td>0.028561       </td></tr>\n",
       "\t<tr><th scope=row>23</th><td>Ted Potter, Jr.</td><td> 87            </td><td>66.83          </td><td>2018           </td><td>286.0          </td><td>63.03          </td><td>28.45          </td><td>57.51          </td><td>71.024         </td><td>744            </td><td>...            </td><td>-0.074         </td><td>-0.200         </td><td> 0.105         </td><td>$1,976,198     </td><td>1.000000       </td><td>0.0000000      </td><td>1.000000       </td><td>0.000000       </td><td>0.008836       </td><td>0.011025       </td></tr>\n",
       "\t<tr><th scope=row>24</th><td>Austin Cook    </td><td>107            </td><td>66.76          </td><td>2018           </td><td>292.3          </td><td>66.51          </td><td>28.72          </td><td>62.02          </td><td>70.469         </td><td>1,060          </td><td>...            </td><td> 0.120         </td><td>-0.045         </td><td> 0.179         </td><td>$2,448,920     </td><td>1.000000       </td><td>0.0000000      </td><td>1.732051       </td><td>1.098612       </td><td>0.323761       </td><td>0.032041       </td></tr>\n",
       "\t<tr><th scope=row>28</th><td>Ian Poulter    </td><td> 73            </td><td>66.41          </td><td>2018           </td><td>293.6          </td><td>67.01          </td><td>28.97          </td><td>57.11          </td><td>70.593         </td><td>1,030          </td><td>...            </td><td> 0.141         </td><td> 0.435         </td><td> 0.051         </td><td>$2,714,450     </td><td>1.000000       </td><td>0.0000000      </td><td>2.000000       </td><td>1.386294       </td><td>0.722500       </td><td>0.002601       </td></tr>\n",
       "\t<tr><th scope=row>33</th><td>Justin Rose    </td><td> 70            </td><td>66.02          </td><td>2018           </td><td>303.5          </td><td>69.95          </td><td>28.67          </td><td>63.03          </td><td>68.993         </td><td>1,991          </td><td>...            </td><td> 0.551         </td><td> 0.526         </td><td> 0.450         </td><td>$8,130,678     </td><td>1.414214       </td><td>0.6931472      </td><td>2.828427       </td><td>2.079442       </td><td>3.810304       </td><td>0.202500       </td></tr>\n",
       "</tbody>\n",
       "</table>\n"
      ],
      "text/latex": [
       "\\begin{tabular}{r|llllllllllllllllllllllll}\n",
       "  & Player.Name & Rounds & Fairway.Percentage & Year & Avg.Distance & gir & Average.Putts & Average.Scrambling & Average.Score & Points & ... & SG.OTT & SG.APR & SG.ARG & Money & WinsSQRT & WinsLOG & Top.10SQRT & Top.10LOG & Average.SG.TotalSQ & SG.ARGsq\\\\\n",
       "\\hline\n",
       "\t2 & Ryan Armour     & 109             & 73.58           & 2018            & 283.5           & 68.22           & 29.31           & 60.13           & 70.758          & 1,006           & ...             & -0.012          &  0.213          &  0.194          & \\$2,485,203    & 1.000000        & 0.0000000       & 1.732051        & 1.098612        & 0.113569        & 0.037636       \\\\\n",
       "\t17 & Billy Horschel  &  86             & 67.80           & 2018            & 295.4           & 71.75           & 29.46           & 58.03           & 70.154          & 960             & ...             &  0.538          &  0.352          & -0.169          & \\$4,315,200    & 1.000000        & 0.0000000       & 1.732051        & 1.098612        & 1.236544        & 0.028561       \\\\\n",
       "\t23 & Ted Potter, Jr. &  87             & 66.83           & 2018            & 286.0           & 63.03           & 28.45           & 57.51           & 71.024          & 744             & ...             & -0.074          & -0.200          &  0.105          & \\$1,976,198    & 1.000000        & 0.0000000       & 1.000000        & 0.000000        & 0.008836        & 0.011025       \\\\\n",
       "\t24 & Austin Cook     & 107             & 66.76           & 2018            & 292.3           & 66.51           & 28.72           & 62.02           & 70.469          & 1,060           & ...             &  0.120          & -0.045          &  0.179          & \\$2,448,920    & 1.000000        & 0.0000000       & 1.732051        & 1.098612        & 0.323761        & 0.032041       \\\\\n",
       "\t28 & Ian Poulter     &  73             & 66.41           & 2018            & 293.6           & 67.01           & 28.97           & 57.11           & 70.593          & 1,030           & ...             &  0.141          &  0.435          &  0.051          & \\$2,714,450    & 1.000000        & 0.0000000       & 2.000000        & 1.386294        & 0.722500        & 0.002601       \\\\\n",
       "\t33 & Justin Rose     &  70             & 66.02           & 2018            & 303.5           & 69.95           & 28.67           & 63.03           & 68.993          & 1,991           & ...             &  0.551          &  0.526          &  0.450          & \\$8,130,678    & 1.414214        & 0.6931472       & 2.828427        & 2.079442        & 3.810304        & 0.202500       \\\\\n",
       "\\end{tabular}\n"
      ],
      "text/markdown": [
       "\n",
       "| <!--/--> | Player.Name | Rounds | Fairway.Percentage | Year | Avg.Distance | gir | Average.Putts | Average.Scrambling | Average.Score | Points | ... | SG.OTT | SG.APR | SG.ARG | Money | WinsSQRT | WinsLOG | Top.10SQRT | Top.10LOG | Average.SG.TotalSQ | SG.ARGsq | \n",
       "|---|---|---|---|---|---|\n",
       "| 2 | Ryan Armour     | 109             | 73.58           | 2018            | 283.5           | 68.22           | 29.31           | 60.13           | 70.758          | 1,006           | ...             | -0.012          |  0.213          |  0.194          | $2,485,203      | 1.000000        | 0.0000000       | 1.732051        | 1.098612        | 0.113569        | 0.037636        | \n",
       "| 17 | Billy Horschel  |  86             | 67.80           | 2018            | 295.4           | 71.75           | 29.46           | 58.03           | 70.154          | 960             | ...             |  0.538          |  0.352          | -0.169          | $4,315,200      | 1.000000        | 0.0000000       | 1.732051        | 1.098612        | 1.236544        | 0.028561        | \n",
       "| 23 | Ted Potter, Jr. |  87             | 66.83           | 2018            | 286.0           | 63.03           | 28.45           | 57.51           | 71.024          | 744             | ...             | -0.074          | -0.200          |  0.105          | $1,976,198      | 1.000000        | 0.0000000       | 1.000000        | 0.000000        | 0.008836        | 0.011025        | \n",
       "| 24 | Austin Cook     | 107             | 66.76           | 2018            | 292.3           | 66.51           | 28.72           | 62.02           | 70.469          | 1,060           | ...             |  0.120          | -0.045          |  0.179          | $2,448,920      | 1.000000        | 0.0000000       | 1.732051        | 1.098612        | 0.323761        | 0.032041        | \n",
       "| 28 | Ian Poulter     |  73             | 66.41           | 2018            | 293.6           | 67.01           | 28.97           | 57.11           | 70.593          | 1,030           | ...             |  0.141          |  0.435          |  0.051          | $2,714,450      | 1.000000        | 0.0000000       | 2.000000        | 1.386294        | 0.722500        | 0.002601        | \n",
       "| 33 | Justin Rose     |  70             | 66.02           | 2018            | 303.5           | 69.95           | 28.67           | 63.03           | 68.993          | 1,991           | ...             |  0.551          |  0.526          |  0.450          | $8,130,678      | 1.414214        | 0.6931472       | 2.828427        | 2.079442        | 3.810304        | 0.202500        | \n",
       "\n",
       "\n"
      ],
      "text/plain": [
       "   Player.Name     Rounds Fairway.Percentage Year Avg.Distance gir  \n",
       "2  Ryan Armour     109    73.58              2018 283.5        68.22\n",
       "17 Billy Horschel   86    67.80              2018 295.4        71.75\n",
       "23 Ted Potter, Jr.  87    66.83              2018 286.0        63.03\n",
       "24 Austin Cook     107    66.76              2018 292.3        66.51\n",
       "28 Ian Poulter      73    66.41              2018 293.6        67.01\n",
       "33 Justin Rose      70    66.02              2018 303.5        69.95\n",
       "   Average.Putts Average.Scrambling Average.Score Points ... SG.OTT SG.APR\n",
       "2  29.31         60.13              70.758        1,006  ... -0.012  0.213\n",
       "17 29.46         58.03              70.154        960    ...  0.538  0.352\n",
       "23 28.45         57.51              71.024        744    ... -0.074 -0.200\n",
       "24 28.72         62.02              70.469        1,060  ...  0.120 -0.045\n",
       "28 28.97         57.11              70.593        1,030  ...  0.141  0.435\n",
       "33 28.67         63.03              68.993        1,991  ...  0.551  0.526\n",
       "   SG.ARG Money       WinsSQRT WinsLOG   Top.10SQRT Top.10LOG\n",
       "2   0.194 $2,485,203  1.000000 0.0000000 1.732051   1.098612 \n",
       "17 -0.169 $4,315,200  1.000000 0.0000000 1.732051   1.098612 \n",
       "23  0.105 $1,976,198  1.000000 0.0000000 1.000000   0.000000 \n",
       "24  0.179 $2,448,920  1.000000 0.0000000 1.732051   1.098612 \n",
       "28  0.051 $2,714,450  1.000000 0.0000000 2.000000   1.386294 \n",
       "33  0.450 $8,130,678  1.414214 0.6931472 2.828427   2.079442 \n",
       "   Average.SG.TotalSQ SG.ARGsq\n",
       "2  0.113569           0.037636\n",
       "17 1.236544           0.028561\n",
       "23 0.008836           0.011025\n",
       "24 0.323761           0.032041\n",
       "28 0.722500           0.002601\n",
       "33 3.810304           0.202500"
      ]
     },
     "metadata": {},
     "output_type": "display_data"
    }
   ],
   "source": [
    "head(golf2)"
   ]
  },
  {
   "cell_type": "code",
   "execution_count": 52,
   "metadata": {},
   "outputs": [
    {
     "data": {
      "image/png": "[encoded data removed]",
      "text/plain": [
       "Plot with title \"\""
      ]
     },
     "metadata": {},
     "output_type": "display_data"
    }
   ],
   "source": [
    "plotNormalHistogram(golf2$SG.ARGsq)"
   ]
  },
  {
   "cell_type": "markdown",
   "metadata": {},
   "source": [
    "*Ok, that went way too far over as well. So you'd definitely prefer to stick with the original data there as well.  But if you did end up wanting to cube some of your other data at some point, let me show you how.*"
   ]
  },
  {
   "cell_type": "code",
   "execution_count": 55,
   "metadata": {},
   "outputs": [],
   "source": [
    "golf2$SG.ARGcube <- golf2$SG.ARG ^ 3"
   ]
  },
  {
   "cell_type": "code",
   "execution_count": 56,
   "metadata": {},
   "outputs": [
    {
     "data": {
      "text/html": [
       "<table>\n",
       "<thead><tr><th></th><th scope=col>Player.Name</th><th scope=col>Rounds</th><th scope=col>Fairway.Percentage</th><th scope=col>Year</th><th scope=col>Avg.Distance</th><th scope=col>gir</th><th scope=col>Average.Putts</th><th scope=col>Average.Scrambling</th><th scope=col>Average.Score</th><th scope=col>Points</th><th scope=col>...</th><th scope=col>SG.APR</th><th scope=col>SG.ARG</th><th scope=col>Money</th><th scope=col>WinsSQRT</th><th scope=col>WinsLOG</th><th scope=col>Top.10SQRT</th><th scope=col>Top.10LOG</th><th scope=col>Average.SG.TotalSQ</th><th scope=col>SG.ARGsq</th><th scope=col>SG.ARGcube</th></tr></thead>\n",
       "<tbody>\n",
       "\t<tr><th scope=row>2</th><td>Ryan Armour    </td><td>109            </td><td>73.58          </td><td>2018           </td><td>283.5          </td><td>68.22          </td><td>29.31          </td><td>60.13          </td><td>70.758         </td><td>1,006          </td><td>...            </td><td> 0.213         </td><td> 0.194         </td><td>$2,485,203     </td><td>1.000000       </td><td>0.0000000      </td><td>1.732051       </td><td>1.098612       </td><td>0.113569       </td><td>0.037636       </td><td> 0.007301384   </td></tr>\n",
       "\t<tr><th scope=row>17</th><td>Billy Horschel </td><td> 86            </td><td>67.80          </td><td>2018           </td><td>295.4          </td><td>71.75          </td><td>29.46          </td><td>58.03          </td><td>70.154         </td><td>960            </td><td>...            </td><td> 0.352         </td><td>-0.169         </td><td>$4,315,200     </td><td>1.000000       </td><td>0.0000000      </td><td>1.732051       </td><td>1.098612       </td><td>1.236544       </td><td>0.028561       </td><td>-0.004826809   </td></tr>\n",
       "\t<tr><th scope=row>23</th><td>Ted Potter, Jr.</td><td> 87            </td><td>66.83          </td><td>2018           </td><td>286.0          </td><td>63.03          </td><td>28.45          </td><td>57.51          </td><td>71.024         </td><td>744            </td><td>...            </td><td>-0.200         </td><td> 0.105         </td><td>$1,976,198     </td><td>1.000000       </td><td>0.0000000      </td><td>1.000000       </td><td>0.000000       </td><td>0.008836       </td><td>0.011025       </td><td> 0.001157625   </td></tr>\n",
       "\t<tr><th scope=row>24</th><td>Austin Cook    </td><td>107            </td><td>66.76          </td><td>2018           </td><td>292.3          </td><td>66.51          </td><td>28.72          </td><td>62.02          </td><td>70.469         </td><td>1,060          </td><td>...            </td><td>-0.045         </td><td> 0.179         </td><td>$2,448,920     </td><td>1.000000       </td><td>0.0000000      </td><td>1.732051       </td><td>1.098612       </td><td>0.323761       </td><td>0.032041       </td><td> 0.005735339   </td></tr>\n",
       "\t<tr><th scope=row>28</th><td>Ian Poulter    </td><td> 73            </td><td>66.41          </td><td>2018           </td><td>293.6          </td><td>67.01          </td><td>28.97          </td><td>57.11          </td><td>70.593         </td><td>1,030          </td><td>...            </td><td> 0.435         </td><td> 0.051         </td><td>$2,714,450     </td><td>1.000000       </td><td>0.0000000      </td><td>2.000000       </td><td>1.386294       </td><td>0.722500       </td><td>0.002601       </td><td> 0.000132651   </td></tr>\n",
       "\t<tr><th scope=row>33</th><td>Justin Rose    </td><td> 70            </td><td>66.02          </td><td>2018           </td><td>303.5          </td><td>69.95          </td><td>28.67          </td><td>63.03          </td><td>68.993         </td><td>1,991          </td><td>...            </td><td> 0.526         </td><td> 0.450         </td><td>$8,130,678     </td><td>1.414214       </td><td>0.6931472      </td><td>2.828427       </td><td>2.079442       </td><td>3.810304       </td><td>0.202500       </td><td> 0.091125000   </td></tr>\n",
       "</tbody>\n",
       "</table>\n"
      ],
      "text/latex": [
       "\\begin{tabular}{r|lllllllllllllllllllllllll}\n",
       "  & Player.Name & Rounds & Fairway.Percentage & Year & Avg.Distance & gir & Average.Putts & Average.Scrambling & Average.Score & Points & ... & SG.APR & SG.ARG & Money & WinsSQRT & WinsLOG & Top.10SQRT & Top.10LOG & Average.SG.TotalSQ & SG.ARGsq & SG.ARGcube\\\\\n",
       "\\hline\n",
       "\t2 & Ryan Armour     & 109             & 73.58           & 2018            & 283.5           & 68.22           & 29.31           & 60.13           & 70.758          & 1,006           & ...             &  0.213          &  0.194          & \\$2,485,203    & 1.000000        & 0.0000000       & 1.732051        & 1.098612        & 0.113569        & 0.037636        &  0.007301384   \\\\\n",
       "\t17 & Billy Horschel  &  86             & 67.80           & 2018            & 295.4           & 71.75           & 29.46           & 58.03           & 70.154          & 960             & ...             &  0.352          & -0.169          & \\$4,315,200    & 1.000000        & 0.0000000       & 1.732051        & 1.098612        & 1.236544        & 0.028561        & -0.004826809   \\\\\n",
       "\t23 & Ted Potter, Jr. &  87             & 66.83           & 2018            & 286.0           & 63.03           & 28.45           & 57.51           & 71.024          & 744             & ...             & -0.200          &  0.105          & \\$1,976,198    & 1.000000        & 0.0000000       & 1.000000        & 0.000000        & 0.008836        & 0.011025        &  0.001157625   \\\\\n",
       "\t24 & Austin Cook     & 107             & 66.76           & 2018            & 292.3           & 66.51           & 28.72           & 62.02           & 70.469          & 1,060           & ...             & -0.045          &  0.179          & \\$2,448,920    & 1.000000        & 0.0000000       & 1.732051        & 1.098612        & 0.323761        & 0.032041        &  0.005735339   \\\\\n",
       "\t28 & Ian Poulter     &  73             & 66.41           & 2018            & 293.6           & 67.01           & 28.97           & 57.11           & 70.593          & 1,030           & ...             &  0.435          &  0.051          & \\$2,714,450    & 1.000000        & 0.0000000       & 2.000000        & 1.386294        & 0.722500        & 0.002601        &  0.000132651   \\\\\n",
       "\t33 & Justin Rose     &  70             & 66.02           & 2018            & 303.5           & 69.95           & 28.67           & 63.03           & 68.993          & 1,991           & ...             &  0.526          &  0.450          & \\$8,130,678    & 1.414214        & 0.6931472       & 2.828427        & 2.079442        & 3.810304        & 0.202500        &  0.091125000   \\\\\n",
       "\\end{tabular}\n"
      ],
      "text/markdown": [
       "\n",
       "| <!--/--> | Player.Name | Rounds | Fairway.Percentage | Year | Avg.Distance | gir | Average.Putts | Average.Scrambling | Average.Score | Points | ... | SG.APR | SG.ARG | Money | WinsSQRT | WinsLOG | Top.10SQRT | Top.10LOG | Average.SG.TotalSQ | SG.ARGsq | SG.ARGcube | \n",
       "|---|---|---|---|---|---|\n",
       "| 2 | Ryan Armour     | 109             | 73.58           | 2018            | 283.5           | 68.22           | 29.31           | 60.13           | 70.758          | 1,006           | ...             |  0.213          |  0.194          | $2,485,203      | 1.000000        | 0.0000000       | 1.732051        | 1.098612        | 0.113569        | 0.037636        |  0.007301384    | \n",
       "| 17 | Billy Horschel  |  86             | 67.80           | 2018            | 295.4           | 71.75           | 29.46           | 58.03           | 70.154          | 960             | ...             |  0.352          | -0.169          | $4,315,200      | 1.000000        | 0.0000000       | 1.732051        | 1.098612        | 1.236544        | 0.028561        | -0.004826809    | \n",
       "| 23 | Ted Potter, Jr. |  87             | 66.83           | 2018            | 286.0           | 63.03           | 28.45           | 57.51           | 71.024          | 744             | ...             | -0.200          |  0.105          | $1,976,198      | 1.000000        | 0.0000000       | 1.000000        | 0.000000        | 0.008836        | 0.011025        |  0.001157625    | \n",
       "| 24 | Austin Cook     | 107             | 66.76           | 2018            | 292.3           | 66.51           | 28.72           | 62.02           | 70.469          | 1,060           | ...             | -0.045          |  0.179          | $2,448,920      | 1.000000        | 0.0000000       | 1.732051        | 1.098612        | 0.323761        | 0.032041        |  0.005735339    | \n",
       "| 28 | Ian Poulter     |  73             | 66.41           | 2018            | 293.6           | 67.01           | 28.97           | 57.11           | 70.593          | 1,030           | ...             |  0.435          |  0.051          | $2,714,450      | 1.000000        | 0.0000000       | 2.000000        | 1.386294        | 0.722500        | 0.002601        |  0.000132651    | \n",
       "| 33 | Justin Rose     |  70             | 66.02           | 2018            | 303.5           | 69.95           | 28.67           | 63.03           | 68.993          | 1,991           | ...             |  0.526          |  0.450          | $8,130,678      | 1.414214        | 0.6931472       | 2.828427        | 2.079442        | 3.810304        | 0.202500        |  0.091125000    | \n",
       "\n",
       "\n"
      ],
      "text/plain": [
       "   Player.Name     Rounds Fairway.Percentage Year Avg.Distance gir  \n",
       "2  Ryan Armour     109    73.58              2018 283.5        68.22\n",
       "17 Billy Horschel   86    67.80              2018 295.4        71.75\n",
       "23 Ted Potter, Jr.  87    66.83              2018 286.0        63.03\n",
       "24 Austin Cook     107    66.76              2018 292.3        66.51\n",
       "28 Ian Poulter      73    66.41              2018 293.6        67.01\n",
       "33 Justin Rose      70    66.02              2018 303.5        69.95\n",
       "   Average.Putts Average.Scrambling Average.Score Points ... SG.APR SG.ARG\n",
       "2  29.31         60.13              70.758        1,006  ...  0.213  0.194\n",
       "17 29.46         58.03              70.154        960    ...  0.352 -0.169\n",
       "23 28.45         57.51              71.024        744    ... -0.200  0.105\n",
       "24 28.72         62.02              70.469        1,060  ... -0.045  0.179\n",
       "28 28.97         57.11              70.593        1,030  ...  0.435  0.051\n",
       "33 28.67         63.03              68.993        1,991  ...  0.526  0.450\n",
       "   Money       WinsSQRT WinsLOG   Top.10SQRT Top.10LOG Average.SG.TotalSQ\n",
       "2  $2,485,203  1.000000 0.0000000 1.732051   1.098612  0.113569          \n",
       "17 $4,315,200  1.000000 0.0000000 1.732051   1.098612  1.236544          \n",
       "23 $1,976,198  1.000000 0.0000000 1.000000   0.000000  0.008836          \n",
       "24 $2,448,920  1.000000 0.0000000 1.732051   1.098612  0.323761          \n",
       "28 $2,714,450  1.000000 0.0000000 2.000000   1.386294  0.722500          \n",
       "33 $8,130,678  1.414214 0.6931472 2.828427   2.079442  3.810304          \n",
       "   SG.ARGsq SG.ARGcube  \n",
       "2  0.037636  0.007301384\n",
       "17 0.028561 -0.004826809\n",
       "23 0.011025  0.001157625\n",
       "24 0.032041  0.005735339\n",
       "28 0.002601  0.000132651\n",
       "33 0.202500  0.091125000"
      ]
     },
     "metadata": {},
     "output_type": "display_data"
    }
   ],
   "source": [
    "head(golf2)"
   ]
  },
  {
   "cell_type": "markdown",
   "metadata": {},
   "source": [
    "*Simply use the carat and raise the variable to the third power to get this result. You won't even both looking at it, because you know it will be way too strong a transformation in this case.*"
   ]
  },
  {
   "cell_type": "markdown",
   "metadata": {},
   "source": [
    "*You can also use the Tukey's Ladder of Power transformation with your data.  It will automatically use the right power for you, which can save quite a bit of time. Let's try it with the Top.10 variable.*"
   ]
  },
  {
   "cell_type": "code",
   "execution_count": 59,
   "metadata": {},
   "outputs": [
    {
     "name": "stdout",
     "output_type": "stream",
     "text": [
      "\n",
      "    lambda      W Shapiro.p.value\n",
      "426  0.625 0.9589       3.521e-07\n",
      "\n",
      "if (lambda >  0){TRANS = x ^ lambda} \n",
      "if (lambda == 0){TRANS = log(x)} \n",
      "if (lambda <  0){TRANS = -1 * x ^ lambda} \n",
      "\n"
     ]
    }
   ],
   "source": [
    "golf2$Top.10TUK <- transformTukey(golf2$Top.10, plotit=FALSE)"
   ]
  },
  {
   "cell_type": "markdown",
   "metadata": {},
   "source": [
    "*It gives you some output about whether it is normally distributed and how it will transform it, based on that distribution. Let's see if it made a difference:*"
   ]
  },
  {
   "cell_type": "code",
   "execution_count": 60,
   "metadata": {},
   "outputs": [
    {
     "data": {
      "image/png": "[encoded data removed]",
      "text/plain": [
       "Plot with title \"\""
      ]
     },
     "metadata": {},
     "output_type": "display_data"
    }
   ],
   "source": [
    "plotNormalHistogram(golf2$Top.10TUK)"
   ]
  },
  {
   "cell_type": "markdown",
   "metadata": {},
   "source": [
    "*Looks pretty normal to me! Feel free to play around with many different types of transformations, including the Tukey's, and see what works best for you.*"
   ]
  },
  {
   "cell_type": "code",
   "execution_count": null,
   "metadata": {},
   "outputs": [],
   "source": []
  }
 ],
 "metadata": {
  "kernelspec": {
   "display_name": "R",
   "language": "R",
   "name": "ir"
  },
  "language_info": {
   "codemirror_mode": "r",
   "file_extension": ".r",
   "mimetype": "text/x-r-source",
   "name": "R",
   "pygments_lexer": "r",
   "version": "3.5.1"
  }
 },
 "nbformat": 4,
 "nbformat_minor": 2
}
