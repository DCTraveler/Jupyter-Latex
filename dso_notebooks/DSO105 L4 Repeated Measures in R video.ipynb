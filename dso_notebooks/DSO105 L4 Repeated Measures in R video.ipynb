{
 "cells": [
  {
   "cell_type": "markdown",
   "metadata": {},
   "source": [
    "# Determine how risk of coup in African countries has changed over time."
   ]
  },
  {
   "cell_type": "markdown",
   "metadata": {},
   "source": [
    "*The question you will be answering for this video is to determine whether the risk of coup in African countries has changed over time. To do so, you will utilize the repeated measures ANOVA!*\n",
    "\n",
    "*In order to do this, you will need a few different libraries. rcompanion, to do any data transformations, car to run the tests for homogeneity of variance, and dplyr, for looking at the means if you find signifciance.*"
   ]
  },
  {
   "cell_type": "markdown",
   "metadata": {},
   "source": [
    "## Load libraries"
   ]
  },
  {
   "cell_type": "code",
   "execution_count": 32,
   "metadata": {},
   "outputs": [
    {
     "name": "stderr",
     "output_type": "stream",
     "text": [
      "\n",
      "Attaching package: 'dplyr'\n",
      "\n",
      "The following object is masked from 'package:car':\n",
      "\n",
      "    recode\n",
      "\n",
      "The following objects are masked from 'package:stats':\n",
      "\n",
      "    filter, lag\n",
      "\n",
      "The following objects are masked from 'package:base':\n",
      "\n",
      "    intersect, setdiff, setequal, union\n",
      "\n"
     ]
    }
   ],
   "source": [
    "library(\"rcompanion\")\n",
    "library(\"car\")\n",
    "library(\"dplyr\")"
   ]
  },
  {
   "cell_type": "code",
   "execution_count": 9,
   "metadata": {},
   "outputs": [],
   "source": [
    "coups <- read.csv(\"C://Users/meredith.dodd/Documents/Data Science/105 Intermediate Statistics/Lesson 4/african_coups.csv\")"
   ]
  },
  {
   "cell_type": "code",
   "execution_count": 10,
   "metadata": {},
   "outputs": [
    {
     "data": {
      "text/html": [
       "<table>\n",
       "<thead><tr><th scope=col>date</th><th scope=col>country</th><th scope=col>commodities</th><th scope=col>commodities_excl_energy</th><th scope=col>energy</th><th scope=col>minerals</th><th scope=col>forestry</th><th scope=col>agriculture</th><th scope=col>fish</th><th scope=col>age</th><th scope=col>...</th><th scope=col>loss</th><th scope=col>irregular</th><th scope=col>prev_conflict</th><th scope=col>pt_suc</th><th scope=col>pt_attempt</th><th scope=col>precip</th><th scope=col>global_policy_uncertainty_current</th><th scope=col>couprisk</th><th scope=col>pctile_risk</th><th scope=col>relative_risk_classification</th></tr></thead>\n",
       "<tbody>\n",
       "\t<tr><td>1/1/1997     </td><td>Angola       </td><td>313.45       </td><td>254.08       </td><td>609.35       </td><td>285.31       </td><td>341.36       </td><td>170.16       </td><td>870.14       </td><td>55           </td><td>...          </td><td>5.545177     </td><td>3.970292     </td><td>1            </td><td>0            </td><td>0            </td><td>-0.41474915  </td><td>79.9359      </td><td>0.001705101  </td><td>0.7225125    </td><td>High         </td></tr>\n",
       "\t<tr><td>1/1/1997     </td><td>Algeria      </td><td>313.45       </td><td>254.08       </td><td>609.35       </td><td>285.31       </td><td>341.36       </td><td>170.16       </td><td>870.14       </td><td>56           </td><td>...          </td><td>4.564348     </td><td>2.708050     </td><td>1            </td><td>0            </td><td>0            </td><td> 0.70164311  </td><td>79.9359      </td><td>0.001822458  </td><td>0.7359829    </td><td>High         </td></tr>\n",
       "\t<tr><td>1/1/1997     </td><td>South Africa </td><td>313.45       </td><td>254.08       </td><td>609.35       </td><td>285.31       </td><td>341.36       </td><td>170.16       </td><td>870.14       </td><td>79           </td><td>...          </td><td>3.526361     </td><td>3.526361     </td><td>0            </td><td>0            </td><td>0            </td><td> 0.98816890  </td><td>79.9359      </td><td>0.001837309  </td><td>0.7371534    </td><td>High         </td></tr>\n",
       "\t<tr><td>1/1/1997     </td><td>Uganda       </td><td>313.45       </td><td>254.08       </td><td>609.35       </td><td>285.31       </td><td>341.36       </td><td>170.16       </td><td>870.14       </td><td>53           </td><td>...          </td><td>5.267858     </td><td>2.197225     </td><td>1            </td><td>0            </td><td>0            </td><td> 0.07549572  </td><td>79.9359      </td><td>0.001940203  </td><td>0.7469584    </td><td>High         </td></tr>\n",
       "\t<tr><td>1/1/1997     </td><td>Guinea Bissau</td><td>313.45       </td><td>254.08       </td><td>609.35       </td><td>285.31       </td><td>341.36       </td><td>170.16       </td><td>870.14       </td><td>58           </td><td>...          </td><td>5.272999     </td><td>3.401197     </td><td>0            </td><td>0            </td><td>0            </td><td> 0.04635003  </td><td>79.9359      </td><td>0.002256377  </td><td>0.7715377    </td><td>High         </td></tr>\n",
       "\t<tr><td>1/1/1997     </td><td>Liberia      </td><td>313.45       </td><td>254.08       </td><td>609.35       </td><td>285.31       </td><td>341.36       </td><td>170.16       </td><td>870.14       </td><td>58           </td><td>...          </td><td>4.343805     </td><td>4.343805     </td><td>0            </td><td>0            </td><td>0            </td><td>-0.27843896  </td><td>79.9359      </td><td>0.002272123  </td><td>0.7725644    </td><td>High         </td></tr>\n",
       "</tbody>\n",
       "</table>\n"
      ],
      "text/latex": [
       "\\begin{tabular}{r|lllllllllllllllllllllllllllllllllllllllllll}\n",
       " date & country & commodities & commodities\\_excl\\_energy & energy & minerals & forestry & agriculture & fish & age & ... & loss & irregular & prev\\_conflict & pt\\_suc & pt\\_attempt & precip & global\\_policy\\_uncertainty\\_current & couprisk & pctile\\_risk & relative\\_risk\\_classification\\\\\n",
       "\\hline\n",
       "\t 1/1/1997      & Angola        & 313.45        & 254.08        & 609.35        & 285.31        & 341.36        & 170.16        & 870.14        & 55            & ...           & 5.545177      & 3.970292      & 1             & 0             & 0             & -0.41474915   & 79.9359       & 0.001705101   & 0.7225125     & High         \\\\\n",
       "\t 1/1/1997      & Algeria       & 313.45        & 254.08        & 609.35        & 285.31        & 341.36        & 170.16        & 870.14        & 56            & ...           & 4.564348      & 2.708050      & 1             & 0             & 0             &  0.70164311   & 79.9359       & 0.001822458   & 0.7359829     & High         \\\\\n",
       "\t 1/1/1997      & South Africa  & 313.45        & 254.08        & 609.35        & 285.31        & 341.36        & 170.16        & 870.14        & 79            & ...           & 3.526361      & 3.526361      & 0             & 0             & 0             &  0.98816890   & 79.9359       & 0.001837309   & 0.7371534     & High         \\\\\n",
       "\t 1/1/1997      & Uganda        & 313.45        & 254.08        & 609.35        & 285.31        & 341.36        & 170.16        & 870.14        & 53            & ...           & 5.267858      & 2.197225      & 1             & 0             & 0             &  0.07549572   & 79.9359       & 0.001940203   & 0.7469584     & High         \\\\\n",
       "\t 1/1/1997      & Guinea Bissau & 313.45        & 254.08        & 609.35        & 285.31        & 341.36        & 170.16        & 870.14        & 58            & ...           & 5.272999      & 3.401197      & 0             & 0             & 0             &  0.04635003   & 79.9359       & 0.002256377   & 0.7715377     & High         \\\\\n",
       "\t 1/1/1997      & Liberia       & 313.45        & 254.08        & 609.35        & 285.31        & 341.36        & 170.16        & 870.14        & 58            & ...           & 4.343805      & 4.343805      & 0             & 0             & 0             & -0.27843896   & 79.9359       & 0.002272123   & 0.7725644     & High         \\\\\n",
       "\\end{tabular}\n"
      ],
      "text/markdown": [
       "\n",
       "date | country | commodities | commodities_excl_energy | energy | minerals | forestry | agriculture | fish | age | ... | loss | irregular | prev_conflict | pt_suc | pt_attempt | precip | global_policy_uncertainty_current | couprisk | pctile_risk | relative_risk_classification | \n",
       "|---|---|---|---|---|---|\n",
       "| 1/1/1997      | Angola        | 313.45        | 254.08        | 609.35        | 285.31        | 341.36        | 170.16        | 870.14        | 55            | ...           | 5.545177      | 3.970292      | 1             | 0             | 0             | -0.41474915   | 79.9359       | 0.001705101   | 0.7225125     | High          | \n",
       "| 1/1/1997      | Algeria       | 313.45        | 254.08        | 609.35        | 285.31        | 341.36        | 170.16        | 870.14        | 56            | ...           | 4.564348      | 2.708050      | 1             | 0             | 0             |  0.70164311   | 79.9359       | 0.001822458   | 0.7359829     | High          | \n",
       "| 1/1/1997      | South Africa  | 313.45        | 254.08        | 609.35        | 285.31        | 341.36        | 170.16        | 870.14        | 79            | ...           | 3.526361      | 3.526361      | 0             | 0             | 0             |  0.98816890   | 79.9359       | 0.001837309   | 0.7371534     | High          | \n",
       "| 1/1/1997      | Uganda        | 313.45        | 254.08        | 609.35        | 285.31        | 341.36        | 170.16        | 870.14        | 53            | ...           | 5.267858      | 2.197225      | 1             | 0             | 0             |  0.07549572   | 79.9359       | 0.001940203   | 0.7469584     | High          | \n",
       "| 1/1/1997      | Guinea Bissau | 313.45        | 254.08        | 609.35        | 285.31        | 341.36        | 170.16        | 870.14        | 58            | ...           | 5.272999      | 3.401197      | 0             | 0             | 0             |  0.04635003   | 79.9359       | 0.002256377   | 0.7715377     | High          | \n",
       "| 1/1/1997      | Liberia       | 313.45        | 254.08        | 609.35        | 285.31        | 341.36        | 170.16        | 870.14        | 58            | ...           | 4.343805      | 4.343805      | 0             | 0             | 0             | -0.27843896   | 79.9359       | 0.002272123   | 0.7725644     | High          | \n",
       "\n",
       "\n"
      ],
      "text/plain": [
       "  date     country       commodities commodities_excl_energy energy minerals\n",
       "1 1/1/1997 Angola        313.45      254.08                  609.35 285.31  \n",
       "2 1/1/1997 Algeria       313.45      254.08                  609.35 285.31  \n",
       "3 1/1/1997 South Africa  313.45      254.08                  609.35 285.31  \n",
       "4 1/1/1997 Uganda        313.45      254.08                  609.35 285.31  \n",
       "5 1/1/1997 Guinea Bissau 313.45      254.08                  609.35 285.31  \n",
       "6 1/1/1997 Liberia       313.45      254.08                  609.35 285.31  \n",
       "  forestry agriculture fish   age ... loss     irregular prev_conflict pt_suc\n",
       "1 341.36   170.16      870.14 55  ... 5.545177 3.970292  1             0     \n",
       "2 341.36   170.16      870.14 56  ... 4.564348 2.708050  1             0     \n",
       "3 341.36   170.16      870.14 79  ... 3.526361 3.526361  0             0     \n",
       "4 341.36   170.16      870.14 53  ... 5.267858 2.197225  1             0     \n",
       "5 341.36   170.16      870.14 58  ... 5.272999 3.401197  0             0     \n",
       "6 341.36   170.16      870.14 58  ... 4.343805 4.343805  0             0     \n",
       "  pt_attempt precip      global_policy_uncertainty_current couprisk   \n",
       "1 0          -0.41474915 79.9359                           0.001705101\n",
       "2 0           0.70164311 79.9359                           0.001822458\n",
       "3 0           0.98816890 79.9359                           0.001837309\n",
       "4 0           0.07549572 79.9359                           0.001940203\n",
       "5 0           0.04635003 79.9359                           0.002256377\n",
       "6 0          -0.27843896 79.9359                           0.002272123\n",
       "  pctile_risk relative_risk_classification\n",
       "1 0.7225125   High                        \n",
       "2 0.7359829   High                        \n",
       "3 0.7371534   High                        \n",
       "4 0.7469584   High                        \n",
       "5 0.7715377   High                        \n",
       "6 0.7725644   High                        "
      ]
     },
     "metadata": {},
     "output_type": "display_data"
    }
   ],
   "source": [
    "head(coups)"
   ]
  },
  {
   "cell_type": "markdown",
   "metadata": {},
   "source": [
    "## Data Wrangling"
   ]
  },
  {
   "cell_type": "markdown",
   "metadata": {},
   "source": [
    "*Since you want to look at things by year, you will need to wrangle your data to pull year out from the date. This involves first transforming the date into a date variable, then pulling year off from it.*\n",
    "\n",
    "*So let's first make year it's own variable.  You need to use the function as.Date, which is built into base R, and specify the format that your data is in.  You want a lowercase m for month as a number, a lowercase d for day as a number, and then a capital Y for a four digit Year. It all needs to be separated out by slashes, since that is how your data orginally reads in.*"
   ]
  },
  {
   "cell_type": "markdown",
   "metadata": {},
   "source": [
    "### Making Year it's own variable"
   ]
  },
  {
   "cell_type": "code",
   "execution_count": 11,
   "metadata": {},
   "outputs": [],
   "source": [
    "coups$date <- as.Date(coups$date, \"%m/%d/%Y\")"
   ]
  },
  {
   "cell_type": "markdown",
   "metadata": {},
   "source": [
    "*go ahead and peek to make sure that came in right.*"
   ]
  },
  {
   "cell_type": "code",
   "execution_count": 12,
   "metadata": {},
   "outputs": [
    {
     "data": {
      "text/html": [
       "<table>\n",
       "<thead><tr><th scope=col>date</th><th scope=col>country</th><th scope=col>commodities</th><th scope=col>commodities_excl_energy</th><th scope=col>energy</th><th scope=col>minerals</th><th scope=col>forestry</th><th scope=col>agriculture</th><th scope=col>fish</th><th scope=col>age</th><th scope=col>...</th><th scope=col>loss</th><th scope=col>irregular</th><th scope=col>prev_conflict</th><th scope=col>pt_suc</th><th scope=col>pt_attempt</th><th scope=col>precip</th><th scope=col>global_policy_uncertainty_current</th><th scope=col>couprisk</th><th scope=col>pctile_risk</th><th scope=col>relative_risk_classification</th></tr></thead>\n",
       "<tbody>\n",
       "\t<tr><td>1997-01-01   </td><td>Angola       </td><td>313.45       </td><td>254.08       </td><td>609.35       </td><td>285.31       </td><td>341.36       </td><td>170.16       </td><td>870.14       </td><td>55           </td><td>...          </td><td>5.545177     </td><td>3.970292     </td><td>1            </td><td>0            </td><td>0            </td><td>-0.41474915  </td><td>79.9359      </td><td>0.001705101  </td><td>0.7225125    </td><td>High         </td></tr>\n",
       "\t<tr><td>1997-01-01   </td><td>Algeria      </td><td>313.45       </td><td>254.08       </td><td>609.35       </td><td>285.31       </td><td>341.36       </td><td>170.16       </td><td>870.14       </td><td>56           </td><td>...          </td><td>4.564348     </td><td>2.708050     </td><td>1            </td><td>0            </td><td>0            </td><td> 0.70164311  </td><td>79.9359      </td><td>0.001822458  </td><td>0.7359829    </td><td>High         </td></tr>\n",
       "\t<tr><td>1997-01-01   </td><td>South Africa </td><td>313.45       </td><td>254.08       </td><td>609.35       </td><td>285.31       </td><td>341.36       </td><td>170.16       </td><td>870.14       </td><td>79           </td><td>...          </td><td>3.526361     </td><td>3.526361     </td><td>0            </td><td>0            </td><td>0            </td><td> 0.98816890  </td><td>79.9359      </td><td>0.001837309  </td><td>0.7371534    </td><td>High         </td></tr>\n",
       "\t<tr><td>1997-01-01   </td><td>Uganda       </td><td>313.45       </td><td>254.08       </td><td>609.35       </td><td>285.31       </td><td>341.36       </td><td>170.16       </td><td>870.14       </td><td>53           </td><td>...          </td><td>5.267858     </td><td>2.197225     </td><td>1            </td><td>0            </td><td>0            </td><td> 0.07549572  </td><td>79.9359      </td><td>0.001940203  </td><td>0.7469584    </td><td>High         </td></tr>\n",
       "\t<tr><td>1997-01-01   </td><td>Guinea Bissau</td><td>313.45       </td><td>254.08       </td><td>609.35       </td><td>285.31       </td><td>341.36       </td><td>170.16       </td><td>870.14       </td><td>58           </td><td>...          </td><td>5.272999     </td><td>3.401197     </td><td>0            </td><td>0            </td><td>0            </td><td> 0.04635003  </td><td>79.9359      </td><td>0.002256377  </td><td>0.7715377    </td><td>High         </td></tr>\n",
       "\t<tr><td>1997-01-01   </td><td>Liberia      </td><td>313.45       </td><td>254.08       </td><td>609.35       </td><td>285.31       </td><td>341.36       </td><td>170.16       </td><td>870.14       </td><td>58           </td><td>...          </td><td>4.343805     </td><td>4.343805     </td><td>0            </td><td>0            </td><td>0            </td><td>-0.27843896  </td><td>79.9359      </td><td>0.002272123  </td><td>0.7725644    </td><td>High         </td></tr>\n",
       "</tbody>\n",
       "</table>\n"
      ],
      "text/latex": [
       "\\begin{tabular}{r|lllllllllllllllllllllllllllllllllllllllllll}\n",
       " date & country & commodities & commodities\\_excl\\_energy & energy & minerals & forestry & agriculture & fish & age & ... & loss & irregular & prev\\_conflict & pt\\_suc & pt\\_attempt & precip & global\\_policy\\_uncertainty\\_current & couprisk & pctile\\_risk & relative\\_risk\\_classification\\\\\n",
       "\\hline\n",
       "\t 1997-01-01    & Angola        & 313.45        & 254.08        & 609.35        & 285.31        & 341.36        & 170.16        & 870.14        & 55            & ...           & 5.545177      & 3.970292      & 1             & 0             & 0             & -0.41474915   & 79.9359       & 0.001705101   & 0.7225125     & High         \\\\\n",
       "\t 1997-01-01    & Algeria       & 313.45        & 254.08        & 609.35        & 285.31        & 341.36        & 170.16        & 870.14        & 56            & ...           & 4.564348      & 2.708050      & 1             & 0             & 0             &  0.70164311   & 79.9359       & 0.001822458   & 0.7359829     & High         \\\\\n",
       "\t 1997-01-01    & South Africa  & 313.45        & 254.08        & 609.35        & 285.31        & 341.36        & 170.16        & 870.14        & 79            & ...           & 3.526361      & 3.526361      & 0             & 0             & 0             &  0.98816890   & 79.9359       & 0.001837309   & 0.7371534     & High         \\\\\n",
       "\t 1997-01-01    & Uganda        & 313.45        & 254.08        & 609.35        & 285.31        & 341.36        & 170.16        & 870.14        & 53            & ...           & 5.267858      & 2.197225      & 1             & 0             & 0             &  0.07549572   & 79.9359       & 0.001940203   & 0.7469584     & High         \\\\\n",
       "\t 1997-01-01    & Guinea Bissau & 313.45        & 254.08        & 609.35        & 285.31        & 341.36        & 170.16        & 870.14        & 58            & ...           & 5.272999      & 3.401197      & 0             & 0             & 0             &  0.04635003   & 79.9359       & 0.002256377   & 0.7715377     & High         \\\\\n",
       "\t 1997-01-01    & Liberia       & 313.45        & 254.08        & 609.35        & 285.31        & 341.36        & 170.16        & 870.14        & 58            & ...           & 4.343805      & 4.343805      & 0             & 0             & 0             & -0.27843896   & 79.9359       & 0.002272123   & 0.7725644     & High         \\\\\n",
       "\\end{tabular}\n"
      ],
      "text/markdown": [
       "\n",
       "date | country | commodities | commodities_excl_energy | energy | minerals | forestry | agriculture | fish | age | ... | loss | irregular | prev_conflict | pt_suc | pt_attempt | precip | global_policy_uncertainty_current | couprisk | pctile_risk | relative_risk_classification | \n",
       "|---|---|---|---|---|---|\n",
       "| 1997-01-01    | Angola        | 313.45        | 254.08        | 609.35        | 285.31        | 341.36        | 170.16        | 870.14        | 55            | ...           | 5.545177      | 3.970292      | 1             | 0             | 0             | -0.41474915   | 79.9359       | 0.001705101   | 0.7225125     | High          | \n",
       "| 1997-01-01    | Algeria       | 313.45        | 254.08        | 609.35        | 285.31        | 341.36        | 170.16        | 870.14        | 56            | ...           | 4.564348      | 2.708050      | 1             | 0             | 0             |  0.70164311   | 79.9359       | 0.001822458   | 0.7359829     | High          | \n",
       "| 1997-01-01    | South Africa  | 313.45        | 254.08        | 609.35        | 285.31        | 341.36        | 170.16        | 870.14        | 79            | ...           | 3.526361      | 3.526361      | 0             | 0             | 0             |  0.98816890   | 79.9359       | 0.001837309   | 0.7371534     | High          | \n",
       "| 1997-01-01    | Uganda        | 313.45        | 254.08        | 609.35        | 285.31        | 341.36        | 170.16        | 870.14        | 53            | ...           | 5.267858      | 2.197225      | 1             | 0             | 0             |  0.07549572   | 79.9359       | 0.001940203   | 0.7469584     | High          | \n",
       "| 1997-01-01    | Guinea Bissau | 313.45        | 254.08        | 609.35        | 285.31        | 341.36        | 170.16        | 870.14        | 58            | ...           | 5.272999      | 3.401197      | 0             | 0             | 0             |  0.04635003   | 79.9359       | 0.002256377   | 0.7715377     | High          | \n",
       "| 1997-01-01    | Liberia       | 313.45        | 254.08        | 609.35        | 285.31        | 341.36        | 170.16        | 870.14        | 58            | ...           | 4.343805      | 4.343805      | 0             | 0             | 0             | -0.27843896   | 79.9359       | 0.002272123   | 0.7725644     | High          | \n",
       "\n",
       "\n"
      ],
      "text/plain": [
       "  date       country       commodities commodities_excl_energy energy minerals\n",
       "1 1997-01-01 Angola        313.45      254.08                  609.35 285.31  \n",
       "2 1997-01-01 Algeria       313.45      254.08                  609.35 285.31  \n",
       "3 1997-01-01 South Africa  313.45      254.08                  609.35 285.31  \n",
       "4 1997-01-01 Uganda        313.45      254.08                  609.35 285.31  \n",
       "5 1997-01-01 Guinea Bissau 313.45      254.08                  609.35 285.31  \n",
       "6 1997-01-01 Liberia       313.45      254.08                  609.35 285.31  \n",
       "  forestry agriculture fish   age ... loss     irregular prev_conflict pt_suc\n",
       "1 341.36   170.16      870.14 55  ... 5.545177 3.970292  1             0     \n",
       "2 341.36   170.16      870.14 56  ... 4.564348 2.708050  1             0     \n",
       "3 341.36   170.16      870.14 79  ... 3.526361 3.526361  0             0     \n",
       "4 341.36   170.16      870.14 53  ... 5.267858 2.197225  1             0     \n",
       "5 341.36   170.16      870.14 58  ... 5.272999 3.401197  0             0     \n",
       "6 341.36   170.16      870.14 58  ... 4.343805 4.343805  0             0     \n",
       "  pt_attempt precip      global_policy_uncertainty_current couprisk   \n",
       "1 0          -0.41474915 79.9359                           0.001705101\n",
       "2 0           0.70164311 79.9359                           0.001822458\n",
       "3 0           0.98816890 79.9359                           0.001837309\n",
       "4 0           0.07549572 79.9359                           0.001940203\n",
       "5 0           0.04635003 79.9359                           0.002256377\n",
       "6 0          -0.27843896 79.9359                           0.002272123\n",
       "  pctile_risk relative_risk_classification\n",
       "1 0.7225125   High                        \n",
       "2 0.7359829   High                        \n",
       "3 0.7371534   High                        \n",
       "4 0.7469584   High                        \n",
       "5 0.7715377   High                        \n",
       "6 0.7725644   High                        "
      ]
     },
     "metadata": {},
     "output_type": "display_data"
    }
   ],
   "source": [
    "head(coups)"
   ]
  },
  {
   "cell_type": "markdown",
   "metadata": {},
   "source": [
    "*Next you need to lop off year, using the format function. Just put the variable name in, specify that you just want the year, and then stick into your new variable named Year.* "
   ]
  },
  {
   "cell_type": "code",
   "execution_count": 13,
   "metadata": {},
   "outputs": [],
   "source": [
    "coups$Year <- format(coups$date, \"%Y\")"
   ]
  },
  {
   "cell_type": "code",
   "execution_count": 14,
   "metadata": {},
   "outputs": [
    {
     "data": {
      "text/html": [
       "<table>\n",
       "<thead><tr><th scope=col>date</th><th scope=col>country</th><th scope=col>commodities</th><th scope=col>commodities_excl_energy</th><th scope=col>energy</th><th scope=col>minerals</th><th scope=col>forestry</th><th scope=col>agriculture</th><th scope=col>fish</th><th scope=col>age</th><th scope=col>...</th><th scope=col>irregular</th><th scope=col>prev_conflict</th><th scope=col>pt_suc</th><th scope=col>pt_attempt</th><th scope=col>precip</th><th scope=col>global_policy_uncertainty_current</th><th scope=col>couprisk</th><th scope=col>pctile_risk</th><th scope=col>relative_risk_classification</th><th scope=col>Year</th></tr></thead>\n",
       "<tbody>\n",
       "\t<tr><td>1997-01-01   </td><td>Angola       </td><td>313.45       </td><td>254.08       </td><td>609.35       </td><td>285.31       </td><td>341.36       </td><td>170.16       </td><td>870.14       </td><td>55           </td><td>...          </td><td>3.970292     </td><td>1            </td><td>0            </td><td>0            </td><td>-0.41474915  </td><td>79.9359      </td><td>0.001705101  </td><td>0.7225125    </td><td>High         </td><td>1997         </td></tr>\n",
       "\t<tr><td>1997-01-01   </td><td>Algeria      </td><td>313.45       </td><td>254.08       </td><td>609.35       </td><td>285.31       </td><td>341.36       </td><td>170.16       </td><td>870.14       </td><td>56           </td><td>...          </td><td>2.708050     </td><td>1            </td><td>0            </td><td>0            </td><td> 0.70164311  </td><td>79.9359      </td><td>0.001822458  </td><td>0.7359829    </td><td>High         </td><td>1997         </td></tr>\n",
       "\t<tr><td>1997-01-01   </td><td>South Africa </td><td>313.45       </td><td>254.08       </td><td>609.35       </td><td>285.31       </td><td>341.36       </td><td>170.16       </td><td>870.14       </td><td>79           </td><td>...          </td><td>3.526361     </td><td>0            </td><td>0            </td><td>0            </td><td> 0.98816890  </td><td>79.9359      </td><td>0.001837309  </td><td>0.7371534    </td><td>High         </td><td>1997         </td></tr>\n",
       "\t<tr><td>1997-01-01   </td><td>Uganda       </td><td>313.45       </td><td>254.08       </td><td>609.35       </td><td>285.31       </td><td>341.36       </td><td>170.16       </td><td>870.14       </td><td>53           </td><td>...          </td><td>2.197225     </td><td>1            </td><td>0            </td><td>0            </td><td> 0.07549572  </td><td>79.9359      </td><td>0.001940203  </td><td>0.7469584    </td><td>High         </td><td>1997         </td></tr>\n",
       "\t<tr><td>1997-01-01   </td><td>Guinea Bissau</td><td>313.45       </td><td>254.08       </td><td>609.35       </td><td>285.31       </td><td>341.36       </td><td>170.16       </td><td>870.14       </td><td>58           </td><td>...          </td><td>3.401197     </td><td>0            </td><td>0            </td><td>0            </td><td> 0.04635003  </td><td>79.9359      </td><td>0.002256377  </td><td>0.7715377    </td><td>High         </td><td>1997         </td></tr>\n",
       "\t<tr><td>1997-01-01   </td><td>Liberia      </td><td>313.45       </td><td>254.08       </td><td>609.35       </td><td>285.31       </td><td>341.36       </td><td>170.16       </td><td>870.14       </td><td>58           </td><td>...          </td><td>4.343805     </td><td>0            </td><td>0            </td><td>0            </td><td>-0.27843896  </td><td>79.9359      </td><td>0.002272123  </td><td>0.7725644    </td><td>High         </td><td>1997         </td></tr>\n",
       "</tbody>\n",
       "</table>\n"
      ],
      "text/latex": [
       "\\begin{tabular}{r|llllllllllllllllllllllllllllllllllllllllllll}\n",
       " date & country & commodities & commodities\\_excl\\_energy & energy & minerals & forestry & agriculture & fish & age & ... & irregular & prev\\_conflict & pt\\_suc & pt\\_attempt & precip & global\\_policy\\_uncertainty\\_current & couprisk & pctile\\_risk & relative\\_risk\\_classification & Year\\\\\n",
       "\\hline\n",
       "\t 1997-01-01    & Angola        & 313.45        & 254.08        & 609.35        & 285.31        & 341.36        & 170.16        & 870.14        & 55            & ...           & 3.970292      & 1             & 0             & 0             & -0.41474915   & 79.9359       & 0.001705101   & 0.7225125     & High          & 1997         \\\\\n",
       "\t 1997-01-01    & Algeria       & 313.45        & 254.08        & 609.35        & 285.31        & 341.36        & 170.16        & 870.14        & 56            & ...           & 2.708050      & 1             & 0             & 0             &  0.70164311   & 79.9359       & 0.001822458   & 0.7359829     & High          & 1997         \\\\\n",
       "\t 1997-01-01    & South Africa  & 313.45        & 254.08        & 609.35        & 285.31        & 341.36        & 170.16        & 870.14        & 79            & ...           & 3.526361      & 0             & 0             & 0             &  0.98816890   & 79.9359       & 0.001837309   & 0.7371534     & High          & 1997         \\\\\n",
       "\t 1997-01-01    & Uganda        & 313.45        & 254.08        & 609.35        & 285.31        & 341.36        & 170.16        & 870.14        & 53            & ...           & 2.197225      & 1             & 0             & 0             &  0.07549572   & 79.9359       & 0.001940203   & 0.7469584     & High          & 1997         \\\\\n",
       "\t 1997-01-01    & Guinea Bissau & 313.45        & 254.08        & 609.35        & 285.31        & 341.36        & 170.16        & 870.14        & 58            & ...           & 3.401197      & 0             & 0             & 0             &  0.04635003   & 79.9359       & 0.002256377   & 0.7715377     & High          & 1997         \\\\\n",
       "\t 1997-01-01    & Liberia       & 313.45        & 254.08        & 609.35        & 285.31        & 341.36        & 170.16        & 870.14        & 58            & ...           & 4.343805      & 0             & 0             & 0             & -0.27843896   & 79.9359       & 0.002272123   & 0.7725644     & High          & 1997         \\\\\n",
       "\\end{tabular}\n"
      ],
      "text/markdown": [
       "\n",
       "date | country | commodities | commodities_excl_energy | energy | minerals | forestry | agriculture | fish | age | ... | irregular | prev_conflict | pt_suc | pt_attempt | precip | global_policy_uncertainty_current | couprisk | pctile_risk | relative_risk_classification | Year | \n",
       "|---|---|---|---|---|---|\n",
       "| 1997-01-01    | Angola        | 313.45        | 254.08        | 609.35        | 285.31        | 341.36        | 170.16        | 870.14        | 55            | ...           | 3.970292      | 1             | 0             | 0             | -0.41474915   | 79.9359       | 0.001705101   | 0.7225125     | High          | 1997          | \n",
       "| 1997-01-01    | Algeria       | 313.45        | 254.08        | 609.35        | 285.31        | 341.36        | 170.16        | 870.14        | 56            | ...           | 2.708050      | 1             | 0             | 0             |  0.70164311   | 79.9359       | 0.001822458   | 0.7359829     | High          | 1997          | \n",
       "| 1997-01-01    | South Africa  | 313.45        | 254.08        | 609.35        | 285.31        | 341.36        | 170.16        | 870.14        | 79            | ...           | 3.526361      | 0             | 0             | 0             |  0.98816890   | 79.9359       | 0.001837309   | 0.7371534     | High          | 1997          | \n",
       "| 1997-01-01    | Uganda        | 313.45        | 254.08        | 609.35        | 285.31        | 341.36        | 170.16        | 870.14        | 53            | ...           | 2.197225      | 1             | 0             | 0             |  0.07549572   | 79.9359       | 0.001940203   | 0.7469584     | High          | 1997          | \n",
       "| 1997-01-01    | Guinea Bissau | 313.45        | 254.08        | 609.35        | 285.31        | 341.36        | 170.16        | 870.14        | 58            | ...           | 3.401197      | 0             | 0             | 0             |  0.04635003   | 79.9359       | 0.002256377   | 0.7715377     | High          | 1997          | \n",
       "| 1997-01-01    | Liberia       | 313.45        | 254.08        | 609.35        | 285.31        | 341.36        | 170.16        | 870.14        | 58            | ...           | 4.343805      | 0             | 0             | 0             | -0.27843896   | 79.9359       | 0.002272123   | 0.7725644     | High          | 1997          | \n",
       "\n",
       "\n"
      ],
      "text/plain": [
       "  date       country       commodities commodities_excl_energy energy minerals\n",
       "1 1997-01-01 Angola        313.45      254.08                  609.35 285.31  \n",
       "2 1997-01-01 Algeria       313.45      254.08                  609.35 285.31  \n",
       "3 1997-01-01 South Africa  313.45      254.08                  609.35 285.31  \n",
       "4 1997-01-01 Uganda        313.45      254.08                  609.35 285.31  \n",
       "5 1997-01-01 Guinea Bissau 313.45      254.08                  609.35 285.31  \n",
       "6 1997-01-01 Liberia       313.45      254.08                  609.35 285.31  \n",
       "  forestry agriculture fish   age ... irregular prev_conflict pt_suc pt_attempt\n",
       "1 341.36   170.16      870.14 55  ... 3.970292  1             0      0         \n",
       "2 341.36   170.16      870.14 56  ... 2.708050  1             0      0         \n",
       "3 341.36   170.16      870.14 79  ... 3.526361  0             0      0         \n",
       "4 341.36   170.16      870.14 53  ... 2.197225  1             0      0         \n",
       "5 341.36   170.16      870.14 58  ... 3.401197  0             0      0         \n",
       "6 341.36   170.16      870.14 58  ... 4.343805  0             0      0         \n",
       "  precip      global_policy_uncertainty_current couprisk    pctile_risk\n",
       "1 -0.41474915 79.9359                           0.001705101 0.7225125  \n",
       "2  0.70164311 79.9359                           0.001822458 0.7359829  \n",
       "3  0.98816890 79.9359                           0.001837309 0.7371534  \n",
       "4  0.07549572 79.9359                           0.001940203 0.7469584  \n",
       "5  0.04635003 79.9359                           0.002256377 0.7715377  \n",
       "6 -0.27843896 79.9359                           0.002272123 0.7725644  \n",
       "  relative_risk_classification Year\n",
       "1 High                         1997\n",
       "2 High                         1997\n",
       "3 High                         1997\n",
       "4 High                         1997\n",
       "5 High                         1997\n",
       "6 High                         1997"
      ]
     },
     "metadata": {},
     "output_type": "display_data"
    }
   ],
   "source": [
    "head(coups)"
   ]
  },
  {
   "cell_type": "markdown",
   "metadata": {},
   "source": [
    "*Now that you have a new variable you can work with, you will want to test assumptions, to make sure repeated measures ANOVA is right for you!*"
   ]
  },
  {
   "cell_type": "markdown",
   "metadata": {},
   "source": [
    "## Testing Assumptions"
   ]
  },
  {
   "cell_type": "markdown",
   "metadata": {},
   "source": [
    "### Normality"
   ]
  },
  {
   "cell_type": "code",
   "execution_count": 20,
   "metadata": {},
   "outputs": [
    {
     "data": {
      "image/png": "[encoded data removed]",
      "text/plain": [
       "Plot with title \"\""
      ]
     },
     "metadata": {},
     "output_type": "display_data"
    }
   ],
   "source": [
    "plotNormalHistogram(coups$couprisk)"
   ]
  },
  {
   "cell_type": "markdown",
   "metadata": {},
   "source": [
    "*Wow, that doesn't look approximately normal in any way! Time to transform it. Since it is positively skewed, you will want to start by square rooting it.*"
   ]
  },
  {
   "cell_type": "code",
   "execution_count": 21,
   "metadata": {},
   "outputs": [],
   "source": [
    "coups$coupriskSQRT <- sqrt(coups$couprisk)"
   ]
  },
  {
   "cell_type": "code",
   "execution_count": 23,
   "metadata": {},
   "outputs": [
    {
     "data": {
      "text/html": [
       "<table>\n",
       "<thead><tr><th scope=col>date</th><th scope=col>country</th><th scope=col>commodities</th><th scope=col>commodities_excl_energy</th><th scope=col>energy</th><th scope=col>minerals</th><th scope=col>forestry</th><th scope=col>agriculture</th><th scope=col>fish</th><th scope=col>age</th><th scope=col>...</th><th scope=col>prev_conflict</th><th scope=col>pt_suc</th><th scope=col>pt_attempt</th><th scope=col>precip</th><th scope=col>global_policy_uncertainty_current</th><th scope=col>couprisk</th><th scope=col>pctile_risk</th><th scope=col>relative_risk_classification</th><th scope=col>Year</th><th scope=col>coupriskSQRT</th></tr></thead>\n",
       "<tbody>\n",
       "\t<tr><td>1997-01-01   </td><td>Angola       </td><td>313.45       </td><td>254.08       </td><td>609.35       </td><td>285.31       </td><td>341.36       </td><td>170.16       </td><td>870.14       </td><td>55           </td><td>...          </td><td>1            </td><td>0            </td><td>0            </td><td>-0.41474915  </td><td>79.9359      </td><td>0.001705101  </td><td>0.7225125    </td><td>High         </td><td>1997         </td><td>0.04129287   </td></tr>\n",
       "\t<tr><td>1997-01-01   </td><td>Algeria      </td><td>313.45       </td><td>254.08       </td><td>609.35       </td><td>285.31       </td><td>341.36       </td><td>170.16       </td><td>870.14       </td><td>56           </td><td>...          </td><td>1            </td><td>0            </td><td>0            </td><td> 0.70164311  </td><td>79.9359      </td><td>0.001822458  </td><td>0.7359829    </td><td>High         </td><td>1997         </td><td>0.04269026   </td></tr>\n",
       "\t<tr><td>1997-01-01   </td><td>South Africa </td><td>313.45       </td><td>254.08       </td><td>609.35       </td><td>285.31       </td><td>341.36       </td><td>170.16       </td><td>870.14       </td><td>79           </td><td>...          </td><td>0            </td><td>0            </td><td>0            </td><td> 0.98816890  </td><td>79.9359      </td><td>0.001837309  </td><td>0.7371534    </td><td>High         </td><td>1997         </td><td>0.04286384   </td></tr>\n",
       "\t<tr><td>1997-01-01   </td><td>Uganda       </td><td>313.45       </td><td>254.08       </td><td>609.35       </td><td>285.31       </td><td>341.36       </td><td>170.16       </td><td>870.14       </td><td>53           </td><td>...          </td><td>1            </td><td>0            </td><td>0            </td><td> 0.07549572  </td><td>79.9359      </td><td>0.001940203  </td><td>0.7469584    </td><td>High         </td><td>1997         </td><td>0.04404774   </td></tr>\n",
       "\t<tr><td>1997-01-01   </td><td>Guinea Bissau</td><td>313.45       </td><td>254.08       </td><td>609.35       </td><td>285.31       </td><td>341.36       </td><td>170.16       </td><td>870.14       </td><td>58           </td><td>...          </td><td>0            </td><td>0            </td><td>0            </td><td> 0.04635003  </td><td>79.9359      </td><td>0.002256377  </td><td>0.7715377    </td><td>High         </td><td>1997         </td><td>0.04750134   </td></tr>\n",
       "\t<tr><td>1997-01-01   </td><td>Liberia      </td><td>313.45       </td><td>254.08       </td><td>609.35       </td><td>285.31       </td><td>341.36       </td><td>170.16       </td><td>870.14       </td><td>58           </td><td>...          </td><td>0            </td><td>0            </td><td>0            </td><td>-0.27843896  </td><td>79.9359      </td><td>0.002272123  </td><td>0.7725644    </td><td>High         </td><td>1997         </td><td>0.04766679   </td></tr>\n",
       "</tbody>\n",
       "</table>\n"
      ],
      "text/latex": [
       "\\begin{tabular}{r|lllllllllllllllllllllllllllllllllllllllllllll}\n",
       " date & country & commodities & commodities\\_excl\\_energy & energy & minerals & forestry & agriculture & fish & age & ... & prev\\_conflict & pt\\_suc & pt\\_attempt & precip & global\\_policy\\_uncertainty\\_current & couprisk & pctile\\_risk & relative\\_risk\\_classification & Year & coupriskSQRT\\\\\n",
       "\\hline\n",
       "\t 1997-01-01    & Angola        & 313.45        & 254.08        & 609.35        & 285.31        & 341.36        & 170.16        & 870.14        & 55            & ...           & 1             & 0             & 0             & -0.41474915   & 79.9359       & 0.001705101   & 0.7225125     & High          & 1997          & 0.04129287   \\\\\n",
       "\t 1997-01-01    & Algeria       & 313.45        & 254.08        & 609.35        & 285.31        & 341.36        & 170.16        & 870.14        & 56            & ...           & 1             & 0             & 0             &  0.70164311   & 79.9359       & 0.001822458   & 0.7359829     & High          & 1997          & 0.04269026   \\\\\n",
       "\t 1997-01-01    & South Africa  & 313.45        & 254.08        & 609.35        & 285.31        & 341.36        & 170.16        & 870.14        & 79            & ...           & 0             & 0             & 0             &  0.98816890   & 79.9359       & 0.001837309   & 0.7371534     & High          & 1997          & 0.04286384   \\\\\n",
       "\t 1997-01-01    & Uganda        & 313.45        & 254.08        & 609.35        & 285.31        & 341.36        & 170.16        & 870.14        & 53            & ...           & 1             & 0             & 0             &  0.07549572   & 79.9359       & 0.001940203   & 0.7469584     & High          & 1997          & 0.04404774   \\\\\n",
       "\t 1997-01-01    & Guinea Bissau & 313.45        & 254.08        & 609.35        & 285.31        & 341.36        & 170.16        & 870.14        & 58            & ...           & 0             & 0             & 0             &  0.04635003   & 79.9359       & 0.002256377   & 0.7715377     & High          & 1997          & 0.04750134   \\\\\n",
       "\t 1997-01-01    & Liberia       & 313.45        & 254.08        & 609.35        & 285.31        & 341.36        & 170.16        & 870.14        & 58            & ...           & 0             & 0             & 0             & -0.27843896   & 79.9359       & 0.002272123   & 0.7725644     & High          & 1997          & 0.04766679   \\\\\n",
       "\\end{tabular}\n"
      ],
      "text/markdown": [
       "\n",
       "date | country | commodities | commodities_excl_energy | energy | minerals | forestry | agriculture | fish | age | ... | prev_conflict | pt_suc | pt_attempt | precip | global_policy_uncertainty_current | couprisk | pctile_risk | relative_risk_classification | Year | coupriskSQRT | \n",
       "|---|---|---|---|---|---|\n",
       "| 1997-01-01    | Angola        | 313.45        | 254.08        | 609.35        | 285.31        | 341.36        | 170.16        | 870.14        | 55            | ...           | 1             | 0             | 0             | -0.41474915   | 79.9359       | 0.001705101   | 0.7225125     | High          | 1997          | 0.04129287    | \n",
       "| 1997-01-01    | Algeria       | 313.45        | 254.08        | 609.35        | 285.31        | 341.36        | 170.16        | 870.14        | 56            | ...           | 1             | 0             | 0             |  0.70164311   | 79.9359       | 0.001822458   | 0.7359829     | High          | 1997          | 0.04269026    | \n",
       "| 1997-01-01    | South Africa  | 313.45        | 254.08        | 609.35        | 285.31        | 341.36        | 170.16        | 870.14        | 79            | ...           | 0             | 0             | 0             |  0.98816890   | 79.9359       | 0.001837309   | 0.7371534     | High          | 1997          | 0.04286384    | \n",
       "| 1997-01-01    | Uganda        | 313.45        | 254.08        | 609.35        | 285.31        | 341.36        | 170.16        | 870.14        | 53            | ...           | 1             | 0             | 0             |  0.07549572   | 79.9359       | 0.001940203   | 0.7469584     | High          | 1997          | 0.04404774    | \n",
       "| 1997-01-01    | Guinea Bissau | 313.45        | 254.08        | 609.35        | 285.31        | 341.36        | 170.16        | 870.14        | 58            | ...           | 0             | 0             | 0             |  0.04635003   | 79.9359       | 0.002256377   | 0.7715377     | High          | 1997          | 0.04750134    | \n",
       "| 1997-01-01    | Liberia       | 313.45        | 254.08        | 609.35        | 285.31        | 341.36        | 170.16        | 870.14        | 58            | ...           | 0             | 0             | 0             | -0.27843896   | 79.9359       | 0.002272123   | 0.7725644     | High          | 1997          | 0.04766679    | \n",
       "\n",
       "\n"
      ],
      "text/plain": [
       "  date       country       commodities commodities_excl_energy energy minerals\n",
       "1 1997-01-01 Angola        313.45      254.08                  609.35 285.31  \n",
       "2 1997-01-01 Algeria       313.45      254.08                  609.35 285.31  \n",
       "3 1997-01-01 South Africa  313.45      254.08                  609.35 285.31  \n",
       "4 1997-01-01 Uganda        313.45      254.08                  609.35 285.31  \n",
       "5 1997-01-01 Guinea Bissau 313.45      254.08                  609.35 285.31  \n",
       "6 1997-01-01 Liberia       313.45      254.08                  609.35 285.31  \n",
       "  forestry agriculture fish   age ... prev_conflict pt_suc pt_attempt\n",
       "1 341.36   170.16      870.14 55  ... 1             0      0         \n",
       "2 341.36   170.16      870.14 56  ... 1             0      0         \n",
       "3 341.36   170.16      870.14 79  ... 0             0      0         \n",
       "4 341.36   170.16      870.14 53  ... 1             0      0         \n",
       "5 341.36   170.16      870.14 58  ... 0             0      0         \n",
       "6 341.36   170.16      870.14 58  ... 0             0      0         \n",
       "  precip      global_policy_uncertainty_current couprisk    pctile_risk\n",
       "1 -0.41474915 79.9359                           0.001705101 0.7225125  \n",
       "2  0.70164311 79.9359                           0.001822458 0.7359829  \n",
       "3  0.98816890 79.9359                           0.001837309 0.7371534  \n",
       "4  0.07549572 79.9359                           0.001940203 0.7469584  \n",
       "5  0.04635003 79.9359                           0.002256377 0.7715377  \n",
       "6 -0.27843896 79.9359                           0.002272123 0.7725644  \n",
       "  relative_risk_classification Year coupriskSQRT\n",
       "1 High                         1997 0.04129287  \n",
       "2 High                         1997 0.04269026  \n",
       "3 High                         1997 0.04286384  \n",
       "4 High                         1997 0.04404774  \n",
       "5 High                         1997 0.04750134  \n",
       "6 High                         1997 0.04766679  "
      ]
     },
     "metadata": {},
     "output_type": "display_data"
    }
   ],
   "source": [
    "head(coups)"
   ]
  },
  {
   "cell_type": "code",
   "execution_count": 24,
   "metadata": {},
   "outputs": [
    {
     "data": {
      "image/png": "[encoded data removed]",
      "text/plain": [
       "Plot with title \"\""
      ]
     },
     "metadata": {},
     "output_type": "display_data"
    }
   ],
   "source": [
    "plotNormalHistogram(coups$coupriskSQRT)"
   ]
  },
  {
   "cell_type": "markdown",
   "metadata": {},
   "source": [
    "*That looks approximately normal! Let's see if you can take it all the way home, or you'll stop there.*"
   ]
  },
  {
   "cell_type": "code",
   "execution_count": 25,
   "metadata": {},
   "outputs": [],
   "source": [
    "coups$coupriskLOG <- log(coups$couprisk)"
   ]
  },
  {
   "cell_type": "code",
   "execution_count": 26,
   "metadata": {},
   "outputs": [
    {
     "data": {
      "image/png": "[encoded data removed]",
      "text/plain": [
       "Plot with title \"\""
      ]
     },
     "metadata": {},
     "output_type": "display_data"
    }
   ],
   "source": [
    "plotNormalHistogram(coups$coupriskLOG)"
   ]
  },
  {
   "cell_type": "markdown",
   "metadata": {},
   "source": [
    "*Absolutely beautiful! You will want to stick with the log then. Your data now meets the assumption of normality. Time to move on to testing for homogeneity of variance.*"
   ]
  },
  {
   "cell_type": "markdown",
   "metadata": {},
   "source": [
    "### Homogeneity of Variance"
   ]
  },
  {
   "cell_type": "code",
   "execution_count": 27,
   "metadata": {},
   "outputs": [
    {
     "data": {
      "text/html": [
       "<table>\n",
       "<thead><tr><th></th><th scope=col>Df</th><th scope=col>F value</th><th scope=col>Pr(&gt;F)</th></tr></thead>\n",
       "<tbody>\n",
       "\t<tr><th scope=row>group</th><td> 1111   </td><td>6.200478</td><td> 0      </td></tr>\n",
       "\t<tr><th scope=row> </th><td>11925   </td><td>      NA</td><td>NA      </td></tr>\n",
       "</tbody>\n",
       "</table>\n"
      ],
      "text/latex": [
       "\\begin{tabular}{r|lll}\n",
       "  & Df & F value & Pr(>F)\\\\\n",
       "\\hline\n",
       "\tgroup &  1111    & 6.200478 &  0      \\\\\n",
       "\t  & 11925    &       NA & NA      \\\\\n",
       "\\end{tabular}\n"
      ],
      "text/markdown": [
       "\n",
       "| <!--/--> | Df | F value | Pr(>F) | \n",
       "|---|---|\n",
       "| group |  1111    | 6.200478 |  0       | \n",
       "|   | 11925    |       NA | NA       | \n",
       "\n",
       "\n"
      ],
      "text/plain": [
       "      Df    F value  Pr(>F)\n",
       "group  1111 6.200478  0    \n",
       "      11925       NA NA    "
      ]
     },
     "metadata": {},
     "output_type": "display_data"
    }
   ],
   "source": [
    "leveneTest(couprisk ~ country*Year, data=coups)"
   ]
  },
  {
   "cell_type": "markdown",
   "metadata": {},
   "source": [
    "*Since the p value is zero, this indicates significance, which means you have violated the assumption of homogeneity of variance.*"
   ]
  },
  {
   "cell_type": "markdown",
   "metadata": {},
   "source": [
    "### Sample Size"
   ]
  },
  {
   "cell_type": "markdown",
   "metadata": {},
   "source": [
    "*The same sample size requirements are put in place for repeated measures ANOVAs as any other ANOVA variation - you need at least 20 cases per independent variable. Since you only have one variable, you are good to go! It's now time to actually run your analysis.*\n",
    "\n",
    "*You will still use the aov function.  However, you are adding a component here - Error, by country.  Basically, you are telling R that there is a within subjects factor that is repeated in the data, and that factor is country. Calll a summary, and take a peek at your results.*"
   ]
  },
  {
   "cell_type": "markdown",
   "metadata": {},
   "source": [
    "# End video 1 here!"
   ]
  },
  {
   "cell_type": "markdown",
   "metadata": {},
   "source": [
    "## Running the Analysis"
   ]
  },
  {
   "cell_type": "code",
   "execution_count": 17,
   "metadata": {},
   "outputs": [
    {
     "data": {
      "text/plain": [
       "\n",
       "Error: country\n",
       "          Df  Sum Sq  Mean Sq F value Pr(>F)  \n",
       "Year      22 0.05205 0.002366   2.146 0.0319 *\n",
       "Residuals 26 0.02867 0.001103                 \n",
       "---\n",
       "Signif. codes:  0 '***' 0.001 '**' 0.01 '*' 0.05 '.' 0.1 ' ' 1\n",
       "\n",
       "Error: Within\n",
       "             Df  Sum Sq   Mean Sq F value Pr(>F)    \n",
       "Year         22 0.01635 0.0007433   50.91 <2e-16 ***\n",
       "Residuals 12966 0.18931 0.0000146                   \n",
       "---\n",
       "Signif. codes:  0 '***' 0.001 '**' 0.01 '*' 0.05 '.' 0.1 ' ' 1"
      ]
     },
     "metadata": {},
     "output_type": "display_data"
    }
   ],
   "source": [
    "RManova <- aov(couprisk~Year+Error(country), coups2)\n",
    "summary(RManova)"
   ]
  },
  {
   "cell_type": "markdown",
   "metadata": {},
   "source": [
    "*Alright, this is significant! But how do you know whether the risk of a coup in these countries was rising or falling over the years? You can just look at their means. With some of the other ANOVAs, you might do a post hoc, but here, you can just look at the means per year to see if it is trending upward or downward, using good old dplyr.*"
   ]
  },
  {
   "cell_type": "code",
   "execution_count": 33,
   "metadata": {},
   "outputs": [],
   "source": [
    "coupsMeans <- coups2 %>% group_by(Year) %>% summarize(Mean = mean(couprisk))"
   ]
  },
  {
   "cell_type": "code",
   "execution_count": 34,
   "metadata": {},
   "outputs": [
    {
     "data": {
      "text/html": [
       "<table>\n",
       "<thead><tr><th scope=col>Year</th><th scope=col>Mean</th></tr></thead>\n",
       "<tbody>\n",
       "\t<tr><td>1997       </td><td>0.005219185</td></tr>\n",
       "\t<tr><td>1998       </td><td>0.005546915</td></tr>\n",
       "\t<tr><td>1999       </td><td>0.005291660</td></tr>\n",
       "\t<tr><td>2000       </td><td>0.005385254</td></tr>\n",
       "\t<tr><td>2001       </td><td>0.004213157</td></tr>\n",
       "\t<tr><td>2002       </td><td>0.003728586</td></tr>\n",
       "\t<tr><td>2003       </td><td>0.004147628</td></tr>\n",
       "\t<tr><td>2004       </td><td>0.003141885</td></tr>\n",
       "\t<tr><td>2005       </td><td>0.003184883</td></tr>\n",
       "\t<tr><td>2006       </td><td>0.002405200</td></tr>\n",
       "\t<tr><td>2007       </td><td>0.001817295</td></tr>\n",
       "\t<tr><td>2008       </td><td>0.002073958</td></tr>\n",
       "\t<tr><td>2009       </td><td>0.003237862</td></tr>\n",
       "\t<tr><td>2010       </td><td>0.002391435</td></tr>\n",
       "\t<tr><td>2011       </td><td>0.002485121</td></tr>\n",
       "\t<tr><td>2012       </td><td>0.003103010</td></tr>\n",
       "\t<tr><td>2013       </td><td>0.002834973</td></tr>\n",
       "\t<tr><td>2014       </td><td>0.002712851</td></tr>\n",
       "\t<tr><td>2015       </td><td>0.003094155</td></tr>\n",
       "\t<tr><td>2016       </td><td>0.002422512</td></tr>\n",
       "\t<tr><td>2017       </td><td>0.002487058</td></tr>\n",
       "\t<tr><td>2018       </td><td>0.002460637</td></tr>\n",
       "\t<tr><td>2019       </td><td>0.004063217</td></tr>\n",
       "</tbody>\n",
       "</table>\n"
      ],
      "text/latex": [
       "\\begin{tabular}{r|ll}\n",
       " Year & Mean\\\\\n",
       "\\hline\n",
       "\t 1997        & 0.005219185\\\\\n",
       "\t 1998        & 0.005546915\\\\\n",
       "\t 1999        & 0.005291660\\\\\n",
       "\t 2000        & 0.005385254\\\\\n",
       "\t 2001        & 0.004213157\\\\\n",
       "\t 2002        & 0.003728586\\\\\n",
       "\t 2003        & 0.004147628\\\\\n",
       "\t 2004        & 0.003141885\\\\\n",
       "\t 2005        & 0.003184883\\\\\n",
       "\t 2006        & 0.002405200\\\\\n",
       "\t 2007        & 0.001817295\\\\\n",
       "\t 2008        & 0.002073958\\\\\n",
       "\t 2009        & 0.003237862\\\\\n",
       "\t 2010        & 0.002391435\\\\\n",
       "\t 2011        & 0.002485121\\\\\n",
       "\t 2012        & 0.003103010\\\\\n",
       "\t 2013        & 0.002834973\\\\\n",
       "\t 2014        & 0.002712851\\\\\n",
       "\t 2015        & 0.003094155\\\\\n",
       "\t 2016        & 0.002422512\\\\\n",
       "\t 2017        & 0.002487058\\\\\n",
       "\t 2018        & 0.002460637\\\\\n",
       "\t 2019        & 0.004063217\\\\\n",
       "\\end{tabular}\n"
      ],
      "text/markdown": [
       "\n",
       "Year | Mean | \n",
       "|---|---|---|---|---|---|---|---|---|---|---|---|---|---|---|---|---|---|---|---|---|---|---|\n",
       "| 1997        | 0.005219185 | \n",
       "| 1998        | 0.005546915 | \n",
       "| 1999        | 0.005291660 | \n",
       "| 2000        | 0.005385254 | \n",
       "| 2001        | 0.004213157 | \n",
       "| 2002        | 0.003728586 | \n",
       "| 2003        | 0.004147628 | \n",
       "| 2004        | 0.003141885 | \n",
       "| 2005        | 0.003184883 | \n",
       "| 2006        | 0.002405200 | \n",
       "| 2007        | 0.001817295 | \n",
       "| 2008        | 0.002073958 | \n",
       "| 2009        | 0.003237862 | \n",
       "| 2010        | 0.002391435 | \n",
       "| 2011        | 0.002485121 | \n",
       "| 2012        | 0.003103010 | \n",
       "| 2013        | 0.002834973 | \n",
       "| 2014        | 0.002712851 | \n",
       "| 2015        | 0.003094155 | \n",
       "| 2016        | 0.002422512 | \n",
       "| 2017        | 0.002487058 | \n",
       "| 2018        | 0.002460637 | \n",
       "| 2019        | 0.004063217 | \n",
       "\n",
       "\n"
      ],
      "text/plain": [
       "   Year Mean       \n",
       "1  1997 0.005219185\n",
       "2  1998 0.005546915\n",
       "3  1999 0.005291660\n",
       "4  2000 0.005385254\n",
       "5  2001 0.004213157\n",
       "6  2002 0.003728586\n",
       "7  2003 0.004147628\n",
       "8  2004 0.003141885\n",
       "9  2005 0.003184883\n",
       "10 2006 0.002405200\n",
       "11 2007 0.001817295\n",
       "12 2008 0.002073958\n",
       "13 2009 0.003237862\n",
       "14 2010 0.002391435\n",
       "15 2011 0.002485121\n",
       "16 2012 0.003103010\n",
       "17 2013 0.002834973\n",
       "18 2014 0.002712851\n",
       "19 2015 0.003094155\n",
       "20 2016 0.002422512\n",
       "21 2017 0.002487058\n",
       "22 2018 0.002460637\n",
       "23 2019 0.004063217"
      ]
     },
     "metadata": {},
     "output_type": "display_data"
    }
   ],
   "source": [
    "coupsMeans"
   ]
  },
  {
   "cell_type": "markdown",
   "metadata": {},
   "source": [
    "*Looks like although the risk was relatively small to begin with, less than 1%, it seems to be getting even smaller over the years, which is excellent.  Government stability is always a boon!*"
   ]
  },
  {
   "cell_type": "markdown",
   "metadata": {},
   "source": [
    "### Note to self, this is how to do it with lm, though it doesn't take into account error in the same way"
   ]
  },
  {
   "cell_type": "code",
   "execution_count": 30,
   "metadata": {},
   "outputs": [
    {
     "data": {
      "text/html": [
       "<table>\n",
       "<thead><tr><th></th><th scope=col>Df</th><th scope=col>Sum Sq</th><th scope=col>Mean Sq</th><th scope=col>F value</th><th scope=col>Pr(&gt;F)</th></tr></thead>\n",
       "<tbody>\n",
       "\t<tr><th scope=row>Year</th><td>   22        </td><td>0.01614822   </td><td>7.340099e-04 </td><td> 50.27216    </td><td>1.139242e-210</td></tr>\n",
       "\t<tr><th scope=row>country</th><td>   48        </td><td>0.08093219   </td><td>1.686087e-03 </td><td>115.47972    </td><td> 0.000000e+00</td></tr>\n",
       "\t<tr><th scope=row>Residuals</th><td>12966        </td><td>0.18931296   </td><td>1.460072e-05 </td><td>       NA    </td><td>           NA</td></tr>\n",
       "</tbody>\n",
       "</table>\n"
      ],
      "text/latex": [
       "\\begin{tabular}{r|lllll}\n",
       "  & Df & Sum Sq & Mean Sq & F value & Pr(>F)\\\\\n",
       "\\hline\n",
       "\tYear &    22         & 0.01614822    & 7.340099e-04  &  50.27216     & 1.139242e-210\\\\\n",
       "\tcountry &    48         & 0.08093219    & 1.686087e-03  & 115.47972     &  0.000000e+00\\\\\n",
       "\tResiduals & 12966         & 0.18931296    & 1.460072e-05  &        NA     &            NA\\\\\n",
       "\\end{tabular}\n"
      ],
      "text/markdown": [
       "\n",
       "| <!--/--> | Df | Sum Sq | Mean Sq | F value | Pr(>F) | \n",
       "|---|---|---|\n",
       "| Year |    22         | 0.01614822    | 7.340099e-04  |  50.27216     | 1.139242e-210 | \n",
       "| country |    48         | 0.08093219    | 1.686087e-03  | 115.47972     |  0.000000e+00 | \n",
       "| Residuals | 12966         | 0.18931296    | 1.460072e-05  |        NA     |            NA | \n",
       "\n",
       "\n"
      ],
      "text/plain": [
       "          Df    Sum Sq     Mean Sq      F value   Pr(>F)       \n",
       "Year         22 0.01614822 7.340099e-04  50.27216 1.139242e-210\n",
       "country      48 0.08093219 1.686087e-03 115.47972  0.000000e+00\n",
       "Residuals 12966 0.18931296 1.460072e-05        NA            NA"
      ]
     },
     "metadata": {},
     "output_type": "display_data"
    }
   ],
   "source": [
    "coupANOVA = lm(couprisk ~ Year + country, coups2)\n",
    "anova(coupANOVA)"
   ]
  },
  {
   "cell_type": "code",
   "execution_count": null,
   "metadata": {},
   "outputs": [],
   "source": []
  }
 ],
 "metadata": {
  "kernelspec": {
   "display_name": "R",
   "language": "R",
   "name": "ir"
  },
  "language_info": {
   "codemirror_mode": "r",
   "file_extension": ".r",
   "mimetype": "text/x-r-source",
   "name": "R",
   "pygments_lexer": "r",
   "version": "3.5.1"
  }
 },
 "nbformat": 4,
 "nbformat_minor": 2
}
