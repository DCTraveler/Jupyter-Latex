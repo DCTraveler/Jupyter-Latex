{
 "cells": [
  {
   "cell_type": "markdown",
   "metadata": {},
   "source": [
    "# To Determine whether the building status influences their ability to conform with disabilty regulations using an independent chi-square"
   ]
  },
  {
   "cell_type": "markdown",
   "metadata": {},
   "source": [
    "*The first thing that needs to be done is to import packages.  You'll only need pandas and stats from scipy*"
   ]
  },
  {
   "cell_type": "markdown",
   "metadata": {},
   "source": [
    "## Import Packages"
   ]
  },
  {
   "cell_type": "code",
   "execution_count": 2,
   "metadata": {},
   "outputs": [],
   "source": [
    "import pandas as pd\n",
    "from scipy import stats"
   ]
  },
  {
   "cell_type": "markdown",
   "metadata": {},
   "source": [
    "*Next, you will need to import your data. The data you'll be using today was collected from the U.S. Government about the condition their buildings are in.*"
   ]
  },
  {
   "cell_type": "markdown",
   "metadata": {},
   "source": [
    "## Import Data"
   ]
  },
  {
   "cell_type": "code",
   "execution_count": 3,
   "metadata": {},
   "outputs": [],
   "source": [
    "government_buildings = pd.read_csv('C:/Users/meredith.dodd/Documents/Data Science/105 Intermediate Statistics/Lesson 1/government_buildings.csv')"
   ]
  },
  {
   "cell_type": "code",
   "execution_count": 4,
   "metadata": {},
   "outputs": [
    {
     "data": {
      "text/html": [
       "<div>\n",
       "<style scoped>\n",
       "    .dataframe tbody tr th:only-of-type {\n",
       "        vertical-align: middle;\n",
       "    }\n",
       "\n",
       "    .dataframe tbody tr th {\n",
       "        vertical-align: top;\n",
       "    }\n",
       "\n",
       "    .dataframe thead th {\n",
       "        text-align: right;\n",
       "    }\n",
       "</style>\n",
       "<table border=\"1\" class=\"dataframe\">\n",
       "  <thead>\n",
       "    <tr style=\"text-align: right;\">\n",
       "      <th></th>\n",
       "      <th>Location Code</th>\n",
       "      <th>Region Code</th>\n",
       "      <th>Bldg Address1</th>\n",
       "      <th>Bldg Address2</th>\n",
       "      <th>Bldg City</th>\n",
       "      <th>Bldg County</th>\n",
       "      <th>Bldg State</th>\n",
       "      <th>Bldg Zip</th>\n",
       "      <th>Congressional District</th>\n",
       "      <th>Bldg Status</th>\n",
       "      <th>Property Type</th>\n",
       "      <th>Bldg ANSI Usable</th>\n",
       "      <th>Total Parking Spaces</th>\n",
       "      <th>Owned/Leased</th>\n",
       "      <th>Construction Date</th>\n",
       "      <th>Historical Type</th>\n",
       "      <th>Historical Status</th>\n",
       "      <th>ABA Accessibility Flag</th>\n",
       "    </tr>\n",
       "  </thead>\n",
       "  <tbody>\n",
       "    <tr>\n",
       "      <th>0</th>\n",
       "      <td>CT0013</td>\n",
       "      <td>1</td>\n",
       "      <td>135 HIGH ST</td>\n",
       "      <td></td>\n",
       "      <td>HARTFORD</td>\n",
       "      <td>HARTFORD</td>\n",
       "      <td>CT</td>\n",
       "      <td>61031125</td>\n",
       "      <td>1</td>\n",
       "      <td>ACTIVE</td>\n",
       "      <td>BUILDING</td>\n",
       "      <td>97072</td>\n",
       "      <td>29</td>\n",
       "      <td>OWNED</td>\n",
       "      <td>1-Jan-33</td>\n",
       "      <td>Field Not In Use</td>\n",
       "      <td>National Register Listed</td>\n",
       "      <td>Will Conform</td>\n",
       "    </tr>\n",
       "    <tr>\n",
       "      <th>1</th>\n",
       "      <td>CT0024</td>\n",
       "      <td>1</td>\n",
       "      <td>141 CHURCH ST</td>\n",
       "      <td>U.S. COURTHOUSE</td>\n",
       "      <td>NEW HAVEN</td>\n",
       "      <td>NEW HAVEN</td>\n",
       "      <td>CT</td>\n",
       "      <td>65102001</td>\n",
       "      <td>3</td>\n",
       "      <td>ACTIVE</td>\n",
       "      <td>BUILDING</td>\n",
       "      <td>69037</td>\n",
       "      <td>0</td>\n",
       "      <td>OWNED</td>\n",
       "      <td>1-Jan-19</td>\n",
       "      <td>Field Not In Use</td>\n",
       "      <td>National Register Listed</td>\n",
       "      <td>Will Conform</td>\n",
       "    </tr>\n",
       "    <tr>\n",
       "      <th>2</th>\n",
       "      <td>CT0047</td>\n",
       "      <td>1</td>\n",
       "      <td>135 GRAND ST</td>\n",
       "      <td></td>\n",
       "      <td>WATERBURY</td>\n",
       "      <td>NEW HAVEN</td>\n",
       "      <td>CT</td>\n",
       "      <td>67029998</td>\n",
       "      <td>5</td>\n",
       "      <td>ACTIVE</td>\n",
       "      <td>BUILDING</td>\n",
       "      <td>7442</td>\n",
       "      <td>2</td>\n",
       "      <td>LEASED</td>\n",
       "      <td>1-Jan-33</td>\n",
       "      <td>Field Not In Use</td>\n",
       "      <td>National Register Listed</td>\n",
       "      <td>Will Conform</td>\n",
       "    </tr>\n",
       "    <tr>\n",
       "      <th>3</th>\n",
       "      <td>CT0049</td>\n",
       "      <td>1</td>\n",
       "      <td>919 MAIN STREET</td>\n",
       "      <td></td>\n",
       "      <td>WILLIMANTIC</td>\n",
       "      <td>WINDHAM</td>\n",
       "      <td>CT</td>\n",
       "      <td>62269998</td>\n",
       "      <td>2</td>\n",
       "      <td>ACTIVE</td>\n",
       "      <td>BUILDING</td>\n",
       "      <td>198</td>\n",
       "      <td>0</td>\n",
       "      <td>LEASED</td>\n",
       "      <td>1-Jan-11</td>\n",
       "      <td>Field Not In Use</td>\n",
       "      <td>Not Evaluated</td>\n",
       "      <td>Will Conform</td>\n",
       "    </tr>\n",
       "    <tr>\n",
       "      <th>4</th>\n",
       "      <td>CT0053</td>\n",
       "      <td>1</td>\n",
       "      <td>450 MAIN ST</td>\n",
       "      <td></td>\n",
       "      <td>HARTFORD</td>\n",
       "      <td>HARTFORD</td>\n",
       "      <td>CT</td>\n",
       "      <td>61033022</td>\n",
       "      <td>1</td>\n",
       "      <td>ACTIVE</td>\n",
       "      <td>BUILDING</td>\n",
       "      <td>203358</td>\n",
       "      <td>103</td>\n",
       "      <td>OWNED</td>\n",
       "      <td>1-Jan-63</td>\n",
       "      <td>Field Not In Use</td>\n",
       "      <td>Evaluated - Not Historic</td>\n",
       "      <td>Will Conform</td>\n",
       "    </tr>\n",
       "  </tbody>\n",
       "</table>\n",
       "</div>"
      ],
      "text/plain": [
       "  Location Code  Region Code    Bldg Address1    Bldg Address2    Bldg City  \\\n",
       "0        CT0013            1      135 HIGH ST                      HARTFORD   \n",
       "1        CT0024            1    141 CHURCH ST  U.S. COURTHOUSE    NEW HAVEN   \n",
       "2        CT0047            1     135 GRAND ST                     WATERBURY   \n",
       "3        CT0049            1  919 MAIN STREET                   WILLIMANTIC   \n",
       "4        CT0053            1      450 MAIN ST                      HARTFORD   \n",
       "\n",
       "  Bldg County Bldg State  Bldg Zip Congressional District Bldg Status  \\\n",
       "0    HARTFORD         CT  61031125                      1      ACTIVE   \n",
       "1   NEW HAVEN         CT  65102001                      3      ACTIVE   \n",
       "2   NEW HAVEN         CT  67029998                      5      ACTIVE   \n",
       "3     WINDHAM         CT  62269998                      2      ACTIVE   \n",
       "4    HARTFORD         CT  61033022                      1      ACTIVE   \n",
       "\n",
       "  Property Type  Bldg ANSI Usable  Total Parking Spaces Owned/Leased  \\\n",
       "0      BUILDING             97072                    29        OWNED   \n",
       "1      BUILDING             69037                     0        OWNED   \n",
       "2      BUILDING              7442                     2       LEASED   \n",
       "3      BUILDING               198                     0       LEASED   \n",
       "4      BUILDING            203358                   103        OWNED   \n",
       "\n",
       "  Construction Date   Historical Type         Historical Status  \\\n",
       "0          1-Jan-33  Field Not In Use  National Register Listed   \n",
       "1          1-Jan-19  Field Not In Use  National Register Listed   \n",
       "2          1-Jan-33  Field Not In Use  National Register Listed   \n",
       "3          1-Jan-11  Field Not In Use             Not Evaluated   \n",
       "4          1-Jan-63  Field Not In Use  Evaluated - Not Historic   \n",
       "\n",
       "  ABA Accessibility Flag   \n",
       "0            Will Conform  \n",
       "1            Will Conform  \n",
       "2            Will Conform  \n",
       "3            Will Conform  \n",
       "4            Will Conform  "
      ]
     },
     "execution_count": 4,
     "metadata": {},
     "output_type": "execute_result"
    }
   ],
   "source": [
    "government_buildings.head()"
   ]
  },
  {
   "cell_type": "markdown",
   "metadata": {},
   "source": [
    "*Next, you will need to create a crosstab, or contingency table, with the two variables you are interested in. Since your initial question was to see how the status of the buildings influences whether they conform with disability / accessibilty requirements, those are what you will specify in your crosstab below.  The table can easily be made by using the function from pandas .crosstab(). The arguments are just the data frame name and variable you are interested in. It's important to make a crosstab first because the code for doing chi-squares in python requires a crosstab, not raw data.* "
   ]
  },
  {
   "cell_type": "code",
   "execution_count": 6,
   "metadata": {},
   "outputs": [],
   "source": [
    "buildings_crosstab = pd.crosstab(government_buildings['Bldg Status'], government_buildings['ABA Accessibility Flag '])"
   ]
  },
  {
   "cell_type": "markdown",
   "metadata": {},
   "source": [
    "*And then, of course, you need to call it to view it. Kind of like calling a dog by name and it comes to you. Here you see the building status on the left side, and the information about disability, with the options of No, Will conform, and yes, along the top.  The numbers in the middle are how many met both conditions.  So, there are 332 active buildings that do not meet disdability accessibility standards, for instance.* "
   ]
  },
  {
   "cell_type": "code",
   "execution_count": 7,
   "metadata": {},
   "outputs": [
    {
     "data": {
      "text/html": [
       "<div>\n",
       "<style scoped>\n",
       "    .dataframe tbody tr th:only-of-type {\n",
       "        vertical-align: middle;\n",
       "    }\n",
       "\n",
       "    .dataframe tbody tr th {\n",
       "        vertical-align: top;\n",
       "    }\n",
       "\n",
       "    .dataframe thead th {\n",
       "        text-align: right;\n",
       "    }\n",
       "</style>\n",
       "<table border=\"1\" class=\"dataframe\">\n",
       "  <thead>\n",
       "    <tr style=\"text-align: right;\">\n",
       "      <th>ABA Accessibility Flag</th>\n",
       "      <th>No</th>\n",
       "      <th>Will Conform</th>\n",
       "      <th>Yes</th>\n",
       "    </tr>\n",
       "    <tr>\n",
       "      <th>Bldg Status</th>\n",
       "      <th></th>\n",
       "      <th></th>\n",
       "      <th></th>\n",
       "    </tr>\n",
       "  </thead>\n",
       "  <tbody>\n",
       "    <tr>\n",
       "      <th>ACTIVE</th>\n",
       "      <td>332</td>\n",
       "      <td>3980</td>\n",
       "      <td>4906</td>\n",
       "    </tr>\n",
       "    <tr>\n",
       "      <th>DECOMMISSIONED</th>\n",
       "      <td>0</td>\n",
       "      <td>12</td>\n",
       "      <td>1</td>\n",
       "    </tr>\n",
       "    <tr>\n",
       "      <th>EXCESS</th>\n",
       "      <td>5</td>\n",
       "      <td>45</td>\n",
       "      <td>11</td>\n",
       "    </tr>\n",
       "  </tbody>\n",
       "</table>\n",
       "</div>"
      ],
      "text/plain": [
       "ABA Accessibility Flag    No  Will Conform   Yes\n",
       "Bldg Status                                     \n",
       "ACTIVE                   332          3980  4906\n",
       "DECOMMISSIONED             0            12     1\n",
       "EXCESS                     5            45    11"
      ]
     },
     "execution_count": 7,
     "metadata": {},
     "output_type": "execute_result"
    }
   ],
   "source": [
    "buildings_crosstab"
   ]
  },
  {
   "cell_type": "markdown",
   "metadata": {},
   "source": [
    "*Now that you have your crosstab, you are ready to utilize the function chi2_contingency() to run your independetnt chi-square. The only argument you need in the parentheses is the name of the crosstab you just created.*"
   ]
  },
  {
   "cell_type": "code",
   "execution_count": 8,
   "metadata": {},
   "outputs": [
    {
     "data": {
      "text/plain": [
       "(43.41998286049691,\n",
       " 8.466179848202505e-09,\n",
       " 4,\n",
       " array([[3.34316186e+02, 4.00484998e+03, 4.87883384e+03],\n",
       "        [4.71480844e-01, 5.64797675e+00, 6.88054240e+00],\n",
       "        [2.21233319e+00, 2.65020448e+01, 3.22856220e+01]]))"
      ]
     },
     "execution_count": 8,
     "metadata": {},
     "output_type": "execute_result"
    }
   ],
   "source": [
    "stats.chi2_contingency(buildings_crosstab)"
   ]
  },
  {
   "cell_type": "markdown",
   "metadata": {},
   "source": [
    "*And there you are.  The first number you get, 43.42, is the chi-square statistic. Then the second number you get is the p value for the chi-square.  If it is less than .05, then there is a significant influence of building status on conforming with disability accessibility standards.  In this case, your p value is smaller than .05, since this is written in scientific notation.  Your p value is very, very small.*"
   ]
  },
  {
   "cell_type": "markdown",
   "metadata": {},
   "source": [
    "*The array portion down below shows the expected counts in the cells.  This is what would happen if there was NO relationshipo between the variables. You want all the values to be over 5 in order to meet the assumption for your chi-square. Not all of them are - see the left middle value, which has an expected count of .04? That means that it wasn't really appropriate to run this analysis, and that you should either proceed with things with EXTREME caution or you should try and look at different variables, run a different test, or somehow augment your sample size.* "
   ]
  },
  {
   "cell_type": "code",
   "execution_count": null,
   "metadata": {},
   "outputs": [],
   "source": []
  }
 ],
 "metadata": {
  "kernelspec": {
   "display_name": "Python 3",
   "language": "python",
   "name": "python3"
  },
  "language_info": {
   "codemirror_mode": {
    "name": "ipython",
    "version": 3
   },
   "file_extension": ".py",
   "mimetype": "text/x-python",
   "name": "python",
   "nbconvert_exporter": "python",
   "pygments_lexer": "ipython3",
   "version": "3.6.5"
  }
 },
 "nbformat": 4,
 "nbformat_minor": 2
}
