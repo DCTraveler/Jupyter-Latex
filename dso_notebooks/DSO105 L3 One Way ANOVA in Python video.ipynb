{
 "cells": [
  {
   "cell_type": "markdown",
   "metadata": {},
   "source": [
    "# Determine whether staff member at a salon has any effect on the average price for an appointment"
   ]
  },
  {
   "cell_type": "markdown",
   "metadata": {},
   "source": [
    "*Now it's time to dive into ANOVAs in Python. A word to the wise, however - if you need advanced ANOVA capabilities, Python is not the tool for you.  Much better to flip over into R should you find yourself needing more than a down and dirty look via ANOVA. You will answer the same question and use the same data as you did in R, to give you a nice comparison of how the two programs function differently.*\n",
    "\n",
    "*Where to start? Why, by importing packages, of course! You will need a whole variety of them, including pandas for basic data functions, numpy for any data transformations you may need to embark upon, scipy and stats for their statistics, and then a few specific things from them, including pairwise_tukeyhsd and MultiComparison* "
   ]
  },
  {
   "cell_type": "markdown",
   "metadata": {},
   "source": [
    "## Import Packages"
   ]
  },
  {
   "cell_type": "code",
   "execution_count": 5,
   "metadata": {},
   "outputs": [],
   "source": [
    "import pandas as pd\n",
    "import numpy as np\n",
    "import scipy\n",
    "import seaborn as sns\n",
    "from scipy import stats\n",
    "from statsmodels.stats.multicomp import pairwise_tukeyhsd\n",
    "from statsmodels.stats.multicomp import MultiComparison"
   ]
  },
  {
   "cell_type": "markdown",
   "metadata": {},
   "source": [
    "## Import Data"
   ]
  },
  {
   "cell_type": "code",
   "execution_count": 3,
   "metadata": {},
   "outputs": [],
   "source": [
    "salon = pd.read_csv('C:/Users/meredith.dodd/Documents/Data Science/105 Intermediate Statistics/Lesson 3/client_cancellations.csv')"
   ]
  },
  {
   "cell_type": "code",
   "execution_count": 4,
   "metadata": {},
   "outputs": [
    {
     "data": {
      "text/html": [
       "<div>\n",
       "<style scoped>\n",
       "    .dataframe tbody tr th:only-of-type {\n",
       "        vertical-align: middle;\n",
       "    }\n",
       "\n",
       "    .dataframe tbody tr th {\n",
       "        vertical-align: top;\n",
       "    }\n",
       "\n",
       "    .dataframe thead th {\n",
       "        text-align: right;\n",
       "    }\n",
       "</style>\n",
       "<table border=\"1\" class=\"dataframe\">\n",
       "  <thead>\n",
       "    <tr style=\"text-align: right;\">\n",
       "      <th></th>\n",
       "      <th>cancel date</th>\n",
       "      <th>cancel date month</th>\n",
       "      <th>code</th>\n",
       "      <th>service code</th>\n",
       "      <th>service desc</th>\n",
       "      <th>staff</th>\n",
       "      <th>booking date</th>\n",
       "      <th>booking date month</th>\n",
       "      <th>canceled by</th>\n",
       "      <th>days in adv</th>\n",
       "      <th>avg price</th>\n",
       "    </tr>\n",
       "  </thead>\n",
       "  <tbody>\n",
       "    <tr>\n",
       "      <th>0</th>\n",
       "      <td>3/10/2018</td>\n",
       "      <td>March</td>\n",
       "      <td>KOOM01</td>\n",
       "      <td>SHCW</td>\n",
       "      <td>Women's hair cut</td>\n",
       "      <td>JJ</td>\n",
       "      <td>4/3/2018</td>\n",
       "      <td>April</td>\n",
       "      <td>JJ</td>\n",
       "      <td>24</td>\n",
       "      <td>88.44</td>\n",
       "    </tr>\n",
       "    <tr>\n",
       "      <th>1</th>\n",
       "      <td>3/27/2018</td>\n",
       "      <td>March</td>\n",
       "      <td>WIL*01</td>\n",
       "      <td>SHCW</td>\n",
       "      <td>Women's hair cut</td>\n",
       "      <td>JJ</td>\n",
       "      <td>3/29/2018</td>\n",
       "      <td>March</td>\n",
       "      <td>JJ</td>\n",
       "      <td>2</td>\n",
       "      <td>88.44</td>\n",
       "    </tr>\n",
       "    <tr>\n",
       "      <th>2</th>\n",
       "      <td>4/3/2018</td>\n",
       "      <td>April</td>\n",
       "      <td>BUDG02</td>\n",
       "      <td>SHCM</td>\n",
       "      <td>Men's hair cut</td>\n",
       "      <td>SINEAD</td>\n",
       "      <td>4/21/2018</td>\n",
       "      <td>April</td>\n",
       "      <td>BECKY</td>\n",
       "      <td>18</td>\n",
       "      <td>41.41</td>\n",
       "    </tr>\n",
       "    <tr>\n",
       "      <th>3</th>\n",
       "      <td>4/3/2018</td>\n",
       "      <td>April</td>\n",
       "      <td>HILJ01</td>\n",
       "      <td>CFC</td>\n",
       "      <td>Color full color</td>\n",
       "      <td>KELLY</td>\n",
       "      <td>4/3/2018</td>\n",
       "      <td>April</td>\n",
       "      <td>JJ</td>\n",
       "      <td>0</td>\n",
       "      <td>63.13</td>\n",
       "    </tr>\n",
       "    <tr>\n",
       "      <th>4</th>\n",
       "      <td>4/3/2018</td>\n",
       "      <td>April</td>\n",
       "      <td>STEM01</td>\n",
       "      <td>SHCW</td>\n",
       "      <td>Women's hair cut</td>\n",
       "      <td>BECKY</td>\n",
       "      <td>4/21/2018</td>\n",
       "      <td>April</td>\n",
       "      <td>JJ</td>\n",
       "      <td>18</td>\n",
       "      <td>67.84</td>\n",
       "    </tr>\n",
       "  </tbody>\n",
       "</table>\n",
       "</div>"
      ],
      "text/plain": [
       "  cancel date cancel date month    code service code      service desc  \\\n",
       "0   3/10/2018             March  KOOM01         SHCW  Women's hair cut   \n",
       "1   3/27/2018             March  WIL*01         SHCW  Women's hair cut   \n",
       "2    4/3/2018             April  BUDG02         SHCM    Men's hair cut   \n",
       "3    4/3/2018             April  HILJ01          CFC  Color full color   \n",
       "4    4/3/2018             April  STEM01         SHCW  Women's hair cut   \n",
       "\n",
       "    staff booking date booking date month canceled by  days in adv  avg price  \n",
       "0      JJ     4/3/2018              April          JJ           24      88.44  \n",
       "1      JJ    3/29/2018              March          JJ            2      88.44  \n",
       "2  SINEAD    4/21/2018              April       BECKY           18      41.41  \n",
       "3   KELLY     4/3/2018              April          JJ            0      63.13  \n",
       "4   BECKY    4/21/2018              April          JJ           18      67.84  "
      ]
     },
     "execution_count": 4,
     "metadata": {},
     "output_type": "execute_result"
    }
   ],
   "source": [
    "salon.head()"
   ]
  },
  {
   "cell_type": "markdown",
   "metadata": {},
   "source": [
    "## Data Wrangling"
   ]
  },
  {
   "cell_type": "markdown",
   "metadata": {},
   "source": [
    "### Remove missing data"
   ]
  },
  {
   "cell_type": "code",
   "execution_count": 9,
   "metadata": {},
   "outputs": [],
   "source": [
    "salon.dropna(inplace=True)"
   ]
  },
  {
   "cell_type": "markdown",
   "metadata": {},
   "source": [
    "### Recoding your IV to numeric"
   ]
  },
  {
   "cell_type": "markdown",
   "metadata": {},
   "source": [
    "*In order to run your tests for homogeneity of variance, weirdly enough, in Python your IV has got to be numeric.  So it's time to break out those recoding skills again. Go ahead and use value_counts to get a list of all the levels of your IV.*"
   ]
  },
  {
   "cell_type": "code",
   "execution_count": 20,
   "metadata": {},
   "outputs": [
    {
     "data": {
      "text/plain": [
       "JJ        68\n",
       "BECKY     61\n",
       "JOANNE    45\n",
       "KELLY     44\n",
       "SINEAD    19\n",
       "TANYA      4\n",
       "Name: staff, dtype: int64"
      ]
     },
     "execution_count": 20,
     "metadata": {},
     "output_type": "execute_result"
    }
   ],
   "source": [
    "salon.staff.value_counts()"
   ]
  },
  {
   "cell_type": "markdown",
   "metadata": {},
   "source": [
    "*Then you can get to work recoding. The new recoded varaible will be called staffR, with the R at the end always standing for recode in my codebook.  Creating standards for yourself and your team about naming conventions can make your life a lot easier, and helps ensure that your data is interpretable by your fellows.*\n",
    "\n",
    "*Then just apply that bad boy and ensure it worked as expected.*"
   ]
  },
  {
   "cell_type": "code",
   "execution_count": 21,
   "metadata": {},
   "outputs": [],
   "source": [
    "def recode (series): \n",
    "    if series == \"JJ\":\n",
    "        return 0\n",
    "    if series == \"BECKY\": \n",
    "        return 1\n",
    "    if series == \"JOANNE\": \n",
    "        return 2\n",
    "    if series == \"KELLY\": \n",
    "        return 3\n",
    "    if series == \"SINEAD\": \n",
    "        return 4\n",
    "    if series == \"TANYA\": \n",
    "        return 5\n",
    "\n",
    "salon['staffR'] = salon['staff'].apply(recode)"
   ]
  },
  {
   "cell_type": "code",
   "execution_count": 22,
   "metadata": {},
   "outputs": [
    {
     "data": {
      "text/html": [
       "<div>\n",
       "<style scoped>\n",
       "    .dataframe tbody tr th:only-of-type {\n",
       "        vertical-align: middle;\n",
       "    }\n",
       "\n",
       "    .dataframe tbody tr th {\n",
       "        vertical-align: top;\n",
       "    }\n",
       "\n",
       "    .dataframe thead th {\n",
       "        text-align: right;\n",
       "    }\n",
       "</style>\n",
       "<table border=\"1\" class=\"dataframe\">\n",
       "  <thead>\n",
       "    <tr style=\"text-align: right;\">\n",
       "      <th></th>\n",
       "      <th>cancel date</th>\n",
       "      <th>cancel date month</th>\n",
       "      <th>code</th>\n",
       "      <th>service code</th>\n",
       "      <th>service desc</th>\n",
       "      <th>staff</th>\n",
       "      <th>booking date</th>\n",
       "      <th>booking date month</th>\n",
       "      <th>canceled by</th>\n",
       "      <th>days in adv</th>\n",
       "      <th>avg price</th>\n",
       "      <th>avgPriceSQRT</th>\n",
       "      <th>staffR</th>\n",
       "    </tr>\n",
       "  </thead>\n",
       "  <tbody>\n",
       "    <tr>\n",
       "      <th>0</th>\n",
       "      <td>3/10/2018</td>\n",
       "      <td>March</td>\n",
       "      <td>KOOM01</td>\n",
       "      <td>SHCW</td>\n",
       "      <td>Women's hair cut</td>\n",
       "      <td>JJ</td>\n",
       "      <td>4/3/2018</td>\n",
       "      <td>April</td>\n",
       "      <td>JJ</td>\n",
       "      <td>24</td>\n",
       "      <td>88.44</td>\n",
       "      <td>9.404254</td>\n",
       "      <td>0</td>\n",
       "    </tr>\n",
       "    <tr>\n",
       "      <th>1</th>\n",
       "      <td>3/27/2018</td>\n",
       "      <td>March</td>\n",
       "      <td>WIL*01</td>\n",
       "      <td>SHCW</td>\n",
       "      <td>Women's hair cut</td>\n",
       "      <td>JJ</td>\n",
       "      <td>3/29/2018</td>\n",
       "      <td>March</td>\n",
       "      <td>JJ</td>\n",
       "      <td>2</td>\n",
       "      <td>88.44</td>\n",
       "      <td>9.404254</td>\n",
       "      <td>0</td>\n",
       "    </tr>\n",
       "    <tr>\n",
       "      <th>2</th>\n",
       "      <td>4/3/2018</td>\n",
       "      <td>April</td>\n",
       "      <td>BUDG02</td>\n",
       "      <td>SHCM</td>\n",
       "      <td>Men's hair cut</td>\n",
       "      <td>SINEAD</td>\n",
       "      <td>4/21/2018</td>\n",
       "      <td>April</td>\n",
       "      <td>BECKY</td>\n",
       "      <td>18</td>\n",
       "      <td>41.41</td>\n",
       "      <td>6.435060</td>\n",
       "      <td>4</td>\n",
       "    </tr>\n",
       "    <tr>\n",
       "      <th>3</th>\n",
       "      <td>4/3/2018</td>\n",
       "      <td>April</td>\n",
       "      <td>HILJ01</td>\n",
       "      <td>CFC</td>\n",
       "      <td>Color full color</td>\n",
       "      <td>KELLY</td>\n",
       "      <td>4/3/2018</td>\n",
       "      <td>April</td>\n",
       "      <td>JJ</td>\n",
       "      <td>0</td>\n",
       "      <td>63.13</td>\n",
       "      <td>7.945439</td>\n",
       "      <td>3</td>\n",
       "    </tr>\n",
       "    <tr>\n",
       "      <th>4</th>\n",
       "      <td>4/3/2018</td>\n",
       "      <td>April</td>\n",
       "      <td>STEM01</td>\n",
       "      <td>SHCW</td>\n",
       "      <td>Women's hair cut</td>\n",
       "      <td>BECKY</td>\n",
       "      <td>4/21/2018</td>\n",
       "      <td>April</td>\n",
       "      <td>JJ</td>\n",
       "      <td>18</td>\n",
       "      <td>67.84</td>\n",
       "      <td>8.236504</td>\n",
       "      <td>1</td>\n",
       "    </tr>\n",
       "  </tbody>\n",
       "</table>\n",
       "</div>"
      ],
      "text/plain": [
       "  cancel date cancel date month    code service code      service desc  \\\n",
       "0   3/10/2018             March  KOOM01         SHCW  Women's hair cut   \n",
       "1   3/27/2018             March  WIL*01         SHCW  Women's hair cut   \n",
       "2    4/3/2018             April  BUDG02         SHCM    Men's hair cut   \n",
       "3    4/3/2018             April  HILJ01          CFC  Color full color   \n",
       "4    4/3/2018             April  STEM01         SHCW  Women's hair cut   \n",
       "\n",
       "    staff booking date booking date month canceled by  days in adv  avg price  \\\n",
       "0      JJ     4/3/2018              April          JJ           24      88.44   \n",
       "1      JJ    3/29/2018              March          JJ            2      88.44   \n",
       "2  SINEAD    4/21/2018              April       BECKY           18      41.41   \n",
       "3   KELLY     4/3/2018              April          JJ            0      63.13   \n",
       "4   BECKY    4/21/2018              April          JJ           18      67.84   \n",
       "\n",
       "   avgPriceSQRT  staffR  \n",
       "0      9.404254       0  \n",
       "1      9.404254       0  \n",
       "2      6.435060       4  \n",
       "3      7.945439       3  \n",
       "4      8.236504       1  "
      ]
     },
     "execution_count": 22,
     "metadata": {},
     "output_type": "execute_result"
    }
   ],
   "source": [
    "salon.head()"
   ]
  },
  {
   "cell_type": "markdown",
   "metadata": {},
   "source": [
    "## Test Assumptions"
   ]
  },
  {
   "cell_type": "markdown",
   "metadata": {},
   "source": [
    "### Normality"
   ]
  },
  {
   "cell_type": "markdown",
   "metadata": {},
   "source": [
    "*Next it's time to test assumptions.  You'll start with the assumption of normality, per usual.*"
   ]
  },
  {
   "cell_type": "code",
   "execution_count": 14,
   "metadata": {},
   "outputs": [
    {
     "name": "stderr",
     "output_type": "stream",
     "text": [
      "C:\\Users\\meredith.dodd\\Anaconda3\\lib\\site-packages\\matplotlib\\axes\\_axes.py:6462: UserWarning: The 'normed' kwarg is deprecated, and has been replaced by the 'density' kwarg.\n",
      "  warnings.warn(\"The 'normed' kwarg is deprecated, and has been \"\n"
     ]
    },
    {
     "data": {
      "text/plain": [
       "<matplotlib.axes._subplots.AxesSubplot at 0x28957a3c5c0>"
      ]
     },
     "execution_count": 14,
     "metadata": {},
     "output_type": "execute_result"
    },
    {
     "data": {
      "image/png": "[encoded data removed]",
      "text/plain": [
       "<Figure size 432x288 with 1 Axes>"
      ]
     },
     "metadata": {},
     "output_type": "display_data"
    }
   ],
   "source": [
    "sns.distplot(salon['avg price'])"
   ]
  },
  {
   "cell_type": "markdown",
   "metadata": {},
   "source": [
    "*It doesn't look terrible, but it is a little positively skewed, so try square rooting it using your friend numpy*"
   ]
  },
  {
   "cell_type": "code",
   "execution_count": 16,
   "metadata": {},
   "outputs": [],
   "source": [
    "salon['avgPriceSQRT'] = np.sqrt(salon['avg price'])"
   ]
  },
  {
   "cell_type": "markdown",
   "metadata": {},
   "source": [
    "*Then make sure that worked like you expected it to.*"
   ]
  },
  {
   "cell_type": "code",
   "execution_count": 17,
   "metadata": {},
   "outputs": [
    {
     "data": {
      "text/html": [
       "<div>\n",
       "<style scoped>\n",
       "    .dataframe tbody tr th:only-of-type {\n",
       "        vertical-align: middle;\n",
       "    }\n",
       "\n",
       "    .dataframe tbody tr th {\n",
       "        vertical-align: top;\n",
       "    }\n",
       "\n",
       "    .dataframe thead th {\n",
       "        text-align: right;\n",
       "    }\n",
       "</style>\n",
       "<table border=\"1\" class=\"dataframe\">\n",
       "  <thead>\n",
       "    <tr style=\"text-align: right;\">\n",
       "      <th></th>\n",
       "      <th>cancel date</th>\n",
       "      <th>cancel date month</th>\n",
       "      <th>code</th>\n",
       "      <th>service code</th>\n",
       "      <th>service desc</th>\n",
       "      <th>staff</th>\n",
       "      <th>booking date</th>\n",
       "      <th>booking date month</th>\n",
       "      <th>canceled by</th>\n",
       "      <th>days in adv</th>\n",
       "      <th>avg price</th>\n",
       "      <th>avgPriceSQRT</th>\n",
       "    </tr>\n",
       "  </thead>\n",
       "  <tbody>\n",
       "    <tr>\n",
       "      <th>0</th>\n",
       "      <td>3/10/2018</td>\n",
       "      <td>March</td>\n",
       "      <td>KOOM01</td>\n",
       "      <td>SHCW</td>\n",
       "      <td>Women's hair cut</td>\n",
       "      <td>JJ</td>\n",
       "      <td>4/3/2018</td>\n",
       "      <td>April</td>\n",
       "      <td>JJ</td>\n",
       "      <td>24</td>\n",
       "      <td>88.44</td>\n",
       "      <td>9.404254</td>\n",
       "    </tr>\n",
       "    <tr>\n",
       "      <th>1</th>\n",
       "      <td>3/27/2018</td>\n",
       "      <td>March</td>\n",
       "      <td>WIL*01</td>\n",
       "      <td>SHCW</td>\n",
       "      <td>Women's hair cut</td>\n",
       "      <td>JJ</td>\n",
       "      <td>3/29/2018</td>\n",
       "      <td>March</td>\n",
       "      <td>JJ</td>\n",
       "      <td>2</td>\n",
       "      <td>88.44</td>\n",
       "      <td>9.404254</td>\n",
       "    </tr>\n",
       "    <tr>\n",
       "      <th>2</th>\n",
       "      <td>4/3/2018</td>\n",
       "      <td>April</td>\n",
       "      <td>BUDG02</td>\n",
       "      <td>SHCM</td>\n",
       "      <td>Men's hair cut</td>\n",
       "      <td>SINEAD</td>\n",
       "      <td>4/21/2018</td>\n",
       "      <td>April</td>\n",
       "      <td>BECKY</td>\n",
       "      <td>18</td>\n",
       "      <td>41.41</td>\n",
       "      <td>6.435060</td>\n",
       "    </tr>\n",
       "    <tr>\n",
       "      <th>3</th>\n",
       "      <td>4/3/2018</td>\n",
       "      <td>April</td>\n",
       "      <td>HILJ01</td>\n",
       "      <td>CFC</td>\n",
       "      <td>Color full color</td>\n",
       "      <td>KELLY</td>\n",
       "      <td>4/3/2018</td>\n",
       "      <td>April</td>\n",
       "      <td>JJ</td>\n",
       "      <td>0</td>\n",
       "      <td>63.13</td>\n",
       "      <td>7.945439</td>\n",
       "    </tr>\n",
       "    <tr>\n",
       "      <th>4</th>\n",
       "      <td>4/3/2018</td>\n",
       "      <td>April</td>\n",
       "      <td>STEM01</td>\n",
       "      <td>SHCW</td>\n",
       "      <td>Women's hair cut</td>\n",
       "      <td>BECKY</td>\n",
       "      <td>4/21/2018</td>\n",
       "      <td>April</td>\n",
       "      <td>JJ</td>\n",
       "      <td>18</td>\n",
       "      <td>67.84</td>\n",
       "      <td>8.236504</td>\n",
       "    </tr>\n",
       "  </tbody>\n",
       "</table>\n",
       "</div>"
      ],
      "text/plain": [
       "  cancel date cancel date month    code service code      service desc  \\\n",
       "0   3/10/2018             March  KOOM01         SHCW  Women's hair cut   \n",
       "1   3/27/2018             March  WIL*01         SHCW  Women's hair cut   \n",
       "2    4/3/2018             April  BUDG02         SHCM    Men's hair cut   \n",
       "3    4/3/2018             April  HILJ01          CFC  Color full color   \n",
       "4    4/3/2018             April  STEM01         SHCW  Women's hair cut   \n",
       "\n",
       "    staff booking date booking date month canceled by  days in adv  avg price  \\\n",
       "0      JJ     4/3/2018              April          JJ           24      88.44   \n",
       "1      JJ    3/29/2018              March          JJ            2      88.44   \n",
       "2  SINEAD    4/21/2018              April       BECKY           18      41.41   \n",
       "3   KELLY     4/3/2018              April          JJ            0      63.13   \n",
       "4   BECKY    4/21/2018              April          JJ           18      67.84   \n",
       "\n",
       "   avgPriceSQRT  \n",
       "0      9.404254  \n",
       "1      9.404254  \n",
       "2      6.435060  \n",
       "3      7.945439  \n",
       "4      8.236504  "
      ]
     },
     "execution_count": 17,
     "metadata": {},
     "output_type": "execute_result"
    }
   ],
   "source": [
    "salon.head()"
   ]
  },
  {
   "cell_type": "markdown",
   "metadata": {},
   "source": [
    "*And it did. Trust me, this is a good checks and balances, because sometimes you can have code run without errors that does not do what you think it does.  It is always good to check and have some visual confirmation.*"
   ]
  },
  {
   "cell_type": "markdown",
   "metadata": {},
   "source": [
    "*Now take a look at your graph again to see if it transformed enough.*"
   ]
  },
  {
   "cell_type": "code",
   "execution_count": 18,
   "metadata": {},
   "outputs": [
    {
     "name": "stderr",
     "output_type": "stream",
     "text": [
      "C:\\Users\\meredith.dodd\\Anaconda3\\lib\\site-packages\\matplotlib\\axes\\_axes.py:6462: UserWarning: The 'normed' kwarg is deprecated, and has been replaced by the 'density' kwarg.\n",
      "  warnings.warn(\"The 'normed' kwarg is deprecated, and has been \"\n"
     ]
    },
    {
     "data": {
      "text/plain": [
       "<matplotlib.axes._subplots.AxesSubplot at 0x28957b7af98>"
      ]
     },
     "execution_count": 18,
     "metadata": {},
     "output_type": "execute_result"
    },
    {
     "data": {
      "image/png": "[encoded data removed]",
      "text/plain": [
       "<Figure size 432x288 with 1 Axes>"
      ]
     },
     "metadata": {},
     "output_type": "display_data"
    }
   ],
   "source": [
    "sns.distplot(salon['avgPriceSQRT'])"
   ]
  },
  {
   "cell_type": "markdown",
   "metadata": {},
   "source": [
    "### Homogeneity of Variance"
   ]
  },
  {
   "cell_type": "markdown",
   "metadata": {},
   "source": [
    "*Looking good! You'll take it. Now onto other fun things, like testing for homogeneity of variance. Again, you have the option in Python of doing either Bartlett's test or fligner's test.  Bartlett's is for when your data is normally distributed, naturally or artifically after transformation, and fligner's test is for when your data is non-parametric.  Just to demonstrate, you'll do both here, but the correct choice would be bartlett's, because your data does look approximately normal now.*"
   ]
  },
  {
   "cell_type": "code",
   "execution_count": 24,
   "metadata": {},
   "outputs": [
    {
     "data": {
      "text/plain": [
       "BartlettResult(statistic=85.27913423862961, pvalue=2.59082839272849e-20)"
      ]
     },
     "execution_count": 24,
     "metadata": {},
     "output_type": "execute_result"
    }
   ],
   "source": [
    "scipy.stats.bartlett(salon['avgPriceSQRT'], salon['staffR'])"
   ]
  },
  {
   "cell_type": "markdown",
   "metadata": {},
   "source": [
    "*Just like in R, you find that this is signficant, which means you have violated the assumption of homogeneity of variance. Try the fligner test as well, just for funsies.*"
   ]
  },
  {
   "cell_type": "code",
   "execution_count": 25,
   "metadata": {},
   "outputs": [
    {
     "data": {
      "text/plain": [
       "FlignerResult(statistic=14.041888591291224, pvalue=0.00017878330489283094)"
      ]
     },
     "execution_count": 25,
     "metadata": {},
     "output_type": "execute_result"
    }
   ],
   "source": [
    "scipy.stats.fligner(salon['avgPriceSQRT'], salon['staffR'])"
   ]
  },
  {
   "cell_type": "markdown",
   "metadata": {},
   "source": [
    "*And here's the same concept, but with the fligner test. Again, significant.*"
   ]
  },
  {
   "cell_type": "markdown",
   "metadata": {},
   "source": [
    "### Sample size"
   ]
  },
  {
   "cell_type": "markdown",
   "metadata": {},
   "source": [
    "*Again, the required sample size for ANOVAs is based on the number of independent variables.  You need at least 20 cases per independent variable, and in this case, you have 244, so you meet the assumption with flying colors*"
   ]
  },
  {
   "cell_type": "markdown",
   "metadata": {},
   "source": [
    "### Independence"
   ]
  },
  {
   "cell_type": "markdown",
   "metadata": {},
   "source": [
    "*Although there is no way to test for independence, you want to think through your analysis and ensure that the different levels of your independent variable are not related in any way.*\n",
    "\n",
    "*Now you're on to your analysis! Unlike R, you will need to specify each comparison with all the levels, which makes this method a bit unwiedly.  If you need help remembering what levels you have, just go for .value_counts() again to put it at the forefront of your view. You will use the function stats.f_oneway.*"
   ]
  },
  {
   "cell_type": "code",
   "execution_count": 12,
   "metadata": {},
   "outputs": [
    {
     "data": {
      "text/plain": [
       "JJ        68\n",
       "BECKY     61\n",
       "JOANNE    45\n",
       "KELLY     44\n",
       "SINEAD    19\n",
       "TANYA      4\n",
       "Name: staff, dtype: int64"
      ]
     },
     "execution_count": 12,
     "metadata": {},
     "output_type": "execute_result"
    }
   ],
   "source": [
    "salon.staff.value_counts()"
   ]
  },
  {
   "cell_type": "code",
   "execution_count": 13,
   "metadata": {},
   "outputs": [
    {
     "data": {
      "text/plain": [
       "F_onewayResult(statistic=14.240380065681268, pvalue=3.553019748204266e-12)"
      ]
     },
     "execution_count": 13,
     "metadata": {},
     "output_type": "execute_result"
    }
   ],
   "source": [
    "stats.f_oneway(salon['avg price'][salon['staff']=='JJ'],\n",
    "               salon['avg price'][salon['staff']=='BECKY'],\n",
    "               salon['avg price'][salon['staff']=='JOANNE'],\n",
    "               salon['avg price'][salon['staff']=='KELLY'],\n",
    "               salon['avg price'][salon['staff']=='SINEAD'], \n",
    "               salon['avg price'][salon['staff']=='TANYA'])"
   ]
  },
  {
   "cell_type": "markdown",
   "metadata": {},
   "source": [
    "*With that run, you find that there is a significant difference between staff members on how much their client is paying for services.  However, you don't know who is doing better than anyone else, so it's time to hit up the post hocs! In Python, the only post hoc that is easy to run is Tukey's, so you'll use that. It comes out of the MultiComparison library, and you'll use the postHoc.tukeyhsd function.  Fun fact - hsd stands for highly signficant difference!*"
   ]
  },
  {
   "cell_type": "code",
   "execution_count": 26,
   "metadata": {},
   "outputs": [
    {
     "name": "stdout",
     "output_type": "stream",
     "text": [
      "Multiple Comparison of Means - Tukey HSD,FWER=0.05\n",
      "=============================================\n",
      "group1 group2 meandiff  lower   upper  reject\n",
      "---------------------------------------------\n",
      "BECKY    JJ    1.0707  -0.1199  2.2612 False \n",
      "BECKY  JOANNE  2.8075   1.4809  4.1342  True \n",
      "BECKY  KELLY   0.9295  -0.4058  2.2648 False \n",
      "BECKY  SINEAD  0.2797  -1.4939  2.0534 False \n",
      "BECKY  TANYA  -0.1675  -3.6519  3.3169 False \n",
      "  JJ   JOANNE  1.7369   0.4396  3.0342  True \n",
      "  JJ   KELLY  -0.1412  -1.4473  1.165  False \n",
      "  JJ   SINEAD  -0.791  -2.5428  0.9609 False \n",
      "  JJ   TANYA  -1.2382  -4.7115  2.2352 False \n",
      "JOANNE KELLY   -1.878  -3.3093 -0.4468  True \n",
      "JOANNE SINEAD -2.5278  -4.3749 -0.6808  True \n",
      "JOANNE TANYA   -2.975  -6.4973  0.5473 False \n",
      "KELLY  SINEAD -0.6498   -2.503  1.2035 False \n",
      "KELLY  TANYA   -1.097  -4.6226  2.4286 False \n",
      "SINEAD TANYA  -0.4472  -4.1611  3.2666 False \n",
      "---------------------------------------------\n"
     ]
    }
   ],
   "source": [
    "postHoc = MultiComparison(salon['avgPriceSQRT'], salon['staff'])\n",
    "postHocResults = postHoc.tukeyhsd()\n",
    "print(postHocResults)"
   ]
  },
  {
   "cell_type": "markdown",
   "metadata": {},
   "source": [
    "*Once you print the results, you get a list of the means and how they differ. The meandiff column is the amount of difference between the means, and you are also given the confidence interval. Then, this output also conveniently tells you if you whether they are significant or not - if it is true, then you are rejecting the null hypothesis and there is a significant difference between that pair of staff members.  So, there is a difference between Joanne and Becky, JJ, Kelly, and Sinead.  Notice that this way, however, you don't get to make the call for yourself that Tanya was reallly close to being significant - in R you saw the p value was .057 - nearly there.  Here it uses a cutoff of .05 and you just need to take it at face value.*"
   ]
  },
  {
   "cell_type": "markdown",
   "metadata": {},
   "source": [
    "*You may now be wondering where exactly the differences lie between the girls.  Is Joanne doing better, or worse than everyone else? The only way to tell is by examining the means, and you will want to examine the raw or original means, not the ones you have adjusted by taking the square root. Luckily, pandas has your back and swoops in to save the day with the groupby and .mean function.*"
   ]
  },
  {
   "cell_type": "code",
   "execution_count": 27,
   "metadata": {},
   "outputs": [
    {
     "data": {
      "text/html": [
       "<div>\n",
       "<style scoped>\n",
       "    .dataframe tbody tr th:only-of-type {\n",
       "        vertical-align: middle;\n",
       "    }\n",
       "\n",
       "    .dataframe tbody tr th {\n",
       "        vertical-align: top;\n",
       "    }\n",
       "\n",
       "    .dataframe thead th {\n",
       "        text-align: right;\n",
       "    }\n",
       "</style>\n",
       "<table border=\"1\" class=\"dataframe\">\n",
       "  <thead>\n",
       "    <tr style=\"text-align: right;\">\n",
       "      <th></th>\n",
       "      <th>days in adv</th>\n",
       "      <th>avg price</th>\n",
       "      <th>avgPriceSQRT</th>\n",
       "      <th>staffR</th>\n",
       "    </tr>\n",
       "    <tr>\n",
       "      <th>staff</th>\n",
       "      <th></th>\n",
       "      <th></th>\n",
       "      <th></th>\n",
       "      <th></th>\n",
       "    </tr>\n",
       "  </thead>\n",
       "  <tbody>\n",
       "    <tr>\n",
       "      <th>BECKY</th>\n",
       "      <td>7.295082</td>\n",
       "      <td>51.064590</td>\n",
       "      <td>6.896776</td>\n",
       "      <td>1.0</td>\n",
       "    </tr>\n",
       "    <tr>\n",
       "      <th>JJ</th>\n",
       "      <td>5.029412</td>\n",
       "      <td>66.325588</td>\n",
       "      <td>7.967442</td>\n",
       "      <td>0.0</td>\n",
       "    </tr>\n",
       "    <tr>\n",
       "      <th>JOANNE</th>\n",
       "      <td>4.488889</td>\n",
       "      <td>108.042444</td>\n",
       "      <td>9.704312</td>\n",
       "      <td>2.0</td>\n",
       "    </tr>\n",
       "    <tr>\n",
       "      <th>KELLY</th>\n",
       "      <td>3.863636</td>\n",
       "      <td>66.137727</td>\n",
       "      <td>7.826262</td>\n",
       "      <td>3.0</td>\n",
       "    </tr>\n",
       "    <tr>\n",
       "      <th>SINEAD</th>\n",
       "      <td>7.368421</td>\n",
       "      <td>52.733684</td>\n",
       "      <td>7.176490</td>\n",
       "      <td>4.0</td>\n",
       "    </tr>\n",
       "    <tr>\n",
       "      <th>TANYA</th>\n",
       "      <td>2.000000</td>\n",
       "      <td>52.222500</td>\n",
       "      <td>6.729286</td>\n",
       "      <td>5.0</td>\n",
       "    </tr>\n",
       "  </tbody>\n",
       "</table>\n",
       "</div>"
      ],
      "text/plain": [
       "        days in adv   avg price  avgPriceSQRT  staffR\n",
       "staff                                                \n",
       "BECKY      7.295082   51.064590      6.896776     1.0\n",
       "JJ         5.029412   66.325588      7.967442     0.0\n",
       "JOANNE     4.488889  108.042444      9.704312     2.0\n",
       "KELLY      3.863636   66.137727      7.826262     3.0\n",
       "SINEAD     7.368421   52.733684      7.176490     4.0\n",
       "TANYA      2.000000   52.222500      6.729286     5.0"
      ]
     },
     "execution_count": 27,
     "metadata": {},
     "output_type": "execute_result"
    }
   ],
   "source": [
    "salon.groupby('staff').mean()"
   ]
  },
  {
   "cell_type": "markdown",
   "metadata": {},
   "source": [
    "*So now you can see that, again, Joanne has had clients with a much higher average pay to her per visit than everyone else. Way to go Joanne! As a data scientist, you should be wondering what her secret is and trying to explore with the data you have.*"
   ]
  },
  {
   "cell_type": "code",
   "execution_count": null,
   "metadata": {},
   "outputs": [],
   "source": []
  }
 ],
 "metadata": {
  "kernelspec": {
   "display_name": "Python 3",
   "language": "python",
   "name": "python3"
  },
  "language_info": {
   "codemirror_mode": {
    "name": "ipython",
    "version": 3
   },
   "file_extension": ".py",
   "mimetype": "text/x-python",
   "name": "python",
   "nbconvert_exporter": "python",
   "pygments_lexer": "ipython3",
   "version": "3.6.5"
  }
 },
 "nbformat": 4,
 "nbformat_minor": 2
}
