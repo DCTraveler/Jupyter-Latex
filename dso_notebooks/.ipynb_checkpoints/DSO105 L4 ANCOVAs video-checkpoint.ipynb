{
 "cells": [
  {
   "cell_type": "markdown",
   "metadata": {},
   "source": [
    "# Determine whether staff member at a salon has any effect on the average price for an appointment, controlling for the effect of month"
   ]
  },
  {
   "cell_type": "markdown",
   "metadata": {},
   "source": [
    "*In this video, you will continue to use the salon data. Let's go ahead and load in libraries first, however. You will need rcompanion for testing the assumption of normality, car for testing the assumption of homogeneity of variance, and then effects and multcomp are both new, brought in to help deal with the covariate portion of this.  The effects library helps you create means that are adjusted by your covariate, and multcomp does post hocs that are adjusted by the covariate. You may also want the IDPmisc library, so that if you need to deal with missing data, you can easily.*  "
   ]
  },
  {
   "cell_type": "markdown",
   "metadata": {},
   "source": [
    "## Load Libraries"
   ]
  },
  {
   "cell_type": "code",
   "execution_count": 11,
   "metadata": {},
   "outputs": [
    {
     "name": "stderr",
     "output_type": "stream",
     "text": [
      "\n",
      "Attaching package: 'psych'\n",
      "\n",
      "The following object is masked from 'package:car':\n",
      "\n",
      "    logit\n",
      "\n"
     ]
    }
   ],
   "source": [
    "library(\"rcompanion\")\n",
    "library(\"car\")\n",
    "library(\"effects\")\n",
    "library(\"multcomp\")\n",
    "library(\"dplyr\")\n",
    "library(\"IDPmisc\")\n",
    "library(\"psych\")"
   ]
  },
  {
   "cell_type": "markdown",
   "metadata": {},
   "source": [
    "## Read in Data"
   ]
  },
  {
   "cell_type": "markdown",
   "metadata": {},
   "source": [
    "*Then it's time to read in the data.*"
   ]
  },
  {
   "cell_type": "code",
   "execution_count": 1,
   "metadata": {},
   "outputs": [],
   "source": [
    "salon <- read.csv('../data/client_cancellations.csv')"
   ]
  },
  {
   "cell_type": "code",
   "execution_count": 2,
   "metadata": {},
   "outputs": [
    {
     "data": {
      "text/html": [
       "<table>\n",
       "<thead><tr><th scope=col>cancel.date</th><th scope=col>cancel.date.month</th><th scope=col>code</th><th scope=col>service.code</th><th scope=col>service.desc</th><th scope=col>staff</th><th scope=col>booking.date</th><th scope=col>booking.date.month</th><th scope=col>canceled.by</th><th scope=col>days.in.adv</th><th scope=col>avg.price</th></tr></thead>\n",
       "<tbody>\n",
       "\t<tr><td>3/10/2018       </td><td>March           </td><td>KOOM01          </td><td>SHCW            </td><td>Women's hair cut</td><td>JJ              </td><td>4/3/2018        </td><td>April           </td><td>JJ              </td><td>24              </td><td> 88.44          </td></tr>\n",
       "\t<tr><td>3/27/2018       </td><td>March           </td><td>WIL*01          </td><td>SHCW            </td><td>Women's hair cut</td><td>JJ              </td><td>3/29/2018       </td><td>March           </td><td>JJ              </td><td> 2              </td><td> 88.44          </td></tr>\n",
       "\t<tr><td>4/3/2018        </td><td>April           </td><td>BUDG02          </td><td>SHCM            </td><td>Men's hair cut  </td><td>SINEAD          </td><td>4/21/2018       </td><td>April           </td><td>BECKY           </td><td>18              </td><td> 41.41          </td></tr>\n",
       "\t<tr><td>4/3/2018        </td><td>April           </td><td>HILJ01          </td><td>CFC             </td><td>Color full color</td><td>KELLY           </td><td>4/3/2018        </td><td>April           </td><td>JJ              </td><td> 0              </td><td> 63.13          </td></tr>\n",
       "\t<tr><td>4/3/2018        </td><td>April           </td><td>STEM01          </td><td>SHCW            </td><td>Women's hair cut</td><td>BECKY           </td><td>4/21/2018       </td><td>April           </td><td>JJ              </td><td>18              </td><td> 67.84          </td></tr>\n",
       "\t<tr><td>4/3/2018        </td><td>April           </td><td>STRH01          </td><td>CHLFH           </td><td>Highlights full </td><td>KELLY           </td><td>4/4/2018        </td><td>April           </td><td>JJ              </td><td> 1              </td><td>120.00          </td></tr>\n",
       "</tbody>\n",
       "</table>\n"
      ],
      "text/latex": [
       "\\begin{tabular}{r|lllllllllll}\n",
       " cancel.date & cancel.date.month & code & service.code & service.desc & staff & booking.date & booking.date.month & canceled.by & days.in.adv & avg.price\\\\\n",
       "\\hline\n",
       "\t 3/10/2018        & March            & KOOM01           & SHCW             & Women's hair cut & JJ               & 4/3/2018         & April            & JJ               & 24               &  88.44          \\\\\n",
       "\t 3/27/2018        & March            & WIL*01           & SHCW             & Women's hair cut & JJ               & 3/29/2018        & March            & JJ               &  2               &  88.44          \\\\\n",
       "\t 4/3/2018         & April            & BUDG02           & SHCM             & Men's hair cut   & SINEAD           & 4/21/2018        & April            & BECKY            & 18               &  41.41          \\\\\n",
       "\t 4/3/2018         & April            & HILJ01           & CFC              & Color full color & KELLY            & 4/3/2018         & April            & JJ               &  0               &  63.13          \\\\\n",
       "\t 4/3/2018         & April            & STEM01           & SHCW             & Women's hair cut & BECKY            & 4/21/2018        & April            & JJ               & 18               &  67.84          \\\\\n",
       "\t 4/3/2018         & April            & STRH01           & CHLFH            & Highlights full  & KELLY            & 4/4/2018         & April            & JJ               &  1               & 120.00          \\\\\n",
       "\\end{tabular}\n"
      ],
      "text/markdown": [
       "\n",
       "cancel.date | cancel.date.month | code | service.code | service.desc | staff | booking.date | booking.date.month | canceled.by | days.in.adv | avg.price | \n",
       "|---|---|---|---|---|---|\n",
       "| 3/10/2018        | March            | KOOM01           | SHCW             | Women's hair cut | JJ               | 4/3/2018         | April            | JJ               | 24               |  88.44           | \n",
       "| 3/27/2018        | March            | WIL*01           | SHCW             | Women's hair cut | JJ               | 3/29/2018        | March            | JJ               |  2               |  88.44           | \n",
       "| 4/3/2018         | April            | BUDG02           | SHCM             | Men's hair cut   | SINEAD           | 4/21/2018        | April            | BECKY            | 18               |  41.41           | \n",
       "| 4/3/2018         | April            | HILJ01           | CFC              | Color full color | KELLY            | 4/3/2018         | April            | JJ               |  0               |  63.13           | \n",
       "| 4/3/2018         | April            | STEM01           | SHCW             | Women's hair cut | BECKY            | 4/21/2018        | April            | JJ               | 18               |  67.84           | \n",
       "| 4/3/2018         | April            | STRH01           | CHLFH            | Highlights full  | KELLY            | 4/4/2018         | April            | JJ               |  1               | 120.00           | \n",
       "\n",
       "\n"
      ],
      "text/plain": [
       "  cancel.date cancel.date.month code   service.code service.desc     staff \n",
       "1 3/10/2018   March             KOOM01 SHCW         Women's hair cut JJ    \n",
       "2 3/27/2018   March             WIL*01 SHCW         Women's hair cut JJ    \n",
       "3 4/3/2018    April             BUDG02 SHCM         Men's hair cut   SINEAD\n",
       "4 4/3/2018    April             HILJ01 CFC          Color full color KELLY \n",
       "5 4/3/2018    April             STEM01 SHCW         Women's hair cut BECKY \n",
       "6 4/3/2018    April             STRH01 CHLFH        Highlights full  KELLY \n",
       "  booking.date booking.date.month canceled.by days.in.adv avg.price\n",
       "1 4/3/2018     April              JJ          24           88.44   \n",
       "2 3/29/2018    March              JJ           2           88.44   \n",
       "3 4/21/2018    April              BECKY       18           41.41   \n",
       "4 4/3/2018     April              JJ           0           63.13   \n",
       "5 4/21/2018    April              JJ          18           67.84   \n",
       "6 4/4/2018     April              JJ           1          120.00   "
      ]
     },
     "metadata": {},
     "output_type": "display_data"
    }
   ],
   "source": [
    "head(salon)"
   ]
  },
  {
   "cell_type": "markdown",
   "metadata": {},
   "source": [
    "## Exploring Covariates"
   ]
  },
  {
   "cell_type": "markdown",
   "metadata": {},
   "source": [
    "*This time with the salon data, you will control for the effect of month.  When picking covariates, you can either use theory and your gut instincts to try some out, or you can use the information you've learned from a data exploration phase to determine whether it looks like there are some effects you want to control for. In this case, looking at the salon data, it seemed like perhaps the seasons may have an affect on salon cancellations.  So, to very simply test this theory, you can do a group by, and see if the your DV does in fact differ based on a potential covariate.* \n",
    "\n",
    "*This is very easily done with some of the dplyr tools and using the summarize function.  You can group by the month, and then summarize it based on the average price.*"
   ]
  },
  {
   "cell_type": "code",
   "execution_count": 5,
   "metadata": {},
   "outputs": [],
   "source": [
    "salonMeans <- salon %>% group_by(cancel.date.month) %>% summarize(Mean = mean(avg.price))"
   ]
  },
  {
   "cell_type": "markdown",
   "metadata": {},
   "source": [
    "*And then, of course, you need to call it.*"
   ]
  },
  {
   "cell_type": "code",
   "execution_count": 6,
   "metadata": {},
   "outputs": [
    {
     "data": {
      "text/html": [
       "<table>\n",
       "<thead><tr><th scope=col>cancel.date.month</th><th scope=col>Mean</th></tr></thead>\n",
       "<tbody>\n",
       "\t<tr><td>April   </td><td>66.93696</td></tr>\n",
       "\t<tr><td>July    </td><td>      NA</td></tr>\n",
       "\t<tr><td>June    </td><td>      NA</td></tr>\n",
       "\t<tr><td>March   </td><td>88.44000</td></tr>\n",
       "\t<tr><td>May     </td><td>67.57014</td></tr>\n",
       "</tbody>\n",
       "</table>\n"
      ],
      "text/latex": [
       "\\begin{tabular}{r|ll}\n",
       " cancel.date.month & Mean\\\\\n",
       "\\hline\n",
       "\t April    & 66.93696\\\\\n",
       "\t July     &       NA\\\\\n",
       "\t June     &       NA\\\\\n",
       "\t March    & 88.44000\\\\\n",
       "\t May      & 67.57014\\\\\n",
       "\\end{tabular}\n"
      ],
      "text/markdown": [
       "\n",
       "cancel.date.month | Mean | \n",
       "|---|---|---|---|---|\n",
       "| April    | 66.93696 | \n",
       "| July     |       NA | \n",
       "| June     |       NA | \n",
       "| March    | 88.44000 | \n",
       "| May      | 67.57014 | \n",
       "\n",
       "\n"
      ],
      "text/plain": [
       "  cancel.date.month Mean    \n",
       "1 April             66.93696\n",
       "2 July                    NA\n",
       "3 June                    NA\n",
       "4 March             88.44000\n",
       "5 May               67.57014"
      ]
     },
     "metadata": {},
     "output_type": "display_data"
    }
   ],
   "source": [
    "salonMeans"
   ]
  },
  {
   "cell_type": "markdown",
   "metadata": {},
   "source": [
    "*Aha! Remember that dplyr functions do not automatically handle missing data, so you will need to remove it yourself using the NaRV.omit function from IDPmisc*"
   ]
  },
  {
   "cell_type": "code",
   "execution_count": 8,
   "metadata": {},
   "outputs": [],
   "source": [
    "salon2 <- NaRV.omit(salon)"
   ]
  },
  {
   "cell_type": "markdown",
   "metadata": {},
   "source": [
    "*And now you just need to change your code so that it runs on your new dataset, salon2, instead of the original data.*"
   ]
  },
  {
   "cell_type": "code",
   "execution_count": 9,
   "metadata": {},
   "outputs": [],
   "source": [
    "salonMeans <- salon2 %>% group_by(cancel.date.month) %>% summarize(Mean = mean(avg.price))"
   ]
  },
  {
   "cell_type": "code",
   "execution_count": 10,
   "metadata": {},
   "outputs": [
    {
     "data": {
      "text/html": [
       "<table>\n",
       "<thead><tr><th scope=col>cancel.date.month</th><th scope=col>Mean</th></tr></thead>\n",
       "<tbody>\n",
       "\t<tr><td>April   </td><td>66.93696</td></tr>\n",
       "\t<tr><td>July    </td><td>68.85682</td></tr>\n",
       "\t<tr><td>June    </td><td>70.72655</td></tr>\n",
       "\t<tr><td>March   </td><td>88.44000</td></tr>\n",
       "\t<tr><td>May     </td><td>67.57014</td></tr>\n",
       "</tbody>\n",
       "</table>\n"
      ],
      "text/latex": [
       "\\begin{tabular}{r|ll}\n",
       " cancel.date.month & Mean\\\\\n",
       "\\hline\n",
       "\t April    & 66.93696\\\\\n",
       "\t July     & 68.85682\\\\\n",
       "\t June     & 70.72655\\\\\n",
       "\t March    & 88.44000\\\\\n",
       "\t May      & 67.57014\\\\\n",
       "\\end{tabular}\n"
      ],
      "text/markdown": [
       "\n",
       "cancel.date.month | Mean | \n",
       "|---|---|---|---|---|\n",
       "| April    | 66.93696 | \n",
       "| July     | 68.85682 | \n",
       "| June     | 70.72655 | \n",
       "| March    | 88.44000 | \n",
       "| May      | 67.57014 | \n",
       "\n",
       "\n"
      ],
      "text/plain": [
       "  cancel.date.month Mean    \n",
       "1 April             66.93696\n",
       "2 July              68.85682\n",
       "3 June              70.72655\n",
       "4 March             88.44000\n",
       "5 May               67.57014"
      ]
     },
     "metadata": {},
     "output_type": "display_data"
    }
   ],
   "source": [
    "salonMeans"
   ]
  },
  {
   "cell_type": "markdown",
   "metadata": {},
   "source": [
    "*And now you have variables for everything.  Looks like the gut hunch was right - there are some months that have a higher price to them for cancellations.  Looks like March has the most expensive cancellations, while the others are relatively the same. So you can use a dummy coded covariate of March or Not March to help control for the seasonal effects that might play into how staff members influence the average price of a cancelled appointment.*\n",
    "\n",
    "*Luckily, there is a way to automatically dummy code things, so you don't have to do the work yourself.  That's why you brought in the psych library. You'll use the function dummy.code out of it and run it on the month varaible.*"
   ]
  },
  {
   "cell_type": "code",
   "execution_count": 12,
   "metadata": {},
   "outputs": [],
   "source": [
    "salon3 <- dummy.code(salon2$cancel.date.month)"
   ]
  },
  {
   "cell_type": "markdown",
   "metadata": {},
   "source": [
    "*And take a peek.  Now you have everything dummy coded as zeroes and ones, so that you have March as a 1 if the month was March, and 0 if the month was anything else but March.*"
   ]
  },
  {
   "cell_type": "code",
   "execution_count": 13,
   "metadata": {},
   "outputs": [
    {
     "data": {
      "text/html": [
       "<table>\n",
       "<thead><tr><th scope=col>April</th><th scope=col>July</th><th scope=col>June</th><th scope=col>March</th><th scope=col>May</th></tr></thead>\n",
       "<tbody>\n",
       "\t<tr><td>0</td><td>0</td><td>0</td><td>1</td><td>0</td></tr>\n",
       "\t<tr><td>0</td><td>0</td><td>0</td><td>1</td><td>0</td></tr>\n",
       "\t<tr><td>1</td><td>0</td><td>0</td><td>0</td><td>0</td></tr>\n",
       "\t<tr><td>1</td><td>0</td><td>0</td><td>0</td><td>0</td></tr>\n",
       "\t<tr><td>1</td><td>0</td><td>0</td><td>0</td><td>0</td></tr>\n",
       "\t<tr><td>1</td><td>0</td><td>0</td><td>0</td><td>0</td></tr>\n",
       "</tbody>\n",
       "</table>\n"
      ],
      "text/latex": [
       "\\begin{tabular}{lllll}\n",
       " April & July & June & March & May\\\\\n",
       "\\hline\n",
       "\t 0 & 0 & 0 & 1 & 0\\\\\n",
       "\t 0 & 0 & 0 & 1 & 0\\\\\n",
       "\t 1 & 0 & 0 & 0 & 0\\\\\n",
       "\t 1 & 0 & 0 & 0 & 0\\\\\n",
       "\t 1 & 0 & 0 & 0 & 0\\\\\n",
       "\t 1 & 0 & 0 & 0 & 0\\\\\n",
       "\\end{tabular}\n"
      ],
      "text/markdown": [
       "\n",
       "April | July | June | March | May | \n",
       "|---|---|---|---|---|---|\n",
       "| 0 | 0 | 0 | 1 | 0 | \n",
       "| 0 | 0 | 0 | 1 | 0 | \n",
       "| 1 | 0 | 0 | 0 | 0 | \n",
       "| 1 | 0 | 0 | 0 | 0 | \n",
       "| 1 | 0 | 0 | 0 | 0 | \n",
       "| 1 | 0 | 0 | 0 | 0 | \n",
       "\n",
       "\n"
      ],
      "text/plain": [
       "     April July June March May\n",
       "[1,] 0     0    0    1     0  \n",
       "[2,] 0     0    0    1     0  \n",
       "[3,] 1     0    0    0     0  \n",
       "[4,] 1     0    0    0     0  \n",
       "[5,] 1     0    0    0     0  \n",
       "[6,] 1     0    0    0     0  "
      ]
     },
     "metadata": {},
     "output_type": "display_data"
    }
   ],
   "source": [
    "head(salon3)"
   ]
  },
  {
   "cell_type": "markdown",
   "metadata": {},
   "source": [
    "*Of course, your next step is to place this info back onto your original dataset.*"
   ]
  },
  {
   "cell_type": "code",
   "execution_count": 14,
   "metadata": {},
   "outputs": [],
   "source": [
    "salon4 <- data.frame(salon2, salon3)"
   ]
  },
  {
   "cell_type": "code",
   "execution_count": 15,
   "metadata": {},
   "outputs": [
    {
     "data": {
      "text/html": [
       "<table>\n",
       "<thead><tr><th scope=col>cancel.date</th><th scope=col>cancel.date.month</th><th scope=col>code</th><th scope=col>service.code</th><th scope=col>service.desc</th><th scope=col>staff</th><th scope=col>booking.date</th><th scope=col>booking.date.month</th><th scope=col>canceled.by</th><th scope=col>days.in.adv</th><th scope=col>avg.price</th><th scope=col>April</th><th scope=col>July</th><th scope=col>June</th><th scope=col>March</th><th scope=col>May</th></tr></thead>\n",
       "<tbody>\n",
       "\t<tr><td>3/10/2018       </td><td>March           </td><td>KOOM01          </td><td>SHCW            </td><td>Women's hair cut</td><td>JJ              </td><td>4/3/2018        </td><td>April           </td><td>JJ              </td><td>24              </td><td> 88.44          </td><td>0               </td><td>0               </td><td>0               </td><td>1               </td><td>0               </td></tr>\n",
       "\t<tr><td>3/27/2018       </td><td>March           </td><td>WIL*01          </td><td>SHCW            </td><td>Women's hair cut</td><td>JJ              </td><td>3/29/2018       </td><td>March           </td><td>JJ              </td><td> 2              </td><td> 88.44          </td><td>0               </td><td>0               </td><td>0               </td><td>1               </td><td>0               </td></tr>\n",
       "\t<tr><td>4/3/2018        </td><td>April           </td><td>BUDG02          </td><td>SHCM            </td><td>Men's hair cut  </td><td>SINEAD          </td><td>4/21/2018       </td><td>April           </td><td>BECKY           </td><td>18              </td><td> 41.41          </td><td>1               </td><td>0               </td><td>0               </td><td>0               </td><td>0               </td></tr>\n",
       "\t<tr><td>4/3/2018        </td><td>April           </td><td>HILJ01          </td><td>CFC             </td><td>Color full color</td><td>KELLY           </td><td>4/3/2018        </td><td>April           </td><td>JJ              </td><td> 0              </td><td> 63.13          </td><td>1               </td><td>0               </td><td>0               </td><td>0               </td><td>0               </td></tr>\n",
       "\t<tr><td>4/3/2018        </td><td>April           </td><td>STEM01          </td><td>SHCW            </td><td>Women's hair cut</td><td>BECKY           </td><td>4/21/2018       </td><td>April           </td><td>JJ              </td><td>18              </td><td> 67.84          </td><td>1               </td><td>0               </td><td>0               </td><td>0               </td><td>0               </td></tr>\n",
       "\t<tr><td>4/3/2018        </td><td>April           </td><td>STRH01          </td><td>CHLFH           </td><td>Highlights full </td><td>KELLY           </td><td>4/4/2018        </td><td>April           </td><td>JJ              </td><td> 1              </td><td>120.00          </td><td>1               </td><td>0               </td><td>0               </td><td>0               </td><td>0               </td></tr>\n",
       "</tbody>\n",
       "</table>\n"
      ],
      "text/latex": [
       "\\begin{tabular}{r|llllllllllllllll}\n",
       " cancel.date & cancel.date.month & code & service.code & service.desc & staff & booking.date & booking.date.month & canceled.by & days.in.adv & avg.price & April & July & June & March & May\\\\\n",
       "\\hline\n",
       "\t 3/10/2018        & March            & KOOM01           & SHCW             & Women's hair cut & JJ               & 4/3/2018         & April            & JJ               & 24               &  88.44           & 0                & 0                & 0                & 1                & 0               \\\\\n",
       "\t 3/27/2018        & March            & WIL*01           & SHCW             & Women's hair cut & JJ               & 3/29/2018        & March            & JJ               &  2               &  88.44           & 0                & 0                & 0                & 1                & 0               \\\\\n",
       "\t 4/3/2018         & April            & BUDG02           & SHCM             & Men's hair cut   & SINEAD           & 4/21/2018        & April            & BECKY            & 18               &  41.41           & 1                & 0                & 0                & 0                & 0               \\\\\n",
       "\t 4/3/2018         & April            & HILJ01           & CFC              & Color full color & KELLY            & 4/3/2018         & April            & JJ               &  0               &  63.13           & 1                & 0                & 0                & 0                & 0               \\\\\n",
       "\t 4/3/2018         & April            & STEM01           & SHCW             & Women's hair cut & BECKY            & 4/21/2018        & April            & JJ               & 18               &  67.84           & 1                & 0                & 0                & 0                & 0               \\\\\n",
       "\t 4/3/2018         & April            & STRH01           & CHLFH            & Highlights full  & KELLY            & 4/4/2018         & April            & JJ               &  1               & 120.00           & 1                & 0                & 0                & 0                & 0               \\\\\n",
       "\\end{tabular}\n"
      ],
      "text/markdown": [
       "\n",
       "cancel.date | cancel.date.month | code | service.code | service.desc | staff | booking.date | booking.date.month | canceled.by | days.in.adv | avg.price | April | July | June | March | May | \n",
       "|---|---|---|---|---|---|\n",
       "| 3/10/2018        | March            | KOOM01           | SHCW             | Women's hair cut | JJ               | 4/3/2018         | April            | JJ               | 24               |  88.44           | 0                | 0                | 0                | 1                | 0                | \n",
       "| 3/27/2018        | March            | WIL*01           | SHCW             | Women's hair cut | JJ               | 3/29/2018        | March            | JJ               |  2               |  88.44           | 0                | 0                | 0                | 1                | 0                | \n",
       "| 4/3/2018         | April            | BUDG02           | SHCM             | Men's hair cut   | SINEAD           | 4/21/2018        | April            | BECKY            | 18               |  41.41           | 1                | 0                | 0                | 0                | 0                | \n",
       "| 4/3/2018         | April            | HILJ01           | CFC              | Color full color | KELLY            | 4/3/2018         | April            | JJ               |  0               |  63.13           | 1                | 0                | 0                | 0                | 0                | \n",
       "| 4/3/2018         | April            | STEM01           | SHCW             | Women's hair cut | BECKY            | 4/21/2018        | April            | JJ               | 18               |  67.84           | 1                | 0                | 0                | 0                | 0                | \n",
       "| 4/3/2018         | April            | STRH01           | CHLFH            | Highlights full  | KELLY            | 4/4/2018         | April            | JJ               |  1               | 120.00           | 1                | 0                | 0                | 0                | 0                | \n",
       "\n",
       "\n"
      ],
      "text/plain": [
       "  cancel.date cancel.date.month code   service.code service.desc     staff \n",
       "1 3/10/2018   March             KOOM01 SHCW         Women's hair cut JJ    \n",
       "2 3/27/2018   March             WIL*01 SHCW         Women's hair cut JJ    \n",
       "3 4/3/2018    April             BUDG02 SHCM         Men's hair cut   SINEAD\n",
       "4 4/3/2018    April             HILJ01 CFC          Color full color KELLY \n",
       "5 4/3/2018    April             STEM01 SHCW         Women's hair cut BECKY \n",
       "6 4/3/2018    April             STRH01 CHLFH        Highlights full  KELLY \n",
       "  booking.date booking.date.month canceled.by days.in.adv avg.price April July\n",
       "1 4/3/2018     April              JJ          24           88.44    0     0   \n",
       "2 3/29/2018    March              JJ           2           88.44    0     0   \n",
       "3 4/21/2018    April              BECKY       18           41.41    1     0   \n",
       "4 4/3/2018     April              JJ           0           63.13    1     0   \n",
       "5 4/21/2018    April              JJ          18           67.84    1     0   \n",
       "6 4/4/2018     April              JJ           1          120.00    1     0   \n",
       "  June March May\n",
       "1 0    1     0  \n",
       "2 0    1     0  \n",
       "3 0    0     0  \n",
       "4 0    0     0  \n",
       "5 0    0     0  \n",
       "6 0    0     0  "
      ]
     },
     "metadata": {},
     "output_type": "display_data"
    }
   ],
   "source": [
    "head(salon4)"
   ]
  },
  {
   "cell_type": "markdown",
   "metadata": {},
   "source": [
    "*There. With that done, you now have the variable March set up as your covariate. It's not time to move onto data wrangling!*"
   ]
  },
  {
   "cell_type": "markdown",
   "metadata": {},
   "source": [
    "## Data Wrangling"
   ]
  },
  {
   "cell_type": "markdown",
   "metadata": {},
   "source": [
    "*The first thing you need to do for data wrangling is to ensure that your IV is a factor. You can find this out by using the str() function, which stands for structure.*"
   ]
  },
  {
   "cell_type": "markdown",
   "metadata": {},
   "source": [
    "### Ensure the IV is a factor"
   ]
  },
  {
   "cell_type": "code",
   "execution_count": 67,
   "metadata": {},
   "outputs": [
    {
     "name": "stdout",
     "output_type": "stream",
     "text": [
      " Factor w/ 6 levels \"BECKY\",\"JJ\",\"JOANNE\",..: 2 2 5 4 1 4 5 4 2 5 ...\n"
     ]
    }
   ],
   "source": [
    "str(salon4$staff)"
   ]
  },
  {
   "cell_type": "markdown",
   "metadata": {},
   "source": [
    "*And luckily it is a factor, so no work needed there.  Your CV also needs to be a factor, so check that too...*"
   ]
  },
  {
   "cell_type": "markdown",
   "metadata": {},
   "source": [
    "### Ensure the CV is a factor"
   ]
  },
  {
   "cell_type": "code",
   "execution_count": 68,
   "metadata": {},
   "outputs": [
    {
     "name": "stdout",
     "output_type": "stream",
     "text": [
      " Factor w/ 2 levels \"0\",\"1\": 2 2 1 1 1 1 1 1 1 1 ...\n"
     ]
    }
   ],
   "source": [
    "str(salon4$March)"
   ]
  },
  {
   "cell_type": "markdown",
   "metadata": {},
   "source": [
    "*Well, that is listed as numeric right now, so you will turn it into a factor.  That can easily be done with the function as.factor().*"
   ]
  },
  {
   "cell_type": "code",
   "execution_count": 69,
   "metadata": {},
   "outputs": [],
   "source": [
    "salon4$March <- as.factor(salon4$March)"
   ]
  },
  {
   "cell_type": "markdown",
   "metadata": {},
   "source": [
    "*And then go ahead and just doulbe check to make sure that worked...*"
   ]
  },
  {
   "cell_type": "code",
   "execution_count": 70,
   "metadata": {},
   "outputs": [
    {
     "name": "stdout",
     "output_type": "stream",
     "text": [
      " Factor w/ 2 levels \"0\",\"1\": 2 2 1 1 1 1 1 1 1 1 ...\n"
     ]
    }
   ],
   "source": [
    "str(salon4$March)"
   ]
  },
  {
   "cell_type": "markdown",
   "metadata": {},
   "source": [
    "*Tada! You have a factor. Jolly good. Now you are on to testing assumptions.*"
   ]
  },
  {
   "cell_type": "markdown",
   "metadata": {},
   "source": [
    "## Test Assumptions"
   ]
  },
  {
   "cell_type": "markdown",
   "metadata": {},
   "source": [
    "*Almost all of your assumptions for ANCOVAs are the same as ANOVAs - but there is one additional assumption, called the homogeneity of regression slopes, which you will test for. In addition, your sample size requirements go up, because you have included a CV.*"
   ]
  },
  {
   "cell_type": "markdown",
   "metadata": {},
   "source": [
    "### Normality"
   ]
  },
  {
   "cell_type": "markdown",
   "metadata": {},
   "source": [
    "*You still need to test the normality of your dependent variable, and if you had a continuous covariate, rather than a categorical one, you would need to test the normality of that as well. Take a look at the shape of this data and see if it needs any transformations.*"
   ]
  },
  {
   "cell_type": "code",
   "execution_count": 71,
   "metadata": {},
   "outputs": [
    {
     "data": {
      "image/png": "[encoded data removed]",
      "text/plain": [
       "Plot with title \"\""
      ]
     },
     "metadata": {},
     "output_type": "display_data"
    }
   ],
   "source": [
    "plotNormalHistogram(salon4$avg.price)"
   ]
  },
  {
   "cell_type": "markdown",
   "metadata": {},
   "source": [
    "*Looks like it does, in fact, need a square root transformation, because it is positively skewed.*"
   ]
  },
  {
   "cell_type": "code",
   "execution_count": 72,
   "metadata": {},
   "outputs": [],
   "source": [
    "salon4$avg.priceSQRT <- sqrt(salon4$avg.price)"
   ]
  },
  {
   "cell_type": "markdown",
   "metadata": {},
   "source": [
    "*And check to make sure that did what you wanted it to.*"
   ]
  },
  {
   "cell_type": "code",
   "execution_count": 73,
   "metadata": {},
   "outputs": [
    {
     "data": {
      "text/html": [
       "<table>\n",
       "<thead><tr><th scope=col>cancel.date</th><th scope=col>cancel.date.month</th><th scope=col>code</th><th scope=col>service.code</th><th scope=col>service.desc</th><th scope=col>staff</th><th scope=col>booking.date</th><th scope=col>booking.date.month</th><th scope=col>canceled.by</th><th scope=col>days.in.adv</th><th scope=col>avg.price</th><th scope=col>April</th><th scope=col>July</th><th scope=col>June</th><th scope=col>March</th><th scope=col>May</th><th scope=col>avg.priceSQRT</th></tr></thead>\n",
       "<tbody>\n",
       "\t<tr><td>3/10/2018       </td><td>March           </td><td>KOOM01          </td><td>SHCW            </td><td>Women's hair cut</td><td>JJ              </td><td>4/3/2018        </td><td>April           </td><td>JJ              </td><td>24              </td><td> 88.44          </td><td>0               </td><td>0               </td><td>0               </td><td>1               </td><td>0               </td><td> 9.404254       </td></tr>\n",
       "\t<tr><td>3/27/2018       </td><td>March           </td><td>WIL*01          </td><td>SHCW            </td><td>Women's hair cut</td><td>JJ              </td><td>3/29/2018       </td><td>March           </td><td>JJ              </td><td> 2              </td><td> 88.44          </td><td>0               </td><td>0               </td><td>0               </td><td>1               </td><td>0               </td><td> 9.404254       </td></tr>\n",
       "\t<tr><td>4/3/2018        </td><td>April           </td><td>BUDG02          </td><td>SHCM            </td><td>Men's hair cut  </td><td>SINEAD          </td><td>4/21/2018       </td><td>April           </td><td>BECKY           </td><td>18              </td><td> 41.41          </td><td>1               </td><td>0               </td><td>0               </td><td>0               </td><td>0               </td><td> 6.435060       </td></tr>\n",
       "\t<tr><td>4/3/2018        </td><td>April           </td><td>HILJ01          </td><td>CFC             </td><td>Color full color</td><td>KELLY           </td><td>4/3/2018        </td><td>April           </td><td>JJ              </td><td> 0              </td><td> 63.13          </td><td>1               </td><td>0               </td><td>0               </td><td>0               </td><td>0               </td><td> 7.945439       </td></tr>\n",
       "\t<tr><td>4/3/2018        </td><td>April           </td><td>STEM01          </td><td>SHCW            </td><td>Women's hair cut</td><td>BECKY           </td><td>4/21/2018       </td><td>April           </td><td>JJ              </td><td>18              </td><td> 67.84          </td><td>1               </td><td>0               </td><td>0               </td><td>0               </td><td>0               </td><td> 8.236504       </td></tr>\n",
       "\t<tr><td>4/3/2018        </td><td>April           </td><td>STRH01          </td><td>CHLFH           </td><td>Highlights full </td><td>KELLY           </td><td>4/4/2018        </td><td>April           </td><td>JJ              </td><td> 1              </td><td>120.00          </td><td>1               </td><td>0               </td><td>0               </td><td>0               </td><td>0               </td><td>10.954451       </td></tr>\n",
       "</tbody>\n",
       "</table>\n"
      ],
      "text/latex": [
       "\\begin{tabular}{r|lllllllllllllllll}\n",
       " cancel.date & cancel.date.month & code & service.code & service.desc & staff & booking.date & booking.date.month & canceled.by & days.in.adv & avg.price & April & July & June & March & May & avg.priceSQRT\\\\\n",
       "\\hline\n",
       "\t 3/10/2018        & March            & KOOM01           & SHCW             & Women's hair cut & JJ               & 4/3/2018         & April            & JJ               & 24               &  88.44           & 0                & 0                & 0                & 1                & 0                &  9.404254       \\\\\n",
       "\t 3/27/2018        & March            & WIL*01           & SHCW             & Women's hair cut & JJ               & 3/29/2018        & March            & JJ               &  2               &  88.44           & 0                & 0                & 0                & 1                & 0                &  9.404254       \\\\\n",
       "\t 4/3/2018         & April            & BUDG02           & SHCM             & Men's hair cut   & SINEAD           & 4/21/2018        & April            & BECKY            & 18               &  41.41           & 1                & 0                & 0                & 0                & 0                &  6.435060       \\\\\n",
       "\t 4/3/2018         & April            & HILJ01           & CFC              & Color full color & KELLY            & 4/3/2018         & April            & JJ               &  0               &  63.13           & 1                & 0                & 0                & 0                & 0                &  7.945439       \\\\\n",
       "\t 4/3/2018         & April            & STEM01           & SHCW             & Women's hair cut & BECKY            & 4/21/2018        & April            & JJ               & 18               &  67.84           & 1                & 0                & 0                & 0                & 0                &  8.236504       \\\\\n",
       "\t 4/3/2018         & April            & STRH01           & CHLFH            & Highlights full  & KELLY            & 4/4/2018         & April            & JJ               &  1               & 120.00           & 1                & 0                & 0                & 0                & 0                & 10.954451       \\\\\n",
       "\\end{tabular}\n"
      ],
      "text/markdown": [
       "\n",
       "cancel.date | cancel.date.month | code | service.code | service.desc | staff | booking.date | booking.date.month | canceled.by | days.in.adv | avg.price | April | July | June | March | May | avg.priceSQRT | \n",
       "|---|---|---|---|---|---|\n",
       "| 3/10/2018        | March            | KOOM01           | SHCW             | Women's hair cut | JJ               | 4/3/2018         | April            | JJ               | 24               |  88.44           | 0                | 0                | 0                | 1                | 0                |  9.404254        | \n",
       "| 3/27/2018        | March            | WIL*01           | SHCW             | Women's hair cut | JJ               | 3/29/2018        | March            | JJ               |  2               |  88.44           | 0                | 0                | 0                | 1                | 0                |  9.404254        | \n",
       "| 4/3/2018         | April            | BUDG02           | SHCM             | Men's hair cut   | SINEAD           | 4/21/2018        | April            | BECKY            | 18               |  41.41           | 1                | 0                | 0                | 0                | 0                |  6.435060        | \n",
       "| 4/3/2018         | April            | HILJ01           | CFC              | Color full color | KELLY            | 4/3/2018         | April            | JJ               |  0               |  63.13           | 1                | 0                | 0                | 0                | 0                |  7.945439        | \n",
       "| 4/3/2018         | April            | STEM01           | SHCW             | Women's hair cut | BECKY            | 4/21/2018        | April            | JJ               | 18               |  67.84           | 1                | 0                | 0                | 0                | 0                |  8.236504        | \n",
       "| 4/3/2018         | April            | STRH01           | CHLFH            | Highlights full  | KELLY            | 4/4/2018         | April            | JJ               |  1               | 120.00           | 1                | 0                | 0                | 0                | 0                | 10.954451        | \n",
       "\n",
       "\n"
      ],
      "text/plain": [
       "  cancel.date cancel.date.month code   service.code service.desc     staff \n",
       "1 3/10/2018   March             KOOM01 SHCW         Women's hair cut JJ    \n",
       "2 3/27/2018   March             WIL*01 SHCW         Women's hair cut JJ    \n",
       "3 4/3/2018    April             BUDG02 SHCM         Men's hair cut   SINEAD\n",
       "4 4/3/2018    April             HILJ01 CFC          Color full color KELLY \n",
       "5 4/3/2018    April             STEM01 SHCW         Women's hair cut BECKY \n",
       "6 4/3/2018    April             STRH01 CHLFH        Highlights full  KELLY \n",
       "  booking.date booking.date.month canceled.by days.in.adv avg.price April July\n",
       "1 4/3/2018     April              JJ          24           88.44    0     0   \n",
       "2 3/29/2018    March              JJ           2           88.44    0     0   \n",
       "3 4/21/2018    April              BECKY       18           41.41    1     0   \n",
       "4 4/3/2018     April              JJ           0           63.13    1     0   \n",
       "5 4/21/2018    April              JJ          18           67.84    1     0   \n",
       "6 4/4/2018     April              JJ           1          120.00    1     0   \n",
       "  June March May avg.priceSQRT\n",
       "1 0    1     0    9.404254    \n",
       "2 0    1     0    9.404254    \n",
       "3 0    0     0    6.435060    \n",
       "4 0    0     0    7.945439    \n",
       "5 0    0     0    8.236504    \n",
       "6 0    0     0   10.954451    "
      ]
     },
     "metadata": {},
     "output_type": "display_data"
    }
   ],
   "source": [
    "head(salon4)"
   ]
  },
  {
   "cell_type": "markdown",
   "metadata": {},
   "source": [
    "*Alright, that looks just fine. Now see if the shape of the data is more approximately normal.*"
   ]
  },
  {
   "cell_type": "code",
   "execution_count": 74,
   "metadata": {},
   "outputs": [
    {
     "data": {
      "image/png": "[encoded data removed]",
      "text/plain": [
       "Plot with title \"\""
      ]
     },
     "metadata": {},
     "output_type": "display_data"
    }
   ],
   "source": [
    "plotNormalHistogram(salon4$avg.priceSQRT)"
   ]
  },
  {
   "cell_type": "markdown",
   "metadata": {},
   "source": [
    "*And now that looks beautiful! Definitely pretty much normal, so bravo.*"
   ]
  },
  {
   "cell_type": "markdown",
   "metadata": {},
   "source": [
    "### Homogeneity of Variance"
   ]
  },
  {
   "cell_type": "markdown",
   "metadata": {},
   "source": [
    "*Next you'll use the Levene's test to test for the assumption of homogeneity of variance.  Unfortunately, Levene's test does not allow for any covariates to be included, but you'll try for testing the model as best you are able without the covariates.*\n",
    "\n",
    "*You'll use the function leveneTest from the car library, and place your DV first, followed by a tilde and your IV, then specify your data with the argument data=*"
   ]
  },
  {
   "cell_type": "code",
   "execution_count": 75,
   "metadata": {},
   "outputs": [
    {
     "data": {
      "text/html": [
       "<table>\n",
       "<thead><tr><th></th><th scope=col>Df</th><th scope=col>F value</th><th scope=col>Pr(&gt;F)</th></tr></thead>\n",
       "<tbody>\n",
       "\t<tr><th scope=row>group</th><td>  5         </td><td>6.131987    </td><td>2.318731e-05</td></tr>\n",
       "\t<tr><th scope=row> </th><td>235         </td><td>      NA    </td><td>          NA</td></tr>\n",
       "</tbody>\n",
       "</table>\n"
      ],
      "text/latex": [
       "\\begin{tabular}{r|lll}\n",
       "  & Df & F value & Pr(>F)\\\\\n",
       "\\hline\n",
       "\tgroup &   5          & 6.131987     & 2.318731e-05\\\\\n",
       "\t  & 235          &       NA     &           NA\\\\\n",
       "\\end{tabular}\n"
      ],
      "text/markdown": [
       "\n",
       "| <!--/--> | Df | F value | Pr(>F) | \n",
       "|---|---|\n",
       "| group |   5          | 6.131987     | 2.318731e-05 | \n",
       "|   | 235          |       NA     |           NA | \n",
       "\n",
       "\n"
      ],
      "text/plain": [
       "      Df  F value  Pr(>F)      \n",
       "group   5 6.131987 2.318731e-05\n",
       "      235       NA           NA"
      ]
     },
     "metadata": {},
     "output_type": "display_data"
    }
   ],
   "source": [
    "leveneTest(avg.priceSQRT~staff, data=salon4)"
   ]
  },
  {
   "cell_type": "markdown",
   "metadata": {},
   "source": [
    "*To pass the assumption of homogeneity of variance, you want Levene's test to be non-significant, meaning greater than .05.  Unfortunately, it is much less than .05, so you have violated the assumption of homogeneity of variance.  Luckily, however, there is a way to correct for this when you run the actual test, so it is not a big deal.*"
   ]
  },
  {
   "cell_type": "markdown",
   "metadata": {},
   "source": [
    "### Homogeneity of Regression Slopes"
   ]
  },
  {
   "cell_type": "markdown",
   "metadata": {},
   "source": [
    "*The next assumption you will test is teh new one, homogeneity of regression slopes.  The basic idea behind this is that you want to see if your CV and your DV are significantly related in any way.  You don't want them to be related, because if they are, what you were planning to use as a CV should most likely be an IV instead.  The way you test the homogeneity of regression slopes is to run another ANOVA, with the planned CV instead as the IV, and using your planned DV as the DV.*"
   ]
  },
  {
   "cell_type": "code",
   "execution_count": 76,
   "metadata": {},
   "outputs": [],
   "source": [
    "HomogeneityRegr = lm(avg.priceSQRT~March, data=salon4)"
   ]
  },
  {
   "cell_type": "code",
   "execution_count": 77,
   "metadata": {},
   "outputs": [
    {
     "data": {
      "text/html": [
       "<table>\n",
       "<thead><tr><th></th><th scope=col>Df</th><th scope=col>Sum Sq</th><th scope=col>Mean Sq</th><th scope=col>F value</th><th scope=col>Pr(&gt;F)</th></tr></thead>\n",
       "<tbody>\n",
       "\t<tr><th scope=row>March</th><td>  1       </td><td>   4.49048</td><td>4.490480  </td><td>0.7076632 </td><td>0.4010615 </td></tr>\n",
       "\t<tr><th scope=row>Residuals</th><td>239       </td><td>1516.57570</td><td>6.345505  </td><td>       NA </td><td>       NA </td></tr>\n",
       "</tbody>\n",
       "</table>\n"
      ],
      "text/latex": [
       "\\begin{tabular}{r|lllll}\n",
       "  & Df & Sum Sq & Mean Sq & F value & Pr(>F)\\\\\n",
       "\\hline\n",
       "\tMarch &   1        &    4.49048 & 4.490480   & 0.7076632  & 0.4010615 \\\\\n",
       "\tResiduals & 239        & 1516.57570 & 6.345505   &        NA  &        NA \\\\\n",
       "\\end{tabular}\n"
      ],
      "text/markdown": [
       "\n",
       "| <!--/--> | Df | Sum Sq | Mean Sq | F value | Pr(>F) | \n",
       "|---|---|\n",
       "| March |   1        |    4.49048 | 4.490480   | 0.7076632  | 0.4010615  | \n",
       "| Residuals | 239        | 1516.57570 | 6.345505   |        NA  |        NA  | \n",
       "\n",
       "\n"
      ],
      "text/plain": [
       "          Df  Sum Sq     Mean Sq  F value   Pr(>F)   \n",
       "March       1    4.49048 4.490480 0.7076632 0.4010615\n",
       "Residuals 239 1516.57570 6.345505        NA        NA"
      ]
     },
     "metadata": {},
     "output_type": "display_data"
    }
   ],
   "source": [
    "anova(HomogeneityRegr)"
   ]
  },
  {
   "cell_type": "markdown",
   "metadata": {},
   "source": [
    "*Phew! Luckily the result of this is not significant, and so you have met the assumption of homogeneity of regression slopes. If this test had been significant, you can still run your analysis, but use the CV as an IV instead.*"
   ]
  },
  {
   "cell_type": "markdown",
   "metadata": {},
   "source": [
    "### Sample Size"
   ]
  },
  {
   "cell_type": "markdown",
   "metadata": {},
   "source": [
    "*The last assumption there is to test is sample size.  There must be 20 cases for every IV OR CV.  The Or CV part is the new part for covariates! Since you have one IV and one CV, you will need at least 40 rows of data. There are 243 rows here, so you are good to go!*"
   ]
  },
  {
   "cell_type": "markdown",
   "metadata": {},
   "source": [
    "*You are now all prepped to run your ANCOVA.  You will actually run the ANCOVA in the next video! See you there!*"
   ]
  },
  {
   "cell_type": "markdown",
   "metadata": {},
   "source": [
    "# END VIDEO ONE"
   ]
  },
  {
   "cell_type": "markdown",
   "metadata": {},
   "source": [
    "*Alright! Now that you have tested all your assumptions, it is time to actually run the analsyis, interpret it, and draw conclusions.  These conclusions will be based on the presence of your covariate, since you are controlling for that information.*\n",
    "\n",
    "*Now, from the last video, you know that you violated the assumption of homogeneity of variance, so you will want to run the ANCOVA to correct for that violation.  However, here you'll be shown both methods so you know what to do if you have NOT violated the assumption.  Let's start with the ANCOVA for when you have met the assumption of homogeneity of variance first.*\n",
    "\n",
    "*You are going to use the function lm() from the car package, standing for linear model.  It is yet another way that you can generate ANOVAs! Once you have that open, you want your DV to go first, followed by a tilde and then the CV next.  Then you can add a plus sign and add in your IV, and cross it using the asterisk with your Covariate. This asterisk creates what is called the interaction term, and it looks at how your CV and your IV work in concert. And then of course you need to finish it up by specifying your data. Then you need to call your ANCOVA with the anova function, to make it look like an F test should, instead of a regression.*"
   ]
  },
  {
   "cell_type": "markdown",
   "metadata": {},
   "source": [
    "## Run the analysis when you have met the assumption of homogeneity of variance"
   ]
  },
  {
   "cell_type": "code",
   "execution_count": 82,
   "metadata": {},
   "outputs": [
    {
     "data": {
      "text/html": [
       "<table>\n",
       "<thead><tr><th></th><th scope=col>Df</th><th scope=col>Sum Sq</th><th scope=col>Mean Sq</th><th scope=col>F value</th><th scope=col>Pr(&gt;F)</th></tr></thead>\n",
       "<tbody>\n",
       "\t<tr><th scope=row>March</th><td>  1         </td><td>   4.49048  </td><td> 4.490480   </td><td>0.8126766   </td><td>3.682570e-01</td></tr>\n",
       "\t<tr><th scope=row>staff</th><td>  5         </td><td> 223.59841  </td><td>44.719681   </td><td>8.0932631   </td><td>4.623991e-07</td></tr>\n",
       "\t<tr><th scope=row>Residuals</th><td>234         </td><td>1292.97729  </td><td> 5.525544   </td><td>       NA   </td><td>          NA</td></tr>\n",
       "</tbody>\n",
       "</table>\n"
      ],
      "text/latex": [
       "\\begin{tabular}{r|lllll}\n",
       "  & Df & Sum Sq & Mean Sq & F value & Pr(>F)\\\\\n",
       "\\hline\n",
       "\tMarch &   1          &    4.49048   &  4.490480    & 0.8126766    & 3.682570e-01\\\\\n",
       "\tstaff &   5          &  223.59841   & 44.719681    & 8.0932631    & 4.623991e-07\\\\\n",
       "\tResiduals & 234          & 1292.97729   &  5.525544    &        NA    &           NA\\\\\n",
       "\\end{tabular}\n"
      ],
      "text/markdown": [
       "\n",
       "| <!--/--> | Df | Sum Sq | Mean Sq | F value | Pr(>F) | \n",
       "|---|---|---|\n",
       "| March |   1          |    4.49048   |  4.490480    | 0.8126766    | 3.682570e-01 | \n",
       "| staff |   5          |  223.59841   | 44.719681    | 8.0932631    | 4.623991e-07 | \n",
       "| Residuals | 234          | 1292.97729   |  5.525544    |        NA    |           NA | \n",
       "\n",
       "\n"
      ],
      "text/plain": [
       "          Df  Sum Sq     Mean Sq   F value   Pr(>F)      \n",
       "March       1    4.49048  4.490480 0.8126766 3.682570e-01\n",
       "staff       5  223.59841 44.719681 8.0932631 4.623991e-07\n",
       "Residuals 234 1292.97729  5.525544        NA           NA"
      ]
     },
     "metadata": {},
     "output_type": "display_data"
    }
   ],
   "source": [
    "ANCOVA3 = lm(avg.priceSQRT~March + staff, data=salon4)\n",
    "anova(ANCOVA3)"
   ]
  },
  {
   "cell_type": "markdown",
   "metadata": {},
   "source": [
    "*An interesting thing about including the asterisk is that it will only show the effects if it meets the assumption of multicollinearity, which is NOT an assumption of ANOVA, but is an assumption of regression, which is the other test that uses the lm() function.  In this case, even though it wouuld be fine to include the interaction for an ANOVA, it would not be for regression, and thus you are missing a line that shows how the IV and CV interact.  However, you do get plenty of other fun results: there is a significant effect of the covariate, as well as a significant effect of the staff member. You'll explore those results further in a few minutes, but for right now, you will also learn how to do the ANCOVA when you have violated the assumption of homogeneity of variance.*"
   ]
  },
  {
   "cell_type": "markdown",
   "metadata": {},
   "source": [
    "## Run the analysis when you have NOT met the assumption of homogeneity of variance"
   ]
  },
  {
   "cell_type": "markdown",
   "metadata": {},
   "source": [
    "*If you have violated the assumption of homogeneity of variance, don't fear.  It's not a deal breaker.  Instead of running a linear model and using the little a ANOVA function, you can run the big A anova function.  Not confusing at all, is it? But seriously, pay attention to the capitalization because in this case, it does matter.*\n",
    "\n",
    "*You'll put in the name of the model you created above, and then you'll specify the Type. Type has to do with how the ANCOVA is calculated via the sum of squares.  You don't need to get into all the details of that, but suffice it to say that typically, you are good to specify I and leave it at that.  II is for when you are looking for very specific effects, and II is not suitable if you have a factorial ANOVA.  If you don't specify anything at all, R will default to I, and that's a good rule of thumb too.*\n",
    "\n",
    "*What is really important, though, is that you include the argument of white.adjust=TRUE. That is what corrects for a violation of homogeneity of variance, and so it is critical that you include it!*"
   ]
  },
  {
   "cell_type": "code",
   "execution_count": 83,
   "metadata": {},
   "outputs": [
    {
     "name": "stderr",
     "output_type": "stream",
     "text": [
      "Coefficient covariances computed by hccm()\n"
     ]
    },
    {
     "data": {
      "text/html": [
       "<table>\n",
       "<thead><tr><th></th><th scope=col>Df</th><th scope=col>F</th><th scope=col>Pr(&gt;F)</th></tr></thead>\n",
       "<tbody>\n",
       "\t<tr><th scope=row>March</th><td>  1         </td><td>48.927192   </td><td>2.765981e-11</td></tr>\n",
       "\t<tr><th scope=row>staff</th><td>  5         </td><td> 5.501485   </td><td>8.264054e-05</td></tr>\n",
       "\t<tr><th scope=row>Residuals</th><td>234         </td><td>       NA   </td><td>          NA</td></tr>\n",
       "</tbody>\n",
       "</table>\n"
      ],
      "text/latex": [
       "\\begin{tabular}{r|lll}\n",
       "  & Df & F & Pr(>F)\\\\\n",
       "\\hline\n",
       "\tMarch &   1          & 48.927192    & 2.765981e-11\\\\\n",
       "\tstaff &   5          &  5.501485    & 8.264054e-05\\\\\n",
       "\tResiduals & 234          &        NA    &           NA\\\\\n",
       "\\end{tabular}\n"
      ],
      "text/markdown": [
       "\n",
       "| <!--/--> | Df | F | Pr(>F) | \n",
       "|---|---|---|\n",
       "| March |   1          | 48.927192    | 2.765981e-11 | \n",
       "| staff |   5          |  5.501485    | 8.264054e-05 | \n",
       "| Residuals | 234          |        NA    |           NA | \n",
       "\n",
       "\n"
      ],
      "text/plain": [
       "          Df  F         Pr(>F)      \n",
       "March       1 48.927192 2.765981e-11\n",
       "staff       5  5.501485 8.264054e-05\n",
       "Residuals 234        NA           NA"
      ]
     },
     "metadata": {},
     "output_type": "display_data"
    }
   ],
   "source": [
    "Anova(ANCOVA3, Type=\"I\", white.adjust=TRUE)"
   ]
  },
  {
   "cell_type": "markdown",
   "metadata": {},
   "source": [
    "*If you haven't gotten your interaction to show for the previous ANCOVA, you most likely will get this error when you try to use the capital A anova function as well. That is ok - simply go back and change it so you don't have an interaction term and then run again, like this.*"
   ]
  },
  {
   "cell_type": "markdown",
   "metadata": {},
   "source": [
    "## Post Hocs"
   ]
  },
  {
   "cell_type": "markdown",
   "metadata": {},
   "source": [
    "*Right! You know that there is a significant effect of both the covariate and the independent variable, so it's time to figure out what levels of the independent variable and CV differ from each other! You will do this with the multcomp package, which was designed to handle the covariates and other interaction effects, using the glht() function. You will specify the model you're using, then use the standard code of linfct=mcp(), and then you will specify your independent variable.*"
   ]
  },
  {
   "cell_type": "code",
   "execution_count": 85,
   "metadata": {},
   "outputs": [
    {
     "data": {
      "text/plain": [
       "\n",
       "\t Simultaneous Tests for General Linear Hypotheses\n",
       "\n",
       "Multiple Comparisons of Means: Tukey Contrasts\n",
       "\n",
       "\n",
       "Fit: lm(formula = avg.priceSQRT ~ March + staff, data = salon4)\n",
       "\n",
       "Linear Hypotheses:\n",
       "                     Estimate Std. Error t value Pr(>|t|)    \n",
       "JJ - BECKY == 0       1.02713    0.41750   2.460  0.12587    \n",
       "JOANNE - BECKY == 0   2.80754    0.46192   6.078  < 0.001 ***\n",
       "KELLY - BECKY == 0    0.92949    0.46493   1.999  0.32087    \n",
       "SINEAD - BECKY == 0   0.27971    0.61758   0.453  0.99724    \n",
       "TANYA - BECKY == 0   -0.16749    1.21325  -0.138  0.99999    \n",
       "JOANNE - JJ == 0      1.78041    0.45443   3.918  0.00134 ** \n",
       "KELLY - JJ == 0      -0.09764    0.45749  -0.213  0.99993    \n",
       "SINEAD - JJ == 0     -0.74741    0.61200  -1.221  0.80989    \n",
       "TANYA - JJ == 0      -1.19462    1.21042  -0.987  0.91312    \n",
       "KELLY - JOANNE == 0  -1.87805    0.49837  -3.768  0.00251 ** \n",
       "SINEAD - JOANNE == 0 -2.52782    0.64312  -3.931  0.00131 ** \n",
       "TANYA - JOANNE == 0  -2.97503    1.22645  -2.426  0.13640    \n",
       "SINEAD - KELLY == 0  -0.64977    0.64529  -1.007  0.90607    \n",
       "TANYA - KELLY == 0   -1.09698    1.22759  -0.894  0.94166    \n",
       "TANYA - SINEAD == 0  -0.44720    1.29314  -0.346  0.99925    \n",
       "---\n",
       "Signif. codes:  0 '***' 0.001 '**' 0.01 '*' 0.05 '.' 0.1 ' ' 1\n",
       "(Adjusted p values reported -- single-step method)\n"
      ]
     },
     "metadata": {},
     "output_type": "display_data"
    }
   ],
   "source": [
    "postHocs <- glht(ANCOVA3, linfct=mcp(staff = \"Tukey\"))\n",
    "summary(postHocs)"
   ]
  },
  {
   "cell_type": "markdown",
   "metadata": {},
   "source": [
    "*The information that results has been adjusted by the scores of the covariate, which is pretty nifty. You can see that off to the side of each comparison has ==0, which means that they are all being compared only when it wasn't March, to keep things nice and even. The significant ones are being marked with stars on the right hand side, so you can see that Joanne differs from Becky, JJ, Kelly, and Sinead. Very similar to the results that you received from a regular one way ANOVA, actually.* "
   ]
  },
  {
   "cell_type": "markdown",
   "metadata": {},
   "source": [
    "## Determine Means and Draw Conclusions"
   ]
  },
  {
   "cell_type": "markdown",
   "metadata": {},
   "source": [
    "*And of course the last step is to see HOW Joanne differed from the other girls.  Did she have a higher or lower average price?  You can just the effect function from the effects package to look at the means adjusted by the covariate of the month of march. Just specify your IV in quotes, and then put that ubiquitous model afterwards.*"
   ]
  },
  {
   "cell_type": "code",
   "execution_count": 86,
   "metadata": {},
   "outputs": [
    {
     "data": {
      "text/plain": [
       "\n",
       " staff effect\n",
       "staff\n",
       "   BECKY       JJ   JOANNE    KELLY   SINEAD    TANYA \n",
       "6.909061 7.936187 9.716597 7.838547 7.188775 6.741571 "
      ]
     },
     "metadata": {},
     "output_type": "display_data"
    }
   ],
   "source": [
    "adjMeans <- effect(\"staff\", ANCOVA3)\n",
    "adjMeans"
   ]
  },
  {
   "cell_type": "markdown",
   "metadata": {},
   "source": [
    "*Now, this looks kind of funky, doesn't it? You get an idea of who did better (Joanne), but the units don't make sense.  That is not a product of adjusting for the covariate, but rather is because you were using the SQRT of average price.  The easy fix for this is to create a new model that has regular price, that you can run just to get the adjusted means (not for p values)*"
   ]
  },
  {
   "cell_type": "code",
   "execution_count": 87,
   "metadata": {},
   "outputs": [
    {
     "data": {
      "text/html": [
       "<table>\n",
       "<thead><tr><th></th><th scope=col>Df</th><th scope=col>Sum Sq</th><th scope=col>Mean Sq</th><th scope=col>F value</th><th scope=col>Pr(&gt;F)</th></tr></thead>\n",
       "<tbody>\n",
       "\t<tr><th scope=row>March</th><td>  1         </td><td>   769.0391 </td><td>  769.0391  </td><td> 0.5744855  </td><td>4.492446e-01</td></tr>\n",
       "\t<tr><th scope=row>staff</th><td>  5         </td><td> 95453.3680 </td><td>19090.6736  </td><td>14.2610618  </td><td>3.471090e-12</td></tr>\n",
       "\t<tr><th scope=row>Residuals</th><td>234         </td><td>313245.7927 </td><td> 1338.6572  </td><td>        NA  </td><td>          NA</td></tr>\n",
       "</tbody>\n",
       "</table>\n"
      ],
      "text/latex": [
       "\\begin{tabular}{r|lllll}\n",
       "  & Df & Sum Sq & Mean Sq & F value & Pr(>F)\\\\\n",
       "\\hline\n",
       "\tMarch &   1          &    769.0391  &   769.0391   &  0.5744855   & 4.492446e-01\\\\\n",
       "\tstaff &   5          &  95453.3680  & 19090.6736   & 14.2610618   & 3.471090e-12\\\\\n",
       "\tResiduals & 234          & 313245.7927  &  1338.6572   &         NA   &           NA\\\\\n",
       "\\end{tabular}\n"
      ],
      "text/markdown": [
       "\n",
       "| <!--/--> | Df | Sum Sq | Mean Sq | F value | Pr(>F) | \n",
       "|---|---|---|\n",
       "| March |   1          |    769.0391  |   769.0391   |  0.5744855   | 4.492446e-01 | \n",
       "| staff |   5          |  95453.3680  | 19090.6736   | 14.2610618   | 3.471090e-12 | \n",
       "| Residuals | 234          | 313245.7927  |  1338.6572   |         NA   |           NA | \n",
       "\n",
       "\n"
      ],
      "text/plain": [
       "          Df  Sum Sq      Mean Sq    F value    Pr(>F)      \n",
       "March       1    769.0391   769.0391  0.5744855 4.492446e-01\n",
       "staff       5  95453.3680 19090.6736 14.2610618 3.471090e-12\n",
       "Residuals 234 313245.7927  1338.6572         NA           NA"
      ]
     },
     "metadata": {},
     "output_type": "display_data"
    }
   ],
   "source": [
    "ANCOVA4 = lm(avg.price~March + staff, data=salon4)\n",
    "anova(ANCOVA4)"
   ]
  },
  {
   "cell_type": "code",
   "execution_count": 88,
   "metadata": {},
   "outputs": [
    {
     "data": {
      "text/plain": [
       "\n",
       " staff effect\n",
       "staff\n",
       "    BECKY        JJ    JOANNE     KELLY    SINEAD     TANYA \n",
       " 51.25367  65.84454 108.23153  66.32681  52.92277  52.41158 "
      ]
     },
     "metadata": {},
     "output_type": "display_data"
    }
   ],
   "source": [
    "adjMeans2 <- effect(\"staff\", ANCOVA4)\n",
    "adjMeans2"
   ]
  },
  {
   "cell_type": "markdown",
   "metadata": {},
   "source": [
    "*Now, don't those look better? They have been adjusted for month, so they will not hook back into your actual original data means.  If you don't believe me, let's go ahead and examine the raw means:*"
   ]
  },
  {
   "cell_type": "code",
   "execution_count": 89,
   "metadata": {},
   "outputs": [
    {
     "data": {
      "text/html": [
       "<table>\n",
       "<thead><tr><th scope=col>staff</th><th scope=col>Mean</th></tr></thead>\n",
       "<tbody>\n",
       "\t<tr><td>BECKY    </td><td> 51.06459</td></tr>\n",
       "\t<tr><td>JJ       </td><td> 66.32559</td></tr>\n",
       "\t<tr><td>JOANNE   </td><td>108.04244</td></tr>\n",
       "\t<tr><td>KELLY    </td><td> 66.13773</td></tr>\n",
       "\t<tr><td>SINEAD   </td><td> 52.73368</td></tr>\n",
       "\t<tr><td>TANYA    </td><td> 52.22250</td></tr>\n",
       "</tbody>\n",
       "</table>\n"
      ],
      "text/latex": [
       "\\begin{tabular}{r|ll}\n",
       " staff & Mean\\\\\n",
       "\\hline\n",
       "\t BECKY     &  51.06459\\\\\n",
       "\t JJ        &  66.32559\\\\\n",
       "\t JOANNE    & 108.04244\\\\\n",
       "\t KELLY     &  66.13773\\\\\n",
       "\t SINEAD    &  52.73368\\\\\n",
       "\t TANYA     &  52.22250\\\\\n",
       "\\end{tabular}\n"
      ],
      "text/markdown": [
       "\n",
       "staff | Mean | \n",
       "|---|---|---|---|---|---|\n",
       "| BECKY     |  51.06459 | \n",
       "| JJ        |  66.32559 | \n",
       "| JOANNE    | 108.04244 | \n",
       "| KELLY     |  66.13773 | \n",
       "| SINEAD    |  52.73368 | \n",
       "| TANYA     |  52.22250 | \n",
       "\n",
       "\n"
      ],
      "text/plain": [
       "  staff  Mean     \n",
       "1 BECKY   51.06459\n",
       "2 JJ      66.32559\n",
       "3 JOANNE 108.04244\n",
       "4 KELLY   66.13773\n",
       "5 SINEAD  52.73368\n",
       "6 TANYA   52.22250"
      ]
     },
     "metadata": {},
     "output_type": "display_data"
    }
   ],
   "source": [
    "salonMeans2 <- salon4 %>% group_by(staff) %>% summarize(Mean = mean(avg.price))\n",
    "salonMeans2"
   ]
  },
  {
   "cell_type": "markdown",
   "metadata": {},
   "source": [
    "*In this case, there clearly wasn't much of an effect of the month of march on the sales, in the end, since the raw means here are very close to the adjusted means.  Nevertheless, they are not the same - for instance Joanne's raw mean is 108.04, while the adjusted mean is 108.23.  If there is a larger influence of the covariate, then you would also see a larger difference betweeen your raw and adjusted means.*"
   ]
  },
  {
   "cell_type": "markdown",
   "metadata": {},
   "source": [
    "*Congratulations! You now know how to control for a variable in a model using ANCOVA - which is something infinitely useful that you can utilize again and again.*"
   ]
  },
  {
   "cell_type": "code",
   "execution_count": null,
   "metadata": {},
   "outputs": [],
   "source": []
  }
 ],
 "metadata": {
  "kernelspec": {
   "display_name": "R",
   "language": "R",
   "name": "ir"
  },
  "language_info": {
   "codemirror_mode": "r",
   "file_extension": ".r",
   "mimetype": "text/x-r-source",
   "name": "R",
   "pygments_lexer": "r",
   "version": "4.1.0"
  }
 },
 "nbformat": 4,
 "nbformat_minor": 4
}
