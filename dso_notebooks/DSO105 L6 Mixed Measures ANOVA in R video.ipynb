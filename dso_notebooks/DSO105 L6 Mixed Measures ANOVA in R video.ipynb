{
 "cells": [
  {
   "cell_type": "code",
   "execution_count": 5,
   "metadata": {},
   "outputs": [],
   "source": [
    "coups$coupriskLOG <- log(coups$couprisk)"
   ]
  },
  {
   "cell_type": "code",
   "execution_count": 7,
   "metadata": {},
   "outputs": [],
   "source": [
    "coups$date <- as.Date(coups$date, \"%m/%d/%Y\")"
   ]
  },
  {
   "cell_type": "code",
   "execution_count": 8,
   "metadata": {},
   "outputs": [],
   "source": [
    "coups$Year <- format(coups$date, \"%Y\")"
   ]
  },
  {
   "cell_type": "markdown",
   "metadata": {},
   "source": [
    "*In this video, you'll try out a mixed measures ANOVA scenario.  What if you didnt' just want to see whether couprisk decreased over time, but also wanted to know whether military career had any influence on the risk of coup? Well then, you'd have yourself one within subjects independent variable (year) and one between subjects independent variable (military career), and need to perform a mixed measures ANOVA.*"
   ]
  },
  {
   "cell_type": "markdown",
   "metadata": {},
   "source": [
    "## Load in Libraries"
   ]
  },
  {
   "cell_type": "code",
   "execution_count": 10,
   "metadata": {},
   "outputs": [
    {
     "name": "stderr",
     "output_type": "stream",
     "text": [
      "\n",
      "Attaching package: 'dplyr'\n",
      "\n",
      "The following object is masked from 'package:car':\n",
      "\n",
      "    recode\n",
      "\n",
      "The following objects are masked from 'package:stats':\n",
      "\n",
      "    filter, lag\n",
      "\n",
      "The following objects are masked from 'package:base':\n",
      "\n",
      "    intersect, setdiff, setequal, union\n",
      "\n"
     ]
    }
   ],
   "source": [
    "library(\"rcompanion\")\n",
    "library(\"car\")\n",
    "library(\"dplyr\")"
   ]
  },
  {
   "cell_type": "markdown",
   "metadata": {},
   "source": [
    "## Load in Data"
   ]
  },
  {
   "cell_type": "code",
   "execution_count": 2,
   "metadata": {},
   "outputs": [],
   "source": [
    "coups <- read.csv('../data/african_coups.csv')"
   ]
  },
  {
   "cell_type": "code",
   "execution_count": 3,
   "metadata": {},
   "outputs": [
    {
     "data": {
      "text/html": [
       "<table>\n",
       "<thead><tr><th scope=col>date</th><th scope=col>country</th><th scope=col>commodities</th><th scope=col>commodities_excl_energy</th><th scope=col>energy</th><th scope=col>minerals</th><th scope=col>forestry</th><th scope=col>agriculture</th><th scope=col>fish</th><th scope=col>age</th><th scope=col>...</th><th scope=col>loss</th><th scope=col>irregular</th><th scope=col>prev_conflict</th><th scope=col>pt_suc</th><th scope=col>pt_attempt</th><th scope=col>precip</th><th scope=col>global_policy_uncertainty_current</th><th scope=col>couprisk</th><th scope=col>pctile_risk</th><th scope=col>relative_risk_classification</th></tr></thead>\n",
       "<tbody>\n",
       "\t<tr><td>1/1/1997     </td><td>Angola       </td><td>313.45       </td><td>254.08       </td><td>609.35       </td><td>285.31       </td><td>341.36       </td><td>170.16       </td><td>870.14       </td><td>55           </td><td>...          </td><td>5.545177     </td><td>3.970292     </td><td>1            </td><td>0            </td><td>0            </td><td>-0.41474915  </td><td>79.9359      </td><td>0.001705101  </td><td>0.7225125    </td><td>High         </td></tr>\n",
       "\t<tr><td>1/1/1997     </td><td>Algeria      </td><td>313.45       </td><td>254.08       </td><td>609.35       </td><td>285.31       </td><td>341.36       </td><td>170.16       </td><td>870.14       </td><td>56           </td><td>...          </td><td>4.564348     </td><td>2.708050     </td><td>1            </td><td>0            </td><td>0            </td><td> 0.70164311  </td><td>79.9359      </td><td>0.001822458  </td><td>0.7359829    </td><td>High         </td></tr>\n",
       "\t<tr><td>1/1/1997     </td><td>South Africa </td><td>313.45       </td><td>254.08       </td><td>609.35       </td><td>285.31       </td><td>341.36       </td><td>170.16       </td><td>870.14       </td><td>79           </td><td>...          </td><td>3.526361     </td><td>3.526361     </td><td>0            </td><td>0            </td><td>0            </td><td> 0.98816890  </td><td>79.9359      </td><td>0.001837309  </td><td>0.7371534    </td><td>High         </td></tr>\n",
       "\t<tr><td>1/1/1997     </td><td>Uganda       </td><td>313.45       </td><td>254.08       </td><td>609.35       </td><td>285.31       </td><td>341.36       </td><td>170.16       </td><td>870.14       </td><td>53           </td><td>...          </td><td>5.267858     </td><td>2.197225     </td><td>1            </td><td>0            </td><td>0            </td><td> 0.07549572  </td><td>79.9359      </td><td>0.001940203  </td><td>0.7469584    </td><td>High         </td></tr>\n",
       "\t<tr><td>1/1/1997     </td><td>Guinea Bissau</td><td>313.45       </td><td>254.08       </td><td>609.35       </td><td>285.31       </td><td>341.36       </td><td>170.16       </td><td>870.14       </td><td>58           </td><td>...          </td><td>5.272999     </td><td>3.401197     </td><td>0            </td><td>0            </td><td>0            </td><td> 0.04635003  </td><td>79.9359      </td><td>0.002256377  </td><td>0.7715377    </td><td>High         </td></tr>\n",
       "\t<tr><td>1/1/1997     </td><td>Liberia      </td><td>313.45       </td><td>254.08       </td><td>609.35       </td><td>285.31       </td><td>341.36       </td><td>170.16       </td><td>870.14       </td><td>58           </td><td>...          </td><td>4.343805     </td><td>4.343805     </td><td>0            </td><td>0            </td><td>0            </td><td>-0.27843896  </td><td>79.9359      </td><td>0.002272123  </td><td>0.7725644    </td><td>High         </td></tr>\n",
       "</tbody>\n",
       "</table>\n"
      ],
      "text/latex": [
       "\\begin{tabular}{r|lllllllllllllllllllllllllllllllllllllllllll}\n",
       " date & country & commodities & commodities\\_excl\\_energy & energy & minerals & forestry & agriculture & fish & age & ... & loss & irregular & prev\\_conflict & pt\\_suc & pt\\_attempt & precip & global\\_policy\\_uncertainty\\_current & couprisk & pctile\\_risk & relative\\_risk\\_classification\\\\\n",
       "\\hline\n",
       "\t 1/1/1997      & Angola        & 313.45        & 254.08        & 609.35        & 285.31        & 341.36        & 170.16        & 870.14        & 55            & ...           & 5.545177      & 3.970292      & 1             & 0             & 0             & -0.41474915   & 79.9359       & 0.001705101   & 0.7225125     & High         \\\\\n",
       "\t 1/1/1997      & Algeria       & 313.45        & 254.08        & 609.35        & 285.31        & 341.36        & 170.16        & 870.14        & 56            & ...           & 4.564348      & 2.708050      & 1             & 0             & 0             &  0.70164311   & 79.9359       & 0.001822458   & 0.7359829     & High         \\\\\n",
       "\t 1/1/1997      & South Africa  & 313.45        & 254.08        & 609.35        & 285.31        & 341.36        & 170.16        & 870.14        & 79            & ...           & 3.526361      & 3.526361      & 0             & 0             & 0             &  0.98816890   & 79.9359       & 0.001837309   & 0.7371534     & High         \\\\\n",
       "\t 1/1/1997      & Uganda        & 313.45        & 254.08        & 609.35        & 285.31        & 341.36        & 170.16        & 870.14        & 53            & ...           & 5.267858      & 2.197225      & 1             & 0             & 0             &  0.07549572   & 79.9359       & 0.001940203   & 0.7469584     & High         \\\\\n",
       "\t 1/1/1997      & Guinea Bissau & 313.45        & 254.08        & 609.35        & 285.31        & 341.36        & 170.16        & 870.14        & 58            & ...           & 5.272999      & 3.401197      & 0             & 0             & 0             &  0.04635003   & 79.9359       & 0.002256377   & 0.7715377     & High         \\\\\n",
       "\t 1/1/1997      & Liberia       & 313.45        & 254.08        & 609.35        & 285.31        & 341.36        & 170.16        & 870.14        & 58            & ...           & 4.343805      & 4.343805      & 0             & 0             & 0             & -0.27843896   & 79.9359       & 0.002272123   & 0.7725644     & High         \\\\\n",
       "\\end{tabular}\n"
      ],
      "text/markdown": [
       "\n",
       "date | country | commodities | commodities_excl_energy | energy | minerals | forestry | agriculture | fish | age | ... | loss | irregular | prev_conflict | pt_suc | pt_attempt | precip | global_policy_uncertainty_current | couprisk | pctile_risk | relative_risk_classification | \n",
       "|---|---|---|---|---|---|\n",
       "| 1/1/1997      | Angola        | 313.45        | 254.08        | 609.35        | 285.31        | 341.36        | 170.16        | 870.14        | 55            | ...           | 5.545177      | 3.970292      | 1             | 0             | 0             | -0.41474915   | 79.9359       | 0.001705101   | 0.7225125     | High          | \n",
       "| 1/1/1997      | Algeria       | 313.45        | 254.08        | 609.35        | 285.31        | 341.36        | 170.16        | 870.14        | 56            | ...           | 4.564348      | 2.708050      | 1             | 0             | 0             |  0.70164311   | 79.9359       | 0.001822458   | 0.7359829     | High          | \n",
       "| 1/1/1997      | South Africa  | 313.45        | 254.08        | 609.35        | 285.31        | 341.36        | 170.16        | 870.14        | 79            | ...           | 3.526361      | 3.526361      | 0             | 0             | 0             |  0.98816890   | 79.9359       | 0.001837309   | 0.7371534     | High          | \n",
       "| 1/1/1997      | Uganda        | 313.45        | 254.08        | 609.35        | 285.31        | 341.36        | 170.16        | 870.14        | 53            | ...           | 5.267858      | 2.197225      | 1             | 0             | 0             |  0.07549572   | 79.9359       | 0.001940203   | 0.7469584     | High          | \n",
       "| 1/1/1997      | Guinea Bissau | 313.45        | 254.08        | 609.35        | 285.31        | 341.36        | 170.16        | 870.14        | 58            | ...           | 5.272999      | 3.401197      | 0             | 0             | 0             |  0.04635003   | 79.9359       | 0.002256377   | 0.7715377     | High          | \n",
       "| 1/1/1997      | Liberia       | 313.45        | 254.08        | 609.35        | 285.31        | 341.36        | 170.16        | 870.14        | 58            | ...           | 4.343805      | 4.343805      | 0             | 0             | 0             | -0.27843896   | 79.9359       | 0.002272123   | 0.7725644     | High          | \n",
       "\n",
       "\n"
      ],
      "text/plain": [
       "  date     country       commodities commodities_excl_energy energy minerals\n",
       "1 1/1/1997 Angola        313.45      254.08                  609.35 285.31  \n",
       "2 1/1/1997 Algeria       313.45      254.08                  609.35 285.31  \n",
       "3 1/1/1997 South Africa  313.45      254.08                  609.35 285.31  \n",
       "4 1/1/1997 Uganda        313.45      254.08                  609.35 285.31  \n",
       "5 1/1/1997 Guinea Bissau 313.45      254.08                  609.35 285.31  \n",
       "6 1/1/1997 Liberia       313.45      254.08                  609.35 285.31  \n",
       "  forestry agriculture fish   age ... loss     irregular prev_conflict pt_suc\n",
       "1 341.36   170.16      870.14 55  ... 5.545177 3.970292  1             0     \n",
       "2 341.36   170.16      870.14 56  ... 4.564348 2.708050  1             0     \n",
       "3 341.36   170.16      870.14 79  ... 3.526361 3.526361  0             0     \n",
       "4 341.36   170.16      870.14 53  ... 5.267858 2.197225  1             0     \n",
       "5 341.36   170.16      870.14 58  ... 5.272999 3.401197  0             0     \n",
       "6 341.36   170.16      870.14 58  ... 4.343805 4.343805  0             0     \n",
       "  pt_attempt precip      global_policy_uncertainty_current couprisk   \n",
       "1 0          -0.41474915 79.9359                           0.001705101\n",
       "2 0           0.70164311 79.9359                           0.001822458\n",
       "3 0           0.98816890 79.9359                           0.001837309\n",
       "4 0           0.07549572 79.9359                           0.001940203\n",
       "5 0           0.04635003 79.9359                           0.002256377\n",
       "6 0          -0.27843896 79.9359                           0.002272123\n",
       "  pctile_risk relative_risk_classification\n",
       "1 0.7225125   High                        \n",
       "2 0.7359829   High                        \n",
       "3 0.7371534   High                        \n",
       "4 0.7469584   High                        \n",
       "5 0.7715377   High                        \n",
       "6 0.7725644   High                        "
      ]
     },
     "metadata": {},
     "output_type": "display_data"
    }
   ],
   "source": [
    "head(coups)"
   ]
  },
  {
   "cell_type": "markdown",
   "metadata": {},
   "source": [
    "*Since the dependent variable is the same as the repeated measures ANOVA you just ran, you have already tested for most of the assumptions. Just use the log for couprisk, so that you meet the assumption of normality, and note that you did violate the assumption of homogeneity of variance. The only assumption that has changed, really, is sample size - since you had added a second independent variable, you now need to have a sample size of at least 40.  You meet that so, time to jump straight into calculating your first mixed-measures ANOVA, which you'll do on the next page.*"
   ]
  },
  {
   "cell_type": "markdown",
   "metadata": {},
   "source": [
    "# end pg 6 video"
   ]
  },
  {
   "cell_type": "markdown",
   "metadata": {},
   "source": [
    "*Welcome back! Now that you've done all the prep work, it's time to create your first mixed-measures ANOVA in R. You will continue to use the same aov function as before, but there will be some additional elements added to the model so make it mixed measures and add in the factor of whether or not there was a military career in that country.*\n",
    "\n",
    "*So start off by giving your ANOVA a name. How about keeping it straight forward, with mixed measures? Then pull out that aov function.  Next you want to put in your DV that you have log transformed. After that, you'll place a tilde, indicating by, and include your IVs.  You want to cross your IVs, so you can look at the interaction effect.  So, include your between subjects variable, military career, first, then your within subjects variable, year.  Then use the plus sign to indicate that you want to do more with this model! You still need to include the error term to make this a mixed model with the within subjects, rather than a two-way between subjects ANOVA.  You want to do this by country, since that is the unique ID, and by year.*"
   ]
  },
  {
   "cell_type": "code",
   "execution_count": 9,
   "metadata": {},
   "outputs": [
    {
     "name": "stderr",
     "output_type": "stream",
     "text": [
      "Warning message in aov(coupriskLOG ~ (militarycareer * Year) + Error(country/(Year)), :\n",
      "\"Error() model is singular\""
     ]
    },
    {
     "data": {
      "text/plain": [
       "\n",
       "Error: country\n",
       "                    Df Sum Sq Mean Sq F value Pr(>F)  \n",
       "militarycareer       1  118.6  118.64   8.737 0.0317 *\n",
       "Year                22 2554.8  116.13   8.552 0.0127 *\n",
       "militarycareer:Year 20 1863.7   93.19   6.863 0.0210 *\n",
       "Residuals            5   67.9   13.58                 \n",
       "---\n",
       "Signif. codes:  0 '***' 0.001 '**' 0.01 '*' 0.05 '.' 0.1 ' ' 1\n",
       "\n",
       "Error: country:Year\n",
       "                      Df Sum Sq Mean Sq F value Pr(>F)    \n",
       "militarycareer         1    0.1    0.10   0.035  0.851    \n",
       "Year                  22 1102.2   50.10  16.826 <2e-16 ***\n",
       "militarycareer:Year   22   61.3    2.79   0.936  0.547    \n",
       "Residuals           1018 3031.2    2.98                   \n",
       "---\n",
       "Signif. codes:  0 '***' 0.001 '**' 0.01 '*' 0.05 '.' 0.1 ' ' 1\n",
       "\n",
       "Error: Within\n",
       "                       Df Sum Sq Mean Sq F value Pr(>F)    \n",
       "militarycareer          1    0.0  0.0144   0.069  0.793    \n",
       "militarycareer:Year    21   26.2  1.2469   5.999 <2e-16 ***\n",
       "Residuals           11903 2474.0  0.2078                   \n",
       "---\n",
       "Signif. codes:  0 '***' 0.001 '**' 0.01 '*' 0.05 '.' 0.1 ' ' 1"
      ]
     },
     "metadata": {},
     "output_type": "display_data"
    }
   ],
   "source": [
    "MixedMeasures <- aov(coupriskLOG~(militarycareer*Year)+Error(country/(Year)), coups)\n",
    "summary(MixedMeasures)"
   ]
  },
  {
   "cell_type": "markdown",
   "metadata": {},
   "source": [
    "*Alright! You now have a lot of output to digest.  You want to pay attention to the third block, that has the heading \"Error:Within\".  This gives you the appropriate information you need to examine the differences within country.  In the first row, you see that military career by itself does not significantly effect the risk of coup.  However, when it is crossed, or interacts, with year, as indicated by this colon here, you see that there is a significant effect.  Which means that for some years, military career did influence coup risk, and some years, it did not.*\n",
    "\n",
    "*It will take a little exploration of the means to determine what is going on here. That is where your good friend dplyr comes into play. You may not have needed to examine means before using two grouping variables, but it is relatively simple - just add a comma in your group_by argument and put in the second variable name.*"
   ]
  },
  {
   "cell_type": "code",
   "execution_count": 17,
   "metadata": {},
   "outputs": [],
   "source": [
    "coupsMeans <- coups %>% group_by(Year, militarycareer) %>% summarize(Mean = mean(couprisk))"
   ]
  },
  {
   "cell_type": "code",
   "execution_count": 18,
   "metadata": {},
   "outputs": [
    {
     "data": {
      "text/html": [
       "<table>\n",
       "<thead><tr><th scope=col>Year</th><th scope=col>militarycareer</th><th scope=col>Mean</th></tr></thead>\n",
       "<tbody>\n",
       "\t<tr><td>1997       </td><td>0          </td><td>0.004038670</td></tr>\n",
       "\t<tr><td>1997       </td><td>1          </td><td>0.006728392</td></tr>\n",
       "\t<tr><td>1998       </td><td>0          </td><td>0.005278594</td></tr>\n",
       "\t<tr><td>1998       </td><td>1          </td><td>0.005888893</td></tr>\n",
       "\t<tr><td>1999       </td><td>0          </td><td>0.004716584</td></tr>\n",
       "\t<tr><td>1999       </td><td>1          </td><td>0.006059192</td></tr>\n",
       "\t<tr><td>2000       </td><td>0          </td><td>0.004665321</td></tr>\n",
       "\t<tr><td>2000       </td><td>1          </td><td>0.006338446</td></tr>\n",
       "\t<tr><td>2001       </td><td>0          </td><td>0.003905755</td></tr>\n",
       "\t<tr><td>2001       </td><td>1          </td><td>0.004684326</td></tr>\n",
       "\t<tr><td>2002       </td><td>0          </td><td>0.003637979</td></tr>\n",
       "\t<tr><td>2002       </td><td>1          </td><td>0.003870284</td></tr>\n",
       "\t<tr><td>2003       </td><td>0          </td><td>0.004204370</td></tr>\n",
       "\t<tr><td>2003       </td><td>1          </td><td>0.004061291</td></tr>\n",
       "\t<tr><td>2004       </td><td>0          </td><td>0.003550669</td></tr>\n",
       "\t<tr><td>2004       </td><td>1          </td><td>0.002516158</td></tr>\n",
       "\t<tr><td>2005       </td><td>0          </td><td>0.003382777</td></tr>\n",
       "\t<tr><td>2005       </td><td>1          </td><td>0.002856560</td></tr>\n",
       "\t<tr><td>2006       </td><td>0          </td><td>0.002306733</td></tr>\n",
       "\t<tr><td>2006       </td><td>1          </td><td>0.002574397</td></tr>\n",
       "\t<tr><td>2007       </td><td>0          </td><td>0.001862011</td></tr>\n",
       "\t<tr><td>2007       </td><td>1          </td><td>0.001725024</td></tr>\n",
       "\t<tr><td>2008       </td><td>0          </td><td>0.002080443</td></tr>\n",
       "\t<tr><td>2008       </td><td>1          </td><td>0.002061221</td></tr>\n",
       "\t<tr><td>2009       </td><td>0          </td><td>0.003018990</td></tr>\n",
       "\t<tr><td>2009       </td><td>1          </td><td>0.003653936</td></tr>\n",
       "\t<tr><td>2010       </td><td>0          </td><td>0.002134586</td></tr>\n",
       "\t<tr><td>2010       </td><td>1          </td><td>0.002860026</td></tr>\n",
       "\t<tr><td>2011       </td><td>0          </td><td>0.002458735</td></tr>\n",
       "\t<tr><td>2011       </td><td>1          </td><td>0.002549534</td></tr>\n",
       "\t<tr><td>2012       </td><td>0          </td><td>0.003082452</td></tr>\n",
       "\t<tr><td>2012       </td><td>1          </td><td>0.003166387</td></tr>\n",
       "\t<tr><td>2013       </td><td>0          </td><td>0.003140024</td></tr>\n",
       "\t<tr><td>2013       </td><td>1          </td><td>0.001666850</td></tr>\n",
       "\t<tr><td>2014       </td><td>0          </td><td>0.002803875</td></tr>\n",
       "\t<tr><td>2014       </td><td>1          </td><td>0.002371870</td></tr>\n",
       "\t<tr><td>2015       </td><td>0          </td><td>0.003265472</td></tr>\n",
       "\t<tr><td>2015       </td><td>1          </td><td>0.002464194</td></tr>\n",
       "\t<tr><td>2016       </td><td>0          </td><td>0.002432560</td></tr>\n",
       "\t<tr><td>2016       </td><td>1          </td><td>0.002385932</td></tr>\n",
       "\t<tr><td>2017       </td><td>0          </td><td>0.002402048</td></tr>\n",
       "\t<tr><td>2017       </td><td>1          </td><td>0.002813273</td></tr>\n",
       "\t<tr><td>2018       </td><td>0          </td><td>0.002334449</td></tr>\n",
       "\t<tr><td>2018       </td><td>1          </td><td>0.002862305</td></tr>\n",
       "\t<tr><td>2019       </td><td>0          </td><td>0.004078855</td></tr>\n",
       "\t<tr><td>2019       </td><td>1          </td><td>0.004011832</td></tr>\n",
       "</tbody>\n",
       "</table>\n"
      ],
      "text/latex": [
       "\\begin{tabular}{r|lll}\n",
       " Year & militarycareer & Mean\\\\\n",
       "\\hline\n",
       "\t 1997        & 0           & 0.004038670\\\\\n",
       "\t 1997        & 1           & 0.006728392\\\\\n",
       "\t 1998        & 0           & 0.005278594\\\\\n",
       "\t 1998        & 1           & 0.005888893\\\\\n",
       "\t 1999        & 0           & 0.004716584\\\\\n",
       "\t 1999        & 1           & 0.006059192\\\\\n",
       "\t 2000        & 0           & 0.004665321\\\\\n",
       "\t 2000        & 1           & 0.006338446\\\\\n",
       "\t 2001        & 0           & 0.003905755\\\\\n",
       "\t 2001        & 1           & 0.004684326\\\\\n",
       "\t 2002        & 0           & 0.003637979\\\\\n",
       "\t 2002        & 1           & 0.003870284\\\\\n",
       "\t 2003        & 0           & 0.004204370\\\\\n",
       "\t 2003        & 1           & 0.004061291\\\\\n",
       "\t 2004        & 0           & 0.003550669\\\\\n",
       "\t 2004        & 1           & 0.002516158\\\\\n",
       "\t 2005        & 0           & 0.003382777\\\\\n",
       "\t 2005        & 1           & 0.002856560\\\\\n",
       "\t 2006        & 0           & 0.002306733\\\\\n",
       "\t 2006        & 1           & 0.002574397\\\\\n",
       "\t 2007        & 0           & 0.001862011\\\\\n",
       "\t 2007        & 1           & 0.001725024\\\\\n",
       "\t 2008        & 0           & 0.002080443\\\\\n",
       "\t 2008        & 1           & 0.002061221\\\\\n",
       "\t 2009        & 0           & 0.003018990\\\\\n",
       "\t 2009        & 1           & 0.003653936\\\\\n",
       "\t 2010        & 0           & 0.002134586\\\\\n",
       "\t 2010        & 1           & 0.002860026\\\\\n",
       "\t 2011        & 0           & 0.002458735\\\\\n",
       "\t 2011        & 1           & 0.002549534\\\\\n",
       "\t 2012        & 0           & 0.003082452\\\\\n",
       "\t 2012        & 1           & 0.003166387\\\\\n",
       "\t 2013        & 0           & 0.003140024\\\\\n",
       "\t 2013        & 1           & 0.001666850\\\\\n",
       "\t 2014        & 0           & 0.002803875\\\\\n",
       "\t 2014        & 1           & 0.002371870\\\\\n",
       "\t 2015        & 0           & 0.003265472\\\\\n",
       "\t 2015        & 1           & 0.002464194\\\\\n",
       "\t 2016        & 0           & 0.002432560\\\\\n",
       "\t 2016        & 1           & 0.002385932\\\\\n",
       "\t 2017        & 0           & 0.002402048\\\\\n",
       "\t 2017        & 1           & 0.002813273\\\\\n",
       "\t 2018        & 0           & 0.002334449\\\\\n",
       "\t 2018        & 1           & 0.002862305\\\\\n",
       "\t 2019        & 0           & 0.004078855\\\\\n",
       "\t 2019        & 1           & 0.004011832\\\\\n",
       "\\end{tabular}\n"
      ],
      "text/markdown": [
       "\n",
       "Year | militarycareer | Mean | \n",
       "|---|---|---|---|---|---|---|---|---|---|---|---|---|---|---|---|---|---|---|---|---|---|---|---|---|---|---|---|---|---|---|---|---|---|---|---|---|---|---|---|---|---|---|---|---|---|\n",
       "| 1997        | 0           | 0.004038670 | \n",
       "| 1997        | 1           | 0.006728392 | \n",
       "| 1998        | 0           | 0.005278594 | \n",
       "| 1998        | 1           | 0.005888893 | \n",
       "| 1999        | 0           | 0.004716584 | \n",
       "| 1999        | 1           | 0.006059192 | \n",
       "| 2000        | 0           | 0.004665321 | \n",
       "| 2000        | 1           | 0.006338446 | \n",
       "| 2001        | 0           | 0.003905755 | \n",
       "| 2001        | 1           | 0.004684326 | \n",
       "| 2002        | 0           | 0.003637979 | \n",
       "| 2002        | 1           | 0.003870284 | \n",
       "| 2003        | 0           | 0.004204370 | \n",
       "| 2003        | 1           | 0.004061291 | \n",
       "| 2004        | 0           | 0.003550669 | \n",
       "| 2004        | 1           | 0.002516158 | \n",
       "| 2005        | 0           | 0.003382777 | \n",
       "| 2005        | 1           | 0.002856560 | \n",
       "| 2006        | 0           | 0.002306733 | \n",
       "| 2006        | 1           | 0.002574397 | \n",
       "| 2007        | 0           | 0.001862011 | \n",
       "| 2007        | 1           | 0.001725024 | \n",
       "| 2008        | 0           | 0.002080443 | \n",
       "| 2008        | 1           | 0.002061221 | \n",
       "| 2009        | 0           | 0.003018990 | \n",
       "| 2009        | 1           | 0.003653936 | \n",
       "| 2010        | 0           | 0.002134586 | \n",
       "| 2010        | 1           | 0.002860026 | \n",
       "| 2011        | 0           | 0.002458735 | \n",
       "| 2011        | 1           | 0.002549534 | \n",
       "| 2012        | 0           | 0.003082452 | \n",
       "| 2012        | 1           | 0.003166387 | \n",
       "| 2013        | 0           | 0.003140024 | \n",
       "| 2013        | 1           | 0.001666850 | \n",
       "| 2014        | 0           | 0.002803875 | \n",
       "| 2014        | 1           | 0.002371870 | \n",
       "| 2015        | 0           | 0.003265472 | \n",
       "| 2015        | 1           | 0.002464194 | \n",
       "| 2016        | 0           | 0.002432560 | \n",
       "| 2016        | 1           | 0.002385932 | \n",
       "| 2017        | 0           | 0.002402048 | \n",
       "| 2017        | 1           | 0.002813273 | \n",
       "| 2018        | 0           | 0.002334449 | \n",
       "| 2018        | 1           | 0.002862305 | \n",
       "| 2019        | 0           | 0.004078855 | \n",
       "| 2019        | 1           | 0.004011832 | \n",
       "\n",
       "\n"
      ],
      "text/plain": [
       "   Year militarycareer Mean       \n",
       "1  1997 0              0.004038670\n",
       "2  1997 1              0.006728392\n",
       "3  1998 0              0.005278594\n",
       "4  1998 1              0.005888893\n",
       "5  1999 0              0.004716584\n",
       "6  1999 1              0.006059192\n",
       "7  2000 0              0.004665321\n",
       "8  2000 1              0.006338446\n",
       "9  2001 0              0.003905755\n",
       "10 2001 1              0.004684326\n",
       "11 2002 0              0.003637979\n",
       "12 2002 1              0.003870284\n",
       "13 2003 0              0.004204370\n",
       "14 2003 1              0.004061291\n",
       "15 2004 0              0.003550669\n",
       "16 2004 1              0.002516158\n",
       "17 2005 0              0.003382777\n",
       "18 2005 1              0.002856560\n",
       "19 2006 0              0.002306733\n",
       "20 2006 1              0.002574397\n",
       "21 2007 0              0.001862011\n",
       "22 2007 1              0.001725024\n",
       "23 2008 0              0.002080443\n",
       "24 2008 1              0.002061221\n",
       "25 2009 0              0.003018990\n",
       "26 2009 1              0.003653936\n",
       "27 2010 0              0.002134586\n",
       "28 2010 1              0.002860026\n",
       "29 2011 0              0.002458735\n",
       "30 2011 1              0.002549534\n",
       "31 2012 0              0.003082452\n",
       "32 2012 1              0.003166387\n",
       "33 2013 0              0.003140024\n",
       "34 2013 1              0.001666850\n",
       "35 2014 0              0.002803875\n",
       "36 2014 1              0.002371870\n",
       "37 2015 0              0.003265472\n",
       "38 2015 1              0.002464194\n",
       "39 2016 0              0.002432560\n",
       "40 2016 1              0.002385932\n",
       "41 2017 0              0.002402048\n",
       "42 2017 1              0.002813273\n",
       "43 2018 0              0.002334449\n",
       "44 2018 1              0.002862305\n",
       "45 2019 0              0.004078855\n",
       "46 2019 1              0.004011832"
      ]
     },
     "metadata": {},
     "output_type": "display_data"
    }
   ],
   "source": [
    "coupsMeans"
   ]
  },
  {
   "cell_type": "markdown",
   "metadata": {},
   "source": [
    "*It looks like in the early years, from 1997 to 2001ish, that a country having a military career did increase their risk of having a coup.  But as the years went on, those differences all but vanished, and in fact, in a few cases, like 2015, for instance, the risk of coup even dropped with a military career. What caused those changes? As a data scientist, you would want to start exploring how the early years differed from the later years with the data you have, and you'd want to use your expertise in African political science (or let's be honest, someone else's expertise) to think through the problem and maybe even test out a few hypotheses.*"
   ]
  },
  {
   "cell_type": "code",
   "execution_count": null,
   "metadata": {},
   "outputs": [],
   "source": []
  }
 ],
 "metadata": {
  "kernelspec": {
   "display_name": "R",
   "language": "R",
   "name": "ir"
  },
  "language_info": {
   "codemirror_mode": "r",
   "file_extension": ".r",
   "mimetype": "text/x-r-source",
   "name": "R",
   "pygments_lexer": "r",
   "version": "4.1.0"
  }
 },
 "nbformat": 4,
 "nbformat_minor": 4
}
