{
 "cells": [
  {
   "cell_type": "markdown",
   "metadata": {},
   "source": [
    "### Storage Cost Model\n",
    "\n",
    "\\begin{align}\n",
    "C_{Tn}=[M+y=1nGy]xCxC_{CY}+U_n*C_I\n",
    "\\end{align}"
   ]
  },
  {
   "cell_type": "markdown",
   "metadata": {},
   "source": [
    "The difference between purchasing on-premises storage and consuming public cloud storage comes down to the difference between capex and opex models. \n",
    "\n",
    "__Capex, or capital expenditures__, are incurred when a company or government organization spends money to invest in new equipment. \n",
    "\n",
    "__Opex, or operating expenses__, take place on a regular basis and represent a part of the day-to-day operation of the company or government organization. \n",
    "\n",
    "Investing in new equipment is called capex, while consuming storage in the cloud is mostly opex, since bills are paid monthly and based on usage (a cost for operating the cloud, rather than the physical hardware)."
   ]
  },
  {
   "cell_type": "markdown",
   "metadata": {},
   "source": [
    "- $C_T$ is the storage cost of a given year, $n$\n",
    "- $M$ is the initial volume of data migrated from storage\n",
    "- $G$ is the volume of growth based on past experience and future estimates for years 1-3, 4-6 and 7-9\n",
    "- $C$ is the current storage costs per \\\\$/TB/year, i.e. \\\\$12/TB/year = \\\\$12000/PB/year\n",
    "- $C_C$ is the change in cost represented as a decrease of 25\\% over today's cost every 3 years e.g. $C_C$ in years 1-3 is 1, representing \\\\$12/TB/yr, $C_C$ in years 4-6 is .75, representing \\\\$9/12/TB/yr, $C_C$ in years 7-9 is .5, representing \\\\$6/12/TB/yr\n",
    "- $Y$ is the year, one of 1-3, 4-6, 7-9\n",
    "- $U$ is the amount of data uploaded each year\n",
    "- $C_I$ is the ingest cost of 6% of one year's storage cost for the volume in that year\n",
    "- $C_E$ is the egress cost per year based on the estimate 2\\% of the data being recalled (not included in the above equation)"
   ]
  },
  {
   "cell_type": "markdown",
   "metadata": {},
   "source": [
    "### Compute Cost Model\n",
    "\n",
    "- TODO: design\n",
    "- TODO: ingest current retail prices from Azure, GCP and AWS"
   ]
  },
  {
   "cell_type": "markdown",
   "metadata": {},
   "source": [
    "- Azure API endpoint\n",
    "https://prices.azure.com/api/retail/prices\n",
    "\n",
    "- example to pull 'Virtual Machines' prices\n",
    "https://prices.azure.com/api/retail/prices?$filter=serviceName eq 'Virtual Machines'\n",
    "\n",
    "we'll need to create a base url = https://prices.azure.com/api/retail/prices\n",
    "\n",
    "- Azure Computer\n",
    "https://prices.azure.com/api/retail/prices?$filter=serviceFamily eq 'Compute'\n",
    "\n",
    "https://azure.microsoft.com/en-in/pricing/calculator/\n",
    "\n"
   ]
  },
  {
   "cell_type": "code",
   "execution_count": 1,
   "metadata": {},
   "outputs": [],
   "source": [
    "import requests\n",
    "import json "
   ]
  },
  {
   "cell_type": "code",
   "execution_count": 164,
   "metadata": {},
   "outputs": [],
   "source": [
    "# setup the URL part\n",
    "base_url = \"https://prices.azure.com/api/retail/prices?$\"\n",
    "query = \"filter=serviceName eq 'Virtual Machines'\"\n",
    "query2 = \"filter=serviceFamily eq 'Compute'\""
   ]
  },
  {
   "cell_type": "code",
   "execution_count": 166,
   "metadata": {},
   "outputs": [
    {
     "name": "stdout",
     "output_type": "stream",
     "text": [
      "200\n"
     ]
    }
   ],
   "source": [
    "# build and execute the request using the base URL, plus endpoint, plus query parameters\n",
    "azure_url = base_url + query\n",
    "azure_url2 = base_url + query2\n",
    "#response = requests.get(azure_url).json()\n",
    "response = requests.get(azure_url)\n",
    "response2 = requests.get(azure_url2)\n",
    "check = response2.status_code\n",
    "print(check)"
   ]
  },
  {
   "cell_type": "code",
   "execution_count": 66,
   "metadata": {},
   "outputs": [
    {
     "name": "stdout",
     "output_type": "stream",
     "text": [
      "Success\n"
     ]
    }
   ],
   "source": [
    "if response.status_code == 200:\n",
    "  print('Success')\n",
    "  #response_string = json.loads(response.text) # load the string version of the response to a json object\n"
   ]
  },
  {
   "cell_type": "code",
   "execution_count": 58,
   "metadata": {},
   "outputs": [
    {
     "name": "stdout",
     "output_type": "stream",
     "text": [
      "application/json; charset=utf-8\n"
     ]
    }
   ],
   "source": [
    "headers = response.headers['Content-Type']\n",
    "print(headers)"
   ]
  },
  {
   "cell_type": "code",
   "execution_count": 167,
   "metadata": {},
   "outputs": [
    {
     "data": {
      "text/plain": [
       "dict"
      ]
     },
     "execution_count": 167,
     "metadata": {},
     "output_type": "execute_result"
    }
   ],
   "source": [
    "j = response2.json()\n",
    "type(j)"
   ]
  },
  {
   "cell_type": "code",
   "execution_count": 168,
   "metadata": {},
   "outputs": [
    {
     "data": {
      "text/plain": [
       "dict_keys(['BillingCurrency', 'CustomerEntityId', 'CustomerEntityType', 'Items', 'NextPageLink', 'Count'])"
      ]
     },
     "execution_count": 168,
     "metadata": {},
     "output_type": "execute_result"
    }
   ],
   "source": [
    "j.keys()"
   ]
  },
  {
   "cell_type": "code",
   "execution_count": 173,
   "metadata": {},
   "outputs": [],
   "source": [
    "#j['Items']\n",
    "data = pd.DataFrame.from_dict(j['Items'])"
   ]
  },
  {
   "cell_type": "code",
   "execution_count": 174,
   "metadata": {},
   "outputs": [
    {
     "name": "stdout",
     "output_type": "stream",
     "text": [
      "https://prices.azure.com/api/retail/prices?$filter=serviceFamily%20eq%20'Compute'\n"
     ]
    }
   ],
   "source": [
    "last_url = response2.url\n",
    "print(last_url)"
   ]
  },
  {
   "cell_type": "code",
   "execution_count": 214,
   "metadata": {},
   "outputs": [
    {
     "data": {
      "text/plain": [
       "<Response [200]>"
      ]
     },
     "execution_count": 214,
     "metadata": {},
     "output_type": "execute_result"
    }
   ],
   "source": [
    "import pandas as pd\n",
    "pd.set_option('display.max_columns',100) \n",
    "pd.set_option('display.max_rows', 1000)\n",
    "response2"
   ]
  },
  {
   "cell_type": "code",
   "execution_count": 210,
   "metadata": {},
   "outputs": [
    {
     "data": {
      "text/html": [
       "<div>\n",
       "<style scoped>\n",
       "    .dataframe tbody tr th:only-of-type {\n",
       "        vertical-align: middle;\n",
       "    }\n",
       "\n",
       "    .dataframe tbody tr th {\n",
       "        vertical-align: top;\n",
       "    }\n",
       "\n",
       "    .dataframe thead th {\n",
       "        text-align: right;\n",
       "    }\n",
       "</style>\n",
       "<table border=\"1\" class=\"dataframe\">\n",
       "  <thead>\n",
       "    <tr style=\"text-align: right;\">\n",
       "      <th></th>\n",
       "      <th>currencyCode</th>\n",
       "      <th>tierMinimumUnits</th>\n",
       "      <th>retailPrice</th>\n",
       "      <th>unitPrice</th>\n",
       "      <th>armRegionName</th>\n",
       "      <th>location</th>\n",
       "      <th>effectiveStartDate</th>\n",
       "      <th>meterId</th>\n",
       "      <th>meterName</th>\n",
       "      <th>productId</th>\n",
       "      <th>skuId</th>\n",
       "      <th>productName</th>\n",
       "      <th>skuName</th>\n",
       "      <th>serviceName</th>\n",
       "      <th>serviceId</th>\n",
       "      <th>serviceFamily</th>\n",
       "      <th>unitOfMeasure</th>\n",
       "      <th>type</th>\n",
       "      <th>isPrimaryMeterRegion</th>\n",
       "      <th>armSkuName</th>\n",
       "      <th>reservationTerm</th>\n",
       "    </tr>\n",
       "  </thead>\n",
       "  <tbody>\n",
       "    <tr>\n",
       "      <th>0</th>\n",
       "      <td>USD</td>\n",
       "      <td>0.0</td>\n",
       "      <td>0.062988</td>\n",
       "      <td>0.062988</td>\n",
       "      <td>uknorth</td>\n",
       "      <td>UK North</td>\n",
       "      <td>2019-10-16T00:00:00Z</td>\n",
       "      <td>0001e46a-9285-5fa8-b48a-240e307a24f7</td>\n",
       "      <td>A3 Spot</td>\n",
       "      <td>DZH318Z0BPVJ</td>\n",
       "      <td>DZH318Z0BPVJ/018M</td>\n",
       "      <td>Virtual Machines A Series Windows</td>\n",
       "      <td>A3 Spot</td>\n",
       "      <td>Virtual Machines</td>\n",
       "      <td>DZH313Z7MMC8</td>\n",
       "      <td>Compute</td>\n",
       "      <td>1 Hour</td>\n",
       "      <td>DevTestConsumption</td>\n",
       "      <td>True</td>\n",
       "      <td>Standard_A3</td>\n",
       "      <td>NaN</td>\n",
       "    </tr>\n",
       "    <tr>\n",
       "      <th>1</th>\n",
       "      <td>USD</td>\n",
       "      <td>0.0</td>\n",
       "      <td>0.190000</td>\n",
       "      <td>0.190000</td>\n",
       "      <td>uknorth</td>\n",
       "      <td>UK North</td>\n",
       "      <td>2019-10-16T00:00:00Z</td>\n",
       "      <td>0001e46a-9285-5fa8-b48a-240e307a24f7</td>\n",
       "      <td>A3 Spot</td>\n",
       "      <td>DZH318Z0BPVJ</td>\n",
       "      <td>DZH318Z0BPVJ/018M</td>\n",
       "      <td>Virtual Machines A Series Windows</td>\n",
       "      <td>A3 Spot</td>\n",
       "      <td>Virtual Machines</td>\n",
       "      <td>DZH313Z7MMC8</td>\n",
       "      <td>Compute</td>\n",
       "      <td>1 Hour</td>\n",
       "      <td>Consumption</td>\n",
       "      <td>True</td>\n",
       "      <td>Standard_A3</td>\n",
       "      <td>NaN</td>\n",
       "    </tr>\n",
       "    <tr>\n",
       "      <th>2</th>\n",
       "      <td>USD</td>\n",
       "      <td>0.0</td>\n",
       "      <td>0.023600</td>\n",
       "      <td>0.023600</td>\n",
       "      <td>westindia</td>\n",
       "      <td>IN West</td>\n",
       "      <td>2021-02-01T00:00:00Z</td>\n",
       "      <td>000419bc-6006-53ea-8976-1644249b9728</td>\n",
       "      <td>D2 v4 Low Priority</td>\n",
       "      <td>DZH318Z0D1L4</td>\n",
       "      <td>DZH318Z0D1L4/01TB</td>\n",
       "      <td>Virtual Machines Dv4 Series</td>\n",
       "      <td>D2 v4 Low Priority</td>\n",
       "      <td>Virtual Machines</td>\n",
       "      <td>DZH313Z7MMC8</td>\n",
       "      <td>Compute</td>\n",
       "      <td>1 Hour</td>\n",
       "      <td>Consumption</td>\n",
       "      <td>True</td>\n",
       "      <td>Standard_D2_v4</td>\n",
       "      <td>NaN</td>\n",
       "    </tr>\n",
       "    <tr>\n",
       "      <th>3</th>\n",
       "      <td>USD</td>\n",
       "      <td>0.0</td>\n",
       "      <td>1.482000</td>\n",
       "      <td>1.482000</td>\n",
       "      <td>northcentralus</td>\n",
       "      <td>US North Central</td>\n",
       "      <td>2018-09-01T00:00:00Z</td>\n",
       "      <td>0008a792-d49f-4f13-a461-9c9f24e92ccf</td>\n",
       "      <td>D14 v2/DS14 v2 - Expired</td>\n",
       "      <td>DZH318Z0BPSP</td>\n",
       "      <td>DZH318Z0BPSP/001D</td>\n",
       "      <td>Virtual Machines Dv2 promo Series</td>\n",
       "      <td>D14 v2</td>\n",
       "      <td>Virtual Machines</td>\n",
       "      <td>DZH313Z7MMC8</td>\n",
       "      <td>Compute</td>\n",
       "      <td>1 Hour</td>\n",
       "      <td>Consumption</td>\n",
       "      <td>True</td>\n",
       "      <td>Standard_D14_v2_Promo</td>\n",
       "      <td>NaN</td>\n",
       "    </tr>\n",
       "    <tr>\n",
       "      <th>4</th>\n",
       "      <td>USD</td>\n",
       "      <td>0.0</td>\n",
       "      <td>1.482000</td>\n",
       "      <td>1.482000</td>\n",
       "      <td>northcentralus</td>\n",
       "      <td>US North Central</td>\n",
       "      <td>2018-09-01T00:00:00Z</td>\n",
       "      <td>0008a792-d49f-4f13-a461-9c9f24e92ccf</td>\n",
       "      <td>DS14 v2 - Expired</td>\n",
       "      <td>DZH318Z0BPSQ</td>\n",
       "      <td>DZH318Z0BPSQ/000Z</td>\n",
       "      <td>Virtual Machines DSv2 promo Series</td>\n",
       "      <td>DS14 v2</td>\n",
       "      <td>Virtual Machines</td>\n",
       "      <td>DZH313Z7MMC8</td>\n",
       "      <td>Compute</td>\n",
       "      <td>1 Hour</td>\n",
       "      <td>Consumption</td>\n",
       "      <td>False</td>\n",
       "      <td>Standard_DS14_v2_Promo</td>\n",
       "      <td>NaN</td>\n",
       "    </tr>\n",
       "  </tbody>\n",
       "</table>\n",
       "</div>"
      ],
      "text/plain": [
       "  currencyCode  tierMinimumUnits  retailPrice  unitPrice   armRegionName  \\\n",
       "0          USD               0.0     0.062988   0.062988         uknorth   \n",
       "1          USD               0.0     0.190000   0.190000         uknorth   \n",
       "2          USD               0.0     0.023600   0.023600       westindia   \n",
       "3          USD               0.0     1.482000   1.482000  northcentralus   \n",
       "4          USD               0.0     1.482000   1.482000  northcentralus   \n",
       "\n",
       "           location    effectiveStartDate  \\\n",
       "0          UK North  2019-10-16T00:00:00Z   \n",
       "1          UK North  2019-10-16T00:00:00Z   \n",
       "2           IN West  2021-02-01T00:00:00Z   \n",
       "3  US North Central  2018-09-01T00:00:00Z   \n",
       "4  US North Central  2018-09-01T00:00:00Z   \n",
       "\n",
       "                                meterId                 meterName  \\\n",
       "0  0001e46a-9285-5fa8-b48a-240e307a24f7                   A3 Spot   \n",
       "1  0001e46a-9285-5fa8-b48a-240e307a24f7                   A3 Spot   \n",
       "2  000419bc-6006-53ea-8976-1644249b9728        D2 v4 Low Priority   \n",
       "3  0008a792-d49f-4f13-a461-9c9f24e92ccf  D14 v2/DS14 v2 - Expired   \n",
       "4  0008a792-d49f-4f13-a461-9c9f24e92ccf         DS14 v2 - Expired   \n",
       "\n",
       "      productId              skuId                         productName  \\\n",
       "0  DZH318Z0BPVJ  DZH318Z0BPVJ/018M   Virtual Machines A Series Windows   \n",
       "1  DZH318Z0BPVJ  DZH318Z0BPVJ/018M   Virtual Machines A Series Windows   \n",
       "2  DZH318Z0D1L4  DZH318Z0D1L4/01TB         Virtual Machines Dv4 Series   \n",
       "3  DZH318Z0BPSP  DZH318Z0BPSP/001D   Virtual Machines Dv2 promo Series   \n",
       "4  DZH318Z0BPSQ  DZH318Z0BPSQ/000Z  Virtual Machines DSv2 promo Series   \n",
       "\n",
       "              skuName       serviceName     serviceId serviceFamily  \\\n",
       "0             A3 Spot  Virtual Machines  DZH313Z7MMC8       Compute   \n",
       "1             A3 Spot  Virtual Machines  DZH313Z7MMC8       Compute   \n",
       "2  D2 v4 Low Priority  Virtual Machines  DZH313Z7MMC8       Compute   \n",
       "3              D14 v2  Virtual Machines  DZH313Z7MMC8       Compute   \n",
       "4             DS14 v2  Virtual Machines  DZH313Z7MMC8       Compute   \n",
       "\n",
       "  unitOfMeasure                type  isPrimaryMeterRegion  \\\n",
       "0        1 Hour  DevTestConsumption                  True   \n",
       "1        1 Hour         Consumption                  True   \n",
       "2        1 Hour         Consumption                  True   \n",
       "3        1 Hour         Consumption                  True   \n",
       "4        1 Hour         Consumption                 False   \n",
       "\n",
       "               armSkuName reservationTerm  \n",
       "0             Standard_A3             NaN  \n",
       "1             Standard_A3             NaN  \n",
       "2          Standard_D2_v4             NaN  \n",
       "3   Standard_D14_v2_Promo             NaN  \n",
       "4  Standard_DS14_v2_Promo             NaN  "
      ]
     },
     "execution_count": 210,
     "metadata": {},
     "output_type": "execute_result"
    }
   ],
   "source": [
    "data.head(5)\n"
   ]
  },
  {
   "cell_type": "code",
   "execution_count": 211,
   "metadata": {},
   "outputs": [],
   "source": [
    "dropped_data = data.drop(['currencyCode', 'tierMinimumUnits', 'effectiveStartDate', 'meterId', 'productId', 'skuId', 'serviceName', 'serviceFamily', 'type', 'isPrimaryMeterRegion', 'reservationTerm'], axis=1)"
   ]
  },
  {
   "cell_type": "code",
   "execution_count": 212,
   "metadata": {},
   "outputs": [
    {
     "data": {
      "text/plain": [
       "(100, 10)"
      ]
     },
     "execution_count": 212,
     "metadata": {},
     "output_type": "execute_result"
    }
   ],
   "source": [
    "dropped_data.shape"
   ]
  },
  {
   "cell_type": "code",
   "execution_count": 216,
   "metadata": {},
   "outputs": [
    {
     "data": {
      "text/plain": [
       "0             UK North\n",
       "1             UK North\n",
       "2              IN West\n",
       "3     US North Central\n",
       "4     US North Central\n",
       "5             BR South\n",
       "6           US Central\n",
       "7              EU West\n",
       "8              EU West\n",
       "9              IN West\n",
       "10           US Gov TX\n",
       "11          AE Central\n",
       "12             US East\n",
       "13             ZA West\n",
       "14             ZA West\n",
       "15             JA East\n",
       "16             JA East\n",
       "17        AU Southeast\n",
       "18        AU Southeast\n",
       "19            EU North\n",
       "20            EU North\n",
       "21          AE Central\n",
       "22        AP Southeast\n",
       "23        AP Southeast\n",
       "24             AU East\n",
       "25             AU East\n",
       "26           US Gov AZ\n",
       "27           US Gov AZ\n",
       "28           US Gov AZ\n",
       "29             JA West\n",
       "30             JA West\n",
       "31          CA Central\n",
       "32          CA Central\n",
       "33            BR South\n",
       "34            BR South\n",
       "35    US South Central\n",
       "36    US South Central\n",
       "37    US South Central\n",
       "38            IN South\n",
       "39           US Gov AZ\n",
       "40            IN South\n",
       "41            IN South\n",
       "42            AE North\n",
       "43            AE North\n",
       "44            UK North\n",
       "45            UK North\n",
       "46           US West 2\n",
       "47           US West 2\n",
       "48           US West 2\n",
       "49           US West 2\n",
       "50             EU West\n",
       "51             EU West\n",
       "52          AE Central\n",
       "53          US Central\n",
       "54          US Central\n",
       "55             ZA West\n",
       "56             ZA West\n",
       "57             IN West\n",
       "58             IN West\n",
       "59           US West 2\n",
       "60          AU Central\n",
       "61          AU Central\n",
       "62           US East 2\n",
       "63           US East 2\n",
       "64            BR South\n",
       "65            BR South\n",
       "66          AU Central\n",
       "67            DE North\n",
       "68            DE North\n",
       "69          US Central\n",
       "70          US Central\n",
       "71          US Central\n",
       "72          US Central\n",
       "73          US Central\n",
       "74          US Central\n",
       "75          US Central\n",
       "76          US Central\n",
       "77          US Central\n",
       "78             ZA West\n",
       "79             ZA West\n",
       "80    US North Central\n",
       "81          US Central\n",
       "82            CH North\n",
       "83             NO East\n",
       "84             NO East\n",
       "85             NO East\n",
       "86             US West\n",
       "87           US West 2\n",
       "88           US West 2\n",
       "89          AE Central\n",
       "90          AE Central\n",
       "91          AE Central\n",
       "92          AE Central\n",
       "93          AE Central\n",
       "94          AE Central\n",
       "95          AE Central\n",
       "96          AE Central\n",
       "97          US Central\n",
       "98          US Central\n",
       "99            BR South\n",
       "Name: location, dtype: object"
      ]
     },
     "execution_count": 216,
     "metadata": {},
     "output_type": "execute_result"
    }
   ],
   "source": [
    "dropped_data['location']"
   ]
  },
  {
   "cell_type": "code",
   "execution_count": 195,
   "metadata": {},
   "outputs": [
    {
     "data": {
      "text/plain": [
       "retailPrice      float64\n",
       "unitPrice        float64\n",
       "armRegionName     object\n",
       "location          object\n",
       "meterName         object\n",
       "productName       object\n",
       "skuName           object\n",
       "serviceId         object\n",
       "unitOfMeasure     object\n",
       "armSkuName        object\n",
       "dtype: object"
      ]
     },
     "execution_count": 195,
     "metadata": {},
     "output_type": "execute_result"
    }
   ],
   "source": [
    "dropped_data.dtypes"
   ]
  },
  {
   "cell_type": "code",
   "execution_count": 207,
   "metadata": {},
   "outputs": [
    {
     "ename": "NameError",
     "evalue": "name 'eastus1' is not defined",
     "output_type": "error",
     "traceback": [
      "\u001b[0;31m---------------------------------------------------------------------------\u001b[0m",
      "\u001b[0;31mNameError\u001b[0m                                 Traceback (most recent call last)",
      "\u001b[0;32m<ipython-input-207-70ff25f833d9>\u001b[0m in \u001b[0;36m<module>\u001b[0;34m\u001b[0m\n\u001b[0;32m----> 1\u001b[0;31m \u001b[0mdf1\u001b[0m \u001b[0;34m=\u001b[0m \u001b[0mpd\u001b[0m\u001b[0;34m.\u001b[0m\u001b[0mDataFrame\u001b[0m\u001b[0;34m(\u001b[0m\u001b[0;34m{\u001b[0m\u001b[0;34m'armRegionName'\u001b[0m\u001b[0;34m:\u001b[0m \u001b[0meastus1\u001b[0m\u001b[0;34m}\u001b[0m\u001b[0;34m)\u001b[0m\u001b[0;34m\u001b[0m\u001b[0;34m\u001b[0m\u001b[0m\n\u001b[0m",
      "\u001b[0;31mNameError\u001b[0m: name 'eastus1' is not defined"
     ]
    }
   ],
   "source": [
    "df1 = pd.DataFrame({'armRegionName': eastus1})"
   ]
  },
  {
   "cell_type": "code",
   "execution_count": 196,
   "metadata": {},
   "outputs": [
    {
     "data": {
      "text/html": [
       "<div>\n",
       "<style scoped>\n",
       "    .dataframe tbody tr th:only-of-type {\n",
       "        vertical-align: middle;\n",
       "    }\n",
       "\n",
       "    .dataframe tbody tr th {\n",
       "        vertical-align: top;\n",
       "    }\n",
       "\n",
       "    .dataframe thead th {\n",
       "        text-align: right;\n",
       "    }\n",
       "</style>\n",
       "<table border=\"1\" class=\"dataframe\">\n",
       "  <thead>\n",
       "    <tr style=\"text-align: right;\">\n",
       "      <th></th>\n",
       "      <th>retailPrice</th>\n",
       "      <th>unitPrice</th>\n",
       "      <th>armRegionName</th>\n",
       "      <th>location</th>\n",
       "      <th>meterName</th>\n",
       "      <th>productName</th>\n",
       "      <th>skuName</th>\n",
       "      <th>serviceId</th>\n",
       "      <th>unitOfMeasure</th>\n",
       "      <th>armSkuName</th>\n",
       "    </tr>\n",
       "  </thead>\n",
       "  <tbody>\n",
       "    <tr>\n",
       "      <th>66</th>\n",
       "      <td>0.655000</td>\n",
       "      <td>0.655000</td>\n",
       "      <td>australiacentral</td>\n",
       "      <td>AU Central</td>\n",
       "      <td>A8m v2</td>\n",
       "      <td>Virtual Machines Av2 Series</td>\n",
       "      <td>A8m v2</td>\n",
       "      <td>DZH313Z7MMC8</td>\n",
       "      <td>1 Hour</td>\n",
       "      <td>Standard_A8m_v2</td>\n",
       "    </tr>\n",
       "    <tr>\n",
       "      <th>59</th>\n",
       "      <td>0.723000</td>\n",
       "      <td>0.723000</td>\n",
       "      <td>westus2</td>\n",
       "      <td>US West 2</td>\n",
       "      <td>D64ds v4 Low Priority</td>\n",
       "      <td>Virtual Machines Ddsv4 Series</td>\n",
       "      <td>D64ds v4 Low Priority</td>\n",
       "      <td>DZH313Z7MMC8</td>\n",
       "      <td>1 Hour</td>\n",
       "      <td>Standard_D64ds_v4</td>\n",
       "    </tr>\n",
       "    <tr>\n",
       "      <th>46</th>\n",
       "      <td>0.605000</td>\n",
       "      <td>0.605000</td>\n",
       "      <td>westus2</td>\n",
       "      <td>US West 2</td>\n",
       "      <td>E48s v3 Low Priority</td>\n",
       "      <td>Virtual Machines ESv3 Series Windows</td>\n",
       "      <td>E48s v3 Low Priority</td>\n",
       "      <td>DZH313Z7MMC8</td>\n",
       "      <td>1 Hour</td>\n",
       "      <td>Standard_E48s_v3</td>\n",
       "    </tr>\n",
       "    <tr>\n",
       "      <th>56</th>\n",
       "      <td>0.194661</td>\n",
       "      <td>0.194661</td>\n",
       "      <td>southafricawest</td>\n",
       "      <td>ZA West</td>\n",
       "      <td>E16ds v4 Spot</td>\n",
       "      <td>Virtual Machines Edsv4 Series Windows</td>\n",
       "      <td>E16ds v4 Spot</td>\n",
       "      <td>DZH313Z7MMC8</td>\n",
       "      <td>1 Hour</td>\n",
       "      <td>Standard_E16ds_v4</td>\n",
       "    </tr>\n",
       "    <tr>\n",
       "      <th>20</th>\n",
       "      <td>0.150400</td>\n",
       "      <td>0.150400</td>\n",
       "      <td>northeurope</td>\n",
       "      <td>EU North</td>\n",
       "      <td>F4s v2 Low Priority</td>\n",
       "      <td>Cloud Services FSv2 Series</td>\n",
       "      <td>F4s v2 Low Priority</td>\n",
       "      <td>DZH31671GG75</td>\n",
       "      <td>1 Hour</td>\n",
       "      <td></td>\n",
       "    </tr>\n",
       "  </tbody>\n",
       "</table>\n",
       "</div>"
      ],
      "text/plain": [
       "    retailPrice  unitPrice     armRegionName    location  \\\n",
       "66     0.655000   0.655000  australiacentral  AU Central   \n",
       "59     0.723000   0.723000           westus2   US West 2   \n",
       "46     0.605000   0.605000           westus2   US West 2   \n",
       "56     0.194661   0.194661   southafricawest     ZA West   \n",
       "20     0.150400   0.150400       northeurope    EU North   \n",
       "\n",
       "                meterName                            productName  \\\n",
       "66                 A8m v2            Virtual Machines Av2 Series   \n",
       "59  D64ds v4 Low Priority          Virtual Machines Ddsv4 Series   \n",
       "46   E48s v3 Low Priority   Virtual Machines ESv3 Series Windows   \n",
       "56          E16ds v4 Spot  Virtual Machines Edsv4 Series Windows   \n",
       "20    F4s v2 Low Priority             Cloud Services FSv2 Series   \n",
       "\n",
       "                  skuName     serviceId unitOfMeasure         armSkuName  \n",
       "66                 A8m v2  DZH313Z7MMC8        1 Hour    Standard_A8m_v2  \n",
       "59  D64ds v4 Low Priority  DZH313Z7MMC8        1 Hour  Standard_D64ds_v4  \n",
       "46   E48s v3 Low Priority  DZH313Z7MMC8        1 Hour   Standard_E48s_v3  \n",
       "56          E16ds v4 Spot  DZH313Z7MMC8        1 Hour  Standard_E16ds_v4  \n",
       "20    F4s v2 Low Priority  DZH31671GG75        1 Hour                     "
      ]
     },
     "execution_count": 196,
     "metadata": {},
     "output_type": "execute_result"
    }
   ],
   "source": [
    "dropped_data.head()\n",
    "dropped_data.tail()\n",
    "dropped_data.sample(5)"
   ]
  },
  {
   "cell_type": "code",
   "execution_count": 198,
   "metadata": {},
   "outputs": [
    {
     "data": {
      "image/png": "[encoded data removed]",
      "text/plain": [
       "<Figure size 1008x1008 with 2 Axes>"
      ]
     },
     "metadata": {},
     "output_type": "display_data"
    }
   ],
   "source": [
    "import numpy as np \n",
    "import matplotlib.pyplot as plt\n",
    "pd.set_option('display.max_columns',100) \n",
    "%matplotlib inline\n",
    "import seaborn as sns\n",
    "sns.set_style('darkgrid')\n",
    "dropped_data.hist(figsize=(14,14), xrot=45)\n",
    "plt.show()"
   ]
  },
  {
   "cell_type": "code",
   "execution_count": 199,
   "metadata": {},
   "outputs": [
    {
     "data": {
      "text/plain": [
       "retailPrice      float64\n",
       "unitPrice        float64\n",
       "armRegionName     object\n",
       "location          object\n",
       "meterName         object\n",
       "productName       object\n",
       "skuName           object\n",
       "serviceId         object\n",
       "unitOfMeasure     object\n",
       "armSkuName        object\n",
       "dtype: object"
      ]
     },
     "execution_count": 199,
     "metadata": {},
     "output_type": "execute_result"
    }
   ],
   "source": [
    "dropped_data.dtypes\n"
   ]
  },
  {
   "cell_type": "code",
   "execution_count": 200,
   "metadata": {},
   "outputs": [
    {
     "data": {
      "text/html": [
       "<div>\n",
       "<style scoped>\n",
       "    .dataframe tbody tr th:only-of-type {\n",
       "        vertical-align: middle;\n",
       "    }\n",
       "\n",
       "    .dataframe tbody tr th {\n",
       "        vertical-align: top;\n",
       "    }\n",
       "\n",
       "    .dataframe thead th {\n",
       "        text-align: right;\n",
       "    }\n",
       "</style>\n",
       "<table border=\"1\" class=\"dataframe\">\n",
       "  <thead>\n",
       "    <tr style=\"text-align: right;\">\n",
       "      <th></th>\n",
       "      <th>retailPrice</th>\n",
       "      <th>unitPrice</th>\n",
       "    </tr>\n",
       "  </thead>\n",
       "  <tbody>\n",
       "    <tr>\n",
       "      <th>count</th>\n",
       "      <td>100.000000</td>\n",
       "      <td>100.000000</td>\n",
       "    </tr>\n",
       "    <tr>\n",
       "      <th>mean</th>\n",
       "      <td>2617.144402</td>\n",
       "      <td>2617.144402</td>\n",
       "    </tr>\n",
       "    <tr>\n",
       "      <th>std</th>\n",
       "      <td>8435.287222</td>\n",
       "      <td>8435.287222</td>\n",
       "    </tr>\n",
       "    <tr>\n",
       "      <th>min</th>\n",
       "      <td>0.004000</td>\n",
       "      <td>0.004000</td>\n",
       "    </tr>\n",
       "    <tr>\n",
       "      <th>25%</th>\n",
       "      <td>0.305872</td>\n",
       "      <td>0.305872</td>\n",
       "    </tr>\n",
       "    <tr>\n",
       "      <th>50%</th>\n",
       "      <td>0.964288</td>\n",
       "      <td>0.964288</td>\n",
       "    </tr>\n",
       "    <tr>\n",
       "      <th>75%</th>\n",
       "      <td>4.185000</td>\n",
       "      <td>4.185000</td>\n",
       "    </tr>\n",
       "    <tr>\n",
       "      <th>max</th>\n",
       "      <td>48318.000000</td>\n",
       "      <td>48318.000000</td>\n",
       "    </tr>\n",
       "  </tbody>\n",
       "</table>\n",
       "</div>"
      ],
      "text/plain": [
       "        retailPrice     unitPrice\n",
       "count    100.000000    100.000000\n",
       "mean    2617.144402   2617.144402\n",
       "std     8435.287222   8435.287222\n",
       "min        0.004000      0.004000\n",
       "25%        0.305872      0.305872\n",
       "50%        0.964288      0.964288\n",
       "75%        4.185000      4.185000\n",
       "max    48318.000000  48318.000000"
      ]
     },
     "execution_count": 200,
     "metadata": {},
     "output_type": "execute_result"
    }
   ],
   "source": [
    "dropped_data.describe()"
   ]
  },
  {
   "cell_type": "code",
   "execution_count": 201,
   "metadata": {},
   "outputs": [
    {
     "data": {
      "text/html": [
       "<div>\n",
       "<style scoped>\n",
       "    .dataframe tbody tr th:only-of-type {\n",
       "        vertical-align: middle;\n",
       "    }\n",
       "\n",
       "    .dataframe tbody tr th {\n",
       "        vertical-align: top;\n",
       "    }\n",
       "\n",
       "    .dataframe thead th {\n",
       "        text-align: right;\n",
       "    }\n",
       "</style>\n",
       "<table border=\"1\" class=\"dataframe\">\n",
       "  <thead>\n",
       "    <tr style=\"text-align: right;\">\n",
       "      <th></th>\n",
       "      <th>armRegionName</th>\n",
       "      <th>location</th>\n",
       "      <th>meterName</th>\n",
       "      <th>productName</th>\n",
       "      <th>skuName</th>\n",
       "      <th>serviceId</th>\n",
       "      <th>unitOfMeasure</th>\n",
       "      <th>armSkuName</th>\n",
       "    </tr>\n",
       "  </thead>\n",
       "  <tbody>\n",
       "    <tr>\n",
       "      <th>count</th>\n",
       "      <td>100</td>\n",
       "      <td>100</td>\n",
       "      <td>100</td>\n",
       "      <td>100</td>\n",
       "      <td>100</td>\n",
       "      <td>100</td>\n",
       "      <td>100</td>\n",
       "      <td>100</td>\n",
       "    </tr>\n",
       "    <tr>\n",
       "      <th>unique</th>\n",
       "      <td>28</td>\n",
       "      <td>28</td>\n",
       "      <td>57</td>\n",
       "      <td>40</td>\n",
       "      <td>57</td>\n",
       "      <td>3</td>\n",
       "      <td>1</td>\n",
       "      <td>53</td>\n",
       "    </tr>\n",
       "    <tr>\n",
       "      <th>top</th>\n",
       "      <td>centralus</td>\n",
       "      <td>US Central</td>\n",
       "      <td>A3 Spot</td>\n",
       "      <td>Virtual Machines Edsv4 Series Windows</td>\n",
       "      <td>A3 Spot</td>\n",
       "      <td>DZH313Z7MMC8</td>\n",
       "      <td>1 Hour</td>\n",
       "      <td></td>\n",
       "    </tr>\n",
       "    <tr>\n",
       "      <th>freq</th>\n",
       "      <td>15</td>\n",
       "      <td>15</td>\n",
       "      <td>4</td>\n",
       "      <td>10</td>\n",
       "      <td>4</td>\n",
       "      <td>92</td>\n",
       "      <td>100</td>\n",
       "      <td>6</td>\n",
       "    </tr>\n",
       "  </tbody>\n",
       "</table>\n",
       "</div>"
      ],
      "text/plain": [
       "       armRegionName    location meterName  \\\n",
       "count            100         100       100   \n",
       "unique            28          28        57   \n",
       "top        centralus  US Central   A3 Spot   \n",
       "freq              15          15         4   \n",
       "\n",
       "                                  productName  skuName     serviceId  \\\n",
       "count                                     100      100           100   \n",
       "unique                                     40       57             3   \n",
       "top     Virtual Machines Edsv4 Series Windows  A3 Spot  DZH313Z7MMC8   \n",
       "freq                                       10        4            92   \n",
       "\n",
       "       unitOfMeasure armSkuName  \n",
       "count            100        100  \n",
       "unique             1         53  \n",
       "top           1 Hour             \n",
       "freq             100          6  "
      ]
     },
     "execution_count": 201,
     "metadata": {},
     "output_type": "execute_result"
    }
   ],
   "source": [
    "dropped_data.describe(include='object')"
   ]
  },
  {
   "cell_type": "code",
   "execution_count": 204,
   "metadata": {},
   "outputs": [
    {
     "data": {
      "image/png": "[encoded data removed]",
      "text/plain": [
       "<Figure size 432x288 with 1 Axes>"
      ]
     },
     "metadata": {},
     "output_type": "display_data"
    },
    {
     "data": {
      "image/png": "[encoded data removed]",
      "text/plain": [
       "<Figure size 432x288 with 1 Axes>"
      ]
     },
     "metadata": {},
     "output_type": "display_data"
    },
    {
     "data": {
      "image/png": "[encoded data removed]",
      "text/plain": [
       "<Figure size 432x288 with 1 Axes>"
      ]
     },
     "metadata": {},
     "output_type": "display_data"
    },
    {
     "data": {
      "image/png": "[encoded data removed]",
      "text/plain": [
       "<Figure size 432x288 with 1 Axes>"
      ]
     },
     "metadata": {},
     "output_type": "display_data"
    },
    {
     "data": {
      "image/png": "[encoded data removed]",
      "text/plain": [
       "<Figure size 432x288 with 1 Axes>"
      ]
     },
     "metadata": {},
     "output_type": "display_data"
    },
    {
     "data": {
      "image/png": "[encoded data removed]",
      "text/plain": [
       "<Figure size 432x288 with 1 Axes>"
      ]
     },
     "metadata": {},
     "output_type": "display_data"
    },
    {
     "data": {
      "image/png": "[encoded data removed]",
      "text/plain": [
       "<Figure size 432x288 with 1 Axes>"
      ]
     },
     "metadata": {},
     "output_type": "display_data"
    }
   ],
   "source": [
    "for column in data.select_dtypes(include='object'):\n",
    "    if data[column].nunique() < 10:\n",
    "        sns.countplot(y=column, data=data)\n",
    "        plt.show()"
   ]
  },
  {
   "cell_type": "code",
   "execution_count": 185,
   "metadata": {},
   "outputs": [
    {
     "data": {
      "image/png": "[encoded data removed]",
      "text/plain": [
       "<Figure size 432x288 with 1 Axes>"
      ]
     },
     "metadata": {},
     "output_type": "display_data"
    },
    {
     "data": {
      "image/png": "[encoded data removed]",
      "text/plain": [
       "<Figure size 432x288 with 1 Axes>"
      ]
     },
     "metadata": {},
     "output_type": "display_data"
    },
    {
     "data": {
      "image/png": "[encoded data removed]",
      "text/plain": [
       "<Figure size 432x288 with 1 Axes>"
      ]
     },
     "metadata": {},
     "output_type": "display_data"
    },
    {
     "data": {
      "image/png": "[encoded data removed]",
      "text/plain": [
       "<Figure size 432x288 with 1 Axes>"
      ]
     },
     "metadata": {},
     "output_type": "display_data"
    },
    {
     "data": {
      "image/png": "[encoded data removed]",
      "text/plain": [
       "<Figure size 432x288 with 1 Axes>"
      ]
     },
     "metadata": {},
     "output_type": "display_data"
    },
    {
     "data": {
      "image/png": "[encoded data removed]",
      "text/plain": [
       "<Figure size 432x288 with 1 Axes>"
      ]
     },
     "metadata": {},
     "output_type": "display_data"
    },
    {
     "data": {
      "image/png": "[encoded data removed]",
      "text/plain": [
       "<Figure size 432x288 with 1 Axes>"
      ]
     },
     "metadata": {},
     "output_type": "display_data"
    }
   ],
   "source": [
    "for column in data.select_dtypes(include='object'):\n",
    "    if data[column].nunique() < 10:\n",
    "        sns.boxplot(y=column, x= 'retailPrice', data=data)\n",
    "        plt.show()"
   ]
  },
  {
   "cell_type": "code",
   "execution_count": 186,
   "metadata": {},
   "outputs": [
    {
     "data": {
      "text/html": [
       "<div>\n",
       "<style scoped>\n",
       "    .dataframe tbody tr th:only-of-type {\n",
       "        vertical-align: middle;\n",
       "    }\n",
       "\n",
       "    .dataframe tbody tr th {\n",
       "        vertical-align: top;\n",
       "    }\n",
       "\n",
       "    .dataframe thead th {\n",
       "        text-align: right;\n",
       "    }\n",
       "</style>\n",
       "<table border=\"1\" class=\"dataframe\">\n",
       "  <thead>\n",
       "    <tr style=\"text-align: right;\">\n",
       "      <th></th>\n",
       "      <th>tierMinimumUnits</th>\n",
       "      <th>retailPrice</th>\n",
       "      <th>unitPrice</th>\n",
       "      <th>isPrimaryMeterRegion</th>\n",
       "    </tr>\n",
       "    <tr>\n",
       "      <th>currencyCode</th>\n",
       "      <th></th>\n",
       "      <th></th>\n",
       "      <th></th>\n",
       "      <th></th>\n",
       "    </tr>\n",
       "  </thead>\n",
       "  <tbody>\n",
       "    <tr>\n",
       "      <th>USD</th>\n",
       "      <td>0.0</td>\n",
       "      <td>2617.144402</td>\n",
       "      <td>2617.144402</td>\n",
       "      <td>0.82</td>\n",
       "    </tr>\n",
       "  </tbody>\n",
       "</table>\n",
       "</div>"
      ],
      "text/plain": [
       "              tierMinimumUnits  retailPrice    unitPrice  isPrimaryMeterRegion\n",
       "currencyCode                                                                  \n",
       "USD                        0.0  2617.144402  2617.144402                  0.82"
      ]
     },
     "metadata": {},
     "output_type": "display_data"
    },
    {
     "data": {
      "text/html": [
       "<div>\n",
       "<style scoped>\n",
       "    .dataframe tbody tr th:only-of-type {\n",
       "        vertical-align: middle;\n",
       "    }\n",
       "\n",
       "    .dataframe tbody tr th {\n",
       "        vertical-align: top;\n",
       "    }\n",
       "\n",
       "    .dataframe thead th {\n",
       "        text-align: right;\n",
       "    }\n",
       "</style>\n",
       "<table border=\"1\" class=\"dataframe\">\n",
       "  <thead>\n",
       "    <tr style=\"text-align: right;\">\n",
       "      <th></th>\n",
       "      <th>tierMinimumUnits</th>\n",
       "      <th>retailPrice</th>\n",
       "      <th>unitPrice</th>\n",
       "      <th>isPrimaryMeterRegion</th>\n",
       "    </tr>\n",
       "    <tr>\n",
       "      <th>serviceName</th>\n",
       "      <th></th>\n",
       "      <th></th>\n",
       "      <th></th>\n",
       "      <th></th>\n",
       "    </tr>\n",
       "  </thead>\n",
       "  <tbody>\n",
       "    <tr>\n",
       "      <th>Azure App Service</th>\n",
       "      <td>0.0</td>\n",
       "      <td>0.271446</td>\n",
       "      <td>0.271446</td>\n",
       "      <td>1.000000</td>\n",
       "    </tr>\n",
       "    <tr>\n",
       "      <th>Cloud Services</th>\n",
       "      <td>0.0</td>\n",
       "      <td>0.303150</td>\n",
       "      <td>0.303150</td>\n",
       "      <td>1.000000</td>\n",
       "    </tr>\n",
       "    <tr>\n",
       "      <th>Virtual Machines</th>\n",
       "      <td>0.0</td>\n",
       "      <td>2844.696504</td>\n",
       "      <td>2844.696504</td>\n",
       "      <td>0.804348</td>\n",
       "    </tr>\n",
       "  </tbody>\n",
       "</table>\n",
       "</div>"
      ],
      "text/plain": [
       "                   tierMinimumUnits  retailPrice    unitPrice  \\\n",
       "serviceName                                                     \n",
       "Azure App Service               0.0     0.271446     0.271446   \n",
       "Cloud Services                  0.0     0.303150     0.303150   \n",
       "Virtual Machines                0.0  2844.696504  2844.696504   \n",
       "\n",
       "                   isPrimaryMeterRegion  \n",
       "serviceName                              \n",
       "Azure App Service              1.000000  \n",
       "Cloud Services                 1.000000  \n",
       "Virtual Machines               0.804348  "
      ]
     },
     "metadata": {},
     "output_type": "display_data"
    },
    {
     "data": {
      "text/html": [
       "<div>\n",
       "<style scoped>\n",
       "    .dataframe tbody tr th:only-of-type {\n",
       "        vertical-align: middle;\n",
       "    }\n",
       "\n",
       "    .dataframe tbody tr th {\n",
       "        vertical-align: top;\n",
       "    }\n",
       "\n",
       "    .dataframe thead th {\n",
       "        text-align: right;\n",
       "    }\n",
       "</style>\n",
       "<table border=\"1\" class=\"dataframe\">\n",
       "  <thead>\n",
       "    <tr style=\"text-align: right;\">\n",
       "      <th></th>\n",
       "      <th>tierMinimumUnits</th>\n",
       "      <th>retailPrice</th>\n",
       "      <th>unitPrice</th>\n",
       "      <th>isPrimaryMeterRegion</th>\n",
       "    </tr>\n",
       "    <tr>\n",
       "      <th>serviceId</th>\n",
       "      <th></th>\n",
       "      <th></th>\n",
       "      <th></th>\n",
       "      <th></th>\n",
       "    </tr>\n",
       "  </thead>\n",
       "  <tbody>\n",
       "    <tr>\n",
       "      <th>DZH313Z7MMC8</th>\n",
       "      <td>0.0</td>\n",
       "      <td>2844.696504</td>\n",
       "      <td>2844.696504</td>\n",
       "      <td>0.804348</td>\n",
       "    </tr>\n",
       "    <tr>\n",
       "      <th>DZH31671GG75</th>\n",
       "      <td>0.0</td>\n",
       "      <td>0.303150</td>\n",
       "      <td>0.303150</td>\n",
       "      <td>1.000000</td>\n",
       "    </tr>\n",
       "    <tr>\n",
       "      <th>DZH317GT8G5N</th>\n",
       "      <td>0.0</td>\n",
       "      <td>0.271446</td>\n",
       "      <td>0.271446</td>\n",
       "      <td>1.000000</td>\n",
       "    </tr>\n",
       "  </tbody>\n",
       "</table>\n",
       "</div>"
      ],
      "text/plain": [
       "              tierMinimumUnits  retailPrice    unitPrice  isPrimaryMeterRegion\n",
       "serviceId                                                                     \n",
       "DZH313Z7MMC8               0.0  2844.696504  2844.696504              0.804348\n",
       "DZH31671GG75               0.0     0.303150     0.303150              1.000000\n",
       "DZH317GT8G5N               0.0     0.271446     0.271446              1.000000"
      ]
     },
     "metadata": {},
     "output_type": "display_data"
    },
    {
     "data": {
      "text/html": [
       "<div>\n",
       "<style scoped>\n",
       "    .dataframe tbody tr th:only-of-type {\n",
       "        vertical-align: middle;\n",
       "    }\n",
       "\n",
       "    .dataframe tbody tr th {\n",
       "        vertical-align: top;\n",
       "    }\n",
       "\n",
       "    .dataframe thead th {\n",
       "        text-align: right;\n",
       "    }\n",
       "</style>\n",
       "<table border=\"1\" class=\"dataframe\">\n",
       "  <thead>\n",
       "    <tr style=\"text-align: right;\">\n",
       "      <th></th>\n",
       "      <th>tierMinimumUnits</th>\n",
       "      <th>retailPrice</th>\n",
       "      <th>unitPrice</th>\n",
       "      <th>isPrimaryMeterRegion</th>\n",
       "    </tr>\n",
       "    <tr>\n",
       "      <th>serviceFamily</th>\n",
       "      <th></th>\n",
       "      <th></th>\n",
       "      <th></th>\n",
       "      <th></th>\n",
       "    </tr>\n",
       "  </thead>\n",
       "  <tbody>\n",
       "    <tr>\n",
       "      <th>Compute</th>\n",
       "      <td>0.0</td>\n",
       "      <td>2617.144402</td>\n",
       "      <td>2617.144402</td>\n",
       "      <td>0.82</td>\n",
       "    </tr>\n",
       "  </tbody>\n",
       "</table>\n",
       "</div>"
      ],
      "text/plain": [
       "               tierMinimumUnits  retailPrice    unitPrice  \\\n",
       "serviceFamily                                               \n",
       "Compute                     0.0  2617.144402  2617.144402   \n",
       "\n",
       "               isPrimaryMeterRegion  \n",
       "serviceFamily                        \n",
       "Compute                        0.82  "
      ]
     },
     "metadata": {},
     "output_type": "display_data"
    },
    {
     "data": {
      "text/html": [
       "<div>\n",
       "<style scoped>\n",
       "    .dataframe tbody tr th:only-of-type {\n",
       "        vertical-align: middle;\n",
       "    }\n",
       "\n",
       "    .dataframe tbody tr th {\n",
       "        vertical-align: top;\n",
       "    }\n",
       "\n",
       "    .dataframe thead th {\n",
       "        text-align: right;\n",
       "    }\n",
       "</style>\n",
       "<table border=\"1\" class=\"dataframe\">\n",
       "  <thead>\n",
       "    <tr style=\"text-align: right;\">\n",
       "      <th></th>\n",
       "      <th>tierMinimumUnits</th>\n",
       "      <th>retailPrice</th>\n",
       "      <th>unitPrice</th>\n",
       "      <th>isPrimaryMeterRegion</th>\n",
       "    </tr>\n",
       "    <tr>\n",
       "      <th>unitOfMeasure</th>\n",
       "      <th></th>\n",
       "      <th></th>\n",
       "      <th></th>\n",
       "      <th></th>\n",
       "    </tr>\n",
       "  </thead>\n",
       "  <tbody>\n",
       "    <tr>\n",
       "      <th>1 Hour</th>\n",
       "      <td>0.0</td>\n",
       "      <td>2617.144402</td>\n",
       "      <td>2617.144402</td>\n",
       "      <td>0.82</td>\n",
       "    </tr>\n",
       "  </tbody>\n",
       "</table>\n",
       "</div>"
      ],
      "text/plain": [
       "               tierMinimumUnits  retailPrice    unitPrice  \\\n",
       "unitOfMeasure                                               \n",
       "1 Hour                      0.0  2617.144402  2617.144402   \n",
       "\n",
       "               isPrimaryMeterRegion  \n",
       "unitOfMeasure                        \n",
       "1 Hour                         0.82  "
      ]
     },
     "metadata": {},
     "output_type": "display_data"
    },
    {
     "data": {
      "text/html": [
       "<div>\n",
       "<style scoped>\n",
       "    .dataframe tbody tr th:only-of-type {\n",
       "        vertical-align: middle;\n",
       "    }\n",
       "\n",
       "    .dataframe tbody tr th {\n",
       "        vertical-align: top;\n",
       "    }\n",
       "\n",
       "    .dataframe thead th {\n",
       "        text-align: right;\n",
       "    }\n",
       "</style>\n",
       "<table border=\"1\" class=\"dataframe\">\n",
       "  <thead>\n",
       "    <tr style=\"text-align: right;\">\n",
       "      <th></th>\n",
       "      <th>tierMinimumUnits</th>\n",
       "      <th>retailPrice</th>\n",
       "      <th>unitPrice</th>\n",
       "      <th>isPrimaryMeterRegion</th>\n",
       "    </tr>\n",
       "    <tr>\n",
       "      <th>type</th>\n",
       "      <th></th>\n",
       "      <th></th>\n",
       "      <th></th>\n",
       "      <th></th>\n",
       "    </tr>\n",
       "  </thead>\n",
       "  <tbody>\n",
       "    <tr>\n",
       "      <th>Consumption</th>\n",
       "      <td>0.0</td>\n",
       "      <td>2.849606</td>\n",
       "      <td>2.849606</td>\n",
       "      <td>0.830508</td>\n",
       "    </tr>\n",
       "    <tr>\n",
       "      <th>DevTestConsumption</th>\n",
       "      <td>0.0</td>\n",
       "      <td>2.562532</td>\n",
       "      <td>2.562532</td>\n",
       "      <td>0.862069</td>\n",
       "    </tr>\n",
       "    <tr>\n",
       "      <th>Reservation</th>\n",
       "      <td>0.0</td>\n",
       "      <td>21789.333333</td>\n",
       "      <td>21789.333333</td>\n",
       "      <td>0.666667</td>\n",
       "    </tr>\n",
       "  </tbody>\n",
       "</table>\n",
       "</div>"
      ],
      "text/plain": [
       "                    tierMinimumUnits   retailPrice     unitPrice  \\\n",
       "type                                                               \n",
       "Consumption                      0.0      2.849606      2.849606   \n",
       "DevTestConsumption               0.0      2.562532      2.562532   \n",
       "Reservation                      0.0  21789.333333  21789.333333   \n",
       "\n",
       "                    isPrimaryMeterRegion  \n",
       "type                                      \n",
       "Consumption                     0.830508  \n",
       "DevTestConsumption              0.862069  \n",
       "Reservation                     0.666667  "
      ]
     },
     "metadata": {},
     "output_type": "display_data"
    },
    {
     "data": {
      "text/html": [
       "<div>\n",
       "<style scoped>\n",
       "    .dataframe tbody tr th:only-of-type {\n",
       "        vertical-align: middle;\n",
       "    }\n",
       "\n",
       "    .dataframe tbody tr th {\n",
       "        vertical-align: top;\n",
       "    }\n",
       "\n",
       "    .dataframe thead th {\n",
       "        text-align: right;\n",
       "    }\n",
       "</style>\n",
       "<table border=\"1\" class=\"dataframe\">\n",
       "  <thead>\n",
       "    <tr style=\"text-align: right;\">\n",
       "      <th></th>\n",
       "      <th>tierMinimumUnits</th>\n",
       "      <th>retailPrice</th>\n",
       "      <th>unitPrice</th>\n",
       "      <th>isPrimaryMeterRegion</th>\n",
       "    </tr>\n",
       "    <tr>\n",
       "      <th>reservationTerm</th>\n",
       "      <th></th>\n",
       "      <th></th>\n",
       "      <th></th>\n",
       "      <th></th>\n",
       "    </tr>\n",
       "  </thead>\n",
       "  <tbody>\n",
       "    <tr>\n",
       "      <th>1 Year</th>\n",
       "      <td>0.0</td>\n",
       "      <td>16272.166667</td>\n",
       "      <td>16272.166667</td>\n",
       "      <td>0.666667</td>\n",
       "    </tr>\n",
       "    <tr>\n",
       "      <th>3 Years</th>\n",
       "      <td>0.0</td>\n",
       "      <td>27306.500000</td>\n",
       "      <td>27306.500000</td>\n",
       "      <td>0.666667</td>\n",
       "    </tr>\n",
       "  </tbody>\n",
       "</table>\n",
       "</div>"
      ],
      "text/plain": [
       "                 tierMinimumUnits   retailPrice     unitPrice  \\\n",
       "reservationTerm                                                 \n",
       "1 Year                        0.0  16272.166667  16272.166667   \n",
       "3 Years                       0.0  27306.500000  27306.500000   \n",
       "\n",
       "                 isPrimaryMeterRegion  \n",
       "reservationTerm                        \n",
       "1 Year                       0.666667  \n",
       "3 Years                      0.666667  "
      ]
     },
     "metadata": {},
     "output_type": "display_data"
    }
   ],
   "source": [
    "for column in data.select_dtypes(include='object'):\n",
    "    if data[column].nunique() < 10:\n",
    "        display(data.groupby(column).mean())"
   ]
  },
  {
   "cell_type": "code",
   "execution_count": 187,
   "metadata": {},
   "outputs": [
    {
     "data": {
      "text/html": [
       "<div>\n",
       "<style scoped>\n",
       "    .dataframe tbody tr th:only-of-type {\n",
       "        vertical-align: middle;\n",
       "    }\n",
       "\n",
       "    .dataframe tbody tr th {\n",
       "        vertical-align: top;\n",
       "    }\n",
       "\n",
       "    .dataframe thead th {\n",
       "        text-align: right;\n",
       "    }\n",
       "</style>\n",
       "<table border=\"1\" class=\"dataframe\">\n",
       "  <thead>\n",
       "    <tr style=\"text-align: right;\">\n",
       "      <th></th>\n",
       "      <th>tierMinimumUnits</th>\n",
       "      <th>retailPrice</th>\n",
       "      <th>unitPrice</th>\n",
       "      <th>isPrimaryMeterRegion</th>\n",
       "    </tr>\n",
       "  </thead>\n",
       "  <tbody>\n",
       "    <tr>\n",
       "      <th>tierMinimumUnits</th>\n",
       "      <td>NaN</td>\n",
       "      <td>NaN</td>\n",
       "      <td>NaN</td>\n",
       "      <td>NaN</td>\n",
       "    </tr>\n",
       "    <tr>\n",
       "      <th>retailPrice</th>\n",
       "      <td>NaN</td>\n",
       "      <td>1.000000</td>\n",
       "      <td>1.000000</td>\n",
       "      <td>-0.120901</td>\n",
       "    </tr>\n",
       "    <tr>\n",
       "      <th>unitPrice</th>\n",
       "      <td>NaN</td>\n",
       "      <td>1.000000</td>\n",
       "      <td>1.000000</td>\n",
       "      <td>-0.120901</td>\n",
       "    </tr>\n",
       "    <tr>\n",
       "      <th>isPrimaryMeterRegion</th>\n",
       "      <td>NaN</td>\n",
       "      <td>-0.120901</td>\n",
       "      <td>-0.120901</td>\n",
       "      <td>1.000000</td>\n",
       "    </tr>\n",
       "  </tbody>\n",
       "</table>\n",
       "</div>"
      ],
      "text/plain": [
       "                      tierMinimumUnits  retailPrice  unitPrice  \\\n",
       "tierMinimumUnits                   NaN          NaN        NaN   \n",
       "retailPrice                        NaN     1.000000   1.000000   \n",
       "unitPrice                          NaN     1.000000   1.000000   \n",
       "isPrimaryMeterRegion               NaN    -0.120901  -0.120901   \n",
       "\n",
       "                      isPrimaryMeterRegion  \n",
       "tierMinimumUnits                       NaN  \n",
       "retailPrice                      -0.120901  \n",
       "unitPrice                        -0.120901  \n",
       "isPrimaryMeterRegion              1.000000  "
      ]
     },
     "execution_count": 187,
     "metadata": {},
     "output_type": "execute_result"
    }
   ],
   "source": [
    "corrs = data.corr()\n",
    "corrs"
   ]
  },
  {
   "cell_type": "code",
   "execution_count": 188,
   "metadata": {},
   "outputs": [
    {
     "data": {
      "image/png": "[encoded data removed]",
      "text/plain": [
       "<Figure size 720x576 with 2 Axes>"
      ]
     },
     "metadata": {},
     "output_type": "display_data"
    }
   ],
   "source": [
    "plt.figure(figsize=(10,8))\n",
    "sns.heatmap(corrs, cmap='RdBu_r', annot=True)\n",
    "plt.show()"
   ]
  },
  {
   "cell_type": "code",
   "execution_count": 221,
   "metadata": {},
   "outputs": [],
   "source": [
    "skus = pd.read_json('data/list-skus2.json')"
   ]
  },
  {
   "cell_type": "code",
   "execution_count": 222,
   "metadata": {},
   "outputs": [
    {
     "data": {
      "text/html": [
       "<div>\n",
       "<style scoped>\n",
       "    .dataframe tbody tr th:only-of-type {\n",
       "        vertical-align: middle;\n",
       "    }\n",
       "\n",
       "    .dataframe tbody tr th {\n",
       "        vertical-align: top;\n",
       "    }\n",
       "\n",
       "    .dataframe thead th {\n",
       "        text-align: right;\n",
       "    }\n",
       "</style>\n",
       "<table border=\"1\" class=\"dataframe\">\n",
       "  <thead>\n",
       "    <tr style=\"text-align: right;\">\n",
       "      <th></th>\n",
       "      <th>apiVersions</th>\n",
       "      <th>capabilities</th>\n",
       "      <th>capacity</th>\n",
       "      <th>costs</th>\n",
       "      <th>family</th>\n",
       "      <th>kind</th>\n",
       "      <th>locationInfo</th>\n",
       "      <th>locations</th>\n",
       "      <th>name</th>\n",
       "      <th>resourceType</th>\n",
       "      <th>restrictions</th>\n",
       "      <th>size</th>\n",
       "      <th>tier</th>\n",
       "    </tr>\n",
       "  </thead>\n",
       "  <tbody>\n",
       "    <tr>\n",
       "      <th>0</th>\n",
       "      <td>NaN</td>\n",
       "      <td>[{'name': 'MaximumPlatformFaultDomainCount', '...</td>\n",
       "      <td>NaN</td>\n",
       "      <td>NaN</td>\n",
       "      <td>None</td>\n",
       "      <td>NaN</td>\n",
       "      <td>[{'location': 'eastus', 'zoneDetails': [], 'zo...</td>\n",
       "      <td>[eastus]</td>\n",
       "      <td>Classic</td>\n",
       "      <td>availabilitySets</td>\n",
       "      <td>[]</td>\n",
       "      <td>None</td>\n",
       "      <td>None</td>\n",
       "    </tr>\n",
       "    <tr>\n",
       "      <th>1</th>\n",
       "      <td>NaN</td>\n",
       "      <td>[{'name': 'MaximumPlatformFaultDomainCount', '...</td>\n",
       "      <td>NaN</td>\n",
       "      <td>NaN</td>\n",
       "      <td>None</td>\n",
       "      <td>NaN</td>\n",
       "      <td>[{'location': 'eastus', 'zoneDetails': [], 'zo...</td>\n",
       "      <td>[eastus]</td>\n",
       "      <td>Aligned</td>\n",
       "      <td>availabilitySets</td>\n",
       "      <td>[]</td>\n",
       "      <td>None</td>\n",
       "      <td>None</td>\n",
       "    </tr>\n",
       "    <tr>\n",
       "      <th>2</th>\n",
       "      <td>NaN</td>\n",
       "      <td>[{'name': 'MaximumPlatformFaultDomainCount', '...</td>\n",
       "      <td>NaN</td>\n",
       "      <td>NaN</td>\n",
       "      <td>None</td>\n",
       "      <td>NaN</td>\n",
       "      <td>[{'location': 'eastus2', 'zoneDetails': [], 'z...</td>\n",
       "      <td>[eastus2]</td>\n",
       "      <td>Classic</td>\n",
       "      <td>availabilitySets</td>\n",
       "      <td>[]</td>\n",
       "      <td>None</td>\n",
       "      <td>None</td>\n",
       "    </tr>\n",
       "    <tr>\n",
       "      <th>3</th>\n",
       "      <td>NaN</td>\n",
       "      <td>[{'name': 'MaximumPlatformFaultDomainCount', '...</td>\n",
       "      <td>NaN</td>\n",
       "      <td>NaN</td>\n",
       "      <td>None</td>\n",
       "      <td>NaN</td>\n",
       "      <td>[{'location': 'eastus2', 'zoneDetails': [], 'z...</td>\n",
       "      <td>[eastus2]</td>\n",
       "      <td>Aligned</td>\n",
       "      <td>availabilitySets</td>\n",
       "      <td>[]</td>\n",
       "      <td>None</td>\n",
       "      <td>None</td>\n",
       "    </tr>\n",
       "    <tr>\n",
       "      <th>4</th>\n",
       "      <td>NaN</td>\n",
       "      <td>[{'name': 'MaximumPlatformFaultDomainCount', '...</td>\n",
       "      <td>NaN</td>\n",
       "      <td>NaN</td>\n",
       "      <td>None</td>\n",
       "      <td>NaN</td>\n",
       "      <td>[{'location': 'westus', 'zoneDetails': [], 'zo...</td>\n",
       "      <td>[westus]</td>\n",
       "      <td>Classic</td>\n",
       "      <td>availabilitySets</td>\n",
       "      <td>[]</td>\n",
       "      <td>None</td>\n",
       "      <td>None</td>\n",
       "    </tr>\n",
       "    <tr>\n",
       "      <th>...</th>\n",
       "      <td>...</td>\n",
       "      <td>...</td>\n",
       "      <td>...</td>\n",
       "      <td>...</td>\n",
       "      <td>...</td>\n",
       "      <td>...</td>\n",
       "      <td>...</td>\n",
       "      <td>...</td>\n",
       "      <td>...</td>\n",
       "      <td>...</td>\n",
       "      <td>...</td>\n",
       "      <td>...</td>\n",
       "      <td>...</td>\n",
       "    </tr>\n",
       "    <tr>\n",
       "      <th>11765</th>\n",
       "      <td>NaN</td>\n",
       "      <td>[{'name': 'MaxResourceVolumeMB', 'value': '192...</td>\n",
       "      <td>NaN</td>\n",
       "      <td>NaN</td>\n",
       "      <td>standardHBv3Family</td>\n",
       "      <td>NaN</td>\n",
       "      <td>[{'location': 'CentralUSEUAP', 'zoneDetails': ...</td>\n",
       "      <td>[CentralUSEUAP]</td>\n",
       "      <td>Standard_HB120-16rs_v3</td>\n",
       "      <td>virtualMachines</td>\n",
       "      <td>[]</td>\n",
       "      <td>HB120-16rs_v3</td>\n",
       "      <td>Standard</td>\n",
       "    </tr>\n",
       "    <tr>\n",
       "      <th>11766</th>\n",
       "      <td>NaN</td>\n",
       "      <td>[{'name': 'MaxResourceVolumeMB', 'value': '192...</td>\n",
       "      <td>NaN</td>\n",
       "      <td>NaN</td>\n",
       "      <td>standardHBv3Family</td>\n",
       "      <td>NaN</td>\n",
       "      <td>[{'location': 'CentralUSEUAP', 'zoneDetails': ...</td>\n",
       "      <td>[CentralUSEUAP]</td>\n",
       "      <td>Standard_HB120-32rs_v3</td>\n",
       "      <td>virtualMachines</td>\n",
       "      <td>[]</td>\n",
       "      <td>HB120-32rs_v3</td>\n",
       "      <td>Standard</td>\n",
       "    </tr>\n",
       "    <tr>\n",
       "      <th>11767</th>\n",
       "      <td>NaN</td>\n",
       "      <td>[{'name': 'MaxResourceVolumeMB', 'value': '192...</td>\n",
       "      <td>NaN</td>\n",
       "      <td>NaN</td>\n",
       "      <td>standardHBv3Family</td>\n",
       "      <td>NaN</td>\n",
       "      <td>[{'location': 'CentralUSEUAP', 'zoneDetails': ...</td>\n",
       "      <td>[CentralUSEUAP]</td>\n",
       "      <td>Standard_HB120-64rs_v3</td>\n",
       "      <td>virtualMachines</td>\n",
       "      <td>[]</td>\n",
       "      <td>HB120-64rs_v3</td>\n",
       "      <td>Standard</td>\n",
       "    </tr>\n",
       "    <tr>\n",
       "      <th>11768</th>\n",
       "      <td>NaN</td>\n",
       "      <td>[{'name': 'MaxResourceVolumeMB', 'value': '192...</td>\n",
       "      <td>NaN</td>\n",
       "      <td>NaN</td>\n",
       "      <td>standardHBv3Family</td>\n",
       "      <td>NaN</td>\n",
       "      <td>[{'location': 'CentralUSEUAP', 'zoneDetails': ...</td>\n",
       "      <td>[CentralUSEUAP]</td>\n",
       "      <td>Standard_HB120-96rs_v3</td>\n",
       "      <td>virtualMachines</td>\n",
       "      <td>[]</td>\n",
       "      <td>HB120-96rs_v3</td>\n",
       "      <td>Standard</td>\n",
       "    </tr>\n",
       "    <tr>\n",
       "      <th>11769</th>\n",
       "      <td>NaN</td>\n",
       "      <td>[{'name': 'MaxResourceVolumeMB', 'value': '192...</td>\n",
       "      <td>NaN</td>\n",
       "      <td>NaN</td>\n",
       "      <td>standardHBv3Family</td>\n",
       "      <td>NaN</td>\n",
       "      <td>[{'location': 'CentralUSEUAP', 'zoneDetails': ...</td>\n",
       "      <td>[CentralUSEUAP]</td>\n",
       "      <td>Standard_HB120rs_v3</td>\n",
       "      <td>virtualMachines</td>\n",
       "      <td>[]</td>\n",
       "      <td>HB120rs_v3</td>\n",
       "      <td>Standard</td>\n",
       "    </tr>\n",
       "  </tbody>\n",
       "</table>\n",
       "<p>11770 rows × 13 columns</p>\n",
       "</div>"
      ],
      "text/plain": [
       "       apiVersions                                       capabilities  \\\n",
       "0              NaN  [{'name': 'MaximumPlatformFaultDomainCount', '...   \n",
       "1              NaN  [{'name': 'MaximumPlatformFaultDomainCount', '...   \n",
       "2              NaN  [{'name': 'MaximumPlatformFaultDomainCount', '...   \n",
       "3              NaN  [{'name': 'MaximumPlatformFaultDomainCount', '...   \n",
       "4              NaN  [{'name': 'MaximumPlatformFaultDomainCount', '...   \n",
       "...            ...                                                ...   \n",
       "11765          NaN  [{'name': 'MaxResourceVolumeMB', 'value': '192...   \n",
       "11766          NaN  [{'name': 'MaxResourceVolumeMB', 'value': '192...   \n",
       "11767          NaN  [{'name': 'MaxResourceVolumeMB', 'value': '192...   \n",
       "11768          NaN  [{'name': 'MaxResourceVolumeMB', 'value': '192...   \n",
       "11769          NaN  [{'name': 'MaxResourceVolumeMB', 'value': '192...   \n",
       "\n",
       "       capacity  costs              family  kind  \\\n",
       "0           NaN    NaN                None   NaN   \n",
       "1           NaN    NaN                None   NaN   \n",
       "2           NaN    NaN                None   NaN   \n",
       "3           NaN    NaN                None   NaN   \n",
       "4           NaN    NaN                None   NaN   \n",
       "...         ...    ...                 ...   ...   \n",
       "11765       NaN    NaN  standardHBv3Family   NaN   \n",
       "11766       NaN    NaN  standardHBv3Family   NaN   \n",
       "11767       NaN    NaN  standardHBv3Family   NaN   \n",
       "11768       NaN    NaN  standardHBv3Family   NaN   \n",
       "11769       NaN    NaN  standardHBv3Family   NaN   \n",
       "\n",
       "                                            locationInfo        locations  \\\n",
       "0      [{'location': 'eastus', 'zoneDetails': [], 'zo...         [eastus]   \n",
       "1      [{'location': 'eastus', 'zoneDetails': [], 'zo...         [eastus]   \n",
       "2      [{'location': 'eastus2', 'zoneDetails': [], 'z...        [eastus2]   \n",
       "3      [{'location': 'eastus2', 'zoneDetails': [], 'z...        [eastus2]   \n",
       "4      [{'location': 'westus', 'zoneDetails': [], 'zo...         [westus]   \n",
       "...                                                  ...              ...   \n",
       "11765  [{'location': 'CentralUSEUAP', 'zoneDetails': ...  [CentralUSEUAP]   \n",
       "11766  [{'location': 'CentralUSEUAP', 'zoneDetails': ...  [CentralUSEUAP]   \n",
       "11767  [{'location': 'CentralUSEUAP', 'zoneDetails': ...  [CentralUSEUAP]   \n",
       "11768  [{'location': 'CentralUSEUAP', 'zoneDetails': ...  [CentralUSEUAP]   \n",
       "11769  [{'location': 'CentralUSEUAP', 'zoneDetails': ...  [CentralUSEUAP]   \n",
       "\n",
       "                         name      resourceType restrictions           size  \\\n",
       "0                     Classic  availabilitySets           []           None   \n",
       "1                     Aligned  availabilitySets           []           None   \n",
       "2                     Classic  availabilitySets           []           None   \n",
       "3                     Aligned  availabilitySets           []           None   \n",
       "4                     Classic  availabilitySets           []           None   \n",
       "...                       ...               ...          ...            ...   \n",
       "11765  Standard_HB120-16rs_v3   virtualMachines           []  HB120-16rs_v3   \n",
       "11766  Standard_HB120-32rs_v3   virtualMachines           []  HB120-32rs_v3   \n",
       "11767  Standard_HB120-64rs_v3   virtualMachines           []  HB120-64rs_v3   \n",
       "11768  Standard_HB120-96rs_v3   virtualMachines           []  HB120-96rs_v3   \n",
       "11769     Standard_HB120rs_v3   virtualMachines           []     HB120rs_v3   \n",
       "\n",
       "           tier  \n",
       "0          None  \n",
       "1          None  \n",
       "2          None  \n",
       "3          None  \n",
       "4          None  \n",
       "...         ...  \n",
       "11765  Standard  \n",
       "11766  Standard  \n",
       "11767  Standard  \n",
       "11768  Standard  \n",
       "11769  Standard  \n",
       "\n",
       "[11770 rows x 13 columns]"
      ]
     },
     "execution_count": 222,
     "metadata": {},
     "output_type": "execute_result"
    }
   ],
   "source": [
    "skus"
   ]
  },
  {
   "cell_type": "code",
   "execution_count": null,
   "metadata": {},
   "outputs": [],
   "source": []
  }
 ],
 "metadata": {
  "kernelspec": {
   "display_name": "Python 3",
   "language": "python",
   "name": "python3"
  },
  "language_info": {
   "codemirror_mode": {
    "name": "ipython",
    "version": 3
   },
   "file_extension": ".py",
   "mimetype": "text/x-python",
   "name": "python",
   "nbconvert_exporter": "python",
   "pygments_lexer": "ipython3",
   "version": "3.8.8"
  }
 },
 "nbformat": 4,
 "nbformat_minor": 4
}
