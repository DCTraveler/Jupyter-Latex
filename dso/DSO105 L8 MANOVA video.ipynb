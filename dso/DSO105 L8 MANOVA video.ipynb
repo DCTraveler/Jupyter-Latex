{
 "cells": [
  {
   "cell_type": "markdown",
   "metadata": {},
   "source": [
    "# Determine what effect the staff has on both the dependent variable of the days in advance cancelled and the average price"
   ]
  },
  {
   "cell_type": "markdown",
   "metadata": {},
   "source": [
    "*In this video, you will be looking at the effects of the staff member BOTH on the number of days in advance the appointment was cancelled and the average price.  Luckily, MANOVAs let you look at  both dependent variables at the same time!*\n",
    "\n",
    "*Of course, the first thing that needs doing is to load in your libraries.  You want mvnormtest, which will allow you to test for multivariate normality, as well as car, which will allow you to run the MANOVA itself and other assumptions. Lastly, you'll need IDPmisc to deal with missing data if you have any.*"
   ]
  },
  {
   "cell_type": "markdown",
   "metadata": {},
   "source": [
    "## Load Libraries"
   ]
  },
  {
   "cell_type": "code",
   "execution_count": 18,
   "metadata": {},
   "outputs": [
    {
     "name": "stderr",
     "output_type": "stream",
     "text": [
      "Warning message:\n",
      "\"package 'IDPmisc' was built under R version 3.5.3\""
     ]
    }
   ],
   "source": [
    "library(\"mvnormtest\")\n",
    "library(\"car\")\n",
    "library(\"IDPmisc\")"
   ]
  },
  {
   "cell_type": "markdown",
   "metadata": {},
   "source": [
    "## Read in Data"
   ]
  },
  {
   "cell_type": "code",
   "execution_count": 3,
   "metadata": {},
   "outputs": [],
   "source": [
    "salon <- read.csv(\"C://Users/meredith.dodd/Documents/Data Science/105 Intermediate Statistics/Lesson 3/client_cancellations.csv\")"
   ]
  },
  {
   "cell_type": "code",
   "execution_count": 4,
   "metadata": {},
   "outputs": [
    {
     "data": {
      "text/html": [
       "<table>\n",
       "<thead><tr><th scope=col>cancel.date</th><th scope=col>cancel.date.month</th><th scope=col>code</th><th scope=col>service.code</th><th scope=col>service.desc</th><th scope=col>staff</th><th scope=col>booking.date</th><th scope=col>booking.date.month</th><th scope=col>canceled.by</th><th scope=col>days.in.adv</th><th scope=col>avg.price</th></tr></thead>\n",
       "<tbody>\n",
       "\t<tr><td>3/10/2018       </td><td>March           </td><td>KOOM01          </td><td>SHCW            </td><td>Women's hair cut</td><td>JJ              </td><td>4/3/2018        </td><td>April           </td><td>JJ              </td><td>24              </td><td> 88.44          </td></tr>\n",
       "\t<tr><td>3/27/2018       </td><td>March           </td><td>WIL*01          </td><td>SHCW            </td><td>Women's hair cut</td><td>JJ              </td><td>3/29/2018       </td><td>March           </td><td>JJ              </td><td> 2              </td><td> 88.44          </td></tr>\n",
       "\t<tr><td>4/3/2018        </td><td>April           </td><td>BUDG02          </td><td>SHCM            </td><td>Men's hair cut  </td><td>SINEAD          </td><td>4/21/2018       </td><td>April           </td><td>BECKY           </td><td>18              </td><td> 41.41          </td></tr>\n",
       "\t<tr><td>4/3/2018        </td><td>April           </td><td>HILJ01          </td><td>CFC             </td><td>Color full color</td><td>KELLY           </td><td>4/3/2018        </td><td>April           </td><td>JJ              </td><td> 0              </td><td> 63.13          </td></tr>\n",
       "\t<tr><td>4/3/2018        </td><td>April           </td><td>STEM01          </td><td>SHCW            </td><td>Women's hair cut</td><td>BECKY           </td><td>4/21/2018       </td><td>April           </td><td>JJ              </td><td>18              </td><td> 67.84          </td></tr>\n",
       "\t<tr><td>4/3/2018        </td><td>April           </td><td>STRH01          </td><td>CHLFH           </td><td>Highlights full </td><td>KELLY           </td><td>4/4/2018        </td><td>April           </td><td>JJ              </td><td> 1              </td><td>120.00          </td></tr>\n",
       "</tbody>\n",
       "</table>\n"
      ],
      "text/latex": [
       "\\begin{tabular}{r|lllllllllll}\n",
       " cancel.date & cancel.date.month & code & service.code & service.desc & staff & booking.date & booking.date.month & canceled.by & days.in.adv & avg.price\\\\\n",
       "\\hline\n",
       "\t 3/10/2018        & March            & KOOM01           & SHCW             & Women's hair cut & JJ               & 4/3/2018         & April            & JJ               & 24               &  88.44          \\\\\n",
       "\t 3/27/2018        & March            & WIL*01           & SHCW             & Women's hair cut & JJ               & 3/29/2018        & March            & JJ               &  2               &  88.44          \\\\\n",
       "\t 4/3/2018         & April            & BUDG02           & SHCM             & Men's hair cut   & SINEAD           & 4/21/2018        & April            & BECKY            & 18               &  41.41          \\\\\n",
       "\t 4/3/2018         & April            & HILJ01           & CFC              & Color full color & KELLY            & 4/3/2018         & April            & JJ               &  0               &  63.13          \\\\\n",
       "\t 4/3/2018         & April            & STEM01           & SHCW             & Women's hair cut & BECKY            & 4/21/2018        & April            & JJ               & 18               &  67.84          \\\\\n",
       "\t 4/3/2018         & April            & STRH01           & CHLFH            & Highlights full  & KELLY            & 4/4/2018         & April            & JJ               &  1               & 120.00          \\\\\n",
       "\\end{tabular}\n"
      ],
      "text/markdown": [
       "\n",
       "cancel.date | cancel.date.month | code | service.code | service.desc | staff | booking.date | booking.date.month | canceled.by | days.in.adv | avg.price | \n",
       "|---|---|---|---|---|---|\n",
       "| 3/10/2018        | March            | KOOM01           | SHCW             | Women's hair cut | JJ               | 4/3/2018         | April            | JJ               | 24               |  88.44           | \n",
       "| 3/27/2018        | March            | WIL*01           | SHCW             | Women's hair cut | JJ               | 3/29/2018        | March            | JJ               |  2               |  88.44           | \n",
       "| 4/3/2018         | April            | BUDG02           | SHCM             | Men's hair cut   | SINEAD           | 4/21/2018        | April            | BECKY            | 18               |  41.41           | \n",
       "| 4/3/2018         | April            | HILJ01           | CFC              | Color full color | KELLY            | 4/3/2018         | April            | JJ               |  0               |  63.13           | \n",
       "| 4/3/2018         | April            | STEM01           | SHCW             | Women's hair cut | BECKY            | 4/21/2018        | April            | JJ               | 18               |  67.84           | \n",
       "| 4/3/2018         | April            | STRH01           | CHLFH            | Highlights full  | KELLY            | 4/4/2018         | April            | JJ               |  1               | 120.00           | \n",
       "\n",
       "\n"
      ],
      "text/plain": [
       "  cancel.date cancel.date.month code   service.code service.desc     staff \n",
       "1 3/10/2018   March             KOOM01 SHCW         Women's hair cut JJ    \n",
       "2 3/27/2018   March             WIL*01 SHCW         Women's hair cut JJ    \n",
       "3 4/3/2018    April             BUDG02 SHCM         Men's hair cut   SINEAD\n",
       "4 4/3/2018    April             HILJ01 CFC          Color full color KELLY \n",
       "5 4/3/2018    April             STEM01 SHCW         Women's hair cut BECKY \n",
       "6 4/3/2018    April             STRH01 CHLFH        Highlights full  KELLY \n",
       "  booking.date booking.date.month canceled.by days.in.adv avg.price\n",
       "1 4/3/2018     April              JJ          24           88.44   \n",
       "2 3/29/2018    March              JJ           2           88.44   \n",
       "3 4/21/2018    April              BECKY       18           41.41   \n",
       "4 4/3/2018     April              JJ           0           63.13   \n",
       "5 4/21/2018    April              JJ          18           67.84   \n",
       "6 4/4/2018     April              JJ           1          120.00   "
      ]
     },
     "metadata": {},
     "output_type": "display_data"
    }
   ],
   "source": [
    "head(salon)"
   ]
  },
  {
   "cell_type": "markdown",
   "metadata": {},
   "source": [
    "*Next, there are a few data wrangling tasks. You will need to make sure that both of your dependent variables are numeric, and you will need to isolate them and make a matrix with just them.  These data wranging requirements are not for the MANOVA itself, but rather for the m shapiro test for multivariate normality, which you'll enact shortly.*"
   ]
  },
  {
   "cell_type": "markdown",
   "metadata": {},
   "source": [
    "## Data Wrangling"
   ]
  },
  {
   "cell_type": "markdown",
   "metadata": {},
   "source": [
    "### Make sure dependent variables are numeric"
   ]
  },
  {
   "cell_type": "markdown",
   "metadata": {},
   "source": [
    "*Your first task is to make sure that your dependent variables are numeric, and not factor or string data.  It doesn't matter whether they are classified as num or as int, but they need to be some form of number. You can check the format wtih the str() function, standing for structure.*"
   ]
  },
  {
   "cell_type": "code",
   "execution_count": 5,
   "metadata": {},
   "outputs": [
    {
     "name": "stdout",
     "output_type": "stream",
     "text": [
      " int [1:243] 24 2 18 0 18 1 55 0 0 1 ...\n"
     ]
    }
   ],
   "source": [
    "str(salon$days.in.adv)"
   ]
  },
  {
   "cell_type": "code",
   "execution_count": 6,
   "metadata": {},
   "outputs": [
    {
     "name": "stdout",
     "output_type": "stream",
     "text": [
      " num [1:243] 88.4 88.4 41.4 63.1 67.8 ...\n"
     ]
    }
   ],
   "source": [
    "str(salon$avg.price)"
   ]
  },
  {
   "cell_type": "markdown",
   "metadata": {},
   "source": [
    "*Excellent! Looks like they are both good to go!*\n",
    "\n",
    "*Next, you will want to remove missing data. Although the MANOVA itself can handle missing data, the M shapiro test cannot, and you will get an error if you try to run it with missing data.*"
   ]
  },
  {
   "cell_type": "markdown",
   "metadata": {},
   "source": [
    "### Remove missing data"
   ]
  },
  {
   "cell_type": "code",
   "execution_count": 19,
   "metadata": {},
   "outputs": [],
   "source": [
    "salon2 <- NaRV.omit(salon)"
   ]
  },
  {
   "cell_type": "markdown",
   "metadata": {},
   "source": [
    "*And then, also for the M Shapiro test, you need to isolate your dependent variables by themselves and turn them into a matrix. You'll use the keeps solution to subset your data, keeping only the columns for your dependent variables.*"
   ]
  },
  {
   "cell_type": "markdown",
   "metadata": {},
   "source": [
    "## Subset and format as a matrix to test the assumption of multivariate normality"
   ]
  },
  {
   "cell_type": "code",
   "execution_count": 20,
   "metadata": {},
   "outputs": [],
   "source": [
    "keeps <- c(\"days.in.adv\", \"avg.price\")\n",
    "salon3 <- salon2[keeps]"
   ]
  },
  {
   "cell_type": "code",
   "execution_count": 22,
   "metadata": {},
   "outputs": [
    {
     "data": {
      "text/html": [
       "<table>\n",
       "<thead><tr><th scope=col>days.in.adv</th><th scope=col>avg.price</th></tr></thead>\n",
       "<tbody>\n",
       "\t<tr><td>24    </td><td> 88.44</td></tr>\n",
       "\t<tr><td> 2    </td><td> 88.44</td></tr>\n",
       "\t<tr><td>18    </td><td> 41.41</td></tr>\n",
       "\t<tr><td> 0    </td><td> 63.13</td></tr>\n",
       "\t<tr><td>18    </td><td> 67.84</td></tr>\n",
       "\t<tr><td> 1    </td><td>120.00</td></tr>\n",
       "</tbody>\n",
       "</table>\n"
      ],
      "text/latex": [
       "\\begin{tabular}{r|ll}\n",
       " days.in.adv & avg.price\\\\\n",
       "\\hline\n",
       "\t 24     &  88.44\\\\\n",
       "\t  2     &  88.44\\\\\n",
       "\t 18     &  41.41\\\\\n",
       "\t  0     &  63.13\\\\\n",
       "\t 18     &  67.84\\\\\n",
       "\t  1     & 120.00\\\\\n",
       "\\end{tabular}\n"
      ],
      "text/markdown": [
       "\n",
       "days.in.adv | avg.price | \n",
       "|---|---|---|---|---|---|\n",
       "| 24     |  88.44 | \n",
       "|  2     |  88.44 | \n",
       "| 18     |  41.41 | \n",
       "|  0     |  63.13 | \n",
       "| 18     |  67.84 | \n",
       "|  1     | 120.00 | \n",
       "\n",
       "\n"
      ],
      "text/plain": [
       "  days.in.adv avg.price\n",
       "1 24           88.44   \n",
       "2  2           88.44   \n",
       "3 18           41.41   \n",
       "4  0           63.13   \n",
       "5 18           67.84   \n",
       "6  1          120.00   "
      ]
     },
     "metadata": {},
     "output_type": "display_data"
    }
   ],
   "source": [
    "head(salon3)"
   ]
  },
  {
   "cell_type": "markdown",
   "metadata": {},
   "source": [
    "*And then simmply use the function as.matrix to turn that data frame into a matrix instead.*"
   ]
  },
  {
   "cell_type": "code",
   "execution_count": 23,
   "metadata": {},
   "outputs": [],
   "source": [
    "salon4 <- as.matrix(salon3)"
   ]
  },
  {
   "cell_type": "code",
   "execution_count": 24,
   "metadata": {},
   "outputs": [
    {
     "data": {
      "text/html": [
       "<table>\n",
       "<thead><tr><th></th><th scope=col>days.in.adv</th><th scope=col>avg.price</th></tr></thead>\n",
       "<tbody>\n",
       "\t<tr><th scope=row>1</th><td>24    </td><td> 88.44</td></tr>\n",
       "\t<tr><th scope=row>2</th><td> 2    </td><td> 88.44</td></tr>\n",
       "\t<tr><th scope=row>3</th><td>18    </td><td> 41.41</td></tr>\n",
       "\t<tr><th scope=row>4</th><td> 0    </td><td> 63.13</td></tr>\n",
       "\t<tr><th scope=row>5</th><td>18    </td><td> 67.84</td></tr>\n",
       "\t<tr><th scope=row>6</th><td> 1    </td><td>120.00</td></tr>\n",
       "</tbody>\n",
       "</table>\n"
      ],
      "text/latex": [
       "\\begin{tabular}{r|ll}\n",
       "  & days.in.adv & avg.price\\\\\n",
       "\\hline\n",
       "\t1 & 24     &  88.44\\\\\n",
       "\t2 &  2     &  88.44\\\\\n",
       "\t3 & 18     &  41.41\\\\\n",
       "\t4 &  0     &  63.13\\\\\n",
       "\t5 & 18     &  67.84\\\\\n",
       "\t6 &  1     & 120.00\\\\\n",
       "\\end{tabular}\n"
      ],
      "text/markdown": [
       "\n",
       "| <!--/--> | days.in.adv | avg.price | \n",
       "|---|---|---|---|---|---|\n",
       "| 1 | 24     |  88.44 | \n",
       "| 2 |  2     |  88.44 | \n",
       "| 3 | 18     |  41.41 | \n",
       "| 4 |  0     |  63.13 | \n",
       "| 5 | 18     |  67.84 | \n",
       "| 6 |  1     | 120.00 | \n",
       "\n",
       "\n"
      ],
      "text/plain": [
       "  days.in.adv avg.price\n",
       "1 24           88.44   \n",
       "2  2           88.44   \n",
       "3 18           41.41   \n",
       "4  0           63.13   \n",
       "5 18           67.84   \n",
       "6  1          120.00   "
      ]
     },
     "metadata": {},
     "output_type": "display_data"
    }
   ],
   "source": [
    "head(salon4)"
   ]
  },
  {
   "cell_type": "markdown",
   "metadata": {},
   "source": [
    "## Test Assumptions"
   ]
  },
  {
   "cell_type": "markdown",
   "metadata": {},
   "source": [
    "*Now you are all set up to test even the most finicky of assumptions!*"
   ]
  },
  {
   "cell_type": "markdown",
   "metadata": {},
   "source": [
    "### Sample Size"
   ]
  },
  {
   "cell_type": "markdown",
   "metadata": {},
   "source": [
    "*First up is sample size. Since you have 200 something rows of data, you meet this assumption without a problem, as you need 20 cases per IV.*"
   ]
  },
  {
   "cell_type": "markdown",
   "metadata": {},
   "source": [
    "### Multivariate Normality"
   ]
  },
  {
   "cell_type": "markdown",
   "metadata": {},
   "source": [
    "*Next, you want to test for multivariate normality with the Shapiro Wilk's test, the function for which is mshapiro.test(). The argument that you will place in is the matrix you created of your two dependent variables while wrangling your data.*"
   ]
  },
  {
   "cell_type": "code",
   "execution_count": 25,
   "metadata": {},
   "outputs": [
    {
     "data": {
      "text/plain": [
       "\n",
       "\tShapiro-Wilk normality test\n",
       "\n",
       "data:  Z\n",
       "W = 0.55738, p-value < 2.2e-16\n"
      ]
     },
     "metadata": {},
     "output_type": "display_data"
    }
   ],
   "source": [
    "mshapiro.test(t(salon4))"
   ]
  },
  {
   "cell_type": "markdown",
   "metadata": {},
   "source": [
    "*And you want the results to be non-significant. If they are significant, you have violated the assumption of multivariate normality and should not run a MANOVA.  But, you will continue here just for learning purposes.*"
   ]
  },
  {
   "cell_type": "markdown",
   "metadata": {},
   "source": [
    "### Homogeneity of Variance"
   ]
  },
  {
   "cell_type": "markdown",
   "metadata": {},
   "source": [
    "*Next, you will test the assumption of homogeneity of variance. This needs to be done individually with a Levene's test for each dependent variable you have.*"
   ]
  },
  {
   "cell_type": "code",
   "execution_count": 12,
   "metadata": {},
   "outputs": [
    {
     "data": {
      "text/html": [
       "<table>\n",
       "<thead><tr><th></th><th scope=col>Df</th><th scope=col>F value</th><th scope=col>Pr(&gt;F)</th></tr></thead>\n",
       "<tbody>\n",
       "\t<tr><th scope=row>group</th><td>  5      </td><td>0.7968467</td><td>0.5528728</td></tr>\n",
       "\t<tr><th scope=row> </th><td>237      </td><td>       NA</td><td>       NA</td></tr>\n",
       "</tbody>\n",
       "</table>\n"
      ],
      "text/latex": [
       "\\begin{tabular}{r|lll}\n",
       "  & Df & F value & Pr(>F)\\\\\n",
       "\\hline\n",
       "\tgroup &   5       & 0.7968467 & 0.5528728\\\\\n",
       "\t  & 237       &        NA &        NA\\\\\n",
       "\\end{tabular}\n"
      ],
      "text/markdown": [
       "\n",
       "| <!--/--> | Df | F value | Pr(>F) | \n",
       "|---|---|\n",
       "| group |   5       | 0.7968467 | 0.5528728 | \n",
       "|   | 237       |        NA |        NA | \n",
       "\n",
       "\n"
      ],
      "text/plain": [
       "      Df  F value   Pr(>F)   \n",
       "group   5 0.7968467 0.5528728\n",
       "      237        NA        NA"
      ]
     },
     "metadata": {},
     "output_type": "display_data"
    }
   ],
   "source": [
    "leveneTest(days.in.adv ~ staff, data=salon)"
   ]
  },
  {
   "cell_type": "code",
   "execution_count": 13,
   "metadata": {},
   "outputs": [
    {
     "data": {
      "text/html": [
       "<table>\n",
       "<thead><tr><th></th><th scope=col>Df</th><th scope=col>F value</th><th scope=col>Pr(&gt;F)</th></tr></thead>\n",
       "<tbody>\n",
       "\t<tr><th scope=row>group</th><td>  5         </td><td>9.83148     </td><td>1.508878e-08</td></tr>\n",
       "\t<tr><th scope=row> </th><td>235         </td><td>     NA     </td><td>          NA</td></tr>\n",
       "</tbody>\n",
       "</table>\n"
      ],
      "text/latex": [
       "\\begin{tabular}{r|lll}\n",
       "  & Df & F value & Pr(>F)\\\\\n",
       "\\hline\n",
       "\tgroup &   5          & 9.83148      & 1.508878e-08\\\\\n",
       "\t  & 235          &      NA      &           NA\\\\\n",
       "\\end{tabular}\n"
      ],
      "text/markdown": [
       "\n",
       "| <!--/--> | Df | F value | Pr(>F) | \n",
       "|---|---|\n",
       "| group |   5          | 9.83148      | 1.508878e-08 | \n",
       "|   | 235          |      NA      |           NA | \n",
       "\n",
       "\n"
      ],
      "text/plain": [
       "      Df  F value Pr(>F)      \n",
       "group   5 9.83148 1.508878e-08\n",
       "      235      NA           NA"
      ]
     },
     "metadata": {},
     "output_type": "display_data"
    }
   ],
   "source": [
    "leveneTest(avg.price ~ staff, data=salon)"
   ]
  },
  {
   "cell_type": "markdown",
   "metadata": {},
   "source": [
    "*You wanted both of these to be non-signficant in order to meet the assumption of homogeneity of variance. Unfortunately, average price does not meet this assumption, although days in advance does. You will proceed with this analysis, however, even having violated the assumption, just for learning purposes.*"
   ]
  },
  {
   "cell_type": "markdown",
   "metadata": {},
   "source": [
    "### Absence of Multicollinearity"
   ]
  },
  {
   "cell_type": "markdown",
   "metadata": {},
   "source": [
    "*Lastly, you need to test for multicollinearity. This can be done just by doing a correlation between your dependent variables. You are looking for a correlation that is lower than .7 or so. You can test for correlation in any way you like, though is this case, you'll use cor.test().*"
   ]
  },
  {
   "cell_type": "code",
   "execution_count": 14,
   "metadata": {},
   "outputs": [
    {
     "data": {
      "text/plain": [
       "\n",
       "\tPearson's product-moment correlation\n",
       "\n",
       "data:  salon$days.in.adv and salon$avg.price\n",
       "t = -1.2739, df = 239, p-value = 0.2039\n",
       "alternative hypothesis: true correlation is not equal to 0\n",
       "95 percent confidence interval:\n",
       " -0.20634802  0.04470744\n",
       "sample estimates:\n",
       "        cor \n",
       "-0.08212297 \n"
      ]
     },
     "metadata": {},
     "output_type": "display_data"
    }
   ],
   "source": [
    "cor.test(salon$days.in.adv, salon$avg.price, method=\"pearson\", use=\"complete.obs\")"
   ]
  },
  {
   "cell_type": "markdown",
   "metadata": {},
   "source": [
    "*The correlation between your two dependent variables is very small, less than .01, so you definitely have not violated the assumption of absence of multicollinearity, and are good to proceed.  Note that it doesn't matter whether the correlation is positive or negative; it's really just the strength of the correlation that matters.*"
   ]
  },
  {
   "cell_type": "markdown",
   "metadata": {},
   "source": [
    "# END VIDEO 1"
   ]
  },
  {
   "cell_type": "markdown",
   "metadata": {},
   "source": [
    "## The Analysis"
   ]
  },
  {
   "cell_type": "markdown",
   "metadata": {},
   "source": [
    "*Alright! You have now tested all the necessary assumptions, and it is now time to actually run your MANOVA! You will use the function manova(). In the argument for cbind, you will place both of your dependent variables; this is how they get joined together to become one uber dependent variable.  Then you'll put in any of your other model information after the tilde.  In this case, you just have the IV, but just like ANOVA, you could add in covariates or additional factors if you'd like. Run the summary on the model you just created, and you get this information:*"
   ]
  },
  {
   "cell_type": "code",
   "execution_count": 15,
   "metadata": {},
   "outputs": [
    {
     "data": {
      "text/plain": [
       "           Df Pillai approx F num Df den Df    Pr(>F)    \n",
       "staff       5 0.2471   6.6253     10    470 1.215e-09 ***\n",
       "Residuals 235                                            \n",
       "---\n",
       "Signif. codes:  0 '***' 0.001 '**' 0.01 '*' 0.05 '.' 0.1 ' ' 1"
      ]
     },
     "metadata": {},
     "output_type": "display_data"
    }
   ],
   "source": [
    "MANOVA <- manova(cbind(days.in.adv, avg.price) ~ staff, data = salon)\n",
    "summary(MANOVA)"
   ]
  },
  {
   "cell_type": "markdown",
   "metadata": {},
   "source": [
    "*Looks like the staff does have a significant effect on the two dependent variables rolled together. But which dependent variable is driving this significance? Days in advance? Price? Both? In order to find out, you'll need to do a post hoc. And with MANOVAs, the first post hoc you'll do is actually an ANOVA, not a t-test!*"
   ]
  },
  {
   "cell_type": "markdown",
   "metadata": {},
   "source": [
    "## Post Hocs"
   ]
  },
  {
   "cell_type": "markdown",
   "metadata": {},
   "source": [
    "*Luckily, however, there is code for this, so you don't have to arrange for multiple different ANOVAs. Simply use the summary.aov() function and place in the name of your multivariate model, and specify for the argument test= Wilks.*"
   ]
  },
  {
   "cell_type": "code",
   "execution_count": 16,
   "metadata": {},
   "outputs": [
    {
     "data": {
      "text/plain": [
       " Response days.in.adv :\n",
       "             Df  Sum Sq Mean Sq F value Pr(>F)\n",
       "staff         5   489.4  97.871  0.9081 0.4764\n",
       "Residuals   235 25327.5 107.776               \n",
       "\n",
       " Response avg.price :\n",
       "             Df Sum Sq Mean Sq F value    Pr(>F)    \n",
       "staff         5  95215 19042.9   14.24 3.553e-12 ***\n",
       "Residuals   235 314254  1337.2                      \n",
       "---\n",
       "Signif. codes:  0 '***' 0.001 '**' 0.01 '*' 0.05 '.' 0.1 ' ' 1\n",
       "\n",
       "2 observations deleted due to missingness"
      ]
     },
     "metadata": {},
     "output_type": "display_data"
    }
   ],
   "source": [
    "summary.aov(MANOVA, test = \"wilks\") "
   ]
  },
  {
   "cell_type": "markdown",
   "metadata": {},
   "source": [
    "*Now you get the responses back for both ANOVAs. Looks like the average price was driving things, not the days in advance, because days in advance is NOT significant, but average price is.From here, you can absolutely run your normal ANOVA post hocs, and then look at the means to see which staff member is performing better. This has already been done in previous videos with this data, so it will not be repeated here.* "
   ]
  },
  {
   "cell_type": "code",
   "execution_count": null,
   "metadata": {},
   "outputs": [],
   "source": []
  }
 ],
 "metadata": {
  "kernelspec": {
   "display_name": "R",
   "language": "R",
   "name": "ir"
  },
  "language_info": {
   "codemirror_mode": "r",
   "file_extension": ".r",
   "mimetype": "text/x-r-source",
   "name": "R",
   "pygments_lexer": "r",
   "version": "3.5.1"
  }
 },
 "nbformat": 4,
 "nbformat_minor": 2
}
