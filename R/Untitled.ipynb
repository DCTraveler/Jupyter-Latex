{
 "cells": [
  {
   "cell_type": "code",
   "execution_count": 1,
   "id": "dda8746f-9f45-4712-90db-8bb14287b17f",
   "metadata": {},
   "outputs": [
    {
     "data": {
      "text/plain": [
       "               _                           \n",
       "platform       x86_64-apple-darwin17.0     \n",
       "arch           x86_64                      \n",
       "os             darwin17.0                  \n",
       "system         x86_64, darwin17.0          \n",
       "status                                     \n",
       "major          4                           \n",
       "minor          1.1                         \n",
       "year           2021                        \n",
       "month          08                          \n",
       "day            10                          \n",
       "svn rev        80725                       \n",
       "language       R                           \n",
       "version.string R version 4.1.1 (2021-08-10)\n",
       "nickname       Kick Things                 "
      ]
     },
     "metadata": {},
     "output_type": "display_data"
    }
   ],
   "source": [
    "version"
   ]
  },
  {
   "cell_type": "code",
   "execution_count": null,
   "id": "8188951b-6b4e-41e6-922b-3295f9e30407",
   "metadata": {},
   "outputs": [],
   "source": []
  }
 ],
 "metadata": {
  "kernelspec": {
   "display_name": "R",
   "language": "R",
   "name": "ir"
  },
  "language_info": {
   "codemirror_mode": "r",
   "file_extension": ".r",
   "mimetype": "text/x-r-source",
   "name": "R",
   "pygments_lexer": "r",
   "version": "4.1.1"
  }
 },
 "nbformat": 4,
 "nbformat_minor": 5
}
