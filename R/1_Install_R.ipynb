{
 "cells": [
  {
   "cell_type": "markdown",
   "id": "65c04082-ee9b-4a41-8eff-55a3f9cf68bf",
   "metadata": {},
   "source": [
    "![R Logo](https://www.r-project.org/Rlogo.png)\n",
    "***\n",
    "[Home](https://www.r-project.org/) |\n",
    "[Downloads](https://cran.r-project.org/mirrors.html) |\n",
    "[About R](https://www.r-project.org/about.html) |\n",
    "[What’s New?](https://www.r-project.org/news.html) |\n",
    "[Developer Pages](https://developer.r-project.org/) |\n",
    "[R Blog](https://developer.r-project.org/Blog/public/)\n",
    "***"
   ]
  },
  {
   "cell_type": "markdown",
   "id": "fdf45f49-ef5d-413c-b6de-1b3b318b0827",
   "metadata": {},
   "source": [
    "[Howto: Install R Kernel into Jupyter](https://richpauloo.github.io/2018-05-16-Installing-the-R-kernel-in-Jupyter-Lab/)"
   ]
  },
  {
   "cell_type": "code",
   "execution_count": 2,
   "id": "1469ba41-abbd-4f70-86f3-7b46ae0c24ce",
   "metadata": {},
   "outputs": [
    {
     "name": "stdout",
     "output_type": "stream",
     "text": [
      "[1] \"Hello from R inside Jupyter!!!\"\n"
     ]
    }
   ],
   "source": [
    "print(\"Hello from R inside Jupyter!!!\")"
   ]
  },
  {
   "cell_type": "code",
   "execution_count": null,
   "id": "27f8238b-77cd-4118-bdea-6024f1f76469",
   "metadata": {},
   "outputs": [],
   "source": []
  }
 ],
 "metadata": {
  "kernelspec": {
   "display_name": "R",
   "language": "R",
   "name": "ir"
  },
  "language_info": {
   "codemirror_mode": "r",
   "file_extension": ".r",
   "mimetype": "text/x-r-source",
   "name": "R",
   "pygments_lexer": "r",
   "version": "3.6.3"
  }
 },
 "nbformat": 4,
 "nbformat_minor": 5
}
