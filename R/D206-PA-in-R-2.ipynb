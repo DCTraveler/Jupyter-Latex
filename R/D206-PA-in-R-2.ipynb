{
 "cells": [
  {
   "cell_type": "markdown",
   "id": "9264c7ef-05aa-4d76-845a-7ed74e6c2332",
   "metadata": {},
   "source": [
    "## Jilian Dickson \n",
    "## D206- PA\n",
    "## WGU- Dr. Eric Straw\n",
    "## July 8, 2022"
   ]
  },
  {
   "cell_type": "markdown",
   "id": "5e74b028-d5db-4972-8c27-28bf882a223c",
   "metadata": {},
   "source": [
    "## Part 1- A: Research question: Taking into account patient data provided, what are the relationships between the given factors of children, age, and being overweight?"
   ]
  },
  {
   "cell_type": "markdown",
   "id": "6001c1eb-0241-4d71-a5e6-c708732fe4dd",
   "metadata": {},
   "source": [
    "## First step is to import packages to be used in PA"
   ]
  },
  {
   "cell_type": "code",
   "execution_count": 2,
   "id": "74ecd875-054c-4ac2-9d8d-19f02a8cb2bc",
   "metadata": {},
   "outputs": [
    {
     "name": "stderr",
     "output_type": "stream",
     "text": [
      "also installing the dependencies ‘rematch’, ‘gargle’, ‘cellranger’, ‘ids’, ‘googledrive’, ‘googlesheets4’, ‘reprex’\n",
      "\n",
      "\n"
     ]
    },
    {
     "name": "stdout",
     "output_type": "stream",
     "text": [
      "\n",
      "The downloaded binary packages are in\n",
      "\t/var/folders/wk/6why77bn1kn0l0pkd4vd3zl00000gn/T//RtmpQAzaCy/downloaded_packages\n"
     ]
    }
   ],
   "source": [
    "install.packages('tidyverse')"
   ]
  },
  {
   "cell_type": "code",
   "execution_count": 3,
   "id": "2af58eaf-eafa-4aeb-9dbf-1e90c1c49c73",
   "metadata": {},
   "outputs": [
    {
     "name": "stdout",
     "output_type": "stream",
     "text": [
      "\n",
      "The downloaded binary packages are in\n",
      "\t/var/folders/wk/6why77bn1kn0l0pkd4vd3zl00000gn/T//RtmpQAzaCy/downloaded_packages\n"
     ]
    }
   ],
   "source": [
    "install.packages('dplyr')"
   ]
  },
  {
   "cell_type": "code",
   "execution_count": 4,
   "id": "87f977fb-ded2-404a-9005-daa90f198060",
   "metadata": {},
   "outputs": [
    {
     "name": "stdout",
     "output_type": "stream",
     "text": [
      "\n",
      "The downloaded binary packages are in\n",
      "\t/var/folders/wk/6why77bn1kn0l0pkd4vd3zl00000gn/T//RtmpQAzaCy/downloaded_packages\n"
     ]
    }
   ],
   "source": [
    "install.packages('ggplot2')"
   ]
  },
  {
   "cell_type": "code",
   "execution_count": 7,
   "id": "52a6692d-6501-49ff-be85-6b32f7fa1433",
   "metadata": {},
   "outputs": [
    {
     "name": "stderr",
     "output_type": "stream",
     "text": [
      "── \u001b[1mAttaching packages\u001b[22m ─────────────────────────────────────────── tidyverse 1.3.1 ──\n",
      "\n",
      "\u001b[32m✔\u001b[39m \u001b[34mggplot2\u001b[39m 3.3.6     \u001b[32m✔\u001b[39m \u001b[34mpurrr  \u001b[39m 0.3.4\n",
      "\u001b[32m✔\u001b[39m \u001b[34mtibble \u001b[39m 3.1.7     \u001b[32m✔\u001b[39m \u001b[34mdplyr  \u001b[39m 1.0.9\n",
      "\u001b[32m✔\u001b[39m \u001b[34mtidyr  \u001b[39m 1.2.0     \u001b[32m✔\u001b[39m \u001b[34mstringr\u001b[39m 1.4.0\n",
      "\u001b[32m✔\u001b[39m \u001b[34mreadr  \u001b[39m 2.1.2     \u001b[32m✔\u001b[39m \u001b[34mforcats\u001b[39m 0.5.1\n",
      "\n",
      "── \u001b[1mConflicts\u001b[22m ────────────────────────────────────────────── tidyverse_conflicts() ──\n",
      "\u001b[31m✖\u001b[39m \u001b[34mdplyr\u001b[39m::\u001b[32mfilter()\u001b[39m masks \u001b[34mstats\u001b[39m::filter()\n",
      "\u001b[31m✖\u001b[39m \u001b[34mdplyr\u001b[39m::\u001b[32mlag()\u001b[39m    masks \u001b[34mstats\u001b[39m::lag()\n",
      "\n"
     ]
    }
   ],
   "source": [
    "library(tidyverse)"
   ]
  },
  {
   "cell_type": "code",
   "execution_count": 8,
   "id": "21d5fe82-9ea2-490c-9000-664f371fd7a3",
   "metadata": {},
   "outputs": [],
   "source": [
    "library(dplyr)\n"
   ]
  },
  {
   "cell_type": "code",
   "execution_count": 9,
   "id": "11977ee8-8c02-4893-a001-89f0d901f6ce",
   "metadata": {},
   "outputs": [],
   "source": [
    "library(ggplot2)"
   ]
  },
  {
   "cell_type": "code",
   "execution_count": 11,
   "id": "2d376e79-5936-4cd9-8a59-3fdb7c1671cb",
   "metadata": {},
   "outputs": [],
   "source": [
    "library(vroom)"
   ]
  },
  {
   "cell_type": "markdown",
   "id": "33551bf7-ea5a-40a2-859b-7f523594ba5d",
   "metadata": {},
   "source": [
    "## The next step is load in the data. I chose the medical dataset. "
   ]
  },
  {
   "cell_type": "code",
   "execution_count": 18,
   "id": "536330df-a982-4e00-a6c8-3023f871737c",
   "metadata": {},
   "outputs": [],
   "source": [
    "medical<- suppressMessages(read_csv('medical_raw_data.csv', show_col_types = FALSE))\n",
    "options(warn=-1)"
   ]
  },
  {
   "cell_type": "code",
   "execution_count": 19,
   "id": "c28885c4-5f7c-453e-af20-a10fa885cd82",
   "metadata": {},
   "outputs": [
    {
     "data": {
      "text/html": [
       "<style>\n",
       ".list-inline {list-style: none; margin:0; padding: 0}\n",
       ".list-inline>li {display: inline-block}\n",
       ".list-inline>li:not(:last-child)::after {content: \"\\00b7\"; padding: 0 .5ex}\n",
       "</style>\n",
       "<ol class=list-inline><li>'...1'</li><li>'CaseOrder'</li><li>'Customer_id'</li><li>'Interaction'</li><li>'UID'</li><li>'City'</li><li>'State'</li><li>'County'</li><li>'Zip'</li><li>'Lat'</li><li>'Lng'</li><li>'Population'</li><li>'Area'</li><li>'Timezone'</li><li>'Job'</li><li>'Children'</li><li>'Age'</li><li>'Education'</li><li>'Employment'</li><li>'Income'</li><li>'Marital'</li><li>'Gender'</li><li>'ReAdmis'</li><li>'VitD_levels'</li><li>'Doc_visits'</li><li>'Full_meals_eaten'</li><li>'VitD_supp'</li><li>'Soft_drink'</li><li>'Initial_admin'</li><li>'HighBlood'</li><li>'Stroke'</li><li>'Complication_risk'</li><li>'Overweight'</li><li>'Arthritis'</li><li>'Diabetes'</li><li>'Hyperlipidemia'</li><li>'BackPain'</li><li>'Anxiety'</li><li>'Allergic_rhinitis'</li><li>'Reflux_esophagitis'</li><li>'Asthma'</li><li>'Services'</li><li>'Initial_days'</li><li>'TotalCharge'</li><li>'Additional_charges'</li><li>'Item1'</li><li>'Item2'</li><li>'Item3'</li><li>'Item4'</li><li>'Item5'</li><li>'Item6'</li><li>'Item7'</li><li>'Item8'</li></ol>\n"
      ],
      "text/latex": [
       "\\begin{enumerate*}\n",
       "\\item '...1'\n",
       "\\item 'CaseOrder'\n",
       "\\item 'Customer\\_id'\n",
       "\\item 'Interaction'\n",
       "\\item 'UID'\n",
       "\\item 'City'\n",
       "\\item 'State'\n",
       "\\item 'County'\n",
       "\\item 'Zip'\n",
       "\\item 'Lat'\n",
       "\\item 'Lng'\n",
       "\\item 'Population'\n",
       "\\item 'Area'\n",
       "\\item 'Timezone'\n",
       "\\item 'Job'\n",
       "\\item 'Children'\n",
       "\\item 'Age'\n",
       "\\item 'Education'\n",
       "\\item 'Employment'\n",
       "\\item 'Income'\n",
       "\\item 'Marital'\n",
       "\\item 'Gender'\n",
       "\\item 'ReAdmis'\n",
       "\\item 'VitD\\_levels'\n",
       "\\item 'Doc\\_visits'\n",
       "\\item 'Full\\_meals\\_eaten'\n",
       "\\item 'VitD\\_supp'\n",
       "\\item 'Soft\\_drink'\n",
       "\\item 'Initial\\_admin'\n",
       "\\item 'HighBlood'\n",
       "\\item 'Stroke'\n",
       "\\item 'Complication\\_risk'\n",
       "\\item 'Overweight'\n",
       "\\item 'Arthritis'\n",
       "\\item 'Diabetes'\n",
       "\\item 'Hyperlipidemia'\n",
       "\\item 'BackPain'\n",
       "\\item 'Anxiety'\n",
       "\\item 'Allergic\\_rhinitis'\n",
       "\\item 'Reflux\\_esophagitis'\n",
       "\\item 'Asthma'\n",
       "\\item 'Services'\n",
       "\\item 'Initial\\_days'\n",
       "\\item 'TotalCharge'\n",
       "\\item 'Additional\\_charges'\n",
       "\\item 'Item1'\n",
       "\\item 'Item2'\n",
       "\\item 'Item3'\n",
       "\\item 'Item4'\n",
       "\\item 'Item5'\n",
       "\\item 'Item6'\n",
       "\\item 'Item7'\n",
       "\\item 'Item8'\n",
       "\\end{enumerate*}\n"
      ],
      "text/markdown": [
       "1. '...1'\n",
       "2. 'CaseOrder'\n",
       "3. 'Customer_id'\n",
       "4. 'Interaction'\n",
       "5. 'UID'\n",
       "6. 'City'\n",
       "7. 'State'\n",
       "8. 'County'\n",
       "9. 'Zip'\n",
       "10. 'Lat'\n",
       "11. 'Lng'\n",
       "12. 'Population'\n",
       "13. 'Area'\n",
       "14. 'Timezone'\n",
       "15. 'Job'\n",
       "16. 'Children'\n",
       "17. 'Age'\n",
       "18. 'Education'\n",
       "19. 'Employment'\n",
       "20. 'Income'\n",
       "21. 'Marital'\n",
       "22. 'Gender'\n",
       "23. 'ReAdmis'\n",
       "24. 'VitD_levels'\n",
       "25. 'Doc_visits'\n",
       "26. 'Full_meals_eaten'\n",
       "27. 'VitD_supp'\n",
       "28. 'Soft_drink'\n",
       "29. 'Initial_admin'\n",
       "30. 'HighBlood'\n",
       "31. 'Stroke'\n",
       "32. 'Complication_risk'\n",
       "33. 'Overweight'\n",
       "34. 'Arthritis'\n",
       "35. 'Diabetes'\n",
       "36. 'Hyperlipidemia'\n",
       "37. 'BackPain'\n",
       "38. 'Anxiety'\n",
       "39. 'Allergic_rhinitis'\n",
       "40. 'Reflux_esophagitis'\n",
       "41. 'Asthma'\n",
       "42. 'Services'\n",
       "43. 'Initial_days'\n",
       "44. 'TotalCharge'\n",
       "45. 'Additional_charges'\n",
       "46. 'Item1'\n",
       "47. 'Item2'\n",
       "48. 'Item3'\n",
       "49. 'Item4'\n",
       "50. 'Item5'\n",
       "51. 'Item6'\n",
       "52. 'Item7'\n",
       "53. 'Item8'\n",
       "\n",
       "\n"
      ],
      "text/plain": [
       " [1] \"...1\"               \"CaseOrder\"          \"Customer_id\"       \n",
       " [4] \"Interaction\"        \"UID\"                \"City\"              \n",
       " [7] \"State\"              \"County\"             \"Zip\"               \n",
       "[10] \"Lat\"                \"Lng\"                \"Population\"        \n",
       "[13] \"Area\"               \"Timezone\"           \"Job\"               \n",
       "[16] \"Children\"           \"Age\"                \"Education\"         \n",
       "[19] \"Employment\"         \"Income\"             \"Marital\"           \n",
       "[22] \"Gender\"             \"ReAdmis\"            \"VitD_levels\"       \n",
       "[25] \"Doc_visits\"         \"Full_meals_eaten\"   \"VitD_supp\"         \n",
       "[28] \"Soft_drink\"         \"Initial_admin\"      \"HighBlood\"         \n",
       "[31] \"Stroke\"             \"Complication_risk\"  \"Overweight\"        \n",
       "[34] \"Arthritis\"          \"Diabetes\"           \"Hyperlipidemia\"    \n",
       "[37] \"BackPain\"           \"Anxiety\"            \"Allergic_rhinitis\" \n",
       "[40] \"Reflux_esophagitis\" \"Asthma\"             \"Services\"          \n",
       "[43] \"Initial_days\"       \"TotalCharge\"        \"Additional_charges\"\n",
       "[46] \"Item1\"              \"Item2\"              \"Item3\"             \n",
       "[49] \"Item4\"              \"Item5\"              \"Item6\"             \n",
       "[52] \"Item7\"              \"Item8\"             "
      ]
     },
     "metadata": {},
     "output_type": "display_data"
    }
   ],
   "source": [
    "colnames(medical)"
   ]
  },
  {
   "cell_type": "markdown",
   "id": "2d2c2b46-34bc-4257-8783-80639f6dc3a2",
   "metadata": {},
   "source": [
    "## I want to view my data before beginning so that I can see what I have to work with. I will use the head command to view the first few rows since the data set is large."
   ]
  },
  {
   "cell_type": "code",
   "execution_count": 20,
   "id": "0e80c16b-efe9-486b-8493-0b8db0bdc4fe",
   "metadata": {},
   "outputs": [
    {
     "data": {
      "text/html": [
       "<table class=\"dataframe\">\n",
       "<caption>A tibble: 2 × 53</caption>\n",
       "<thead>\n",
       "\t<tr><th scope=col>...1</th><th scope=col>CaseOrder</th><th scope=col>Customer_id</th><th scope=col>Interaction</th><th scope=col>UID</th><th scope=col>City</th><th scope=col>State</th><th scope=col>County</th><th scope=col>Zip</th><th scope=col>Lat</th><th scope=col>⋯</th><th scope=col>TotalCharge</th><th scope=col>Additional_charges</th><th scope=col>Item1</th><th scope=col>Item2</th><th scope=col>Item3</th><th scope=col>Item4</th><th scope=col>Item5</th><th scope=col>Item6</th><th scope=col>Item7</th><th scope=col>Item8</th></tr>\n",
       "\t<tr><th scope=col>&lt;dbl&gt;</th><th scope=col>&lt;dbl&gt;</th><th scope=col>&lt;chr&gt;</th><th scope=col>&lt;chr&gt;</th><th scope=col>&lt;chr&gt;</th><th scope=col>&lt;chr&gt;</th><th scope=col>&lt;chr&gt;</th><th scope=col>&lt;chr&gt;</th><th scope=col>&lt;dbl&gt;</th><th scope=col>&lt;dbl&gt;</th><th scope=col>⋯</th><th scope=col>&lt;dbl&gt;</th><th scope=col>&lt;dbl&gt;</th><th scope=col>&lt;dbl&gt;</th><th scope=col>&lt;dbl&gt;</th><th scope=col>&lt;dbl&gt;</th><th scope=col>&lt;dbl&gt;</th><th scope=col>&lt;dbl&gt;</th><th scope=col>&lt;dbl&gt;</th><th scope=col>&lt;dbl&gt;</th><th scope=col>&lt;dbl&gt;</th></tr>\n",
       "</thead>\n",
       "<tbody>\n",
       "\t<tr><td>1</td><td>1</td><td>C412403</td><td>8cd49b13-f45a-4b47-a2bd-173ffa932c2f</td><td>3a83ddb66e2ae73798bdf1d705dc0932</td><td>Eva     </td><td>AL</td><td>Morgan </td><td>35621</td><td>34.34960</td><td>⋯</td><td>3191.049</td><td>17939.4</td><td>3</td><td>3</td><td>2</td><td>2</td><td>4</td><td>3</td><td>3</td><td>4</td></tr>\n",
       "\t<tr><td>2</td><td>2</td><td>Z919181</td><td>d2450b70-0337-4406-bdbb-bc1037f1734c</td><td>176354c5eef714957d486009feabf195</td><td>Marianna</td><td>FL</td><td>Jackson</td><td>32446</td><td>30.84513</td><td>⋯</td><td>4214.905</td><td>17613.0</td><td>3</td><td>4</td><td>3</td><td>4</td><td>4</td><td>4</td><td>3</td><td>3</td></tr>\n",
       "</tbody>\n",
       "</table>\n"
      ],
      "text/latex": [
       "A tibble: 2 × 53\n",
       "\\begin{tabular}{lllllllllllllllllllll}\n",
       " ...1 & CaseOrder & Customer\\_id & Interaction & UID & City & State & County & Zip & Lat & ⋯ & TotalCharge & Additional\\_charges & Item1 & Item2 & Item3 & Item4 & Item5 & Item6 & Item7 & Item8\\\\\n",
       " <dbl> & <dbl> & <chr> & <chr> & <chr> & <chr> & <chr> & <chr> & <dbl> & <dbl> & ⋯ & <dbl> & <dbl> & <dbl> & <dbl> & <dbl> & <dbl> & <dbl> & <dbl> & <dbl> & <dbl>\\\\\n",
       "\\hline\n",
       "\t 1 & 1 & C412403 & 8cd49b13-f45a-4b47-a2bd-173ffa932c2f & 3a83ddb66e2ae73798bdf1d705dc0932 & Eva      & AL & Morgan  & 35621 & 34.34960 & ⋯ & 3191.049 & 17939.4 & 3 & 3 & 2 & 2 & 4 & 3 & 3 & 4\\\\\n",
       "\t 2 & 2 & Z919181 & d2450b70-0337-4406-bdbb-bc1037f1734c & 176354c5eef714957d486009feabf195 & Marianna & FL & Jackson & 32446 & 30.84513 & ⋯ & 4214.905 & 17613.0 & 3 & 4 & 3 & 4 & 4 & 4 & 3 & 3\\\\\n",
       "\\end{tabular}\n"
      ],
      "text/markdown": [
       "\n",
       "A tibble: 2 × 53\n",
       "\n",
       "| ...1 &lt;dbl&gt; | CaseOrder &lt;dbl&gt; | Customer_id &lt;chr&gt; | Interaction &lt;chr&gt; | UID &lt;chr&gt; | City &lt;chr&gt; | State &lt;chr&gt; | County &lt;chr&gt; | Zip &lt;dbl&gt; | Lat &lt;dbl&gt; | ⋯ ⋯ | TotalCharge &lt;dbl&gt; | Additional_charges &lt;dbl&gt; | Item1 &lt;dbl&gt; | Item2 &lt;dbl&gt; | Item3 &lt;dbl&gt; | Item4 &lt;dbl&gt; | Item5 &lt;dbl&gt; | Item6 &lt;dbl&gt; | Item7 &lt;dbl&gt; | Item8 &lt;dbl&gt; |\n",
       "|---|---|---|---|---|---|---|---|---|---|---|---|---|---|---|---|---|---|---|---|---|\n",
       "| 1 | 1 | C412403 | 8cd49b13-f45a-4b47-a2bd-173ffa932c2f | 3a83ddb66e2ae73798bdf1d705dc0932 | Eva      | AL | Morgan  | 35621 | 34.34960 | ⋯ | 3191.049 | 17939.4 | 3 | 3 | 2 | 2 | 4 | 3 | 3 | 4 |\n",
       "| 2 | 2 | Z919181 | d2450b70-0337-4406-bdbb-bc1037f1734c | 176354c5eef714957d486009feabf195 | Marianna | FL | Jackson | 32446 | 30.84513 | ⋯ | 4214.905 | 17613.0 | 3 | 4 | 3 | 4 | 4 | 4 | 3 | 3 |\n",
       "\n"
      ],
      "text/plain": [
       "  ...1 CaseOrder Customer_id Interaction                         \n",
       "1 1    1         C412403     8cd49b13-f45a-4b47-a2bd-173ffa932c2f\n",
       "2 2    2         Z919181     d2450b70-0337-4406-bdbb-bc1037f1734c\n",
       "  UID                              City     State County  Zip   Lat      ⋯\n",
       "1 3a83ddb66e2ae73798bdf1d705dc0932 Eva      AL    Morgan  35621 34.34960 ⋯\n",
       "2 176354c5eef714957d486009feabf195 Marianna FL    Jackson 32446 30.84513 ⋯\n",
       "  TotalCharge Additional_charges Item1 Item2 Item3 Item4 Item5 Item6 Item7\n",
       "1 3191.049    17939.4            3     3     2     2     4     3     3    \n",
       "2 4214.905    17613.0            3     4     3     4     4     4     3    \n",
       "  Item8\n",
       "1 4    \n",
       "2 3    "
      ]
     },
     "metadata": {},
     "output_type": "display_data"
    }
   ],
   "source": [
    "head(medical,2)"
   ]
  },
  {
   "cell_type": "markdown",
   "id": "df7b5c88-aceb-44e0-aad8-bd979bc1f770",
   "metadata": {},
   "source": [
    "## Part 1- B: I then further explore the data while taking into consideration the following provided data dictionary and the data types using str(medical)."
   ]
  },
  {
   "cell_type": "raw",
   "id": "ba6fd69e-2b4b-4fb8-9410-d694b9a83719",
   "metadata": {},
   "source": [
    "#- Unnamed: integer index\n",
    "#- CaseOrder: integer index, purpose is to preserve the original order of the raw data\n",
    "#- Customer_id: character string, unique, purpose is to identify each patient\n",
    "#- Interaction: character string, unique, purpose is to identify patient transactions, procedures, and admissions\n",
    "#- UID: character string, unique, purpose is to identify patient transactions, procedures, and admissions\n",
    "#- City: character string, purpose is to indicate patient's city of residence as listed on the billing statement\n",
    "#- State: character string, purpose is to show patient's state of residence as listed on the billing statement\n",
    "#- County: character string, purpose is to indicate patient's county of residence as listed on the billing statement\n",
    "#- Zip: integer, purpose is to indicate patient's zip code of residence as listed on the billing statement\n",
    "#- Lat: continuous numeric of latitude GPS coordinates of residence; listed on the billing statement\n",
    "#- Lng: continuous numeric, purpose is to show longitude GPS coordinates of residence as listed on the billing statement\n",
    "#- Population: integer value, purpose is to show population within a mile radius of a patient based on census data\n",
    "#- Area: a nominal categorical, purpose is to show character string area type (rural, urban, suburban) based on unofficial census data\n",
    "#- Timezone: a nominal categorical string, purpose is to show character string of time zone of patient residence based on patient’s sign-up information\n",
    "#- Job: a nominal categorical string, purpose is to show the job of the patient and/or primary insurance holder as reported in the admissions information\n",
    "#- Children: float, purpose is to show the number of children in the patient’s household as reported in the admissions information\n",
    "#- Age: float, purpose is to show the age of the patient as reported in admissions information\n",
    "#- Education: a nominal categorical string, purpose is to show the highest earned degree of a patient as reported in admissions information\n",
    "#- Employment: a categorical string, purpose is to show the employment status of a patient as reported in admissions information\n",
    "#- Income: float, purpose is to show the annual income of the patient and/or primary insurance holder as reported at the time of admission\n",
    "#- Marital: a nominal categorical string, purpose is to show the marital status of the patient and/or primary insurance holder as reported on admission information\n",
    "#- Gender: a nominal categorical string, purpose is to show the patient's self-identification as male, female, or nonbinary\n",
    "#- ReAdmis: a binary categorical string, purpose is to show whether the patient was readmitted within a month of release or not with the options of yes or no\n",
    "#- VitD_levels: continuous float, purpose is to show the patient’s vitamin D levels as measured in ng/mL\n",
    "#- Doc_visits: integer, purpose is to show the number of times the primary physician visited the patient during the first hospitalization\n",
    "#- Full_meals_eaten: integer, purpose is to show the number of complete meals the patient ate while hospitalized with the options of partial meals count being shown as 0; also noted- some patients were served more than three meals per day day if requested\n",
    "#- VitD_supp: integer, purpose is to show the number of instances that a vitamin D supplement was given to the patient \n",
    "#- Soft_drink: a binary categorical string, purpose is to show if the patient habitually drinks three or more sodas in a day with the options of yes or no\n",
    "#- Initial_admin: a nominal cateogorical string, purpose is to show how the patient was admitted into the hospital for their first visit with the options of emergency admission, elective admission, or observation\n",
    "#- HighBlood: a string, purpose is to show if the patient has high blood pressure with the options of yes or no\n",
    "#- Stroke: a string, purpose is show whether or not the patient has had a stroke with the options of yes or no\n",
    "#- Complication_risk: a string, purpose is to show the level of complication risk for the patient as indicated by a primary patient assessment with the options of high, medium, low\n",
    "#- Overweight: a float, purpose is to show if the patient is considered overweight based on age, gender, and height with the options of yes or no\n",
    "#- Arthritis: a string, purpose is show if the patient has arthritis with the options of yes or no\n",
    "#- Diabetes: a string, purpose is show if the patient has diabetes with the options of yes or no\n",
    "#- Hyperlipidemia: a string, purpose is show if the patient has hyperlipidemia with the options of yes or no\n",
    "#- BackPain: a string, purpose is show if the patient has chronic back pain with the options of yes or no\n",
    "#- Anxiety: a float, purpose is show if the patient has an anxiety disorder with the options of yes or no\n",
    "#- Allergic_rhinitis: a string, purpose is show if the patient has allergic rhinitis with the options of yes or no\n",
    "#- Reflux_esophigitis: a string, purpose is show if the patient has reflux esophagitis with the options of yes or no\n",
    "#- Asthma: a string, purpose is to show if the patient has asthma with the options of yes or no\n",
    "#- Services: a string, purpose is to show what main/primary service the patient received while hospitalized with the options of blood work, intravenous, CT scan, or MRI\n",
    "#- Initial_days: a float, purpose is show how many days the patient stayed in the hospital during the initial visit\n",
    "#- TotalCharge: a float, purpose is show the dollar amount charged to the patient daily which reflects an average per patient based on the total charge divided by the number of days hospitalized; also shows the typical charges billed to patients while not including specialized treatments\n",
    "#- Additional_charges: a float, purpose is to show the average amount charged to the patient for miscellaneous procedures, treatments, medicines, anesthesiology, etc. that aren't otherwise indicated elsewhere\n",
    "# The following eight variables represent responses to a survey asking customers to rate the importance of various factors on a scale of 1 to 8 (1 = most important, 8 = least important):\n",
    "#- Item1: an integer, describes timely admission\n",
    "#- Item2: an integer, describes timely treatment\n",
    "#- Item3: an integer, describes timely visits\n",
    "#- Item4: an integer, describes reliability\n",
    "#- Item5: an integer, describes options\n",
    "#- Item6: an integer, describes hours of treatment\n",
    "#- Item7: an integer, describes courteous staff\n",
    "#- Item8: an integer, describes evidence of active listening from doctor"
   ]
  },
  {
   "cell_type": "code",
   "execution_count": 8,
   "id": "72520de1-8e10-4ade-a1c9-f593c4295660",
   "metadata": {},
   "outputs": [
    {
     "name": "stdout",
     "output_type": "stream",
     "text": [
      "spec_tbl_df [10,000 x 53] (S3: spec_tbl_df/tbl_df/tbl/data.frame)\n",
      " $ ...1              : num [1:10000] 1 2 3 4 5 6 7 8 9 10 ...\n",
      " $ CaseOrder         : num [1:10000] 1 2 3 4 5 6 7 8 9 10 ...\n",
      " $ Customer_id       : chr [1:10000] \"C412403\" \"Z919181\" \"F995323\" \"A879973\" ...\n",
      " $ Interaction       : chr [1:10000] \"8cd49b13-f45a-4b47-a2bd-173ffa932c2f\" \"d2450b70-0337-4406-bdbb-bc1037f1734c\" \"a2057123-abf5-4a2c-abad-8ffe33512562\" \"1dec528d-eb34-4079-adce-0d7a40e82205\" ...\n",
      " $ UID               : chr [1:10000] \"3a83ddb66e2ae73798bdf1d705dc0932\" \"176354c5eef714957d486009feabf195\" \"e19a0fa00aeda885b8a436757e889bc9\" \"cd17d7b6d152cb6f23957346d11c3f07\" ...\n",
      " $ City              : chr [1:10000] \"Eva\" \"Marianna\" \"Sioux Falls\" \"New Richland\" ...\n",
      " $ State             : chr [1:10000] \"AL\" \"FL\" \"SD\" \"MN\" ...\n",
      " $ County            : chr [1:10000] \"Morgan\" \"Jackson\" \"Minnehaha\" \"Waseca\" ...\n",
      " $ Zip               : num [1:10000] 35621 32446 57110 56072 23181 ...\n",
      " $ Lat               : num [1:10000] 34.3 30.8 43.5 43.9 37.6 ...\n",
      " $ Lng               : num [1:10000] -86.7 -85.2 -96.6 -93.5 -76.9 ...\n",
      " $ Population        : num [1:10000] 2951 11303 17125 2162 5287 ...\n",
      " $ Area              : chr [1:10000] \"Suburban\" \"Urban\" \"Suburban\" \"Suburban\" ...\n",
      " $ Timezone          : chr [1:10000] \"America/Chicago\" \"America/Chicago\" \"America/Chicago\" \"America/Chicago\" ...\n",
      " $ Job               : chr [1:10000] \"Psychologist, sport and exercise\" \"Community development worker\" \"Chief Executive Officer\" \"Early years teacher\" ...\n",
      " $ Children          : num [1:10000] 1 3 3 0 NA NA 0 7 NA 2 ...\n",
      " $ Age               : num [1:10000] 53 51 53 78 22 76 50 40 48 78 ...\n",
      " $ Education         : chr [1:10000] \"Some College, Less than 1 Year\" \"Some College, 1 or More Years, No Degree\" \"Some College, 1 or More Years, No Degree\" \"GED or Alternative Credential\" ...\n",
      " $ Employment        : chr [1:10000] \"Full Time\" \"Full Time\" \"Retired\" \"Retired\" ...\n",
      " $ Income            : num [1:10000] 86576 46806 14370 39741 1210 ...\n",
      " $ Marital           : chr [1:10000] \"Divorced\" \"Married\" \"Widowed\" \"Married\" ...\n",
      " $ Gender            : chr [1:10000] \"Male\" \"Female\" \"Female\" \"Male\" ...\n",
      " $ ReAdmis           : chr [1:10000] \"No\" \"No\" \"No\" \"No\" ...\n",
      " $ VitD_levels       : num [1:10000] 17.8 19 17.4 17.4 16.9 ...\n",
      " $ Doc_visits        : num [1:10000] 6 4 4 4 5 6 6 7 6 7 ...\n",
      " $ Full_meals_eaten  : num [1:10000] 0 2 1 1 0 0 0 2 3 1 ...\n",
      " $ VitD_supp         : num [1:10000] 0 1 0 0 2 0 0 0 0 2 ...\n",
      " $ Soft_drink        : chr [1:10000] NA \"No\" \"No\" \"No\" ...\n",
      " $ Initial_admin     : chr [1:10000] \"Emergency Admission\" \"Emergency Admission\" \"Elective Admission\" \"Elective Admission\" ...\n",
      " $ HighBlood         : chr [1:10000] \"Yes\" \"Yes\" \"Yes\" \"No\" ...\n",
      " $ Stroke            : chr [1:10000] \"No\" \"No\" \"No\" \"Yes\" ...\n",
      " $ Complication_risk : chr [1:10000] \"Medium\" \"High\" \"Medium\" \"Medium\" ...\n",
      " $ Overweight        : num [1:10000] 0 1 1 0 0 1 1 1 1 1 ...\n",
      " $ Arthritis         : chr [1:10000] \"Yes\" \"No\" \"No\" \"Yes\" ...\n",
      " $ Diabetes          : chr [1:10000] \"Yes\" \"No\" \"Yes\" \"No\" ...\n",
      " $ Hyperlipidemia    : chr [1:10000] \"No\" \"No\" \"No\" \"No\" ...\n",
      " $ BackPain          : chr [1:10000] \"Yes\" \"No\" \"No\" \"No\" ...\n",
      " $ Anxiety           : num [1:10000] 1 NA NA NA 0 0 1 0 NA 0 ...\n",
      " $ Allergic_rhinitis : chr [1:10000] \"Yes\" \"No\" \"No\" \"No\" ...\n",
      " $ Reflux_esophagitis: chr [1:10000] \"No\" \"Yes\" \"No\" \"Yes\" ...\n",
      " $ Asthma            : chr [1:10000] \"Yes\" \"No\" \"No\" \"Yes\" ...\n",
      " $ Services          : chr [1:10000] \"Blood Work\" \"Intravenous\" \"Blood Work\" \"Blood Work\" ...\n",
      " $ Initial_days      : num [1:10000] 10.59 15.13 4.77 1.71 1.25 ...\n",
      " $ TotalCharge       : num [1:10000] 3191 4215 2178 2465 1886 ...\n",
      " $ Additional_charges: num [1:10000] 17939 17613 17505 12993 3717 ...\n",
      " $ Item1             : num [1:10000] 3 3 2 3 2 4 4 1 3 5 ...\n",
      " $ Item2             : num [1:10000] 3 4 4 5 1 5 3 2 3 5 ...\n",
      " $ Item3             : num [1:10000] 2 3 4 5 3 4 3 2 2 5 ...\n",
      " $ Item4             : num [1:10000] 2 4 4 3 3 4 2 5 3 3 ...\n",
      " $ Item5             : num [1:10000] 4 4 3 4 5 3 3 4 3 4 ...\n",
      " $ Item6             : num [1:10000] 3 4 4 5 3 5 4 2 3 2 ...\n",
      " $ Item7             : num [1:10000] 3 3 3 5 4 4 5 4 4 3 ...\n",
      " $ Item8             : num [1:10000] 4 3 3 5 3 6 5 2 2 2 ...\n",
      " - attr(*, \"spec\")=\n",
      "  .. cols(\n",
      "  ..   ...1 = \u001b[32mcol_double()\u001b[39m,\n",
      "  ..   CaseOrder = \u001b[32mcol_double()\u001b[39m,\n",
      "  ..   Customer_id = \u001b[31mcol_character()\u001b[39m,\n",
      "  ..   Interaction = \u001b[31mcol_character()\u001b[39m,\n",
      "  ..   UID = \u001b[31mcol_character()\u001b[39m,\n",
      "  ..   City = \u001b[31mcol_character()\u001b[39m,\n",
      "  ..   State = \u001b[31mcol_character()\u001b[39m,\n",
      "  ..   County = \u001b[31mcol_character()\u001b[39m,\n",
      "  ..   Zip = \u001b[32mcol_double()\u001b[39m,\n",
      "  ..   Lat = \u001b[32mcol_double()\u001b[39m,\n",
      "  ..   Lng = \u001b[32mcol_double()\u001b[39m,\n",
      "  ..   Population = \u001b[32mcol_double()\u001b[39m,\n",
      "  ..   Area = \u001b[31mcol_character()\u001b[39m,\n",
      "  ..   Timezone = \u001b[31mcol_character()\u001b[39m,\n",
      "  ..   Job = \u001b[31mcol_character()\u001b[39m,\n",
      "  ..   Children = \u001b[32mcol_double()\u001b[39m,\n",
      "  ..   Age = \u001b[32mcol_double()\u001b[39m,\n",
      "  ..   Education = \u001b[31mcol_character()\u001b[39m,\n",
      "  ..   Employment = \u001b[31mcol_character()\u001b[39m,\n",
      "  ..   Income = \u001b[32mcol_double()\u001b[39m,\n",
      "  ..   Marital = \u001b[31mcol_character()\u001b[39m,\n",
      "  ..   Gender = \u001b[31mcol_character()\u001b[39m,\n",
      "  ..   ReAdmis = \u001b[31mcol_character()\u001b[39m,\n",
      "  ..   VitD_levels = \u001b[32mcol_double()\u001b[39m,\n",
      "  ..   Doc_visits = \u001b[32mcol_double()\u001b[39m,\n",
      "  ..   Full_meals_eaten = \u001b[32mcol_double()\u001b[39m,\n",
      "  ..   VitD_supp = \u001b[32mcol_double()\u001b[39m,\n",
      "  ..   Soft_drink = \u001b[31mcol_character()\u001b[39m,\n",
      "  ..   Initial_admin = \u001b[31mcol_character()\u001b[39m,\n",
      "  ..   HighBlood = \u001b[31mcol_character()\u001b[39m,\n",
      "  ..   Stroke = \u001b[31mcol_character()\u001b[39m,\n",
      "  ..   Complication_risk = \u001b[31mcol_character()\u001b[39m,\n",
      "  ..   Overweight = \u001b[32mcol_double()\u001b[39m,\n",
      "  ..   Arthritis = \u001b[31mcol_character()\u001b[39m,\n",
      "  ..   Diabetes = \u001b[31mcol_character()\u001b[39m,\n",
      "  ..   Hyperlipidemia = \u001b[31mcol_character()\u001b[39m,\n",
      "  ..   BackPain = \u001b[31mcol_character()\u001b[39m,\n",
      "  ..   Anxiety = \u001b[32mcol_double()\u001b[39m,\n",
      "  ..   Allergic_rhinitis = \u001b[31mcol_character()\u001b[39m,\n",
      "  ..   Reflux_esophagitis = \u001b[31mcol_character()\u001b[39m,\n",
      "  ..   Asthma = \u001b[31mcol_character()\u001b[39m,\n",
      "  ..   Services = \u001b[31mcol_character()\u001b[39m,\n",
      "  ..   Initial_days = \u001b[32mcol_double()\u001b[39m,\n",
      "  ..   TotalCharge = \u001b[32mcol_double()\u001b[39m,\n",
      "  ..   Additional_charges = \u001b[32mcol_double()\u001b[39m,\n",
      "  ..   Item1 = \u001b[32mcol_double()\u001b[39m,\n",
      "  ..   Item2 = \u001b[32mcol_double()\u001b[39m,\n",
      "  ..   Item3 = \u001b[32mcol_double()\u001b[39m,\n",
      "  ..   Item4 = \u001b[32mcol_double()\u001b[39m,\n",
      "  ..   Item5 = \u001b[32mcol_double()\u001b[39m,\n",
      "  ..   Item6 = \u001b[32mcol_double()\u001b[39m,\n",
      "  ..   Item7 = \u001b[32mcol_double()\u001b[39m,\n",
      "  ..   Item8 = \u001b[32mcol_double()\u001b[39m\n",
      "  .. )\n",
      " - attr(*, \"problems\")=<externalptr> \n"
     ]
    }
   ],
   "source": [
    "str(medical)"
   ]
  },
  {
   "cell_type": "markdown",
   "id": "395d8909-d565-418e-a43d-56fc660af0cb",
   "metadata": {},
   "source": [
    "## R is a great choice for data cleaning because it has some excellent packages like tidyverse (for cleaning or tidying messy data), dplyr (for data manipulation), and ggplot2 (for data visualizations)."
   ]
  },
  {
   "cell_type": "markdown",
   "id": "590a96fe-9dc9-44f4-9a05-69c1aaf2d132",
   "metadata": {},
   "source": [
    "## Part 2- C: Data Cleaning Action Plan:\n",
    "#### 1: Missing Data\n",
    "    - Find missing data\n",
    "    - Identify the columns the missing data is in\n",
    "\n",
    "#### 2: Convert categorical to numeric\n",
    "\n",
    "#### 3: Check Outliers \n",
    "    - Find exact outliers via boxplot and/or distribution graphs\n",
    "\n",
    "#### 4: Mitigate NAs"
   ]
  },
  {
   "cell_type": "markdown",
   "id": "9e5c0b14-7a3a-456d-a1ab-d05a22b57c09",
   "metadata": {},
   "source": [
    "## Part 3- D: Let's put our data cleaning plan in action."
   ]
  },
  {
   "cell_type": "markdown",
   "id": "388458ef-0344-490e-8862-e6907173870a",
   "metadata": {},
   "source": [
    "### 1- Find any NA values in columns across the entire dataset. These will be detected with the code colSums(is.na(medical))."
   ]
  },
  {
   "cell_type": "code",
   "execution_count": 9,
   "id": "af8e5aec-778f-4282-910e-ccccbde944ba",
   "metadata": {},
   "outputs": [
    {
     "data": {
      "text/html": [
       "<style>\n",
       ".dl-inline {width: auto; margin:0; padding: 0}\n",
       ".dl-inline>dt, .dl-inline>dd {float: none; width: auto; display: inline-block}\n",
       ".dl-inline>dt::after {content: \":\\0020\"; padding-right: .5ex}\n",
       ".dl-inline>dt:not(:first-of-type) {padding-left: .5ex}\n",
       "</style><dl class=dl-inline><dt>...1</dt><dd>0</dd><dt>CaseOrder</dt><dd>0</dd><dt>Customer_id</dt><dd>0</dd><dt>Interaction</dt><dd>0</dd><dt>UID</dt><dd>0</dd><dt>City</dt><dd>0</dd><dt>State</dt><dd>0</dd><dt>County</dt><dd>0</dd><dt>Zip</dt><dd>0</dd><dt>Lat</dt><dd>0</dd><dt>Lng</dt><dd>0</dd><dt>Population</dt><dd>0</dd><dt>Area</dt><dd>0</dd><dt>Timezone</dt><dd>0</dd><dt>Job</dt><dd>0</dd><dt>Children</dt><dd>2588</dd><dt>Age</dt><dd>2414</dd><dt>Education</dt><dd>0</dd><dt>Employment</dt><dd>0</dd><dt>Income</dt><dd>2464</dd><dt>Marital</dt><dd>0</dd><dt>Gender</dt><dd>0</dd><dt>ReAdmis</dt><dd>0</dd><dt>VitD_levels</dt><dd>0</dd><dt>Doc_visits</dt><dd>0</dd><dt>Full_meals_eaten</dt><dd>0</dd><dt>VitD_supp</dt><dd>0</dd><dt>Soft_drink</dt><dd>2467</dd><dt>Initial_admin</dt><dd>0</dd><dt>HighBlood</dt><dd>0</dd><dt>Stroke</dt><dd>0</dd><dt>Complication_risk</dt><dd>0</dd><dt>Overweight</dt><dd>982</dd><dt>Arthritis</dt><dd>0</dd><dt>Diabetes</dt><dd>0</dd><dt>Hyperlipidemia</dt><dd>0</dd><dt>BackPain</dt><dd>0</dd><dt>Anxiety</dt><dd>984</dd><dt>Allergic_rhinitis</dt><dd>0</dd><dt>Reflux_esophagitis</dt><dd>0</dd><dt>Asthma</dt><dd>0</dd><dt>Services</dt><dd>0</dd><dt>Initial_days</dt><dd>1056</dd><dt>TotalCharge</dt><dd>0</dd><dt>Additional_charges</dt><dd>0</dd><dt>Item1</dt><dd>0</dd><dt>Item2</dt><dd>0</dd><dt>Item3</dt><dd>0</dd><dt>Item4</dt><dd>0</dd><dt>Item5</dt><dd>0</dd><dt>Item6</dt><dd>0</dd><dt>Item7</dt><dd>0</dd><dt>Item8</dt><dd>0</dd></dl>\n"
      ],
      "text/latex": [
       "\\begin{description*}\n",
       "\\item[...1] 0\n",
       "\\item[CaseOrder] 0\n",
       "\\item[Customer\\textbackslash{}\\_id] 0\n",
       "\\item[Interaction] 0\n",
       "\\item[UID] 0\n",
       "\\item[City] 0\n",
       "\\item[State] 0\n",
       "\\item[County] 0\n",
       "\\item[Zip] 0\n",
       "\\item[Lat] 0\n",
       "\\item[Lng] 0\n",
       "\\item[Population] 0\n",
       "\\item[Area] 0\n",
       "\\item[Timezone] 0\n",
       "\\item[Job] 0\n",
       "\\item[Children] 2588\n",
       "\\item[Age] 2414\n",
       "\\item[Education] 0\n",
       "\\item[Employment] 0\n",
       "\\item[Income] 2464\n",
       "\\item[Marital] 0\n",
       "\\item[Gender] 0\n",
       "\\item[ReAdmis] 0\n",
       "\\item[VitD\\textbackslash{}\\_levels] 0\n",
       "\\item[Doc\\textbackslash{}\\_visits] 0\n",
       "\\item[Full\\textbackslash{}\\_meals\\textbackslash{}\\_eaten] 0\n",
       "\\item[VitD\\textbackslash{}\\_supp] 0\n",
       "\\item[Soft\\textbackslash{}\\_drink] 2467\n",
       "\\item[Initial\\textbackslash{}\\_admin] 0\n",
       "\\item[HighBlood] 0\n",
       "\\item[Stroke] 0\n",
       "\\item[Complication\\textbackslash{}\\_risk] 0\n",
       "\\item[Overweight] 982\n",
       "\\item[Arthritis] 0\n",
       "\\item[Diabetes] 0\n",
       "\\item[Hyperlipidemia] 0\n",
       "\\item[BackPain] 0\n",
       "\\item[Anxiety] 984\n",
       "\\item[Allergic\\textbackslash{}\\_rhinitis] 0\n",
       "\\item[Reflux\\textbackslash{}\\_esophagitis] 0\n",
       "\\item[Asthma] 0\n",
       "\\item[Services] 0\n",
       "\\item[Initial\\textbackslash{}\\_days] 1056\n",
       "\\item[TotalCharge] 0\n",
       "\\item[Additional\\textbackslash{}\\_charges] 0\n",
       "\\item[Item1] 0\n",
       "\\item[Item2] 0\n",
       "\\item[Item3] 0\n",
       "\\item[Item4] 0\n",
       "\\item[Item5] 0\n",
       "\\item[Item6] 0\n",
       "\\item[Item7] 0\n",
       "\\item[Item8] 0\n",
       "\\end{description*}\n"
      ],
      "text/markdown": [
       "...1\n",
       ":   0CaseOrder\n",
       ":   0Customer_id\n",
       ":   0Interaction\n",
       ":   0UID\n",
       ":   0City\n",
       ":   0State\n",
       ":   0County\n",
       ":   0Zip\n",
       ":   0Lat\n",
       ":   0Lng\n",
       ":   0Population\n",
       ":   0Area\n",
       ":   0Timezone\n",
       ":   0Job\n",
       ":   0Children\n",
       ":   2588Age\n",
       ":   2414Education\n",
       ":   0Employment\n",
       ":   0Income\n",
       ":   2464Marital\n",
       ":   0Gender\n",
       ":   0ReAdmis\n",
       ":   0VitD_levels\n",
       ":   0Doc_visits\n",
       ":   0Full_meals_eaten\n",
       ":   0VitD_supp\n",
       ":   0Soft_drink\n",
       ":   2467Initial_admin\n",
       ":   0HighBlood\n",
       ":   0Stroke\n",
       ":   0Complication_risk\n",
       ":   0Overweight\n",
       ":   982Arthritis\n",
       ":   0Diabetes\n",
       ":   0Hyperlipidemia\n",
       ":   0BackPain\n",
       ":   0Anxiety\n",
       ":   984Allergic_rhinitis\n",
       ":   0Reflux_esophagitis\n",
       ":   0Asthma\n",
       ":   0Services\n",
       ":   0Initial_days\n",
       ":   1056TotalCharge\n",
       ":   0Additional_charges\n",
       ":   0Item1\n",
       ":   0Item2\n",
       ":   0Item3\n",
       ":   0Item4\n",
       ":   0Item5\n",
       ":   0Item6\n",
       ":   0Item7\n",
       ":   0Item8\n",
       ":   0\n",
       "\n"
      ],
      "text/plain": [
       "              ...1          CaseOrder        Customer_id        Interaction \n",
       "                 0                  0                  0                  0 \n",
       "               UID               City              State             County \n",
       "                 0                  0                  0                  0 \n",
       "               Zip                Lat                Lng         Population \n",
       "                 0                  0                  0                  0 \n",
       "              Area           Timezone                Job           Children \n",
       "                 0                  0                  0               2588 \n",
       "               Age          Education         Employment             Income \n",
       "              2414                  0                  0               2464 \n",
       "           Marital             Gender            ReAdmis        VitD_levels \n",
       "                 0                  0                  0                  0 \n",
       "        Doc_visits   Full_meals_eaten          VitD_supp         Soft_drink \n",
       "                 0                  0                  0               2467 \n",
       "     Initial_admin          HighBlood             Stroke  Complication_risk \n",
       "                 0                  0                  0                  0 \n",
       "        Overweight          Arthritis           Diabetes     Hyperlipidemia \n",
       "               982                  0                  0                  0 \n",
       "          BackPain            Anxiety  Allergic_rhinitis Reflux_esophagitis \n",
       "                 0                984                  0                  0 \n",
       "            Asthma           Services       Initial_days        TotalCharge \n",
       "                 0                  0               1056                  0 \n",
       "Additional_charges              Item1              Item2              Item3 \n",
       "                 0                  0                  0                  0 \n",
       "             Item4              Item5              Item6              Item7 \n",
       "                 0                  0                  0                  0 \n",
       "             Item8 \n",
       "                 0 "
      ]
     },
     "metadata": {},
     "output_type": "display_data"
    }
   ],
   "source": [
    "colSums(is.na(medical))"
   ]
  },
  {
   "cell_type": "markdown",
   "id": "e8bbe1b3-7f5b-4d00-9030-1085957facf2",
   "metadata": {},
   "source": [
    "### The results for Number 1 (NA values in columns) are as follows: \n",
    "- Children = 2588\n",
    "- Age = 2414\n",
    "- Income = 2464\n",
    "- Soft_drink = 2467\n",
    "- Overweight = 982\n",
    "- Anxiety = 984\n",
    "- Intial_days = 1056"
   ]
  },
  {
   "cell_type": "markdown",
   "id": "0d2a543c-4f21-408d-9d55-1aaee9c0eb6c",
   "metadata": {},
   "source": [
    "### Now, let's start to find the missing data. I'll try using ncol(data$column) to see if it tells me the number of columns."
   ]
  },
  {
   "cell_type": "code",
   "execution_count": 10,
   "id": "53e4249a-2de5-43b1-80fc-2eace0d380e0",
   "metadata": {},
   "outputs": [
    {
     "data": {
      "text/plain": [
       "NULL"
      ]
     },
     "metadata": {},
     "output_type": "display_data"
    }
   ],
   "source": [
    "ncol(medical$Children)"
   ]
  },
  {
   "cell_type": "markdown",
   "id": "bd5ef678-5e2f-4117-b642-4729c9940697",
   "metadata": {},
   "source": [
    "### The output is NULL bc of the NA's values, so we know this is correct. My next step is to look at the missing data distribution.  "
   ]
  },
  {
   "cell_type": "markdown",
   "id": "ec2cf4c6-de75-42a5-9e8a-0320ec5f9254",
   "metadata": {},
   "source": [
    "### The library(mice) package shows large scale data, the distribution of missing data, and where is it located. It will work nicely for my purpose with the code md.pattern(medical).\n",
    "### This code will show any missing data patterns."
   ]
  },
  {
   "cell_type": "code",
   "execution_count": 13,
   "id": "272ee12a-9aa5-466d-b462-a16a2140a44a",
   "metadata": {},
   "outputs": [],
   "source": [
    "install.packages('mice')\n",
    "library('mice')"
   ]
  },
  {
   "cell_type": "code",
   "execution_count": 14,
   "id": "6760dbea-a4a7-4a88-b7f6-ab49e3759a6e",
   "metadata": {},
   "outputs": [
    {
     "data": {
      "text/html": [
       "<table class=\"dataframe\">\n",
       "<caption>A matrix: 112 × 54 of type dbl</caption>\n",
       "<thead>\n",
       "\t<tr><th></th><th scope=col>...1</th><th scope=col>CaseOrder</th><th scope=col>Customer_id</th><th scope=col>Interaction</th><th scope=col>UID</th><th scope=col>City</th><th scope=col>State</th><th scope=col>County</th><th scope=col>Zip</th><th scope=col>Lat</th><th scope=col>...</th><th scope=col>Item7</th><th scope=col>Item8</th><th scope=col>Overweight</th><th scope=col>Anxiety</th><th scope=col>Initial_days</th><th scope=col>Age</th><th scope=col>Income</th><th scope=col>Soft_drink</th><th scope=col>Children</th><th scope=col></th></tr>\n",
       "</thead>\n",
       "<tbody>\n",
       "\t<tr><th scope=row>2313</th><td>1</td><td>1</td><td>1</td><td>1</td><td>1</td><td>1</td><td>1</td><td>1</td><td>1</td><td>1</td><td>...</td><td>1</td><td>1</td><td>1</td><td>1</td><td>1</td><td>1</td><td>1</td><td>1</td><td>1</td><td>0</td></tr>\n",
       "\t<tr><th scope=row>868</th><td>1</td><td>1</td><td>1</td><td>1</td><td>1</td><td>1</td><td>1</td><td>1</td><td>1</td><td>1</td><td>...</td><td>1</td><td>1</td><td>1</td><td>1</td><td>1</td><td>1</td><td>1</td><td>1</td><td>0</td><td>1</td></tr>\n",
       "\t<tr><th scope=row>745</th><td>1</td><td>1</td><td>1</td><td>1</td><td>1</td><td>1</td><td>1</td><td>1</td><td>1</td><td>1</td><td>...</td><td>1</td><td>1</td><td>1</td><td>1</td><td>1</td><td>1</td><td>1</td><td>0</td><td>1</td><td>1</td></tr>\n",
       "\t<tr><th scope=row>248</th><td>1</td><td>1</td><td>1</td><td>1</td><td>1</td><td>1</td><td>1</td><td>1</td><td>1</td><td>1</td><td>...</td><td>1</td><td>1</td><td>1</td><td>1</td><td>1</td><td>1</td><td>1</td><td>0</td><td>0</td><td>2</td></tr>\n",
       "\t<tr><th scope=row>759</th><td>1</td><td>1</td><td>1</td><td>1</td><td>1</td><td>1</td><td>1</td><td>1</td><td>1</td><td>1</td><td>...</td><td>1</td><td>1</td><td>1</td><td>1</td><td>1</td><td>1</td><td>0</td><td>1</td><td>1</td><td>1</td></tr>\n",
       "\t<tr><th scope=row>277</th><td>1</td><td>1</td><td>1</td><td>1</td><td>1</td><td>1</td><td>1</td><td>1</td><td>1</td><td>1</td><td>...</td><td>1</td><td>1</td><td>1</td><td>1</td><td>1</td><td>1</td><td>0</td><td>1</td><td>0</td><td>2</td></tr>\n",
       "\t<tr><th scope=row>246</th><td>1</td><td>1</td><td>1</td><td>1</td><td>1</td><td>1</td><td>1</td><td>1</td><td>1</td><td>1</td><td>...</td><td>1</td><td>1</td><td>1</td><td>1</td><td>1</td><td>1</td><td>0</td><td>0</td><td>1</td><td>2</td></tr>\n",
       "\t<tr><th scope=row>84</th><td>1</td><td>1</td><td>1</td><td>1</td><td>1</td><td>1</td><td>1</td><td>1</td><td>1</td><td>1</td><td>...</td><td>1</td><td>1</td><td>1</td><td>1</td><td>1</td><td>1</td><td>0</td><td>0</td><td>0</td><td>3</td></tr>\n",
       "\t<tr><th scope=row>768</th><td>1</td><td>1</td><td>1</td><td>1</td><td>1</td><td>1</td><td>1</td><td>1</td><td>1</td><td>1</td><td>...</td><td>1</td><td>1</td><td>1</td><td>1</td><td>1</td><td>0</td><td>1</td><td>1</td><td>1</td><td>1</td></tr>\n",
       "\t<tr><th scope=row>235</th><td>1</td><td>1</td><td>1</td><td>1</td><td>1</td><td>1</td><td>1</td><td>1</td><td>1</td><td>1</td><td>...</td><td>1</td><td>1</td><td>1</td><td>1</td><td>1</td><td>0</td><td>1</td><td>1</td><td>0</td><td>2</td></tr>\n",
       "\t<tr><th scope=row>223</th><td>1</td><td>1</td><td>1</td><td>1</td><td>1</td><td>1</td><td>1</td><td>1</td><td>1</td><td>1</td><td>...</td><td>1</td><td>1</td><td>1</td><td>1</td><td>1</td><td>0</td><td>1</td><td>0</td><td>1</td><td>2</td></tr>\n",
       "\t<tr><th scope=row>100</th><td>1</td><td>1</td><td>1</td><td>1</td><td>1</td><td>1</td><td>1</td><td>1</td><td>1</td><td>1</td><td>...</td><td>1</td><td>1</td><td>1</td><td>1</td><td>1</td><td>0</td><td>1</td><td>0</td><td>0</td><td>3</td></tr>\n",
       "\t<tr><th scope=row>215</th><td>1</td><td>1</td><td>1</td><td>1</td><td>1</td><td>1</td><td>1</td><td>1</td><td>1</td><td>1</td><td>...</td><td>1</td><td>1</td><td>1</td><td>1</td><td>1</td><td>0</td><td>0</td><td>1</td><td>1</td><td>2</td></tr>\n",
       "\t<tr><th scope=row>79</th><td>1</td><td>1</td><td>1</td><td>1</td><td>1</td><td>1</td><td>1</td><td>1</td><td>1</td><td>1</td><td>...</td><td>1</td><td>1</td><td>1</td><td>1</td><td>1</td><td>0</td><td>0</td><td>1</td><td>0</td><td>3</td></tr>\n",
       "\t<tr><th scope=row>95</th><td>1</td><td>1</td><td>1</td><td>1</td><td>1</td><td>1</td><td>1</td><td>1</td><td>1</td><td>1</td><td>...</td><td>1</td><td>1</td><td>1</td><td>1</td><td>1</td><td>0</td><td>0</td><td>0</td><td>1</td><td>3</td></tr>\n",
       "\t<tr><th scope=row>23</th><td>1</td><td>1</td><td>1</td><td>1</td><td>1</td><td>1</td><td>1</td><td>1</td><td>1</td><td>1</td><td>...</td><td>1</td><td>1</td><td>1</td><td>1</td><td>1</td><td>0</td><td>0</td><td>0</td><td>0</td><td>4</td></tr>\n",
       "\t<tr><th scope=row>256</th><td>1</td><td>1</td><td>1</td><td>1</td><td>1</td><td>1</td><td>1</td><td>1</td><td>1</td><td>1</td><td>...</td><td>1</td><td>1</td><td>1</td><td>1</td><td>0</td><td>1</td><td>1</td><td>1</td><td>1</td><td>1</td></tr>\n",
       "\t<tr><th scope=row>89</th><td>1</td><td>1</td><td>1</td><td>1</td><td>1</td><td>1</td><td>1</td><td>1</td><td>1</td><td>1</td><td>...</td><td>1</td><td>1</td><td>1</td><td>1</td><td>0</td><td>1</td><td>1</td><td>1</td><td>0</td><td>2</td></tr>\n",
       "\t<tr><th scope=row>95</th><td>1</td><td>1</td><td>1</td><td>1</td><td>1</td><td>1</td><td>1</td><td>1</td><td>1</td><td>1</td><td>...</td><td>1</td><td>1</td><td>1</td><td>1</td><td>0</td><td>1</td><td>1</td><td>0</td><td>1</td><td>2</td></tr>\n",
       "\t<tr><th scope=row>23</th><td>1</td><td>1</td><td>1</td><td>1</td><td>1</td><td>1</td><td>1</td><td>1</td><td>1</td><td>1</td><td>...</td><td>1</td><td>1</td><td>1</td><td>1</td><td>0</td><td>1</td><td>1</td><td>0</td><td>0</td><td>3</td></tr>\n",
       "\t<tr><th scope=row>94</th><td>1</td><td>1</td><td>1</td><td>1</td><td>1</td><td>1</td><td>1</td><td>1</td><td>1</td><td>1</td><td>...</td><td>1</td><td>1</td><td>1</td><td>1</td><td>0</td><td>1</td><td>0</td><td>1</td><td>1</td><td>2</td></tr>\n",
       "\t<tr><th scope=row>28</th><td>1</td><td>1</td><td>1</td><td>1</td><td>1</td><td>1</td><td>1</td><td>1</td><td>1</td><td>1</td><td>...</td><td>1</td><td>1</td><td>1</td><td>1</td><td>0</td><td>1</td><td>0</td><td>1</td><td>0</td><td>3</td></tr>\n",
       "\t<tr><th scope=row>29</th><td>1</td><td>1</td><td>1</td><td>1</td><td>1</td><td>1</td><td>1</td><td>1</td><td>1</td><td>1</td><td>...</td><td>1</td><td>1</td><td>1</td><td>1</td><td>0</td><td>1</td><td>0</td><td>0</td><td>1</td><td>3</td></tr>\n",
       "\t<tr><th scope=row>17</th><td>1</td><td>1</td><td>1</td><td>1</td><td>1</td><td>1</td><td>1</td><td>1</td><td>1</td><td>1</td><td>...</td><td>1</td><td>1</td><td>1</td><td>1</td><td>0</td><td>1</td><td>0</td><td>0</td><td>0</td><td>4</td></tr>\n",
       "\t<tr><th scope=row>89</th><td>1</td><td>1</td><td>1</td><td>1</td><td>1</td><td>1</td><td>1</td><td>1</td><td>1</td><td>1</td><td>...</td><td>1</td><td>1</td><td>1</td><td>1</td><td>0</td><td>0</td><td>1</td><td>1</td><td>1</td><td>2</td></tr>\n",
       "\t<tr><th scope=row>27</th><td>1</td><td>1</td><td>1</td><td>1</td><td>1</td><td>1</td><td>1</td><td>1</td><td>1</td><td>1</td><td>...</td><td>1</td><td>1</td><td>1</td><td>1</td><td>0</td><td>0</td><td>1</td><td>1</td><td>0</td><td>3</td></tr>\n",
       "\t<tr><th scope=row>33</th><td>1</td><td>1</td><td>1</td><td>1</td><td>1</td><td>1</td><td>1</td><td>1</td><td>1</td><td>1</td><td>...</td><td>1</td><td>1</td><td>1</td><td>1</td><td>0</td><td>0</td><td>1</td><td>0</td><td>1</td><td>3</td></tr>\n",
       "\t<tr><th scope=row>4</th><td>1</td><td>1</td><td>1</td><td>1</td><td>1</td><td>1</td><td>1</td><td>1</td><td>1</td><td>1</td><td>...</td><td>1</td><td>1</td><td>1</td><td>1</td><td>0</td><td>0</td><td>1</td><td>0</td><td>0</td><td>4</td></tr>\n",
       "\t<tr><th scope=row>33</th><td>1</td><td>1</td><td>1</td><td>1</td><td>1</td><td>1</td><td>1</td><td>1</td><td>1</td><td>1</td><td>...</td><td>1</td><td>1</td><td>1</td><td>1</td><td>0</td><td>0</td><td>0</td><td>1</td><td>1</td><td>3</td></tr>\n",
       "\t<tr><th scope=row>14</th><td>1</td><td>1</td><td>1</td><td>1</td><td>1</td><td>1</td><td>1</td><td>1</td><td>1</td><td>1</td><td>...</td><td>1</td><td>1</td><td>1</td><td>1</td><td>0</td><td>0</td><td>0</td><td>1</td><td>0</td><td>4</td></tr>\n",
       "\t<tr><th scope=row>...</th><td>...</td><td>...</td><td>...</td><td>...</td><td>...</td><td>...</td><td>...</td><td>...</td><td>...</td><td>...</td><td></td><td>...</td><td>...</td><td>...</td><td>...</td><td>...</td><td>...</td><td>...</td><td>...</td><td>...</td><td>...</td></tr>\n",
       "\t<tr><th scope=row>3</th><td>1</td><td>1</td><td>1</td><td>1</td><td>1</td><td>1</td><td>1</td><td>1</td><td>1</td><td>1</td><td>...</td><td>1</td><td>1</td><td>  0</td><td>  1</td><td>   0</td><td>   1</td><td>   0</td><td>   0</td><td>   1</td><td>    4</td></tr>\n",
       "\t<tr><th scope=row>2</th><td>1</td><td>1</td><td>1</td><td>1</td><td>1</td><td>1</td><td>1</td><td>1</td><td>1</td><td>1</td><td>...</td><td>1</td><td>1</td><td>  0</td><td>  1</td><td>   0</td><td>   1</td><td>   0</td><td>   0</td><td>   0</td><td>    5</td></tr>\n",
       "\t<tr><th scope=row>10</th><td>1</td><td>1</td><td>1</td><td>1</td><td>1</td><td>1</td><td>1</td><td>1</td><td>1</td><td>1</td><td>...</td><td>1</td><td>1</td><td>  0</td><td>  1</td><td>   0</td><td>   0</td><td>   1</td><td>   1</td><td>   1</td><td>    3</td></tr>\n",
       "\t<tr><th scope=row>2</th><td>1</td><td>1</td><td>1</td><td>1</td><td>1</td><td>1</td><td>1</td><td>1</td><td>1</td><td>1</td><td>...</td><td>1</td><td>1</td><td>  0</td><td>  1</td><td>   0</td><td>   0</td><td>   1</td><td>   1</td><td>   0</td><td>    4</td></tr>\n",
       "\t<tr><th scope=row>4</th><td>1</td><td>1</td><td>1</td><td>1</td><td>1</td><td>1</td><td>1</td><td>1</td><td>1</td><td>1</td><td>...</td><td>1</td><td>1</td><td>  0</td><td>  1</td><td>   0</td><td>   0</td><td>   1</td><td>   0</td><td>   1</td><td>    4</td></tr>\n",
       "\t<tr><th scope=row>1</th><td>1</td><td>1</td><td>1</td><td>1</td><td>1</td><td>1</td><td>1</td><td>1</td><td>1</td><td>1</td><td>...</td><td>1</td><td>1</td><td>  0</td><td>  1</td><td>   0</td><td>   0</td><td>   1</td><td>   0</td><td>   0</td><td>    5</td></tr>\n",
       "\t<tr><th scope=row>2</th><td>1</td><td>1</td><td>1</td><td>1</td><td>1</td><td>1</td><td>1</td><td>1</td><td>1</td><td>1</td><td>...</td><td>1</td><td>1</td><td>  0</td><td>  1</td><td>   0</td><td>   0</td><td>   0</td><td>   1</td><td>   1</td><td>    4</td></tr>\n",
       "\t<tr><th scope=row>1</th><td>1</td><td>1</td><td>1</td><td>1</td><td>1</td><td>1</td><td>1</td><td>1</td><td>1</td><td>1</td><td>...</td><td>1</td><td>1</td><td>  0</td><td>  1</td><td>   0</td><td>   0</td><td>   0</td><td>   0</td><td>   1</td><td>    5</td></tr>\n",
       "\t<tr><th scope=row>29</th><td>1</td><td>1</td><td>1</td><td>1</td><td>1</td><td>1</td><td>1</td><td>1</td><td>1</td><td>1</td><td>...</td><td>1</td><td>1</td><td>  0</td><td>  0</td><td>   1</td><td>   1</td><td>   1</td><td>   1</td><td>   1</td><td>    2</td></tr>\n",
       "\t<tr><th scope=row>5</th><td>1</td><td>1</td><td>1</td><td>1</td><td>1</td><td>1</td><td>1</td><td>1</td><td>1</td><td>1</td><td>...</td><td>1</td><td>1</td><td>  0</td><td>  0</td><td>   1</td><td>   1</td><td>   1</td><td>   1</td><td>   0</td><td>    3</td></tr>\n",
       "\t<tr><th scope=row>6</th><td>1</td><td>1</td><td>1</td><td>1</td><td>1</td><td>1</td><td>1</td><td>1</td><td>1</td><td>1</td><td>...</td><td>1</td><td>1</td><td>  0</td><td>  0</td><td>   1</td><td>   1</td><td>   1</td><td>   0</td><td>   1</td><td>    3</td></tr>\n",
       "\t<tr><th scope=row>5</th><td>1</td><td>1</td><td>1</td><td>1</td><td>1</td><td>1</td><td>1</td><td>1</td><td>1</td><td>1</td><td>...</td><td>1</td><td>1</td><td>  0</td><td>  0</td><td>   1</td><td>   1</td><td>   1</td><td>   0</td><td>   0</td><td>    4</td></tr>\n",
       "\t<tr><th scope=row>10</th><td>1</td><td>1</td><td>1</td><td>1</td><td>1</td><td>1</td><td>1</td><td>1</td><td>1</td><td>1</td><td>...</td><td>1</td><td>1</td><td>  0</td><td>  0</td><td>   1</td><td>   1</td><td>   0</td><td>   1</td><td>   1</td><td>    3</td></tr>\n",
       "\t<tr><th scope=row>3</th><td>1</td><td>1</td><td>1</td><td>1</td><td>1</td><td>1</td><td>1</td><td>1</td><td>1</td><td>1</td><td>...</td><td>1</td><td>1</td><td>  0</td><td>  0</td><td>   1</td><td>   1</td><td>   0</td><td>   0</td><td>   1</td><td>    4</td></tr>\n",
       "\t<tr><th scope=row>1</th><td>1</td><td>1</td><td>1</td><td>1</td><td>1</td><td>1</td><td>1</td><td>1</td><td>1</td><td>1</td><td>...</td><td>1</td><td>1</td><td>  0</td><td>  0</td><td>   1</td><td>   1</td><td>   0</td><td>   0</td><td>   0</td><td>    5</td></tr>\n",
       "\t<tr><th scope=row>6</th><td>1</td><td>1</td><td>1</td><td>1</td><td>1</td><td>1</td><td>1</td><td>1</td><td>1</td><td>1</td><td>...</td><td>1</td><td>1</td><td>  0</td><td>  0</td><td>   1</td><td>   0</td><td>   1</td><td>   1</td><td>   1</td><td>    3</td></tr>\n",
       "\t<tr><th scope=row>3</th><td>1</td><td>1</td><td>1</td><td>1</td><td>1</td><td>1</td><td>1</td><td>1</td><td>1</td><td>1</td><td>...</td><td>1</td><td>1</td><td>  0</td><td>  0</td><td>   1</td><td>   0</td><td>   1</td><td>   1</td><td>   0</td><td>    4</td></tr>\n",
       "\t<tr><th scope=row>4</th><td>1</td><td>1</td><td>1</td><td>1</td><td>1</td><td>1</td><td>1</td><td>1</td><td>1</td><td>1</td><td>...</td><td>1</td><td>1</td><td>  0</td><td>  0</td><td>   1</td><td>   0</td><td>   1</td><td>   0</td><td>   1</td><td>    4</td></tr>\n",
       "\t<tr><th scope=row>4</th><td>1</td><td>1</td><td>1</td><td>1</td><td>1</td><td>1</td><td>1</td><td>1</td><td>1</td><td>1</td><td>...</td><td>1</td><td>1</td><td>  0</td><td>  0</td><td>   1</td><td>   0</td><td>   0</td><td>   1</td><td>   1</td><td>    4</td></tr>\n",
       "\t<tr><th scope=row>1</th><td>1</td><td>1</td><td>1</td><td>1</td><td>1</td><td>1</td><td>1</td><td>1</td><td>1</td><td>1</td><td>...</td><td>1</td><td>1</td><td>  0</td><td>  0</td><td>   1</td><td>   0</td><td>   0</td><td>   1</td><td>   0</td><td>    5</td></tr>\n",
       "\t<tr><th scope=row>1</th><td>1</td><td>1</td><td>1</td><td>1</td><td>1</td><td>1</td><td>1</td><td>1</td><td>1</td><td>1</td><td>...</td><td>1</td><td>1</td><td>  0</td><td>  0</td><td>   1</td><td>   0</td><td>   0</td><td>   0</td><td>   1</td><td>    5</td></tr>\n",
       "\t<tr><th scope=row>1</th><td>1</td><td>1</td><td>1</td><td>1</td><td>1</td><td>1</td><td>1</td><td>1</td><td>1</td><td>1</td><td>...</td><td>1</td><td>1</td><td>  0</td><td>  0</td><td>   1</td><td>   0</td><td>   0</td><td>   0</td><td>   0</td><td>    6</td></tr>\n",
       "\t<tr><th scope=row>4</th><td>1</td><td>1</td><td>1</td><td>1</td><td>1</td><td>1</td><td>1</td><td>1</td><td>1</td><td>1</td><td>...</td><td>1</td><td>1</td><td>  0</td><td>  0</td><td>   0</td><td>   1</td><td>   1</td><td>   1</td><td>   1</td><td>    3</td></tr>\n",
       "\t<tr><th scope=row>1</th><td>1</td><td>1</td><td>1</td><td>1</td><td>1</td><td>1</td><td>1</td><td>1</td><td>1</td><td>1</td><td>...</td><td>1</td><td>1</td><td>  0</td><td>  0</td><td>   0</td><td>   1</td><td>   1</td><td>   1</td><td>   0</td><td>    4</td></tr>\n",
       "\t<tr><th scope=row>1</th><td>1</td><td>1</td><td>1</td><td>1</td><td>1</td><td>1</td><td>1</td><td>1</td><td>1</td><td>1</td><td>...</td><td>1</td><td>1</td><td>  0</td><td>  0</td><td>   0</td><td>   1</td><td>   1</td><td>   0</td><td>   1</td><td>    4</td></tr>\n",
       "\t<tr><th scope=row>2</th><td>1</td><td>1</td><td>1</td><td>1</td><td>1</td><td>1</td><td>1</td><td>1</td><td>1</td><td>1</td><td>...</td><td>1</td><td>1</td><td>  0</td><td>  0</td><td>   0</td><td>   1</td><td>   0</td><td>   1</td><td>   1</td><td>    4</td></tr>\n",
       "\t<tr><th scope=row>2</th><td>1</td><td>1</td><td>1</td><td>1</td><td>1</td><td>1</td><td>1</td><td>1</td><td>1</td><td>1</td><td>...</td><td>1</td><td>1</td><td>  0</td><td>  0</td><td>   0</td><td>   0</td><td>   1</td><td>   1</td><td>   1</td><td>    4</td></tr>\n",
       "\t<tr><th scope=row>1</th><td>1</td><td>1</td><td>1</td><td>1</td><td>1</td><td>1</td><td>1</td><td>1</td><td>1</td><td>1</td><td>...</td><td>1</td><td>1</td><td>  0</td><td>  0</td><td>   0</td><td>   0</td><td>   1</td><td>   1</td><td>   0</td><td>    5</td></tr>\n",
       "\t<tr><th scope=row>2</th><td>1</td><td>1</td><td>1</td><td>1</td><td>1</td><td>1</td><td>1</td><td>1</td><td>1</td><td>1</td><td>...</td><td>1</td><td>1</td><td>  0</td><td>  0</td><td>   0</td><td>   0</td><td>   1</td><td>   0</td><td>   1</td><td>    5</td></tr>\n",
       "\t<tr><th scope=row></th><td>0</td><td>0</td><td>0</td><td>0</td><td>0</td><td>0</td><td>0</td><td>0</td><td>0</td><td>0</td><td>...</td><td>0</td><td>0</td><td>982</td><td>984</td><td>1056</td><td>2414</td><td>2464</td><td>2467</td><td>2588</td><td>12955</td></tr>\n",
       "</tbody>\n",
       "</table>\n"
      ],
      "text/latex": [
       "A matrix: 112 × 54 of type dbl\n",
       "\\begin{tabular}{r|lllllllllllllllllllll}\n",
       "  & ...1 & CaseOrder & Customer\\_id & Interaction & UID & City & State & County & Zip & Lat & ... & Item7 & Item8 & Overweight & Anxiety & Initial\\_days & Age & Income & Soft\\_drink & Children & \\\\\n",
       "\\hline\n",
       "\t2313 & 1 & 1 & 1 & 1 & 1 & 1 & 1 & 1 & 1 & 1 & ... & 1 & 1 & 1 & 1 & 1 & 1 & 1 & 1 & 1 & 0\\\\\n",
       "\t868 & 1 & 1 & 1 & 1 & 1 & 1 & 1 & 1 & 1 & 1 & ... & 1 & 1 & 1 & 1 & 1 & 1 & 1 & 1 & 0 & 1\\\\\n",
       "\t745 & 1 & 1 & 1 & 1 & 1 & 1 & 1 & 1 & 1 & 1 & ... & 1 & 1 & 1 & 1 & 1 & 1 & 1 & 0 & 1 & 1\\\\\n",
       "\t248 & 1 & 1 & 1 & 1 & 1 & 1 & 1 & 1 & 1 & 1 & ... & 1 & 1 & 1 & 1 & 1 & 1 & 1 & 0 & 0 & 2\\\\\n",
       "\t759 & 1 & 1 & 1 & 1 & 1 & 1 & 1 & 1 & 1 & 1 & ... & 1 & 1 & 1 & 1 & 1 & 1 & 0 & 1 & 1 & 1\\\\\n",
       "\t277 & 1 & 1 & 1 & 1 & 1 & 1 & 1 & 1 & 1 & 1 & ... & 1 & 1 & 1 & 1 & 1 & 1 & 0 & 1 & 0 & 2\\\\\n",
       "\t246 & 1 & 1 & 1 & 1 & 1 & 1 & 1 & 1 & 1 & 1 & ... & 1 & 1 & 1 & 1 & 1 & 1 & 0 & 0 & 1 & 2\\\\\n",
       "\t84 & 1 & 1 & 1 & 1 & 1 & 1 & 1 & 1 & 1 & 1 & ... & 1 & 1 & 1 & 1 & 1 & 1 & 0 & 0 & 0 & 3\\\\\n",
       "\t768 & 1 & 1 & 1 & 1 & 1 & 1 & 1 & 1 & 1 & 1 & ... & 1 & 1 & 1 & 1 & 1 & 0 & 1 & 1 & 1 & 1\\\\\n",
       "\t235 & 1 & 1 & 1 & 1 & 1 & 1 & 1 & 1 & 1 & 1 & ... & 1 & 1 & 1 & 1 & 1 & 0 & 1 & 1 & 0 & 2\\\\\n",
       "\t223 & 1 & 1 & 1 & 1 & 1 & 1 & 1 & 1 & 1 & 1 & ... & 1 & 1 & 1 & 1 & 1 & 0 & 1 & 0 & 1 & 2\\\\\n",
       "\t100 & 1 & 1 & 1 & 1 & 1 & 1 & 1 & 1 & 1 & 1 & ... & 1 & 1 & 1 & 1 & 1 & 0 & 1 & 0 & 0 & 3\\\\\n",
       "\t215 & 1 & 1 & 1 & 1 & 1 & 1 & 1 & 1 & 1 & 1 & ... & 1 & 1 & 1 & 1 & 1 & 0 & 0 & 1 & 1 & 2\\\\\n",
       "\t79 & 1 & 1 & 1 & 1 & 1 & 1 & 1 & 1 & 1 & 1 & ... & 1 & 1 & 1 & 1 & 1 & 0 & 0 & 1 & 0 & 3\\\\\n",
       "\t95 & 1 & 1 & 1 & 1 & 1 & 1 & 1 & 1 & 1 & 1 & ... & 1 & 1 & 1 & 1 & 1 & 0 & 0 & 0 & 1 & 3\\\\\n",
       "\t23 & 1 & 1 & 1 & 1 & 1 & 1 & 1 & 1 & 1 & 1 & ... & 1 & 1 & 1 & 1 & 1 & 0 & 0 & 0 & 0 & 4\\\\\n",
       "\t256 & 1 & 1 & 1 & 1 & 1 & 1 & 1 & 1 & 1 & 1 & ... & 1 & 1 & 1 & 1 & 0 & 1 & 1 & 1 & 1 & 1\\\\\n",
       "\t89 & 1 & 1 & 1 & 1 & 1 & 1 & 1 & 1 & 1 & 1 & ... & 1 & 1 & 1 & 1 & 0 & 1 & 1 & 1 & 0 & 2\\\\\n",
       "\t95 & 1 & 1 & 1 & 1 & 1 & 1 & 1 & 1 & 1 & 1 & ... & 1 & 1 & 1 & 1 & 0 & 1 & 1 & 0 & 1 & 2\\\\\n",
       "\t23 & 1 & 1 & 1 & 1 & 1 & 1 & 1 & 1 & 1 & 1 & ... & 1 & 1 & 1 & 1 & 0 & 1 & 1 & 0 & 0 & 3\\\\\n",
       "\t94 & 1 & 1 & 1 & 1 & 1 & 1 & 1 & 1 & 1 & 1 & ... & 1 & 1 & 1 & 1 & 0 & 1 & 0 & 1 & 1 & 2\\\\\n",
       "\t28 & 1 & 1 & 1 & 1 & 1 & 1 & 1 & 1 & 1 & 1 & ... & 1 & 1 & 1 & 1 & 0 & 1 & 0 & 1 & 0 & 3\\\\\n",
       "\t29 & 1 & 1 & 1 & 1 & 1 & 1 & 1 & 1 & 1 & 1 & ... & 1 & 1 & 1 & 1 & 0 & 1 & 0 & 0 & 1 & 3\\\\\n",
       "\t17 & 1 & 1 & 1 & 1 & 1 & 1 & 1 & 1 & 1 & 1 & ... & 1 & 1 & 1 & 1 & 0 & 1 & 0 & 0 & 0 & 4\\\\\n",
       "\t89 & 1 & 1 & 1 & 1 & 1 & 1 & 1 & 1 & 1 & 1 & ... & 1 & 1 & 1 & 1 & 0 & 0 & 1 & 1 & 1 & 2\\\\\n",
       "\t27 & 1 & 1 & 1 & 1 & 1 & 1 & 1 & 1 & 1 & 1 & ... & 1 & 1 & 1 & 1 & 0 & 0 & 1 & 1 & 0 & 3\\\\\n",
       "\t33 & 1 & 1 & 1 & 1 & 1 & 1 & 1 & 1 & 1 & 1 & ... & 1 & 1 & 1 & 1 & 0 & 0 & 1 & 0 & 1 & 3\\\\\n",
       "\t4 & 1 & 1 & 1 & 1 & 1 & 1 & 1 & 1 & 1 & 1 & ... & 1 & 1 & 1 & 1 & 0 & 0 & 1 & 0 & 0 & 4\\\\\n",
       "\t33 & 1 & 1 & 1 & 1 & 1 & 1 & 1 & 1 & 1 & 1 & ... & 1 & 1 & 1 & 1 & 0 & 0 & 0 & 1 & 1 & 3\\\\\n",
       "\t14 & 1 & 1 & 1 & 1 & 1 & 1 & 1 & 1 & 1 & 1 & ... & 1 & 1 & 1 & 1 & 0 & 0 & 0 & 1 & 0 & 4\\\\\n",
       "\t... & ... & ... & ... & ... & ... & ... & ... & ... & ... & ... &  & ... & ... & ... & ... & ... & ... & ... & ... & ... & ...\\\\\n",
       "\t3 & 1 & 1 & 1 & 1 & 1 & 1 & 1 & 1 & 1 & 1 & ... & 1 & 1 &   0 &   1 &    0 &    1 &    0 &    0 &    1 &     4\\\\\n",
       "\t2 & 1 & 1 & 1 & 1 & 1 & 1 & 1 & 1 & 1 & 1 & ... & 1 & 1 &   0 &   1 &    0 &    1 &    0 &    0 &    0 &     5\\\\\n",
       "\t10 & 1 & 1 & 1 & 1 & 1 & 1 & 1 & 1 & 1 & 1 & ... & 1 & 1 &   0 &   1 &    0 &    0 &    1 &    1 &    1 &     3\\\\\n",
       "\t2 & 1 & 1 & 1 & 1 & 1 & 1 & 1 & 1 & 1 & 1 & ... & 1 & 1 &   0 &   1 &    0 &    0 &    1 &    1 &    0 &     4\\\\\n",
       "\t4 & 1 & 1 & 1 & 1 & 1 & 1 & 1 & 1 & 1 & 1 & ... & 1 & 1 &   0 &   1 &    0 &    0 &    1 &    0 &    1 &     4\\\\\n",
       "\t1 & 1 & 1 & 1 & 1 & 1 & 1 & 1 & 1 & 1 & 1 & ... & 1 & 1 &   0 &   1 &    0 &    0 &    1 &    0 &    0 &     5\\\\\n",
       "\t2 & 1 & 1 & 1 & 1 & 1 & 1 & 1 & 1 & 1 & 1 & ... & 1 & 1 &   0 &   1 &    0 &    0 &    0 &    1 &    1 &     4\\\\\n",
       "\t1 & 1 & 1 & 1 & 1 & 1 & 1 & 1 & 1 & 1 & 1 & ... & 1 & 1 &   0 &   1 &    0 &    0 &    0 &    0 &    1 &     5\\\\\n",
       "\t29 & 1 & 1 & 1 & 1 & 1 & 1 & 1 & 1 & 1 & 1 & ... & 1 & 1 &   0 &   0 &    1 &    1 &    1 &    1 &    1 &     2\\\\\n",
       "\t5 & 1 & 1 & 1 & 1 & 1 & 1 & 1 & 1 & 1 & 1 & ... & 1 & 1 &   0 &   0 &    1 &    1 &    1 &    1 &    0 &     3\\\\\n",
       "\t6 & 1 & 1 & 1 & 1 & 1 & 1 & 1 & 1 & 1 & 1 & ... & 1 & 1 &   0 &   0 &    1 &    1 &    1 &    0 &    1 &     3\\\\\n",
       "\t5 & 1 & 1 & 1 & 1 & 1 & 1 & 1 & 1 & 1 & 1 & ... & 1 & 1 &   0 &   0 &    1 &    1 &    1 &    0 &    0 &     4\\\\\n",
       "\t10 & 1 & 1 & 1 & 1 & 1 & 1 & 1 & 1 & 1 & 1 & ... & 1 & 1 &   0 &   0 &    1 &    1 &    0 &    1 &    1 &     3\\\\\n",
       "\t3 & 1 & 1 & 1 & 1 & 1 & 1 & 1 & 1 & 1 & 1 & ... & 1 & 1 &   0 &   0 &    1 &    1 &    0 &    0 &    1 &     4\\\\\n",
       "\t1 & 1 & 1 & 1 & 1 & 1 & 1 & 1 & 1 & 1 & 1 & ... & 1 & 1 &   0 &   0 &    1 &    1 &    0 &    0 &    0 &     5\\\\\n",
       "\t6 & 1 & 1 & 1 & 1 & 1 & 1 & 1 & 1 & 1 & 1 & ... & 1 & 1 &   0 &   0 &    1 &    0 &    1 &    1 &    1 &     3\\\\\n",
       "\t3 & 1 & 1 & 1 & 1 & 1 & 1 & 1 & 1 & 1 & 1 & ... & 1 & 1 &   0 &   0 &    1 &    0 &    1 &    1 &    0 &     4\\\\\n",
       "\t4 & 1 & 1 & 1 & 1 & 1 & 1 & 1 & 1 & 1 & 1 & ... & 1 & 1 &   0 &   0 &    1 &    0 &    1 &    0 &    1 &     4\\\\\n",
       "\t4 & 1 & 1 & 1 & 1 & 1 & 1 & 1 & 1 & 1 & 1 & ... & 1 & 1 &   0 &   0 &    1 &    0 &    0 &    1 &    1 &     4\\\\\n",
       "\t1 & 1 & 1 & 1 & 1 & 1 & 1 & 1 & 1 & 1 & 1 & ... & 1 & 1 &   0 &   0 &    1 &    0 &    0 &    1 &    0 &     5\\\\\n",
       "\t1 & 1 & 1 & 1 & 1 & 1 & 1 & 1 & 1 & 1 & 1 & ... & 1 & 1 &   0 &   0 &    1 &    0 &    0 &    0 &    1 &     5\\\\\n",
       "\t1 & 1 & 1 & 1 & 1 & 1 & 1 & 1 & 1 & 1 & 1 & ... & 1 & 1 &   0 &   0 &    1 &    0 &    0 &    0 &    0 &     6\\\\\n",
       "\t4 & 1 & 1 & 1 & 1 & 1 & 1 & 1 & 1 & 1 & 1 & ... & 1 & 1 &   0 &   0 &    0 &    1 &    1 &    1 &    1 &     3\\\\\n",
       "\t1 & 1 & 1 & 1 & 1 & 1 & 1 & 1 & 1 & 1 & 1 & ... & 1 & 1 &   0 &   0 &    0 &    1 &    1 &    1 &    0 &     4\\\\\n",
       "\t1 & 1 & 1 & 1 & 1 & 1 & 1 & 1 & 1 & 1 & 1 & ... & 1 & 1 &   0 &   0 &    0 &    1 &    1 &    0 &    1 &     4\\\\\n",
       "\t2 & 1 & 1 & 1 & 1 & 1 & 1 & 1 & 1 & 1 & 1 & ... & 1 & 1 &   0 &   0 &    0 &    1 &    0 &    1 &    1 &     4\\\\\n",
       "\t2 & 1 & 1 & 1 & 1 & 1 & 1 & 1 & 1 & 1 & 1 & ... & 1 & 1 &   0 &   0 &    0 &    0 &    1 &    1 &    1 &     4\\\\\n",
       "\t1 & 1 & 1 & 1 & 1 & 1 & 1 & 1 & 1 & 1 & 1 & ... & 1 & 1 &   0 &   0 &    0 &    0 &    1 &    1 &    0 &     5\\\\\n",
       "\t2 & 1 & 1 & 1 & 1 & 1 & 1 & 1 & 1 & 1 & 1 & ... & 1 & 1 &   0 &   0 &    0 &    0 &    1 &    0 &    1 &     5\\\\\n",
       "\t & 0 & 0 & 0 & 0 & 0 & 0 & 0 & 0 & 0 & 0 & ... & 0 & 0 & 982 & 984 & 1056 & 2414 & 2464 & 2467 & 2588 & 12955\\\\\n",
       "\\end{tabular}\n"
      ],
      "text/markdown": [
       "\n",
       "A matrix: 112 × 54 of type dbl\n",
       "\n",
       "| <!--/--> | ...1 | CaseOrder | Customer_id | Interaction | UID | City | State | County | Zip | Lat | ... | Item7 | Item8 | Overweight | Anxiety | Initial_days | Age | Income | Soft_drink | Children | <!----> |\n",
       "|---|---|---|---|---|---|---|---|---|---|---|---|---|---|---|---|---|---|---|---|---|---|\n",
       "| 2313 | 1 | 1 | 1 | 1 | 1 | 1 | 1 | 1 | 1 | 1 | ... | 1 | 1 | 1 | 1 | 1 | 1 | 1 | 1 | 1 | 0 |\n",
       "| 868 | 1 | 1 | 1 | 1 | 1 | 1 | 1 | 1 | 1 | 1 | ... | 1 | 1 | 1 | 1 | 1 | 1 | 1 | 1 | 0 | 1 |\n",
       "| 745 | 1 | 1 | 1 | 1 | 1 | 1 | 1 | 1 | 1 | 1 | ... | 1 | 1 | 1 | 1 | 1 | 1 | 1 | 0 | 1 | 1 |\n",
       "| 248 | 1 | 1 | 1 | 1 | 1 | 1 | 1 | 1 | 1 | 1 | ... | 1 | 1 | 1 | 1 | 1 | 1 | 1 | 0 | 0 | 2 |\n",
       "| 759 | 1 | 1 | 1 | 1 | 1 | 1 | 1 | 1 | 1 | 1 | ... | 1 | 1 | 1 | 1 | 1 | 1 | 0 | 1 | 1 | 1 |\n",
       "| 277 | 1 | 1 | 1 | 1 | 1 | 1 | 1 | 1 | 1 | 1 | ... | 1 | 1 | 1 | 1 | 1 | 1 | 0 | 1 | 0 | 2 |\n",
       "| 246 | 1 | 1 | 1 | 1 | 1 | 1 | 1 | 1 | 1 | 1 | ... | 1 | 1 | 1 | 1 | 1 | 1 | 0 | 0 | 1 | 2 |\n",
       "| 84 | 1 | 1 | 1 | 1 | 1 | 1 | 1 | 1 | 1 | 1 | ... | 1 | 1 | 1 | 1 | 1 | 1 | 0 | 0 | 0 | 3 |\n",
       "| 768 | 1 | 1 | 1 | 1 | 1 | 1 | 1 | 1 | 1 | 1 | ... | 1 | 1 | 1 | 1 | 1 | 0 | 1 | 1 | 1 | 1 |\n",
       "| 235 | 1 | 1 | 1 | 1 | 1 | 1 | 1 | 1 | 1 | 1 | ... | 1 | 1 | 1 | 1 | 1 | 0 | 1 | 1 | 0 | 2 |\n",
       "| 223 | 1 | 1 | 1 | 1 | 1 | 1 | 1 | 1 | 1 | 1 | ... | 1 | 1 | 1 | 1 | 1 | 0 | 1 | 0 | 1 | 2 |\n",
       "| 100 | 1 | 1 | 1 | 1 | 1 | 1 | 1 | 1 | 1 | 1 | ... | 1 | 1 | 1 | 1 | 1 | 0 | 1 | 0 | 0 | 3 |\n",
       "| 215 | 1 | 1 | 1 | 1 | 1 | 1 | 1 | 1 | 1 | 1 | ... | 1 | 1 | 1 | 1 | 1 | 0 | 0 | 1 | 1 | 2 |\n",
       "| 79 | 1 | 1 | 1 | 1 | 1 | 1 | 1 | 1 | 1 | 1 | ... | 1 | 1 | 1 | 1 | 1 | 0 | 0 | 1 | 0 | 3 |\n",
       "| 95 | 1 | 1 | 1 | 1 | 1 | 1 | 1 | 1 | 1 | 1 | ... | 1 | 1 | 1 | 1 | 1 | 0 | 0 | 0 | 1 | 3 |\n",
       "| 23 | 1 | 1 | 1 | 1 | 1 | 1 | 1 | 1 | 1 | 1 | ... | 1 | 1 | 1 | 1 | 1 | 0 | 0 | 0 | 0 | 4 |\n",
       "| 256 | 1 | 1 | 1 | 1 | 1 | 1 | 1 | 1 | 1 | 1 | ... | 1 | 1 | 1 | 1 | 0 | 1 | 1 | 1 | 1 | 1 |\n",
       "| 89 | 1 | 1 | 1 | 1 | 1 | 1 | 1 | 1 | 1 | 1 | ... | 1 | 1 | 1 | 1 | 0 | 1 | 1 | 1 | 0 | 2 |\n",
       "| 95 | 1 | 1 | 1 | 1 | 1 | 1 | 1 | 1 | 1 | 1 | ... | 1 | 1 | 1 | 1 | 0 | 1 | 1 | 0 | 1 | 2 |\n",
       "| 23 | 1 | 1 | 1 | 1 | 1 | 1 | 1 | 1 | 1 | 1 | ... | 1 | 1 | 1 | 1 | 0 | 1 | 1 | 0 | 0 | 3 |\n",
       "| 94 | 1 | 1 | 1 | 1 | 1 | 1 | 1 | 1 | 1 | 1 | ... | 1 | 1 | 1 | 1 | 0 | 1 | 0 | 1 | 1 | 2 |\n",
       "| 28 | 1 | 1 | 1 | 1 | 1 | 1 | 1 | 1 | 1 | 1 | ... | 1 | 1 | 1 | 1 | 0 | 1 | 0 | 1 | 0 | 3 |\n",
       "| 29 | 1 | 1 | 1 | 1 | 1 | 1 | 1 | 1 | 1 | 1 | ... | 1 | 1 | 1 | 1 | 0 | 1 | 0 | 0 | 1 | 3 |\n",
       "| 17 | 1 | 1 | 1 | 1 | 1 | 1 | 1 | 1 | 1 | 1 | ... | 1 | 1 | 1 | 1 | 0 | 1 | 0 | 0 | 0 | 4 |\n",
       "| 89 | 1 | 1 | 1 | 1 | 1 | 1 | 1 | 1 | 1 | 1 | ... | 1 | 1 | 1 | 1 | 0 | 0 | 1 | 1 | 1 | 2 |\n",
       "| 27 | 1 | 1 | 1 | 1 | 1 | 1 | 1 | 1 | 1 | 1 | ... | 1 | 1 | 1 | 1 | 0 | 0 | 1 | 1 | 0 | 3 |\n",
       "| 33 | 1 | 1 | 1 | 1 | 1 | 1 | 1 | 1 | 1 | 1 | ... | 1 | 1 | 1 | 1 | 0 | 0 | 1 | 0 | 1 | 3 |\n",
       "| 4 | 1 | 1 | 1 | 1 | 1 | 1 | 1 | 1 | 1 | 1 | ... | 1 | 1 | 1 | 1 | 0 | 0 | 1 | 0 | 0 | 4 |\n",
       "| 33 | 1 | 1 | 1 | 1 | 1 | 1 | 1 | 1 | 1 | 1 | ... | 1 | 1 | 1 | 1 | 0 | 0 | 0 | 1 | 1 | 3 |\n",
       "| 14 | 1 | 1 | 1 | 1 | 1 | 1 | 1 | 1 | 1 | 1 | ... | 1 | 1 | 1 | 1 | 0 | 0 | 0 | 1 | 0 | 4 |\n",
       "| ... | ... | ... | ... | ... | ... | ... | ... | ... | ... | ... | <!----> | ... | ... | ... | ... | ... | ... | ... | ... | ... | ... |\n",
       "| 3 | 1 | 1 | 1 | 1 | 1 | 1 | 1 | 1 | 1 | 1 | ... | 1 | 1 |   0 |   1 |    0 |    1 |    0 |    0 |    1 |     4 |\n",
       "| 2 | 1 | 1 | 1 | 1 | 1 | 1 | 1 | 1 | 1 | 1 | ... | 1 | 1 |   0 |   1 |    0 |    1 |    0 |    0 |    0 |     5 |\n",
       "| 10 | 1 | 1 | 1 | 1 | 1 | 1 | 1 | 1 | 1 | 1 | ... | 1 | 1 |   0 |   1 |    0 |    0 |    1 |    1 |    1 |     3 |\n",
       "| 2 | 1 | 1 | 1 | 1 | 1 | 1 | 1 | 1 | 1 | 1 | ... | 1 | 1 |   0 |   1 |    0 |    0 |    1 |    1 |    0 |     4 |\n",
       "| 4 | 1 | 1 | 1 | 1 | 1 | 1 | 1 | 1 | 1 | 1 | ... | 1 | 1 |   0 |   1 |    0 |    0 |    1 |    0 |    1 |     4 |\n",
       "| 1 | 1 | 1 | 1 | 1 | 1 | 1 | 1 | 1 | 1 | 1 | ... | 1 | 1 |   0 |   1 |    0 |    0 |    1 |    0 |    0 |     5 |\n",
       "| 2 | 1 | 1 | 1 | 1 | 1 | 1 | 1 | 1 | 1 | 1 | ... | 1 | 1 |   0 |   1 |    0 |    0 |    0 |    1 |    1 |     4 |\n",
       "| 1 | 1 | 1 | 1 | 1 | 1 | 1 | 1 | 1 | 1 | 1 | ... | 1 | 1 |   0 |   1 |    0 |    0 |    0 |    0 |    1 |     5 |\n",
       "| 29 | 1 | 1 | 1 | 1 | 1 | 1 | 1 | 1 | 1 | 1 | ... | 1 | 1 |   0 |   0 |    1 |    1 |    1 |    1 |    1 |     2 |\n",
       "| 5 | 1 | 1 | 1 | 1 | 1 | 1 | 1 | 1 | 1 | 1 | ... | 1 | 1 |   0 |   0 |    1 |    1 |    1 |    1 |    0 |     3 |\n",
       "| 6 | 1 | 1 | 1 | 1 | 1 | 1 | 1 | 1 | 1 | 1 | ... | 1 | 1 |   0 |   0 |    1 |    1 |    1 |    0 |    1 |     3 |\n",
       "| 5 | 1 | 1 | 1 | 1 | 1 | 1 | 1 | 1 | 1 | 1 | ... | 1 | 1 |   0 |   0 |    1 |    1 |    1 |    0 |    0 |     4 |\n",
       "| 10 | 1 | 1 | 1 | 1 | 1 | 1 | 1 | 1 | 1 | 1 | ... | 1 | 1 |   0 |   0 |    1 |    1 |    0 |    1 |    1 |     3 |\n",
       "| 3 | 1 | 1 | 1 | 1 | 1 | 1 | 1 | 1 | 1 | 1 | ... | 1 | 1 |   0 |   0 |    1 |    1 |    0 |    0 |    1 |     4 |\n",
       "| 1 | 1 | 1 | 1 | 1 | 1 | 1 | 1 | 1 | 1 | 1 | ... | 1 | 1 |   0 |   0 |    1 |    1 |    0 |    0 |    0 |     5 |\n",
       "| 6 | 1 | 1 | 1 | 1 | 1 | 1 | 1 | 1 | 1 | 1 | ... | 1 | 1 |   0 |   0 |    1 |    0 |    1 |    1 |    1 |     3 |\n",
       "| 3 | 1 | 1 | 1 | 1 | 1 | 1 | 1 | 1 | 1 | 1 | ... | 1 | 1 |   0 |   0 |    1 |    0 |    1 |    1 |    0 |     4 |\n",
       "| 4 | 1 | 1 | 1 | 1 | 1 | 1 | 1 | 1 | 1 | 1 | ... | 1 | 1 |   0 |   0 |    1 |    0 |    1 |    0 |    1 |     4 |\n",
       "| 4 | 1 | 1 | 1 | 1 | 1 | 1 | 1 | 1 | 1 | 1 | ... | 1 | 1 |   0 |   0 |    1 |    0 |    0 |    1 |    1 |     4 |\n",
       "| 1 | 1 | 1 | 1 | 1 | 1 | 1 | 1 | 1 | 1 | 1 | ... | 1 | 1 |   0 |   0 |    1 |    0 |    0 |    1 |    0 |     5 |\n",
       "| 1 | 1 | 1 | 1 | 1 | 1 | 1 | 1 | 1 | 1 | 1 | ... | 1 | 1 |   0 |   0 |    1 |    0 |    0 |    0 |    1 |     5 |\n",
       "| 1 | 1 | 1 | 1 | 1 | 1 | 1 | 1 | 1 | 1 | 1 | ... | 1 | 1 |   0 |   0 |    1 |    0 |    0 |    0 |    0 |     6 |\n",
       "| 4 | 1 | 1 | 1 | 1 | 1 | 1 | 1 | 1 | 1 | 1 | ... | 1 | 1 |   0 |   0 |    0 |    1 |    1 |    1 |    1 |     3 |\n",
       "| 1 | 1 | 1 | 1 | 1 | 1 | 1 | 1 | 1 | 1 | 1 | ... | 1 | 1 |   0 |   0 |    0 |    1 |    1 |    1 |    0 |     4 |\n",
       "| 1 | 1 | 1 | 1 | 1 | 1 | 1 | 1 | 1 | 1 | 1 | ... | 1 | 1 |   0 |   0 |    0 |    1 |    1 |    0 |    1 |     4 |\n",
       "| 2 | 1 | 1 | 1 | 1 | 1 | 1 | 1 | 1 | 1 | 1 | ... | 1 | 1 |   0 |   0 |    0 |    1 |    0 |    1 |    1 |     4 |\n",
       "| 2 | 1 | 1 | 1 | 1 | 1 | 1 | 1 | 1 | 1 | 1 | ... | 1 | 1 |   0 |   0 |    0 |    0 |    1 |    1 |    1 |     4 |\n",
       "| 1 | 1 | 1 | 1 | 1 | 1 | 1 | 1 | 1 | 1 | 1 | ... | 1 | 1 |   0 |   0 |    0 |    0 |    1 |    1 |    0 |     5 |\n",
       "| 2 | 1 | 1 | 1 | 1 | 1 | 1 | 1 | 1 | 1 | 1 | ... | 1 | 1 |   0 |   0 |    0 |    0 |    1 |    0 |    1 |     5 |\n",
       "| <!----> | 0 | 0 | 0 | 0 | 0 | 0 | 0 | 0 | 0 | 0 | ... | 0 | 0 | 982 | 984 | 1056 | 2414 | 2464 | 2467 | 2588 | 12955 |\n",
       "\n"
      ],
      "text/plain": [
       "     ...1 CaseOrder Customer_id Interaction UID City State County Zip Lat ...\n",
       "2313 1    1         1           1           1   1    1     1      1   1   ...\n",
       "868  1    1         1           1           1   1    1     1      1   1   ...\n",
       "745  1    1         1           1           1   1    1     1      1   1   ...\n",
       "248  1    1         1           1           1   1    1     1      1   1   ...\n",
       "759  1    1         1           1           1   1    1     1      1   1   ...\n",
       "277  1    1         1           1           1   1    1     1      1   1   ...\n",
       "246  1    1         1           1           1   1    1     1      1   1   ...\n",
       "84   1    1         1           1           1   1    1     1      1   1   ...\n",
       "768  1    1         1           1           1   1    1     1      1   1   ...\n",
       "235  1    1         1           1           1   1    1     1      1   1   ...\n",
       "223  1    1         1           1           1   1    1     1      1   1   ...\n",
       "100  1    1         1           1           1   1    1     1      1   1   ...\n",
       "215  1    1         1           1           1   1    1     1      1   1   ...\n",
       "79   1    1         1           1           1   1    1     1      1   1   ...\n",
       "95   1    1         1           1           1   1    1     1      1   1   ...\n",
       "23   1    1         1           1           1   1    1     1      1   1   ...\n",
       "256  1    1         1           1           1   1    1     1      1   1   ...\n",
       "89   1    1         1           1           1   1    1     1      1   1   ...\n",
       "95   1    1         1           1           1   1    1     1      1   1   ...\n",
       "23   1    1         1           1           1   1    1     1      1   1   ...\n",
       "94   1    1         1           1           1   1    1     1      1   1   ...\n",
       "28   1    1         1           1           1   1    1     1      1   1   ...\n",
       "29   1    1         1           1           1   1    1     1      1   1   ...\n",
       "17   1    1         1           1           1   1    1     1      1   1   ...\n",
       "89   1    1         1           1           1   1    1     1      1   1   ...\n",
       "27   1    1         1           1           1   1    1     1      1   1   ...\n",
       "33   1    1         1           1           1   1    1     1      1   1   ...\n",
       "4    1    1         1           1           1   1    1     1      1   1   ...\n",
       "33   1    1         1           1           1   1    1     1      1   1   ...\n",
       "14   1    1         1           1           1   1    1     1      1   1   ...\n",
       "...  ...  ...       ...         ...         ... ...  ...   ...    ... ...    \n",
       "3    1    1         1           1           1   1    1     1      1   1   ...\n",
       "2    1    1         1           1           1   1    1     1      1   1   ...\n",
       "10   1    1         1           1           1   1    1     1      1   1   ...\n",
       "2    1    1         1           1           1   1    1     1      1   1   ...\n",
       "4    1    1         1           1           1   1    1     1      1   1   ...\n",
       "1    1    1         1           1           1   1    1     1      1   1   ...\n",
       "2    1    1         1           1           1   1    1     1      1   1   ...\n",
       "1    1    1         1           1           1   1    1     1      1   1   ...\n",
       "29   1    1         1           1           1   1    1     1      1   1   ...\n",
       "5    1    1         1           1           1   1    1     1      1   1   ...\n",
       "6    1    1         1           1           1   1    1     1      1   1   ...\n",
       "5    1    1         1           1           1   1    1     1      1   1   ...\n",
       "10   1    1         1           1           1   1    1     1      1   1   ...\n",
       "3    1    1         1           1           1   1    1     1      1   1   ...\n",
       "1    1    1         1           1           1   1    1     1      1   1   ...\n",
       "6    1    1         1           1           1   1    1     1      1   1   ...\n",
       "3    1    1         1           1           1   1    1     1      1   1   ...\n",
       "4    1    1         1           1           1   1    1     1      1   1   ...\n",
       "4    1    1         1           1           1   1    1     1      1   1   ...\n",
       "1    1    1         1           1           1   1    1     1      1   1   ...\n",
       "1    1    1         1           1           1   1    1     1      1   1   ...\n",
       "1    1    1         1           1           1   1    1     1      1   1   ...\n",
       "4    1    1         1           1           1   1    1     1      1   1   ...\n",
       "1    1    1         1           1           1   1    1     1      1   1   ...\n",
       "1    1    1         1           1           1   1    1     1      1   1   ...\n",
       "2    1    1         1           1           1   1    1     1      1   1   ...\n",
       "2    1    1         1           1           1   1    1     1      1   1   ...\n",
       "1    1    1         1           1           1   1    1     1      1   1   ...\n",
       "2    1    1         1           1           1   1    1     1      1   1   ...\n",
       "     0    0         0           0           0   0    0     0      0   0   ...\n",
       "     Item7 Item8 Overweight Anxiety Initial_days Age  Income Soft_drink\n",
       "2313 1     1     1          1       1            1    1      1         \n",
       "868  1     1     1          1       1            1    1      1         \n",
       "745  1     1     1          1       1            1    1      0         \n",
       "248  1     1     1          1       1            1    1      0         \n",
       "759  1     1     1          1       1            1    0      1         \n",
       "277  1     1     1          1       1            1    0      1         \n",
       "246  1     1     1          1       1            1    0      0         \n",
       "84   1     1     1          1       1            1    0      0         \n",
       "768  1     1     1          1       1            0    1      1         \n",
       "235  1     1     1          1       1            0    1      1         \n",
       "223  1     1     1          1       1            0    1      0         \n",
       "100  1     1     1          1       1            0    1      0         \n",
       "215  1     1     1          1       1            0    0      1         \n",
       "79   1     1     1          1       1            0    0      1         \n",
       "95   1     1     1          1       1            0    0      0         \n",
       "23   1     1     1          1       1            0    0      0         \n",
       "256  1     1     1          1       0            1    1      1         \n",
       "89   1     1     1          1       0            1    1      1         \n",
       "95   1     1     1          1       0            1    1      0         \n",
       "23   1     1     1          1       0            1    1      0         \n",
       "94   1     1     1          1       0            1    0      1         \n",
       "28   1     1     1          1       0            1    0      1         \n",
       "29   1     1     1          1       0            1    0      0         \n",
       "17   1     1     1          1       0            1    0      0         \n",
       "89   1     1     1          1       0            0    1      1         \n",
       "27   1     1     1          1       0            0    1      1         \n",
       "33   1     1     1          1       0            0    1      0         \n",
       "4    1     1     1          1       0            0    1      0         \n",
       "33   1     1     1          1       0            0    0      1         \n",
       "14   1     1     1          1       0            0    0      1         \n",
       "...  ...   ...   ...        ...     ...          ...  ...    ...       \n",
       "3    1     1       0          1        0            1    0      0      \n",
       "2    1     1       0          1        0            1    0      0      \n",
       "10   1     1       0          1        0            0    1      1      \n",
       "2    1     1       0          1        0            0    1      1      \n",
       "4    1     1       0          1        0            0    1      0      \n",
       "1    1     1       0          1        0            0    1      0      \n",
       "2    1     1       0          1        0            0    0      1      \n",
       "1    1     1       0          1        0            0    0      0      \n",
       "29   1     1       0          0        1            1    1      1      \n",
       "5    1     1       0          0        1            1    1      1      \n",
       "6    1     1       0          0        1            1    1      0      \n",
       "5    1     1       0          0        1            1    1      0      \n",
       "10   1     1       0          0        1            1    0      1      \n",
       "3    1     1       0          0        1            1    0      0      \n",
       "1    1     1       0          0        1            1    0      0      \n",
       "6    1     1       0          0        1            0    1      1      \n",
       "3    1     1       0          0        1            0    1      1      \n",
       "4    1     1       0          0        1            0    1      0      \n",
       "4    1     1       0          0        1            0    0      1      \n",
       "1    1     1       0          0        1            0    0      1      \n",
       "1    1     1       0          0        1            0    0      0      \n",
       "1    1     1       0          0        1            0    0      0      \n",
       "4    1     1       0          0        0            1    1      1      \n",
       "1    1     1       0          0        0            1    1      1      \n",
       "1    1     1       0          0        0            1    1      0      \n",
       "2    1     1       0          0        0            1    0      1      \n",
       "2    1     1       0          0        0            0    1      1      \n",
       "1    1     1       0          0        0            0    1      1      \n",
       "2    1     1       0          0        0            0    1      0      \n",
       "     0     0     982        984     1056         2414 2464   2467      \n",
       "     Children      \n",
       "2313 1        0    \n",
       "868  0        1    \n",
       "745  1        1    \n",
       "248  0        2    \n",
       "759  1        1    \n",
       "277  0        2    \n",
       "246  1        2    \n",
       "84   0        3    \n",
       "768  1        1    \n",
       "235  0        2    \n",
       "223  1        2    \n",
       "100  0        3    \n",
       "215  1        2    \n",
       "79   0        3    \n",
       "95   1        3    \n",
       "23   0        4    \n",
       "256  1        1    \n",
       "89   0        2    \n",
       "95   1        2    \n",
       "23   0        3    \n",
       "94   1        2    \n",
       "28   0        3    \n",
       "29   1        3    \n",
       "17   0        4    \n",
       "89   1        2    \n",
       "27   0        3    \n",
       "33   1        3    \n",
       "4    0        4    \n",
       "33   1        3    \n",
       "14   0        4    \n",
       "...  ...      ...  \n",
       "3       1         4\n",
       "2       0         5\n",
       "10      1         3\n",
       "2       0         4\n",
       "4       1         4\n",
       "1       0         5\n",
       "2       1         4\n",
       "1       1         5\n",
       "29      1         2\n",
       "5       0         3\n",
       "6       1         3\n",
       "5       0         4\n",
       "10      1         3\n",
       "3       1         4\n",
       "1       0         5\n",
       "6       1         3\n",
       "3       0         4\n",
       "4       1         4\n",
       "4       1         4\n",
       "1       0         5\n",
       "1       1         5\n",
       "1       0         6\n",
       "4       1         3\n",
       "1       0         4\n",
       "1       1         4\n",
       "2       1         4\n",
       "2       1         4\n",
       "1       0         5\n",
       "2       1         5\n",
       "     2588     12955"
      ]
     },
     "metadata": {},
     "output_type": "display_data"
    },
    {
     "data": {
      "image/png": "[encoded data removed]",
      "text/plain": [
       "plot without title"
      ]
     },
     "metadata": {
      "image/png": {
       "height": 420,
       "width": 420
      }
     },
     "output_type": "display_data"
    }
   ],
   "source": [
    "md.pattern(medical)"
   ]
  },
  {
   "cell_type": "markdown",
   "id": "5c3e3f9b-3331-4495-a7fb-afc40ef05d0b",
   "metadata": {},
   "source": [
    "### After reviewing the output above, it seems that the distribution of where the missing data is located is mostly in the last columns of this dataset."
   ]
  },
  {
   "cell_type": "markdown",
   "id": "4ca0ce64-30a5-41fa-9194-5d12fb9cda46",
   "metadata": {},
   "source": [
    "### Let's use the colnames(medical) code to look at all of the columns to see the placement of the missing data."
   ]
  },
  {
   "cell_type": "code",
   "execution_count": 15,
   "id": "37587580-329d-4ece-86b6-43b06bf68b69",
   "metadata": {},
   "outputs": [
    {
     "data": {
      "text/html": [
       "<style>\n",
       ".list-inline {list-style: none; margin:0; padding: 0}\n",
       ".list-inline>li {display: inline-block}\n",
       ".list-inline>li:not(:last-child)::after {content: \"\\00b7\"; padding: 0 .5ex}\n",
       "</style>\n",
       "<ol class=list-inline><li>'...1'</li><li>'CaseOrder'</li><li>'Customer_id'</li><li>'Interaction'</li><li>'UID'</li><li>'City'</li><li>'State'</li><li>'County'</li><li>'Zip'</li><li>'Lat'</li><li>'Lng'</li><li>'Population'</li><li>'Area'</li><li>'Timezone'</li><li>'Job'</li><li>'Children'</li><li>'Age'</li><li>'Education'</li><li>'Employment'</li><li>'Income'</li><li>'Marital'</li><li>'Gender'</li><li>'ReAdmis'</li><li>'VitD_levels'</li><li>'Doc_visits'</li><li>'Full_meals_eaten'</li><li>'VitD_supp'</li><li>'Soft_drink'</li><li>'Initial_admin'</li><li>'HighBlood'</li><li>'Stroke'</li><li>'Complication_risk'</li><li>'Overweight'</li><li>'Arthritis'</li><li>'Diabetes'</li><li>'Hyperlipidemia'</li><li>'BackPain'</li><li>'Anxiety'</li><li>'Allergic_rhinitis'</li><li>'Reflux_esophagitis'</li><li>'Asthma'</li><li>'Services'</li><li>'Initial_days'</li><li>'TotalCharge'</li><li>'Additional_charges'</li><li>'Item1'</li><li>'Item2'</li><li>'Item3'</li><li>'Item4'</li><li>'Item5'</li><li>'Item6'</li><li>'Item7'</li><li>'Item8'</li></ol>\n"
      ],
      "text/latex": [
       "\\begin{enumerate*}\n",
       "\\item '...1'\n",
       "\\item 'CaseOrder'\n",
       "\\item 'Customer\\_id'\n",
       "\\item 'Interaction'\n",
       "\\item 'UID'\n",
       "\\item 'City'\n",
       "\\item 'State'\n",
       "\\item 'County'\n",
       "\\item 'Zip'\n",
       "\\item 'Lat'\n",
       "\\item 'Lng'\n",
       "\\item 'Population'\n",
       "\\item 'Area'\n",
       "\\item 'Timezone'\n",
       "\\item 'Job'\n",
       "\\item 'Children'\n",
       "\\item 'Age'\n",
       "\\item 'Education'\n",
       "\\item 'Employment'\n",
       "\\item 'Income'\n",
       "\\item 'Marital'\n",
       "\\item 'Gender'\n",
       "\\item 'ReAdmis'\n",
       "\\item 'VitD\\_levels'\n",
       "\\item 'Doc\\_visits'\n",
       "\\item 'Full\\_meals\\_eaten'\n",
       "\\item 'VitD\\_supp'\n",
       "\\item 'Soft\\_drink'\n",
       "\\item 'Initial\\_admin'\n",
       "\\item 'HighBlood'\n",
       "\\item 'Stroke'\n",
       "\\item 'Complication\\_risk'\n",
       "\\item 'Overweight'\n",
       "\\item 'Arthritis'\n",
       "\\item 'Diabetes'\n",
       "\\item 'Hyperlipidemia'\n",
       "\\item 'BackPain'\n",
       "\\item 'Anxiety'\n",
       "\\item 'Allergic\\_rhinitis'\n",
       "\\item 'Reflux\\_esophagitis'\n",
       "\\item 'Asthma'\n",
       "\\item 'Services'\n",
       "\\item 'Initial\\_days'\n",
       "\\item 'TotalCharge'\n",
       "\\item 'Additional\\_charges'\n",
       "\\item 'Item1'\n",
       "\\item 'Item2'\n",
       "\\item 'Item3'\n",
       "\\item 'Item4'\n",
       "\\item 'Item5'\n",
       "\\item 'Item6'\n",
       "\\item 'Item7'\n",
       "\\item 'Item8'\n",
       "\\end{enumerate*}\n"
      ],
      "text/markdown": [
       "1. '...1'\n",
       "2. 'CaseOrder'\n",
       "3. 'Customer_id'\n",
       "4. 'Interaction'\n",
       "5. 'UID'\n",
       "6. 'City'\n",
       "7. 'State'\n",
       "8. 'County'\n",
       "9. 'Zip'\n",
       "10. 'Lat'\n",
       "11. 'Lng'\n",
       "12. 'Population'\n",
       "13. 'Area'\n",
       "14. 'Timezone'\n",
       "15. 'Job'\n",
       "16. 'Children'\n",
       "17. 'Age'\n",
       "18. 'Education'\n",
       "19. 'Employment'\n",
       "20. 'Income'\n",
       "21. 'Marital'\n",
       "22. 'Gender'\n",
       "23. 'ReAdmis'\n",
       "24. 'VitD_levels'\n",
       "25. 'Doc_visits'\n",
       "26. 'Full_meals_eaten'\n",
       "27. 'VitD_supp'\n",
       "28. 'Soft_drink'\n",
       "29. 'Initial_admin'\n",
       "30. 'HighBlood'\n",
       "31. 'Stroke'\n",
       "32. 'Complication_risk'\n",
       "33. 'Overweight'\n",
       "34. 'Arthritis'\n",
       "35. 'Diabetes'\n",
       "36. 'Hyperlipidemia'\n",
       "37. 'BackPain'\n",
       "38. 'Anxiety'\n",
       "39. 'Allergic_rhinitis'\n",
       "40. 'Reflux_esophagitis'\n",
       "41. 'Asthma'\n",
       "42. 'Services'\n",
       "43. 'Initial_days'\n",
       "44. 'TotalCharge'\n",
       "45. 'Additional_charges'\n",
       "46. 'Item1'\n",
       "47. 'Item2'\n",
       "48. 'Item3'\n",
       "49. 'Item4'\n",
       "50. 'Item5'\n",
       "51. 'Item6'\n",
       "52. 'Item7'\n",
       "53. 'Item8'\n",
       "\n",
       "\n"
      ],
      "text/plain": [
       " [1] \"...1\"               \"CaseOrder\"          \"Customer_id\"       \n",
       " [4] \"Interaction\"        \"UID\"                \"City\"              \n",
       " [7] \"State\"              \"County\"             \"Zip\"               \n",
       "[10] \"Lat\"                \"Lng\"                \"Population\"        \n",
       "[13] \"Area\"               \"Timezone\"           \"Job\"               \n",
       "[16] \"Children\"           \"Age\"                \"Education\"         \n",
       "[19] \"Employment\"         \"Income\"             \"Marital\"           \n",
       "[22] \"Gender\"             \"ReAdmis\"            \"VitD_levels\"       \n",
       "[25] \"Doc_visits\"         \"Full_meals_eaten\"   \"VitD_supp\"         \n",
       "[28] \"Soft_drink\"         \"Initial_admin\"      \"HighBlood\"         \n",
       "[31] \"Stroke\"             \"Complication_risk\"  \"Overweight\"        \n",
       "[34] \"Arthritis\"          \"Diabetes\"           \"Hyperlipidemia\"    \n",
       "[37] \"BackPain\"           \"Anxiety\"            \"Allergic_rhinitis\" \n",
       "[40] \"Reflux_esophagitis\" \"Asthma\"             \"Services\"          \n",
       "[43] \"Initial_days\"       \"TotalCharge\"        \"Additional_charges\"\n",
       "[46] \"Item1\"              \"Item2\"              \"Item3\"             \n",
       "[49] \"Item4\"              \"Item5\"              \"Item6\"             \n",
       "[52] \"Item7\"              \"Item8\"             "
      ]
     },
     "metadata": {},
     "output_type": "display_data"
    }
   ],
   "source": [
    "colnames(medical)"
   ]
  },
  {
   "cell_type": "markdown",
   "id": "0ab86138-11eb-43b9-a7ce-f66d1532d0ff",
   "metadata": {},
   "source": [
    "### Now let's see the number of columns in the dataframe. "
   ]
  },
  {
   "cell_type": "code",
   "execution_count": 16,
   "id": "9f949106-8194-4d4e-98b0-f85acc12d116",
   "metadata": {},
   "outputs": [
    {
     "data": {
      "text/html": [
       "53"
      ],
      "text/latex": [
       "53"
      ],
      "text/markdown": [
       "53"
      ],
      "text/plain": [
       "[1] 53"
      ]
     },
     "metadata": {},
     "output_type": "display_data"
    }
   ],
   "source": [
    "ncol(medical)"
   ]
  },
  {
   "cell_type": "markdown",
   "id": "5a953a54-31ab-4835-a639-79d87c1c6a7f",
   "metadata": {},
   "source": [
    "### And the number of rows in the dataframe using the code nrow(medical)."
   ]
  },
  {
   "cell_type": "code",
   "execution_count": 17,
   "id": "39cacd66-f22e-4bb4-bdbd-031d543143f1",
   "metadata": {},
   "outputs": [
    {
     "data": {
      "text/html": [
       "10000"
      ],
      "text/latex": [
       "10000"
      ],
      "text/markdown": [
       "10000"
      ],
      "text/plain": [
       "[1] 10000"
      ]
     },
     "metadata": {},
     "output_type": "display_data"
    }
   ],
   "source": [
    "nrow(medical)"
   ]
  },
  {
   "cell_type": "markdown",
   "id": "dd589ac1-e725-4e74-ac71-0683f519c754",
   "metadata": {},
   "source": [
    "### Let's set these columns apart and rename them lastcolumns, then we'll check the number of columns again along with the data patterns. "
   ]
  },
  {
   "cell_type": "code",
   "execution_count": 18,
   "id": "78af9681-ac12-4ebe-ad11-d5c13325ce06",
   "metadata": {},
   "outputs": [],
   "source": [
    "lastcolumns <- medical[20:53]\n"
   ]
  },
  {
   "cell_type": "code",
   "execution_count": 19,
   "id": "c426c57f-f018-4b72-9412-d56fad7648e6",
   "metadata": {},
   "outputs": [
    {
     "data": {
      "text/html": [
       "34"
      ],
      "text/latex": [
       "34"
      ],
      "text/markdown": [
       "34"
      ],
      "text/plain": [
       "[1] 34"
      ]
     },
     "metadata": {},
     "output_type": "display_data"
    }
   ],
   "source": [
    "ncol(lastcolumns)"
   ]
  },
  {
   "cell_type": "code",
   "execution_count": 20,
   "id": "c5fc9070-5033-46dc-bd94-083b9aa60294",
   "metadata": {},
   "outputs": [
    {
     "data": {
      "text/html": [
       "<table class=\"dataframe\">\n",
       "<caption>A matrix: 32 × 35 of type dbl</caption>\n",
       "<thead>\n",
       "\t<tr><th></th><th scope=col>Marital</th><th scope=col>Gender</th><th scope=col>ReAdmis</th><th scope=col>VitD_levels</th><th scope=col>Doc_visits</th><th scope=col>Full_meals_eaten</th><th scope=col>VitD_supp</th><th scope=col>Initial_admin</th><th scope=col>HighBlood</th><th scope=col>Stroke</th><th scope=col>...</th><th scope=col>Item5</th><th scope=col>Item6</th><th scope=col>Item7</th><th scope=col>Item8</th><th scope=col>Overweight</th><th scope=col>Anxiety</th><th scope=col>Initial_days</th><th scope=col>Income</th><th scope=col>Soft_drink</th><th scope=col></th></tr>\n",
       "</thead>\n",
       "<tbody>\n",
       "\t<tr><th scope=row>4184</th><td>1</td><td>1</td><td>1</td><td>1</td><td>1</td><td>1</td><td>1</td><td>1</td><td>1</td><td>1</td><td>...</td><td>1</td><td>1</td><td>1</td><td>1</td><td>  1</td><td>  1</td><td>   1</td><td>   1</td><td>   1</td><td>   0</td></tr>\n",
       "\t<tr><th scope=row>1316</th><td>1</td><td>1</td><td>1</td><td>1</td><td>1</td><td>1</td><td>1</td><td>1</td><td>1</td><td>1</td><td>...</td><td>1</td><td>1</td><td>1</td><td>1</td><td>  1</td><td>  1</td><td>   1</td><td>   1</td><td>   0</td><td>   1</td></tr>\n",
       "\t<tr><th scope=row>1330</th><td>1</td><td>1</td><td>1</td><td>1</td><td>1</td><td>1</td><td>1</td><td>1</td><td>1</td><td>1</td><td>...</td><td>1</td><td>1</td><td>1</td><td>1</td><td>  1</td><td>  1</td><td>   1</td><td>   0</td><td>   1</td><td>   1</td></tr>\n",
       "\t<tr><th scope=row>448</th><td>1</td><td>1</td><td>1</td><td>1</td><td>1</td><td>1</td><td>1</td><td>1</td><td>1</td><td>1</td><td>...</td><td>1</td><td>1</td><td>1</td><td>1</td><td>  1</td><td>  1</td><td>   1</td><td>   0</td><td>   0</td><td>   2</td></tr>\n",
       "\t<tr><th scope=row>461</th><td>1</td><td>1</td><td>1</td><td>1</td><td>1</td><td>1</td><td>1</td><td>1</td><td>1</td><td>1</td><td>...</td><td>1</td><td>1</td><td>1</td><td>1</td><td>  1</td><td>  1</td><td>   0</td><td>   1</td><td>   1</td><td>   1</td></tr>\n",
       "\t<tr><th scope=row>155</th><td>1</td><td>1</td><td>1</td><td>1</td><td>1</td><td>1</td><td>1</td><td>1</td><td>1</td><td>1</td><td>...</td><td>1</td><td>1</td><td>1</td><td>1</td><td>  1</td><td>  1</td><td>   0</td><td>   1</td><td>   0</td><td>   2</td></tr>\n",
       "\t<tr><th scope=row>169</th><td>1</td><td>1</td><td>1</td><td>1</td><td>1</td><td>1</td><td>1</td><td>1</td><td>1</td><td>1</td><td>...</td><td>1</td><td>1</td><td>1</td><td>1</td><td>  1</td><td>  1</td><td>   0</td><td>   0</td><td>   1</td><td>   2</td></tr>\n",
       "\t<tr><th scope=row>63</th><td>1</td><td>1</td><td>1</td><td>1</td><td>1</td><td>1</td><td>1</td><td>1</td><td>1</td><td>1</td><td>...</td><td>1</td><td>1</td><td>1</td><td>1</td><td>  1</td><td>  1</td><td>   0</td><td>   0</td><td>   0</td><td>   3</td></tr>\n",
       "\t<tr><th scope=row>427</th><td>1</td><td>1</td><td>1</td><td>1</td><td>1</td><td>1</td><td>1</td><td>1</td><td>1</td><td>1</td><td>...</td><td>1</td><td>1</td><td>1</td><td>1</td><td>  1</td><td>  0</td><td>   1</td><td>   1</td><td>   1</td><td>   1</td></tr>\n",
       "\t<tr><th scope=row>172</th><td>1</td><td>1</td><td>1</td><td>1</td><td>1</td><td>1</td><td>1</td><td>1</td><td>1</td><td>1</td><td>...</td><td>1</td><td>1</td><td>1</td><td>1</td><td>  1</td><td>  0</td><td>   1</td><td>   1</td><td>   0</td><td>   2</td></tr>\n",
       "\t<tr><th scope=row>141</th><td>1</td><td>1</td><td>1</td><td>1</td><td>1</td><td>1</td><td>1</td><td>1</td><td>1</td><td>1</td><td>...</td><td>1</td><td>1</td><td>1</td><td>1</td><td>  1</td><td>  0</td><td>   1</td><td>   0</td><td>   1</td><td>   2</td></tr>\n",
       "\t<tr><th scope=row>44</th><td>1</td><td>1</td><td>1</td><td>1</td><td>1</td><td>1</td><td>1</td><td>1</td><td>1</td><td>1</td><td>...</td><td>1</td><td>1</td><td>1</td><td>1</td><td>  1</td><td>  0</td><td>   1</td><td>   0</td><td>   0</td><td>   3</td></tr>\n",
       "\t<tr><th scope=row>64</th><td>1</td><td>1</td><td>1</td><td>1</td><td>1</td><td>1</td><td>1</td><td>1</td><td>1</td><td>1</td><td>...</td><td>1</td><td>1</td><td>1</td><td>1</td><td>  1</td><td>  0</td><td>   0</td><td>   1</td><td>   1</td><td>   2</td></tr>\n",
       "\t<tr><th scope=row>20</th><td>1</td><td>1</td><td>1</td><td>1</td><td>1</td><td>1</td><td>1</td><td>1</td><td>1</td><td>1</td><td>...</td><td>1</td><td>1</td><td>1</td><td>1</td><td>  1</td><td>  0</td><td>   0</td><td>   1</td><td>   0</td><td>   3</td></tr>\n",
       "\t<tr><th scope=row>19</th><td>1</td><td>1</td><td>1</td><td>1</td><td>1</td><td>1</td><td>1</td><td>1</td><td>1</td><td>1</td><td>...</td><td>1</td><td>1</td><td>1</td><td>1</td><td>  1</td><td>  0</td><td>   0</td><td>   0</td><td>   1</td><td>   3</td></tr>\n",
       "\t<tr><th scope=row>5</th><td>1</td><td>1</td><td>1</td><td>1</td><td>1</td><td>1</td><td>1</td><td>1</td><td>1</td><td>1</td><td>...</td><td>1</td><td>1</td><td>1</td><td>1</td><td>  1</td><td>  0</td><td>   0</td><td>   0</td><td>   0</td><td>   4</td></tr>\n",
       "\t<tr><th scope=row>450</th><td>1</td><td>1</td><td>1</td><td>1</td><td>1</td><td>1</td><td>1</td><td>1</td><td>1</td><td>1</td><td>...</td><td>1</td><td>1</td><td>1</td><td>1</td><td>  0</td><td>  1</td><td>   1</td><td>   1</td><td>   1</td><td>   1</td></tr>\n",
       "\t<tr><th scope=row>154</th><td>1</td><td>1</td><td>1</td><td>1</td><td>1</td><td>1</td><td>1</td><td>1</td><td>1</td><td>1</td><td>...</td><td>1</td><td>1</td><td>1</td><td>1</td><td>  0</td><td>  1</td><td>   1</td><td>   1</td><td>   0</td><td>   2</td></tr>\n",
       "\t<tr><th scope=row>156</th><td>1</td><td>1</td><td>1</td><td>1</td><td>1</td><td>1</td><td>1</td><td>1</td><td>1</td><td>1</td><td>...</td><td>1</td><td>1</td><td>1</td><td>1</td><td>  0</td><td>  1</td><td>   1</td><td>   0</td><td>   1</td><td>   2</td></tr>\n",
       "\t<tr><th scope=row>43</th><td>1</td><td>1</td><td>1</td><td>1</td><td>1</td><td>1</td><td>1</td><td>1</td><td>1</td><td>1</td><td>...</td><td>1</td><td>1</td><td>1</td><td>1</td><td>  0</td><td>  1</td><td>   1</td><td>   0</td><td>   0</td><td>   3</td></tr>\n",
       "\t<tr><th scope=row>47</th><td>1</td><td>1</td><td>1</td><td>1</td><td>1</td><td>1</td><td>1</td><td>1</td><td>1</td><td>1</td><td>...</td><td>1</td><td>1</td><td>1</td><td>1</td><td>  0</td><td>  1</td><td>   0</td><td>   1</td><td>   1</td><td>   2</td></tr>\n",
       "\t<tr><th scope=row>17</th><td>1</td><td>1</td><td>1</td><td>1</td><td>1</td><td>1</td><td>1</td><td>1</td><td>1</td><td>1</td><td>...</td><td>1</td><td>1</td><td>1</td><td>1</td><td>  0</td><td>  1</td><td>   0</td><td>   1</td><td>   0</td><td>   3</td></tr>\n",
       "\t<tr><th scope=row>17</th><td>1</td><td>1</td><td>1</td><td>1</td><td>1</td><td>1</td><td>1</td><td>1</td><td>1</td><td>1</td><td>...</td><td>1</td><td>1</td><td>1</td><td>1</td><td>  0</td><td>  1</td><td>   0</td><td>   0</td><td>   1</td><td>   3</td></tr>\n",
       "\t<tr><th scope=row>6</th><td>1</td><td>1</td><td>1</td><td>1</td><td>1</td><td>1</td><td>1</td><td>1</td><td>1</td><td>1</td><td>...</td><td>1</td><td>1</td><td>1</td><td>1</td><td>  0</td><td>  1</td><td>   0</td><td>   0</td><td>   0</td><td>   4</td></tr>\n",
       "\t<tr><th scope=row>43</th><td>1</td><td>1</td><td>1</td><td>1</td><td>1</td><td>1</td><td>1</td><td>1</td><td>1</td><td>1</td><td>...</td><td>1</td><td>1</td><td>1</td><td>1</td><td>  0</td><td>  0</td><td>   1</td><td>   1</td><td>   1</td><td>   2</td></tr>\n",
       "\t<tr><th scope=row>15</th><td>1</td><td>1</td><td>1</td><td>1</td><td>1</td><td>1</td><td>1</td><td>1</td><td>1</td><td>1</td><td>...</td><td>1</td><td>1</td><td>1</td><td>1</td><td>  0</td><td>  0</td><td>   1</td><td>   1</td><td>   0</td><td>   3</td></tr>\n",
       "\t<tr><th scope=row>15</th><td>1</td><td>1</td><td>1</td><td>1</td><td>1</td><td>1</td><td>1</td><td>1</td><td>1</td><td>1</td><td>...</td><td>1</td><td>1</td><td>1</td><td>1</td><td>  0</td><td>  0</td><td>   1</td><td>   0</td><td>   1</td><td>   3</td></tr>\n",
       "\t<tr><th scope=row>6</th><td>1</td><td>1</td><td>1</td><td>1</td><td>1</td><td>1</td><td>1</td><td>1</td><td>1</td><td>1</td><td>...</td><td>1</td><td>1</td><td>1</td><td>1</td><td>  0</td><td>  0</td><td>   1</td><td>   0</td><td>   0</td><td>   4</td></tr>\n",
       "\t<tr><th scope=row>8</th><td>1</td><td>1</td><td>1</td><td>1</td><td>1</td><td>1</td><td>1</td><td>1</td><td>1</td><td>1</td><td>...</td><td>1</td><td>1</td><td>1</td><td>1</td><td>  0</td><td>  0</td><td>   0</td><td>   1</td><td>   1</td><td>   3</td></tr>\n",
       "\t<tr><th scope=row>3</th><td>1</td><td>1</td><td>1</td><td>1</td><td>1</td><td>1</td><td>1</td><td>1</td><td>1</td><td>1</td><td>...</td><td>1</td><td>1</td><td>1</td><td>1</td><td>  0</td><td>  0</td><td>   0</td><td>   1</td><td>   0</td><td>   4</td></tr>\n",
       "\t<tr><th scope=row>2</th><td>1</td><td>1</td><td>1</td><td>1</td><td>1</td><td>1</td><td>1</td><td>1</td><td>1</td><td>1</td><td>...</td><td>1</td><td>1</td><td>1</td><td>1</td><td>  0</td><td>  0</td><td>   0</td><td>   0</td><td>   1</td><td>   4</td></tr>\n",
       "\t<tr><th scope=row></th><td>0</td><td>0</td><td>0</td><td>0</td><td>0</td><td>0</td><td>0</td><td>0</td><td>0</td><td>0</td><td>...</td><td>0</td><td>0</td><td>0</td><td>0</td><td>982</td><td>984</td><td>1056</td><td>2464</td><td>2467</td><td>7953</td></tr>\n",
       "</tbody>\n",
       "</table>\n"
      ],
      "text/latex": [
       "A matrix: 32 × 35 of type dbl\n",
       "\\begin{tabular}{r|lllllllllllllllllllll}\n",
       "  & Marital & Gender & ReAdmis & VitD\\_levels & Doc\\_visits & Full\\_meals\\_eaten & VitD\\_supp & Initial\\_admin & HighBlood & Stroke & ... & Item5 & Item6 & Item7 & Item8 & Overweight & Anxiety & Initial\\_days & Income & Soft\\_drink & \\\\\n",
       "\\hline\n",
       "\t4184 & 1 & 1 & 1 & 1 & 1 & 1 & 1 & 1 & 1 & 1 & ... & 1 & 1 & 1 & 1 &   1 &   1 &    1 &    1 &    1 &    0\\\\\n",
       "\t1316 & 1 & 1 & 1 & 1 & 1 & 1 & 1 & 1 & 1 & 1 & ... & 1 & 1 & 1 & 1 &   1 &   1 &    1 &    1 &    0 &    1\\\\\n",
       "\t1330 & 1 & 1 & 1 & 1 & 1 & 1 & 1 & 1 & 1 & 1 & ... & 1 & 1 & 1 & 1 &   1 &   1 &    1 &    0 &    1 &    1\\\\\n",
       "\t448 & 1 & 1 & 1 & 1 & 1 & 1 & 1 & 1 & 1 & 1 & ... & 1 & 1 & 1 & 1 &   1 &   1 &    1 &    0 &    0 &    2\\\\\n",
       "\t461 & 1 & 1 & 1 & 1 & 1 & 1 & 1 & 1 & 1 & 1 & ... & 1 & 1 & 1 & 1 &   1 &   1 &    0 &    1 &    1 &    1\\\\\n",
       "\t155 & 1 & 1 & 1 & 1 & 1 & 1 & 1 & 1 & 1 & 1 & ... & 1 & 1 & 1 & 1 &   1 &   1 &    0 &    1 &    0 &    2\\\\\n",
       "\t169 & 1 & 1 & 1 & 1 & 1 & 1 & 1 & 1 & 1 & 1 & ... & 1 & 1 & 1 & 1 &   1 &   1 &    0 &    0 &    1 &    2\\\\\n",
       "\t63 & 1 & 1 & 1 & 1 & 1 & 1 & 1 & 1 & 1 & 1 & ... & 1 & 1 & 1 & 1 &   1 &   1 &    0 &    0 &    0 &    3\\\\\n",
       "\t427 & 1 & 1 & 1 & 1 & 1 & 1 & 1 & 1 & 1 & 1 & ... & 1 & 1 & 1 & 1 &   1 &   0 &    1 &    1 &    1 &    1\\\\\n",
       "\t172 & 1 & 1 & 1 & 1 & 1 & 1 & 1 & 1 & 1 & 1 & ... & 1 & 1 & 1 & 1 &   1 &   0 &    1 &    1 &    0 &    2\\\\\n",
       "\t141 & 1 & 1 & 1 & 1 & 1 & 1 & 1 & 1 & 1 & 1 & ... & 1 & 1 & 1 & 1 &   1 &   0 &    1 &    0 &    1 &    2\\\\\n",
       "\t44 & 1 & 1 & 1 & 1 & 1 & 1 & 1 & 1 & 1 & 1 & ... & 1 & 1 & 1 & 1 &   1 &   0 &    1 &    0 &    0 &    3\\\\\n",
       "\t64 & 1 & 1 & 1 & 1 & 1 & 1 & 1 & 1 & 1 & 1 & ... & 1 & 1 & 1 & 1 &   1 &   0 &    0 &    1 &    1 &    2\\\\\n",
       "\t20 & 1 & 1 & 1 & 1 & 1 & 1 & 1 & 1 & 1 & 1 & ... & 1 & 1 & 1 & 1 &   1 &   0 &    0 &    1 &    0 &    3\\\\\n",
       "\t19 & 1 & 1 & 1 & 1 & 1 & 1 & 1 & 1 & 1 & 1 & ... & 1 & 1 & 1 & 1 &   1 &   0 &    0 &    0 &    1 &    3\\\\\n",
       "\t5 & 1 & 1 & 1 & 1 & 1 & 1 & 1 & 1 & 1 & 1 & ... & 1 & 1 & 1 & 1 &   1 &   0 &    0 &    0 &    0 &    4\\\\\n",
       "\t450 & 1 & 1 & 1 & 1 & 1 & 1 & 1 & 1 & 1 & 1 & ... & 1 & 1 & 1 & 1 &   0 &   1 &    1 &    1 &    1 &    1\\\\\n",
       "\t154 & 1 & 1 & 1 & 1 & 1 & 1 & 1 & 1 & 1 & 1 & ... & 1 & 1 & 1 & 1 &   0 &   1 &    1 &    1 &    0 &    2\\\\\n",
       "\t156 & 1 & 1 & 1 & 1 & 1 & 1 & 1 & 1 & 1 & 1 & ... & 1 & 1 & 1 & 1 &   0 &   1 &    1 &    0 &    1 &    2\\\\\n",
       "\t43 & 1 & 1 & 1 & 1 & 1 & 1 & 1 & 1 & 1 & 1 & ... & 1 & 1 & 1 & 1 &   0 &   1 &    1 &    0 &    0 &    3\\\\\n",
       "\t47 & 1 & 1 & 1 & 1 & 1 & 1 & 1 & 1 & 1 & 1 & ... & 1 & 1 & 1 & 1 &   0 &   1 &    0 &    1 &    1 &    2\\\\\n",
       "\t17 & 1 & 1 & 1 & 1 & 1 & 1 & 1 & 1 & 1 & 1 & ... & 1 & 1 & 1 & 1 &   0 &   1 &    0 &    1 &    0 &    3\\\\\n",
       "\t17 & 1 & 1 & 1 & 1 & 1 & 1 & 1 & 1 & 1 & 1 & ... & 1 & 1 & 1 & 1 &   0 &   1 &    0 &    0 &    1 &    3\\\\\n",
       "\t6 & 1 & 1 & 1 & 1 & 1 & 1 & 1 & 1 & 1 & 1 & ... & 1 & 1 & 1 & 1 &   0 &   1 &    0 &    0 &    0 &    4\\\\\n",
       "\t43 & 1 & 1 & 1 & 1 & 1 & 1 & 1 & 1 & 1 & 1 & ... & 1 & 1 & 1 & 1 &   0 &   0 &    1 &    1 &    1 &    2\\\\\n",
       "\t15 & 1 & 1 & 1 & 1 & 1 & 1 & 1 & 1 & 1 & 1 & ... & 1 & 1 & 1 & 1 &   0 &   0 &    1 &    1 &    0 &    3\\\\\n",
       "\t15 & 1 & 1 & 1 & 1 & 1 & 1 & 1 & 1 & 1 & 1 & ... & 1 & 1 & 1 & 1 &   0 &   0 &    1 &    0 &    1 &    3\\\\\n",
       "\t6 & 1 & 1 & 1 & 1 & 1 & 1 & 1 & 1 & 1 & 1 & ... & 1 & 1 & 1 & 1 &   0 &   0 &    1 &    0 &    0 &    4\\\\\n",
       "\t8 & 1 & 1 & 1 & 1 & 1 & 1 & 1 & 1 & 1 & 1 & ... & 1 & 1 & 1 & 1 &   0 &   0 &    0 &    1 &    1 &    3\\\\\n",
       "\t3 & 1 & 1 & 1 & 1 & 1 & 1 & 1 & 1 & 1 & 1 & ... & 1 & 1 & 1 & 1 &   0 &   0 &    0 &    1 &    0 &    4\\\\\n",
       "\t2 & 1 & 1 & 1 & 1 & 1 & 1 & 1 & 1 & 1 & 1 & ... & 1 & 1 & 1 & 1 &   0 &   0 &    0 &    0 &    1 &    4\\\\\n",
       "\t & 0 & 0 & 0 & 0 & 0 & 0 & 0 & 0 & 0 & 0 & ... & 0 & 0 & 0 & 0 & 982 & 984 & 1056 & 2464 & 2467 & 7953\\\\\n",
       "\\end{tabular}\n"
      ],
      "text/markdown": [
       "\n",
       "A matrix: 32 × 35 of type dbl\n",
       "\n",
       "| <!--/--> | Marital | Gender | ReAdmis | VitD_levels | Doc_visits | Full_meals_eaten | VitD_supp | Initial_admin | HighBlood | Stroke | ... | Item5 | Item6 | Item7 | Item8 | Overweight | Anxiety | Initial_days | Income | Soft_drink | <!----> |\n",
       "|---|---|---|---|---|---|---|---|---|---|---|---|---|---|---|---|---|---|---|---|---|---|\n",
       "| 4184 | 1 | 1 | 1 | 1 | 1 | 1 | 1 | 1 | 1 | 1 | ... | 1 | 1 | 1 | 1 |   1 |   1 |    1 |    1 |    1 |    0 |\n",
       "| 1316 | 1 | 1 | 1 | 1 | 1 | 1 | 1 | 1 | 1 | 1 | ... | 1 | 1 | 1 | 1 |   1 |   1 |    1 |    1 |    0 |    1 |\n",
       "| 1330 | 1 | 1 | 1 | 1 | 1 | 1 | 1 | 1 | 1 | 1 | ... | 1 | 1 | 1 | 1 |   1 |   1 |    1 |    0 |    1 |    1 |\n",
       "| 448 | 1 | 1 | 1 | 1 | 1 | 1 | 1 | 1 | 1 | 1 | ... | 1 | 1 | 1 | 1 |   1 |   1 |    1 |    0 |    0 |    2 |\n",
       "| 461 | 1 | 1 | 1 | 1 | 1 | 1 | 1 | 1 | 1 | 1 | ... | 1 | 1 | 1 | 1 |   1 |   1 |    0 |    1 |    1 |    1 |\n",
       "| 155 | 1 | 1 | 1 | 1 | 1 | 1 | 1 | 1 | 1 | 1 | ... | 1 | 1 | 1 | 1 |   1 |   1 |    0 |    1 |    0 |    2 |\n",
       "| 169 | 1 | 1 | 1 | 1 | 1 | 1 | 1 | 1 | 1 | 1 | ... | 1 | 1 | 1 | 1 |   1 |   1 |    0 |    0 |    1 |    2 |\n",
       "| 63 | 1 | 1 | 1 | 1 | 1 | 1 | 1 | 1 | 1 | 1 | ... | 1 | 1 | 1 | 1 |   1 |   1 |    0 |    0 |    0 |    3 |\n",
       "| 427 | 1 | 1 | 1 | 1 | 1 | 1 | 1 | 1 | 1 | 1 | ... | 1 | 1 | 1 | 1 |   1 |   0 |    1 |    1 |    1 |    1 |\n",
       "| 172 | 1 | 1 | 1 | 1 | 1 | 1 | 1 | 1 | 1 | 1 | ... | 1 | 1 | 1 | 1 |   1 |   0 |    1 |    1 |    0 |    2 |\n",
       "| 141 | 1 | 1 | 1 | 1 | 1 | 1 | 1 | 1 | 1 | 1 | ... | 1 | 1 | 1 | 1 |   1 |   0 |    1 |    0 |    1 |    2 |\n",
       "| 44 | 1 | 1 | 1 | 1 | 1 | 1 | 1 | 1 | 1 | 1 | ... | 1 | 1 | 1 | 1 |   1 |   0 |    1 |    0 |    0 |    3 |\n",
       "| 64 | 1 | 1 | 1 | 1 | 1 | 1 | 1 | 1 | 1 | 1 | ... | 1 | 1 | 1 | 1 |   1 |   0 |    0 |    1 |    1 |    2 |\n",
       "| 20 | 1 | 1 | 1 | 1 | 1 | 1 | 1 | 1 | 1 | 1 | ... | 1 | 1 | 1 | 1 |   1 |   0 |    0 |    1 |    0 |    3 |\n",
       "| 19 | 1 | 1 | 1 | 1 | 1 | 1 | 1 | 1 | 1 | 1 | ... | 1 | 1 | 1 | 1 |   1 |   0 |    0 |    0 |    1 |    3 |\n",
       "| 5 | 1 | 1 | 1 | 1 | 1 | 1 | 1 | 1 | 1 | 1 | ... | 1 | 1 | 1 | 1 |   1 |   0 |    0 |    0 |    0 |    4 |\n",
       "| 450 | 1 | 1 | 1 | 1 | 1 | 1 | 1 | 1 | 1 | 1 | ... | 1 | 1 | 1 | 1 |   0 |   1 |    1 |    1 |    1 |    1 |\n",
       "| 154 | 1 | 1 | 1 | 1 | 1 | 1 | 1 | 1 | 1 | 1 | ... | 1 | 1 | 1 | 1 |   0 |   1 |    1 |    1 |    0 |    2 |\n",
       "| 156 | 1 | 1 | 1 | 1 | 1 | 1 | 1 | 1 | 1 | 1 | ... | 1 | 1 | 1 | 1 |   0 |   1 |    1 |    0 |    1 |    2 |\n",
       "| 43 | 1 | 1 | 1 | 1 | 1 | 1 | 1 | 1 | 1 | 1 | ... | 1 | 1 | 1 | 1 |   0 |   1 |    1 |    0 |    0 |    3 |\n",
       "| 47 | 1 | 1 | 1 | 1 | 1 | 1 | 1 | 1 | 1 | 1 | ... | 1 | 1 | 1 | 1 |   0 |   1 |    0 |    1 |    1 |    2 |\n",
       "| 17 | 1 | 1 | 1 | 1 | 1 | 1 | 1 | 1 | 1 | 1 | ... | 1 | 1 | 1 | 1 |   0 |   1 |    0 |    1 |    0 |    3 |\n",
       "| 17 | 1 | 1 | 1 | 1 | 1 | 1 | 1 | 1 | 1 | 1 | ... | 1 | 1 | 1 | 1 |   0 |   1 |    0 |    0 |    1 |    3 |\n",
       "| 6 | 1 | 1 | 1 | 1 | 1 | 1 | 1 | 1 | 1 | 1 | ... | 1 | 1 | 1 | 1 |   0 |   1 |    0 |    0 |    0 |    4 |\n",
       "| 43 | 1 | 1 | 1 | 1 | 1 | 1 | 1 | 1 | 1 | 1 | ... | 1 | 1 | 1 | 1 |   0 |   0 |    1 |    1 |    1 |    2 |\n",
       "| 15 | 1 | 1 | 1 | 1 | 1 | 1 | 1 | 1 | 1 | 1 | ... | 1 | 1 | 1 | 1 |   0 |   0 |    1 |    1 |    0 |    3 |\n",
       "| 15 | 1 | 1 | 1 | 1 | 1 | 1 | 1 | 1 | 1 | 1 | ... | 1 | 1 | 1 | 1 |   0 |   0 |    1 |    0 |    1 |    3 |\n",
       "| 6 | 1 | 1 | 1 | 1 | 1 | 1 | 1 | 1 | 1 | 1 | ... | 1 | 1 | 1 | 1 |   0 |   0 |    1 |    0 |    0 |    4 |\n",
       "| 8 | 1 | 1 | 1 | 1 | 1 | 1 | 1 | 1 | 1 | 1 | ... | 1 | 1 | 1 | 1 |   0 |   0 |    0 |    1 |    1 |    3 |\n",
       "| 3 | 1 | 1 | 1 | 1 | 1 | 1 | 1 | 1 | 1 | 1 | ... | 1 | 1 | 1 | 1 |   0 |   0 |    0 |    1 |    0 |    4 |\n",
       "| 2 | 1 | 1 | 1 | 1 | 1 | 1 | 1 | 1 | 1 | 1 | ... | 1 | 1 | 1 | 1 |   0 |   0 |    0 |    0 |    1 |    4 |\n",
       "| <!----> | 0 | 0 | 0 | 0 | 0 | 0 | 0 | 0 | 0 | 0 | ... | 0 | 0 | 0 | 0 | 982 | 984 | 1056 | 2464 | 2467 | 7953 |\n",
       "\n"
      ],
      "text/plain": [
       "     Marital Gender ReAdmis VitD_levels Doc_visits Full_meals_eaten VitD_supp\n",
       "4184 1       1      1       1           1          1                1        \n",
       "1316 1       1      1       1           1          1                1        \n",
       "1330 1       1      1       1           1          1                1        \n",
       "448  1       1      1       1           1          1                1        \n",
       "461  1       1      1       1           1          1                1        \n",
       "155  1       1      1       1           1          1                1        \n",
       "169  1       1      1       1           1          1                1        \n",
       "63   1       1      1       1           1          1                1        \n",
       "427  1       1      1       1           1          1                1        \n",
       "172  1       1      1       1           1          1                1        \n",
       "141  1       1      1       1           1          1                1        \n",
       "44   1       1      1       1           1          1                1        \n",
       "64   1       1      1       1           1          1                1        \n",
       "20   1       1      1       1           1          1                1        \n",
       "19   1       1      1       1           1          1                1        \n",
       "5    1       1      1       1           1          1                1        \n",
       "450  1       1      1       1           1          1                1        \n",
       "154  1       1      1       1           1          1                1        \n",
       "156  1       1      1       1           1          1                1        \n",
       "43   1       1      1       1           1          1                1        \n",
       "47   1       1      1       1           1          1                1        \n",
       "17   1       1      1       1           1          1                1        \n",
       "17   1       1      1       1           1          1                1        \n",
       "6    1       1      1       1           1          1                1        \n",
       "43   1       1      1       1           1          1                1        \n",
       "15   1       1      1       1           1          1                1        \n",
       "15   1       1      1       1           1          1                1        \n",
       "6    1       1      1       1           1          1                1        \n",
       "8    1       1      1       1           1          1                1        \n",
       "3    1       1      1       1           1          1                1        \n",
       "2    1       1      1       1           1          1                1        \n",
       "     0       0      0       0           0          0                0        \n",
       "     Initial_admin HighBlood Stroke ... Item5 Item6 Item7 Item8 Overweight\n",
       "4184 1             1         1      ... 1     1     1     1       1       \n",
       "1316 1             1         1      ... 1     1     1     1       1       \n",
       "1330 1             1         1      ... 1     1     1     1       1       \n",
       "448  1             1         1      ... 1     1     1     1       1       \n",
       "461  1             1         1      ... 1     1     1     1       1       \n",
       "155  1             1         1      ... 1     1     1     1       1       \n",
       "169  1             1         1      ... 1     1     1     1       1       \n",
       "63   1             1         1      ... 1     1     1     1       1       \n",
       "427  1             1         1      ... 1     1     1     1       1       \n",
       "172  1             1         1      ... 1     1     1     1       1       \n",
       "141  1             1         1      ... 1     1     1     1       1       \n",
       "44   1             1         1      ... 1     1     1     1       1       \n",
       "64   1             1         1      ... 1     1     1     1       1       \n",
       "20   1             1         1      ... 1     1     1     1       1       \n",
       "19   1             1         1      ... 1     1     1     1       1       \n",
       "5    1             1         1      ... 1     1     1     1       1       \n",
       "450  1             1         1      ... 1     1     1     1       0       \n",
       "154  1             1         1      ... 1     1     1     1       0       \n",
       "156  1             1         1      ... 1     1     1     1       0       \n",
       "43   1             1         1      ... 1     1     1     1       0       \n",
       "47   1             1         1      ... 1     1     1     1       0       \n",
       "17   1             1         1      ... 1     1     1     1       0       \n",
       "17   1             1         1      ... 1     1     1     1       0       \n",
       "6    1             1         1      ... 1     1     1     1       0       \n",
       "43   1             1         1      ... 1     1     1     1       0       \n",
       "15   1             1         1      ... 1     1     1     1       0       \n",
       "15   1             1         1      ... 1     1     1     1       0       \n",
       "6    1             1         1      ... 1     1     1     1       0       \n",
       "8    1             1         1      ... 1     1     1     1       0       \n",
       "3    1             1         1      ... 1     1     1     1       0       \n",
       "2    1             1         1      ... 1     1     1     1       0       \n",
       "     0             0         0      ... 0     0     0     0     982       \n",
       "     Anxiety Initial_days Income Soft_drink     \n",
       "4184   1        1            1      1          0\n",
       "1316   1        1            1      0          1\n",
       "1330   1        1            0      1          1\n",
       "448    1        1            0      0          2\n",
       "461    1        0            1      1          1\n",
       "155    1        0            1      0          2\n",
       "169    1        0            0      1          2\n",
       "63     1        0            0      0          3\n",
       "427    0        1            1      1          1\n",
       "172    0        1            1      0          2\n",
       "141    0        1            0      1          2\n",
       "44     0        1            0      0          3\n",
       "64     0        0            1      1          2\n",
       "20     0        0            1      0          3\n",
       "19     0        0            0      1          3\n",
       "5      0        0            0      0          4\n",
       "450    1        1            1      1          1\n",
       "154    1        1            1      0          2\n",
       "156    1        1            0      1          2\n",
       "43     1        1            0      0          3\n",
       "47     1        0            1      1          2\n",
       "17     1        0            1      0          3\n",
       "17     1        0            0      1          3\n",
       "6      1        0            0      0          4\n",
       "43     0        1            1      1          2\n",
       "15     0        1            1      0          3\n",
       "15     0        1            0      1          3\n",
       "6      0        1            0      0          4\n",
       "8      0        0            1      1          3\n",
       "3      0        0            1      0          4\n",
       "2      0        0            0      1          4\n",
       "     984     1056         2464   2467       7953"
      ]
     },
     "metadata": {},
     "output_type": "display_data"
    },
    {
     "data": {
      "image/png": "[encoded data removed]",
      "text/plain": [
       "plot without title"
      ]
     },
     "metadata": {
      "image/png": {
       "height": 420,
       "width": 420
      }
     },
     "output_type": "display_data"
    }
   ],
   "source": [
    "md.pattern(lastcolumns)"
   ]
  },
  {
   "cell_type": "code",
   "execution_count": 21,
   "id": "008ac2da-f2a2-4ee6-abfb-f313249cec67",
   "metadata": {},
   "outputs": [
    {
     "data": {
      "text/html": [
       "<style>\n",
       ".list-inline {list-style: none; margin:0; padding: 0}\n",
       ".list-inline>li {display: inline-block}\n",
       ".list-inline>li:not(:last-child)::after {content: \"\\00b7\"; padding: 0 .5ex}\n",
       "</style>\n",
       "<ol class=list-inline><li>'Income'</li><li>'Marital'</li><li>'Gender'</li><li>'ReAdmis'</li><li>'VitD_levels'</li><li>'Doc_visits'</li><li>'Full_meals_eaten'</li><li>'VitD_supp'</li><li>'Soft_drink'</li><li>'Initial_admin'</li><li>'HighBlood'</li><li>'Stroke'</li><li>'Complication_risk'</li><li>'Overweight'</li><li>'Arthritis'</li><li>'Diabetes'</li><li>'Hyperlipidemia'</li><li>'BackPain'</li><li>'Anxiety'</li><li>'Allergic_rhinitis'</li><li>'Reflux_esophagitis'</li><li>'Asthma'</li><li>'Services'</li><li>'Initial_days'</li><li>'TotalCharge'</li><li>'Additional_charges'</li><li>'Item1'</li><li>'Item2'</li><li>'Item3'</li><li>'Item4'</li><li>'Item5'</li><li>'Item6'</li><li>'Item7'</li><li>'Item8'</li></ol>\n"
      ],
      "text/latex": [
       "\\begin{enumerate*}\n",
       "\\item 'Income'\n",
       "\\item 'Marital'\n",
       "\\item 'Gender'\n",
       "\\item 'ReAdmis'\n",
       "\\item 'VitD\\_levels'\n",
       "\\item 'Doc\\_visits'\n",
       "\\item 'Full\\_meals\\_eaten'\n",
       "\\item 'VitD\\_supp'\n",
       "\\item 'Soft\\_drink'\n",
       "\\item 'Initial\\_admin'\n",
       "\\item 'HighBlood'\n",
       "\\item 'Stroke'\n",
       "\\item 'Complication\\_risk'\n",
       "\\item 'Overweight'\n",
       "\\item 'Arthritis'\n",
       "\\item 'Diabetes'\n",
       "\\item 'Hyperlipidemia'\n",
       "\\item 'BackPain'\n",
       "\\item 'Anxiety'\n",
       "\\item 'Allergic\\_rhinitis'\n",
       "\\item 'Reflux\\_esophagitis'\n",
       "\\item 'Asthma'\n",
       "\\item 'Services'\n",
       "\\item 'Initial\\_days'\n",
       "\\item 'TotalCharge'\n",
       "\\item 'Additional\\_charges'\n",
       "\\item 'Item1'\n",
       "\\item 'Item2'\n",
       "\\item 'Item3'\n",
       "\\item 'Item4'\n",
       "\\item 'Item5'\n",
       "\\item 'Item6'\n",
       "\\item 'Item7'\n",
       "\\item 'Item8'\n",
       "\\end{enumerate*}\n"
      ],
      "text/markdown": [
       "1. 'Income'\n",
       "2. 'Marital'\n",
       "3. 'Gender'\n",
       "4. 'ReAdmis'\n",
       "5. 'VitD_levels'\n",
       "6. 'Doc_visits'\n",
       "7. 'Full_meals_eaten'\n",
       "8. 'VitD_supp'\n",
       "9. 'Soft_drink'\n",
       "10. 'Initial_admin'\n",
       "11. 'HighBlood'\n",
       "12. 'Stroke'\n",
       "13. 'Complication_risk'\n",
       "14. 'Overweight'\n",
       "15. 'Arthritis'\n",
       "16. 'Diabetes'\n",
       "17. 'Hyperlipidemia'\n",
       "18. 'BackPain'\n",
       "19. 'Anxiety'\n",
       "20. 'Allergic_rhinitis'\n",
       "21. 'Reflux_esophagitis'\n",
       "22. 'Asthma'\n",
       "23. 'Services'\n",
       "24. 'Initial_days'\n",
       "25. 'TotalCharge'\n",
       "26. 'Additional_charges'\n",
       "27. 'Item1'\n",
       "28. 'Item2'\n",
       "29. 'Item3'\n",
       "30. 'Item4'\n",
       "31. 'Item5'\n",
       "32. 'Item6'\n",
       "33. 'Item7'\n",
       "34. 'Item8'\n",
       "\n",
       "\n"
      ],
      "text/plain": [
       " [1] \"Income\"             \"Marital\"            \"Gender\"            \n",
       " [4] \"ReAdmis\"            \"VitD_levels\"        \"Doc_visits\"        \n",
       " [7] \"Full_meals_eaten\"   \"VitD_supp\"          \"Soft_drink\"        \n",
       "[10] \"Initial_admin\"      \"HighBlood\"          \"Stroke\"            \n",
       "[13] \"Complication_risk\"  \"Overweight\"         \"Arthritis\"         \n",
       "[16] \"Diabetes\"           \"Hyperlipidemia\"     \"BackPain\"          \n",
       "[19] \"Anxiety\"            \"Allergic_rhinitis\"  \"Reflux_esophagitis\"\n",
       "[22] \"Asthma\"             \"Services\"           \"Initial_days\"      \n",
       "[25] \"TotalCharge\"        \"Additional_charges\" \"Item1\"             \n",
       "[28] \"Item2\"              \"Item3\"              \"Item4\"             \n",
       "[31] \"Item5\"              \"Item6\"              \"Item7\"             \n",
       "[34] \"Item8\"             "
      ]
     },
     "metadata": {},
     "output_type": "display_data"
    }
   ],
   "source": [
    "colnames(lastcolumns)"
   ]
  },
  {
   "cell_type": "markdown",
   "id": "de9521c2-5a61-4c65-ac11-7dbb8fcc6eaa",
   "metadata": {},
   "source": [
    "### We can see that the missing data is in the last columns as shown above. We will continue our cleaning process and will address those NAs at the end of the process. "
   ]
  },
  {
   "cell_type": "markdown",
   "id": "d7610d16-73ce-4ec5-840e-82f5f215c828",
   "metadata": {},
   "source": [
    "### 2- Convert categorical columns to numeric using the code medical$column <- as.numeric(medical$column). Referring to the str(medical) code above, we see that any chr data types are categorical. We will convert them to numeric next."
   ]
  },
  {
   "cell_type": "code",
   "execution_count": 41,
   "id": "7bbc6fc0-9fb7-42ec-a5e6-073edbd42832",
   "metadata": {},
   "outputs": [],
   "source": [
    "medical$Customer_id <- as.numeric(medical$Customer_id)"
   ]
  },
  {
   "cell_type": "code",
   "execution_count": 43,
   "id": "ba2bac27-cfb3-4c80-81c3-20223a2b6bf9",
   "metadata": {},
   "outputs": [],
   "source": [
    "medical$Interaction <- as.numeric(medical$Interaction)"
   ]
  },
  {
   "cell_type": "code",
   "execution_count": 45,
   "id": "e6460c9f-05d1-4019-8d75-8494d7089c07",
   "metadata": {},
   "outputs": [],
   "source": [
    "medical$UID <- as.numeric(medical$UID)"
   ]
  },
  {
   "cell_type": "code",
   "execution_count": 47,
   "id": "1444a23b-5099-4a98-8127-aa433ed36f20",
   "metadata": {},
   "outputs": [],
   "source": [
    "medical$City <- as.numeric(medical$City)"
   ]
  },
  {
   "cell_type": "code",
   "execution_count": 49,
   "id": "0ffd2773-7847-4574-a9c2-14471f089f58",
   "metadata": {},
   "outputs": [],
   "source": [
    "medical$State <- as.numeric(medical$State)"
   ]
  },
  {
   "cell_type": "code",
   "execution_count": 50,
   "id": "5ab1e281-f4d4-4408-9393-67bca478a719",
   "metadata": {},
   "outputs": [],
   "source": [
    "medical$County <- as.numeric(medical$County)"
   ]
  },
  {
   "cell_type": "code",
   "execution_count": 52,
   "id": "fe8bff40-95be-40b6-a3ac-4da5f15f8ce4",
   "metadata": {},
   "outputs": [],
   "source": [
    "medical$Area <- as.numeric(medical$Area)"
   ]
  },
  {
   "cell_type": "code",
   "execution_count": 54,
   "id": "13b60132-6c9a-45b5-8f40-81a24cd0ae05",
   "metadata": {},
   "outputs": [],
   "source": [
    "medical$Timezone <- as.numeric(medical$Timezone)"
   ]
  },
  {
   "cell_type": "code",
   "execution_count": 56,
   "id": "16d5cc9d-fb86-4bc7-b060-bbb2245f0ad2",
   "metadata": {},
   "outputs": [],
   "source": [
    "medical$Job <- as.numeric(medical$Job)"
   ]
  },
  {
   "cell_type": "code",
   "execution_count": 57,
   "id": "2d37da7e-b91c-428f-9d62-8f5bd01314dc",
   "metadata": {},
   "outputs": [],
   "source": [
    "medical$Education <- as.numeric(medical$Education)"
   ]
  },
  {
   "cell_type": "code",
   "execution_count": 58,
   "id": "e584a67c-8585-40c5-a5b0-d278eff6b47d",
   "metadata": {},
   "outputs": [],
   "source": [
    "medical$Employment <- as.numeric(medical$Employment)"
   ]
  },
  {
   "cell_type": "code",
   "execution_count": 59,
   "id": "76c55f51-9e6a-47b3-8cb3-35ca1a0260dd",
   "metadata": {},
   "outputs": [],
   "source": [
    "medical$Marital <- as.numeric(medical$Marital)"
   ]
  },
  {
   "cell_type": "code",
   "execution_count": 60,
   "id": "34d01bc9-1f39-4464-99da-e816cfd386dc",
   "metadata": {},
   "outputs": [],
   "source": [
    "medical$Gender <- as.numeric(medical$Gender)"
   ]
  },
  {
   "cell_type": "code",
   "execution_count": 61,
   "id": "080dd883-0445-4061-8441-9c9653774ae2",
   "metadata": {},
   "outputs": [],
   "source": [
    "medical$ReAdmis <- as.numeric(medical$ReAdmis)"
   ]
  },
  {
   "cell_type": "code",
   "execution_count": 62,
   "id": "184f7277-d9b3-4a3d-97f0-b42582261c30",
   "metadata": {},
   "outputs": [],
   "source": [
    "medical$Soft_drink <- as.numeric(medical$Soft_drink)"
   ]
  },
  {
   "cell_type": "code",
   "execution_count": 63,
   "id": "b7907238-825f-407e-a917-1719ae960904",
   "metadata": {},
   "outputs": [],
   "source": [
    "medical$Initial_admin <- as.numeric(medical$Initial_admin)"
   ]
  },
  {
   "cell_type": "code",
   "execution_count": 64,
   "id": "8b3b23bf-b062-4439-aaee-d9ba078a6258",
   "metadata": {},
   "outputs": [],
   "source": [
    "medical$HighBlood <- as.numeric(medical$HighBlood)"
   ]
  },
  {
   "cell_type": "code",
   "execution_count": 65,
   "id": "aa351287-758e-4a4e-ba15-acc0206429fb",
   "metadata": {},
   "outputs": [],
   "source": [
    "medical$Stroke <- as.numeric(medical$Stroke)"
   ]
  },
  {
   "cell_type": "code",
   "execution_count": 66,
   "id": "aa48d9f4-e788-471a-be7c-87fe4b9e93b1",
   "metadata": {},
   "outputs": [],
   "source": [
    "medical$Complication_risk <- as.numeric(medical$Complication_risk)"
   ]
  },
  {
   "cell_type": "code",
   "execution_count": 67,
   "id": "4964fe8b-51e9-4f1d-83b2-f15db090d45d",
   "metadata": {},
   "outputs": [],
   "source": [
    "medical$Arthritis <- as.numeric(medical$Arthritis)"
   ]
  },
  {
   "cell_type": "code",
   "execution_count": 68,
   "id": "52b743e9-47c6-4c8f-b463-85098d540885",
   "metadata": {},
   "outputs": [],
   "source": [
    "medical$Diabetes <- as.numeric(medical$Diabetes)"
   ]
  },
  {
   "cell_type": "code",
   "execution_count": 69,
   "id": "78a4f866-da33-4f38-bd25-ede13532d973",
   "metadata": {},
   "outputs": [],
   "source": [
    "medical$Hyperlipidemia <- as.numeric(medical$Hyperlipidemia)"
   ]
  },
  {
   "cell_type": "code",
   "execution_count": 70,
   "id": "964d74fa-79fd-404f-8cc8-25071ef749ba",
   "metadata": {},
   "outputs": [],
   "source": [
    "medical$BackPain <- as.numeric(medical$BackPain)"
   ]
  },
  {
   "cell_type": "code",
   "execution_count": 71,
   "id": "c560f9ae-7da6-436e-89b9-1e0fabcd6d31",
   "metadata": {},
   "outputs": [],
   "source": [
    "medical$Allergic_rhinitis <- as.numeric(medical$Allergic_rhinitis)"
   ]
  },
  {
   "cell_type": "code",
   "execution_count": 72,
   "id": "5125242a-f243-45bb-ae45-5f7cdd6cde64",
   "metadata": {},
   "outputs": [],
   "source": [
    "medical$Reflux_esophagitis <- as.numeric(medical$Reflux_esophagitis)"
   ]
  },
  {
   "cell_type": "code",
   "execution_count": 73,
   "id": "67aaba02-68cd-4497-987a-365c118f05f6",
   "metadata": {},
   "outputs": [],
   "source": [
    "medical$Asthma <- as.numeric(medical$Asthma)"
   ]
  },
  {
   "cell_type": "code",
   "execution_count": 74,
   "id": "6782c5cd-01b8-4965-a855-11381bfb04ca",
   "metadata": {},
   "outputs": [],
   "source": [
    "medical$Services <- as.numeric(medical$Services)"
   ]
  },
  {
   "cell_type": "markdown",
   "id": "2c265397-64a1-45a7-8705-0006bf6a39a6",
   "metadata": {},
   "source": [
    "### Now, let's check to make sure that we converted everything correctly using str(medical)."
   ]
  },
  {
   "cell_type": "code",
   "execution_count": 75,
   "id": "4e81aabc-4686-48a1-b24a-1117b1b2fce9",
   "metadata": {},
   "outputs": [
    {
     "name": "stdout",
     "output_type": "stream",
     "text": [
      "spec_tbl_df [10,000 x 53] (S3: spec_tbl_df/tbl_df/tbl/data.frame)\n",
      " $ ...1              : num [1:10000] 1 2 3 4 5 6 7 8 9 10 ...\n",
      " $ CaseOrder         : num [1:10000] 1 2 3 4 5 6 7 8 9 10 ...\n",
      " $ Customer_id       : num [1:10000] NA NA NA NA NA NA NA NA NA NA ...\n",
      " $ Interaction       : num [1:10000] NA NA NA NA NA NA NA NA NA NA ...\n",
      " $ UID               : num [1:10000] NA NA NA NA NA NA NA NA NA NA ...\n",
      " $ City              : num [1:10000] NA NA NA NA NA NA NA NA NA NA ...\n",
      " $ State             : num [1:10000] NA NA NA NA NA NA NA NA NA NA ...\n",
      " $ County            : num [1:10000] NA NA NA NA NA NA NA NA NA NA ...\n",
      " $ Zip               : num [1:10000] 35621 32446 57110 56072 23181 ...\n",
      " $ Lat               : num [1:10000] 34.3 30.8 43.5 43.9 37.6 ...\n",
      " $ Lng               : num [1:10000] -86.7 -85.2 -96.6 -93.5 -76.9 ...\n",
      " $ Population        : num [1:10000] 2951 11303 17125 2162 5287 ...\n",
      " $ Area              : num [1:10000] NA NA NA NA NA NA NA NA NA NA ...\n",
      " $ Timezone          : num [1:10000] NA NA NA NA NA NA NA NA NA NA ...\n",
      " $ Job               : num [1:10000] NA NA NA NA NA NA NA NA NA NA ...\n",
      " $ Children          : num [1:10000] 1 3 3 0 NA NA 0 7 NA 2 ...\n",
      " $ Age               : num [1:10000] 53 51 53 78 22 76 50 40 48 78 ...\n",
      " $ Education         : num [1:10000] NA NA NA NA NA NA NA NA NA NA ...\n",
      " $ Employment        : num [1:10000] NA NA NA NA NA NA NA NA NA NA ...\n",
      " $ Income            : num [1:10000] 86576 46806 14370 39741 1210 ...\n",
      " $ Marital           : num [1:10000] NA NA NA NA NA NA NA NA NA NA ...\n",
      " $ Gender            : num [1:10000] NA NA NA NA NA NA NA NA NA NA ...\n",
      " $ ReAdmis           : num [1:10000] NA NA NA NA NA NA NA NA NA NA ...\n",
      " $ VitD_levels       : num [1:10000] 17.8 19 17.4 17.4 16.9 ...\n",
      " $ Doc_visits        : num [1:10000] 6 4 4 4 5 6 6 7 6 7 ...\n",
      " $ Full_meals_eaten  : num [1:10000] 0 2 1 1 0 0 0 2 3 1 ...\n",
      " $ VitD_supp         : num [1:10000] 0 1 0 0 2 0 0 0 0 2 ...\n",
      " $ Soft_drink        : num [1:10000] NA NA NA NA NA NA NA NA NA NA ...\n",
      " $ Initial_admin     : num [1:10000] NA NA NA NA NA NA NA NA NA NA ...\n",
      " $ HighBlood         : num [1:10000] NA NA NA NA NA NA NA NA NA NA ...\n",
      " $ Stroke            : num [1:10000] NA NA NA NA NA NA NA NA NA NA ...\n",
      " $ Complication_risk : num [1:10000] NA NA NA NA NA NA NA NA NA NA ...\n",
      " $ Overweight        : num [1:10000] 0 1 1 0 0 1 1 1 1 1 ...\n",
      " $ Arthritis         : num [1:10000] NA NA NA NA NA NA NA NA NA NA ...\n",
      " $ Diabetes          : num [1:10000] NA NA NA NA NA NA NA NA NA NA ...\n",
      " $ Hyperlipidemia    : num [1:10000] NA NA NA NA NA NA NA NA NA NA ...\n",
      " $ BackPain          : num [1:10000] NA NA NA NA NA NA NA NA NA NA ...\n",
      " $ Anxiety           : num [1:10000] 1 NA NA NA 0 0 1 0 NA 0 ...\n",
      " $ Allergic_rhinitis : num [1:10000] NA NA NA NA NA NA NA NA NA NA ...\n",
      " $ Reflux_esophagitis: num [1:10000] NA NA NA NA NA NA NA NA NA NA ...\n",
      " $ Asthma            : num [1:10000] NA NA NA NA NA NA NA NA NA NA ...\n",
      " $ Services          : num [1:10000] NA NA NA NA NA NA NA NA NA NA ...\n",
      " $ Initial_days      : num [1:10000] 10.59 15.13 4.77 1.71 1.25 ...\n",
      " $ TotalCharge       : num [1:10000] 3191 4215 2178 2465 1886 ...\n",
      " $ Additional_charges: num [1:10000] 17939 17613 17505 12993 3717 ...\n",
      " $ Item1             : num [1:10000] 3 3 2 3 2 4 4 1 3 5 ...\n",
      " $ Item2             : num [1:10000] 3 4 4 5 1 5 3 2 3 5 ...\n",
      " $ Item3             : num [1:10000] 2 3 4 5 3 4 3 2 2 5 ...\n",
      " $ Item4             : num [1:10000] 2 4 4 3 3 4 2 5 3 3 ...\n",
      " $ Item5             : num [1:10000] 4 4 3 4 5 3 3 4 3 4 ...\n",
      " $ Item6             : num [1:10000] 3 4 4 5 3 5 4 2 3 2 ...\n",
      " $ Item7             : num [1:10000] 3 3 3 5 4 4 5 4 4 3 ...\n",
      " $ Item8             : num [1:10000] 4 3 3 5 3 6 5 2 2 2 ...\n",
      " - attr(*, \"spec\")=\n",
      "  .. cols(\n",
      "  ..   ...1 = \u001b[32mcol_double()\u001b[39m,\n",
      "  ..   CaseOrder = \u001b[32mcol_double()\u001b[39m,\n",
      "  ..   Customer_id = \u001b[31mcol_character()\u001b[39m,\n",
      "  ..   Interaction = \u001b[31mcol_character()\u001b[39m,\n",
      "  ..   UID = \u001b[31mcol_character()\u001b[39m,\n",
      "  ..   City = \u001b[31mcol_character()\u001b[39m,\n",
      "  ..   State = \u001b[31mcol_character()\u001b[39m,\n",
      "  ..   County = \u001b[31mcol_character()\u001b[39m,\n",
      "  ..   Zip = \u001b[32mcol_double()\u001b[39m,\n",
      "  ..   Lat = \u001b[32mcol_double()\u001b[39m,\n",
      "  ..   Lng = \u001b[32mcol_double()\u001b[39m,\n",
      "  ..   Population = \u001b[32mcol_double()\u001b[39m,\n",
      "  ..   Area = \u001b[31mcol_character()\u001b[39m,\n",
      "  ..   Timezone = \u001b[31mcol_character()\u001b[39m,\n",
      "  ..   Job = \u001b[31mcol_character()\u001b[39m,\n",
      "  ..   Children = \u001b[32mcol_double()\u001b[39m,\n",
      "  ..   Age = \u001b[32mcol_double()\u001b[39m,\n",
      "  ..   Education = \u001b[31mcol_character()\u001b[39m,\n",
      "  ..   Employment = \u001b[31mcol_character()\u001b[39m,\n",
      "  ..   Income = \u001b[32mcol_double()\u001b[39m,\n",
      "  ..   Marital = \u001b[31mcol_character()\u001b[39m,\n",
      "  ..   Gender = \u001b[31mcol_character()\u001b[39m,\n",
      "  ..   ReAdmis = \u001b[31mcol_character()\u001b[39m,\n",
      "  ..   VitD_levels = \u001b[32mcol_double()\u001b[39m,\n",
      "  ..   Doc_visits = \u001b[32mcol_double()\u001b[39m,\n",
      "  ..   Full_meals_eaten = \u001b[32mcol_double()\u001b[39m,\n",
      "  ..   VitD_supp = \u001b[32mcol_double()\u001b[39m,\n",
      "  ..   Soft_drink = \u001b[31mcol_character()\u001b[39m,\n",
      "  ..   Initial_admin = \u001b[31mcol_character()\u001b[39m,\n",
      "  ..   HighBlood = \u001b[31mcol_character()\u001b[39m,\n",
      "  ..   Stroke = \u001b[31mcol_character()\u001b[39m,\n",
      "  ..   Complication_risk = \u001b[31mcol_character()\u001b[39m,\n",
      "  ..   Overweight = \u001b[32mcol_double()\u001b[39m,\n",
      "  ..   Arthritis = \u001b[31mcol_character()\u001b[39m,\n",
      "  ..   Diabetes = \u001b[31mcol_character()\u001b[39m,\n",
      "  ..   Hyperlipidemia = \u001b[31mcol_character()\u001b[39m,\n",
      "  ..   BackPain = \u001b[31mcol_character()\u001b[39m,\n",
      "  ..   Anxiety = \u001b[32mcol_double()\u001b[39m,\n",
      "  ..   Allergic_rhinitis = \u001b[31mcol_character()\u001b[39m,\n",
      "  ..   Reflux_esophagitis = \u001b[31mcol_character()\u001b[39m,\n",
      "  ..   Asthma = \u001b[31mcol_character()\u001b[39m,\n",
      "  ..   Services = \u001b[31mcol_character()\u001b[39m,\n",
      "  ..   Initial_days = \u001b[32mcol_double()\u001b[39m,\n",
      "  ..   TotalCharge = \u001b[32mcol_double()\u001b[39m,\n",
      "  ..   Additional_charges = \u001b[32mcol_double()\u001b[39m,\n",
      "  ..   Item1 = \u001b[32mcol_double()\u001b[39m,\n",
      "  ..   Item2 = \u001b[32mcol_double()\u001b[39m,\n",
      "  ..   Item3 = \u001b[32mcol_double()\u001b[39m,\n",
      "  ..   Item4 = \u001b[32mcol_double()\u001b[39m,\n",
      "  ..   Item5 = \u001b[32mcol_double()\u001b[39m,\n",
      "  ..   Item6 = \u001b[32mcol_double()\u001b[39m,\n",
      "  ..   Item7 = \u001b[32mcol_double()\u001b[39m,\n",
      "  ..   Item8 = \u001b[32mcol_double()\u001b[39m\n",
      "  .. )\n",
      " - attr(*, \"problems\")=<externalptr> \n"
     ]
    }
   ],
   "source": [
    "str(medical)"
   ]
  },
  {
   "cell_type": "markdown",
   "id": "04f563f7-0b36-4daa-9140-3198637bacf9",
   "metadata": {},
   "source": [
    "### Excellent! We see that every chr (categorical) value is now num (numeric). "
   ]
  },
  {
   "cell_type": "markdown",
   "id": "f447c2fd-b1ee-4854-8c91-2c22cc2bba51",
   "metadata": {},
   "source": [
    "### 3- Finding outliers visually\n",
    "### I can now use plots to detect any outliers after checking the summary of the entire dataset. \n",
    "### I will first use the built-in summary(data) function to see what the data shows us and to see any anomalies, then will double check them with boxplots and distribution graphs by using the following code:\n",
    "### boxplot(df$column) and normal probablity plots ggplot(df, aes(sample = column)) + geom_qq() ### + stat_qq()."
   ]
  },
  {
   "cell_type": "code",
   "execution_count": 47,
   "id": "8bd5b1cf-6f31-4882-b18c-c28d5aefc0cc",
   "metadata": {},
   "outputs": [
    {
     "data": {
      "text/plain": [
       "      ...1         CaseOrder      Customer_id     Interaction   \n",
       " Min.   :    1   Min.   :    1   Min.   : NA     Min.   : NA    \n",
       " 1st Qu.: 2501   1st Qu.: 2501   1st Qu.: NA     1st Qu.: NA    \n",
       " Median : 5000   Median : 5000   Median : NA     Median : NA    \n",
       " Mean   : 5000   Mean   : 5000   Mean   :NaN     Mean   :NaN    \n",
       " 3rd Qu.: 7500   3rd Qu.: 7500   3rd Qu.: NA     3rd Qu.: NA    \n",
       " Max.   :10000   Max.   :10000   Max.   : NA     Max.   : NA    \n",
       "                                 NA's   :10000   NA's   :10000  \n",
       "      UID             City           State           County     \n",
       " Min.   : NA     Min.   : NA     Min.   : NA     Min.   : NA    \n",
       " 1st Qu.: NA     1st Qu.: NA     1st Qu.: NA     1st Qu.: NA    \n",
       " Median : NA     Median : NA     Median : NA     Median : NA    \n",
       " Mean   :NaN     Mean   :NaN     Mean   :NaN     Mean   :NaN    \n",
       " 3rd Qu.: NA     3rd Qu.: NA     3rd Qu.: NA     3rd Qu.: NA    \n",
       " Max.   : NA     Max.   : NA     Max.   : NA     Max.   : NA    \n",
       " NA's   :10000   NA's   :10000   NA's   :10000   NA's   :10000  \n",
       "      Zip             Lat             Lng            Population      \n",
       " Min.   :  610   Min.   :17.97   Min.   :-174.21   Min.   :     0.0  \n",
       " 1st Qu.:27592   1st Qu.:35.26   1st Qu.: -97.35   1st Qu.:   694.8  \n",
       " Median :50207   Median :39.42   Median : -88.40   Median :  2769.0  \n",
       " Mean   :50159   Mean   :38.75   Mean   : -91.24   Mean   :  9965.2  \n",
       " 3rd Qu.:72412   3rd Qu.:42.04   3rd Qu.: -80.44   3rd Qu.: 13945.0  \n",
       " Max.   :99929   Max.   :70.56   Max.   : -65.29   Max.   :122814.0  \n",
       "                                                                     \n",
       "      Area          Timezone          Job           Children     \n",
       " Min.   : NA     Min.   : NA     Min.   : NA     Min.   : 0.000  \n",
       " 1st Qu.: NA     1st Qu.: NA     1st Qu.: NA     1st Qu.: 0.000  \n",
       " Median : NA     Median : NA     Median : NA     Median : 1.000  \n",
       " Mean   :NaN     Mean   :NaN     Mean   :NaN     Mean   : 2.098  \n",
       " 3rd Qu.: NA     3rd Qu.: NA     3rd Qu.: NA     3rd Qu.: 3.000  \n",
       " Max.   : NA     Max.   : NA     Max.   : NA     Max.   :10.000  \n",
       " NA's   :10000   NA's   :10000   NA's   :10000   NA's   :2588    \n",
       "      Age         Education       Employment        Income        \n",
       " Min.   :18.0   Min.   : NA     Min.   : NA     Min.   :   154.1  \n",
       " 1st Qu.:35.0   1st Qu.: NA     1st Qu.: NA     1st Qu.: 19450.8  \n",
       " Median :53.0   Median : NA     Median : NA     Median : 33942.3  \n",
       " Mean   :53.3   Mean   :NaN     Mean   :NaN     Mean   : 40484.4  \n",
       " 3rd Qu.:71.0   3rd Qu.: NA     3rd Qu.: NA     3rd Qu.: 54075.2  \n",
       " Max.   :89.0   Max.   : NA     Max.   : NA     Max.   :207249.1  \n",
       " NA's   :2414   NA's   :10000   NA's   :10000   NA's   :2464      \n",
       "    Marital          Gender         ReAdmis       VitD_levels    \n",
       " Min.   : NA     Min.   : NA     Min.   : NA     Min.   : 9.519  \n",
       " 1st Qu.: NA     1st Qu.: NA     1st Qu.: NA     1st Qu.:16.513  \n",
       " Median : NA     Median : NA     Median : NA     Median :18.081  \n",
       " Mean   :NaN     Mean   :NaN     Mean   :NaN     Mean   :19.413  \n",
       " 3rd Qu.: NA     3rd Qu.: NA     3rd Qu.: NA     3rd Qu.:19.790  \n",
       " Max.   : NA     Max.   : NA     Max.   : NA     Max.   :53.019  \n",
       " NA's   :10000   NA's   :10000   NA's   :10000                   \n",
       "   Doc_visits    Full_meals_eaten   VitD_supp        Soft_drink   \n",
       " Min.   :1.000   Min.   :0.000    Min.   :0.0000   Min.   : NA    \n",
       " 1st Qu.:4.000   1st Qu.:0.000    1st Qu.:0.0000   1st Qu.: NA    \n",
       " Median :5.000   Median :1.000    Median :0.0000   Median : NA    \n",
       " Mean   :5.012   Mean   :1.001    Mean   :0.3989   Mean   :NaN    \n",
       " 3rd Qu.:6.000   3rd Qu.:2.000    3rd Qu.:1.0000   3rd Qu.: NA    \n",
       " Max.   :9.000   Max.   :7.000    Max.   :5.0000   Max.   : NA    \n",
       "                                                   NA's   :10000  \n",
       " Initial_admin     HighBlood         Stroke      Complication_risk\n",
       " Min.   : NA     Min.   : NA     Min.   : NA     Min.   : NA      \n",
       " 1st Qu.: NA     1st Qu.: NA     1st Qu.: NA     1st Qu.: NA      \n",
       " Median : NA     Median : NA     Median : NA     Median : NA      \n",
       " Mean   :NaN     Mean   :NaN     Mean   :NaN     Mean   :NaN      \n",
       " 3rd Qu.: NA     3rd Qu.: NA     3rd Qu.: NA     3rd Qu.: NA      \n",
       " Max.   : NA     Max.   : NA     Max.   : NA     Max.   : NA      \n",
       " NA's   :10000   NA's   :10000   NA's   :10000   NA's   :10000    \n",
       "   Overweight       Arthritis        Diabetes     Hyperlipidemia \n",
       " Min.   :0.0000   Min.   : NA     Min.   : NA     Min.   : NA    \n",
       " 1st Qu.:0.0000   1st Qu.: NA     1st Qu.: NA     1st Qu.: NA    \n",
       " Median :1.0000   Median : NA     Median : NA     Median : NA    \n",
       " Mean   :0.7091   Mean   :NaN     Mean   :NaN     Mean   :NaN    \n",
       " 3rd Qu.:1.0000   3rd Qu.: NA     3rd Qu.: NA     3rd Qu.: NA    \n",
       " Max.   :1.0000   Max.   : NA     Max.   : NA     Max.   : NA    \n",
       " NA's   :982      NA's   :10000   NA's   :10000   NA's   :10000  \n",
       "    BackPain        Anxiety       Allergic_rhinitis Reflux_esophagitis\n",
       " Min.   : NA     Min.   :0.0000   Min.   : NA       Min.   : NA       \n",
       " 1st Qu.: NA     1st Qu.:0.0000   1st Qu.: NA       1st Qu.: NA       \n",
       " Median : NA     Median :0.0000   Median : NA       Median : NA       \n",
       " Mean   :NaN     Mean   :0.3223   Mean   :NaN       Mean   :NaN       \n",
       " 3rd Qu.: NA     3rd Qu.:1.0000   3rd Qu.: NA       3rd Qu.: NA       \n",
       " Max.   : NA     Max.   :1.0000   Max.   : NA       Max.   : NA       \n",
       " NA's   :10000   NA's   :984      NA's   :10000     NA's   :10000     \n",
       "     Asthma         Services      Initial_days     TotalCharge   \n",
       " Min.   : NA     Min.   : NA     Min.   : 1.002   Min.   : 1257  \n",
       " 1st Qu.: NA     1st Qu.: NA     1st Qu.: 7.912   1st Qu.: 3253  \n",
       " Median : NA     Median : NA     Median :34.447   Median : 5852  \n",
       " Mean   :NaN     Mean   :NaN     Mean   :34.432   Mean   : 5892  \n",
       " 3rd Qu.: NA     3rd Qu.: NA     3rd Qu.:61.125   3rd Qu.: 7615  \n",
       " Max.   : NA     Max.   : NA     Max.   :71.981   Max.   :21524  \n",
       " NA's   :10000   NA's   :10000   NA's   :1056                    \n",
       " Additional_charges     Item1           Item2           Item3      \n",
       " Min.   : 3126      Min.   :1.000   Min.   :1.000   Min.   :1.000  \n",
       " 1st Qu.: 7986      1st Qu.:3.000   1st Qu.:3.000   1st Qu.:3.000  \n",
       " Median :11574      Median :4.000   Median :3.000   Median :4.000  \n",
       " Mean   :12935      Mean   :3.519   Mean   :3.507   Mean   :3.511  \n",
       " 3rd Qu.:15626      3rd Qu.:4.000   3rd Qu.:4.000   3rd Qu.:4.000  \n",
       " Max.   :30566      Max.   :8.000   Max.   :7.000   Max.   :8.000  \n",
       "                                                                   \n",
       "     Item4           Item5           Item6           Item7           Item8     \n",
       " Min.   :1.000   Min.   :1.000   Min.   :1.000   Min.   :1.000   Min.   :1.00  \n",
       " 1st Qu.:3.000   1st Qu.:3.000   1st Qu.:3.000   1st Qu.:3.000   1st Qu.:3.00  \n",
       " Median :4.000   Median :3.000   Median :4.000   Median :3.000   Median :3.00  \n",
       " Mean   :3.515   Mean   :3.497   Mean   :3.522   Mean   :3.494   Mean   :3.51  \n",
       " 3rd Qu.:4.000   3rd Qu.:4.000   3rd Qu.:4.000   3rd Qu.:4.000   3rd Qu.:4.00  \n",
       " Max.   :7.000   Max.   :7.000   Max.   :7.000   Max.   :7.000   Max.   :7.00  \n",
       "                                                                               "
      ]
     },
     "metadata": {},
     "output_type": "display_data"
    }
   ],
   "source": [
    "summary(medical)"
   ]
  },
  {
   "cell_type": "markdown",
   "id": "a44daa87-ce83-422e-aef1-2c9264effdb5",
   "metadata": {},
   "source": [
    "### Descriptive statistics \n",
    "We know that the `summary()` function automatically calculates the following summary statistics:\n",
    "- Min: The minimum value\n",
    "- 1st Qu: The value of the 1st quartile (25th percentile)\n",
    "- Median: The median value\n",
    "- 3rd Qu: The value of the 3rd quartile (75th percentile)\n",
    "- Max: The maximum value"
   ]
  },
  {
   "cell_type": "markdown",
   "id": "66c664fc-54e1-40c1-aff6-fbb69feb0322",
   "metadata": {},
   "source": [
    "### Based on what the summary shows us above, let's now double-check for outliers using plots. "
   ]
  },
  {
   "cell_type": "code",
   "execution_count": 39,
   "id": "24c7e3ca-5cf9-42d2-aeec-addce6200dc6",
   "metadata": {},
   "outputs": [
    {
     "data": {
      "image/png": "[encoded data removed]",
      "text/plain": [
       "plot without title"
      ]
     },
     "metadata": {
      "image/png": {
       "height": 420,
       "width": 420
      }
     },
     "output_type": "display_data"
    }
   ],
   "source": [
    "ggplot(medical, aes(sample = Children)) + geom_qq() + stat_qq()"
   ]
  },
  {
   "cell_type": "code",
   "execution_count": 49,
   "id": "d656f4ec-daca-4fa5-af26-4f94b4a217af",
   "metadata": {},
   "outputs": [
    {
     "data": {
      "image/png": "[encoded data removed]",
      "text/plain": [
       "plot without title"
      ]
     },
     "metadata": {
      "image/png": {
       "height": 420,
       "width": 420
      }
     },
     "output_type": "display_data"
    }
   ],
   "source": [
    "boxplot(medical$Children)"
   ]
  },
  {
   "cell_type": "code",
   "execution_count": 50,
   "id": "820194f1-cd3b-4b6b-b629-dc3d063ecd88",
   "metadata": {},
   "outputs": [
    {
     "data": {
      "image/png": "[encoded data removed]",
      "text/plain": [
       "plot without title"
      ]
     },
     "metadata": {
      "image/png": {
       "height": 420,
       "width": 420
      }
     },
     "output_type": "display_data"
    }
   ],
   "source": [
    "ggplot(medical, aes(sample = VitD_levels)) + geom_qq() + stat_qq()"
   ]
  },
  {
   "cell_type": "code",
   "execution_count": 51,
   "id": "a602a2ad-9f7b-4609-87c3-49ac71b43433",
   "metadata": {},
   "outputs": [
    {
     "data": {
      "image/png": "[encoded data removed]",
      "text/plain": [
       "plot without title"
      ]
     },
     "metadata": {
      "image/png": {
       "height": 420,
       "width": 420
      }
     },
     "output_type": "display_data"
    }
   ],
   "source": [
    "boxplot(medical$VitD_levels)"
   ]
  },
  {
   "cell_type": "code",
   "execution_count": 52,
   "id": "39bd938c-2844-4da5-9a5d-880651c5bf20",
   "metadata": {},
   "outputs": [
    {
     "data": {
      "image/png": "[encoded data removed]",
      "text/plain": [
       "plot without title"
      ]
     },
     "metadata": {
      "image/png": {
       "height": 420,
       "width": 420
      }
     },
     "output_type": "display_data"
    }
   ],
   "source": [
    "ggplot(medical, aes(sample = VitD_supp)) + geom_qq() + stat_qq()"
   ]
  },
  {
   "cell_type": "code",
   "execution_count": 53,
   "id": "779c435f-75bf-46c7-a5bf-de04404b2660",
   "metadata": {},
   "outputs": [
    {
     "data": {
      "image/png": "[encoded data removed]",
      "text/plain": [
       "plot without title"
      ]
     },
     "metadata": {
      "image/png": {
       "height": 420,
       "width": 420
      }
     },
     "output_type": "display_data"
    }
   ],
   "source": [
    "boxplot(medical$VitD_supp)"
   ]
  },
  {
   "cell_type": "code",
   "execution_count": 54,
   "id": "16d1f679-c1fd-4b3c-8e1a-73672d6e3811",
   "metadata": {},
   "outputs": [
    {
     "data": {
      "image/png": "[encoded data removed]",
      "text/plain": [
       "plot without title"
      ]
     },
     "metadata": {
      "image/png": {
       "height": 420,
       "width": 420
      }
     },
     "output_type": "display_data"
    }
   ],
   "source": [
    "ggplot(medical, aes(sample = Full_meals_eaten)) + geom_qq() + stat_qq()"
   ]
  },
  {
   "cell_type": "code",
   "execution_count": 55,
   "id": "05b38a17-a5f3-4872-84be-6fc7c0431a9d",
   "metadata": {},
   "outputs": [
    {
     "data": {
      "image/png": "[encoded data removed]",
      "text/plain": [
       "plot without title"
      ]
     },
     "metadata": {
      "image/png": {
       "height": 420,
       "width": 420
      }
     },
     "output_type": "display_data"
    }
   ],
   "source": [
    "boxplot(medical$Full_meals_eaten)"
   ]
  },
  {
   "cell_type": "code",
   "execution_count": 56,
   "id": "58eb11ba-21eb-4aeb-afd7-0e9c5b1ac4ac",
   "metadata": {},
   "outputs": [
    {
     "data": {
      "image/png": "[encoded data removed]",
      "text/plain": [
       "plot without title"
      ]
     },
     "metadata": {
      "image/png": {
       "height": 420,
       "width": 420
      }
     },
     "output_type": "display_data"
    }
   ],
   "source": [
    "ggplot(medical, aes(sample = Population)) + geom_qq() + stat_qq()"
   ]
  },
  {
   "cell_type": "code",
   "execution_count": 57,
   "id": "8bc9b305-ff7c-4d06-9f36-1dca18a56f6a",
   "metadata": {},
   "outputs": [
    {
     "data": {
      "image/png": "[encoded data removed]",
      "text/plain": [
       "plot without title"
      ]
     },
     "metadata": {
      "image/png": {
       "height": 420,
       "width": 420
      }
     },
     "output_type": "display_data"
    }
   ],
   "source": [
    "boxplot(medical$Population)"
   ]
  },
  {
   "cell_type": "code",
   "execution_count": 37,
   "id": "0e7d37fe-dc64-458c-8d86-36332e267a22",
   "metadata": {},
   "outputs": [
    {
     "data": {
      "image/png": "[encoded data removed]",
      "text/plain": [
       "plot without title"
      ]
     },
     "metadata": {
      "image/png": {
       "height": 420,
       "width": 420
      }
     },
     "output_type": "display_data"
    }
   ],
   "source": [
    "ggplot(medical, aes(sample = Income)) + geom_qq() + stat_qq()"
   ]
  },
  {
   "cell_type": "code",
   "execution_count": 59,
   "id": "5a122823-366e-4fac-85c1-3d9146be5912",
   "metadata": {},
   "outputs": [
    {
     "data": {
      "image/png": "[encoded data removed]",
      "text/plain": [
       "plot without title"
      ]
     },
     "metadata": {
      "image/png": {
       "height": 420,
       "width": 420
      }
     },
     "output_type": "display_data"
    }
   ],
   "source": [
    "boxplot(medical$Income)"
   ]
  },
  {
   "cell_type": "markdown",
   "id": "b35325ae-6c06-4304-b83d-19a5b6f9cb93",
   "metadata": {},
   "source": [
    "### The results for number 3 show that the following columns had outliers confirmed by plots above: children, vitamin D levels, vitamin D supplements, full meals eaten, population, and income."
   ]
  },
  {
   "cell_type": "markdown",
   "id": "dbb6a70a-1d26-4898-a9c2-0f747ea79376",
   "metadata": {},
   "source": [
    "### 4- So what does all of this mean? I will need to impute/mitigate the missing NAs because removing them based on our results found above could severely skew the data. "
   ]
  },
  {
   "cell_type": "code",
   "execution_count": 60,
   "id": "55cafd25-e899-456d-b8c0-82080f5bab56",
   "metadata": {},
   "outputs": [],
   "source": [
    "medical$Children[is.na(medical$Children)]<-median(medical$Children, na.rm=TRUE)"
   ]
  },
  {
   "cell_type": "code",
   "execution_count": 61,
   "id": "a7970953-c3ef-4288-adeb-9ffb499cb8ed",
   "metadata": {},
   "outputs": [],
   "source": [
    "medical$Age[is.na(medical$Age)]<-median(medical$Age, na.rm=TRUE)"
   ]
  },
  {
   "cell_type": "code",
   "execution_count": 62,
   "id": "30e6e887-a965-448a-9f54-23bc65f38b6e",
   "metadata": {},
   "outputs": [],
   "source": [
    "medical$Income[is.na(medical$Income)]<-median(medical$Income, na.rm=TRUE)"
   ]
  },
  {
   "cell_type": "code",
   "execution_count": 63,
   "id": "cecb3b26-93aa-4d3f-8375-1188bcc2bce7",
   "metadata": {},
   "outputs": [],
   "source": [
    "medical$Overweight[is.na(medical$Overweight)]<-median(medical$Overweight, na.rm=TRUE)"
   ]
  },
  {
   "cell_type": "code",
   "execution_count": 64,
   "id": "b7b26492-0f18-4ec1-b304-4be930ddb779",
   "metadata": {},
   "outputs": [],
   "source": [
    "medical$Anxiety[is.na(medical$Anxiety)]<-median(medical$Anxiety, na.rm=TRUE)"
   ]
  },
  {
   "cell_type": "code",
   "execution_count": 65,
   "id": "850a6d2a-92bd-43e4-be13-7963631333ee",
   "metadata": {},
   "outputs": [],
   "source": [
    "medical$Soft_drink[is.na(medical$Soft_drink)]<-median(medical$Soft_drink, na.rm = TRUE)"
   ]
  },
  {
   "cell_type": "markdown",
   "id": "58103648-85d4-44f2-a95a-d3cabd8d29d9",
   "metadata": {},
   "source": [
    "#### The data is now clean. We can now proceed to the PCA. "
   ]
  },
  {
   "cell_type": "markdown",
   "id": "3fb771d7-7693-4447-9af5-4dc3edf73c32",
   "metadata": {},
   "source": [
    "## Part 3- E: Principal Component Analysis (PCA)\n",
    "## The PCA is a method for creating related groupings of variables."
   ]
  },
  {
   "cell_type": "markdown",
   "id": "236c8268-0d6f-4d7d-a7ce-1500626337db",
   "metadata": {},
   "source": [
    "### I need to load in some more packages to do the PCA."
   ]
  },
  {
   "cell_type": "code",
   "execution_count": 77,
   "id": "ca815388-7f1e-4add-8147-d355b4534269",
   "metadata": {},
   "outputs": [],
   "source": [
    "install.packages(\"FactoMineR\")\n"
   ]
  },
  {
   "cell_type": "code",
   "execution_count": 35,
   "id": "1f55e33c-3bab-4f8f-bcef-eb8bff65a2e3",
   "metadata": {},
   "outputs": [],
   "source": [
    "library(\"FactoMineR\")"
   ]
  },
  {
   "cell_type": "markdown",
   "id": "22e685c1-8d24-48f5-a7e6-3a6345943341",
   "metadata": {},
   "source": [
    "### Standardization"
   ]
  },
  {
   "cell_type": "code",
   "execution_count": 79,
   "id": "e2f87f15-edde-4705-84e8-6e087a2906b3",
   "metadata": {},
   "outputs": [
    {
     "data": {
      "text/html": [
       "<table class=\"dataframe\">\n",
       "<caption>A matrix: 6 × 3 of type dbl</caption>\n",
       "<thead>\n",
       "\t<tr><th scope=col>Children</th><th scope=col>Age</th><th scope=col>Overweight</th></tr>\n",
       "</thead>\n",
       "<tbody>\n",
       "\t<tr><td>-0.5095136</td><td>-0.0143121</td><td>-1.5613384</td></tr>\n",
       "\t<tr><td> 0.4183770</td><td>-0.1111214</td><td> 0.6404051</td></tr>\n",
       "\t<tr><td> 0.4183770</td><td>-0.0143121</td><td> 0.6404051</td></tr>\n",
       "\t<tr><td>-0.9734589</td><td> 1.1958036</td><td>-1.5613384</td></tr>\n",
       "\t<tr><td>        NA</td><td>-1.5148555</td><td>-1.5613384</td></tr>\n",
       "\t<tr><td>        NA</td><td> 1.0989943</td><td> 0.6404051</td></tr>\n",
       "</tbody>\n",
       "</table>\n"
      ],
      "text/latex": [
       "A matrix: 6 × 3 of type dbl\n",
       "\\begin{tabular}{lll}\n",
       " Children & Age & Overweight\\\\\n",
       "\\hline\n",
       "\t -0.5095136 & -0.0143121 & -1.5613384\\\\\n",
       "\t  0.4183770 & -0.1111214 &  0.6404051\\\\\n",
       "\t  0.4183770 & -0.0143121 &  0.6404051\\\\\n",
       "\t -0.9734589 &  1.1958036 & -1.5613384\\\\\n",
       "\t         NA & -1.5148555 & -1.5613384\\\\\n",
       "\t         NA &  1.0989943 &  0.6404051\\\\\n",
       "\\end{tabular}\n"
      ],
      "text/markdown": [
       "\n",
       "A matrix: 6 × 3 of type dbl\n",
       "\n",
       "| Children | Age | Overweight |\n",
       "|---|---|---|\n",
       "| -0.5095136 | -0.0143121 | -1.5613384 |\n",
       "|  0.4183770 | -0.1111214 |  0.6404051 |\n",
       "|  0.4183770 | -0.0143121 |  0.6404051 |\n",
       "| -0.9734589 |  1.1958036 | -1.5613384 |\n",
       "|         NA | -1.5148555 | -1.5613384 |\n",
       "|         NA |  1.0989943 |  0.6404051 |\n",
       "\n"
      ],
      "text/plain": [
       "     Children   Age        Overweight\n",
       "[1,] -0.5095136 -0.0143121 -1.5613384\n",
       "[2,]  0.4183770 -0.1111214  0.6404051\n",
       "[3,]  0.4183770 -0.0143121  0.6404051\n",
       "[4,] -0.9734589  1.1958036 -1.5613384\n",
       "[5,]         NA -1.5148555 -1.5613384\n",
       "[6,]         NA  1.0989943  0.6404051"
      ]
     },
     "metadata": {},
     "output_type": "display_data"
    }
   ],
   "source": [
    "medical_sub <- scale(x = medical[,c(16, 17, 33)])\n",
    "head(medical_sub)"
   ]
  },
  {
   "cell_type": "markdown",
   "id": "2a237d08-2660-4882-938a-e79bfa6d29d4",
   "metadata": {},
   "source": [
    "### PCA"
   ]
  },
  {
   "cell_type": "code",
   "execution_count": 80,
   "id": "c77017e1-8aeb-40cb-8ed5-62ec2a9326ff",
   "metadata": {},
   "outputs": [],
   "source": [
    "medical_sub.pca <- PCA(medical_sub, scale.unit=TRUE, graph=F)"
   ]
  },
  {
   "cell_type": "markdown",
   "id": "a40c560f-f1c8-4e4a-9477-873ddeca347f",
   "metadata": {},
   "source": [
    "### Scree Plot"
   ]
  },
  {
   "cell_type": "code",
   "execution_count": 81,
   "id": "d7aac087-e36c-4780-babb-e93c9617dfff",
   "metadata": {},
   "outputs": [
    {
     "data": {
      "image/png": "[encoded data removed]",
      "text/plain": [
       "Plot with title \"Variance (%)\""
      ]
     },
     "metadata": {
      "image/png": {
       "height": 420,
       "width": 420
      }
     },
     "output_type": "display_data"
    }
   ],
   "source": [
    "eig.val <- medical_sub.pca$eig\n",
    "\n",
    "barplot(eig.val[, 2],\n",
    "\n",
    "        main = \"Variance (%)\",\n",
    "\n",
    "        xlab = \"Components\",\n",
    "\n",
    "        ylab = \"(%) of Variance\",\n",
    "\n",
    "        col = \"darkgreen\")"
   ]
  },
  {
   "cell_type": "markdown",
   "id": "2e8b244a-0662-4acc-a748-e48bf65aefb9",
   "metadata": {},
   "source": [
    "### PCA graph of variables"
   ]
  },
  {
   "cell_type": "code",
   "execution_count": 82,
   "id": "9c7a8617-b7c6-490b-bdd6-02c0e8db78e3",
   "metadata": {},
   "outputs": [
    {
     "data": {
      "image/png": "[encoded data removed]",
      "text/plain": [
       "plot without title"
      ]
     },
     "metadata": {
      "image/png": {
       "height": 420,
       "width": 420
      }
     },
     "output_type": "display_data"
    }
   ],
   "source": [
    "plot(medical_sub.pca, choix = \"var\", autoLab = \"auto\", col.var=\"darkgreen\", label=\"var\", graph.type = \"ggplot\", select=\"cos2 0.40\")"
   ]
  },
  {
   "cell_type": "markdown",
   "id": "18d9f6fa-270d-4f0d-bcc8-b69037856239",
   "metadata": {},
   "source": [
    "### According to the above graph, the three variables that make up my research question don't appear to be correlated. "
   ]
  },
  {
   "cell_type": "markdown",
   "id": "b80fce8f-b49e-46a3-b2a3-6775a0757f98",
   "metadata": {},
   "source": [
    "### Wonderful! All we need to finish now is writing the clean data to CSV with the code write.csv(medical,\"C:\\\\Users\\\\Jilian\\\\Desktop\\\\medical.csv\", row.names = TRUE)"
   ]
  },
  {
   "cell_type": "code",
   "execution_count": 28,
   "id": "f917d885-3fcc-4a09-ad20-fef900c494cb",
   "metadata": {},
   "outputs": [],
   "source": [
    "write.csv(medical, \"C:\\\\Users\\\\Jilian\\\\Desktop\\\\medical.csv\", row.names = TRUE)"
   ]
  },
  {
   "cell_type": "code",
   "execution_count": 29,
   "id": "444e43c9-858a-4a8e-851a-c1761b98caf8",
   "metadata": {},
   "outputs": [
    {
     "data": {
      "text/html": [
       "<table class=\"dataframe\">\n",
       "<caption>A spec_tbl_df: 10000 × 53</caption>\n",
       "<thead>\n",
       "\t<tr><th scope=col>...1</th><th scope=col>CaseOrder</th><th scope=col>Customer_id</th><th scope=col>Interaction</th><th scope=col>UID</th><th scope=col>City</th><th scope=col>State</th><th scope=col>County</th><th scope=col>Zip</th><th scope=col>Lat</th><th scope=col>...</th><th scope=col>TotalCharge</th><th scope=col>Additional_charges</th><th scope=col>Item1</th><th scope=col>Item2</th><th scope=col>Item3</th><th scope=col>Item4</th><th scope=col>Item5</th><th scope=col>Item6</th><th scope=col>Item7</th><th scope=col>Item8</th></tr>\n",
       "\t<tr><th scope=col>&lt;dbl&gt;</th><th scope=col>&lt;dbl&gt;</th><th scope=col>&lt;chr&gt;</th><th scope=col>&lt;chr&gt;</th><th scope=col>&lt;chr&gt;</th><th scope=col>&lt;chr&gt;</th><th scope=col>&lt;chr&gt;</th><th scope=col>&lt;chr&gt;</th><th scope=col>&lt;dbl&gt;</th><th scope=col>&lt;dbl&gt;</th><th scope=col>...</th><th scope=col>&lt;dbl&gt;</th><th scope=col>&lt;dbl&gt;</th><th scope=col>&lt;dbl&gt;</th><th scope=col>&lt;dbl&gt;</th><th scope=col>&lt;dbl&gt;</th><th scope=col>&lt;dbl&gt;</th><th scope=col>&lt;dbl&gt;</th><th scope=col>&lt;dbl&gt;</th><th scope=col>&lt;dbl&gt;</th><th scope=col>&lt;dbl&gt;</th></tr>\n",
       "</thead>\n",
       "<tbody>\n",
       "\t<tr><td> 1</td><td> 1</td><td>C412403</td><td>8cd49b13-f45a-4b47-a2bd-173ffa932c2f</td><td>3a83ddb66e2ae73798bdf1d705dc0932</td><td>Eva          </td><td>AL</td><td>Morgan      </td><td>35621</td><td>34.34960</td><td>...</td><td> 3191.049</td><td>17939.403</td><td>3</td><td>3</td><td>2</td><td>2</td><td>4</td><td>3</td><td>3</td><td>4</td></tr>\n",
       "\t<tr><td> 2</td><td> 2</td><td>Z919181</td><td>d2450b70-0337-4406-bdbb-bc1037f1734c</td><td>176354c5eef714957d486009feabf195</td><td>Marianna     </td><td>FL</td><td>Jackson     </td><td>32446</td><td>30.84513</td><td>...</td><td> 4214.905</td><td>17612.998</td><td>3</td><td>4</td><td>3</td><td>4</td><td>4</td><td>4</td><td>3</td><td>3</td></tr>\n",
       "\t<tr><td> 3</td><td> 3</td><td>F995323</td><td>a2057123-abf5-4a2c-abad-8ffe33512562</td><td>e19a0fa00aeda885b8a436757e889bc9</td><td>Sioux Falls  </td><td>SD</td><td>Minnehaha   </td><td>57110</td><td>43.54321</td><td>...</td><td> 2177.587</td><td>17505.192</td><td>2</td><td>4</td><td>4</td><td>4</td><td>3</td><td>4</td><td>3</td><td>3</td></tr>\n",
       "\t<tr><td> 4</td><td> 4</td><td>A879973</td><td>1dec528d-eb34-4079-adce-0d7a40e82205</td><td>cd17d7b6d152cb6f23957346d11c3f07</td><td>New Richland </td><td>MN</td><td>Waseca      </td><td>56072</td><td>43.89744</td><td>...</td><td> 2465.119</td><td>12993.437</td><td>3</td><td>5</td><td>5</td><td>3</td><td>4</td><td>5</td><td>5</td><td>5</td></tr>\n",
       "\t<tr><td> 5</td><td> 5</td><td>C544523</td><td>5885f56b-d6da-43a3-8760-83583af94266</td><td>d2f0425877b10ed6bb381f3e2579424a</td><td>West Point   </td><td>VA</td><td>King William</td><td>23181</td><td>37.59894</td><td>...</td><td> 1885.655</td><td> 3716.526</td><td>2</td><td>1</td><td>3</td><td>3</td><td>5</td><td>3</td><td>4</td><td>3</td></tr>\n",
       "\t<tr><td> 6</td><td> 6</td><td>S543885</td><td>e3b0a319-9e2e-4a23-8752-2fdc736c30f4</td><td>03e447146d4a32e1aaf75727c3d1230c</td><td>Braggs       </td><td>OK</td><td>Muskogee    </td><td>74423</td><td>35.67302</td><td>...</td><td> 2774.090</td><td>12742.590</td><td>4</td><td>5</td><td>4</td><td>4</td><td>3</td><td>5</td><td>4</td><td>6</td></tr>\n",
       "\t<tr><td> 7</td><td> 7</td><td>E543302</td><td>2fccb53e-bd9a-4eaa-a53c-9dfc0cb83f94</td><td>e4884a42ba809df6a89ded6c97f460d4</td><td>Thompson     </td><td>OH</td><td>Geauga      </td><td>44086</td><td>41.67511</td><td>...</td><td> 3533.292</td><td>16815.514</td><td>4</td><td>3</td><td>3</td><td>2</td><td>3</td><td>4</td><td>5</td><td>5</td></tr>\n",
       "\t<tr><td> 8</td><td> 8</td><td>K477307</td><td>ab634508-dd8c-42e5-a4e4-d101a46f2431</td><td>5f78b8699d1aa9b950b562073f629ca2</td><td>Strasburg    </td><td>VA</td><td>Shenandoah  </td><td>22641</td><td>39.08062</td><td>...</td><td> 3316.400</td><td> 6930.572</td><td>1</td><td>2</td><td>2</td><td>5</td><td>4</td><td>2</td><td>4</td><td>2</td></tr>\n",
       "\t<tr><td> 9</td><td> 9</td><td>Q870521</td><td>67b386eb-1d04-4020-9474-542a09d304e3</td><td>e8e016144bfbe14974752d834f530e26</td><td>Panama City  </td><td>FL</td><td>Bay         </td><td>32404</td><td>30.20097</td><td>...</td><td> 2922.760</td><td> 8363.187</td><td>3</td><td>3</td><td>2</td><td>3</td><td>3</td><td>3</td><td>4</td><td>2</td></tr>\n",
       "\t<tr><td>10</td><td>10</td><td>Z229385</td><td>5acd5dd3-f0ae-41c7-9540-cf3e4ecb2e27</td><td>687e7ba1b80022c310fa2d4b00db199a</td><td>Paynesville  </td><td>MN</td><td>Stearns     </td><td>56362</td><td>45.40325</td><td>...</td><td> 3709.548</td><td>26225.990</td><td>5</td><td>5</td><td>5</td><td>3</td><td>4</td><td>2</td><td>3</td><td>2</td></tr>\n",
       "\t<tr><td>11</td><td>11</td><td>V593392</td><td>f79fac5c-6143-4333-91c1-da4d283db35f</td><td>4c2b0a61d8352835b59d74fc46a11b71</td><td>Daleville    </td><td>MS</td><td>Lauderdale  </td><td>39326</td><td>32.59914</td><td>...</td><td> 3042.387</td><td>18518.043</td><td>3</td><td>3</td><td>4</td><td>4</td><td>2</td><td>5</td><td>2</td><td>3</td></tr>\n",
       "\t<tr><td>12</td><td>12</td><td>X459469</td><td>cc050bb7-3b61-4934-b0fe-61bd0ec79dfd</td><td>5e1aa1c71a30c77a542c68452793b986</td><td>Casselberry  </td><td>FL</td><td>Seminole    </td><td>32707</td><td>28.66268</td><td>...</td><td>14804.319</td><td>21480.886</td><td>4</td><td>5</td><td>5</td><td>5</td><td>3</td><td>3</td><td>3</td><td>3</td></tr>\n",
       "\t<tr><td>13</td><td>13</td><td>N755131</td><td>103b3846-6933-452b-a66b-a59a18d29d57</td><td>e2b9d07fa9d57d7e411299f47abcc505</td><td>Saint Francis</td><td>WI</td><td>Milwaukee   </td><td>53235</td><td>42.97168</td><td>...</td><td> 2622.024</td><td> 7357.827</td><td>4</td><td>4</td><td>2</td><td>4</td><td>5</td><td>2</td><td>4</td><td>3</td></tr>\n",
       "\t<tr><td>14</td><td>14</td><td>D550524</td><td>542acef9-365b-4cf4-a92e-21bdf28830d4</td><td>11242d7514ece3946f167db79410254b</td><td>Denison      </td><td>IA</td><td>Crawford    </td><td>51442</td><td>42.03038</td><td>...</td><td> 1919.147</td><td> 8454.613</td><td>3</td><td>3</td><td>3</td><td>5</td><td>4</td><td>5</td><td>3</td><td>2</td></tr>\n",
       "\t<tr><td>15</td><td>15</td><td>T490287</td><td>19caf80a-cdc4-43a7-890d-72b07a62e5be</td><td>fa79d3f149c5ff752044070cb272ef15</td><td>Sioux Center </td><td>IA</td><td>Sioux       </td><td>51250</td><td>43.08426</td><td>...</td><td> 2330.423</td><td>14382.229</td><td>4</td><td>5</td><td>5</td><td>4</td><td>5</td><td>3</td><td>3</td><td>5</td></tr>\n",
       "\t<tr><td>16</td><td>16</td><td>G169983</td><td>a38fe3ce-976a-478b-a014-33ac71f24ea9</td><td>8e866e2402ea8db6d0584209f714ee2d</td><td>Huntsville   </td><td>AL</td><td>Madison     </td><td>35811</td><td>34.79693</td><td>...</td><td> 2228.684</td><td> 9415.372</td><td>4</td><td>5</td><td>4</td><td>4</td><td>4</td><td>3</td><td>3</td><td>3</td></tr>\n",
       "\t<tr><td>17</td><td>17</td><td>O377757</td><td>7faf0261-bc66-489a-a8ba-fec333485254</td><td>728333940561457a9feba1e1dc763258</td><td>Blythe       </td><td>CA</td><td>Riverside   </td><td>92225</td><td>33.74647</td><td>...</td><td> 2938.953</td><td> 8157.752</td><td>5</td><td>4</td><td>5</td><td>2</td><td>4</td><td>3</td><td>4</td><td>3</td></tr>\n",
       "\t<tr><td>18</td><td>18</td><td>I745784</td><td>c173d889-8d12-4375-819e-cd83902c9de8</td><td>a8437eadfb17988b7d7fedcc0468664e</td><td>Matthews     </td><td>IN</td><td>Grant       </td><td>46957</td><td>40.38836</td><td>...</td><td> 2631.702</td><td> 9539.219</td><td>4</td><td>4</td><td>3</td><td>5</td><td>2</td><td>4</td><td>5</td><td>4</td></tr>\n",
       "\t<tr><td>19</td><td>19</td><td>D139360</td><td>9a1a84da-d99e-47f7-9865-1ef046db34d3</td><td>0bcee05e1fc26d492f0559675ab318b0</td><td>Lignum       </td><td>VA</td><td>Culpeper    </td><td>22726</td><td>38.40136</td><td>...</td><td> 2990.086</td><td>23453.358</td><td>3</td><td>4</td><td>4</td><td>3</td><td>4</td><td>2</td><td>3</td><td>2</td></tr>\n",
       "\t<tr><td>20</td><td>20</td><td>Y964627</td><td>e655e7c9-6d10-4817-bdb2-f3b34716d0e0</td><td>7dd9f4cf50d66af07b37fa8951957d72</td><td>Mora         </td><td>MO</td><td>Pettis      </td><td>65345</td><td>38.54040</td><td>...</td><td> 4026.967</td><td>14051.435</td><td>2</td><td>2</td><td>2</td><td>4</td><td>4</td><td>3</td><td>5</td><td>1</td></tr>\n",
       "\t<tr><td>21</td><td>21</td><td>G754212</td><td>59bfca8f-18ae-4a81-a531-6597ab6d6352</td><td>d49dab16a42bad5d54e2691b1b021f94</td><td>Saint Paul   </td><td>MN</td><td>Ramsey      </td><td>55103</td><td>44.96425</td><td>...</td><td> 3772.157</td><td>28788.080</td><td>3</td><td>3</td><td>4</td><td>4</td><td>3</td><td>3</td><td>3</td><td>1</td></tr>\n",
       "\t<tr><td>22</td><td>22</td><td>J10137 </td><td>abd4baf3-c937-4353-af45-75d119579c04</td><td>77c1f9fa56ab519aa9fe456d365e7174</td><td>Maybee       </td><td>MI</td><td>Monroe      </td><td>48159</td><td>42.02415</td><td>...</td><td> 3252.272</td><td> 9128.650</td><td>4</td><td>4</td><td>4</td><td>3</td><td>3</td><td>4</td><td>4</td><td>4</td></tr>\n",
       "\t<tr><td>23</td><td>23</td><td>S147737</td><td>7b553658-a4e2-48f0-a81b-d70d2c1b6c02</td><td>34898a0f4109efc1b2415ca01ce450de</td><td>Big Springs  </td><td>NE</td><td>Deuel       </td><td>69122</td><td>41.13007</td><td>...</td><td> 3810.395</td><td>11112.139</td><td>4</td><td>5</td><td>5</td><td>3</td><td>5</td><td>6</td><td>3</td><td>5</td></tr>\n",
       "\t<tr><td>24</td><td>24</td><td>Y454618</td><td>cbe8390d-84d6-4cd9-b25d-bf1a154235c8</td><td>bf6eb8bbc86ade8a382121b6e07944ed</td><td>Quapaw       </td><td>OK</td><td>Ottawa      </td><td>74363</td><td>36.95315</td><td>...</td><td> 3532.603</td><td>12876.792</td><td>4</td><td>4</td><td>3</td><td>4</td><td>2</td><td>3</td><td>6</td><td>4</td></tr>\n",
       "\t<tr><td>25</td><td>25</td><td>Y563432</td><td>ca1e9204-516e-4145-869c-fdc66a5e3063</td><td>2eeedddcddd8e1eaa9d137babc330b4f</td><td>Campbellton  </td><td>FL</td><td>Jackson     </td><td>32426</td><td>30.94714</td><td>...</td><td> 3971.110</td><td> 3624.049</td><td>4</td><td>3</td><td>4</td><td>4</td><td>3</td><td>4</td><td>2</td><td>2</td></tr>\n",
       "\t<tr><td>26</td><td>26</td><td>K724599</td><td>c7786ca5-645f-4cbb-bc63-ab46fb4cd7b3</td><td>cb936298236ad2514aab161272d729ca</td><td>Ludlow       </td><td>PA</td><td>McKean      </td><td>16333</td><td>41.70345</td><td>...</td><td> 3614.977</td><td>25364.431</td><td>3</td><td>3</td><td>3</td><td>3</td><td>3</td><td>4</td><td>4</td><td>6</td></tr>\n",
       "\t<tr><td>27</td><td>27</td><td>O199825</td><td>d50f6d64-c498-48f0-8270-dd90df4e1809</td><td>77a87c259047ead6c57aca8d8b7a763a</td><td>Pickens      </td><td>AR</td><td>Desha       </td><td>71662</td><td>33.84200</td><td>...</td><td> 2953.797</td><td> 8485.173</td><td>4</td><td>4</td><td>4</td><td>4</td><td>2</td><td>3</td><td>4</td><td>5</td></tr>\n",
       "\t<tr><td>28</td><td>28</td><td>M914791</td><td>a06a673d-e46e-4da1-9b3c-31670d9ccbdf</td><td>2e7e96cb1ad0cce6235e7ba9d70f2d00</td><td>Swiss        </td><td>WV</td><td>Fayette     </td><td>26690</td><td>38.22553</td><td>...</td><td> 4060.337</td><td>12417.640</td><td>3</td><td>3</td><td>3</td><td>2</td><td>3</td><td>5</td><td>2</td><td>3</td></tr>\n",
       "\t<tr><td>29</td><td>29</td><td>L97365 </td><td>2ce873ac-20a0-49b6-af7d-296b44388ffe</td><td>492ca3b3ffb9bafe810853ab4efbfbc5</td><td>Middlefield  </td><td>OH</td><td>Geauga      </td><td>44062</td><td>41.45764</td><td>...</td><td> 3656.830</td><td>22890.097</td><td>2</td><td>3</td><td>3</td><td>2</td><td>4</td><td>3</td><td>4</td><td>4</td></tr>\n",
       "\t<tr><td>30</td><td>30</td><td>S496387</td><td>788dd722-6f14-4e0e-a728-573c0fa42379</td><td>523ff7b6eabb75776d99b46e626cc46e</td><td>Arlington    </td><td>IA</td><td>Fayette     </td><td>50606</td><td>42.74733</td><td>...</td><td> 3331.824</td><td> 9801.759</td><td>2</td><td>3</td><td>2</td><td>2</td><td>6</td><td>2</td><td>3</td><td>2</td></tr>\n",
       "\t<tr><td>...</td><td>...</td><td>...</td><td>...</td><td>...</td><td>...</td><td>...</td><td>...</td><td>...</td><td>...</td><td></td><td>...</td><td>...</td><td>...</td><td>...</td><td>...</td><td>...</td><td>...</td><td>...</td><td>...</td><td>...</td></tr>\n",
       "\t<tr><td> 9971</td><td> 9971</td><td>P861904</td><td>03e336b0-87d9-4596-8ae2-736df5483f15</td><td>52e89bfc8ebf8443529a553a69e88293</td><td>Bethesda           </td><td>MD</td><td>Montgomery  </td><td>20816</td><td>38.95591</td><td>...</td><td> 6365.300</td><td> 6667.627</td><td>3</td><td>3</td><td>3</td><td>3</td><td>4</td><td>3</td><td>3</td><td>2</td></tr>\n",
       "\t<tr><td> 9972</td><td> 9972</td><td>K874758</td><td>56095044-286a-4d65-8347-bfd5680a1fa9</td><td>c313d637cdbbfd6d3e27834ab8d42c1d</td><td>Stratford          </td><td>CA</td><td>Kings       </td><td>93266</td><td>36.15725</td><td>...</td><td> 6842.784</td><td> 9605.539</td><td>4</td><td>4</td><td>3</td><td>4</td><td>4</td><td>5</td><td>2</td><td>4</td></tr>\n",
       "\t<tr><td> 9973</td><td> 9973</td><td>S844348</td><td>88acd37d-32ef-4f18-93ca-15a664434831</td><td>b814097a631fd103ed32b26acf5e197a</td><td>East Lynn          </td><td>WV</td><td>Wayne       </td><td>25512</td><td>38.18654</td><td>...</td><td> 7595.974</td><td> 4576.672</td><td>5</td><td>4</td><td>5</td><td>4</td><td>4</td><td>3</td><td>4</td><td>2</td></tr>\n",
       "\t<tr><td> 9974</td><td> 9974</td><td>L875086</td><td>c37f4424-ae86-4016-ab6d-3e0e796c8c01</td><td>66e2232f5990f96113aaef19bc9ad3a4</td><td>Canton             </td><td>OH</td><td>Stark       </td><td>44721</td><td>40.89412</td><td>...</td><td>18579.481</td><td> 4430.436</td><td>3</td><td>3</td><td>3</td><td>4</td><td>3</td><td>4</td><td>5</td><td>4</td></tr>\n",
       "\t<tr><td> 9975</td><td> 9975</td><td>U876816</td><td>a3cea1da-66ad-44a1-b4cf-51870f1f44c1</td><td>5d028a10d5db21e3afcd1e17bb6ddd2e</td><td>Seale              </td><td>AL</td><td>Russell     </td><td>36875</td><td>32.33317</td><td>...</td><td> 6752.010</td><td> 7631.056</td><td>4</td><td>3</td><td>4</td><td>3</td><td>4</td><td>3</td><td>3</td><td>3</td></tr>\n",
       "\t<tr><td> 9976</td><td> 9976</td><td>G252027</td><td>d6c2499d-4705-4db0-a53a-2cbbb98e31ff</td><td>228117725e74720397e27bd89d07cf3c</td><td>Brownville Junction</td><td>ME</td><td>Piscataquis </td><td> 4415</td><td>45.38263</td><td>...</td><td> 8571.286</td><td>14901.936</td><td>5</td><td>5</td><td>4</td><td>2</td><td>3</td><td>3</td><td>3</td><td>3</td></tr>\n",
       "\t<tr><td> 9977</td><td> 9977</td><td>J280152</td><td>322b520c-08a8-4249-9695-4d21feb075f7</td><td>32ec98d54f073fb30c7678738ecb5ef4</td><td>Tolland            </td><td>CT</td><td>Tolland     </td><td> 6084</td><td>41.87892</td><td>...</td><td> 7079.759</td><td>24562.155</td><td>4</td><td>5</td><td>4</td><td>3</td><td>3</td><td>4</td><td>3</td><td>6</td></tr>\n",
       "\t<tr><td> 9978</td><td> 9978</td><td>V527887</td><td>ff4f2468-1da3-4787-846e-17dbeaf1d7bf</td><td>79be95e16c17f5a5885e6bf3430bbdfc</td><td>West Union         </td><td>WV</td><td>Doddridge   </td><td>26456</td><td>39.27989</td><td>...</td><td> 7656.160</td><td>11755.062</td><td>4</td><td>3</td><td>4</td><td>2</td><td>6</td><td>2</td><td>1</td><td>2</td></tr>\n",
       "\t<tr><td> 9979</td><td> 9979</td><td>H473893</td><td>4b74a424-6103-4832-a0a2-b30d8b4745a3</td><td>c567f98ea642877676097db385830908</td><td>Fairmont           </td><td>NC</td><td>Robeson     </td><td>28340</td><td>34.47200</td><td>...</td><td> 5090.395</td><td>13712.421</td><td>3</td><td>2</td><td>3</td><td>2</td><td>5</td><td>2</td><td>1</td><td>4</td></tr>\n",
       "\t<tr><td> 9980</td><td> 9980</td><td>N576321</td><td>d9d8473b-3793-46f8-ade9-79212c1cb175</td><td>7ca42667e4bcff078315bdf880b9ee1f</td><td>Tremont            </td><td>MS</td><td>Itawamba    </td><td>38876</td><td>34.21787</td><td>...</td><td> 8252.709</td><td> 4044.245</td><td>3</td><td>3</td><td>5</td><td>3</td><td>3</td><td>4</td><td>5</td><td>4</td></tr>\n",
       "\t<tr><td> 9981</td><td> 9981</td><td>L948946</td><td>20cd0ba3-af84-4011-ad29-3cff684e249d</td><td>32bac1757efbd94c1ab2c84d1229469c</td><td>Fillmore           </td><td>IN</td><td>Putnam      </td><td>46128</td><td>39.65568</td><td>...</td><td> 6226.905</td><td> 7478.464</td><td>4</td><td>3</td><td>4</td><td>4</td><td>4</td><td>4</td><td>3</td><td>2</td></tr>\n",
       "\t<tr><td> 9982</td><td> 9982</td><td>S614832</td><td>826cd734-9b74-4588-810a-86bf5cc445d1</td><td>5fb25f08fafc6c79f278e5eeeced889f</td><td>Tampa              </td><td>FL</td><td>Hillsborough</td><td>33612</td><td>28.05076</td><td>...</td><td> 5630.360</td><td> 5712.508</td><td>4</td><td>4</td><td>4</td><td>4</td><td>2</td><td>5</td><td>5</td><td>4</td></tr>\n",
       "\t<tr><td> 9983</td><td> 9983</td><td>O64996 </td><td>07ffe436-a1a2-4b37-96b0-2602ffb1ad6f</td><td>b0df4c12776c7d9efceb9fcc67d0262e</td><td>Atlantic City      </td><td>NJ</td><td>Atlantic    </td><td> 8401</td><td>39.37961</td><td>...</td><td> 7362.128</td><td>16233.042</td><td>4</td><td>4</td><td>5</td><td>5</td><td>3</td><td>3</td><td>3</td><td>3</td></tr>\n",
       "\t<tr><td> 9984</td><td> 9984</td><td>X601497</td><td>3eb0fcfd-a4d7-4c16-853f-9bdeecd2e5e4</td><td>2066519cb69de7fd3ab99ae1d95e00bc</td><td>Sterling City      </td><td>TX</td><td>Sterling    </td><td>76951</td><td>31.81488</td><td>...</td><td> 6658.935</td><td>12498.637</td><td>2</td><td>2</td><td>3</td><td>3</td><td>3</td><td>3</td><td>2</td><td>3</td></tr>\n",
       "\t<tr><td> 9985</td><td> 9985</td><td>Q687427</td><td>f3a87c54-7b71-4f03-be8c-2d7a9ff84121</td><td>5a4a731e829110a0d5e5af9c6c1f78f4</td><td>Norfolk            </td><td>VA</td><td>Norfolk     </td><td>23503</td><td>36.94728</td><td>...</td><td> 7369.371</td><td>16641.419</td><td>3</td><td>3</td><td>4</td><td>3</td><td>2</td><td>4</td><td>4</td><td>5</td></tr>\n",
       "\t<tr><td> 9986</td><td> 9986</td><td>X881861</td><td>8e9ec417-b3c8-4ce2-97a5-49aaa1a4d305</td><td>95a20e700317bf0e8e945dff6b71d349</td><td>Spartanburg        </td><td>SC</td><td>Spartanburg </td><td>29303</td><td>34.99338</td><td>...</td><td> 6434.630</td><td> 5104.247</td><td>3</td><td>3</td><td>2</td><td>3</td><td>2</td><td>4</td><td>6</td><td>5</td></tr>\n",
       "\t<tr><td> 9987</td><td> 9987</td><td>Z630066</td><td>1ed0ed27-4965-4252-85ea-dd7ed73bd51a</td><td>f132eca4af3b1c955d89a213096ef88a</td><td>Perry              </td><td>IA</td><td>Dallas      </td><td>50220</td><td>41.83609</td><td>...</td><td> 6476.178</td><td>15591.408</td><td>3</td><td>3</td><td>3</td><td>3</td><td>4</td><td>4</td><td>4</td><td>3</td></tr>\n",
       "\t<tr><td> 9988</td><td> 9988</td><td>B175022</td><td>dca49a93-0dbb-4661-8971-0a9298b2dd3d</td><td>a645f1fc7e570f4f41a8281c6e94efec</td><td>Basalt             </td><td>CO</td><td>Eagle       </td><td>81621</td><td>39.38607</td><td>...</td><td> 7450.171</td><td> 7449.758</td><td>5</td><td>5</td><td>5</td><td>3</td><td>4</td><td>4</td><td>5</td><td>4</td></tr>\n",
       "\t<tr><td> 9989</td><td> 9989</td><td>H670760</td><td>255cb62f-8b90-464c-b991-85fedfdf5e5b</td><td>56d72a97c95be73a9ee22d72fff1037b</td><td>Narvon             </td><td>PA</td><td>Lancaster   </td><td>17555</td><td>40.12136</td><td>...</td><td> 8027.087</td><td>23321.963</td><td>5</td><td>5</td><td>5</td><td>3</td><td>4</td><td>5</td><td>4</td><td>3</td></tr>\n",
       "\t<tr><td> 9990</td><td> 9990</td><td>B610309</td><td>1a397230-9002-4604-9ecc-0e39f2743705</td><td>73fa38f86a6594234b40ed84cb21abcf</td><td>Ravenna            </td><td>OH</td><td>Portage     </td><td>44266</td><td>41.16674</td><td>...</td><td> 7672.563</td><td>12239.640</td><td>3</td><td>3</td><td>3</td><td>2</td><td>3</td><td>2</td><td>4</td><td>3</td></tr>\n",
       "\t<tr><td> 9991</td><td> 9991</td><td>M07341 </td><td>9b73f4cb-3945-41c1-9a38-129fcecde3a0</td><td>4f83c32e349fa29482f338ed25896f01</td><td>Crosby             </td><td>MS</td><td>Wilkinson   </td><td>39633</td><td>31.29102</td><td>...</td><td> 6900.208</td><td>11365.374</td><td>3</td><td>4</td><td>4</td><td>4</td><td>4</td><td>4</td><td>3</td><td>3</td></tr>\n",
       "\t<tr><td> 9992</td><td> 9992</td><td>L715446</td><td>a5492e46-bf07-4c9e-bd00-e96adba46557</td><td>441b4934c2fdb97ce81fe317b4150a32</td><td>Blunt              </td><td>SD</td><td>Hughes      </td><td>57522</td><td>44.47735</td><td>...</td><td> 7153.590</td><td>10263.559</td><td>3</td><td>2</td><td>3</td><td>4</td><td>3</td><td>3</td><td>4</td><td>3</td></tr>\n",
       "\t<tr><td> 9993</td><td> 9993</td><td>T523588</td><td>8dfe0df1-bf7b-48d0-83e9-0bc22d86d168</td><td>1a35db97b8b90ab318b90b708904d312</td><td>Columbus           </td><td>OH</td><td>Franklin    </td><td>43203</td><td>39.97310</td><td>...</td><td> 8703.157</td><td>17367.966</td><td>3</td><td>3</td><td>4</td><td>2</td><td>4</td><td>3</td><td>3</td><td>4</td></tr>\n",
       "\t<tr><td> 9994</td><td> 9994</td><td>Q117805</td><td>ccc85472-5bd1-4389-8442-122a876b9000</td><td>9612abd4b9a81c2fd596ec9adb232efa</td><td>Northvale          </td><td>NJ</td><td>Bergen      </td><td> 7647</td><td>41.00669</td><td>...</td><td> 6850.726</td><td>27882.076</td><td>6</td><td>6</td><td>5</td><td>3</td><td>3</td><td>5</td><td>5</td><td>5</td></tr>\n",
       "\t<tr><td> 9995</td><td> 9995</td><td>M583491</td><td>15c2b4bb-2c36-41b2-b1e2-206144fae1dc</td><td>b9dd180aa8894ecea6af33a46b22e015</td><td>Fellsmere          </td><td>FL</td><td>Indian River</td><td>32948</td><td>27.88942</td><td>...</td><td> 5857.564</td><td>12045.862</td><td>2</td><td>3</td><td>2</td><td>1</td><td>5</td><td>3</td><td>4</td><td>2</td></tr>\n",
       "\t<tr><td> 9996</td><td> 9996</td><td>B863060</td><td>a25b594d-0328-486f-a9b9-0567eb0f9723</td><td>39184dc28cc038871912ccc4500049e5</td><td>Norlina            </td><td>NC</td><td>Warren      </td><td>27563</td><td>36.42886</td><td>...</td><td> 6651.241</td><td> 8927.642</td><td>3</td><td>2</td><td>2</td><td>3</td><td>4</td><td>3</td><td>4</td><td>2</td></tr>\n",
       "\t<tr><td> 9997</td><td> 9997</td><td>P712040</td><td>70711574-f7b1-4a17-b15f-48c54564b70f</td><td>3cd124ccd43147404292e883bf9ec55c</td><td>Milmay             </td><td>NJ</td><td>Atlantic    </td><td> 8340</td><td>39.43609</td><td>...</td><td> 7851.523</td><td>28507.147</td><td>3</td><td>3</td><td>4</td><td>2</td><td>5</td><td>3</td><td>4</td><td>4</td></tr>\n",
       "\t<tr><td> 9998</td><td> 9998</td><td>R778890</td><td>1d79569d-8e0f-4180-a207-d67ee4527d26</td><td>41b770aeee97a5b9e7f69c906a8119d7</td><td>Southside          </td><td>TN</td><td>Montgomery  </td><td>37171</td><td>36.36655</td><td>...</td><td> 7725.953</td><td>15281.215</td><td>3</td><td>3</td><td>3</td><td>4</td><td>4</td><td>2</td><td>3</td><td>2</td></tr>\n",
       "\t<tr><td> 9999</td><td> 9999</td><td>E344109</td><td>f5a68e69-2a60-409b-a92f-ac0847b27db0</td><td>2bb491ef5b1beb1fed758cc6885c167a</td><td>Quinn              </td><td>SD</td><td>Pennington  </td><td>57775</td><td>44.10354</td><td>...</td><td> 8462.832</td><td> 7781.678</td><td>5</td><td>5</td><td>3</td><td>4</td><td>4</td><td>3</td><td>4</td><td>3</td></tr>\n",
       "\t<tr><td>10000</td><td>10000</td><td>I569847</td><td>bc482c02-f8c9-4423-99de-3db5e62a18d5</td><td>95663a202338000abdf7e09311c2a8a1</td><td>Coraopolis         </td><td>PA</td><td>Allegheny   </td><td>15108</td><td>40.49998</td><td>...</td><td> 8700.856</td><td>11643.190</td><td>4</td><td>3</td><td>3</td><td>2</td><td>3</td><td>6</td><td>4</td><td>3</td></tr>\n",
       "</tbody>\n",
       "</table>\n"
      ],
      "text/latex": [
       "A spec\\_tbl\\_df: 10000 × 53\n",
       "\\begin{tabular}{lllllllllllllllllllll}\n",
       " ...1 & CaseOrder & Customer\\_id & Interaction & UID & City & State & County & Zip & Lat & ... & TotalCharge & Additional\\_charges & Item1 & Item2 & Item3 & Item4 & Item5 & Item6 & Item7 & Item8\\\\\n",
       " <dbl> & <dbl> & <chr> & <chr> & <chr> & <chr> & <chr> & <chr> & <dbl> & <dbl> & ... & <dbl> & <dbl> & <dbl> & <dbl> & <dbl> & <dbl> & <dbl> & <dbl> & <dbl> & <dbl>\\\\\n",
       "\\hline\n",
       "\t  1 &  1 & C412403 & 8cd49b13-f45a-4b47-a2bd-173ffa932c2f & 3a83ddb66e2ae73798bdf1d705dc0932 & Eva           & AL & Morgan       & 35621 & 34.34960 & ... &  3191.049 & 17939.403 & 3 & 3 & 2 & 2 & 4 & 3 & 3 & 4\\\\\n",
       "\t  2 &  2 & Z919181 & d2450b70-0337-4406-bdbb-bc1037f1734c & 176354c5eef714957d486009feabf195 & Marianna      & FL & Jackson      & 32446 & 30.84513 & ... &  4214.905 & 17612.998 & 3 & 4 & 3 & 4 & 4 & 4 & 3 & 3\\\\\n",
       "\t  3 &  3 & F995323 & a2057123-abf5-4a2c-abad-8ffe33512562 & e19a0fa00aeda885b8a436757e889bc9 & Sioux Falls   & SD & Minnehaha    & 57110 & 43.54321 & ... &  2177.587 & 17505.192 & 2 & 4 & 4 & 4 & 3 & 4 & 3 & 3\\\\\n",
       "\t  4 &  4 & A879973 & 1dec528d-eb34-4079-adce-0d7a40e82205 & cd17d7b6d152cb6f23957346d11c3f07 & New Richland  & MN & Waseca       & 56072 & 43.89744 & ... &  2465.119 & 12993.437 & 3 & 5 & 5 & 3 & 4 & 5 & 5 & 5\\\\\n",
       "\t  5 &  5 & C544523 & 5885f56b-d6da-43a3-8760-83583af94266 & d2f0425877b10ed6bb381f3e2579424a & West Point    & VA & King William & 23181 & 37.59894 & ... &  1885.655 &  3716.526 & 2 & 1 & 3 & 3 & 5 & 3 & 4 & 3\\\\\n",
       "\t  6 &  6 & S543885 & e3b0a319-9e2e-4a23-8752-2fdc736c30f4 & 03e447146d4a32e1aaf75727c3d1230c & Braggs        & OK & Muskogee     & 74423 & 35.67302 & ... &  2774.090 & 12742.590 & 4 & 5 & 4 & 4 & 3 & 5 & 4 & 6\\\\\n",
       "\t  7 &  7 & E543302 & 2fccb53e-bd9a-4eaa-a53c-9dfc0cb83f94 & e4884a42ba809df6a89ded6c97f460d4 & Thompson      & OH & Geauga       & 44086 & 41.67511 & ... &  3533.292 & 16815.514 & 4 & 3 & 3 & 2 & 3 & 4 & 5 & 5\\\\\n",
       "\t  8 &  8 & K477307 & ab634508-dd8c-42e5-a4e4-d101a46f2431 & 5f78b8699d1aa9b950b562073f629ca2 & Strasburg     & VA & Shenandoah   & 22641 & 39.08062 & ... &  3316.400 &  6930.572 & 1 & 2 & 2 & 5 & 4 & 2 & 4 & 2\\\\\n",
       "\t  9 &  9 & Q870521 & 67b386eb-1d04-4020-9474-542a09d304e3 & e8e016144bfbe14974752d834f530e26 & Panama City   & FL & Bay          & 32404 & 30.20097 & ... &  2922.760 &  8363.187 & 3 & 3 & 2 & 3 & 3 & 3 & 4 & 2\\\\\n",
       "\t 10 & 10 & Z229385 & 5acd5dd3-f0ae-41c7-9540-cf3e4ecb2e27 & 687e7ba1b80022c310fa2d4b00db199a & Paynesville   & MN & Stearns      & 56362 & 45.40325 & ... &  3709.548 & 26225.990 & 5 & 5 & 5 & 3 & 4 & 2 & 3 & 2\\\\\n",
       "\t 11 & 11 & V593392 & f79fac5c-6143-4333-91c1-da4d283db35f & 4c2b0a61d8352835b59d74fc46a11b71 & Daleville     & MS & Lauderdale   & 39326 & 32.59914 & ... &  3042.387 & 18518.043 & 3 & 3 & 4 & 4 & 2 & 5 & 2 & 3\\\\\n",
       "\t 12 & 12 & X459469 & cc050bb7-3b61-4934-b0fe-61bd0ec79dfd & 5e1aa1c71a30c77a542c68452793b986 & Casselberry   & FL & Seminole     & 32707 & 28.66268 & ... & 14804.319 & 21480.886 & 4 & 5 & 5 & 5 & 3 & 3 & 3 & 3\\\\\n",
       "\t 13 & 13 & N755131 & 103b3846-6933-452b-a66b-a59a18d29d57 & e2b9d07fa9d57d7e411299f47abcc505 & Saint Francis & WI & Milwaukee    & 53235 & 42.97168 & ... &  2622.024 &  7357.827 & 4 & 4 & 2 & 4 & 5 & 2 & 4 & 3\\\\\n",
       "\t 14 & 14 & D550524 & 542acef9-365b-4cf4-a92e-21bdf28830d4 & 11242d7514ece3946f167db79410254b & Denison       & IA & Crawford     & 51442 & 42.03038 & ... &  1919.147 &  8454.613 & 3 & 3 & 3 & 5 & 4 & 5 & 3 & 2\\\\\n",
       "\t 15 & 15 & T490287 & 19caf80a-cdc4-43a7-890d-72b07a62e5be & fa79d3f149c5ff752044070cb272ef15 & Sioux Center  & IA & Sioux        & 51250 & 43.08426 & ... &  2330.423 & 14382.229 & 4 & 5 & 5 & 4 & 5 & 3 & 3 & 5\\\\\n",
       "\t 16 & 16 & G169983 & a38fe3ce-976a-478b-a014-33ac71f24ea9 & 8e866e2402ea8db6d0584209f714ee2d & Huntsville    & AL & Madison      & 35811 & 34.79693 & ... &  2228.684 &  9415.372 & 4 & 5 & 4 & 4 & 4 & 3 & 3 & 3\\\\\n",
       "\t 17 & 17 & O377757 & 7faf0261-bc66-489a-a8ba-fec333485254 & 728333940561457a9feba1e1dc763258 & Blythe        & CA & Riverside    & 92225 & 33.74647 & ... &  2938.953 &  8157.752 & 5 & 4 & 5 & 2 & 4 & 3 & 4 & 3\\\\\n",
       "\t 18 & 18 & I745784 & c173d889-8d12-4375-819e-cd83902c9de8 & a8437eadfb17988b7d7fedcc0468664e & Matthews      & IN & Grant        & 46957 & 40.38836 & ... &  2631.702 &  9539.219 & 4 & 4 & 3 & 5 & 2 & 4 & 5 & 4\\\\\n",
       "\t 19 & 19 & D139360 & 9a1a84da-d99e-47f7-9865-1ef046db34d3 & 0bcee05e1fc26d492f0559675ab318b0 & Lignum        & VA & Culpeper     & 22726 & 38.40136 & ... &  2990.086 & 23453.358 & 3 & 4 & 4 & 3 & 4 & 2 & 3 & 2\\\\\n",
       "\t 20 & 20 & Y964627 & e655e7c9-6d10-4817-bdb2-f3b34716d0e0 & 7dd9f4cf50d66af07b37fa8951957d72 & Mora          & MO & Pettis       & 65345 & 38.54040 & ... &  4026.967 & 14051.435 & 2 & 2 & 2 & 4 & 4 & 3 & 5 & 1\\\\\n",
       "\t 21 & 21 & G754212 & 59bfca8f-18ae-4a81-a531-6597ab6d6352 & d49dab16a42bad5d54e2691b1b021f94 & Saint Paul    & MN & Ramsey       & 55103 & 44.96425 & ... &  3772.157 & 28788.080 & 3 & 3 & 4 & 4 & 3 & 3 & 3 & 1\\\\\n",
       "\t 22 & 22 & J10137  & abd4baf3-c937-4353-af45-75d119579c04 & 77c1f9fa56ab519aa9fe456d365e7174 & Maybee        & MI & Monroe       & 48159 & 42.02415 & ... &  3252.272 &  9128.650 & 4 & 4 & 4 & 3 & 3 & 4 & 4 & 4\\\\\n",
       "\t 23 & 23 & S147737 & 7b553658-a4e2-48f0-a81b-d70d2c1b6c02 & 34898a0f4109efc1b2415ca01ce450de & Big Springs   & NE & Deuel        & 69122 & 41.13007 & ... &  3810.395 & 11112.139 & 4 & 5 & 5 & 3 & 5 & 6 & 3 & 5\\\\\n",
       "\t 24 & 24 & Y454618 & cbe8390d-84d6-4cd9-b25d-bf1a154235c8 & bf6eb8bbc86ade8a382121b6e07944ed & Quapaw        & OK & Ottawa       & 74363 & 36.95315 & ... &  3532.603 & 12876.792 & 4 & 4 & 3 & 4 & 2 & 3 & 6 & 4\\\\\n",
       "\t 25 & 25 & Y563432 & ca1e9204-516e-4145-869c-fdc66a5e3063 & 2eeedddcddd8e1eaa9d137babc330b4f & Campbellton   & FL & Jackson      & 32426 & 30.94714 & ... &  3971.110 &  3624.049 & 4 & 3 & 4 & 4 & 3 & 4 & 2 & 2\\\\\n",
       "\t 26 & 26 & K724599 & c7786ca5-645f-4cbb-bc63-ab46fb4cd7b3 & cb936298236ad2514aab161272d729ca & Ludlow        & PA & McKean       & 16333 & 41.70345 & ... &  3614.977 & 25364.431 & 3 & 3 & 3 & 3 & 3 & 4 & 4 & 6\\\\\n",
       "\t 27 & 27 & O199825 & d50f6d64-c498-48f0-8270-dd90df4e1809 & 77a87c259047ead6c57aca8d8b7a763a & Pickens       & AR & Desha        & 71662 & 33.84200 & ... &  2953.797 &  8485.173 & 4 & 4 & 4 & 4 & 2 & 3 & 4 & 5\\\\\n",
       "\t 28 & 28 & M914791 & a06a673d-e46e-4da1-9b3c-31670d9ccbdf & 2e7e96cb1ad0cce6235e7ba9d70f2d00 & Swiss         & WV & Fayette      & 26690 & 38.22553 & ... &  4060.337 & 12417.640 & 3 & 3 & 3 & 2 & 3 & 5 & 2 & 3\\\\\n",
       "\t 29 & 29 & L97365  & 2ce873ac-20a0-49b6-af7d-296b44388ffe & 492ca3b3ffb9bafe810853ab4efbfbc5 & Middlefield   & OH & Geauga       & 44062 & 41.45764 & ... &  3656.830 & 22890.097 & 2 & 3 & 3 & 2 & 4 & 3 & 4 & 4\\\\\n",
       "\t 30 & 30 & S496387 & 788dd722-6f14-4e0e-a728-573c0fa42379 & 523ff7b6eabb75776d99b46e626cc46e & Arlington     & IA & Fayette      & 50606 & 42.74733 & ... &  3331.824 &  9801.759 & 2 & 3 & 2 & 2 & 6 & 2 & 3 & 2\\\\\n",
       "\t ... & ... & ... & ... & ... & ... & ... & ... & ... & ... &  & ... & ... & ... & ... & ... & ... & ... & ... & ... & ...\\\\\n",
       "\t  9971 &  9971 & P861904 & 03e336b0-87d9-4596-8ae2-736df5483f15 & 52e89bfc8ebf8443529a553a69e88293 & Bethesda            & MD & Montgomery   & 20816 & 38.95591 & ... &  6365.300 &  6667.627 & 3 & 3 & 3 & 3 & 4 & 3 & 3 & 2\\\\\n",
       "\t  9972 &  9972 & K874758 & 56095044-286a-4d65-8347-bfd5680a1fa9 & c313d637cdbbfd6d3e27834ab8d42c1d & Stratford           & CA & Kings        & 93266 & 36.15725 & ... &  6842.784 &  9605.539 & 4 & 4 & 3 & 4 & 4 & 5 & 2 & 4\\\\\n",
       "\t  9973 &  9973 & S844348 & 88acd37d-32ef-4f18-93ca-15a664434831 & b814097a631fd103ed32b26acf5e197a & East Lynn           & WV & Wayne        & 25512 & 38.18654 & ... &  7595.974 &  4576.672 & 5 & 4 & 5 & 4 & 4 & 3 & 4 & 2\\\\\n",
       "\t  9974 &  9974 & L875086 & c37f4424-ae86-4016-ab6d-3e0e796c8c01 & 66e2232f5990f96113aaef19bc9ad3a4 & Canton              & OH & Stark        & 44721 & 40.89412 & ... & 18579.481 &  4430.436 & 3 & 3 & 3 & 4 & 3 & 4 & 5 & 4\\\\\n",
       "\t  9975 &  9975 & U876816 & a3cea1da-66ad-44a1-b4cf-51870f1f44c1 & 5d028a10d5db21e3afcd1e17bb6ddd2e & Seale               & AL & Russell      & 36875 & 32.33317 & ... &  6752.010 &  7631.056 & 4 & 3 & 4 & 3 & 4 & 3 & 3 & 3\\\\\n",
       "\t  9976 &  9976 & G252027 & d6c2499d-4705-4db0-a53a-2cbbb98e31ff & 228117725e74720397e27bd89d07cf3c & Brownville Junction & ME & Piscataquis  &  4415 & 45.38263 & ... &  8571.286 & 14901.936 & 5 & 5 & 4 & 2 & 3 & 3 & 3 & 3\\\\\n",
       "\t  9977 &  9977 & J280152 & 322b520c-08a8-4249-9695-4d21feb075f7 & 32ec98d54f073fb30c7678738ecb5ef4 & Tolland             & CT & Tolland      &  6084 & 41.87892 & ... &  7079.759 & 24562.155 & 4 & 5 & 4 & 3 & 3 & 4 & 3 & 6\\\\\n",
       "\t  9978 &  9978 & V527887 & ff4f2468-1da3-4787-846e-17dbeaf1d7bf & 79be95e16c17f5a5885e6bf3430bbdfc & West Union          & WV & Doddridge    & 26456 & 39.27989 & ... &  7656.160 & 11755.062 & 4 & 3 & 4 & 2 & 6 & 2 & 1 & 2\\\\\n",
       "\t  9979 &  9979 & H473893 & 4b74a424-6103-4832-a0a2-b30d8b4745a3 & c567f98ea642877676097db385830908 & Fairmont            & NC & Robeson      & 28340 & 34.47200 & ... &  5090.395 & 13712.421 & 3 & 2 & 3 & 2 & 5 & 2 & 1 & 4\\\\\n",
       "\t  9980 &  9980 & N576321 & d9d8473b-3793-46f8-ade9-79212c1cb175 & 7ca42667e4bcff078315bdf880b9ee1f & Tremont             & MS & Itawamba     & 38876 & 34.21787 & ... &  8252.709 &  4044.245 & 3 & 3 & 5 & 3 & 3 & 4 & 5 & 4\\\\\n",
       "\t  9981 &  9981 & L948946 & 20cd0ba3-af84-4011-ad29-3cff684e249d & 32bac1757efbd94c1ab2c84d1229469c & Fillmore            & IN & Putnam       & 46128 & 39.65568 & ... &  6226.905 &  7478.464 & 4 & 3 & 4 & 4 & 4 & 4 & 3 & 2\\\\\n",
       "\t  9982 &  9982 & S614832 & 826cd734-9b74-4588-810a-86bf5cc445d1 & 5fb25f08fafc6c79f278e5eeeced889f & Tampa               & FL & Hillsborough & 33612 & 28.05076 & ... &  5630.360 &  5712.508 & 4 & 4 & 4 & 4 & 2 & 5 & 5 & 4\\\\\n",
       "\t  9983 &  9983 & O64996  & 07ffe436-a1a2-4b37-96b0-2602ffb1ad6f & b0df4c12776c7d9efceb9fcc67d0262e & Atlantic City       & NJ & Atlantic     &  8401 & 39.37961 & ... &  7362.128 & 16233.042 & 4 & 4 & 5 & 5 & 3 & 3 & 3 & 3\\\\\n",
       "\t  9984 &  9984 & X601497 & 3eb0fcfd-a4d7-4c16-853f-9bdeecd2e5e4 & 2066519cb69de7fd3ab99ae1d95e00bc & Sterling City       & TX & Sterling     & 76951 & 31.81488 & ... &  6658.935 & 12498.637 & 2 & 2 & 3 & 3 & 3 & 3 & 2 & 3\\\\\n",
       "\t  9985 &  9985 & Q687427 & f3a87c54-7b71-4f03-be8c-2d7a9ff84121 & 5a4a731e829110a0d5e5af9c6c1f78f4 & Norfolk             & VA & Norfolk      & 23503 & 36.94728 & ... &  7369.371 & 16641.419 & 3 & 3 & 4 & 3 & 2 & 4 & 4 & 5\\\\\n",
       "\t  9986 &  9986 & X881861 & 8e9ec417-b3c8-4ce2-97a5-49aaa1a4d305 & 95a20e700317bf0e8e945dff6b71d349 & Spartanburg         & SC & Spartanburg  & 29303 & 34.99338 & ... &  6434.630 &  5104.247 & 3 & 3 & 2 & 3 & 2 & 4 & 6 & 5\\\\\n",
       "\t  9987 &  9987 & Z630066 & 1ed0ed27-4965-4252-85ea-dd7ed73bd51a & f132eca4af3b1c955d89a213096ef88a & Perry               & IA & Dallas       & 50220 & 41.83609 & ... &  6476.178 & 15591.408 & 3 & 3 & 3 & 3 & 4 & 4 & 4 & 3\\\\\n",
       "\t  9988 &  9988 & B175022 & dca49a93-0dbb-4661-8971-0a9298b2dd3d & a645f1fc7e570f4f41a8281c6e94efec & Basalt              & CO & Eagle        & 81621 & 39.38607 & ... &  7450.171 &  7449.758 & 5 & 5 & 5 & 3 & 4 & 4 & 5 & 4\\\\\n",
       "\t  9989 &  9989 & H670760 & 255cb62f-8b90-464c-b991-85fedfdf5e5b & 56d72a97c95be73a9ee22d72fff1037b & Narvon              & PA & Lancaster    & 17555 & 40.12136 & ... &  8027.087 & 23321.963 & 5 & 5 & 5 & 3 & 4 & 5 & 4 & 3\\\\\n",
       "\t  9990 &  9990 & B610309 & 1a397230-9002-4604-9ecc-0e39f2743705 & 73fa38f86a6594234b40ed84cb21abcf & Ravenna             & OH & Portage      & 44266 & 41.16674 & ... &  7672.563 & 12239.640 & 3 & 3 & 3 & 2 & 3 & 2 & 4 & 3\\\\\n",
       "\t  9991 &  9991 & M07341  & 9b73f4cb-3945-41c1-9a38-129fcecde3a0 & 4f83c32e349fa29482f338ed25896f01 & Crosby              & MS & Wilkinson    & 39633 & 31.29102 & ... &  6900.208 & 11365.374 & 3 & 4 & 4 & 4 & 4 & 4 & 3 & 3\\\\\n",
       "\t  9992 &  9992 & L715446 & a5492e46-bf07-4c9e-bd00-e96adba46557 & 441b4934c2fdb97ce81fe317b4150a32 & Blunt               & SD & Hughes       & 57522 & 44.47735 & ... &  7153.590 & 10263.559 & 3 & 2 & 3 & 4 & 3 & 3 & 4 & 3\\\\\n",
       "\t  9993 &  9993 & T523588 & 8dfe0df1-bf7b-48d0-83e9-0bc22d86d168 & 1a35db97b8b90ab318b90b708904d312 & Columbus            & OH & Franklin     & 43203 & 39.97310 & ... &  8703.157 & 17367.966 & 3 & 3 & 4 & 2 & 4 & 3 & 3 & 4\\\\\n",
       "\t  9994 &  9994 & Q117805 & ccc85472-5bd1-4389-8442-122a876b9000 & 9612abd4b9a81c2fd596ec9adb232efa & Northvale           & NJ & Bergen       &  7647 & 41.00669 & ... &  6850.726 & 27882.076 & 6 & 6 & 5 & 3 & 3 & 5 & 5 & 5\\\\\n",
       "\t  9995 &  9995 & M583491 & 15c2b4bb-2c36-41b2-b1e2-206144fae1dc & b9dd180aa8894ecea6af33a46b22e015 & Fellsmere           & FL & Indian River & 32948 & 27.88942 & ... &  5857.564 & 12045.862 & 2 & 3 & 2 & 1 & 5 & 3 & 4 & 2\\\\\n",
       "\t  9996 &  9996 & B863060 & a25b594d-0328-486f-a9b9-0567eb0f9723 & 39184dc28cc038871912ccc4500049e5 & Norlina             & NC & Warren       & 27563 & 36.42886 & ... &  6651.241 &  8927.642 & 3 & 2 & 2 & 3 & 4 & 3 & 4 & 2\\\\\n",
       "\t  9997 &  9997 & P712040 & 70711574-f7b1-4a17-b15f-48c54564b70f & 3cd124ccd43147404292e883bf9ec55c & Milmay              & NJ & Atlantic     &  8340 & 39.43609 & ... &  7851.523 & 28507.147 & 3 & 3 & 4 & 2 & 5 & 3 & 4 & 4\\\\\n",
       "\t  9998 &  9998 & R778890 & 1d79569d-8e0f-4180-a207-d67ee4527d26 & 41b770aeee97a5b9e7f69c906a8119d7 & Southside           & TN & Montgomery   & 37171 & 36.36655 & ... &  7725.953 & 15281.215 & 3 & 3 & 3 & 4 & 4 & 2 & 3 & 2\\\\\n",
       "\t  9999 &  9999 & E344109 & f5a68e69-2a60-409b-a92f-ac0847b27db0 & 2bb491ef5b1beb1fed758cc6885c167a & Quinn               & SD & Pennington   & 57775 & 44.10354 & ... &  8462.832 &  7781.678 & 5 & 5 & 3 & 4 & 4 & 3 & 4 & 3\\\\\n",
       "\t 10000 & 10000 & I569847 & bc482c02-f8c9-4423-99de-3db5e62a18d5 & 95663a202338000abdf7e09311c2a8a1 & Coraopolis          & PA & Allegheny    & 15108 & 40.49998 & ... &  8700.856 & 11643.190 & 4 & 3 & 3 & 2 & 3 & 6 & 4 & 3\\\\\n",
       "\\end{tabular}\n"
      ],
      "text/markdown": [
       "\n",
       "A spec_tbl_df: 10000 × 53\n",
       "\n",
       "| ...1 &lt;dbl&gt; | CaseOrder &lt;dbl&gt; | Customer_id &lt;chr&gt; | Interaction &lt;chr&gt; | UID &lt;chr&gt; | City &lt;chr&gt; | State &lt;chr&gt; | County &lt;chr&gt; | Zip &lt;dbl&gt; | Lat &lt;dbl&gt; | ... ... | TotalCharge &lt;dbl&gt; | Additional_charges &lt;dbl&gt; | Item1 &lt;dbl&gt; | Item2 &lt;dbl&gt; | Item3 &lt;dbl&gt; | Item4 &lt;dbl&gt; | Item5 &lt;dbl&gt; | Item6 &lt;dbl&gt; | Item7 &lt;dbl&gt; | Item8 &lt;dbl&gt; |\n",
       "|---|---|---|---|---|---|---|---|---|---|---|---|---|---|---|---|---|---|---|---|---|\n",
       "|  1 |  1 | C412403 | 8cd49b13-f45a-4b47-a2bd-173ffa932c2f | 3a83ddb66e2ae73798bdf1d705dc0932 | Eva           | AL | Morgan       | 35621 | 34.34960 | ... |  3191.049 | 17939.403 | 3 | 3 | 2 | 2 | 4 | 3 | 3 | 4 |\n",
       "|  2 |  2 | Z919181 | d2450b70-0337-4406-bdbb-bc1037f1734c | 176354c5eef714957d486009feabf195 | Marianna      | FL | Jackson      | 32446 | 30.84513 | ... |  4214.905 | 17612.998 | 3 | 4 | 3 | 4 | 4 | 4 | 3 | 3 |\n",
       "|  3 |  3 | F995323 | a2057123-abf5-4a2c-abad-8ffe33512562 | e19a0fa00aeda885b8a436757e889bc9 | Sioux Falls   | SD | Minnehaha    | 57110 | 43.54321 | ... |  2177.587 | 17505.192 | 2 | 4 | 4 | 4 | 3 | 4 | 3 | 3 |\n",
       "|  4 |  4 | A879973 | 1dec528d-eb34-4079-adce-0d7a40e82205 | cd17d7b6d152cb6f23957346d11c3f07 | New Richland  | MN | Waseca       | 56072 | 43.89744 | ... |  2465.119 | 12993.437 | 3 | 5 | 5 | 3 | 4 | 5 | 5 | 5 |\n",
       "|  5 |  5 | C544523 | 5885f56b-d6da-43a3-8760-83583af94266 | d2f0425877b10ed6bb381f3e2579424a | West Point    | VA | King William | 23181 | 37.59894 | ... |  1885.655 |  3716.526 | 2 | 1 | 3 | 3 | 5 | 3 | 4 | 3 |\n",
       "|  6 |  6 | S543885 | e3b0a319-9e2e-4a23-8752-2fdc736c30f4 | 03e447146d4a32e1aaf75727c3d1230c | Braggs        | OK | Muskogee     | 74423 | 35.67302 | ... |  2774.090 | 12742.590 | 4 | 5 | 4 | 4 | 3 | 5 | 4 | 6 |\n",
       "|  7 |  7 | E543302 | 2fccb53e-bd9a-4eaa-a53c-9dfc0cb83f94 | e4884a42ba809df6a89ded6c97f460d4 | Thompson      | OH | Geauga       | 44086 | 41.67511 | ... |  3533.292 | 16815.514 | 4 | 3 | 3 | 2 | 3 | 4 | 5 | 5 |\n",
       "|  8 |  8 | K477307 | ab634508-dd8c-42e5-a4e4-d101a46f2431 | 5f78b8699d1aa9b950b562073f629ca2 | Strasburg     | VA | Shenandoah   | 22641 | 39.08062 | ... |  3316.400 |  6930.572 | 1 | 2 | 2 | 5 | 4 | 2 | 4 | 2 |\n",
       "|  9 |  9 | Q870521 | 67b386eb-1d04-4020-9474-542a09d304e3 | e8e016144bfbe14974752d834f530e26 | Panama City   | FL | Bay          | 32404 | 30.20097 | ... |  2922.760 |  8363.187 | 3 | 3 | 2 | 3 | 3 | 3 | 4 | 2 |\n",
       "| 10 | 10 | Z229385 | 5acd5dd3-f0ae-41c7-9540-cf3e4ecb2e27 | 687e7ba1b80022c310fa2d4b00db199a | Paynesville   | MN | Stearns      | 56362 | 45.40325 | ... |  3709.548 | 26225.990 | 5 | 5 | 5 | 3 | 4 | 2 | 3 | 2 |\n",
       "| 11 | 11 | V593392 | f79fac5c-6143-4333-91c1-da4d283db35f | 4c2b0a61d8352835b59d74fc46a11b71 | Daleville     | MS | Lauderdale   | 39326 | 32.59914 | ... |  3042.387 | 18518.043 | 3 | 3 | 4 | 4 | 2 | 5 | 2 | 3 |\n",
       "| 12 | 12 | X459469 | cc050bb7-3b61-4934-b0fe-61bd0ec79dfd | 5e1aa1c71a30c77a542c68452793b986 | Casselberry   | FL | Seminole     | 32707 | 28.66268 | ... | 14804.319 | 21480.886 | 4 | 5 | 5 | 5 | 3 | 3 | 3 | 3 |\n",
       "| 13 | 13 | N755131 | 103b3846-6933-452b-a66b-a59a18d29d57 | e2b9d07fa9d57d7e411299f47abcc505 | Saint Francis | WI | Milwaukee    | 53235 | 42.97168 | ... |  2622.024 |  7357.827 | 4 | 4 | 2 | 4 | 5 | 2 | 4 | 3 |\n",
       "| 14 | 14 | D550524 | 542acef9-365b-4cf4-a92e-21bdf28830d4 | 11242d7514ece3946f167db79410254b | Denison       | IA | Crawford     | 51442 | 42.03038 | ... |  1919.147 |  8454.613 | 3 | 3 | 3 | 5 | 4 | 5 | 3 | 2 |\n",
       "| 15 | 15 | T490287 | 19caf80a-cdc4-43a7-890d-72b07a62e5be | fa79d3f149c5ff752044070cb272ef15 | Sioux Center  | IA | Sioux        | 51250 | 43.08426 | ... |  2330.423 | 14382.229 | 4 | 5 | 5 | 4 | 5 | 3 | 3 | 5 |\n",
       "| 16 | 16 | G169983 | a38fe3ce-976a-478b-a014-33ac71f24ea9 | 8e866e2402ea8db6d0584209f714ee2d | Huntsville    | AL | Madison      | 35811 | 34.79693 | ... |  2228.684 |  9415.372 | 4 | 5 | 4 | 4 | 4 | 3 | 3 | 3 |\n",
       "| 17 | 17 | O377757 | 7faf0261-bc66-489a-a8ba-fec333485254 | 728333940561457a9feba1e1dc763258 | Blythe        | CA | Riverside    | 92225 | 33.74647 | ... |  2938.953 |  8157.752 | 5 | 4 | 5 | 2 | 4 | 3 | 4 | 3 |\n",
       "| 18 | 18 | I745784 | c173d889-8d12-4375-819e-cd83902c9de8 | a8437eadfb17988b7d7fedcc0468664e | Matthews      | IN | Grant        | 46957 | 40.38836 | ... |  2631.702 |  9539.219 | 4 | 4 | 3 | 5 | 2 | 4 | 5 | 4 |\n",
       "| 19 | 19 | D139360 | 9a1a84da-d99e-47f7-9865-1ef046db34d3 | 0bcee05e1fc26d492f0559675ab318b0 | Lignum        | VA | Culpeper     | 22726 | 38.40136 | ... |  2990.086 | 23453.358 | 3 | 4 | 4 | 3 | 4 | 2 | 3 | 2 |\n",
       "| 20 | 20 | Y964627 | e655e7c9-6d10-4817-bdb2-f3b34716d0e0 | 7dd9f4cf50d66af07b37fa8951957d72 | Mora          | MO | Pettis       | 65345 | 38.54040 | ... |  4026.967 | 14051.435 | 2 | 2 | 2 | 4 | 4 | 3 | 5 | 1 |\n",
       "| 21 | 21 | G754212 | 59bfca8f-18ae-4a81-a531-6597ab6d6352 | d49dab16a42bad5d54e2691b1b021f94 | Saint Paul    | MN | Ramsey       | 55103 | 44.96425 | ... |  3772.157 | 28788.080 | 3 | 3 | 4 | 4 | 3 | 3 | 3 | 1 |\n",
       "| 22 | 22 | J10137  | abd4baf3-c937-4353-af45-75d119579c04 | 77c1f9fa56ab519aa9fe456d365e7174 | Maybee        | MI | Monroe       | 48159 | 42.02415 | ... |  3252.272 |  9128.650 | 4 | 4 | 4 | 3 | 3 | 4 | 4 | 4 |\n",
       "| 23 | 23 | S147737 | 7b553658-a4e2-48f0-a81b-d70d2c1b6c02 | 34898a0f4109efc1b2415ca01ce450de | Big Springs   | NE | Deuel        | 69122 | 41.13007 | ... |  3810.395 | 11112.139 | 4 | 5 | 5 | 3 | 5 | 6 | 3 | 5 |\n",
       "| 24 | 24 | Y454618 | cbe8390d-84d6-4cd9-b25d-bf1a154235c8 | bf6eb8bbc86ade8a382121b6e07944ed | Quapaw        | OK | Ottawa       | 74363 | 36.95315 | ... |  3532.603 | 12876.792 | 4 | 4 | 3 | 4 | 2 | 3 | 6 | 4 |\n",
       "| 25 | 25 | Y563432 | ca1e9204-516e-4145-869c-fdc66a5e3063 | 2eeedddcddd8e1eaa9d137babc330b4f | Campbellton   | FL | Jackson      | 32426 | 30.94714 | ... |  3971.110 |  3624.049 | 4 | 3 | 4 | 4 | 3 | 4 | 2 | 2 |\n",
       "| 26 | 26 | K724599 | c7786ca5-645f-4cbb-bc63-ab46fb4cd7b3 | cb936298236ad2514aab161272d729ca | Ludlow        | PA | McKean       | 16333 | 41.70345 | ... |  3614.977 | 25364.431 | 3 | 3 | 3 | 3 | 3 | 4 | 4 | 6 |\n",
       "| 27 | 27 | O199825 | d50f6d64-c498-48f0-8270-dd90df4e1809 | 77a87c259047ead6c57aca8d8b7a763a | Pickens       | AR | Desha        | 71662 | 33.84200 | ... |  2953.797 |  8485.173 | 4 | 4 | 4 | 4 | 2 | 3 | 4 | 5 |\n",
       "| 28 | 28 | M914791 | a06a673d-e46e-4da1-9b3c-31670d9ccbdf | 2e7e96cb1ad0cce6235e7ba9d70f2d00 | Swiss         | WV | Fayette      | 26690 | 38.22553 | ... |  4060.337 | 12417.640 | 3 | 3 | 3 | 2 | 3 | 5 | 2 | 3 |\n",
       "| 29 | 29 | L97365  | 2ce873ac-20a0-49b6-af7d-296b44388ffe | 492ca3b3ffb9bafe810853ab4efbfbc5 | Middlefield   | OH | Geauga       | 44062 | 41.45764 | ... |  3656.830 | 22890.097 | 2 | 3 | 3 | 2 | 4 | 3 | 4 | 4 |\n",
       "| 30 | 30 | S496387 | 788dd722-6f14-4e0e-a728-573c0fa42379 | 523ff7b6eabb75776d99b46e626cc46e | Arlington     | IA | Fayette      | 50606 | 42.74733 | ... |  3331.824 |  9801.759 | 2 | 3 | 2 | 2 | 6 | 2 | 3 | 2 |\n",
       "| ... | ... | ... | ... | ... | ... | ... | ... | ... | ... | <!----> | ... | ... | ... | ... | ... | ... | ... | ... | ... | ... |\n",
       "|  9971 |  9971 | P861904 | 03e336b0-87d9-4596-8ae2-736df5483f15 | 52e89bfc8ebf8443529a553a69e88293 | Bethesda            | MD | Montgomery   | 20816 | 38.95591 | ... |  6365.300 |  6667.627 | 3 | 3 | 3 | 3 | 4 | 3 | 3 | 2 |\n",
       "|  9972 |  9972 | K874758 | 56095044-286a-4d65-8347-bfd5680a1fa9 | c313d637cdbbfd6d3e27834ab8d42c1d | Stratford           | CA | Kings        | 93266 | 36.15725 | ... |  6842.784 |  9605.539 | 4 | 4 | 3 | 4 | 4 | 5 | 2 | 4 |\n",
       "|  9973 |  9973 | S844348 | 88acd37d-32ef-4f18-93ca-15a664434831 | b814097a631fd103ed32b26acf5e197a | East Lynn           | WV | Wayne        | 25512 | 38.18654 | ... |  7595.974 |  4576.672 | 5 | 4 | 5 | 4 | 4 | 3 | 4 | 2 |\n",
       "|  9974 |  9974 | L875086 | c37f4424-ae86-4016-ab6d-3e0e796c8c01 | 66e2232f5990f96113aaef19bc9ad3a4 | Canton              | OH | Stark        | 44721 | 40.89412 | ... | 18579.481 |  4430.436 | 3 | 3 | 3 | 4 | 3 | 4 | 5 | 4 |\n",
       "|  9975 |  9975 | U876816 | a3cea1da-66ad-44a1-b4cf-51870f1f44c1 | 5d028a10d5db21e3afcd1e17bb6ddd2e | Seale               | AL | Russell      | 36875 | 32.33317 | ... |  6752.010 |  7631.056 | 4 | 3 | 4 | 3 | 4 | 3 | 3 | 3 |\n",
       "|  9976 |  9976 | G252027 | d6c2499d-4705-4db0-a53a-2cbbb98e31ff | 228117725e74720397e27bd89d07cf3c | Brownville Junction | ME | Piscataquis  |  4415 | 45.38263 | ... |  8571.286 | 14901.936 | 5 | 5 | 4 | 2 | 3 | 3 | 3 | 3 |\n",
       "|  9977 |  9977 | J280152 | 322b520c-08a8-4249-9695-4d21feb075f7 | 32ec98d54f073fb30c7678738ecb5ef4 | Tolland             | CT | Tolland      |  6084 | 41.87892 | ... |  7079.759 | 24562.155 | 4 | 5 | 4 | 3 | 3 | 4 | 3 | 6 |\n",
       "|  9978 |  9978 | V527887 | ff4f2468-1da3-4787-846e-17dbeaf1d7bf | 79be95e16c17f5a5885e6bf3430bbdfc | West Union          | WV | Doddridge    | 26456 | 39.27989 | ... |  7656.160 | 11755.062 | 4 | 3 | 4 | 2 | 6 | 2 | 1 | 2 |\n",
       "|  9979 |  9979 | H473893 | 4b74a424-6103-4832-a0a2-b30d8b4745a3 | c567f98ea642877676097db385830908 | Fairmont            | NC | Robeson      | 28340 | 34.47200 | ... |  5090.395 | 13712.421 | 3 | 2 | 3 | 2 | 5 | 2 | 1 | 4 |\n",
       "|  9980 |  9980 | N576321 | d9d8473b-3793-46f8-ade9-79212c1cb175 | 7ca42667e4bcff078315bdf880b9ee1f | Tremont             | MS | Itawamba     | 38876 | 34.21787 | ... |  8252.709 |  4044.245 | 3 | 3 | 5 | 3 | 3 | 4 | 5 | 4 |\n",
       "|  9981 |  9981 | L948946 | 20cd0ba3-af84-4011-ad29-3cff684e249d | 32bac1757efbd94c1ab2c84d1229469c | Fillmore            | IN | Putnam       | 46128 | 39.65568 | ... |  6226.905 |  7478.464 | 4 | 3 | 4 | 4 | 4 | 4 | 3 | 2 |\n",
       "|  9982 |  9982 | S614832 | 826cd734-9b74-4588-810a-86bf5cc445d1 | 5fb25f08fafc6c79f278e5eeeced889f | Tampa               | FL | Hillsborough | 33612 | 28.05076 | ... |  5630.360 |  5712.508 | 4 | 4 | 4 | 4 | 2 | 5 | 5 | 4 |\n",
       "|  9983 |  9983 | O64996  | 07ffe436-a1a2-4b37-96b0-2602ffb1ad6f | b0df4c12776c7d9efceb9fcc67d0262e | Atlantic City       | NJ | Atlantic     |  8401 | 39.37961 | ... |  7362.128 | 16233.042 | 4 | 4 | 5 | 5 | 3 | 3 | 3 | 3 |\n",
       "|  9984 |  9984 | X601497 | 3eb0fcfd-a4d7-4c16-853f-9bdeecd2e5e4 | 2066519cb69de7fd3ab99ae1d95e00bc | Sterling City       | TX | Sterling     | 76951 | 31.81488 | ... |  6658.935 | 12498.637 | 2 | 2 | 3 | 3 | 3 | 3 | 2 | 3 |\n",
       "|  9985 |  9985 | Q687427 | f3a87c54-7b71-4f03-be8c-2d7a9ff84121 | 5a4a731e829110a0d5e5af9c6c1f78f4 | Norfolk             | VA | Norfolk      | 23503 | 36.94728 | ... |  7369.371 | 16641.419 | 3 | 3 | 4 | 3 | 2 | 4 | 4 | 5 |\n",
       "|  9986 |  9986 | X881861 | 8e9ec417-b3c8-4ce2-97a5-49aaa1a4d305 | 95a20e700317bf0e8e945dff6b71d349 | Spartanburg         | SC | Spartanburg  | 29303 | 34.99338 | ... |  6434.630 |  5104.247 | 3 | 3 | 2 | 3 | 2 | 4 | 6 | 5 |\n",
       "|  9987 |  9987 | Z630066 | 1ed0ed27-4965-4252-85ea-dd7ed73bd51a | f132eca4af3b1c955d89a213096ef88a | Perry               | IA | Dallas       | 50220 | 41.83609 | ... |  6476.178 | 15591.408 | 3 | 3 | 3 | 3 | 4 | 4 | 4 | 3 |\n",
       "|  9988 |  9988 | B175022 | dca49a93-0dbb-4661-8971-0a9298b2dd3d | a645f1fc7e570f4f41a8281c6e94efec | Basalt              | CO | Eagle        | 81621 | 39.38607 | ... |  7450.171 |  7449.758 | 5 | 5 | 5 | 3 | 4 | 4 | 5 | 4 |\n",
       "|  9989 |  9989 | H670760 | 255cb62f-8b90-464c-b991-85fedfdf5e5b | 56d72a97c95be73a9ee22d72fff1037b | Narvon              | PA | Lancaster    | 17555 | 40.12136 | ... |  8027.087 | 23321.963 | 5 | 5 | 5 | 3 | 4 | 5 | 4 | 3 |\n",
       "|  9990 |  9990 | B610309 | 1a397230-9002-4604-9ecc-0e39f2743705 | 73fa38f86a6594234b40ed84cb21abcf | Ravenna             | OH | Portage      | 44266 | 41.16674 | ... |  7672.563 | 12239.640 | 3 | 3 | 3 | 2 | 3 | 2 | 4 | 3 |\n",
       "|  9991 |  9991 | M07341  | 9b73f4cb-3945-41c1-9a38-129fcecde3a0 | 4f83c32e349fa29482f338ed25896f01 | Crosby              | MS | Wilkinson    | 39633 | 31.29102 | ... |  6900.208 | 11365.374 | 3 | 4 | 4 | 4 | 4 | 4 | 3 | 3 |\n",
       "|  9992 |  9992 | L715446 | a5492e46-bf07-4c9e-bd00-e96adba46557 | 441b4934c2fdb97ce81fe317b4150a32 | Blunt               | SD | Hughes       | 57522 | 44.47735 | ... |  7153.590 | 10263.559 | 3 | 2 | 3 | 4 | 3 | 3 | 4 | 3 |\n",
       "|  9993 |  9993 | T523588 | 8dfe0df1-bf7b-48d0-83e9-0bc22d86d168 | 1a35db97b8b90ab318b90b708904d312 | Columbus            | OH | Franklin     | 43203 | 39.97310 | ... |  8703.157 | 17367.966 | 3 | 3 | 4 | 2 | 4 | 3 | 3 | 4 |\n",
       "|  9994 |  9994 | Q117805 | ccc85472-5bd1-4389-8442-122a876b9000 | 9612abd4b9a81c2fd596ec9adb232efa | Northvale           | NJ | Bergen       |  7647 | 41.00669 | ... |  6850.726 | 27882.076 | 6 | 6 | 5 | 3 | 3 | 5 | 5 | 5 |\n",
       "|  9995 |  9995 | M583491 | 15c2b4bb-2c36-41b2-b1e2-206144fae1dc | b9dd180aa8894ecea6af33a46b22e015 | Fellsmere           | FL | Indian River | 32948 | 27.88942 | ... |  5857.564 | 12045.862 | 2 | 3 | 2 | 1 | 5 | 3 | 4 | 2 |\n",
       "|  9996 |  9996 | B863060 | a25b594d-0328-486f-a9b9-0567eb0f9723 | 39184dc28cc038871912ccc4500049e5 | Norlina             | NC | Warren       | 27563 | 36.42886 | ... |  6651.241 |  8927.642 | 3 | 2 | 2 | 3 | 4 | 3 | 4 | 2 |\n",
       "|  9997 |  9997 | P712040 | 70711574-f7b1-4a17-b15f-48c54564b70f | 3cd124ccd43147404292e883bf9ec55c | Milmay              | NJ | Atlantic     |  8340 | 39.43609 | ... |  7851.523 | 28507.147 | 3 | 3 | 4 | 2 | 5 | 3 | 4 | 4 |\n",
       "|  9998 |  9998 | R778890 | 1d79569d-8e0f-4180-a207-d67ee4527d26 | 41b770aeee97a5b9e7f69c906a8119d7 | Southside           | TN | Montgomery   | 37171 | 36.36655 | ... |  7725.953 | 15281.215 | 3 | 3 | 3 | 4 | 4 | 2 | 3 | 2 |\n",
       "|  9999 |  9999 | E344109 | f5a68e69-2a60-409b-a92f-ac0847b27db0 | 2bb491ef5b1beb1fed758cc6885c167a | Quinn               | SD | Pennington   | 57775 | 44.10354 | ... |  8462.832 |  7781.678 | 5 | 5 | 3 | 4 | 4 | 3 | 4 | 3 |\n",
       "| 10000 | 10000 | I569847 | bc482c02-f8c9-4423-99de-3db5e62a18d5 | 95663a202338000abdf7e09311c2a8a1 | Coraopolis          | PA | Allegheny    | 15108 | 40.49998 | ... |  8700.856 | 11643.190 | 4 | 3 | 3 | 2 | 3 | 6 | 4 | 3 |\n",
       "\n"
      ],
      "text/plain": [
       "      ...1  CaseOrder Customer_id Interaction                         \n",
       "1      1     1        C412403     8cd49b13-f45a-4b47-a2bd-173ffa932c2f\n",
       "2      2     2        Z919181     d2450b70-0337-4406-bdbb-bc1037f1734c\n",
       "3      3     3        F995323     a2057123-abf5-4a2c-abad-8ffe33512562\n",
       "4      4     4        A879973     1dec528d-eb34-4079-adce-0d7a40e82205\n",
       "5      5     5        C544523     5885f56b-d6da-43a3-8760-83583af94266\n",
       "6      6     6        S543885     e3b0a319-9e2e-4a23-8752-2fdc736c30f4\n",
       "7      7     7        E543302     2fccb53e-bd9a-4eaa-a53c-9dfc0cb83f94\n",
       "8      8     8        K477307     ab634508-dd8c-42e5-a4e4-d101a46f2431\n",
       "9      9     9        Q870521     67b386eb-1d04-4020-9474-542a09d304e3\n",
       "10    10    10        Z229385     5acd5dd3-f0ae-41c7-9540-cf3e4ecb2e27\n",
       "11    11    11        V593392     f79fac5c-6143-4333-91c1-da4d283db35f\n",
       "12    12    12        X459469     cc050bb7-3b61-4934-b0fe-61bd0ec79dfd\n",
       "13    13    13        N755131     103b3846-6933-452b-a66b-a59a18d29d57\n",
       "14    14    14        D550524     542acef9-365b-4cf4-a92e-21bdf28830d4\n",
       "15    15    15        T490287     19caf80a-cdc4-43a7-890d-72b07a62e5be\n",
       "16    16    16        G169983     a38fe3ce-976a-478b-a014-33ac71f24ea9\n",
       "17    17    17        O377757     7faf0261-bc66-489a-a8ba-fec333485254\n",
       "18    18    18        I745784     c173d889-8d12-4375-819e-cd83902c9de8\n",
       "19    19    19        D139360     9a1a84da-d99e-47f7-9865-1ef046db34d3\n",
       "20    20    20        Y964627     e655e7c9-6d10-4817-bdb2-f3b34716d0e0\n",
       "21    21    21        G754212     59bfca8f-18ae-4a81-a531-6597ab6d6352\n",
       "22    22    22        J10137      abd4baf3-c937-4353-af45-75d119579c04\n",
       "23    23    23        S147737     7b553658-a4e2-48f0-a81b-d70d2c1b6c02\n",
       "24    24    24        Y454618     cbe8390d-84d6-4cd9-b25d-bf1a154235c8\n",
       "25    25    25        Y563432     ca1e9204-516e-4145-869c-fdc66a5e3063\n",
       "26    26    26        K724599     c7786ca5-645f-4cbb-bc63-ab46fb4cd7b3\n",
       "27    27    27        O199825     d50f6d64-c498-48f0-8270-dd90df4e1809\n",
       "28    28    28        M914791     a06a673d-e46e-4da1-9b3c-31670d9ccbdf\n",
       "29    29    29        L97365      2ce873ac-20a0-49b6-af7d-296b44388ffe\n",
       "30    30    30        S496387     788dd722-6f14-4e0e-a728-573c0fa42379\n",
       "...   ...   ...       ...         ...                                 \n",
       "9971   9971  9971     P861904     03e336b0-87d9-4596-8ae2-736df5483f15\n",
       "9972   9972  9972     K874758     56095044-286a-4d65-8347-bfd5680a1fa9\n",
       "9973   9973  9973     S844348     88acd37d-32ef-4f18-93ca-15a664434831\n",
       "9974   9974  9974     L875086     c37f4424-ae86-4016-ab6d-3e0e796c8c01\n",
       "9975   9975  9975     U876816     a3cea1da-66ad-44a1-b4cf-51870f1f44c1\n",
       "9976   9976  9976     G252027     d6c2499d-4705-4db0-a53a-2cbbb98e31ff\n",
       "9977   9977  9977     J280152     322b520c-08a8-4249-9695-4d21feb075f7\n",
       "9978   9978  9978     V527887     ff4f2468-1da3-4787-846e-17dbeaf1d7bf\n",
       "9979   9979  9979     H473893     4b74a424-6103-4832-a0a2-b30d8b4745a3\n",
       "9980   9980  9980     N576321     d9d8473b-3793-46f8-ade9-79212c1cb175\n",
       "9981   9981  9981     L948946     20cd0ba3-af84-4011-ad29-3cff684e249d\n",
       "9982   9982  9982     S614832     826cd734-9b74-4588-810a-86bf5cc445d1\n",
       "9983   9983  9983     O64996      07ffe436-a1a2-4b37-96b0-2602ffb1ad6f\n",
       "9984   9984  9984     X601497     3eb0fcfd-a4d7-4c16-853f-9bdeecd2e5e4\n",
       "9985   9985  9985     Q687427     f3a87c54-7b71-4f03-be8c-2d7a9ff84121\n",
       "9986   9986  9986     X881861     8e9ec417-b3c8-4ce2-97a5-49aaa1a4d305\n",
       "9987   9987  9987     Z630066     1ed0ed27-4965-4252-85ea-dd7ed73bd51a\n",
       "9988   9988  9988     B175022     dca49a93-0dbb-4661-8971-0a9298b2dd3d\n",
       "9989   9989  9989     H670760     255cb62f-8b90-464c-b991-85fedfdf5e5b\n",
       "9990   9990  9990     B610309     1a397230-9002-4604-9ecc-0e39f2743705\n",
       "9991   9991  9991     M07341      9b73f4cb-3945-41c1-9a38-129fcecde3a0\n",
       "9992   9992  9992     L715446     a5492e46-bf07-4c9e-bd00-e96adba46557\n",
       "9993   9993  9993     T523588     8dfe0df1-bf7b-48d0-83e9-0bc22d86d168\n",
       "9994   9994  9994     Q117805     ccc85472-5bd1-4389-8442-122a876b9000\n",
       "9995   9995  9995     M583491     15c2b4bb-2c36-41b2-b1e2-206144fae1dc\n",
       "9996   9996  9996     B863060     a25b594d-0328-486f-a9b9-0567eb0f9723\n",
       "9997   9997  9997     P712040     70711574-f7b1-4a17-b15f-48c54564b70f\n",
       "9998   9998  9998     R778890     1d79569d-8e0f-4180-a207-d67ee4527d26\n",
       "9999   9999  9999     E344109     f5a68e69-2a60-409b-a92f-ac0847b27db0\n",
       "10000 10000 10000     I569847     bc482c02-f8c9-4423-99de-3db5e62a18d5\n",
       "      UID                              City                State County      \n",
       "1     3a83ddb66e2ae73798bdf1d705dc0932 Eva                 AL    Morgan      \n",
       "2     176354c5eef714957d486009feabf195 Marianna            FL    Jackson     \n",
       "3     e19a0fa00aeda885b8a436757e889bc9 Sioux Falls         SD    Minnehaha   \n",
       "4     cd17d7b6d152cb6f23957346d11c3f07 New Richland        MN    Waseca      \n",
       "5     d2f0425877b10ed6bb381f3e2579424a West Point          VA    King William\n",
       "6     03e447146d4a32e1aaf75727c3d1230c Braggs              OK    Muskogee    \n",
       "7     e4884a42ba809df6a89ded6c97f460d4 Thompson            OH    Geauga      \n",
       "8     5f78b8699d1aa9b950b562073f629ca2 Strasburg           VA    Shenandoah  \n",
       "9     e8e016144bfbe14974752d834f530e26 Panama City         FL    Bay         \n",
       "10    687e7ba1b80022c310fa2d4b00db199a Paynesville         MN    Stearns     \n",
       "11    4c2b0a61d8352835b59d74fc46a11b71 Daleville           MS    Lauderdale  \n",
       "12    5e1aa1c71a30c77a542c68452793b986 Casselberry         FL    Seminole    \n",
       "13    e2b9d07fa9d57d7e411299f47abcc505 Saint Francis       WI    Milwaukee   \n",
       "14    11242d7514ece3946f167db79410254b Denison             IA    Crawford    \n",
       "15    fa79d3f149c5ff752044070cb272ef15 Sioux Center        IA    Sioux       \n",
       "16    8e866e2402ea8db6d0584209f714ee2d Huntsville          AL    Madison     \n",
       "17    728333940561457a9feba1e1dc763258 Blythe              CA    Riverside   \n",
       "18    a8437eadfb17988b7d7fedcc0468664e Matthews            IN    Grant       \n",
       "19    0bcee05e1fc26d492f0559675ab318b0 Lignum              VA    Culpeper    \n",
       "20    7dd9f4cf50d66af07b37fa8951957d72 Mora                MO    Pettis      \n",
       "21    d49dab16a42bad5d54e2691b1b021f94 Saint Paul          MN    Ramsey      \n",
       "22    77c1f9fa56ab519aa9fe456d365e7174 Maybee              MI    Monroe      \n",
       "23    34898a0f4109efc1b2415ca01ce450de Big Springs         NE    Deuel       \n",
       "24    bf6eb8bbc86ade8a382121b6e07944ed Quapaw              OK    Ottawa      \n",
       "25    2eeedddcddd8e1eaa9d137babc330b4f Campbellton         FL    Jackson     \n",
       "26    cb936298236ad2514aab161272d729ca Ludlow              PA    McKean      \n",
       "27    77a87c259047ead6c57aca8d8b7a763a Pickens             AR    Desha       \n",
       "28    2e7e96cb1ad0cce6235e7ba9d70f2d00 Swiss               WV    Fayette     \n",
       "29    492ca3b3ffb9bafe810853ab4efbfbc5 Middlefield         OH    Geauga      \n",
       "30    523ff7b6eabb75776d99b46e626cc46e Arlington           IA    Fayette     \n",
       "...   ...                              ...                 ...   ...         \n",
       "9971  52e89bfc8ebf8443529a553a69e88293 Bethesda            MD    Montgomery  \n",
       "9972  c313d637cdbbfd6d3e27834ab8d42c1d Stratford           CA    Kings       \n",
       "9973  b814097a631fd103ed32b26acf5e197a East Lynn           WV    Wayne       \n",
       "9974  66e2232f5990f96113aaef19bc9ad3a4 Canton              OH    Stark       \n",
       "9975  5d028a10d5db21e3afcd1e17bb6ddd2e Seale               AL    Russell     \n",
       "9976  228117725e74720397e27bd89d07cf3c Brownville Junction ME    Piscataquis \n",
       "9977  32ec98d54f073fb30c7678738ecb5ef4 Tolland             CT    Tolland     \n",
       "9978  79be95e16c17f5a5885e6bf3430bbdfc West Union          WV    Doddridge   \n",
       "9979  c567f98ea642877676097db385830908 Fairmont            NC    Robeson     \n",
       "9980  7ca42667e4bcff078315bdf880b9ee1f Tremont             MS    Itawamba    \n",
       "9981  32bac1757efbd94c1ab2c84d1229469c Fillmore            IN    Putnam      \n",
       "9982  5fb25f08fafc6c79f278e5eeeced889f Tampa               FL    Hillsborough\n",
       "9983  b0df4c12776c7d9efceb9fcc67d0262e Atlantic City       NJ    Atlantic    \n",
       "9984  2066519cb69de7fd3ab99ae1d95e00bc Sterling City       TX    Sterling    \n",
       "9985  5a4a731e829110a0d5e5af9c6c1f78f4 Norfolk             VA    Norfolk     \n",
       "9986  95a20e700317bf0e8e945dff6b71d349 Spartanburg         SC    Spartanburg \n",
       "9987  f132eca4af3b1c955d89a213096ef88a Perry               IA    Dallas      \n",
       "9988  a645f1fc7e570f4f41a8281c6e94efec Basalt              CO    Eagle       \n",
       "9989  56d72a97c95be73a9ee22d72fff1037b Narvon              PA    Lancaster   \n",
       "9990  73fa38f86a6594234b40ed84cb21abcf Ravenna             OH    Portage     \n",
       "9991  4f83c32e349fa29482f338ed25896f01 Crosby              MS    Wilkinson   \n",
       "9992  441b4934c2fdb97ce81fe317b4150a32 Blunt               SD    Hughes      \n",
       "9993  1a35db97b8b90ab318b90b708904d312 Columbus            OH    Franklin    \n",
       "9994  9612abd4b9a81c2fd596ec9adb232efa Northvale           NJ    Bergen      \n",
       "9995  b9dd180aa8894ecea6af33a46b22e015 Fellsmere           FL    Indian River\n",
       "9996  39184dc28cc038871912ccc4500049e5 Norlina             NC    Warren      \n",
       "9997  3cd124ccd43147404292e883bf9ec55c Milmay              NJ    Atlantic    \n",
       "9998  41b770aeee97a5b9e7f69c906a8119d7 Southside           TN    Montgomery  \n",
       "9999  2bb491ef5b1beb1fed758cc6885c167a Quinn               SD    Pennington  \n",
       "10000 95663a202338000abdf7e09311c2a8a1 Coraopolis          PA    Allegheny   \n",
       "      Zip   Lat      ... TotalCharge Additional_charges Item1 Item2 Item3 Item4\n",
       "1     35621 34.34960 ...  3191.049   17939.403          3     3     2     2    \n",
       "2     32446 30.84513 ...  4214.905   17612.998          3     4     3     4    \n",
       "3     57110 43.54321 ...  2177.587   17505.192          2     4     4     4    \n",
       "4     56072 43.89744 ...  2465.119   12993.437          3     5     5     3    \n",
       "5     23181 37.59894 ...  1885.655    3716.526          2     1     3     3    \n",
       "6     74423 35.67302 ...  2774.090   12742.590          4     5     4     4    \n",
       "7     44086 41.67511 ...  3533.292   16815.514          4     3     3     2    \n",
       "8     22641 39.08062 ...  3316.400    6930.572          1     2     2     5    \n",
       "9     32404 30.20097 ...  2922.760    8363.187          3     3     2     3    \n",
       "10    56362 45.40325 ...  3709.548   26225.990          5     5     5     3    \n",
       "11    39326 32.59914 ...  3042.387   18518.043          3     3     4     4    \n",
       "12    32707 28.66268 ... 14804.319   21480.886          4     5     5     5    \n",
       "13    53235 42.97168 ...  2622.024    7357.827          4     4     2     4    \n",
       "14    51442 42.03038 ...  1919.147    8454.613          3     3     3     5    \n",
       "15    51250 43.08426 ...  2330.423   14382.229          4     5     5     4    \n",
       "16    35811 34.79693 ...  2228.684    9415.372          4     5     4     4    \n",
       "17    92225 33.74647 ...  2938.953    8157.752          5     4     5     2    \n",
       "18    46957 40.38836 ...  2631.702    9539.219          4     4     3     5    \n",
       "19    22726 38.40136 ...  2990.086   23453.358          3     4     4     3    \n",
       "20    65345 38.54040 ...  4026.967   14051.435          2     2     2     4    \n",
       "21    55103 44.96425 ...  3772.157   28788.080          3     3     4     4    \n",
       "22    48159 42.02415 ...  3252.272    9128.650          4     4     4     3    \n",
       "23    69122 41.13007 ...  3810.395   11112.139          4     5     5     3    \n",
       "24    74363 36.95315 ...  3532.603   12876.792          4     4     3     4    \n",
       "25    32426 30.94714 ...  3971.110    3624.049          4     3     4     4    \n",
       "26    16333 41.70345 ...  3614.977   25364.431          3     3     3     3    \n",
       "27    71662 33.84200 ...  2953.797    8485.173          4     4     4     4    \n",
       "28    26690 38.22553 ...  4060.337   12417.640          3     3     3     2    \n",
       "29    44062 41.45764 ...  3656.830   22890.097          2     3     3     2    \n",
       "30    50606 42.74733 ...  3331.824    9801.759          2     3     2     2    \n",
       "...   ...   ...          ...         ...                ...   ...   ...   ...  \n",
       "9971  20816 38.95591 ...  6365.300    6667.627          3     3     3     3    \n",
       "9972  93266 36.15725 ...  6842.784    9605.539          4     4     3     4    \n",
       "9973  25512 38.18654 ...  7595.974    4576.672          5     4     5     4    \n",
       "9974  44721 40.89412 ... 18579.481    4430.436          3     3     3     4    \n",
       "9975  36875 32.33317 ...  6752.010    7631.056          4     3     4     3    \n",
       "9976   4415 45.38263 ...  8571.286   14901.936          5     5     4     2    \n",
       "9977   6084 41.87892 ...  7079.759   24562.155          4     5     4     3    \n",
       "9978  26456 39.27989 ...  7656.160   11755.062          4     3     4     2    \n",
       "9979  28340 34.47200 ...  5090.395   13712.421          3     2     3     2    \n",
       "9980  38876 34.21787 ...  8252.709    4044.245          3     3     5     3    \n",
       "9981  46128 39.65568 ...  6226.905    7478.464          4     3     4     4    \n",
       "9982  33612 28.05076 ...  5630.360    5712.508          4     4     4     4    \n",
       "9983   8401 39.37961 ...  7362.128   16233.042          4     4     5     5    \n",
       "9984  76951 31.81488 ...  6658.935   12498.637          2     2     3     3    \n",
       "9985  23503 36.94728 ...  7369.371   16641.419          3     3     4     3    \n",
       "9986  29303 34.99338 ...  6434.630    5104.247          3     3     2     3    \n",
       "9987  50220 41.83609 ...  6476.178   15591.408          3     3     3     3    \n",
       "9988  81621 39.38607 ...  7450.171    7449.758          5     5     5     3    \n",
       "9989  17555 40.12136 ...  8027.087   23321.963          5     5     5     3    \n",
       "9990  44266 41.16674 ...  7672.563   12239.640          3     3     3     2    \n",
       "9991  39633 31.29102 ...  6900.208   11365.374          3     4     4     4    \n",
       "9992  57522 44.47735 ...  7153.590   10263.559          3     2     3     4    \n",
       "9993  43203 39.97310 ...  8703.157   17367.966          3     3     4     2    \n",
       "9994   7647 41.00669 ...  6850.726   27882.076          6     6     5     3    \n",
       "9995  32948 27.88942 ...  5857.564   12045.862          2     3     2     1    \n",
       "9996  27563 36.42886 ...  6651.241    8927.642          3     2     2     3    \n",
       "9997   8340 39.43609 ...  7851.523   28507.147          3     3     4     2    \n",
       "9998  37171 36.36655 ...  7725.953   15281.215          3     3     3     4    \n",
       "9999  57775 44.10354 ...  8462.832    7781.678          5     5     3     4    \n",
       "10000 15108 40.49998 ...  8700.856   11643.190          4     3     3     2    \n",
       "      Item5 Item6 Item7 Item8\n",
       "1     4     3     3     4    \n",
       "2     4     4     3     3    \n",
       "3     3     4     3     3    \n",
       "4     4     5     5     5    \n",
       "5     5     3     4     3    \n",
       "6     3     5     4     6    \n",
       "7     3     4     5     5    \n",
       "8     4     2     4     2    \n",
       "9     3     3     4     2    \n",
       "10    4     2     3     2    \n",
       "11    2     5     2     3    \n",
       "12    3     3     3     3    \n",
       "13    5     2     4     3    \n",
       "14    4     5     3     2    \n",
       "15    5     3     3     5    \n",
       "16    4     3     3     3    \n",
       "17    4     3     4     3    \n",
       "18    2     4     5     4    \n",
       "19    4     2     3     2    \n",
       "20    4     3     5     1    \n",
       "21    3     3     3     1    \n",
       "22    3     4     4     4    \n",
       "23    5     6     3     5    \n",
       "24    2     3     6     4    \n",
       "25    3     4     2     2    \n",
       "26    3     4     4     6    \n",
       "27    2     3     4     5    \n",
       "28    3     5     2     3    \n",
       "29    4     3     4     4    \n",
       "30    6     2     3     2    \n",
       "...   ...   ...   ...   ...  \n",
       "9971  4     3     3     2    \n",
       "9972  4     5     2     4    \n",
       "9973  4     3     4     2    \n",
       "9974  3     4     5     4    \n",
       "9975  4     3     3     3    \n",
       "9976  3     3     3     3    \n",
       "9977  3     4     3     6    \n",
       "9978  6     2     1     2    \n",
       "9979  5     2     1     4    \n",
       "9980  3     4     5     4    \n",
       "9981  4     4     3     2    \n",
       "9982  2     5     5     4    \n",
       "9983  3     3     3     3    \n",
       "9984  3     3     2     3    \n",
       "9985  2     4     4     5    \n",
       "9986  2     4     6     5    \n",
       "9987  4     4     4     3    \n",
       "9988  4     4     5     4    \n",
       "9989  4     5     4     3    \n",
       "9990  3     2     4     3    \n",
       "9991  4     4     3     3    \n",
       "9992  3     3     4     3    \n",
       "9993  4     3     3     4    \n",
       "9994  3     5     5     5    \n",
       "9995  5     3     4     2    \n",
       "9996  4     3     4     2    \n",
       "9997  5     3     4     4    \n",
       "9998  4     2     3     2    \n",
       "9999  4     3     4     3    \n",
       "10000 3     6     4     3    "
      ]
     },
     "metadata": {},
     "output_type": "display_data"
    }
   ],
   "source": [
    "medical"
   ]
  },
  {
   "cell_type": "markdown",
   "id": "ffc713f5-0565-4744-a906-23fcf5913f48",
   "metadata": {},
   "source": [
    "#### To clear warning messages, use this code: options(warn = - 1)        "
   ]
  },
  {
   "cell_type": "code",
   "execution_count": 85,
   "id": "dbf48e22-4ef3-4119-bde9-24d69f693f22",
   "metadata": {},
   "outputs": [],
   "source": [
    "options(warn = - 1)        "
   ]
  },
  {
   "cell_type": "code",
   "execution_count": null,
   "id": "0bee0e32-54b9-4ad0-b606-1dcf89a51959",
   "metadata": {},
   "outputs": [],
   "source": []
  }
 ],
 "metadata": {
  "kernelspec": {
   "display_name": "R",
   "language": "R",
   "name": "ir"
  },
  "language_info": {
   "codemirror_mode": "r",
   "file_extension": ".r",
   "mimetype": "text/x-r-source",
   "name": "R",
   "pygments_lexer": "r",
   "version": "4.2.1"
  }
 },
 "nbformat": 4,
 "nbformat_minor": 5
}
