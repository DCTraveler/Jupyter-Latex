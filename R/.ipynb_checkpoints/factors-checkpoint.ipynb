{
 "cells": [
  {
   "cell_type": "markdown",
   "id": "f8728ad9-e3de-420f-a499-4f9ecfb92352",
   "metadata": {},
   "source": [
    "# Factor Analysis\n",
    "\n",
    "Another important thing to think about when analyzing surveys is how well the items \"hang together\" and whether you are measuring more than one concept in your survey.  You may ask several questions about a similar broad topic, but is that all one topic, or does it really have some subtopics in it? *Factor analysis* has the answer to these questions and more! The basic goal of factor analysis is to see how items fall together and to see if they group in any particular patterns that make sense logically.\n",
    "\n",
    "## Types of Factor Analysis\n",
    "\n",
    "There are two broad types of factor analysis: *exploratory factor analysis* and *confirmatory factor analysis*. Exploratory factor analysis, abbreviated *EFA*, is used when you don't really have an inkling of what your data will yield.  You are intrepid explorers, traversing unknown survey data worlds! Confirmatory factor analysis, abbreviated *CFA* (so original!), is either for after you have completed EFA or when you are so confident about what your data holds you feel you can skip the EFA and just want a validation check. You are confirming your thoughts about the data with CFA. An example of when you might proceed straight to CFA is when you have already used a validated, previously studied set of survey items, and just want to make sure that your data is behaving the same way as it did for others.  \n",
    "\n",
    "The most common type of factor analysis is definitely EFA, and it's a good thing, because it's easier, too! Conducting a CFA is actually a form of structural equation modeling (SEM), and you won't get into that here. However, you will learn how to rock the heck out of an EFA, and that knowledge will take you a long way!\n",
    "\n",
    "---\n",
    "\n",
    "## Assumptions of EFA\n",
    "\n",
    "There are only three assumptions for EFA - yes you heard that right - three! Let the party commence! \n",
    "\n",
    "---\n",
    "\n",
    "### Sample Size \n",
    "\n",
    "Although there are many different opinions about sample size for EFA, the safest rule you can follow is to have at least 300 data points. However, you may be able to get away with as few as 150 data points if you have a small number of survey questions you're examining and those survey questions are moderately correlated with each other. \n",
    "\n",
    "---\n",
    "\n",
    "### Absence of Multicollinearity\n",
    "\n",
    "*Multicollinearity*, or having a lot of overlap between variables, is a problem, because it will make sorting your survey items into distinct groups quite difficult.  Chances are that if your survey items all have really high multicollinearity, then you should have asked fewer survey items, because they are all getting at the same concept! You can test for multicollinearity by running a correlation matrix on all your survey items. If anything correlates with anything else at .9 or higher, than it's got to go, and you'll want to eliminate it from your analysis.  Though that's a good guideline, you may run into situations where lower correlations also cause problems.  You'll be able to catch this by looking at the *determinants*. You can think of determinants as another measure of how well survey items are correlated. When you run a determinant test, you are looking for a value of greater than .00001.    \n",
    "\n",
    "---\n",
    "\n",
    "### Some Relationship between Survey Items\n",
    "\n",
    "Although multicollinearity is to be avoided, it's important that there is some relationship between your survey items. Otherwise, they probably shouldn't be grouped together at all! So you'll also want to scan your correlation matrix for any variable that has multiple correlations with other items of .3 or lower, which is a good indication it's not going to play nicely with the others and should be removed. You can also run a catch-all test to make sure that there is some relation between all the variables - this is *Bartlett's test*, which you will want to be significant, since it tests against an *identity matrix*, or a matrix that assumes no relationship between all variables (correlations of 0 for everything).\n",
    "\n",
    "---\n",
    "\n",
    "## Factor Rotation\n",
    "\n",
    "The other big thing you need to know about EFA before diving in is *factor rotation*.  In order to better see the relationships between your different survey items, you will want to rotate the data.  You can rotate it 90 degrees, which is called *orthogonal rotation* and is really meant for when you theoretically don't think your survey items are related, or you can rotate it with *oblique rotation*, which does not maintain right angles at 90 degrees.  Oblique rotation is when you theoretically believe your survey items should be related. The most common types of orthogonal rotation are *varimax* and *quartimax*.  The most common types of oblique rotation are *oblimin* and *promax*. You don't need to know the mathematical differences between then, and chances are, you will use a process of trial and error in which you'll try at least two different rotation types for each data set.\n",
    "\n",
    "In the image below, you'll see that Figure A shows off the raw data, which is scattered all over the place.  Figure B, in the middle, shows a type of orthogonal rotation, in which the axes are now turned 90 degrees from where they once were.  And Figure C shows a type of oblique rotation, which also rotates the data, just not at 90 degrees.  In this example, the data remain spread apart (probably because there are only three data points), but in most cases, as you rotate, the data will start to clump together, forming factors."
   ]
  },
  {
   "cell_type": "markdown",
   "id": "f337ebe4-3e32-4796-8a2e-30bc658bc04c",
   "metadata": {},
   "source": [
    "# Factor Analysis Setup\n",
    "\n",
    "Now that you understand the basics of factor analysis, you will run one of your own in R!\n",
    "\n",
    "---\n",
    "\n",
    "## Load Libraries\n",
    "\n",
    "You will need to install and load several libraries in order to complete factor analysis in R. You will use ```corpcor``` for correlations, and ```GPArotation``` for the factor analysis proper.  ```psych``` will help you with interpreting the factor loadings, and ```IDPmisc``` can be used to remove missing data.\n",
    "\n",
    "```{r}\n",
    "library(\"corpcor\")\n",
    "library(\"GPArotation\")\n",
    "library(\"psych\")\n",
    "library(\"IDPmisc\")\n",
    "```\n",
    "\n",
    "---"
   ]
  },
  {
   "cell_type": "code",
   "execution_count": 1,
   "id": "6be5df0d-20f1-414b-83be-152cb343e3e6",
   "metadata": {},
   "outputs": [
    {
     "name": "stdout",
     "output_type": "stream",
     "text": [
      "\n",
      "The downloaded binary packages are in\n",
      "\t/var/folders/wk/6why77bn1kn0l0pkd4vd3zl00000gn/T//RtmpgUF8ti/downloaded_packages\n",
      "\n",
      "The downloaded binary packages are in\n",
      "\t/var/folders/wk/6why77bn1kn0l0pkd4vd3zl00000gn/T//RtmpgUF8ti/downloaded_packages\n"
     ]
    },
    {
     "name": "stderr",
     "output_type": "stream",
     "text": [
      "also installing the dependencies ‘tmvnsim’, ‘mnormt’\n",
      "\n",
      "\n"
     ]
    },
    {
     "name": "stdout",
     "output_type": "stream",
     "text": [
      "\n",
      "The downloaded binary packages are in\n",
      "\t/var/folders/wk/6why77bn1kn0l0pkd4vd3zl00000gn/T//RtmpgUF8ti/downloaded_packages\n",
      "\n",
      "The downloaded binary packages are in\n",
      "\t/var/folders/wk/6why77bn1kn0l0pkd4vd3zl00000gn/T//RtmpgUF8ti/downloaded_packages\n"
     ]
    }
   ],
   "source": [
    "# INSTALL PACKAGES ####\n",
    "install.packages(\"corpcor\")\n",
    "install.packages(\"GPArotation\")\n",
    "install.packages(\"psych\")\n",
    "install.packages(\"IDPmisc\")"
   ]
  },
  {
   "cell_type": "code",
   "execution_count": 3,
   "id": "394b2a09-d4b6-4c29-9ea7-da73b3c52a24",
   "metadata": {},
   "outputs": [],
   "source": [
    "# LOAD LIBRARIES ####\n",
    "library(\"corpcor\")\n",
    "library(\"GPArotation\")\n",
    "library(\"psych\")\n",
    "library(\"IDPmisc\")"
   ]
  },
  {
   "cell_type": "markdown",
   "id": "6f91a38b-46ed-4615-baaf-f95001c98777",
   "metadata": {},
   "source": [
    "## Load in Data\n",
    "\n",
    "For this walkthrough, you will  be using **[data from a survey on financial wellbeing](https://repo.exeterlms.com/documents/V2/DataScience/Metrics-Data-Processing/financialWB.zip)**  The codebook is located **[here](https://s3.amazonaws.com/files.consumerfinance.gov/f/documents/cfpb_nfwbs-puf-codebook.pdf)**. Check out the variable list starting on page 5 if you'd like to know what all the survey items are (or at least the ones you'll be working with).\n",
    "\n",
    "---\n"
   ]
  },
  {
   "cell_type": "code",
   "execution_count": 5,
   "id": "62c48b01-9955-41a8-a974-46d181d4579d",
   "metadata": {},
   "outputs": [],
   "source": [
    "financialWB <- read.csv('../data/financialWB.csv')"
   ]
  },
  {
   "cell_type": "code",
   "execution_count": 7,
   "id": "7543f512-ef21-4644-b8bc-22eefc63615e",
   "metadata": {},
   "outputs": [
    {
     "data": {
      "text/html": [
       "<table class=\"dataframe\">\n",
       "<caption>A data.frame: 6 × 217</caption>\n",
       "<thead>\n",
       "\t<tr><th></th><th scope=col>PUF_ID</th><th scope=col>sample</th><th scope=col>fpl</th><th scope=col>SWB_1</th><th scope=col>SWB_2</th><th scope=col>SWB_3</th><th scope=col>FWBscore</th><th scope=col>FWB1_1</th><th scope=col>FWB1_2</th><th scope=col>FWB1_3</th><th scope=col>⋯</th><th scope=col>PPMSACAT</th><th scope=col>PPREG4</th><th scope=col>PPREG9</th><th scope=col>PPT01</th><th scope=col>PPT25</th><th scope=col>PPT612</th><th scope=col>PPT1317</th><th scope=col>PPT18OV</th><th scope=col>PCTLT200FPL</th><th scope=col>finalwt</th></tr>\n",
       "\t<tr><th></th><th scope=col>&lt;int&gt;</th><th scope=col>&lt;int&gt;</th><th scope=col>&lt;int&gt;</th><th scope=col>&lt;int&gt;</th><th scope=col>&lt;int&gt;</th><th scope=col>&lt;int&gt;</th><th scope=col>&lt;int&gt;</th><th scope=col>&lt;int&gt;</th><th scope=col>&lt;int&gt;</th><th scope=col>&lt;int&gt;</th><th scope=col>⋯</th><th scope=col>&lt;int&gt;</th><th scope=col>&lt;int&gt;</th><th scope=col>&lt;int&gt;</th><th scope=col>&lt;int&gt;</th><th scope=col>&lt;int&gt;</th><th scope=col>&lt;int&gt;</th><th scope=col>&lt;int&gt;</th><th scope=col>&lt;int&gt;</th><th scope=col>&lt;int&gt;</th><th scope=col>&lt;dbl&gt;</th></tr>\n",
       "</thead>\n",
       "<tbody>\n",
       "\t<tr><th scope=row>1</th><td>10350</td><td>2</td><td>3</td><td>5</td><td>5</td><td>6</td><td>55</td><td>3</td><td>3</td><td>3</td><td>⋯</td><td>1</td><td>4</td><td>8</td><td>0</td><td>0</td><td>0</td><td>0</td><td>1</td><td>0</td><td>0.3672919</td></tr>\n",
       "\t<tr><th scope=row>2</th><td> 7740</td><td>1</td><td>3</td><td>6</td><td>6</td><td>6</td><td>51</td><td>2</td><td>2</td><td>3</td><td>⋯</td><td>1</td><td>2</td><td>3</td><td>0</td><td>0</td><td>0</td><td>0</td><td>2</td><td>0</td><td>1.3275607</td></tr>\n",
       "\t<tr><th scope=row>3</th><td>13699</td><td>1</td><td>3</td><td>4</td><td>3</td><td>4</td><td>49</td><td>3</td><td>3</td><td>3</td><td>⋯</td><td>1</td><td>4</td><td>9</td><td>0</td><td>0</td><td>0</td><td>1</td><td>2</td><td>1</td><td>0.8351558</td></tr>\n",
       "\t<tr><th scope=row>4</th><td> 7267</td><td>1</td><td>3</td><td>6</td><td>6</td><td>6</td><td>49</td><td>3</td><td>3</td><td>3</td><td>⋯</td><td>1</td><td>3</td><td>7</td><td>0</td><td>0</td><td>0</td><td>0</td><td>1</td><td>0</td><td>1.4108710</td></tr>\n",
       "\t<tr><th scope=row>5</th><td> 7375</td><td>1</td><td>3</td><td>4</td><td>4</td><td>4</td><td>49</td><td>3</td><td>3</td><td>3</td><td>⋯</td><td>1</td><td>2</td><td>4</td><td>0</td><td>0</td><td>1</td><td>0</td><td>4</td><td>1</td><td>4.2606681</td></tr>\n",
       "\t<tr><th scope=row>6</th><td>10910</td><td>1</td><td>3</td><td>5</td><td>7</td><td>5</td><td>67</td><td>5</td><td>1</td><td>1</td><td>⋯</td><td>1</td><td>2</td><td>3</td><td>0</td><td>0</td><td>0</td><td>0</td><td>2</td><td>0</td><td>0.7600609</td></tr>\n",
       "</tbody>\n",
       "</table>\n"
      ],
      "text/latex": [
       "A data.frame: 6 × 217\n",
       "\\begin{tabular}{r|lllllllllllllllllllll}\n",
       "  & PUF\\_ID & sample & fpl & SWB\\_1 & SWB\\_2 & SWB\\_3 & FWBscore & FWB1\\_1 & FWB1\\_2 & FWB1\\_3 & ⋯ & PPMSACAT & PPREG4 & PPREG9 & PPT01 & PPT25 & PPT612 & PPT1317 & PPT18OV & PCTLT200FPL & finalwt\\\\\n",
       "  & <int> & <int> & <int> & <int> & <int> & <int> & <int> & <int> & <int> & <int> & ⋯ & <int> & <int> & <int> & <int> & <int> & <int> & <int> & <int> & <int> & <dbl>\\\\\n",
       "\\hline\n",
       "\t1 & 10350 & 2 & 3 & 5 & 5 & 6 & 55 & 3 & 3 & 3 & ⋯ & 1 & 4 & 8 & 0 & 0 & 0 & 0 & 1 & 0 & 0.3672919\\\\\n",
       "\t2 &  7740 & 1 & 3 & 6 & 6 & 6 & 51 & 2 & 2 & 3 & ⋯ & 1 & 2 & 3 & 0 & 0 & 0 & 0 & 2 & 0 & 1.3275607\\\\\n",
       "\t3 & 13699 & 1 & 3 & 4 & 3 & 4 & 49 & 3 & 3 & 3 & ⋯ & 1 & 4 & 9 & 0 & 0 & 0 & 1 & 2 & 1 & 0.8351558\\\\\n",
       "\t4 &  7267 & 1 & 3 & 6 & 6 & 6 & 49 & 3 & 3 & 3 & ⋯ & 1 & 3 & 7 & 0 & 0 & 0 & 0 & 1 & 0 & 1.4108710\\\\\n",
       "\t5 &  7375 & 1 & 3 & 4 & 4 & 4 & 49 & 3 & 3 & 3 & ⋯ & 1 & 2 & 4 & 0 & 0 & 1 & 0 & 4 & 1 & 4.2606681\\\\\n",
       "\t6 & 10910 & 1 & 3 & 5 & 7 & 5 & 67 & 5 & 1 & 1 & ⋯ & 1 & 2 & 3 & 0 & 0 & 0 & 0 & 2 & 0 & 0.7600609\\\\\n",
       "\\end{tabular}\n"
      ],
      "text/markdown": [
       "\n",
       "A data.frame: 6 × 217\n",
       "\n",
       "| <!--/--> | PUF_ID &lt;int&gt; | sample &lt;int&gt; | fpl &lt;int&gt; | SWB_1 &lt;int&gt; | SWB_2 &lt;int&gt; | SWB_3 &lt;int&gt; | FWBscore &lt;int&gt; | FWB1_1 &lt;int&gt; | FWB1_2 &lt;int&gt; | FWB1_3 &lt;int&gt; | ⋯ ⋯ | PPMSACAT &lt;int&gt; | PPREG4 &lt;int&gt; | PPREG9 &lt;int&gt; | PPT01 &lt;int&gt; | PPT25 &lt;int&gt; | PPT612 &lt;int&gt; | PPT1317 &lt;int&gt; | PPT18OV &lt;int&gt; | PCTLT200FPL &lt;int&gt; | finalwt &lt;dbl&gt; |\n",
       "|---|---|---|---|---|---|---|---|---|---|---|---|---|---|---|---|---|---|---|---|---|---|\n",
       "| 1 | 10350 | 2 | 3 | 5 | 5 | 6 | 55 | 3 | 3 | 3 | ⋯ | 1 | 4 | 8 | 0 | 0 | 0 | 0 | 1 | 0 | 0.3672919 |\n",
       "| 2 |  7740 | 1 | 3 | 6 | 6 | 6 | 51 | 2 | 2 | 3 | ⋯ | 1 | 2 | 3 | 0 | 0 | 0 | 0 | 2 | 0 | 1.3275607 |\n",
       "| 3 | 13699 | 1 | 3 | 4 | 3 | 4 | 49 | 3 | 3 | 3 | ⋯ | 1 | 4 | 9 | 0 | 0 | 0 | 1 | 2 | 1 | 0.8351558 |\n",
       "| 4 |  7267 | 1 | 3 | 6 | 6 | 6 | 49 | 3 | 3 | 3 | ⋯ | 1 | 3 | 7 | 0 | 0 | 0 | 0 | 1 | 0 | 1.4108710 |\n",
       "| 5 |  7375 | 1 | 3 | 4 | 4 | 4 | 49 | 3 | 3 | 3 | ⋯ | 1 | 2 | 4 | 0 | 0 | 1 | 0 | 4 | 1 | 4.2606681 |\n",
       "| 6 | 10910 | 1 | 3 | 5 | 7 | 5 | 67 | 5 | 1 | 1 | ⋯ | 1 | 2 | 3 | 0 | 0 | 0 | 0 | 2 | 0 | 0.7600609 |\n",
       "\n"
      ],
      "text/plain": [
       "  PUF_ID sample fpl SWB_1 SWB_2 SWB_3 FWBscore FWB1_1 FWB1_2 FWB1_3 ⋯ PPMSACAT\n",
       "1 10350  2      3   5     5     6     55       3      3      3      ⋯ 1       \n",
       "2  7740  1      3   6     6     6     51       2      2      3      ⋯ 1       \n",
       "3 13699  1      3   4     3     4     49       3      3      3      ⋯ 1       \n",
       "4  7267  1      3   6     6     6     49       3      3      3      ⋯ 1       \n",
       "5  7375  1      3   4     4     4     49       3      3      3      ⋯ 1       \n",
       "6 10910  1      3   5     7     5     67       5      1      1      ⋯ 1       \n",
       "  PPREG4 PPREG9 PPT01 PPT25 PPT612 PPT1317 PPT18OV PCTLT200FPL finalwt  \n",
       "1 4      8      0     0     0      0       1       0           0.3672919\n",
       "2 2      3      0     0     0      0       2       0           1.3275607\n",
       "3 4      9      0     0     0      1       2       1           0.8351558\n",
       "4 3      7      0     0     0      0       1       0           1.4108710\n",
       "5 2      4      0     0     1      0       4       1           4.2606681\n",
       "6 2      3      0     0     0      0       2       0           0.7600609"
      ]
     },
     "metadata": {},
     "output_type": "display_data"
    }
   ],
   "source": [
    "head(financialWB)"
   ]
  },
  {
   "cell_type": "markdown",
   "id": "1c6ba848-c990-4a00-9a14-ca724aeb90fb",
   "metadata": {},
   "source": [
    "## Question Setup\n",
    "\n",
    "With the data above, you will be determining how a set of questions from the financial wellbeing survey hang together and whether there are any subscales. To do this, you will perform factor analysis.  In factor analysis, there is no x or y variables - you are simply seeing how variables fit together.\n",
    "\n",
    "---\n",
    "\n",
    "## Data Wrangling\n",
    "\n",
    "Before you begin, there is one data wrangling item that needs to take place - you will subset your data.  The function you'll use in R for factor analysis does not allow you to specify variables, so you'll need to trim your data to only the variables you are interested in looking at to begin with. In order to subset, take a look at the data and identify the columns you want to keep. In this case, you want the items that start with ```FWB```. They are contained in columns numbered 8-17.  With the below code, you will only have those columns in your new dataset to use:\n",
    "\n",
    "```{r}\n",
    "financialWB1 <- financialWB[, 8:17]\n",
    "```"
   ]
  },
  {
   "cell_type": "code",
   "execution_count": 8,
   "id": "387fb347-1e30-4f4b-aff0-10f4f8b3e94d",
   "metadata": {},
   "outputs": [],
   "source": [
    "financialWB1 <- financialWB[, 8:17]"
   ]
  },
  {
   "cell_type": "code",
   "execution_count": 10,
   "id": "d51b66e1-a87c-43a5-949b-7681f72c205b",
   "metadata": {},
   "outputs": [
    {
     "data": {
      "text/html": [
       "<table class=\"dataframe\">\n",
       "<caption>A data.frame: 6 × 10</caption>\n",
       "<thead>\n",
       "\t<tr><th></th><th scope=col>FWB1_1</th><th scope=col>FWB1_2</th><th scope=col>FWB1_3</th><th scope=col>FWB1_4</th><th scope=col>FWB1_5</th><th scope=col>FWB1_6</th><th scope=col>FWB2_1</th><th scope=col>FWB2_2</th><th scope=col>FWB2_3</th><th scope=col>FWB2_4</th></tr>\n",
       "\t<tr><th></th><th scope=col>&lt;int&gt;</th><th scope=col>&lt;int&gt;</th><th scope=col>&lt;int&gt;</th><th scope=col>&lt;int&gt;</th><th scope=col>&lt;int&gt;</th><th scope=col>&lt;int&gt;</th><th scope=col>&lt;int&gt;</th><th scope=col>&lt;int&gt;</th><th scope=col>&lt;int&gt;</th><th scope=col>&lt;int&gt;</th></tr>\n",
       "</thead>\n",
       "<tbody>\n",
       "\t<tr><th scope=row>1</th><td>3</td><td>3</td><td>3</td><td>3</td><td>2</td><td>3</td><td>2</td><td>3</td><td>2</td><td>4</td></tr>\n",
       "\t<tr><th scope=row>2</th><td>2</td><td>2</td><td>3</td><td>3</td><td>3</td><td>4</td><td>2</td><td>2</td><td>2</td><td>3</td></tr>\n",
       "\t<tr><th scope=row>3</th><td>3</td><td>3</td><td>3</td><td>3</td><td>3</td><td>3</td><td>3</td><td>3</td><td>3</td><td>3</td></tr>\n",
       "\t<tr><th scope=row>4</th><td>3</td><td>3</td><td>3</td><td>3</td><td>3</td><td>3</td><td>3</td><td>3</td><td>3</td><td>3</td></tr>\n",
       "\t<tr><th scope=row>5</th><td>3</td><td>3</td><td>3</td><td>3</td><td>3</td><td>3</td><td>3</td><td>3</td><td>3</td><td>3</td></tr>\n",
       "\t<tr><th scope=row>6</th><td>5</td><td>1</td><td>1</td><td>1</td><td>1</td><td>1</td><td>2</td><td>5</td><td>2</td><td>2</td></tr>\n",
       "</tbody>\n",
       "</table>\n"
      ],
      "text/latex": [
       "A data.frame: 6 × 10\n",
       "\\begin{tabular}{r|llllllllll}\n",
       "  & FWB1\\_1 & FWB1\\_2 & FWB1\\_3 & FWB1\\_4 & FWB1\\_5 & FWB1\\_6 & FWB2\\_1 & FWB2\\_2 & FWB2\\_3 & FWB2\\_4\\\\\n",
       "  & <int> & <int> & <int> & <int> & <int> & <int> & <int> & <int> & <int> & <int>\\\\\n",
       "\\hline\n",
       "\t1 & 3 & 3 & 3 & 3 & 2 & 3 & 2 & 3 & 2 & 4\\\\\n",
       "\t2 & 2 & 2 & 3 & 3 & 3 & 4 & 2 & 2 & 2 & 3\\\\\n",
       "\t3 & 3 & 3 & 3 & 3 & 3 & 3 & 3 & 3 & 3 & 3\\\\\n",
       "\t4 & 3 & 3 & 3 & 3 & 3 & 3 & 3 & 3 & 3 & 3\\\\\n",
       "\t5 & 3 & 3 & 3 & 3 & 3 & 3 & 3 & 3 & 3 & 3\\\\\n",
       "\t6 & 5 & 1 & 1 & 1 & 1 & 1 & 2 & 5 & 2 & 2\\\\\n",
       "\\end{tabular}\n"
      ],
      "text/markdown": [
       "\n",
       "A data.frame: 6 × 10\n",
       "\n",
       "| <!--/--> | FWB1_1 &lt;int&gt; | FWB1_2 &lt;int&gt; | FWB1_3 &lt;int&gt; | FWB1_4 &lt;int&gt; | FWB1_5 &lt;int&gt; | FWB1_6 &lt;int&gt; | FWB2_1 &lt;int&gt; | FWB2_2 &lt;int&gt; | FWB2_3 &lt;int&gt; | FWB2_4 &lt;int&gt; |\n",
       "|---|---|---|---|---|---|---|---|---|---|---|\n",
       "| 1 | 3 | 3 | 3 | 3 | 2 | 3 | 2 | 3 | 2 | 4 |\n",
       "| 2 | 2 | 2 | 3 | 3 | 3 | 4 | 2 | 2 | 2 | 3 |\n",
       "| 3 | 3 | 3 | 3 | 3 | 3 | 3 | 3 | 3 | 3 | 3 |\n",
       "| 4 | 3 | 3 | 3 | 3 | 3 | 3 | 3 | 3 | 3 | 3 |\n",
       "| 5 | 3 | 3 | 3 | 3 | 3 | 3 | 3 | 3 | 3 | 3 |\n",
       "| 6 | 5 | 1 | 1 | 1 | 1 | 1 | 2 | 5 | 2 | 2 |\n",
       "\n"
      ],
      "text/plain": [
       "  FWB1_1 FWB1_2 FWB1_3 FWB1_4 FWB1_5 FWB1_6 FWB2_1 FWB2_2 FWB2_3 FWB2_4\n",
       "1 3      3      3      3      2      3      2      3      2      4     \n",
       "2 2      2      3      3      3      4      2      2      2      3     \n",
       "3 3      3      3      3      3      3      3      3      3      3     \n",
       "4 3      3      3      3      3      3      3      3      3      3     \n",
       "5 3      3      3      3      3      3      3      3      3      3     \n",
       "6 5      1      1      1      1      1      2      5      2      2     "
      ]
     },
     "metadata": {},
     "output_type": "display_data"
    }
   ],
   "source": [
    "head(financialWB1)"
   ]
  },
  {
   "cell_type": "markdown",
   "id": "72085d6b-9f76-485a-b0eb-3412205974b8",
   "metadata": {},
   "source": [
    "---\n",
    "\n",
    "## Test Assumptions\n",
    "\n",
    "Now that you have the columns you'll be examining in the factor analysis, you'll need to test the assumptions for them! You will be looking at sample size and how well the variables relate to each other.\n",
    "\n",
    "---\n",
    "\n",
    "### Sample Size\n",
    "\n",
    "Sample size should ideally be 300 or more. Luckily, there are 6,394 rows here, so you have met this assumption!\n",
    "\n",
    "---\n",
    "\n",
    "### Absence of Multicollinearity\n",
    "\n",
    "Next, you will test for the absence of multicollinearity. The first way to do this is with a correlation matrix.  You can use the function ```cor()``` to do that: \n",
    "\n",
    "```{r}\n",
    "financialWBmatrix <- cor(financialWB1)\n",
    "```\n",
    "\n"
   ]
  },
  {
   "cell_type": "code",
   "execution_count": 12,
   "id": "f7e5550f-6aa3-428a-890c-685d92b85328",
   "metadata": {},
   "outputs": [],
   "source": [
    "financialWBmatrix <- cor(financialWB1)"
   ]
  },
  {
   "cell_type": "markdown",
   "id": "ffb3c79c-403d-48a9-8864-8d41737ca54d",
   "metadata": {},
   "source": [
    "And then to view it, you can easily use the ```View()``` function to read it easier in R (as opposed to printing it), and you can make use of hte ```round()``` function so that you are only seeing two decimal places, which makes things easier to sort through.  The ```2``` in the code below indicates the number of decimal places you would like to see. \n",
    "\n",
    "```{r}\n",
    "View(round(financialWBmatrix, 2))\n",
    "```"
   ]
  },
  {
   "cell_type": "code",
   "execution_count": 13,
   "id": "cc747eb6-c8a0-4776-9478-655323fd2a7e",
   "metadata": {},
   "outputs": [
    {
     "data": {
      "text/html": [
       "<table class=\"dataframe\">\n",
       "<caption>A matrix: 10 × 10 of type dbl</caption>\n",
       "<thead>\n",
       "\t<tr><th></th><th scope=col>FWB1_1</th><th scope=col>FWB1_2</th><th scope=col>FWB1_3</th><th scope=col>FWB1_4</th><th scope=col>FWB1_5</th><th scope=col>FWB1_6</th><th scope=col>FWB2_1</th><th scope=col>FWB2_2</th><th scope=col>FWB2_3</th><th scope=col>FWB2_4</th></tr>\n",
       "</thead>\n",
       "<tbody>\n",
       "\t<tr><th scope=row>FWB1_1</th><td> 1.00</td><td> 0.68</td><td>-0.48</td><td> 0.69</td><td>-0.42</td><td>-0.44</td><td>-0.57</td><td> 0.65</td><td>-0.48</td><td>-0.45</td></tr>\n",
       "\t<tr><th scope=row>FWB1_2</th><td> 0.68</td><td> 1.00</td><td>-0.48</td><td> 0.70</td><td>-0.36</td><td>-0.45</td><td>-0.51</td><td> 0.60</td><td>-0.43</td><td>-0.41</td></tr>\n",
       "\t<tr><th scope=row>FWB1_3</th><td>-0.48</td><td>-0.48</td><td> 1.00</td><td>-0.49</td><td> 0.53</td><td> 0.62</td><td> 0.60</td><td>-0.50</td><td> 0.52</td><td> 0.55</td></tr>\n",
       "\t<tr><th scope=row>FWB1_4</th><td> 0.69</td><td> 0.70</td><td>-0.49</td><td> 1.00</td><td>-0.35</td><td>-0.43</td><td>-0.50</td><td> 0.62</td><td>-0.46</td><td>-0.43</td></tr>\n",
       "\t<tr><th scope=row>FWB1_5</th><td>-0.42</td><td>-0.36</td><td> 0.53</td><td>-0.35</td><td> 1.00</td><td> 0.47</td><td> 0.50</td><td>-0.41</td><td> 0.43</td><td> 0.44</td></tr>\n",
       "\t<tr><th scope=row>FWB1_6</th><td>-0.44</td><td>-0.45</td><td> 0.62</td><td>-0.43</td><td> 0.47</td><td> 1.00</td><td> 0.52</td><td>-0.45</td><td> 0.44</td><td> 0.51</td></tr>\n",
       "\t<tr><th scope=row>FWB2_1</th><td>-0.57</td><td>-0.51</td><td> 0.60</td><td>-0.50</td><td> 0.50</td><td> 0.52</td><td> 1.00</td><td>-0.60</td><td> 0.64</td><td> 0.61</td></tr>\n",
       "\t<tr><th scope=row>FWB2_2</th><td> 0.65</td><td> 0.60</td><td>-0.50</td><td> 0.62</td><td>-0.41</td><td>-0.45</td><td>-0.60</td><td> 1.00</td><td>-0.53</td><td>-0.46</td></tr>\n",
       "\t<tr><th scope=row>FWB2_3</th><td>-0.48</td><td>-0.43</td><td> 0.52</td><td>-0.46</td><td> 0.43</td><td> 0.44</td><td> 0.64</td><td>-0.53</td><td> 1.00</td><td> 0.55</td></tr>\n",
       "\t<tr><th scope=row>FWB2_4</th><td>-0.45</td><td>-0.41</td><td> 0.55</td><td>-0.43</td><td> 0.44</td><td> 0.51</td><td> 0.61</td><td>-0.46</td><td> 0.55</td><td> 1.00</td></tr>\n",
       "</tbody>\n",
       "</table>\n"
      ],
      "text/latex": [
       "A matrix: 10 × 10 of type dbl\n",
       "\\begin{tabular}{r|llllllllll}\n",
       "  & FWB1\\_1 & FWB1\\_2 & FWB1\\_3 & FWB1\\_4 & FWB1\\_5 & FWB1\\_6 & FWB2\\_1 & FWB2\\_2 & FWB2\\_3 & FWB2\\_4\\\\\n",
       "\\hline\n",
       "\tFWB1\\_1 &  1.00 &  0.68 & -0.48 &  0.69 & -0.42 & -0.44 & -0.57 &  0.65 & -0.48 & -0.45\\\\\n",
       "\tFWB1\\_2 &  0.68 &  1.00 & -0.48 &  0.70 & -0.36 & -0.45 & -0.51 &  0.60 & -0.43 & -0.41\\\\\n",
       "\tFWB1\\_3 & -0.48 & -0.48 &  1.00 & -0.49 &  0.53 &  0.62 &  0.60 & -0.50 &  0.52 &  0.55\\\\\n",
       "\tFWB1\\_4 &  0.69 &  0.70 & -0.49 &  1.00 & -0.35 & -0.43 & -0.50 &  0.62 & -0.46 & -0.43\\\\\n",
       "\tFWB1\\_5 & -0.42 & -0.36 &  0.53 & -0.35 &  1.00 &  0.47 &  0.50 & -0.41 &  0.43 &  0.44\\\\\n",
       "\tFWB1\\_6 & -0.44 & -0.45 &  0.62 & -0.43 &  0.47 &  1.00 &  0.52 & -0.45 &  0.44 &  0.51\\\\\n",
       "\tFWB2\\_1 & -0.57 & -0.51 &  0.60 & -0.50 &  0.50 &  0.52 &  1.00 & -0.60 &  0.64 &  0.61\\\\\n",
       "\tFWB2\\_2 &  0.65 &  0.60 & -0.50 &  0.62 & -0.41 & -0.45 & -0.60 &  1.00 & -0.53 & -0.46\\\\\n",
       "\tFWB2\\_3 & -0.48 & -0.43 &  0.52 & -0.46 &  0.43 &  0.44 &  0.64 & -0.53 &  1.00 &  0.55\\\\\n",
       "\tFWB2\\_4 & -0.45 & -0.41 &  0.55 & -0.43 &  0.44 &  0.51 &  0.61 & -0.46 &  0.55 &  1.00\\\\\n",
       "\\end{tabular}\n"
      ],
      "text/markdown": [
       "\n",
       "A matrix: 10 × 10 of type dbl\n",
       "\n",
       "| <!--/--> | FWB1_1 | FWB1_2 | FWB1_3 | FWB1_4 | FWB1_5 | FWB1_6 | FWB2_1 | FWB2_2 | FWB2_3 | FWB2_4 |\n",
       "|---|---|---|---|---|---|---|---|---|---|---|\n",
       "| FWB1_1 |  1.00 |  0.68 | -0.48 |  0.69 | -0.42 | -0.44 | -0.57 |  0.65 | -0.48 | -0.45 |\n",
       "| FWB1_2 |  0.68 |  1.00 | -0.48 |  0.70 | -0.36 | -0.45 | -0.51 |  0.60 | -0.43 | -0.41 |\n",
       "| FWB1_3 | -0.48 | -0.48 |  1.00 | -0.49 |  0.53 |  0.62 |  0.60 | -0.50 |  0.52 |  0.55 |\n",
       "| FWB1_4 |  0.69 |  0.70 | -0.49 |  1.00 | -0.35 | -0.43 | -0.50 |  0.62 | -0.46 | -0.43 |\n",
       "| FWB1_5 | -0.42 | -0.36 |  0.53 | -0.35 |  1.00 |  0.47 |  0.50 | -0.41 |  0.43 |  0.44 |\n",
       "| FWB1_6 | -0.44 | -0.45 |  0.62 | -0.43 |  0.47 |  1.00 |  0.52 | -0.45 |  0.44 |  0.51 |\n",
       "| FWB2_1 | -0.57 | -0.51 |  0.60 | -0.50 |  0.50 |  0.52 |  1.00 | -0.60 |  0.64 |  0.61 |\n",
       "| FWB2_2 |  0.65 |  0.60 | -0.50 |  0.62 | -0.41 | -0.45 | -0.60 |  1.00 | -0.53 | -0.46 |\n",
       "| FWB2_3 | -0.48 | -0.43 |  0.52 | -0.46 |  0.43 |  0.44 |  0.64 | -0.53 |  1.00 |  0.55 |\n",
       "| FWB2_4 | -0.45 | -0.41 |  0.55 | -0.43 |  0.44 |  0.51 |  0.61 | -0.46 |  0.55 |  1.00 |\n",
       "\n"
      ],
      "text/plain": [
       "       FWB1_1 FWB1_2 FWB1_3 FWB1_4 FWB1_5 FWB1_6 FWB2_1 FWB2_2 FWB2_3 FWB2_4\n",
       "FWB1_1  1.00   0.68  -0.48   0.69  -0.42  -0.44  -0.57   0.65  -0.48  -0.45 \n",
       "FWB1_2  0.68   1.00  -0.48   0.70  -0.36  -0.45  -0.51   0.60  -0.43  -0.41 \n",
       "FWB1_3 -0.48  -0.48   1.00  -0.49   0.53   0.62   0.60  -0.50   0.52   0.55 \n",
       "FWB1_4  0.69   0.70  -0.49   1.00  -0.35  -0.43  -0.50   0.62  -0.46  -0.43 \n",
       "FWB1_5 -0.42  -0.36   0.53  -0.35   1.00   0.47   0.50  -0.41   0.43   0.44 \n",
       "FWB1_6 -0.44  -0.45   0.62  -0.43   0.47   1.00   0.52  -0.45   0.44   0.51 \n",
       "FWB2_1 -0.57  -0.51   0.60  -0.50   0.50   0.52   1.00  -0.60   0.64   0.61 \n",
       "FWB2_2  0.65   0.60  -0.50   0.62  -0.41  -0.45  -0.60   1.00  -0.53  -0.46 \n",
       "FWB2_3 -0.48  -0.43   0.52  -0.46   0.43   0.44   0.64  -0.53   1.00   0.55 \n",
       "FWB2_4 -0.45  -0.41   0.55  -0.43   0.44   0.51   0.61  -0.46   0.55   1.00 "
      ]
     },
     "metadata": {},
     "output_type": "display_data"
    }
   ],
   "source": [
    "View(round(financialWBmatrix, 2))"
   ]
  },
  {
   "cell_type": "markdown",
   "id": "7ae6ca2b-e0e8-4356-ad2c-9bae481dc92d",
   "metadata": {},
   "source": [
    "---\n",
    "In it, you want to look at only half the matrix (remember that the top and bottom halves along the diagonal are mirror image of each other). As you go down the columns, starting to look only after the 1.0 on the diagonal, look for any correlations that are higher than .9. This would indicate really high multicollinearity, and if there's an item that has a correlation of .9, you will most likely want to remove that item. A quick scan indicates that there is nothing above .9 here and you are good to go. \n",
    "\n",
    "---"
   ]
  },
  {
   "cell_type": "markdown",
   "id": "24dc21ab-f85f-42a5-81ba-850fd2e02d09",
   "metadata": {},
   "source": [
    "#### Bartlett's Test\n",
    "\n",
    "To double check your findings from the correlation matrix, you can also run Bartlett's test with this simple line: \n",
    "\n",
    "```{r}\n",
    "cortest.bartlett(financialWB1)\n",
    "```"
   ]
  },
  {
   "cell_type": "code",
   "execution_count": 14,
   "id": "8ff3c3b8-2737-4262-8a07-c6da4a5f5d49",
   "metadata": {},
   "outputs": [
    {
     "name": "stderr",
     "output_type": "stream",
     "text": [
      "R was not square, finding R from data\n",
      "\n"
     ]
    },
    {
     "data": {
      "text/html": [
       "<dl>\n",
       "\t<dt>$chisq</dt>\n",
       "\t\t<dd>35500.631419635</dd>\n",
       "\t<dt>$p.value</dt>\n",
       "\t\t<dd>0</dd>\n",
       "\t<dt>$df</dt>\n",
       "\t\t<dd>45</dd>\n",
       "</dl>\n"
      ],
      "text/latex": [
       "\\begin{description}\n",
       "\\item[\\$chisq] 35500.631419635\n",
       "\\item[\\$p.value] 0\n",
       "\\item[\\$df] 45\n",
       "\\end{description}\n"
      ],
      "text/markdown": [
       "$chisq\n",
       ":   35500.631419635\n",
       "$p.value\n",
       ":   0\n",
       "$df\n",
       ":   45\n",
       "\n",
       "\n"
      ],
      "text/plain": [
       "$chisq\n",
       "[1] 35500.63\n",
       "\n",
       "$p.value\n",
       "[1] 0\n",
       "\n",
       "$df\n",
       "[1] 45\n"
      ]
     },
     "metadata": {},
     "output_type": "display_data"
    }
   ],
   "source": [
    "cortest.bartlett(financialWB1)"
   ]
  },
  {
   "cell_type": "code",
   "execution_count": null,
   "id": "eefeaec0-a78e-411f-a0a5-c178a4738723",
   "metadata": {},
   "outputs": [],
   "source": []
  }
 ],
 "metadata": {
  "kernelspec": {
   "display_name": "R",
   "language": "R",
   "name": "ir"
  },
  "language_info": {
   "codemirror_mode": "r",
   "file_extension": ".r",
   "mimetype": "text/x-r-source",
   "name": "R",
   "pygments_lexer": "r",
   "version": "4.1.0"
  }
 },
 "nbformat": 4,
 "nbformat_minor": 5
}
