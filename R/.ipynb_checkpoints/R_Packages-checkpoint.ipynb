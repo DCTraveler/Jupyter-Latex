{
 "cells": [
  {
   "cell_type": "code",
   "execution_count": 1,
   "id": "843d13c1-5b73-48ba-b412-4870c4b943db",
   "metadata": {},
   "outputs": [
    {
     "name": "stdout",
     "output_type": "stream",
     "text": [
      "\n",
      "The downloaded binary packages are in\n",
      "\t/var/folders/wk/6why77bn1kn0l0pkd4vd3zl00000gn/T//RtmpVlRh8z/downloaded_packages\n"
     ]
    }
   ],
   "source": [
    "install.packages(c(\"devtools\", \"roxygen2\", \"testthat\", \"knitr\"))"
   ]
  },
  {
   "cell_type": "code",
   "execution_count": 2,
   "id": "669803c3-9650-4012-af45-a13ce8a5b13b",
   "metadata": {},
   "outputs": [
    {
     "name": "stderr",
     "output_type": "stream",
     "text": [
      "Loading required package: usethis\n",
      "\n"
     ]
    }
   ],
   "source": [
    "library(devtools)"
   ]
  },
  {
   "cell_type": "code",
   "execution_count": 3,
   "id": "8efccd9e-f366-4d9f-b47a-3da4628adb7f",
   "metadata": {},
   "outputs": [
    {
     "name": "stderr",
     "output_type": "stream",
     "text": [
      "Your system is ready to build packages!\n",
      "\n"
     ]
    }
   ],
   "source": [
    "has_devel()"
   ]
  },
  {
   "cell_type": "code",
   "execution_count": null,
   "id": "0fdc5fa5-93e2-4545-b058-44e86e52b1a8",
   "metadata": {},
   "outputs": [],
   "source": []
  }
 ],
 "metadata": {
  "kernelspec": {
   "display_name": "R",
   "language": "R",
   "name": "ir"
  },
  "language_info": {
   "codemirror_mode": "r",
   "file_extension": ".r",
   "mimetype": "text/x-r-source",
   "name": "R",
   "pygments_lexer": "r",
   "version": "4.1.0"
  }
 },
 "nbformat": 4,
 "nbformat_minor": 5
}
