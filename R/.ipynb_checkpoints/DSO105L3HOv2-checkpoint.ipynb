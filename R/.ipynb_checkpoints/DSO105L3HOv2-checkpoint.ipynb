{
 "cells": [
  {
   "cell_type": "code",
   "execution_count": 1,
   "id": "989e7c9f-4bdf-45e7-8ce2-6a29a9fbcd34",
   "metadata": {},
   "outputs": [
    {
     "name": "stdout",
     "output_type": "stream",
     "text": [
      "\n",
      "The downloaded binary packages are in\n",
      "\t/var/folders/wk/6why77bn1kn0l0pkd4vd3zl00000gn/T//Rtmpm6mqLc/downloaded_packages\n",
      "\n",
      "The downloaded binary packages are in\n",
      "\t/var/folders/wk/6why77bn1kn0l0pkd4vd3zl00000gn/T//Rtmpm6mqLc/downloaded_packages\n",
      "\n",
      "The downloaded binary packages are in\n",
      "\t/var/folders/wk/6why77bn1kn0l0pkd4vd3zl00000gn/T//Rtmpm6mqLc/downloaded_packages\n"
     ]
    }
   ],
   "source": [
    "# INSTALL PACKAGES ####\n",
    "install.packages(\"gmodels\")\n",
    "install.packages(\"tidyr\")\n",
    "install.packages(\"dplyr\")"
   ]
  },
  {
   "cell_type": "code",
   "execution_count": 2,
   "id": "122044b5-edcc-48d2-a36e-5fba65a080d0",
   "metadata": {},
   "outputs": [
    {
     "name": "stderr",
     "output_type": "stream",
     "text": [
      "\n",
      "Attaching package: ‘dplyr’\n",
      "\n",
      "\n",
      "The following objects are masked from ‘package:stats’:\n",
      "\n",
      "    filter, lag\n",
      "\n",
      "\n",
      "The following objects are masked from ‘package:base’:\n",
      "\n",
      "    intersect, setdiff, setequal, union\n",
      "\n",
      "\n"
     ]
    }
   ],
   "source": [
    "# USE PACKAGES ####\n",
    "library(\"gmodels\")\n",
    "library(\"tidyr\")\n",
    "library(\"dplyr\")"
   ]
  },
  {
   "cell_type": "code",
   "execution_count": 3,
   "id": "099ebb12-5be9-4ee9-a4be-ce5aca3561b8",
   "metadata": {},
   "outputs": [],
   "source": [
    "# READ IN DATA\n",
    "loans <- read.csv('../data/loans.csv')"
   ]
  },
  {
   "cell_type": "code",
   "execution_count": 4,
   "id": "857694d0-f897-4ed7-a97b-21e50520def0",
   "metadata": {},
   "outputs": [
    {
     "data": {
      "text/html": [
       "<table class=\"dataframe\">\n",
       "<caption>A data.frame: 6 × 5</caption>\n",
       "<thead>\n",
       "\t<tr><th></th><th scope=col>X</th><th scope=col>term</th><th scope=col>loan_status</th><th scope=col>Date</th><th scope=col>home_ownership</th></tr>\n",
       "\t<tr><th></th><th scope=col>&lt;int&gt;</th><th scope=col>&lt;chr&gt;</th><th scope=col>&lt;chr&gt;</th><th scope=col>&lt;chr&gt;</th><th scope=col>&lt;chr&gt;</th></tr>\n",
       "</thead>\n",
       "<tbody>\n",
       "\t<tr><th scope=row>1</th><td>1</td><td> 36 months</td><td>Fully Paid </td><td>12/1/2011</td><td>RENT</td></tr>\n",
       "\t<tr><th scope=row>2</th><td>2</td><td> 60 months</td><td>Charged Off</td><td>12/1/2011</td><td>RENT</td></tr>\n",
       "\t<tr><th scope=row>3</th><td>3</td><td> 36 months</td><td>Fully Paid </td><td>12/1/2011</td><td>RENT</td></tr>\n",
       "\t<tr><th scope=row>4</th><td>4</td><td> 36 months</td><td>Fully Paid </td><td>12/1/2011</td><td>RENT</td></tr>\n",
       "\t<tr><th scope=row>5</th><td>5</td><td> 60 months</td><td>Current    </td><td>12/1/2011</td><td>RENT</td></tr>\n",
       "\t<tr><th scope=row>6</th><td>6</td><td> 36 months</td><td>Fully Paid </td><td>12/1/2011</td><td>RENT</td></tr>\n",
       "</tbody>\n",
       "</table>\n"
      ],
      "text/latex": [
       "A data.frame: 6 × 5\n",
       "\\begin{tabular}{r|lllll}\n",
       "  & X & term & loan\\_status & Date & home\\_ownership\\\\\n",
       "  & <int> & <chr> & <chr> & <chr> & <chr>\\\\\n",
       "\\hline\n",
       "\t1 & 1 &  36 months & Fully Paid  & 12/1/2011 & RENT\\\\\n",
       "\t2 & 2 &  60 months & Charged Off & 12/1/2011 & RENT\\\\\n",
       "\t3 & 3 &  36 months & Fully Paid  & 12/1/2011 & RENT\\\\\n",
       "\t4 & 4 &  36 months & Fully Paid  & 12/1/2011 & RENT\\\\\n",
       "\t5 & 5 &  60 months & Current     & 12/1/2011 & RENT\\\\\n",
       "\t6 & 6 &  36 months & Fully Paid  & 12/1/2011 & RENT\\\\\n",
       "\\end{tabular}\n"
      ],
      "text/markdown": [
       "\n",
       "A data.frame: 6 × 5\n",
       "\n",
       "| <!--/--> | X &lt;int&gt; | term &lt;chr&gt; | loan_status &lt;chr&gt; | Date &lt;chr&gt; | home_ownership &lt;chr&gt; |\n",
       "|---|---|---|---|---|---|\n",
       "| 1 | 1 |  36 months | Fully Paid  | 12/1/2011 | RENT |\n",
       "| 2 | 2 |  60 months | Charged Off | 12/1/2011 | RENT |\n",
       "| 3 | 3 |  36 months | Fully Paid  | 12/1/2011 | RENT |\n",
       "| 4 | 4 |  36 months | Fully Paid  | 12/1/2011 | RENT |\n",
       "| 5 | 5 |  60 months | Current     | 12/1/2011 | RENT |\n",
       "| 6 | 6 |  36 months | Fully Paid  | 12/1/2011 | RENT |\n",
       "\n"
      ],
      "text/plain": [
       "  X term       loan_status Date      home_ownership\n",
       "1 1  36 months Fully Paid  12/1/2011 RENT          \n",
       "2 2  60 months Charged Off 12/1/2011 RENT          \n",
       "3 3  36 months Fully Paid  12/1/2011 RENT          \n",
       "4 4  36 months Fully Paid  12/1/2011 RENT          \n",
       "5 5  60 months Current     12/1/2011 RENT          \n",
       "6 6  36 months Fully Paid  12/1/2011 RENT          "
      ]
     },
     "metadata": {},
     "output_type": "display_data"
    }
   ],
   "source": [
    "# VIEW DATA\n",
    "head(loans)"
   ]
  },
  {
   "cell_type": "code",
   "execution_count": null,
   "id": "930f67cf-bce5-485c-b2a1-003db6c0cdb8",
   "metadata": {},
   "outputs": [],
   "source": []
  }
 ],
 "metadata": {
  "kernelspec": {
   "display_name": "R",
   "language": "R",
   "name": "ir"
  },
  "language_info": {
   "codemirror_mode": "r",
   "file_extension": ".r",
   "mimetype": "text/x-r-source",
   "name": "R",
   "pygments_lexer": "r",
   "version": "4.1.0"
  }
 },
 "nbformat": 4,
 "nbformat_minor": 5
}
