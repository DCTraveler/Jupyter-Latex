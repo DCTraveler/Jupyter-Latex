{
 "cells": [
  {
   "cell_type": "code",
   "execution_count": 2,
   "id": "37ee12df-6d64-4d7c-a9b3-56fdb5b6e840",
   "metadata": {},
   "outputs": [
    {
     "name": "stdout",
     "output_type": "stream",
     "text": [
      "\n",
      "The downloaded binary packages are in\n",
      "\t/var/folders/wk/6why77bn1kn0l0pkd4vd3zl00000gn/T//Rtmpfl2mTb/downloaded_packages\n"
     ]
    }
   ],
   "source": [
    "# INSTALL PACKAGES ####\n",
    "install.packages(\"tidyverse\")\n",
    "install.packages(\"gmodels\")\n",
    "\n",
    "# USE PACKAGES ####\n",
    "library(\"tidyverse\")\n",
    "library(\"gmodels\")"
   ]
  },
  {
   "cell_type": "code",
   "execution_count": 4,
   "id": "40065989-ad39-4e78-bc69-877d93365707",
   "metadata": {},
   "outputs": [],
   "source": [
    "# READ IN DATA\n",
    "loans <- read.csv('../data/loans.csv')"
   ]
  },
  {
   "cell_type": "code",
   "execution_count": 6,
   "id": "837af118-c0ff-45e2-b9bd-d0f10e54b994",
   "metadata": {},
   "outputs": [
    {
     "data": {
      "text/html": [
       "<table class=\"dataframe\">\n",
       "<caption>A data.frame: 6 × 5</caption>\n",
       "<thead>\n",
       "\t<tr><th></th><th scope=col>X</th><th scope=col>term</th><th scope=col>loan_status</th><th scope=col>Date</th><th scope=col>home_ownership</th></tr>\n",
       "\t<tr><th></th><th scope=col>&lt;int&gt;</th><th scope=col>&lt;chr&gt;</th><th scope=col>&lt;chr&gt;</th><th scope=col>&lt;chr&gt;</th><th scope=col>&lt;chr&gt;</th></tr>\n",
       "</thead>\n",
       "<tbody>\n",
       "\t<tr><th scope=row>1</th><td>1</td><td> 36 months</td><td>Fully Paid </td><td>12/1/2011</td><td>RENT</td></tr>\n",
       "\t<tr><th scope=row>2</th><td>2</td><td> 60 months</td><td>Charged Off</td><td>12/1/2011</td><td>RENT</td></tr>\n",
       "\t<tr><th scope=row>3</th><td>3</td><td> 36 months</td><td>Fully Paid </td><td>12/1/2011</td><td>RENT</td></tr>\n",
       "\t<tr><th scope=row>4</th><td>4</td><td> 36 months</td><td>Fully Paid </td><td>12/1/2011</td><td>RENT</td></tr>\n",
       "\t<tr><th scope=row>5</th><td>5</td><td> 60 months</td><td>Current    </td><td>12/1/2011</td><td>RENT</td></tr>\n",
       "\t<tr><th scope=row>6</th><td>6</td><td> 36 months</td><td>Fully Paid </td><td>12/1/2011</td><td>RENT</td></tr>\n",
       "</tbody>\n",
       "</table>\n"
      ],
      "text/latex": [
       "A data.frame: 6 × 5\n",
       "\\begin{tabular}{r|lllll}\n",
       "  & X & term & loan\\_status & Date & home\\_ownership\\\\\n",
       "  & <int> & <chr> & <chr> & <chr> & <chr>\\\\\n",
       "\\hline\n",
       "\t1 & 1 &  36 months & Fully Paid  & 12/1/2011 & RENT\\\\\n",
       "\t2 & 2 &  60 months & Charged Off & 12/1/2011 & RENT\\\\\n",
       "\t3 & 3 &  36 months & Fully Paid  & 12/1/2011 & RENT\\\\\n",
       "\t4 & 4 &  36 months & Fully Paid  & 12/1/2011 & RENT\\\\\n",
       "\t5 & 5 &  60 months & Current     & 12/1/2011 & RENT\\\\\n",
       "\t6 & 6 &  36 months & Fully Paid  & 12/1/2011 & RENT\\\\\n",
       "\\end{tabular}\n"
      ],
      "text/markdown": [
       "\n",
       "A data.frame: 6 × 5\n",
       "\n",
       "| <!--/--> | X &lt;int&gt; | term &lt;chr&gt; | loan_status &lt;chr&gt; | Date &lt;chr&gt; | home_ownership &lt;chr&gt; |\n",
       "|---|---|---|---|---|---|\n",
       "| 1 | 1 |  36 months | Fully Paid  | 12/1/2011 | RENT |\n",
       "| 2 | 2 |  60 months | Charged Off | 12/1/2011 | RENT |\n",
       "| 3 | 3 |  36 months | Fully Paid  | 12/1/2011 | RENT |\n",
       "| 4 | 4 |  36 months | Fully Paid  | 12/1/2011 | RENT |\n",
       "| 5 | 5 |  60 months | Current     | 12/1/2011 | RENT |\n",
       "| 6 | 6 |  36 months | Fully Paid  | 12/1/2011 | RENT |\n",
       "\n"
      ],
      "text/plain": [
       "  X term       loan_status Date      home_ownership\n",
       "1 1  36 months Fully Paid  12/1/2011 RENT          \n",
       "2 2  60 months Charged Off 12/1/2011 RENT          \n",
       "3 3  36 months Fully Paid  12/1/2011 RENT          \n",
       "4 4  36 months Fully Paid  12/1/2011 RENT          \n",
       "5 5  60 months Current     12/1/2011 RENT          \n",
       "6 6  36 months Fully Paid  12/1/2011 RENT          "
      ]
     },
     "metadata": {},
     "output_type": "display_data"
    }
   ],
   "source": [
    "# VIEW DATA\n",
    "head(loans)"
   ]
  },
  {
   "cell_type": "markdown",
   "id": "93f94fbf-8678-4f43-ad15-72f7168c83db",
   "metadata": {},
   "source": [
    "## Part I\n",
    "Please answer the following question.\n",
    "\n",
    "Does the term of the loan influence loan status? If so, how?"
   ]
  },
  {
   "cell_type": "code",
   "execution_count": 7,
   "id": "303f7447-0a3c-43d9-8d52-a5bfe99d930d",
   "metadata": {},
   "outputs": [
    {
     "name": "stdout",
     "output_type": "stream",
     "text": [
      "\n",
      "   Cell Contents\n",
      "|-------------------------|\n",
      "|                   Count |\n",
      "|         Expected Values |\n",
      "| Chi-square contribution |\n",
      "|             Row Percent |\n",
      "|          Column Percent |\n",
      "|           Total Percent |\n",
      "|            Std Residual |\n",
      "|-------------------------|\n",
      "\n",
      "Total Observations in Table:  21957 \n",
      "\n",
      "             | loans$loan_status \n",
      "  loans$term | Charged Off  |     Current  |  Fully Paid  |   Row Total | \n",
      "-------------|-------------|-------------|-------------|-------------|\n",
      "   36 months |       2029  |          0  |      14964  |      16993  | \n",
      "             |   2540.011  |    388.509  |  14064.480  |             | \n",
      "             |    102.808  |    388.509  |     57.530  |             | \n",
      "             |     11.940% |      0.000% |     88.060% |     77.392% | \n",
      "             |     61.822% |      0.000% |     82.342% |             | \n",
      "             |      9.241% |      0.000% |     68.151% |             | \n",
      "             |    -10.139  |    -19.711  |      7.585  |             | \n",
      "-------------|-------------|-------------|-------------|-------------|\n",
      "   60 months |       1253  |        502  |       3209  |       4964  | \n",
      "             |    741.989  |    113.491  |   4108.520  |             | \n",
      "             |    351.936  |   1329.961  |    196.941  |             | \n",
      "             |     25.242% |     10.113% |     64.645% |     22.608% | \n",
      "             |     38.178% |    100.000% |     17.658% |             | \n",
      "             |      5.707% |      2.286% |     14.615% |             | \n",
      "             |     18.760  |     36.469  |    -14.034  |             | \n",
      "-------------|-------------|-------------|-------------|-------------|\n",
      "Column Total |       3282  |        502  |      18173  |      21957  | \n",
      "             |     14.947% |      2.286% |     82.766% |             | \n",
      "-------------|-------------|-------------|-------------|-------------|\n",
      "\n",
      " \n",
      "Statistics for All Table Factors\n",
      "\n",
      "\n",
      "Pearson's Chi-squared test \n",
      "------------------------------------------------------------\n",
      "Chi^2 =  2427.685     d.f. =  2     p =  0 \n",
      "\n",
      "\n",
      " \n"
     ]
    },
    {
     "ename": "ERROR",
     "evalue": "Error in fisher.test(t, alternative = \"two.sided\"): FEXACT error 6 (f5xact).  LDKEY=484 is too small for this problem: kval=84285355.\nTry increasing the size of the workspace.\n",
     "output_type": "error",
     "traceback": [
      "Error in fisher.test(t, alternative = \"two.sided\"): FEXACT error 6 (f5xact).  LDKEY=484 is too small for this problem: kval=84285355.\nTry increasing the size of the workspace.\nTraceback:\n",
      "1. CrossTable(loans$term, loans$loan_status, fisher = TRUE, chisq = TRUE, \n .     expected = TRUE, sresid = TRUE, format = \"SPSS\")",
      "2. print.statistics()",
      "3. fisher.test(t, alternative = \"two.sided\")"
     ]
    }
   ],
   "source": [
    "CrossTable(loans$term, loans$loan_status, fisher=TRUE, chisq = TRUE, expected = TRUE, sresid=TRUE, format=\"SPSS\")\n",
    "\n",
    "# 36 month term loans are more likely to be fully paid off and less likely to be charged off or current.  \n",
    "# The reverse is true for 60 month loans.\n"
   ]
  },
  {
   "cell_type": "markdown",
   "id": "8a5d8526-fad6-48aa-991e-f107ce8be586",
   "metadata": {},
   "source": [
    "## Part II\n",
    "Please answer the following question.\n",
    "\n",
    "How has the ability to own a home changed after 2009?"
   ]
  },
  {
   "cell_type": "markdown",
   "id": "53e67c8d-d71d-45a5-bd78-249ee58ff02e",
   "metadata": {},
   "source": [
    "To reformat the Date column into a new column, use this code:\n",
    "\n",
    "```\n",
    "loans$DateR <- as.Date(paste(loans$Date), \"%m/%d/%Y\")\n",
    "```"
   ]
  },
  {
   "cell_type": "markdown",
   "id": "27131429-2e60-4d76-bba4-8a73c8f6f51f",
   "metadata": {},
   "source": [
    "## Part III\n",
    "Please answer the following question.\n",
    "\n",
    "The news just ran a story that in America, only 15% of homes are fully paid, 10% have given up on paying it back (\"charged off\"), and 75% are current in the loan. Does it seem likely that the data for this hands-on came from the larger population of America?"
   ]
  },
  {
   "cell_type": "code",
   "execution_count": null,
   "id": "0ffca00a-77f6-4d33-acd9-d214efb46ed2",
   "metadata": {},
   "outputs": [],
   "source": []
  }
 ],
 "metadata": {
  "kernelspec": {
   "display_name": "R",
   "language": "R",
   "name": "ir"
  },
  "language_info": {
   "codemirror_mode": "r",
   "file_extension": ".r",
   "mimetype": "text/x-r-source",
   "name": "R",
   "pygments_lexer": "r",
   "version": "4.1.0"
  }
 },
 "nbformat": 4,
 "nbformat_minor": 5
}
