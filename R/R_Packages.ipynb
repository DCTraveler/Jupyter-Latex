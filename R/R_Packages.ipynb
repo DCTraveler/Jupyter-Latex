{
 "cells": [
  {
   "cell_type": "code",
   "execution_count": 1,
   "id": "843d13c1-5b73-48ba-b412-4870c4b943db",
   "metadata": {},
   "outputs": [
    {
     "name": "stdout",
     "output_type": "stream",
     "text": [
      "\n",
      "The downloaded binary packages are in\n",
      "\t/var/folders/wk/6why77bn1kn0l0pkd4vd3zl00000gn/T//RtmpVlRh8z/downloaded_packages\n"
     ]
    }
   ],
   "source": [
    "install.packages(c(\"devtools\", \"roxygen2\", \"testthat\", \"knitr\"))"
   ]
  },
  {
   "cell_type": "code",
   "execution_count": 2,
   "id": "669803c3-9650-4012-af45-a13ce8a5b13b",
   "metadata": {},
   "outputs": [
    {
     "name": "stderr",
     "output_type": "stream",
     "text": [
      "Loading required package: usethis\n",
      "\n"
     ]
    }
   ],
   "source": [
    "library(devtools)"
   ]
  },
  {
   "cell_type": "code",
   "execution_count": 3,
   "id": "8efccd9e-f366-4d9f-b47a-3da4628adb7f",
   "metadata": {},
   "outputs": [
    {
     "name": "stderr",
     "output_type": "stream",
     "text": [
      "Your system is ready to build packages!\n",
      "\n"
     ]
    }
   ],
   "source": [
    "has_devel()"
   ]
  },
  {
   "cell_type": "markdown",
   "id": "7bfce913-eca2-4f45-81bd-10558ffb6aae",
   "metadata": {},
   "source": [
    "## What Is a Library?\n",
    "\n",
    "A library is simply a directory containing installed packages. You can have multiple libraries on your computer. In fact, almost everyone has at least two: one for packages you’ve installed, and one for the packages that come with every R installation (like base, stats, etc.). Normally, the directories with user-installed packages vary based on the version of R that you’re using. That’s why it seems like you lose all of your packages when you reinstall R—they’re still on your hard drive, but R can’t find them.\n",
    "\n",
    "You can use ```.libPaths()``` to see which libraries are currently active."
   ]
  },
  {
   "cell_type": "code",
   "execution_count": 4,
   "id": "7c501ee2-f9f7-460b-8fc3-e30f3fde83ef",
   "metadata": {},
   "outputs": [
    {
     "data": {
      "text/html": [
       "'/Library/Frameworks/R.framework/Versions/4.1/Resources/library'"
      ],
      "text/latex": [
       "'/Library/Frameworks/R.framework/Versions/4.1/Resources/library'"
      ],
      "text/markdown": [
       "'/Library/Frameworks/R.framework/Versions/4.1/Resources/library'"
      ],
      "text/plain": [
       "[1] \"/Library/Frameworks/R.framework/Versions/4.1/Resources/library\""
      ]
     },
     "metadata": {},
     "output_type": "display_data"
    }
   ],
   "source": [
    ".libPaths()"
   ]
  },
  {
   "cell_type": "markdown",
   "id": "77d22595-9250-45b8-a709-ae6bb8aa3631",
   "metadata": {},
   "source": [
    "## Spacing\n",
    "\n",
    "### Good\n",
    "average <- mean(feet / 12 + inches, na.rm = TRUE)\n",
    "\n",
    "### Bad\n",
    "average<-mean(feet/12+inches,na.rm=TRUE)"
   ]
  },
  {
   "cell_type": "code",
   "execution_count": null,
   "id": "d16f95db-9282-4122-8981-5a6142e1c270",
   "metadata": {},
   "outputs": [],
   "source": []
  }
 ],
 "metadata": {
  "kernelspec": {
   "display_name": "R",
   "language": "R",
   "name": "ir"
  },
  "language_info": {
   "codemirror_mode": "r",
   "file_extension": ".r",
   "mimetype": "text/x-r-source",
   "name": "R",
   "pygments_lexer": "r",
   "version": "4.1.0"
  }
 },
 "nbformat": 4,
 "nbformat_minor": 5
}
