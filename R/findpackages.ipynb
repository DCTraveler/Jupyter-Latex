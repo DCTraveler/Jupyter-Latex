{
 "cells": [
  {
   "cell_type": "code",
   "execution_count": 1,
   "id": "7100bc72-4f64-43b4-a0ce-b59f389dc966",
   "metadata": {},
   "outputs": [],
   "source": [
    "## Find all .libPaths() entries a package is found:\n",
    "findPkgAll <- function(pkg)\n",
    "  unlist(lapply(.libPaths(), function(lib)\n",
    "           find.package(pkg, lib, quiet=TRUE, verbose=FALSE)))"
   ]
  },
  {
   "cell_type": "code",
   "execution_count": 2,
   "id": "1d0f6863-d80d-4094-8650-707300050535",
   "metadata": {},
   "outputs": [
    {
     "data": {
      "text/html": [
       "'/Library/Frameworks/R.framework/Versions/4.1/Resources/library/MASS'"
      ],
      "text/latex": [
       "'/Library/Frameworks/R.framework/Versions/4.1/Resources/library/MASS'"
      ],
      "text/markdown": [
       "'/Library/Frameworks/R.framework/Versions/4.1/Resources/library/MASS'"
      ],
      "text/plain": [
       "[1] \"/Library/Frameworks/R.framework/Versions/4.1/Resources/library/MASS\""
      ]
     },
     "metadata": {},
     "output_type": "display_data"
    },
    {
     "data": {
      "text/html": [
       "'/Library/Frameworks/R.framework/Versions/4.1/Resources/library/knitr'"
      ],
      "text/latex": [
       "'/Library/Frameworks/R.framework/Versions/4.1/Resources/library/knitr'"
      ],
      "text/markdown": [
       "'/Library/Frameworks/R.framework/Versions/4.1/Resources/library/knitr'"
      ],
      "text/plain": [
       "[1] \"/Library/Frameworks/R.framework/Versions/4.1/Resources/library/knitr\""
      ]
     },
     "metadata": {},
     "output_type": "display_data"
    }
   ],
   "source": [
    "findPkgAll(\"MASS\")\n",
    "findPkgAll(\"knitr\")"
   ]
  },
  {
   "cell_type": "code",
   "execution_count": 7,
   "id": "dfbb6424-2b49-4344-a172-f1eb3064ad69",
   "metadata": {},
   "outputs": [
    {
     "data": {
      "text/html": [
       "'/Library/Frameworks/R.framework/Versions/4.1/Resources/library/tidyverse'"
      ],
      "text/latex": [
       "'/Library/Frameworks/R.framework/Versions/4.1/Resources/library/tidyverse'"
      ],
      "text/markdown": [
       "'/Library/Frameworks/R.framework/Versions/4.1/Resources/library/tidyverse'"
      ],
      "text/plain": [
       "[1] \"/Library/Frameworks/R.framework/Versions/4.1/Resources/library/tidyverse\""
      ]
     },
     "metadata": {},
     "output_type": "display_data"
    }
   ],
   "source": [
    "findPkgAll(\"tidyverse\")"
   ]
  },
  {
   "cell_type": "code",
   "execution_count": null,
   "id": "2b1030d7-6043-4567-81bd-110c6f5f28da",
   "metadata": {},
   "outputs": [],
   "source": []
  }
 ],
 "metadata": {
  "kernelspec": {
   "display_name": "R",
   "language": "R",
   "name": "ir"
  },
  "language_info": {
   "codemirror_mode": "r",
   "file_extension": ".r",
   "mimetype": "text/x-r-source",
   "name": "R",
   "pygments_lexer": "r",
   "version": "4.1.0"
  }
 },
 "nbformat": 4,
 "nbformat_minor": 5
}
