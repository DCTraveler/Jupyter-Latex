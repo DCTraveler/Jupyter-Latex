{
 "cells": [
  {
   "cell_type": "markdown",
   "id": "315dabe0-95cf-4ae9-ba90-17e4073907c6",
   "metadata": {},
   "source": [
    "# Beginning R\n",
    "\n",
    "[source code](https://github.com/apress/beg-r-2ed)"
   ]
  },
  {
   "cell_type": "code",
   "execution_count": 1,
   "id": "89277406-4f2e-40d0-8f5e-7a1250b92e04",
   "metadata": {},
   "outputs": [
    {
     "data": {
      "text/html": [
       "<ol>\n",
       "\t<li>'Joseph Raetano'</li>\n",
       "\t<li>'University of Tennessee, Knoxville'</li>\n",
       "\t<li>'https://github.com/Wildertrek'</li>\n",
       "</ol>\n"
      ],
      "text/latex": [
       "\\begin{enumerate}\n",
       "\\item 'Joseph Raetano'\n",
       "\\item 'University of Tennessee, Knoxville'\n",
       "\\item 'https://github.com/Wildertrek'\n",
       "\\end{enumerate}\n"
      ],
      "text/markdown": [
       "1. 'Joseph Raetano'\n",
       "2. 'University of Tennessee, Knoxville'\n",
       "3. 'https://github.com/Wildertrek'\n",
       "\n",
       "\n"
      ],
      "text/plain": [
       "[[1]]\n",
       "[1] \"Joseph Raetano\"\n",
       "\n",
       "[[2]]\n",
       "[1] \"University of Tennessee, Knoxville\"\n",
       "\n",
       "[[3]]\n",
       "[1] \"https://github.com/Wildertrek\"\n"
      ]
     },
     "metadata": {},
     "output_type": "display_data"
    }
   ],
   "source": [
    "myName <- \"Joseph Raetano\"\n",
    "mySchool <- \"University of Tennessee, Knoxville\"\n",
    "myURL <- \"https://github.com/Wildertrek\"\n",
    "myData <- list(myName, mySchool, myURL)\n",
    "myData"
   ]
  },
  {
   "cell_type": "code",
   "execution_count": 2,
   "id": "66d7a378-5ec6-4647-b2aa-0435dafd3c21",
   "metadata": {},
   "outputs": [],
   "source": [
    "x  <- 1 : 10"
   ]
  },
  {
   "cell_type": "code",
   "execution_count": 3,
   "id": "add44d02-6811-42d7-893e-22ae38e041bd",
   "metadata": {},
   "outputs": [
    {
     "data": {
      "text/html": [
       "<style>\n",
       ".list-inline {list-style: none; margin:0; padding: 0}\n",
       ".list-inline>li {display: inline-block}\n",
       ".list-inline>li:not(:last-child)::after {content: \"\\00b7\"; padding: 0 .5ex}\n",
       "</style>\n",
       "<ol class=list-inline><li>1</li><li>2</li><li>3</li><li>4</li><li>5</li><li>6</li><li>7</li><li>8</li><li>9</li><li>10</li></ol>\n"
      ],
      "text/latex": [
       "\\begin{enumerate*}\n",
       "\\item 1\n",
       "\\item 2\n",
       "\\item 3\n",
       "\\item 4\n",
       "\\item 5\n",
       "\\item 6\n",
       "\\item 7\n",
       "\\item 8\n",
       "\\item 9\n",
       "\\item 10\n",
       "\\end{enumerate*}\n"
      ],
      "text/markdown": [
       "1. 1\n",
       "2. 2\n",
       "3. 3\n",
       "4. 4\n",
       "5. 5\n",
       "6. 6\n",
       "7. 7\n",
       "8. 8\n",
       "9. 9\n",
       "10. 10\n",
       "\n",
       "\n"
      ],
      "text/plain": [
       " [1]  1  2  3  4  5  6  7  8  9 10"
      ]
     },
     "metadata": {},
     "output_type": "display_data"
    }
   ],
   "source": [
    "x"
   ]
  },
  {
   "cell_type": "code",
   "execution_count": 4,
   "id": "f2364c34-8c19-4be4-a592-c1a3b66a61f9",
   "metadata": {},
   "outputs": [],
   "source": [
    "z  <- rnorm(33, 70, 10)"
   ]
  },
  {
   "cell_type": "code",
   "execution_count": 5,
   "id": "3bcf9fb8-4374-4b82-a776-f031e8528a57",
   "metadata": {},
   "outputs": [
    {
     "data": {
      "text/html": [
       "<style>\n",
       ".list-inline {list-style: none; margin:0; padding: 0}\n",
       ".list-inline>li {display: inline-block}\n",
       ".list-inline>li:not(:last-child)::after {content: \"\\00b7\"; padding: 0 .5ex}\n",
       "</style>\n",
       "<ol class=list-inline><li>56.3652483638415</li><li>66.8312836262814</li><li>91.7147967099255</li><li>52.87243781254</li><li>86.567295029947</li><li>77.5262120501383</li><li>70.366601670408</li><li>68.3893747478552</li><li>70.470749544411</li><li>61.3377341690522</li><li>67.08029969805</li><li>73.419957913583</li><li>77.4237047840059</li><li>60.1968179025978</li><li>74.4261651166174</li><li>70.6437159557529</li><li>72.3076466846877</li><li>76.3518154380568</li><li>61.7509923850651</li><li>72.3052637675502</li><li>64.8628520831947</li><li>55.6616864480704</li><li>81.0817432826516</li><li>67.8318236514154</li><li>60.9195929826025</li><li>78.6383227381855</li><li>60.0009246687224</li><li>77.0767565015576</li><li>69.5948563125135</li><li>50.0755469937296</li><li>60.8670630268155</li><li>75.8062542597873</li><li>74.8977265718099</li></ol>\n"
      ],
      "text/latex": [
       "\\begin{enumerate*}\n",
       "\\item 56.3652483638415\n",
       "\\item 66.8312836262814\n",
       "\\item 91.7147967099255\n",
       "\\item 52.87243781254\n",
       "\\item 86.567295029947\n",
       "\\item 77.5262120501383\n",
       "\\item 70.366601670408\n",
       "\\item 68.3893747478552\n",
       "\\item 70.470749544411\n",
       "\\item 61.3377341690522\n",
       "\\item 67.08029969805\n",
       "\\item 73.419957913583\n",
       "\\item 77.4237047840059\n",
       "\\item 60.1968179025978\n",
       "\\item 74.4261651166174\n",
       "\\item 70.6437159557529\n",
       "\\item 72.3076466846877\n",
       "\\item 76.3518154380568\n",
       "\\item 61.7509923850651\n",
       "\\item 72.3052637675502\n",
       "\\item 64.8628520831947\n",
       "\\item 55.6616864480704\n",
       "\\item 81.0817432826516\n",
       "\\item 67.8318236514154\n",
       "\\item 60.9195929826025\n",
       "\\item 78.6383227381855\n",
       "\\item 60.0009246687224\n",
       "\\item 77.0767565015576\n",
       "\\item 69.5948563125135\n",
       "\\item 50.0755469937296\n",
       "\\item 60.8670630268155\n",
       "\\item 75.8062542597873\n",
       "\\item 74.8977265718099\n",
       "\\end{enumerate*}\n"
      ],
      "text/markdown": [
       "1. 56.3652483638415\n",
       "2. 66.8312836262814\n",
       "3. 91.7147967099255\n",
       "4. 52.87243781254\n",
       "5. 86.567295029947\n",
       "6. 77.5262120501383\n",
       "7. 70.366601670408\n",
       "8. 68.3893747478552\n",
       "9. 70.470749544411\n",
       "10. 61.3377341690522\n",
       "11. 67.08029969805\n",
       "12. 73.419957913583\n",
       "13. 77.4237047840059\n",
       "14. 60.1968179025978\n",
       "15. 74.4261651166174\n",
       "16. 70.6437159557529\n",
       "17. 72.3076466846877\n",
       "18. 76.3518154380568\n",
       "19. 61.7509923850651\n",
       "20. 72.3052637675502\n",
       "21. 64.8628520831947\n",
       "22. 55.6616864480704\n",
       "23. 81.0817432826516\n",
       "24. 67.8318236514154\n",
       "25. 60.9195929826025\n",
       "26. 78.6383227381855\n",
       "27. 60.0009246687224\n",
       "28. 77.0767565015576\n",
       "29. 69.5948563125135\n",
       "30. 50.0755469937296\n",
       "31. 60.8670630268155\n",
       "32. 75.8062542597873\n",
       "33. 74.8977265718099\n",
       "\n",
       "\n"
      ],
      "text/plain": [
       " [1] 56.36525 66.83128 91.71480 52.87244 86.56730 77.52621 70.36660 68.38937\n",
       " [9] 70.47075 61.33773 67.08030 73.41996 77.42370 60.19682 74.42617 70.64372\n",
       "[17] 72.30765 76.35182 61.75099 72.30526 64.86285 55.66169 81.08174 67.83182\n",
       "[25] 60.91959 78.63832 60.00092 77.07676 69.59486 50.07555 60.86706 75.80625\n",
       "[33] 74.89773"
      ]
     },
     "metadata": {},
     "output_type": "display_data"
    }
   ],
   "source": [
    "z"
   ]
  },
  {
   "cell_type": "code",
   "execution_count": 6,
   "id": "21d4680a-4c37-4061-90d6-5d8d945bd1af",
   "metadata": {},
   "outputs": [],
   "source": [
    "z <- round(z,2)"
   ]
  },
  {
   "cell_type": "code",
   "execution_count": 7,
   "id": "dd4255b5-f0c9-4d15-a9d2-9165026e420f",
   "metadata": {},
   "outputs": [
    {
     "data": {
      "text/html": [
       "<style>\n",
       ".list-inline {list-style: none; margin:0; padding: 0}\n",
       ".list-inline>li {display: inline-block}\n",
       ".list-inline>li:not(:last-child)::after {content: \"\\00b7\"; padding: 0 .5ex}\n",
       "</style>\n",
       "<ol class=list-inline><li>56.37</li><li>66.83</li><li>91.71</li><li>52.87</li><li>86.57</li><li>77.53</li><li>70.37</li><li>68.39</li><li>70.47</li><li>61.34</li><li>67.08</li><li>73.42</li><li>77.42</li><li>60.2</li><li>74.43</li><li>70.64</li><li>72.31</li><li>76.35</li><li>61.75</li><li>72.31</li><li>64.86</li><li>55.66</li><li>81.08</li><li>67.83</li><li>60.92</li><li>78.64</li><li>60</li><li>77.08</li><li>69.59</li><li>50.08</li><li>60.87</li><li>75.81</li><li>74.9</li></ol>\n"
      ],
      "text/latex": [
       "\\begin{enumerate*}\n",
       "\\item 56.37\n",
       "\\item 66.83\n",
       "\\item 91.71\n",
       "\\item 52.87\n",
       "\\item 86.57\n",
       "\\item 77.53\n",
       "\\item 70.37\n",
       "\\item 68.39\n",
       "\\item 70.47\n",
       "\\item 61.34\n",
       "\\item 67.08\n",
       "\\item 73.42\n",
       "\\item 77.42\n",
       "\\item 60.2\n",
       "\\item 74.43\n",
       "\\item 70.64\n",
       "\\item 72.31\n",
       "\\item 76.35\n",
       "\\item 61.75\n",
       "\\item 72.31\n",
       "\\item 64.86\n",
       "\\item 55.66\n",
       "\\item 81.08\n",
       "\\item 67.83\n",
       "\\item 60.92\n",
       "\\item 78.64\n",
       "\\item 60\n",
       "\\item 77.08\n",
       "\\item 69.59\n",
       "\\item 50.08\n",
       "\\item 60.87\n",
       "\\item 75.81\n",
       "\\item 74.9\n",
       "\\end{enumerate*}\n"
      ],
      "text/markdown": [
       "1. 56.37\n",
       "2. 66.83\n",
       "3. 91.71\n",
       "4. 52.87\n",
       "5. 86.57\n",
       "6. 77.53\n",
       "7. 70.37\n",
       "8. 68.39\n",
       "9. 70.47\n",
       "10. 61.34\n",
       "11. 67.08\n",
       "12. 73.42\n",
       "13. 77.42\n",
       "14. 60.2\n",
       "15. 74.43\n",
       "16. 70.64\n",
       "17. 72.31\n",
       "18. 76.35\n",
       "19. 61.75\n",
       "20. 72.31\n",
       "21. 64.86\n",
       "22. 55.66\n",
       "23. 81.08\n",
       "24. 67.83\n",
       "25. 60.92\n",
       "26. 78.64\n",
       "27. 60\n",
       "28. 77.08\n",
       "29. 69.59\n",
       "30. 50.08\n",
       "31. 60.87\n",
       "32. 75.81\n",
       "33. 74.9\n",
       "\n",
       "\n"
      ],
      "text/plain": [
       " [1] 56.37 66.83 91.71 52.87 86.57 77.53 70.37 68.39 70.47 61.34 67.08 73.42\n",
       "[13] 77.42 60.20 74.43 70.64 72.31 76.35 61.75 72.31 64.86 55.66 81.08 67.83\n",
       "[25] 60.92 78.64 60.00 77.08 69.59 50.08 60.87 75.81 74.90"
      ]
     },
     "metadata": {},
     "output_type": "display_data"
    }
   ],
   "source": [
    "z"
   ]
  },
  {
   "cell_type": "code",
   "execution_count": 8,
   "id": "99e27f4a-240c-4a33-9ba2-9a170adb3d3c",
   "metadata": {},
   "outputs": [],
   "source": [
    "names(x) <- c(\"a\",\"b\",\"b\",\"d\",\"e\",\"f\",\"g\",\"h\",\"i\",\"j\")"
   ]
  },
  {
   "cell_type": "code",
   "execution_count": 9,
   "id": "0c36f313-dd76-4c24-8b97-4b823a1951d9",
   "metadata": {},
   "outputs": [
    {
     "data": {
      "text/html": [
       "<style>\n",
       ".dl-inline {width: auto; margin:0; padding: 0}\n",
       ".dl-inline>dt, .dl-inline>dd {float: none; width: auto; display: inline-block}\n",
       ".dl-inline>dt::after {content: \":\\0020\"; padding-right: .5ex}\n",
       ".dl-inline>dt:not(:first-of-type) {padding-left: .5ex}\n",
       "</style><dl class=dl-inline><dt>a</dt><dd>1</dd><dt>b</dt><dd>2</dd><dt>b</dt><dd>3</dd><dt>d</dt><dd>4</dd><dt>e</dt><dd>5</dd><dt>f</dt><dd>6</dd><dt>g</dt><dd>7</dd><dt>h</dt><dd>8</dd><dt>i</dt><dd>9</dd><dt>j</dt><dd>10</dd></dl>\n"
      ],
      "text/latex": [
       "\\begin{description*}\n",
       "\\item[a] 1\n",
       "\\item[b] 2\n",
       "\\item[b] 3\n",
       "\\item[d] 4\n",
       "\\item[e] 5\n",
       "\\item[f] 6\n",
       "\\item[g] 7\n",
       "\\item[h] 8\n",
       "\\item[i] 9\n",
       "\\item[j] 10\n",
       "\\end{description*}\n"
      ],
      "text/markdown": [
       "a\n",
       ":   1b\n",
       ":   2b\n",
       ":   3d\n",
       ":   4e\n",
       ":   5f\n",
       ":   6g\n",
       ":   7h\n",
       ":   8i\n",
       ":   9j\n",
       ":   10\n",
       "\n"
      ],
      "text/plain": [
       " a  b  b  d  e  f  g  h  i  j \n",
       " 1  2  3  4  5  6  7  8  9 10 "
      ]
     },
     "metadata": {},
     "output_type": "display_data"
    }
   ],
   "source": [
    "x"
   ]
  },
  {
   "cell_type": "code",
   "execution_count": 10,
   "id": "7e718660-750a-4a68-bc7b-63301577ef9b",
   "metadata": {},
   "outputs": [],
   "source": [
    "x<-1:10"
   ]
  },
  {
   "cell_type": "code",
   "execution_count": 11,
   "id": "3163696f-cc54-44f6-87b8-7b1461ddf5b0",
   "metadata": {},
   "outputs": [],
   "source": [
    "names(x) <- toupper(letters[1:10])"
   ]
  },
  {
   "cell_type": "code",
   "execution_count": 12,
   "id": "3e6ea866-8486-4744-a4f0-31328d552eeb",
   "metadata": {},
   "outputs": [
    {
     "data": {
      "text/html": [
       "<style>\n",
       ".dl-inline {width: auto; margin:0; padding: 0}\n",
       ".dl-inline>dt, .dl-inline>dd {float: none; width: auto; display: inline-block}\n",
       ".dl-inline>dt::after {content: \":\\0020\"; padding-right: .5ex}\n",
       ".dl-inline>dt:not(:first-of-type) {padding-left: .5ex}\n",
       "</style><dl class=dl-inline><dt>A</dt><dd>1</dd><dt>B</dt><dd>2</dd><dt>C</dt><dd>3</dd><dt>D</dt><dd>4</dd><dt>E</dt><dd>5</dd><dt>F</dt><dd>6</dd><dt>G</dt><dd>7</dd><dt>H</dt><dd>8</dd><dt>I</dt><dd>9</dd><dt>J</dt><dd>10</dd></dl>\n"
      ],
      "text/latex": [
       "\\begin{description*}\n",
       "\\item[A] 1\n",
       "\\item[B] 2\n",
       "\\item[C] 3\n",
       "\\item[D] 4\n",
       "\\item[E] 5\n",
       "\\item[F] 6\n",
       "\\item[G] 7\n",
       "\\item[H] 8\n",
       "\\item[I] 9\n",
       "\\item[J] 10\n",
       "\\end{description*}\n"
      ],
      "text/markdown": [
       "A\n",
       ":   1B\n",
       ":   2C\n",
       ":   3D\n",
       ":   4E\n",
       ":   5F\n",
       ":   6G\n",
       ":   7H\n",
       ":   8I\n",
       ":   9J\n",
       ":   10\n",
       "\n"
      ],
      "text/plain": [
       " A  B  C  D  E  F  G  H  I  J \n",
       " 1  2  3  4  5  6  7  8  9 10 "
      ]
     },
     "metadata": {},
     "output_type": "display_data"
    }
   ],
   "source": [
    "x"
   ]
  },
  {
   "cell_type": "code",
   "execution_count": 13,
   "id": "be54b806-7326-4b82-bc9a-d69124e8c417",
   "metadata": {},
   "outputs": [],
   "source": [
    "w <- c (10 , NA , 10 , 25 , 30 , 15 , 10 , 18 , 16 , 15 )"
   ]
  },
  {
   "cell_type": "code",
   "execution_count": 14,
   "id": "a36bd2a0-8421-480f-af2a-64da7673443b",
   "metadata": {},
   "outputs": [
    {
     "data": {
      "text/html": [
       "<style>\n",
       ".list-inline {list-style: none; margin:0; padding: 0}\n",
       ".list-inline>li {display: inline-block}\n",
       ".list-inline>li:not(:last-child)::after {content: \"\\00b7\"; padding: 0 .5ex}\n",
       "</style>\n",
       "<ol class=list-inline><li>10</li><li>&lt;NA&gt;</li><li>10</li><li>25</li><li>30</li><li>15</li><li>10</li><li>18</li><li>16</li><li>15</li></ol>\n"
      ],
      "text/latex": [
       "\\begin{enumerate*}\n",
       "\\item 10\n",
       "\\item <NA>\n",
       "\\item 10\n",
       "\\item 25\n",
       "\\item 30\n",
       "\\item 15\n",
       "\\item 10\n",
       "\\item 18\n",
       "\\item 16\n",
       "\\item 15\n",
       "\\end{enumerate*}\n"
      ],
      "text/markdown": [
       "1. 10\n",
       "2. &lt;NA&gt;\n",
       "3. 10\n",
       "4. 25\n",
       "5. 30\n",
       "6. 15\n",
       "7. 10\n",
       "8. 18\n",
       "9. 16\n",
       "10. 15\n",
       "\n",
       "\n"
      ],
      "text/plain": [
       " [1] 10 NA 10 25 30 15 10 18 16 15"
      ]
     },
     "metadata": {},
     "output_type": "display_data"
    }
   ],
   "source": [
    "w"
   ]
  },
  {
   "cell_type": "code",
   "execution_count": 16,
   "id": "d5df9e75-becf-4f92-9178-2b7a7c527f7c",
   "metadata": {},
   "outputs": [
    {
     "data": {
      "text/html": [
       "&lt;NA&gt;"
      ],
      "text/latex": [
       "<NA>"
      ],
      "text/markdown": [
       "&lt;NA&gt;"
      ],
      "text/plain": [
       "[1] NA"
      ]
     },
     "metadata": {},
     "output_type": "display_data"
    }
   ],
   "source": [
    "mean(w)"
   ]
  },
  {
   "cell_type": "code",
   "execution_count": 17,
   "id": "a1da6e07-0f62-4ab7-9938-e7409891841c",
   "metadata": {},
   "outputs": [
    {
     "data": {
      "text/html": [
       "16.5555555555556"
      ],
      "text/latex": [
       "16.5555555555556"
      ],
      "text/markdown": [
       "16.5555555555556"
      ],
      "text/plain": [
       "[1] 16.55556"
      ]
     },
     "metadata": {},
     "output_type": "display_data"
    }
   ],
   "source": [
    "mean(w, na.rm =TRUE)"
   ]
  },
  {
   "cell_type": "code",
   "execution_count": 18,
   "id": "a788ad0c-46ff-46ac-a712-4b7ab259c9bb",
   "metadata": {},
   "outputs": [],
   "source": [
    "x <- 1:10"
   ]
  },
  {
   "cell_type": "code",
   "execution_count": 19,
   "id": "16373e21-5aeb-4b2e-bd2d-0958feff3eb2",
   "metadata": {},
   "outputs": [],
   "source": [
    "x[11]<-\"A\""
   ]
  },
  {
   "cell_type": "code",
   "execution_count": 20,
   "id": "9833d99b-6fc8-4f2c-b494-01be7495727f",
   "metadata": {},
   "outputs": [
    {
     "data": {
      "text/html": [
       "<style>\n",
       ".list-inline {list-style: none; margin:0; padding: 0}\n",
       ".list-inline>li {display: inline-block}\n",
       ".list-inline>li:not(:last-child)::after {content: \"\\00b7\"; padding: 0 .5ex}\n",
       "</style>\n",
       "<ol class=list-inline><li>'1'</li><li>'2'</li><li>'3'</li><li>'4'</li><li>'5'</li><li>'6'</li><li>'7'</li><li>'8'</li><li>'9'</li><li>'10'</li><li>'A'</li></ol>\n"
      ],
      "text/latex": [
       "\\begin{enumerate*}\n",
       "\\item '1'\n",
       "\\item '2'\n",
       "\\item '3'\n",
       "\\item '4'\n",
       "\\item '5'\n",
       "\\item '6'\n",
       "\\item '7'\n",
       "\\item '8'\n",
       "\\item '9'\n",
       "\\item '10'\n",
       "\\item 'A'\n",
       "\\end{enumerate*}\n"
      ],
      "text/markdown": [
       "1. '1'\n",
       "2. '2'\n",
       "3. '3'\n",
       "4. '4'\n",
       "5. '5'\n",
       "6. '6'\n",
       "7. '7'\n",
       "8. '8'\n",
       "9. '9'\n",
       "10. '10'\n",
       "11. 'A'\n",
       "\n",
       "\n"
      ],
      "text/plain": [
       " [1] \"1\"  \"2\"  \"3\"  \"4\"  \"5\"  \"6\"  \"7\"  \"8\"  \"9\"  \"10\" \"A\" "
      ]
     },
     "metadata": {},
     "output_type": "display_data"
    }
   ],
   "source": [
    "x"
   ]
  },
  {
   "cell_type": "code",
   "execution_count": 21,
   "id": "952768b2-14e3-4eba-9672-84dd8033f1ec",
   "metadata": {},
   "outputs": [
    {
     "name": "stdout",
     "output_type": "stream",
     "text": [
      " chr [1:11] \"1\" \"2\" \"3\" \"4\" \"5\" \"6\" \"7\" \"8\" \"9\" \"10\" \"A\"\n"
     ]
    }
   ],
   "source": [
    "str(x)"
   ]
  },
  {
   "cell_type": "code",
   "execution_count": 22,
   "id": "2f0df696-cd0f-4896-9e27-c8f5371aabf9",
   "metadata": {},
   "outputs": [
    {
     "data": {
      "text/html": [
       "TRUE"
      ],
      "text/latex": [
       "TRUE"
      ],
      "text/markdown": [
       "TRUE"
      ],
      "text/plain": [
       "[1] TRUE"
      ]
     },
     "metadata": {},
     "output_type": "display_data"
    }
   ],
   "source": [
    "is.character(x)"
   ]
  },
  {
   "cell_type": "code",
   "execution_count": 23,
   "id": "e57c763e-d19a-495a-8cdf-d9178eb44958",
   "metadata": {},
   "outputs": [],
   "source": [
    "x <- x[-11]"
   ]
  },
  {
   "cell_type": "code",
   "execution_count": 24,
   "id": "1a692304-49b8-4c18-bc41-398eedb34ade",
   "metadata": {},
   "outputs": [
    {
     "data": {
      "text/html": [
       "<style>\n",
       ".list-inline {list-style: none; margin:0; padding: 0}\n",
       ".list-inline>li {display: inline-block}\n",
       ".list-inline>li:not(:last-child)::after {content: \"\\00b7\"; padding: 0 .5ex}\n",
       "</style>\n",
       "<ol class=list-inline><li>'1'</li><li>'2'</li><li>'3'</li><li>'4'</li><li>'5'</li><li>'6'</li><li>'7'</li><li>'8'</li><li>'9'</li><li>'10'</li></ol>\n"
      ],
      "text/latex": [
       "\\begin{enumerate*}\n",
       "\\item '1'\n",
       "\\item '2'\n",
       "\\item '3'\n",
       "\\item '4'\n",
       "\\item '5'\n",
       "\\item '6'\n",
       "\\item '7'\n",
       "\\item '8'\n",
       "\\item '9'\n",
       "\\item '10'\n",
       "\\end{enumerate*}\n"
      ],
      "text/markdown": [
       "1. '1'\n",
       "2. '2'\n",
       "3. '3'\n",
       "4. '4'\n",
       "5. '5'\n",
       "6. '6'\n",
       "7. '7'\n",
       "8. '8'\n",
       "9. '9'\n",
       "10. '10'\n",
       "\n",
       "\n"
      ],
      "text/plain": [
       " [1] \"1\"  \"2\"  \"3\"  \"4\"  \"5\"  \"6\"  \"7\"  \"8\"  \"9\"  \"10\""
      ]
     },
     "metadata": {},
     "output_type": "display_data"
    }
   ],
   "source": [
    "x"
   ]
  },
  {
   "cell_type": "code",
   "execution_count": 25,
   "id": "1ada0c93-1325-44d9-9bad-6a0c031b4315",
   "metadata": {},
   "outputs": [],
   "source": [
    "x <- as.integer(x)"
   ]
  },
  {
   "cell_type": "code",
   "execution_count": 27,
   "id": "09c4378b-a66f-49f6-81bc-c4283adcaf49",
   "metadata": {},
   "outputs": [],
   "source": [
    "y <- 5"
   ]
  },
  {
   "cell_type": "code",
   "execution_count": 28,
   "id": "55fe91b0-be10-4dbd-b463-dda507f7b1a1",
   "metadata": {},
   "outputs": [
    {
     "data": {
      "text/html": [
       "<style>\n",
       ".list-inline {list-style: none; margin:0; padding: 0}\n",
       ".list-inline>li {display: inline-block}\n",
       ".list-inline>li:not(:last-child)::after {content: \"\\00b7\"; padding: 0 .5ex}\n",
       "</style>\n",
       "<ol class=list-inline><li>6</li><li>7</li><li>8</li><li>9</li><li>10</li><li>11</li><li>12</li><li>13</li><li>14</li><li>15</li></ol>\n"
      ],
      "text/latex": [
       "\\begin{enumerate*}\n",
       "\\item 6\n",
       "\\item 7\n",
       "\\item 8\n",
       "\\item 9\n",
       "\\item 10\n",
       "\\item 11\n",
       "\\item 12\n",
       "\\item 13\n",
       "\\item 14\n",
       "\\item 15\n",
       "\\end{enumerate*}\n"
      ],
      "text/markdown": [
       "1. 6\n",
       "2. 7\n",
       "3. 8\n",
       "4. 9\n",
       "5. 10\n",
       "6. 11\n",
       "7. 12\n",
       "8. 13\n",
       "9. 14\n",
       "10. 15\n",
       "\n",
       "\n"
      ],
      "text/plain": [
       " [1]  6  7  8  9 10 11 12 13 14 15"
      ]
     },
     "metadata": {},
     "output_type": "display_data"
    }
   ],
   "source": [
    "x+y"
   ]
  },
  {
   "cell_type": "code",
   "execution_count": 29,
   "id": "18f69d04-d0de-461e-8191-343e7e981a92",
   "metadata": {},
   "outputs": [
    {
     "name": "stderr",
     "output_type": "stream",
     "text": [
      "Warning message in z/x:\n",
      "“longer object length is not a multiple of shorter object length”\n"
     ]
    },
    {
     "data": {
      "text/html": [
       "<style>\n",
       ".list-inline {list-style: none; margin:0; padding: 0}\n",
       ".list-inline>li {display: inline-block}\n",
       ".list-inline>li:not(:last-child)::after {content: \"\\00b7\"; padding: 0 .5ex}\n",
       "</style>\n",
       "<ol class=list-inline><li>63.19</li><li>42.67</li><li>18.1</li><li>18.13</li><li>16.07</li><li>11.24</li><li>9.47</li><li>8.23</li><li>5.92</li><li>8.06</li><li>64.65</li><li>26.54</li><li>24.11</li><li>15.67</li><li>13.5</li><li>10.93</li><li>7.26</li><li>7.99</li><li>8.06</li><li>5.83</li><li>84.83</li><li>40.12</li><li>20.86</li><li>13.53</li><li>14.37</li><li>11.6</li><li>9.85</li><li>7.7</li><li>7</li><li>6.82</li><li>56.27</li><li>38.39</li><li>28.64</li></ol>\n"
      ],
      "text/latex": [
       "\\begin{enumerate*}\n",
       "\\item 63.19\n",
       "\\item 42.67\n",
       "\\item 18.1\n",
       "\\item 18.13\n",
       "\\item 16.07\n",
       "\\item 11.24\n",
       "\\item 9.47\n",
       "\\item 8.23\n",
       "\\item 5.92\n",
       "\\item 8.06\n",
       "\\item 64.65\n",
       "\\item 26.54\n",
       "\\item 24.11\n",
       "\\item 15.67\n",
       "\\item 13.5\n",
       "\\item 10.93\n",
       "\\item 7.26\n",
       "\\item 7.99\n",
       "\\item 8.06\n",
       "\\item 5.83\n",
       "\\item 84.83\n",
       "\\item 40.12\n",
       "\\item 20.86\n",
       "\\item 13.53\n",
       "\\item 14.37\n",
       "\\item 11.6\n",
       "\\item 9.85\n",
       "\\item 7.7\n",
       "\\item 7\n",
       "\\item 6.82\n",
       "\\item 56.27\n",
       "\\item 38.39\n",
       "\\item 28.64\n",
       "\\end{enumerate*}\n"
      ],
      "text/markdown": [
       "1. 63.19\n",
       "2. 42.67\n",
       "3. 18.1\n",
       "4. 18.13\n",
       "5. 16.07\n",
       "6. 11.24\n",
       "7. 9.47\n",
       "8. 8.23\n",
       "9. 5.92\n",
       "10. 8.06\n",
       "11. 64.65\n",
       "12. 26.54\n",
       "13. 24.11\n",
       "14. 15.67\n",
       "15. 13.5\n",
       "16. 10.93\n",
       "17. 7.26\n",
       "18. 7.99\n",
       "19. 8.06\n",
       "20. 5.83\n",
       "21. 84.83\n",
       "22. 40.12\n",
       "23. 20.86\n",
       "24. 13.53\n",
       "25. 14.37\n",
       "26. 11.6\n",
       "27. 9.85\n",
       "28. 7.7\n",
       "29. 7\n",
       "30. 6.82\n",
       "31. 56.27\n",
       "32. 38.39\n",
       "33. 28.64\n",
       "\n",
       "\n"
      ],
      "text/plain": [
       " [1] 63.19 42.67 18.10 18.13 16.07 11.24  9.47  8.23  5.92  8.06 64.65 26.54\n",
       "[13] 24.11 15.67 13.50 10.93  7.26  7.99  8.06  5.83 84.83 40.12 20.86 13.53\n",
       "[25] 14.37 11.60  9.85  7.70  7.00  6.82 56.27 38.39 28.64"
      ]
     },
     "metadata": {},
     "output_type": "display_data"
    }
   ],
   "source": [
    "round(z/x,2)"
   ]
  },
  {
   "cell_type": "code",
   "execution_count": 30,
   "id": "c09d805d-b71a-471f-91ee-4ca9c8b26c08",
   "metadata": {},
   "outputs": [],
   "source": [
    "A <- c(1.00, 0.14, 0.35, 0.14, 1.00, 0.09, 0.35, 0.09, 1.00)"
   ]
  },
  {
   "cell_type": "code",
   "execution_count": 31,
   "id": "f5692096-4fad-4613-be7c-591bfc40a890",
   "metadata": {},
   "outputs": [],
   "source": [
    "dim(A)<-c(3,3)"
   ]
  },
  {
   "cell_type": "code",
   "execution_count": 32,
   "id": "286ad69b-13f9-4d10-8abc-60d80404a17e",
   "metadata": {},
   "outputs": [],
   "source": [
    "A <- matrix(A , nrow=3 , ncol=3)"
   ]
  },
  {
   "cell_type": "code",
   "execution_count": 33,
   "id": "0274e862-fccb-4c11-9239-1aff8c2c994d",
   "metadata": {},
   "outputs": [
    {
     "data": {
      "text/html": [
       "<table class=\"dataframe\">\n",
       "<caption>A matrix: 3 × 3 of type dbl</caption>\n",
       "<tbody>\n",
       "\t<tr><td>1.00</td><td>0.14</td><td>0.35</td></tr>\n",
       "\t<tr><td>0.14</td><td>1.00</td><td>0.09</td></tr>\n",
       "\t<tr><td>0.35</td><td>0.09</td><td>1.00</td></tr>\n",
       "</tbody>\n",
       "</table>\n"
      ],
      "text/latex": [
       "A matrix: 3 × 3 of type dbl\n",
       "\\begin{tabular}{lll}\n",
       "\t 1.00 & 0.14 & 0.35\\\\\n",
       "\t 0.14 & 1.00 & 0.09\\\\\n",
       "\t 0.35 & 0.09 & 1.00\\\\\n",
       "\\end{tabular}\n"
      ],
      "text/markdown": [
       "\n",
       "A matrix: 3 × 3 of type dbl\n",
       "\n",
       "| 1.00 | 0.14 | 0.35 |\n",
       "| 0.14 | 1.00 | 0.09 |\n",
       "| 0.35 | 0.09 | 1.00 |\n",
       "\n"
      ],
      "text/plain": [
       "     [,1] [,2] [,3]\n",
       "[1,] 1.00 0.14 0.35\n",
       "[2,] 0.14 1.00 0.09\n",
       "[3,] 0.35 0.09 1.00"
      ]
     },
     "metadata": {},
     "output_type": "display_data"
    }
   ],
   "source": [
    "A"
   ]
  },
  {
   "cell_type": "code",
   "execution_count": 34,
   "id": "20a98a3d-1ec8-49a2-b45c-1e4136804d91",
   "metadata": {},
   "outputs": [],
   "source": [
    "Ainv <- solve(A)"
   ]
  },
  {
   "cell_type": "code",
   "execution_count": 35,
   "id": "79784322-be1b-426a-b684-5626a7608338",
   "metadata": {},
   "outputs": [],
   "source": [
    "MatProd <- A*Ainv"
   ]
  },
  {
   "cell_type": "code",
   "execution_count": 36,
   "id": "1b8133aa-3bac-4901-afe4-74340fb47b84",
   "metadata": {},
   "outputs": [
    {
     "data": {
      "text/html": [
       "<table class=\"dataframe\">\n",
       "<caption>A matrix: 3 × 3 of type dbl</caption>\n",
       "<tbody>\n",
       "\t<tr><td>1</td><td>0</td><td>0</td></tr>\n",
       "\t<tr><td>0</td><td>1</td><td>0</td></tr>\n",
       "\t<tr><td>0</td><td>0</td><td>1</td></tr>\n",
       "</tbody>\n",
       "</table>\n"
      ],
      "text/latex": [
       "A matrix: 3 × 3 of type dbl\n",
       "\\begin{tabular}{lll}\n",
       "\t 1 & 0 & 0\\\\\n",
       "\t 0 & 1 & 0\\\\\n",
       "\t 0 & 0 & 1\\\\\n",
       "\\end{tabular}\n"
      ],
      "text/markdown": [
       "\n",
       "A matrix: 3 × 3 of type dbl\n",
       "\n",
       "| 1 | 0 | 0 |\n",
       "| 0 | 1 | 0 |\n",
       "| 0 | 0 | 1 |\n",
       "\n"
      ],
      "text/plain": [
       "     [,1] [,2] [,3]\n",
       "[1,] 1    0    0   \n",
       "[2,] 0    1    0   \n",
       "[3,] 0    0    1   "
      ]
     },
     "metadata": {},
     "output_type": "display_data"
    }
   ],
   "source": [
    "round(MatProd)"
   ]
  },
  {
   "cell_type": "code",
   "execution_count": 37,
   "id": "979f8b28-1db2-4a3f-b26b-1914e25cd70d",
   "metadata": {},
   "outputs": [
    {
     "data": {
      "text/html": [
       "<ol>\n",
       "\t<li><style>\n",
       ".list-inline {list-style: none; margin:0; padding: 0}\n",
       ".list-inline>li {display: inline-block}\n",
       ".list-inline>li:not(:last-child)::after {content: \"\\00b7\"; padding: 0 .5ex}\n",
       "</style>\n",
       "<ol class=list-inline><li>57.3</li><li>70.6</li><li>73.9</li><li>61.4</li><li>63</li><li>66.6</li><li>74.8</li><li>71.8</li><li>63.2</li><li>72.3</li><li>61.9</li><li>70</li></ol>\n",
       "</li>\n",
       "\t<li><style>\n",
       ".list-inline {list-style: none; margin:0; padding: 0}\n",
       ".list-inline>li {display: inline-block}\n",
       ".list-inline>li:not(:last-child)::after {content: \"\\00b7\"; padding: 0 .5ex}\n",
       "</style>\n",
       "<ol class=list-inline><li>74.6</li><li>74.5</li><li>75.9</li><li>77.4</li><li>79.6</li><li>70.2</li><li>67.5</li><li>75.5</li><li>68.2</li><li>81</li><li>69.6</li><li>75.6</li><li>69.5</li><li>72.4</li><li>77.1</li></ol>\n",
       "</li>\n",
       "\t<li><style>\n",
       ".list-inline {list-style: none; margin:0; padding: 0}\n",
       ".list-inline>li {display: inline-block}\n",
       ".list-inline>li:not(:last-child)::after {content: \"\\00b7\"; padding: 0 .5ex}\n",
       "</style>\n",
       "<ol class=list-inline><li>80.5</li><li>79.2</li><li>83.6</li><li>74.9</li><li>81.9</li><li>80.3</li><li>79.5</li><li>77.3</li><li>92.7</li><li>76.4</li><li>82</li><li>68.9</li><li>77.6</li><li>74.6</li></ol>\n",
       "</li>\n",
       "</ol>\n"
      ],
      "text/latex": [
       "\\begin{enumerate}\n",
       "\\item \\begin{enumerate*}\n",
       "\\item 57.3\n",
       "\\item 70.6\n",
       "\\item 73.9\n",
       "\\item 61.4\n",
       "\\item 63\n",
       "\\item 66.6\n",
       "\\item 74.8\n",
       "\\item 71.8\n",
       "\\item 63.2\n",
       "\\item 72.3\n",
       "\\item 61.9\n",
       "\\item 70\n",
       "\\end{enumerate*}\n",
       "\n",
       "\\item \\begin{enumerate*}\n",
       "\\item 74.6\n",
       "\\item 74.5\n",
       "\\item 75.9\n",
       "\\item 77.4\n",
       "\\item 79.6\n",
       "\\item 70.2\n",
       "\\item 67.5\n",
       "\\item 75.5\n",
       "\\item 68.2\n",
       "\\item 81\n",
       "\\item 69.6\n",
       "\\item 75.6\n",
       "\\item 69.5\n",
       "\\item 72.4\n",
       "\\item 77.1\n",
       "\\end{enumerate*}\n",
       "\n",
       "\\item \\begin{enumerate*}\n",
       "\\item 80.5\n",
       "\\item 79.2\n",
       "\\item 83.6\n",
       "\\item 74.9\n",
       "\\item 81.9\n",
       "\\item 80.3\n",
       "\\item 79.5\n",
       "\\item 77.3\n",
       "\\item 92.7\n",
       "\\item 76.4\n",
       "\\item 82\n",
       "\\item 68.9\n",
       "\\item 77.6\n",
       "\\item 74.6\n",
       "\\end{enumerate*}\n",
       "\n",
       "\\end{enumerate}\n"
      ],
      "text/markdown": [
       "1. 1. 57.3\n",
       "2. 70.6\n",
       "3. 73.9\n",
       "4. 61.4\n",
       "5. 63\n",
       "6. 66.6\n",
       "7. 74.8\n",
       "8. 71.8\n",
       "9. 63.2\n",
       "10. 72.3\n",
       "11. 61.9\n",
       "12. 70\n",
       "\n",
       "\n",
       "\n",
       "2. 1. 74.6\n",
       "2. 74.5\n",
       "3. 75.9\n",
       "4. 77.4\n",
       "5. 79.6\n",
       "6. 70.2\n",
       "7. 67.5\n",
       "8. 75.5\n",
       "9. 68.2\n",
       "10. 81\n",
       "11. 69.6\n",
       "12. 75.6\n",
       "13. 69.5\n",
       "14. 72.4\n",
       "15. 77.1\n",
       "\n",
       "\n",
       "\n",
       "3. 1. 80.5\n",
       "2. 79.2\n",
       "3. 83.6\n",
       "4. 74.9\n",
       "5. 81.9\n",
       "6. 80.3\n",
       "7. 79.5\n",
       "8. 77.3\n",
       "9. 92.7\n",
       "10. 76.4\n",
       "11. 82\n",
       "12. 68.9\n",
       "13. 77.6\n",
       "14. 74.6\n",
       "\n",
       "\n",
       "\n",
       "\n",
       "\n"
      ],
      "text/plain": [
       "[[1]]\n",
       " [1] 57.3 70.6 73.9 61.4 63.0 66.6 74.8 71.8 63.2 72.3 61.9 70.0\n",
       "\n",
       "[[2]]\n",
       " [1] 74.6 74.5 75.9 77.4 79.6 70.2 67.5 75.5 68.2 81.0 69.6 75.6 69.5 72.4 77.1\n",
       "\n",
       "[[3]]\n",
       " [1] 80.5 79.2 83.6 74.9 81.9 80.3 79.5 77.3 92.7 76.4 82.0 68.9 77.6 74.6\n"
      ]
     },
     "metadata": {},
     "output_type": "display_data"
    },
    {
     "data": {
      "text/html": [
       "<style>\n",
       ".list-inline {list-style: none; margin:0; padding: 0}\n",
       ".list-inline>li {display: inline-block}\n",
       ".list-inline>li:not(:last-child)::after {content: \"\\00b7\"; padding: 0 .5ex}\n",
       "</style>\n",
       "<ol class=list-inline><li>67.23</li><li>73.91</li><li>79.24</li></ol>\n"
      ],
      "text/latex": [
       "\\begin{enumerate*}\n",
       "\\item 67.23\n",
       "\\item 73.91\n",
       "\\item 79.24\n",
       "\\end{enumerate*}\n"
      ],
      "text/markdown": [
       "1. 67.23\n",
       "2. 73.91\n",
       "3. 79.24\n",
       "\n",
       "\n"
      ],
      "text/plain": [
       "[1] 67.23 73.91 79.24"
      ]
     },
     "metadata": {},
     "output_type": "display_data"
    },
    {
     "data": {
      "text/html": [
       "<style>\n",
       ".list-inline {list-style: none; margin:0; padding: 0}\n",
       ".list-inline>li {display: inline-block}\n",
       ".list-inline>li:not(:last-child)::after {content: \"\\00b7\"; padding: 0 .5ex}\n",
       "</style>\n",
       "<ol class=list-inline><li>5.74</li><li>4.17</li><li>5.4</li></ol>\n"
      ],
      "text/latex": [
       "\\begin{enumerate*}\n",
       "\\item 5.74\n",
       "\\item 4.17\n",
       "\\item 5.4\n",
       "\\end{enumerate*}\n"
      ],
      "text/markdown": [
       "1. 5.74\n",
       "2. 4.17\n",
       "3. 5.4\n",
       "\n",
       "\n"
      ],
      "text/plain": [
       "[1] 5.74 4.17 5.40"
      ]
     },
     "metadata": {},
     "output_type": "display_data"
    },
    {
     "data": {
      "text/html": [
       "<ol>\n",
       "\t<li>32.9951515151515</li>\n",
       "\t<li>17.3520952380952</li>\n",
       "\t<li>29.1887912087912</li>\n",
       "</ol>\n"
      ],
      "text/latex": [
       "\\begin{enumerate}\n",
       "\\item 32.9951515151515\n",
       "\\item 17.3520952380952\n",
       "\\item 29.1887912087912\n",
       "\\end{enumerate}\n"
      ],
      "text/markdown": [
       "1. 32.9951515151515\n",
       "2. 17.3520952380952\n",
       "3. 29.1887912087912\n",
       "\n",
       "\n"
      ],
      "text/plain": [
       "[[1]]\n",
       "[1] 32.99515\n",
       "\n",
       "[[2]]\n",
       "[1] 17.3521\n",
       "\n",
       "[[3]]\n",
       "[1] 29.18879\n"
      ]
     },
     "metadata": {},
     "output_type": "display_data"
    }
   ],
   "source": [
    "section1 <- c(57.3, 70.6, 73.9, 61.4, 63.0, 66.6, 74.8, 71.8, 63.2, 72.3, 61.9, 70.0)\n",
    "section2 <- c(74.6, 74.5, 75.9, 77.4, 79.6, 70.2, 67.5, 75.5, 68.2, 81.0, 69.6, 75.6, 69.5, 72.4, 77.1)\n",
    "section3 <- c(80.5, 79.2, 83.6, 74.9, 81.9, 80.3, 79.5, 77.3, 92.7, 76.4, 82.0, 68.9, 77.6, 74.6)\n",
    "allSections <- list(section1,section2,section3)\n",
    "allSections\n",
    "section_means <- sapply(allSections, mean)\n",
    "round(section_means, 2)\n",
    "section_sdev <- sapply(allSections, sd)\n",
    "round(section_sdev,2)\n",
    "lapply(allSections,var)"
   ]
  },
  {
   "cell_type": "code",
   "execution_count": 38,
   "id": "cb6053ff-9abb-43fb-a7ab-a08e8041aa8e",
   "metadata": {},
   "outputs": [],
   "source": [
    "roster <- read.csv('../data/roster.csv')"
   ]
  },
  {
   "cell_type": "markdown",
   "id": "024decba-7be1-4ed3-a1bc-e94b500d5503",
   "metadata": {},
   "source": [
    "There are a couple of ways to read the data\n",
    "\n",
    "```R\n",
    "roster\n",
    "View(roster)\n",
    "head(roster)\n",
    "```"
   ]
  },
  {
   "cell_type": "code",
   "execution_count": 42,
   "id": "35f1062c-13c6-40fd-a421-0d7e4cd0afae",
   "metadata": {},
   "outputs": [
    {
     "data": {
      "text/html": [
       "<table class=\"dataframe\">\n",
       "<caption>A data.frame: 13 × 6</caption>\n",
       "<thead>\n",
       "\t<tr><th scope=col>Jersey</th><th scope=col>Name</th><th scope=col>Position</th><th scope=col>Inches</th><th scope=col>Pounds</th><th scope=col>Class</th></tr>\n",
       "\t<tr><th scope=col>&lt;int&gt;</th><th scope=col>&lt;chr&gt;</th><th scope=col>&lt;chr&gt;</th><th scope=col>&lt;int&gt;</th><th scope=col>&lt;int&gt;</th><th scope=col>&lt;chr&gt;</th></tr>\n",
       "</thead>\n",
       "<tbody>\n",
       "\t<tr><td> 0</td><td>Rooks, Patrick    </td><td>G</td><td>74</td><td>190</td><td>freshman </td></tr>\n",
       "\t<tr><td> 1</td><td>Ajukwa, Austin    </td><td>G</td><td>78</td><td>205</td><td>sophomore</td></tr>\n",
       "\t<tr><td> 3</td><td>Holmes, Avry      </td><td>G</td><td>74</td><td>205</td><td>junior   </td></tr>\n",
       "\t<tr><td> 5</td><td>Blossomgame, Jaron</td><td>F</td><td>79</td><td>215</td><td>sophomore</td></tr>\n",
       "\t<tr><td>10</td><td>DeVoe, Gabe       </td><td>G</td><td>75</td><td>200</td><td>freshman </td></tr>\n",
       "\t<tr><td>12</td><td>Hall, Rod         </td><td>G</td><td>73</td><td>205</td><td>senior   </td></tr>\n",
       "\t<tr><td>15</td><td>Grantham, Donte   </td><td>F</td><td>80</td><td>205</td><td>freshman </td></tr>\n",
       "\t<tr><td>20</td><td>Roper, Jordan     </td><td>G</td><td>72</td><td>165</td><td>junior   </td></tr>\n",
       "\t<tr><td>21</td><td>Harrison, Damarcus</td><td>G</td><td>76</td><td>205</td><td>senior   </td></tr>\n",
       "\t<tr><td>33</td><td>Smith, Josh       </td><td>F</td><td>80</td><td>245</td><td>junior   </td></tr>\n",
       "\t<tr><td>35</td><td>Nnoko, Landry     </td><td>C</td><td>82</td><td>255</td><td>junior   </td></tr>\n",
       "\t<tr><td>44</td><td>McGillan, Riley   </td><td>G</td><td>72</td><td>175</td><td>junior   </td></tr>\n",
       "\t<tr><td>50</td><td>Djitte, Sidy      </td><td>C</td><td>82</td><td>240</td><td>sophomore</td></tr>\n",
       "</tbody>\n",
       "</table>\n"
      ],
      "text/latex": [
       "A data.frame: 13 × 6\n",
       "\\begin{tabular}{llllll}\n",
       " Jersey & Name & Position & Inches & Pounds & Class\\\\\n",
       " <int> & <chr> & <chr> & <int> & <int> & <chr>\\\\\n",
       "\\hline\n",
       "\t  0 & Rooks, Patrick     & G & 74 & 190 & freshman \\\\\n",
       "\t  1 & Ajukwa, Austin     & G & 78 & 205 & sophomore\\\\\n",
       "\t  3 & Holmes, Avry       & G & 74 & 205 & junior   \\\\\n",
       "\t  5 & Blossomgame, Jaron & F & 79 & 215 & sophomore\\\\\n",
       "\t 10 & DeVoe, Gabe        & G & 75 & 200 & freshman \\\\\n",
       "\t 12 & Hall, Rod          & G & 73 & 205 & senior   \\\\\n",
       "\t 15 & Grantham, Donte    & F & 80 & 205 & freshman \\\\\n",
       "\t 20 & Roper, Jordan      & G & 72 & 165 & junior   \\\\\n",
       "\t 21 & Harrison, Damarcus & G & 76 & 205 & senior   \\\\\n",
       "\t 33 & Smith, Josh        & F & 80 & 245 & junior   \\\\\n",
       "\t 35 & Nnoko, Landry      & C & 82 & 255 & junior   \\\\\n",
       "\t 44 & McGillan, Riley    & G & 72 & 175 & junior   \\\\\n",
       "\t 50 & Djitte, Sidy       & C & 82 & 240 & sophomore\\\\\n",
       "\\end{tabular}\n"
      ],
      "text/markdown": [
       "\n",
       "A data.frame: 13 × 6\n",
       "\n",
       "| Jersey &lt;int&gt; | Name &lt;chr&gt; | Position &lt;chr&gt; | Inches &lt;int&gt; | Pounds &lt;int&gt; | Class &lt;chr&gt; |\n",
       "|---|---|---|---|---|---|\n",
       "|  0 | Rooks, Patrick     | G | 74 | 190 | freshman  |\n",
       "|  1 | Ajukwa, Austin     | G | 78 | 205 | sophomore |\n",
       "|  3 | Holmes, Avry       | G | 74 | 205 | junior    |\n",
       "|  5 | Blossomgame, Jaron | F | 79 | 215 | sophomore |\n",
       "| 10 | DeVoe, Gabe        | G | 75 | 200 | freshman  |\n",
       "| 12 | Hall, Rod          | G | 73 | 205 | senior    |\n",
       "| 15 | Grantham, Donte    | F | 80 | 205 | freshman  |\n",
       "| 20 | Roper, Jordan      | G | 72 | 165 | junior    |\n",
       "| 21 | Harrison, Damarcus | G | 76 | 205 | senior    |\n",
       "| 33 | Smith, Josh        | F | 80 | 245 | junior    |\n",
       "| 35 | Nnoko, Landry      | C | 82 | 255 | junior    |\n",
       "| 44 | McGillan, Riley    | G | 72 | 175 | junior    |\n",
       "| 50 | Djitte, Sidy       | C | 82 | 240 | sophomore |\n",
       "\n"
      ],
      "text/plain": [
       "   Jersey Name               Position Inches Pounds Class    \n",
       "1   0     Rooks, Patrick     G        74     190    freshman \n",
       "2   1     Ajukwa, Austin     G        78     205    sophomore\n",
       "3   3     Holmes, Avry       G        74     205    junior   \n",
       "4   5     Blossomgame, Jaron F        79     215    sophomore\n",
       "5  10     DeVoe, Gabe        G        75     200    freshman \n",
       "6  12     Hall, Rod          G        73     205    senior   \n",
       "7  15     Grantham, Donte    F        80     205    freshman \n",
       "8  20     Roper, Jordan      G        72     165    junior   \n",
       "9  21     Harrison, Damarcus G        76     205    senior   \n",
       "10 33     Smith, Josh        F        80     245    junior   \n",
       "11 35     Nnoko, Landry      C        82     255    junior   \n",
       "12 44     McGillan, Riley    G        72     175    junior   \n",
       "13 50     Djitte, Sidy       C        82     240    sophomore"
      ]
     },
     "metadata": {},
     "output_type": "display_data"
    }
   ],
   "source": [
    "roster"
   ]
  },
  {
   "cell_type": "code",
   "execution_count": 41,
   "id": "1194cc0a-ef75-4e65-947e-60675685a71c",
   "metadata": {},
   "outputs": [
    {
     "data": {
      "text/html": [
       "<table class=\"dataframe\">\n",
       "<caption>A data.frame: 13 × 6</caption>\n",
       "<thead>\n",
       "\t<tr><th scope=col>Jersey</th><th scope=col>Name</th><th scope=col>Position</th><th scope=col>Inches</th><th scope=col>Pounds</th><th scope=col>Class</th></tr>\n",
       "\t<tr><th scope=col>&lt;int&gt;</th><th scope=col>&lt;chr&gt;</th><th scope=col>&lt;chr&gt;</th><th scope=col>&lt;int&gt;</th><th scope=col>&lt;int&gt;</th><th scope=col>&lt;chr&gt;</th></tr>\n",
       "</thead>\n",
       "<tbody>\n",
       "\t<tr><td> 0</td><td>Rooks, Patrick    </td><td>G</td><td>74</td><td>190</td><td>freshman </td></tr>\n",
       "\t<tr><td> 1</td><td>Ajukwa, Austin    </td><td>G</td><td>78</td><td>205</td><td>sophomore</td></tr>\n",
       "\t<tr><td> 3</td><td>Holmes, Avry      </td><td>G</td><td>74</td><td>205</td><td>junior   </td></tr>\n",
       "\t<tr><td> 5</td><td>Blossomgame, Jaron</td><td>F</td><td>79</td><td>215</td><td>sophomore</td></tr>\n",
       "\t<tr><td>10</td><td>DeVoe, Gabe       </td><td>G</td><td>75</td><td>200</td><td>freshman </td></tr>\n",
       "\t<tr><td>12</td><td>Hall, Rod         </td><td>G</td><td>73</td><td>205</td><td>senior   </td></tr>\n",
       "\t<tr><td>15</td><td>Grantham, Donte   </td><td>F</td><td>80</td><td>205</td><td>freshman </td></tr>\n",
       "\t<tr><td>20</td><td>Roper, Jordan     </td><td>G</td><td>72</td><td>165</td><td>junior   </td></tr>\n",
       "\t<tr><td>21</td><td>Harrison, Damarcus</td><td>G</td><td>76</td><td>205</td><td>senior   </td></tr>\n",
       "\t<tr><td>33</td><td>Smith, Josh       </td><td>F</td><td>80</td><td>245</td><td>junior   </td></tr>\n",
       "\t<tr><td>35</td><td>Nnoko, Landry     </td><td>C</td><td>82</td><td>255</td><td>junior   </td></tr>\n",
       "\t<tr><td>44</td><td>McGillan, Riley   </td><td>G</td><td>72</td><td>175</td><td>junior   </td></tr>\n",
       "\t<tr><td>50</td><td>Djitte, Sidy      </td><td>C</td><td>82</td><td>240</td><td>sophomore</td></tr>\n",
       "</tbody>\n",
       "</table>\n"
      ],
      "text/latex": [
       "A data.frame: 13 × 6\n",
       "\\begin{tabular}{llllll}\n",
       " Jersey & Name & Position & Inches & Pounds & Class\\\\\n",
       " <int> & <chr> & <chr> & <int> & <int> & <chr>\\\\\n",
       "\\hline\n",
       "\t  0 & Rooks, Patrick     & G & 74 & 190 & freshman \\\\\n",
       "\t  1 & Ajukwa, Austin     & G & 78 & 205 & sophomore\\\\\n",
       "\t  3 & Holmes, Avry       & G & 74 & 205 & junior   \\\\\n",
       "\t  5 & Blossomgame, Jaron & F & 79 & 215 & sophomore\\\\\n",
       "\t 10 & DeVoe, Gabe        & G & 75 & 200 & freshman \\\\\n",
       "\t 12 & Hall, Rod          & G & 73 & 205 & senior   \\\\\n",
       "\t 15 & Grantham, Donte    & F & 80 & 205 & freshman \\\\\n",
       "\t 20 & Roper, Jordan      & G & 72 & 165 & junior   \\\\\n",
       "\t 21 & Harrison, Damarcus & G & 76 & 205 & senior   \\\\\n",
       "\t 33 & Smith, Josh        & F & 80 & 245 & junior   \\\\\n",
       "\t 35 & Nnoko, Landry      & C & 82 & 255 & junior   \\\\\n",
       "\t 44 & McGillan, Riley    & G & 72 & 175 & junior   \\\\\n",
       "\t 50 & Djitte, Sidy       & C & 82 & 240 & sophomore\\\\\n",
       "\\end{tabular}\n"
      ],
      "text/markdown": [
       "\n",
       "A data.frame: 13 × 6\n",
       "\n",
       "| Jersey &lt;int&gt; | Name &lt;chr&gt; | Position &lt;chr&gt; | Inches &lt;int&gt; | Pounds &lt;int&gt; | Class &lt;chr&gt; |\n",
       "|---|---|---|---|---|---|\n",
       "|  0 | Rooks, Patrick     | G | 74 | 190 | freshman  |\n",
       "|  1 | Ajukwa, Austin     | G | 78 | 205 | sophomore |\n",
       "|  3 | Holmes, Avry       | G | 74 | 205 | junior    |\n",
       "|  5 | Blossomgame, Jaron | F | 79 | 215 | sophomore |\n",
       "| 10 | DeVoe, Gabe        | G | 75 | 200 | freshman  |\n",
       "| 12 | Hall, Rod          | G | 73 | 205 | senior    |\n",
       "| 15 | Grantham, Donte    | F | 80 | 205 | freshman  |\n",
       "| 20 | Roper, Jordan      | G | 72 | 165 | junior    |\n",
       "| 21 | Harrison, Damarcus | G | 76 | 205 | senior    |\n",
       "| 33 | Smith, Josh        | F | 80 | 245 | junior    |\n",
       "| 35 | Nnoko, Landry      | C | 82 | 255 | junior    |\n",
       "| 44 | McGillan, Riley    | G | 72 | 175 | junior    |\n",
       "| 50 | Djitte, Sidy       | C | 82 | 240 | sophomore |\n",
       "\n"
      ],
      "text/plain": [
       "   Jersey Name               Position Inches Pounds Class    \n",
       "1   0     Rooks, Patrick     G        74     190    freshman \n",
       "2   1     Ajukwa, Austin     G        78     205    sophomore\n",
       "3   3     Holmes, Avry       G        74     205    junior   \n",
       "4   5     Blossomgame, Jaron F        79     215    sophomore\n",
       "5  10     DeVoe, Gabe        G        75     200    freshman \n",
       "6  12     Hall, Rod          G        73     205    senior   \n",
       "7  15     Grantham, Donte    F        80     205    freshman \n",
       "8  20     Roper, Jordan      G        72     165    junior   \n",
       "9  21     Harrison, Damarcus G        76     205    senior   \n",
       "10 33     Smith, Josh        F        80     245    junior   \n",
       "11 35     Nnoko, Landry      C        82     255    junior   \n",
       "12 44     McGillan, Riley    G        72     175    junior   \n",
       "13 50     Djitte, Sidy       C        82     240    sophomore"
      ]
     },
     "metadata": {},
     "output_type": "display_data"
    }
   ],
   "source": [
    "View(roster)"
   ]
  },
  {
   "cell_type": "code",
   "execution_count": 44,
   "id": "181a859b-5048-44ce-a814-ad642f0ccb75",
   "metadata": {},
   "outputs": [
    {
     "data": {
      "text/html": [
       "<table class=\"dataframe\">\n",
       "<caption>A data.frame: 6 × 6</caption>\n",
       "<thead>\n",
       "\t<tr><th></th><th scope=col>Jersey</th><th scope=col>Name</th><th scope=col>Position</th><th scope=col>Inches</th><th scope=col>Pounds</th><th scope=col>Class</th></tr>\n",
       "\t<tr><th></th><th scope=col>&lt;int&gt;</th><th scope=col>&lt;chr&gt;</th><th scope=col>&lt;chr&gt;</th><th scope=col>&lt;int&gt;</th><th scope=col>&lt;int&gt;</th><th scope=col>&lt;chr&gt;</th></tr>\n",
       "</thead>\n",
       "<tbody>\n",
       "\t<tr><th scope=row>1</th><td> 0</td><td>Rooks, Patrick    </td><td>G</td><td>74</td><td>190</td><td>freshman </td></tr>\n",
       "\t<tr><th scope=row>2</th><td> 1</td><td>Ajukwa, Austin    </td><td>G</td><td>78</td><td>205</td><td>sophomore</td></tr>\n",
       "\t<tr><th scope=row>3</th><td> 3</td><td>Holmes, Avry      </td><td>G</td><td>74</td><td>205</td><td>junior   </td></tr>\n",
       "\t<tr><th scope=row>4</th><td> 5</td><td>Blossomgame, Jaron</td><td>F</td><td>79</td><td>215</td><td>sophomore</td></tr>\n",
       "\t<tr><th scope=row>5</th><td>10</td><td>DeVoe, Gabe       </td><td>G</td><td>75</td><td>200</td><td>freshman </td></tr>\n",
       "\t<tr><th scope=row>6</th><td>12</td><td>Hall, Rod         </td><td>G</td><td>73</td><td>205</td><td>senior   </td></tr>\n",
       "</tbody>\n",
       "</table>\n"
      ],
      "text/latex": [
       "A data.frame: 6 × 6\n",
       "\\begin{tabular}{r|llllll}\n",
       "  & Jersey & Name & Position & Inches & Pounds & Class\\\\\n",
       "  & <int> & <chr> & <chr> & <int> & <int> & <chr>\\\\\n",
       "\\hline\n",
       "\t1 &  0 & Rooks, Patrick     & G & 74 & 190 & freshman \\\\\n",
       "\t2 &  1 & Ajukwa, Austin     & G & 78 & 205 & sophomore\\\\\n",
       "\t3 &  3 & Holmes, Avry       & G & 74 & 205 & junior   \\\\\n",
       "\t4 &  5 & Blossomgame, Jaron & F & 79 & 215 & sophomore\\\\\n",
       "\t5 & 10 & DeVoe, Gabe        & G & 75 & 200 & freshman \\\\\n",
       "\t6 & 12 & Hall, Rod          & G & 73 & 205 & senior   \\\\\n",
       "\\end{tabular}\n"
      ],
      "text/markdown": [
       "\n",
       "A data.frame: 6 × 6\n",
       "\n",
       "| <!--/--> | Jersey &lt;int&gt; | Name &lt;chr&gt; | Position &lt;chr&gt; | Inches &lt;int&gt; | Pounds &lt;int&gt; | Class &lt;chr&gt; |\n",
       "|---|---|---|---|---|---|---|\n",
       "| 1 |  0 | Rooks, Patrick     | G | 74 | 190 | freshman  |\n",
       "| 2 |  1 | Ajukwa, Austin     | G | 78 | 205 | sophomore |\n",
       "| 3 |  3 | Holmes, Avry       | G | 74 | 205 | junior    |\n",
       "| 4 |  5 | Blossomgame, Jaron | F | 79 | 215 | sophomore |\n",
       "| 5 | 10 | DeVoe, Gabe        | G | 75 | 200 | freshman  |\n",
       "| 6 | 12 | Hall, Rod          | G | 73 | 205 | senior    |\n",
       "\n"
      ],
      "text/plain": [
       "  Jersey Name               Position Inches Pounds Class    \n",
       "1  0     Rooks, Patrick     G        74     190    freshman \n",
       "2  1     Ajukwa, Austin     G        78     205    sophomore\n",
       "3  3     Holmes, Avry       G        74     205    junior   \n",
       "4  5     Blossomgame, Jaron F        79     215    sophomore\n",
       "5 10     DeVoe, Gabe        G        75     200    freshman \n",
       "6 12     Hall, Rod          G        73     205    senior   "
      ]
     },
     "metadata": {},
     "output_type": "display_data"
    }
   ],
   "source": [
    "head(roster)"
   ]
  },
  {
   "cell_type": "code",
   "execution_count": 43,
   "id": "93eb5d43-bf84-4ea5-8174-3502b927f168",
   "metadata": {},
   "outputs": [
    {
     "name": "stdout",
     "output_type": "stream",
     "text": [
      "'data.frame':\t13 obs. of  6 variables:\n",
      " $ Jersey  : int  0 1 3 5 10 12 15 20 21 33 ...\n",
      " $ Name    : chr  \"Rooks, Patrick\" \"Ajukwa, Austin\" \"Holmes, Avry\" \"Blossomgame, Jaron\" ...\n",
      " $ Position: chr  \"G\" \"G\" \"G\" \"F\" ...\n",
      " $ Inches  : int  74 78 74 79 75 73 80 72 76 80 ...\n",
      " $ Pounds  : int  190 205 205 215 200 205 205 165 205 245 ...\n",
      " $ Class   : chr  \"freshman\" \"sophomore\" \"junior\" \"sophomore\" ...\n"
     ]
    }
   ],
   "source": [
    "str(roster)"
   ]
  },
  {
   "cell_type": "code",
   "execution_count": 15,
   "id": "0ea83cf2-7720-4beb-9699-1d6d3cc0dd66",
   "metadata": {},
   "outputs": [
    {
     "ename": "ERROR",
     "evalue": "Error in as.ts(x): object 'Copy_of_Animals' not found\n",
     "output_type": "error",
     "traceback": [
      "Error in as.ts(x): object 'Copy_of_Animals' not found\nTraceback:\n",
      "1. filter(Copy_of_Animals, Animal != \"Gold Fish\")",
      "2. as.ts(x)"
     ]
    }
   ],
   "source": [
    "mammals <- filter(Copy_of_Animals, Animal != \"Gold Fish\")\n",
    "mammals"
   ]
  },
  {
   "cell_type": "code",
   "execution_count": null,
   "id": "038abc5c-a073-47a6-bdc0-b1ac784c3283",
   "metadata": {},
   "outputs": [],
   "source": []
  }
 ],
 "metadata": {
  "kernelspec": {
   "display_name": "R",
   "language": "R",
   "name": "ir"
  },
  "language_info": {
   "codemirror_mode": "r",
   "file_extension": ".r",
   "mimetype": "text/x-r-source",
   "name": "R",
   "pygments_lexer": "r",
   "version": "4.1.1"
  }
 },
 "nbformat": 4,
 "nbformat_minor": 5
}
