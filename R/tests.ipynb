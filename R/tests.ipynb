{
 "cells": [
  {
   "cell_type": "code",
   "execution_count": 1,
   "id": "fb2a206d-ca6a-48e9-8913-cc88f39c5971",
   "metadata": {},
   "outputs": [
    {
     "data": {
      "text/plain": [
       "               _                           \n",
       "platform       x86_64-apple-darwin17.0     \n",
       "arch           x86_64                      \n",
       "os             darwin17.0                  \n",
       "system         x86_64, darwin17.0          \n",
       "status                                     \n",
       "major          4                           \n",
       "minor          1.0                         \n",
       "year           2021                        \n",
       "month          05                          \n",
       "day            18                          \n",
       "svn rev        80317                       \n",
       "language       R                           \n",
       "version.string R version 4.1.0 (2021-05-18)\n",
       "nickname       Camp Pontanezen             "
      ]
     },
     "metadata": {},
     "output_type": "display_data"
    }
   ],
   "source": [
    "version"
   ]
  },
  {
   "cell_type": "code",
   "execution_count": 2,
   "id": "e3482370-da96-43c2-ae98-e07e7a2e6b18",
   "metadata": {},
   "outputs": [
    {
     "data": {
      "text/html": [
       "No documentation for ‘ggplot2’ in specified packages and libraries:\n",
       "you could try ‘??ggplot2’"
      ],
      "text/latex": [
       "No documentation for ‘ggplot2’ in specified packages and libraries:\n",
       "you could try ‘??ggplot2’"
      ],
      "text/plain": [
       "No documentation for ‘ggplot2’ in specified packages and libraries:\n",
       "you could try ‘??ggplot2’"
      ]
     },
     "metadata": {},
     "output_type": "display_data"
    }
   ],
   "source": [
    "help(ggplot2)"
   ]
  },
  {
   "cell_type": "code",
   "execution_count": 3,
   "id": "24319186-b772-45ac-8fb2-6ad891fadde7",
   "metadata": {},
   "outputs": [
    {
     "data": {
      "text/plain": [
       "R Information\n",
       "\n",
       "Vignettes with name or keyword or title matching ‘ggplot2’ using fuzzy\n",
       "matching:\n",
       "\n",
       "\n",
       "ggplot2::extending-ggplot2\n",
       "                        Extending ggplot2\n",
       "ggplot2::ggplot2-in-packages\n",
       "                        Using ggplot2 in packages\n",
       "ggplot2::ggplot2-specs\n",
       "                        Aesthetic specifications\n",
       "\n",
       "\n",
       "Type 'vignette(\"FOO\", package=\"PKG\")' to inspect entries 'PKG::FOO'.\n",
       "\n",
       "\n",
       "\n",
       "Help files with alias or concept or title matching ‘ggplot2’ using\n",
       "fuzzy matching:\n",
       "\n",
       "\n",
       "colorspace::scale_colour_binned_diverging\n",
       "                        HCL-Based Binned Diverging Color Scales for\n",
       "                        ggplot2\n",
       "colorspace::scale_colour_binned_divergingx\n",
       "                        HCL-Based Binned Flexible Diverging Scales for\n",
       "                        ggplot2\n",
       "colorspace::scale_colour_binned_qualitative\n",
       "                        HCL-Based Binned Qualitative Color Scales for\n",
       "                        ggplot2\n",
       "colorspace::scale_colour_binned_sequential\n",
       "                        HCL-Based Binned Sequential Color Scales for\n",
       "                        ggplot2\n",
       "colorspace::scale_colour_continuous_diverging\n",
       "                        HCL-Based Continuous Diverging Color Scales for\n",
       "                        ggplot2\n",
       "colorspace::scale_colour_continuous_divergingx\n",
       "                        HCL-Based Continuous Flexible Diverging Scales\n",
       "                        for ggplot2\n",
       "colorspace::scale_colour_continuous_qualitative\n",
       "                        HCL-Based Continuous Qualitative Color Scales\n",
       "                        for ggplot2\n",
       "colorspace::scale_colour_continuous_sequential\n",
       "                        HCL-Based Continuous Sequential Color Scales\n",
       "                        for ggplot2\n",
       "colorspace::scale_colour_discrete_diverging\n",
       "                        HCL-Based Discrete Diverging Color Scales for\n",
       "                        ggplot2\n",
       "colorspace::scale_colour_discrete_divergingx\n",
       "                        HCL-Based Discrete Flexible Diverging Scales\n",
       "                        for ggplot2\n",
       "colorspace::scale_colour_discrete_qualitative\n",
       "                        HCL-Based Discrete Qualitative Color Scales for\n",
       "                        ggplot2\n",
       "colorspace::scale_colour_discrete_sequential\n",
       "                        HCL-Based Discrete Sequential Color Scales for\n",
       "                        ggplot2\n",
       "ggplot2::autolayer      Create a ggplot layer appropriate to a\n",
       "                        particular data type\n",
       "ggplot2::autoplot       Create a complete ggplot appropriate to a\n",
       "                        particular data type\n",
       "ggplot2::ggplot         Create a new ggplot\n",
       "  Aliases: ggplot\n",
       "ggplot2::ggplot_add     Add custom objects to ggplot\n",
       "  Aliases: ggplot_add\n",
       "ggplot2::ggplot_build   Build ggplot for rendering.\n",
       "  Aliases: ggplot_build\n",
       "ggplot2::ggplot_gtable\n",
       "                        Build a plot with all the usual bits and\n",
       "                        pieces.\n",
       "  Aliases: ggplot_gtable\n",
       "ggplot2::ggplot2        ggplot2: Create Elegant Data Visualisations\n",
       "                        Using the Grammar of Graphics\n",
       "  Aliases: ggplot2, ggplot2-package\n",
       "ggplot2::ggplot2-ggproto\n",
       "                        Base ggproto classes for ggplot2\n",
       "  Aliases: ggplot2-ggproto\n",
       "ggplot2::ggplotGrob     Generate a ggplot2 plot grob.\n",
       "  Aliases: ggplotGrob\n",
       "ggplot2::ggsave         Save a ggplot (or other grid object) with\n",
       "                        sensible defaults\n",
       "ggplot2::is.ggplot      Reports whether x is a ggplot object\n",
       "  Aliases: is.ggplot\n",
       "ggplot2::print.ggplot   Explicitly draw plot\n",
       "  Aliases: print.ggplot, plot.ggplot\n",
       "ggplot2::summary.ggplot\n",
       "                        Displays a useful description of a ggplot\n",
       "                        object\n",
       "  Aliases: summary.ggplot\n",
       "ggplot2::translate_qplot_ggplot\n",
       "                        Translating between qplot and ggplot\n",
       "  Aliases: translate_qplot_ggplot\n",
       "modelr::geom_ref_line   Add a reference line (ggplot2).\n",
       "repr::repr_plotly1.*    Representation as Plotly JSON.\n",
       "  Aliases: repr_plotly1.ggplot\n",
       "scales::demo_continuous\n",
       "                        Demonstrate scales functions with ggplot2 code\n",
       "\n",
       "\n",
       "Type '?PKG::FOO' to inspect entries 'PKG::FOO', or 'TYPE?PKG::FOO' for\n",
       "entries like 'PKG::FOO-TYPE'.\n",
       "\n",
       "\n"
      ]
     },
     "metadata": {},
     "output_type": "display_data"
    }
   ],
   "source": [
    "??ggplot2"
   ]
  },
  {
   "cell_type": "code",
   "execution_count": null,
   "id": "d4fc42e8-6c3a-4ace-98e2-faf70ebbb014",
   "metadata": {},
   "outputs": [],
   "source": []
  }
 ],
 "metadata": {
  "kernelspec": {
   "display_name": "R",
   "language": "R",
   "name": "ir"
  },
  "language_info": {
   "codemirror_mode": "r",
   "file_extension": ".r",
   "mimetype": "text/x-r-source",
   "name": "R",
   "pygments_lexer": "r",
   "version": "4.1.0"
  }
 },
 "nbformat": 4,
 "nbformat_minor": 5
}
