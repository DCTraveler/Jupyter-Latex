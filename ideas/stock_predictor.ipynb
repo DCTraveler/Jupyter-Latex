{
 "cells": [
  {
   "cell_type": "markdown",
   "id": "a2758547-0263-4d67-9bb4-dfbcdf7582f3",
   "metadata": {},
   "source": [
    "stock related\n",
    "take a batch of fortune 500, run their ticket price\n",
    "ticker\n",
    "with hiring\n",
    "so when they have loads of jobs posted, we want to correlate that to stock price, past and future\n"
   ]
  },
  {
   "cell_type": "code",
   "execution_count": null,
   "id": "b2937945-62ed-420f-a296-84af8dab1f6d",
   "metadata": {},
   "outputs": [],
   "source": []
  }
 ],
 "metadata": {
  "kernelspec": {
   "display_name": "Python 3",
   "language": "python",
   "name": "python3"
  },
  "language_info": {
   "codemirror_mode": {
    "name": "ipython",
    "version": 3
   },
   "file_extension": ".py",
   "mimetype": "text/x-python",
   "name": "python",
   "nbconvert_exporter": "python",
   "pygments_lexer": "ipython3",
   "version": "3.8.8"
  }
 },
 "nbformat": 4,
 "nbformat_minor": 5
}
