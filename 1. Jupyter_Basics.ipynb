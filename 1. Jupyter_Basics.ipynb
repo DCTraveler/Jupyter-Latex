{
 "cells": [
  {
   "cell_type": "markdown",
   "metadata": {},
   "source": [
    "<!-- can use locally only, not rendering on github<img src=\"https://jupyter.org/assets/main-logo.svg\" alt=\"Jupyter Logo\" width= \"200\" /> -->\n"
   ]
  },
  {
   "cell_type": "code",
   "execution_count": null,
   "metadata": {},
   "outputs": [],
   "source": [
    "from IPython.display import Image\n",
    "Image(filename='images/Jupyter_Project.png')"
   ]
  },
  {
   "cell_type": "markdown",
   "metadata": {},
   "source": [
    "Project Jupyter exists to develop open-source software, open-standards, and services for interactive computing across dozens of programming languages.\n",
    "\n",
    "Project Jupyter is a non-profit, open-source project, born out of the IPython Project in 2014 as it evolved to support interactive data science and scientific computing across all programming languages. Jupyter will always be 100% open-source software, free for all to use and released under the liberal terms of the modified BSD license.\n",
    "\n",
    "Jupyter is developed in the open on GitHub, through the consensus of the Jupyter community. For more information on our governance approach, please see our Governance Document.\n",
    "\n",
    "All online and in-person interactions and communications directly related to the project are covered by the Jupyter Code of Conduct. This Code of Conduct sets expectations to enable a diverse community of users and contributors to participate in the project with respect and safety.\n",
    "\n",
    "[Home](https://jupyter.org/index.html) \n",
    "[About](https://jupyter.org/about)\n",
    "[Install](https://jupyter.org/install)\n",
    "[Community](https://jupyter.org/community)\n",
    "[Documentation](https://jupyter.org/documentation)\n",
    "[nbviewer](https://nbviewer.jupyter.org/)\n",
    "[JupyterHub](https://jupyter.org/hub)\n",
    "[Widgets](https://jupyter.org/widgets)\n",
    "[Blog](https://blog.jupyter.org/)\n",
    "***\n",
    "\n",
    "\n",
    "Jupyter Notebook provides a browser-based REPL built upon a number of popular open-source libraries:\n",
    "\n",
    "[IPython](https://en.wikipedia.org/wiki/IPython) | [ØMQ](https://en.wikipedia.org/wiki/ZeroMQ) | [Tornado](https://en.wikipedia.org/wiki/Tornado_(web_server)) | [jQuery](https://en.wikipedia.org/wiki/JQuery) | \n",
    "[Bootstrap](https://en.wikipedia.org/wiki/Bootstrap_(front-end_framework)) | [MathJax](https://en.wikipedia.org/wiki/MathJax)"
   ]
  },
  {
   "cell_type": "markdown",
   "metadata": {},
   "source": [
    "<!-- can use locally only, not rendering on github<img src=\"https://jupyter.org/assets/labpreview.png\" alt=\"JupyterLab\" width= \"800\"/> -->"
   ]
  },
  {
   "cell_type": "code",
   "execution_count": null,
   "metadata": {},
   "outputs": [],
   "source": [
    "Image(url='https://jupyter.org/assets/labpreview.png')"
   ]
  },
  {
   "cell_type": "markdown",
   "metadata": {},
   "source": [
    "### JupyterLab 1.0: Jupyter’s Next-Generation Notebook Interface\n",
    "JupyterLab is a web-based interactive development environment for Jupyter notebooks, code, and data. JupyterLab is flexible: configure and arrange the user interface to support a wide range of workflows in data science, scientific computing, and machine learning. JupyterLab is extensible and modular: write plugins that add new components and integrate with existing ones."
   ]
  },
  {
   "cell_type": "markdown",
   "metadata": {},
   "source": [
    "<!-- can use locally only, not rendering on github <img src=\"https://jupyter.org/assets/jupyterpreview.png\" alt=\"JupyterLab\" width= \"800\"/> -->"
   ]
  },
  {
   "cell_type": "code",
   "execution_count": null,
   "metadata": {},
   "outputs": [],
   "source": [
    "Image(url='https://jupyter.org/assets/jupyterpreview.png')"
   ]
  },
  {
   "cell_type": "markdown",
   "metadata": {},
   "source": [
    "### The Jupyter Notebook\n",
    "The Jupyter Notebook is an open-source web application that allows you to create and share documents that contain live code, equations, visualizations and narrative text. Uses include: data cleaning and transformation, numerical simulation, statistical modeling, data visualization, machine learning, and much more."
   ]
  },
  {
   "cell_type": "markdown",
   "metadata": {},
   "source": [
    "If you want to install just Jupyter Notebook while following along https://jupyter.org/install.html"
   ]
  },
  {
   "cell_type": "markdown",
   "metadata": {},
   "source": [
    "<!-- can use locally only, not rendering on github <img src=\"https://www.anaconda.com/wp-content/uploads/2018/06/cropped-Anaconda_horizontal_RGB-1-600x102.png\" alt=\"Anaconda\" width=\"800\"/> -->"
   ]
  },
  {
   "cell_type": "code",
   "execution_count": null,
   "metadata": {},
   "outputs": [],
   "source": [
    "Image(url='https://www.anaconda.com/wp-content/uploads/2018/06/cropped-Anaconda_horizontal_RGB-1-600x102.png')"
   ]
  },
  {
   "cell_type": "markdown",
   "metadata": {},
   "source": [
    "If you want to install Anaconda while you're following along https://www.anaconda.com/distribution/"
   ]
  },
  {
   "cell_type": "markdown",
   "metadata": {},
   "source": [
    "Many researchers download Anaconda which contains many of the environments used to wrangle data."
   ]
  },
  {
   "cell_type": "markdown",
   "metadata": {},
   "source": [
    "<!-- can use locally only, not rendering on github <img src=\"https://www.anaconda.com/wp-content/uploads/2018/11/distro-01-1.png\" alt=\"Environments\" width =\"800\"/> -->"
   ]
  },
  {
   "cell_type": "code",
   "execution_count": null,
   "metadata": {
    "scrolled": true
   },
   "outputs": [],
   "source": [
    "Image(url='https://www.anaconda.com/wp-content/uploads/2018/11/distro-01-1.png')"
   ]
  },
  {
   "cell_type": "markdown",
   "metadata": {},
   "source": [
    "Let's focus back on Jupyter which really is one of the best ways to articulate your research and share ideas.\n",
    "\n",
    "The __Jupyter Project__ comprises a few choice environments in which to utilize. You can create and share simple Jupyter Notebooks using the command 'jupyter notebook', this will start a local server and you start working in your web browser. This is the simplest way to get started. As you progress and want to extend or adapt __Juptyer Notebook__ to your specific environment, you can utilize __Juptyer Lab__. Both Jupyter Notebook and Lab are utilized in a variety of projects."
   ]
  },
  {
   "cell_type": "markdown",
   "metadata": {},
   "source": [
    "<!-- can use locally only, not rendering on github <img src=\"https://jupyter.org/assets/hublogo.svg\" alt=\"JupyterHub\" width =\"800\"/> -->"
   ]
  },
  {
   "cell_type": "code",
   "execution_count": null,
   "metadata": {},
   "outputs": [],
   "source": [
    "Image(url='https://jupyter.org/assets/hublogo.svg')"
   ]
  },
  {
   "cell_type": "markdown",
   "metadata": {},
   "source": [
    "Another Jupyter project utilized by large enterprises is __JuptyerHub__. With __JupyterHub__ you can create a multi-user Hub which spawns, manages, and proxies multiple instances of the single-user Jupyter notebook server.\n",
    "\n",
    "__Project Jupyter__ created __JupyterHub__ to support many users. The Hub can offer notebook servers to a class of students, a corporate data science workgroup, a scientific research project, or a high performance computing group."
   ]
  },
  {
   "cell_type": "markdown",
   "metadata": {},
   "source": [
    "<!-- can use locally only, not rendering on github <img src=\"https://jupyter.org/assets/voilapreview.png\" alt=\"Voila'\" width =\"800\"/> -->"
   ]
  },
  {
   "cell_type": "code",
   "execution_count": null,
   "metadata": {},
   "outputs": [],
   "source": [
    "Image(url='https://jupyter.org/assets/voilapreview.png')"
   ]
  },
  {
   "cell_type": "markdown",
   "metadata": {},
   "source": [
    "Last but not least, you can communicate your results with __Voilà__.\n",
    "__Voilà__ helps you communicate insights, by transforming a __Jupyter Notebook__ into a stand-alone web application you can share. It gives you control over what your readers experience in a secure and customizable interactive dashboard."
   ]
  },
  {
   "cell_type": "markdown",
   "metadata": {},
   "source": [
    "Many of the leading research companies and institutions are using Jupyter."
   ]
  },
  {
   "cell_type": "markdown",
   "metadata": {},
   "source": [
    "<!-- can use locally only, not rendering on github <img src=\"images/colab.png\" alt=\"Google Colab\" width =\"800\"/> -->"
   ]
  },
  {
   "cell_type": "code",
   "execution_count": null,
   "metadata": {},
   "outputs": [],
   "source": [
    "Image(url='images/colab.png')"
   ]
  },
  {
   "cell_type": "code",
   "execution_count": null,
   "metadata": {},
   "outputs": [],
   "source": [
    "Image(url='images/SageMaker_Studio.png')"
   ]
  },
  {
   "cell_type": "code",
   "execution_count": null,
   "metadata": {},
   "outputs": [],
   "source": [
    "Image(url='images/Azure_Jupyter.png')"
   ]
  },
  {
   "cell_type": "markdown",
   "metadata": {},
   "source": [
    "## Jupyter kernels"
   ]
  },
  {
   "cell_type": "code",
   "execution_count": null,
   "metadata": {},
   "outputs": [],
   "source": [
    "import numpy as np\n",
    "from pandas import Series, DataFrame\n",
    "import pandas as pd"
   ]
  },
  {
   "cell_type": "code",
   "execution_count": null,
   "metadata": {},
   "outputs": [],
   "source": [
    "#Quicklearn DataFrames\n",
    "\n",
    "#Let's get some data to play with. How about the Jupyter Kernels github\n",
    "import webbrowser\n",
    "website = 'https://github.com/jupyter/jupyter/wiki/Jupyter-kernels'\n",
    "webbrowser.open(website)"
   ]
  },
  {
   "cell_type": "code",
   "execution_count": null,
   "metadata": {},
   "outputs": [],
   "source": [
    "#Copy and read to get data\n",
    "kernels = pd.read_clipboard()"
   ]
  },
  {
   "cell_type": "code",
   "execution_count": null,
   "metadata": {},
   "outputs": [],
   "source": [
    "#show\n",
    "kernels"
   ]
  },
  {
   "cell_type": "code",
   "execution_count": null,
   "metadata": {},
   "outputs": [],
   "source": [
    "# We can view the column names with .columns\n",
    "kernels.columns"
   ]
  },
  {
   "cell_type": "code",
   "execution_count": null,
   "metadata": {},
   "outputs": [],
   "source": [
    "#View specific data columns\n",
    "DataFrame(kernels,columns=['Name','Language(s) Version','Notes'])"
   ]
  },
  {
   "cell_type": "code",
   "execution_count": null,
   "metadata": {},
   "outputs": [],
   "source": [
    "#We can view/retrieive individual columns\n",
    "kernels.Name"
   ]
  },
  {
   "cell_type": "code",
   "execution_count": null,
   "metadata": {},
   "outputs": [],
   "source": [
    "#We can retrieve rows through indexing\n",
    "kernels.loc[10]"
   ]
  },
  {
   "cell_type": "code",
   "execution_count": null,
   "metadata": {},
   "outputs": [],
   "source": [
    "#Can also view an index range\n",
    "kernels[5:30]"
   ]
  },
  {
   "cell_type": "code",
   "execution_count": null,
   "metadata": {},
   "outputs": [],
   "source": [
    "#Another way to select and view multiple columns\n",
    "kernels[['Name','Language(s) Version']]"
   ]
  },
  {
   "cell_type": "code",
   "execution_count": null,
   "metadata": {},
   "outputs": [],
   "source": [
    "#You can also use boolean to ask questions\n",
    "kernels[kernels['Language(s) Version']=='NodeJs 12']"
   ]
  },
  {
   "cell_type": "code",
   "execution_count": null,
   "metadata": {},
   "outputs": [],
   "source": [
    "# let's install a custom jupyter theme\n",
    "#!pip install jupyterthemes"
   ]
  },
  {
   "cell_type": "code",
   "execution_count": null,
   "metadata": {},
   "outputs": [],
   "source": [
    "#list installed themes\n",
    "! jt -l"
   ]
  },
  {
   "cell_type": "code",
   "execution_count": null,
   "metadata": {},
   "outputs": [],
   "source": [
    "#install a themes\n",
    "! jt -t chesterish"
   ]
  },
  {
   "cell_type": "code",
   "execution_count": null,
   "metadata": {},
   "outputs": [],
   "source": [
    "# to restore\n",
    "! jt -r"
   ]
  },
  {
   "cell_type": "code",
   "execution_count": null,
   "metadata": {},
   "outputs": [],
   "source": []
  }
 ],
 "metadata": {
  "kernelspec": {
   "display_name": "Python 3",
   "language": "python",
   "name": "python3"
  },
  "language_info": {
   "codemirror_mode": {
    "name": "ipython",
    "version": 3
   },
   "file_extension": ".py",
   "mimetype": "text/x-python",
   "name": "python",
   "nbconvert_exporter": "python",
   "pygments_lexer": "ipython3",
   "version": "3.7.4"
  }
 },
 "nbformat": 4,
 "nbformat_minor": 4
}
