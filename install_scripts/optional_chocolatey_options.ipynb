{
 "cells": [
  {
   "cell_type": "markdown",
   "id": "f419593d-c231-4a68-a115-0a498491172a",
   "metadata": {},
   "source": [
    "## Optional Chocolatey installation options\n",
    "\n",
    "- [Install from PowerShell v3+](https://docs.chocolatey.org/en-us/choco/setup#install-from-powershell-v3)\n",
    "- [Completely offline/internal install](https://docs.chocolatey.org/en-us/choco/setup#completely-offline-install)\n",
    "- [Install with Puppet](https://docs.chocolatey.org/en-us/choco/setup#install-with-puppet)\n",
    "- [Install using PowerShell from cmd.exe](https://docs.chocolatey.org/en-us/choco/setup#install-using-powershell-from-cmd.exe)\n",
    "- [Install using NuGet Package Manager](https://docs.chocolatey.org/en-us/choco/setup#install-using-nuget-package-manager)\n",
    "- [Install using NuGet.exe from PowerShell](https://docs.chocolatey.org/en-us/choco/setup#install-using-nuget.exe-from-powershell)\n",
    "- [Install downloaded NuGet package from PowerShell](https://docs.chocolatey.org/en-us/choco/setup#install-downloaded-nuget-package-from-powershell)\n",
    "- [Install licensed edition](https://docs.chocolatey.org/en-us/choco/setup#install-licensed-edition)\n",
    "- [Installing behind a proxy](https://docs.chocolatey.org/en-us/choco/setup#installing-behind-a-proxy)\n",
    "- [Installing behind an explicit proxy](https://docs.chocolatey.org/en-us/choco/setup#installing-behind-an-explicit-proxy)\n",
    "- [Installing to a different location](https://docs.chocolatey.org/en-us/choco/setup#installing-to-a-different-location)\n",
    "- [Installing a particular version of Chocolatey](https://docs.chocolatey.org/en-us/choco/setup#installing-a-particular-version-of-chocolatey)\n",
    "- [Use Windows built-in compression instead of downloading 7zip](https://docs.chocolatey.org/en-us/choco/setup#use-windows-built-in-compression-instead-of-downloading-7zip)\n",
    "- [Installing with restricted TLS](https://docs.chocolatey.org/en-us/choco/setup#installing-with-restricted-tls)\n",
    "- [Non-Administrative install](https://docs.chocolatey.org/en-us/choco/setup#non-administrative-install)"
   ]
  },
  {
   "cell_type": "code",
   "execution_count": null,
   "id": "7a75b961-2d1b-4cc8-97ba-ebab2bf8359b",
   "metadata": {},
   "outputs": [],
   "source": []
  }
 ],
 "metadata": {
  "kernelspec": {
   "display_name": "Python 3",
   "language": "python",
   "name": "python3"
  },
  "language_info": {
   "codemirror_mode": {
    "name": "ipython",
    "version": 3
   },
   "file_extension": ".py",
   "mimetype": "text/x-python",
   "name": "python",
   "nbconvert_exporter": "python",
   "pygments_lexer": "ipython3",
   "version": "3.9.5"
  }
 },
 "nbformat": 4,
 "nbformat_minor": 5
}
