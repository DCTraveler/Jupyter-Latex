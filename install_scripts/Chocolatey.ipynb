{
 "cells": [
  {
   "cell_type": "markdown",
   "id": "22c14515-487c-43fb-bf61-f6c71b941dd3",
   "metadata": {},
   "source": [
    "[Home](https://chocolatey.org)\n",
    "[Why](https://chocolatey.org/why-chocolatey)\n",
    "[Compare](https://chocolatey.org/compare)\n",
    "[FOSS](https://chocolatey.org/products/#foss)\n",
    "[Community](https://community.chocolatey.org)\n",
    "[Blog](https://blog.chocolatey.org)\n",
    "[Packages](https://community.chocolatey.org/packages)\n",
    "[Docs](https://docs.chocolatey.org/en-us/)\n",
    "[Install](https://chocolatey.org/install)\n",
    "***\n",
    "\n",
    "# THE PACKAGE MANAGER FOR WINDOWS\n",
    "\n",
    "<img src=\"https://chocolatey.org/assets/images/global-shared/logo-square.svg\" align=\"left\" alt=\"Chocolatey image\" width = \"100\">\n",
    "\n",
    "\n",
    "## Modern Software Automation"
   ]
  },
  {
   "cell_type": "markdown",
   "id": "cb4b3c4d-9eb9-4c75-8851-d32b47c90100",
   "metadata": {},
   "source": [
    "## SETUP / INSTALL\n",
    "\n",
    "### Requirements\n",
    "\n",
    "- Windows 7+ / Windows Server 2003+\n",
    "- PowerShell v2+ (Not PowerShell Core yet though)(minimum is v3 for install from this website due to TLS 1.2 requirement)\n",
    "- .NET Framework 4+ (the installation will attempt to install .NET 4.0 if you do not have it installed)(minimum is 4.5 for install from this website due to TLS 1.2 requirement)\n",
    "\n",
    "That's it! All you need is choco.exe (that you get from the installation scripts) and you are good to go! No Visual Studio required.\n",
    "\n",
    "### Installing Chocolatey\n",
    "\n",
    "Chocolatey installs in seconds. You are just a few steps from running choco right now!\n",
    "\n",
    "1. First, ensure that you are using an [administrative shell](http://www.howtogeek.com/194041/how-to-open-the-command-prompt-as-administrator-in-windows-8.1/) - you can also install as a non-admin, check out Non-Administrative Installation.\n",
    "2. Copy the text specific to your command shell - cmd.exe or powershell.exe.\n",
    "3. Paste the copied text into your shell and press Enter.\n",
    "4. Wait a few seconds for the command to complete.\n",
    "5. If you don't see any errors, you are ready to use Chocolatey! Type choco or choco -? now, or see Getting Started for usage instructions."
   ]
  },
  {
   "cell_type": "markdown",
   "id": "7120a61c-78d5-4da4-aea8-79a801cb02e2",
   "metadata": {},
   "source": [
    "### Install with cmd.exe\n",
    "Run the following command:\n",
    "\n",
    "```console\n",
    "@\"%SystemRoot%\\System32\\WindowsPowerShell\\v1.0\\powershell.exe\" -NoProfile -InputFormat None -ExecutionPolicy Bypass -Command \"[System.Net.ServicePointManager]::SecurityProtocol = 3072; iex ((New-Object System.Net.WebClient).DownloadString('https://chocolatey.org/install.ps1'))\" && SET \"PATH=%PATH%;%ALLUSERSPROFILE%\\chocolatey\\bin\"\n",
    "```"
   ]
  },
  {
   "cell_type": "markdown",
   "id": "0dc8cd3f-7592-417d-ab49-95e594f44b80",
   "metadata": {},
   "source": [
    "### Install with PowerShell.exe\n",
    "\n",
    "With PowerShell, there is an additional step. You must ensure Get-ExecutionPolicy is not Restricted. We suggest using Bypass to bypass the policy to get things installed or AllSigned for quite a bit more security.\n",
    "\n",
    "- Run Get-ExecutionPolicy. If it returns Restricted, then run Set-ExecutionPolicy AllSigned or Set-ExecutionPolicy Bypass -Scope Process.\n",
    "- Now run the following command:\n",
    "\n",
    "```powershell\n",
    "Set-ExecutionPolicy Bypass -Scope Process -Force; [System.Net.ServicePointManager]::SecurityProtocol = [System.Net.ServicePointManager]::SecurityProtocol -bor 3072; iex ((New-Object System.Net.WebClient).DownloadString('https://chocolatey.org/install.ps1'))\n",
    "```"
   ]
  },
  {
   "cell_type": "markdown",
   "id": "b1b830e3-8a77-4a2f-8ff6-40f4a94e8ed4",
   "metadata": {},
   "source": [
    "### Additional considerations\n",
    "\n",
    "NOTE Please inspect https://chocolatey.org/install.ps1 prior to running any of these scripts to ensure safety. We already know it's safe, but you should verify the security and contents of any script from the internet you are not familiar with. All of these scripts download a remote PowerShell script and execute it on your machine.\n",
    "\n",
    "## More Install Options\n",
    "\n",
    "- [Install from PowerShell v3+](https://docs.chocolatey.org/en-us/choco/setup#install-from-powershell-v3)\n",
    "- [Completely offline/internal install](https://docs.chocolatey.org/en-us/choco/setup#completely-offline-install)\n",
    "- [Install with Puppet](https://docs.chocolatey.org/en-us/choco/setup#install-with-puppet)\n",
    "- [Install using PowerShell from cmd.exe](https://docs.chocolatey.org/en-us/choco/setup#install-using-powershell-from-cmd.exe)\n",
    "- [Install using NuGet Package Manager](https://docs.chocolatey.org/en-us/choco/setup#install-using-nuget-package-manager)\n",
    "- [Install using NuGet.exe from PowerShell](https://docs.chocolatey.org/en-us/choco/setup#install-using-nuget.exe-from-powershell)\n",
    "- [Install downloaded NuGet package from PowerShell](https://docs.chocolatey.org/en-us/choco/setup#install-downloaded-nuget-package-from-powershell)\n",
    "- [Install licensed edition](https://docs.chocolatey.org/en-us/choco/setup#install-licensed-edition)\n",
    "- [Installing behind a proxy](https://docs.chocolatey.org/en-us/choco/setup#installing-behind-a-proxy)\n",
    "- [Installing behind an explicit proxy](https://docs.chocolatey.org/en-us/choco/setup#installing-behind-an-explicit-proxy)\n",
    "- [Installing to a different location](https://docs.chocolatey.org/en-us/choco/setup#installing-to-a-different-location)\n",
    "- [Installing a particular version of Chocolatey](https://docs.chocolatey.org/en-us/choco/setup#installing-a-particular-version-of-chocolatey)\n",
    "- [Use Windows built-in compression instead of downloading 7zip](https://docs.chocolatey.org/en-us/choco/setup#use-windows-built-in-compression-instead-of-downloading-7zip)\n",
    "- [Installing with restricted TLS](https://docs.chocolatey.org/en-us/choco/setup#installing-with-restricted-tls)\n",
    "- [Non-Administrative install](https://docs.chocolatey.org/en-us/choco/setup#non-administrative-install)"
   ]
  },
  {
   "cell_type": "markdown",
   "id": "86fb38b3-bd97-449f-80b3-560433186968",
   "metadata": {},
   "source": [
    "## INSTALL THIS FOR YOUR DATA SCIENCE COURSE\n",
    "\n",
    "```powershell\n",
    "# Step 0: ensure you have a solid, high-bandwidth and unlimited \n",
    "# connection to the internet\n",
    "\n",
    "# Step 1: Open Powershell and run as Administrator\n",
    "\n",
    "# Step 2: Run this command to install Chocolately in Powershell\n",
    "Set-ExecutionPolicy Bypass -Scope Process -Force; [System.Net.ServicePointManager]::SecurityProtocol = [System.Net.ServicePointManager]::SecurityProtocol -bor 3072; iex ((New-Object System.Net.WebClient).DownloadString('https://chocolatey.org/install.ps1'))\n",
    "\n",
    "# Step 2: Close and Reopen Powershell for chocolately to take effect\n",
    "\n",
    "# Step 3: Install Data Science Applications\n",
    "choco install slack zoom python mysql mysql-python mysql.workbench mongodb r r.studio vscode tableau-public github-desktop anaconda3 speedtest \n",
    "#<Press A> for All\n",
    "\n",
    "# Step 4: reboot your computer\n",
    "```"
   ]
  }
 ],
 "metadata": {
  "kernelspec": {
   "display_name": "Python 3",
   "language": "python",
   "name": "python3"
  },
  "language_info": {
   "codemirror_mode": {
    "name": "ipython",
    "version": 3
   },
   "file_extension": ".py",
   "mimetype": "text/x-python",
   "name": "python",
   "nbconvert_exporter": "python",
   "pygments_lexer": "ipython3",
   "version": "3.8.11"
  }
 },
 "nbformat": 4,
 "nbformat_minor": 5
}
