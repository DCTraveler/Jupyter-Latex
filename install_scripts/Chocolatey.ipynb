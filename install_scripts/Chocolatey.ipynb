{
 "cells": [
  {
   "cell_type": "markdown",
   "id": "22c14515-487c-43fb-bf61-f6c71b941dd3",
   "metadata": {},
   "source": [
    "[Home](https://chocolatey.org)\n",
    "[Why](https://chocolatey.org/why-chocolatey)\n",
    "[Compare](https://chocolatey.org/compare)\n",
    "[FOSS](https://chocolatey.org/products/#foss)\n",
    "[Community](https://community.chocolatey.org)\n",
    "[Blog](https://blog.chocolatey.org)\n",
    "[Packages](https://community.chocolatey.org/packages)\n",
    "[Docs](https://docs.chocolatey.org/en-us/)\n",
    "[Install](https://chocolatey.org/install)\n",
    "***\n",
    "\n",
    "# THE PACKAGE MANAGER FOR WINDOWS\n",
    "\n",
    "<img src=\"https://chocolatey.org/assets/images/global-shared/logo-square.svg\" align=\"left\" alt=\"Chocolatey image\" width = \"100\">\n",
    "\n",
    "\n",
    "## Modern Software Automation"
   ]
  },
  {
   "cell_type": "markdown",
   "id": "c3975e12-3b2b-4bb8-b0ac-690e98dea2bf",
   "metadata": {},
   "source": [
    "## INSTALL THIS FOR OUR DATA SCIENCE COURSE\n",
    "\n",
    "```powershell\n",
    "# Step 0: ensure you have a solid, high-bandwidth and unlimited \n",
    "# connection to the internet\n",
    "\n",
    "# Step 1: Open Powershell and run as Administrator\n",
    "\n",
    "# Step 2: Run this command to install Chocolately in Powershell\n",
    "Set-ExecutionPolicy Bypass -Scope Process -Force; [System.Net.ServicePointManager]::SecurityProtocol = [System.Net.ServicePointManager]::SecurityProtocol -bor 3072; iex ((New-Object System.Net.WebClient).DownloadString('https://chocolatey.org/install.ps1'))\n",
    "\n",
    "# Step 3: Close and Reopen Powershell for chocolately to take effect\n",
    "\n",
    "# Step 4: Install Python and set PATH Note: that if python is already installed please uninstall\n",
    "choco install python3 --params \"/InstallDir:C:\\Python39\"\n",
    "#<Press A> for All\n",
    "\n",
    "# Step 5: Close and Reopen Powershell for python to be added to PATH\n",
    "\n",
    "# Step 6: Open a command prompt as adminstrator and Upgrade pip\n",
    "pip install --upgrade pip\n",
    "\n",
    "# Step 7: use the command prompt to Install Jupyter Lab\n",
    "pip install jupyterlab\n",
    "\n",
    "# Step 8: run Jupyter lab \"jupyter-lab\" in your terminal to ensure it's working the ctrl-c in terminal to stop\n",
    "\n",
    "# Step 9: Install Data Science Applications using powershell as administrator\n",
    "choco install git slack mysql mysql.workbench vscode mongodb-shell vscode-mongodb r r.studio tableau-public github-desktop speedtest gpower\n",
    "#<Press A> for All\n",
    "# gpower may or maynot work depending on the weather....\n",
    "\n",
    "# Step 10: Follow steps to connect Github Desktop to Github.com account/create new account\n",
    "\n",
    "# Step 11: Install R kernel into Jupyter\n",
    "# open a command prompt as administrator\n",
    "# cd C:\\Program Files\\R \n",
    "# select your current version of R-4.1.1 etc.\n",
    "# cd bin\n",
    "# R\n",
    "# an R prompt should open inside the command prompt/terminal\n",
    "# inside the R prompt install the below commands in order:\n",
    "\n",
    "install.packages(\"devtools\")\n",
    "\n",
    "devtools::install_github(\"IRkernel/IRkernel\")\n",
    "\n",
    "IRkernel::installspec()\n",
    "\n",
    "# Step 12: test jupyter-lab ensure you see an option for an R notebook\n",
    "\n",
    "# Step 13: give your computer a good reboot!\n",
    "```"
   ]
  },
  {
   "cell_type": "code",
   "execution_count": null,
   "id": "8cd30ce9-66b8-46ae-a9f2-cb0acb1d0394",
   "metadata": {},
   "outputs": [],
   "source": []
  }
 ],
 "metadata": {
  "kernelspec": {
   "display_name": "Python 3",
   "language": "python",
   "name": "python3"
  },
  "language_info": {
   "codemirror_mode": {
    "name": "ipython",
    "version": 3
   },
   "file_extension": ".py",
   "mimetype": "text/x-python",
   "name": "python",
   "nbconvert_exporter": "python",
   "pygments_lexer": "ipython3",
   "version": "3.9.5"
  }
 },
 "nbformat": 4,
 "nbformat_minor": 5
}
